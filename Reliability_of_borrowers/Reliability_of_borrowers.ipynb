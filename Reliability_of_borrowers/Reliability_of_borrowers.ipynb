{
 "cells": [
  {
   "cell_type": "markdown",
   "metadata": {},
   "source": [
    "# Исследование надёжности заёмщиков"
   ]
  },
  {
   "cell_type": "markdown",
   "metadata": {},
   "source": [
    "## Загрузка и обзор данных"
   ]
  },
  {
   "cell_type": "markdown",
   "metadata": {},
   "source": [
    "Импорт библиотек"
   ]
  },
  {
   "cell_type": "code",
   "execution_count": 45,
   "metadata": {},
   "outputs": [],
   "source": [
    "import pandas as pd\n",
    "from pymystem3 import Mystem\n",
    "m = Mystem()\n",
    "from collections import Counter"
   ]
  },
  {
   "cell_type": "markdown",
   "metadata": {},
   "source": [
    "Функция для обзора и отображания информации о данных"
   ]
  },
  {
   "cell_type": "code",
   "execution_count": 2,
   "metadata": {},
   "outputs": [],
   "source": [
    "def table_info (data):\n",
    "    display(data.sample(10)) #10 случайных строк\n",
    "    print('---------------')\n",
    "    data.info() #инфо по столбцам\n",
    "    print('---------------')\n",
    "    print('Дубликатов:', data.duplicated().sum()) #кол-во дубликатов\n",
    "    print('---------------')\n",
    "    print('Пропущенных значений', data.isna().sum()) #кол-во пропущенных значений"
   ]
  },
  {
   "cell_type": "markdown",
   "metadata": {},
   "source": [
    "Функция для приведения данных к едным заначениям в столбце с целями заема."
   ]
  },
  {
   "cell_type": "code",
   "execution_count": 3,
   "metadata": {},
   "outputs": [],
   "source": [
    "def rename_purpose(row):\n",
    "    lem_purpose = m.lemmatize(row['purpose'])\n",
    "    if 'автомобиль' in lem_purpose:\n",
    "        return 'автомобиль'\n",
    "    if ('жилье' in lem_purpose) or ('недвижимость' in lem_purpose ):\n",
    "        return 'недвижимость'\n",
    "    if 'свадьба' in lem_purpose:\n",
    "        return 'свадьба'\n",
    "    if 'образование' in lem_purpose:\n",
    "        return 'образование'"
   ]
  },
  {
   "cell_type": "markdown",
   "metadata": {},
   "source": [
    "Функцая для выделения категорый граждан с детьми и без."
   ]
  },
  {
   "cell_type": "code",
   "execution_count": 4,
   "metadata": {},
   "outputs": [],
   "source": [
    "def children_group(child):\n",
    "    if child == 0:\n",
    "        return 'без детей'\n",
    "    if 1 <= child < 3:\n",
    "        return 'есть дети'\n",
    "    return 'многодетные'"
   ]
  },
  {
   "cell_type": "markdown",
   "metadata": {},
   "source": [
    "Функция для разделения на группы по доходу."
   ]
  },
  {
   "cell_type": "code",
   "execution_count": 5,
   "metadata": {},
   "outputs": [],
   "source": [
    "def income_group(income):\n",
    "    if income <= income_deb['total_income'].quantile(0.33):\n",
    "        return 'низкий'\n",
    "    if income_deb['total_income'].quantile(0.33) <= income < income_deb['total_income'].quantile(0.66):\n",
    "        return 'средний'\n",
    "    if income_deb['total_income'].quantile(0.66) <= income:\n",
    "        return 'высокий'"
   ]
  },
  {
   "cell_type": "markdown",
   "metadata": {},
   "source": [
    "Рассмотрим информация о таблице: 10 случайных строк,дубликаты, пропуски. 54 дубликата, пропущенные значения в столбцах days_employed и total_income. Пропуски в данных столбцах могут быть связаны с отсутвием заработка и трудового стажа. "
   ]
  },
  {
   "cell_type": "code",
   "execution_count": 6,
   "metadata": {
    "scrolled": false
   },
   "outputs": [
    {
     "data": {
      "text/html": [
       "<div>\n",
       "<style scoped>\n",
       "    .dataframe tbody tr th:only-of-type {\n",
       "        vertical-align: middle;\n",
       "    }\n",
       "\n",
       "    .dataframe tbody tr th {\n",
       "        vertical-align: top;\n",
       "    }\n",
       "\n",
       "    .dataframe thead th {\n",
       "        text-align: right;\n",
       "    }\n",
       "</style>\n",
       "<table border=\"1\" class=\"dataframe\">\n",
       "  <thead>\n",
       "    <tr style=\"text-align: right;\">\n",
       "      <th></th>\n",
       "      <th>children</th>\n",
       "      <th>days_employed</th>\n",
       "      <th>dob_years</th>\n",
       "      <th>education</th>\n",
       "      <th>education_id</th>\n",
       "      <th>family_status</th>\n",
       "      <th>family_status_id</th>\n",
       "      <th>gender</th>\n",
       "      <th>income_type</th>\n",
       "      <th>debt</th>\n",
       "      <th>total_income</th>\n",
       "      <th>purpose</th>\n",
       "    </tr>\n",
       "  </thead>\n",
       "  <tbody>\n",
       "    <tr>\n",
       "      <th>1111</th>\n",
       "      <td>0</td>\n",
       "      <td>-5140.381842</td>\n",
       "      <td>48</td>\n",
       "      <td>среднее</td>\n",
       "      <td>1</td>\n",
       "      <td>вдовец / вдова</td>\n",
       "      <td>2</td>\n",
       "      <td>F</td>\n",
       "      <td>сотрудник</td>\n",
       "      <td>0</td>\n",
       "      <td>108365.942615</td>\n",
       "      <td>операции со своей недвижимостью</td>\n",
       "    </tr>\n",
       "    <tr>\n",
       "      <th>17047</th>\n",
       "      <td>1</td>\n",
       "      <td>NaN</td>\n",
       "      <td>28</td>\n",
       "      <td>высшее</td>\n",
       "      <td>0</td>\n",
       "      <td>женат / замужем</td>\n",
       "      <td>0</td>\n",
       "      <td>F</td>\n",
       "      <td>компаньон</td>\n",
       "      <td>0</td>\n",
       "      <td>NaN</td>\n",
       "      <td>свой автомобиль</td>\n",
       "    </tr>\n",
       "    <tr>\n",
       "      <th>5808</th>\n",
       "      <td>0</td>\n",
       "      <td>-98.900204</td>\n",
       "      <td>50</td>\n",
       "      <td>среднее</td>\n",
       "      <td>1</td>\n",
       "      <td>гражданский брак</td>\n",
       "      <td>1</td>\n",
       "      <td>M</td>\n",
       "      <td>компаньон</td>\n",
       "      <td>1</td>\n",
       "      <td>241915.373731</td>\n",
       "      <td>свадьба</td>\n",
       "    </tr>\n",
       "    <tr>\n",
       "      <th>13638</th>\n",
       "      <td>0</td>\n",
       "      <td>-9603.029157</td>\n",
       "      <td>50</td>\n",
       "      <td>Высшее</td>\n",
       "      <td>0</td>\n",
       "      <td>женат / замужем</td>\n",
       "      <td>0</td>\n",
       "      <td>M</td>\n",
       "      <td>сотрудник</td>\n",
       "      <td>0</td>\n",
       "      <td>147745.484928</td>\n",
       "      <td>покупка своего жилья</td>\n",
       "    </tr>\n",
       "    <tr>\n",
       "      <th>3710</th>\n",
       "      <td>0</td>\n",
       "      <td>-626.556056</td>\n",
       "      <td>42</td>\n",
       "      <td>среднее</td>\n",
       "      <td>1</td>\n",
       "      <td>женат / замужем</td>\n",
       "      <td>0</td>\n",
       "      <td>F</td>\n",
       "      <td>сотрудник</td>\n",
       "      <td>0</td>\n",
       "      <td>103143.302660</td>\n",
       "      <td>недвижимость</td>\n",
       "    </tr>\n",
       "    <tr>\n",
       "      <th>858</th>\n",
       "      <td>0</td>\n",
       "      <td>-2719.828190</td>\n",
       "      <td>41</td>\n",
       "      <td>среднее</td>\n",
       "      <td>1</td>\n",
       "      <td>женат / замужем</td>\n",
       "      <td>0</td>\n",
       "      <td>F</td>\n",
       "      <td>госслужащий</td>\n",
       "      <td>0</td>\n",
       "      <td>144115.000010</td>\n",
       "      <td>покупка своего жилья</td>\n",
       "    </tr>\n",
       "    <tr>\n",
       "      <th>10165</th>\n",
       "      <td>1</td>\n",
       "      <td>-2912.754151</td>\n",
       "      <td>30</td>\n",
       "      <td>среднее</td>\n",
       "      <td>1</td>\n",
       "      <td>женат / замужем</td>\n",
       "      <td>0</td>\n",
       "      <td>M</td>\n",
       "      <td>сотрудник</td>\n",
       "      <td>0</td>\n",
       "      <td>175778.533898</td>\n",
       "      <td>автомобиль</td>\n",
       "    </tr>\n",
       "    <tr>\n",
       "      <th>7149</th>\n",
       "      <td>0</td>\n",
       "      <td>-288.393090</td>\n",
       "      <td>50</td>\n",
       "      <td>среднее</td>\n",
       "      <td>1</td>\n",
       "      <td>женат / замужем</td>\n",
       "      <td>0</td>\n",
       "      <td>F</td>\n",
       "      <td>компаньон</td>\n",
       "      <td>0</td>\n",
       "      <td>114829.145442</td>\n",
       "      <td>автомобиль</td>\n",
       "    </tr>\n",
       "    <tr>\n",
       "      <th>4676</th>\n",
       "      <td>0</td>\n",
       "      <td>-1411.790052</td>\n",
       "      <td>58</td>\n",
       "      <td>среднее</td>\n",
       "      <td>1</td>\n",
       "      <td>в разводе</td>\n",
       "      <td>3</td>\n",
       "      <td>M</td>\n",
       "      <td>сотрудник</td>\n",
       "      <td>0</td>\n",
       "      <td>231730.748610</td>\n",
       "      <td>дополнительное образование</td>\n",
       "    </tr>\n",
       "    <tr>\n",
       "      <th>19884</th>\n",
       "      <td>0</td>\n",
       "      <td>-352.588094</td>\n",
       "      <td>30</td>\n",
       "      <td>среднее</td>\n",
       "      <td>1</td>\n",
       "      <td>в разводе</td>\n",
       "      <td>3</td>\n",
       "      <td>F</td>\n",
       "      <td>компаньон</td>\n",
       "      <td>0</td>\n",
       "      <td>304928.492307</td>\n",
       "      <td>строительство собственной недвижимости</td>\n",
       "    </tr>\n",
       "  </tbody>\n",
       "</table>\n",
       "</div>"
      ],
      "text/plain": [
       "       children  days_employed  dob_years education  education_id  \\\n",
       "1111          0   -5140.381842         48   среднее             1   \n",
       "17047         1            NaN         28    высшее             0   \n",
       "5808          0     -98.900204         50   среднее             1   \n",
       "13638         0   -9603.029157         50    Высшее             0   \n",
       "3710          0    -626.556056         42   среднее             1   \n",
       "858           0   -2719.828190         41   среднее             1   \n",
       "10165         1   -2912.754151         30   среднее             1   \n",
       "7149          0    -288.393090         50   среднее             1   \n",
       "4676          0   -1411.790052         58   среднее             1   \n",
       "19884         0    -352.588094         30   среднее             1   \n",
       "\n",
       "          family_status  family_status_id gender  income_type  debt  \\\n",
       "1111     вдовец / вдова                 2      F    сотрудник     0   \n",
       "17047   женат / замужем                 0      F    компаньон     0   \n",
       "5808   гражданский брак                 1      M    компаньон     1   \n",
       "13638   женат / замужем                 0      M    сотрудник     0   \n",
       "3710    женат / замужем                 0      F    сотрудник     0   \n",
       "858     женат / замужем                 0      F  госслужащий     0   \n",
       "10165   женат / замужем                 0      M    сотрудник     0   \n",
       "7149    женат / замужем                 0      F    компаньон     0   \n",
       "4676          в разводе                 3      M    сотрудник     0   \n",
       "19884         в разводе                 3      F    компаньон     0   \n",
       "\n",
       "        total_income                                 purpose  \n",
       "1111   108365.942615         операции со своей недвижимостью  \n",
       "17047            NaN                         свой автомобиль  \n",
       "5808   241915.373731                                 свадьба  \n",
       "13638  147745.484928                    покупка своего жилья  \n",
       "3710   103143.302660                            недвижимость  \n",
       "858    144115.000010                    покупка своего жилья  \n",
       "10165  175778.533898                              автомобиль  \n",
       "7149   114829.145442                              автомобиль  \n",
       "4676   231730.748610              дополнительное образование  \n",
       "19884  304928.492307  строительство собственной недвижимости  "
      ]
     },
     "metadata": {},
     "output_type": "display_data"
    },
    {
     "name": "stdout",
     "output_type": "stream",
     "text": [
      "---------------\n",
      "<class 'pandas.core.frame.DataFrame'>\n",
      "RangeIndex: 21525 entries, 0 to 21524\n",
      "Data columns (total 12 columns):\n",
      " #   Column            Non-Null Count  Dtype  \n",
      "---  ------            --------------  -----  \n",
      " 0   children          21525 non-null  int64  \n",
      " 1   days_employed     19351 non-null  float64\n",
      " 2   dob_years         21525 non-null  int64  \n",
      " 3   education         21525 non-null  object \n",
      " 4   education_id      21525 non-null  int64  \n",
      " 5   family_status     21525 non-null  object \n",
      " 6   family_status_id  21525 non-null  int64  \n",
      " 7   gender            21525 non-null  object \n",
      " 8   income_type       21525 non-null  object \n",
      " 9   debt              21525 non-null  int64  \n",
      " 10  total_income      19351 non-null  float64\n",
      " 11  purpose           21525 non-null  object \n",
      "dtypes: float64(2), int64(5), object(5)\n",
      "memory usage: 2.0+ MB\n",
      "---------------\n",
      "Дубликатов: 54\n",
      "---------------\n",
      "Пропущенных значений children               0\n",
      "days_employed       2174\n",
      "dob_years              0\n",
      "education              0\n",
      "education_id           0\n",
      "family_status          0\n",
      "family_status_id       0\n",
      "gender                 0\n",
      "income_type            0\n",
      "debt                   0\n",
      "total_income        2174\n",
      "purpose                0\n",
      "dtype: int64\n"
     ]
    }
   ],
   "source": [
    "data=pd.read_csv('borrowers.csv')\n",
    "table_info(data)"
   ]
  },
  {
   "cell_type": "markdown",
   "metadata": {},
   "source": [
    "Столбец с трудовым стажем содержит отрицательные значения."
   ]
  },
  {
   "cell_type": "code",
   "execution_count": 7,
   "metadata": {},
   "outputs": [
    {
     "data": {
      "text/plain": [
       "count     19351.000000\n",
       "mean      63046.497661\n",
       "std      140827.311974\n",
       "min      -18388.949901\n",
       "25%       -2747.423625\n",
       "50%       -1203.369529\n",
       "75%        -291.095954\n",
       "max      401755.400475\n",
       "Name: days_employed, dtype: float64"
      ]
     },
     "execution_count": 7,
     "metadata": {},
     "output_type": "execute_result"
    }
   ],
   "source": [
    "data['days_employed'].describe()"
   ]
  },
  {
   "cell_type": "markdown",
   "metadata": {},
   "source": [
    "Проверим не явные дубликаты в столбцах `family_status`, `children`, `purpose`."
   ]
  },
  {
   "cell_type": "code",
   "execution_count": 8,
   "metadata": {
    "scrolled": false
   },
   "outputs": [
    {
     "name": "stdout",
     "output_type": "stream",
     "text": [
      "женат / замужем          12380\n",
      "гражданский брак          4177\n",
      "Не женат / не замужем     2813\n",
      "в разводе                 1195\n",
      "вдовец / вдова             960\n",
      "Name: family_status, dtype: int64\n"
     ]
    }
   ],
   "source": [
    "print(data['family_status'].value_counts())"
   ]
  },
  {
   "cell_type": "markdown",
   "metadata": {},
   "source": [
    "В информации о количестве детей содержатся экстремальные значения: -1 и 20, скорее всего являются неявнями дубликатами."
   ]
  },
  {
   "cell_type": "code",
   "execution_count": 9,
   "metadata": {},
   "outputs": [
    {
     "data": {
      "text/plain": [
       "count    21525.000000\n",
       "mean         0.538908\n",
       "std          1.381587\n",
       "min         -1.000000\n",
       "25%          0.000000\n",
       "50%          0.000000\n",
       "75%          1.000000\n",
       "max         20.000000\n",
       "Name: children, dtype: float64"
      ]
     },
     "execution_count": 9,
     "metadata": {},
     "output_type": "execute_result"
    }
   ],
   "source": [
    "data['children'].describe()"
   ]
  },
  {
   "cell_type": "code",
   "execution_count": 10,
   "metadata": {
    "scrolled": true
   },
   "outputs": [
    {
     "name": "stdout",
     "output_type": "stream",
     "text": [
      " 0     14149\n",
      " 1      4818\n",
      " 2      2055\n",
      " 3       330\n",
      " 20       76\n",
      "-1        47\n",
      " 4        41\n",
      " 5         9\n",
      "Name: children, dtype: int64\n"
     ]
    }
   ],
   "source": [
    "print(data['children'].value_counts())"
   ]
  },
  {
   "cell_type": "markdown",
   "metadata": {},
   "source": [
    "Цель для заема описана не стандартными фраза и в следствии мы имеем множество неявных дубликатов."
   ]
  },
  {
   "cell_type": "code",
   "execution_count": 11,
   "metadata": {
    "scrolled": false
   },
   "outputs": [
    {
     "name": "stdout",
     "output_type": "stream",
     "text": [
      "свадьба                                   797\n",
      "на проведение свадьбы                     777\n",
      "сыграть свадьбу                           774\n",
      "операции с недвижимостью                  676\n",
      "покупка коммерческой недвижимости         664\n",
      "покупка жилья для сдачи                   653\n",
      "операции с жильем                         653\n",
      "операции с коммерческой недвижимостью     651\n",
      "покупка жилья                             647\n",
      "жилье                                     647\n",
      "покупка жилья для семьи                   641\n",
      "строительство собственной недвижимости    635\n",
      "недвижимость                              634\n",
      "операции со своей недвижимостью           630\n",
      "строительство жилой недвижимости          626\n",
      "покупка недвижимости                      624\n",
      "строительство недвижимости                620\n",
      "покупка своего жилья                      620\n",
      "ремонт жилью                              612\n",
      "покупка жилой недвижимости                607\n",
      "на покупку своего автомобиля              505\n",
      "заняться высшим образованием              496\n",
      "автомобиль                                495\n",
      "сделка с подержанным автомобилем          489\n",
      "свой автомобиль                           480\n",
      "на покупку подержанного автомобиля        479\n",
      "автомобили                                478\n",
      "на покупку автомобиля                     472\n",
      "дополнительное образование                462\n",
      "приобретение автомобиля                   462\n",
      "сделка с автомобилем                      455\n",
      "высшее образование                        453\n",
      "образование                               447\n",
      "получение дополнительного образования     447\n",
      "получение образования                     443\n",
      "профильное образование                    436\n",
      "получение высшего образования             426\n",
      "заняться образованием                     412\n",
      "Name: purpose, dtype: int64\n"
     ]
    }
   ],
   "source": [
    "print(data['purpose'].value_counts())"
   ]
  },
  {
   "cell_type": "markdown",
   "metadata": {},
   "source": [
    "**Вывод**\n",
    "1. В столбце \"days_employed\" - отрицательные значения. Стоит их перевести в положительные целые числа.\n",
    "2. Пропущенные значения есть в столбцах \"days_employed\" и \"total_income\". Это 10% данных. Возможно связанно с отсутвием офицальной работы. Их заменим  медианой.\n",
    "3. Столбец \"children\" содержит неявные дубликаты. Исправим их.\n",
    "5. Нужно проводить лемматизицию значений в столбце \"purpose\".\n",
    "6. В таблице 54 явных дубликата - после преобразований проверим их ещё раз.\n",
    " "
   ]
  },
  {
   "cell_type": "markdown",
   "metadata": {},
   "source": [
    "## Шаг 2. Предобработка данных"
   ]
  },
  {
   "cell_type": "markdown",
   "metadata": {},
   "source": [
    "### Обработка пропусков"
   ]
  },
  {
   "cell_type": "code",
   "execution_count": 12,
   "metadata": {
    "scrolled": false
   },
   "outputs": [
    {
     "data": {
      "text/html": [
       "<div>\n",
       "<style scoped>\n",
       "    .dataframe tbody tr th:only-of-type {\n",
       "        vertical-align: middle;\n",
       "    }\n",
       "\n",
       "    .dataframe tbody tr th {\n",
       "        vertical-align: top;\n",
       "    }\n",
       "\n",
       "    .dataframe thead th {\n",
       "        text-align: right;\n",
       "    }\n",
       "</style>\n",
       "<table border=\"1\" class=\"dataframe\">\n",
       "  <thead>\n",
       "    <tr style=\"text-align: right;\">\n",
       "      <th></th>\n",
       "      <th>children</th>\n",
       "      <th>days_employed</th>\n",
       "      <th>dob_years</th>\n",
       "      <th>education</th>\n",
       "      <th>education_id</th>\n",
       "      <th>family_status</th>\n",
       "      <th>family_status_id</th>\n",
       "      <th>gender</th>\n",
       "      <th>income_type</th>\n",
       "      <th>debt</th>\n",
       "      <th>total_income</th>\n",
       "      <th>purpose</th>\n",
       "    </tr>\n",
       "  </thead>\n",
       "  <tbody>\n",
       "    <tr>\n",
       "      <th>12</th>\n",
       "      <td>0</td>\n",
       "      <td>NaN</td>\n",
       "      <td>65</td>\n",
       "      <td>среднее</td>\n",
       "      <td>1</td>\n",
       "      <td>гражданский брак</td>\n",
       "      <td>1</td>\n",
       "      <td>M</td>\n",
       "      <td>пенсионер</td>\n",
       "      <td>0</td>\n",
       "      <td>NaN</td>\n",
       "      <td>сыграть свадьбу</td>\n",
       "    </tr>\n",
       "    <tr>\n",
       "      <th>26</th>\n",
       "      <td>0</td>\n",
       "      <td>NaN</td>\n",
       "      <td>41</td>\n",
       "      <td>среднее</td>\n",
       "      <td>1</td>\n",
       "      <td>женат / замужем</td>\n",
       "      <td>0</td>\n",
       "      <td>M</td>\n",
       "      <td>госслужащий</td>\n",
       "      <td>0</td>\n",
       "      <td>NaN</td>\n",
       "      <td>образование</td>\n",
       "    </tr>\n",
       "    <tr>\n",
       "      <th>29</th>\n",
       "      <td>0</td>\n",
       "      <td>NaN</td>\n",
       "      <td>63</td>\n",
       "      <td>среднее</td>\n",
       "      <td>1</td>\n",
       "      <td>Не женат / не замужем</td>\n",
       "      <td>4</td>\n",
       "      <td>F</td>\n",
       "      <td>пенсионер</td>\n",
       "      <td>0</td>\n",
       "      <td>NaN</td>\n",
       "      <td>строительство жилой недвижимости</td>\n",
       "    </tr>\n",
       "    <tr>\n",
       "      <th>41</th>\n",
       "      <td>0</td>\n",
       "      <td>NaN</td>\n",
       "      <td>50</td>\n",
       "      <td>среднее</td>\n",
       "      <td>1</td>\n",
       "      <td>женат / замужем</td>\n",
       "      <td>0</td>\n",
       "      <td>F</td>\n",
       "      <td>госслужащий</td>\n",
       "      <td>0</td>\n",
       "      <td>NaN</td>\n",
       "      <td>сделка с подержанным автомобилем</td>\n",
       "    </tr>\n",
       "    <tr>\n",
       "      <th>55</th>\n",
       "      <td>0</td>\n",
       "      <td>NaN</td>\n",
       "      <td>54</td>\n",
       "      <td>среднее</td>\n",
       "      <td>1</td>\n",
       "      <td>гражданский брак</td>\n",
       "      <td>1</td>\n",
       "      <td>F</td>\n",
       "      <td>пенсионер</td>\n",
       "      <td>1</td>\n",
       "      <td>NaN</td>\n",
       "      <td>сыграть свадьбу</td>\n",
       "    </tr>\n",
       "  </tbody>\n",
       "</table>\n",
       "</div>"
      ],
      "text/plain": [
       "    children  days_employed  dob_years education  education_id  \\\n",
       "12         0            NaN         65   среднее             1   \n",
       "26         0            NaN         41   среднее             1   \n",
       "29         0            NaN         63   среднее             1   \n",
       "41         0            NaN         50   среднее             1   \n",
       "55         0            NaN         54   среднее             1   \n",
       "\n",
       "            family_status  family_status_id gender  income_type  debt  \\\n",
       "12       гражданский брак                 1      M    пенсионер     0   \n",
       "26        женат / замужем                 0      M  госслужащий     0   \n",
       "29  Не женат / не замужем                 4      F    пенсионер     0   \n",
       "41        женат / замужем                 0      F  госслужащий     0   \n",
       "55       гражданский брак                 1      F    пенсионер     1   \n",
       "\n",
       "    total_income                           purpose  \n",
       "12           NaN                   сыграть свадьбу  \n",
       "26           NaN                       образование  \n",
       "29           NaN  строительство жилой недвижимости  \n",
       "41           NaN  сделка с подержанным автомобилем  \n",
       "55           NaN                   сыграть свадьбу  "
      ]
     },
     "metadata": {},
     "output_type": "display_data"
    }
   ],
   "source": [
    "display(data[data['days_employed'].isna()].head(5))\n"
   ]
  },
  {
   "cell_type": "markdown",
   "metadata": {},
   "source": [
    "Переведем числа в столбце `days_employed` из отрицательных в положительные. И проверим результат."
   ]
  },
  {
   "cell_type": "code",
   "execution_count": 13,
   "metadata": {},
   "outputs": [],
   "source": [
    "data['days_employed'] = abs(data['days_employed'])"
   ]
  },
  {
   "cell_type": "code",
   "execution_count": 14,
   "metadata": {
    "scrolled": true
   },
   "outputs": [
    {
     "data": {
      "text/html": [
       "<div>\n",
       "<style scoped>\n",
       "    .dataframe tbody tr th:only-of-type {\n",
       "        vertical-align: middle;\n",
       "    }\n",
       "\n",
       "    .dataframe tbody tr th {\n",
       "        vertical-align: top;\n",
       "    }\n",
       "\n",
       "    .dataframe thead th {\n",
       "        text-align: right;\n",
       "    }\n",
       "</style>\n",
       "<table border=\"1\" class=\"dataframe\">\n",
       "  <thead>\n",
       "    <tr style=\"text-align: right;\">\n",
       "      <th></th>\n",
       "      <th>children</th>\n",
       "      <th>days_employed</th>\n",
       "      <th>dob_years</th>\n",
       "      <th>education</th>\n",
       "      <th>education_id</th>\n",
       "      <th>family_status</th>\n",
       "      <th>family_status_id</th>\n",
       "      <th>gender</th>\n",
       "      <th>income_type</th>\n",
       "      <th>debt</th>\n",
       "      <th>total_income</th>\n",
       "      <th>purpose</th>\n",
       "    </tr>\n",
       "  </thead>\n",
       "  <tbody>\n",
       "    <tr>\n",
       "      <th>0</th>\n",
       "      <td>1</td>\n",
       "      <td>8437.673028</td>\n",
       "      <td>42</td>\n",
       "      <td>высшее</td>\n",
       "      <td>0</td>\n",
       "      <td>женат / замужем</td>\n",
       "      <td>0</td>\n",
       "      <td>F</td>\n",
       "      <td>сотрудник</td>\n",
       "      <td>0</td>\n",
       "      <td>253875.639453</td>\n",
       "      <td>покупка жилья</td>\n",
       "    </tr>\n",
       "    <tr>\n",
       "      <th>1</th>\n",
       "      <td>1</td>\n",
       "      <td>4024.803754</td>\n",
       "      <td>36</td>\n",
       "      <td>среднее</td>\n",
       "      <td>1</td>\n",
       "      <td>женат / замужем</td>\n",
       "      <td>0</td>\n",
       "      <td>F</td>\n",
       "      <td>сотрудник</td>\n",
       "      <td>0</td>\n",
       "      <td>112080.014102</td>\n",
       "      <td>приобретение автомобиля</td>\n",
       "    </tr>\n",
       "    <tr>\n",
       "      <th>2</th>\n",
       "      <td>0</td>\n",
       "      <td>5623.422610</td>\n",
       "      <td>33</td>\n",
       "      <td>Среднее</td>\n",
       "      <td>1</td>\n",
       "      <td>женат / замужем</td>\n",
       "      <td>0</td>\n",
       "      <td>M</td>\n",
       "      <td>сотрудник</td>\n",
       "      <td>0</td>\n",
       "      <td>145885.952297</td>\n",
       "      <td>покупка жилья</td>\n",
       "    </tr>\n",
       "    <tr>\n",
       "      <th>3</th>\n",
       "      <td>3</td>\n",
       "      <td>4124.747207</td>\n",
       "      <td>32</td>\n",
       "      <td>среднее</td>\n",
       "      <td>1</td>\n",
       "      <td>женат / замужем</td>\n",
       "      <td>0</td>\n",
       "      <td>M</td>\n",
       "      <td>сотрудник</td>\n",
       "      <td>0</td>\n",
       "      <td>267628.550329</td>\n",
       "      <td>дополнительное образование</td>\n",
       "    </tr>\n",
       "    <tr>\n",
       "      <th>4</th>\n",
       "      <td>0</td>\n",
       "      <td>340266.072047</td>\n",
       "      <td>53</td>\n",
       "      <td>среднее</td>\n",
       "      <td>1</td>\n",
       "      <td>гражданский брак</td>\n",
       "      <td>1</td>\n",
       "      <td>F</td>\n",
       "      <td>пенсионер</td>\n",
       "      <td>0</td>\n",
       "      <td>158616.077870</td>\n",
       "      <td>сыграть свадьбу</td>\n",
       "    </tr>\n",
       "  </tbody>\n",
       "</table>\n",
       "</div>"
      ],
      "text/plain": [
       "   children  days_employed  dob_years education  education_id  \\\n",
       "0         1    8437.673028         42    высшее             0   \n",
       "1         1    4024.803754         36   среднее             1   \n",
       "2         0    5623.422610         33   Среднее             1   \n",
       "3         3    4124.747207         32   среднее             1   \n",
       "4         0  340266.072047         53   среднее             1   \n",
       "\n",
       "      family_status  family_status_id gender income_type  debt   total_income  \\\n",
       "0   женат / замужем                 0      F   сотрудник     0  253875.639453   \n",
       "1   женат / замужем                 0      F   сотрудник     0  112080.014102   \n",
       "2   женат / замужем                 0      M   сотрудник     0  145885.952297   \n",
       "3   женат / замужем                 0      M   сотрудник     0  267628.550329   \n",
       "4  гражданский брак                 1      F   пенсионер     0  158616.077870   \n",
       "\n",
       "                      purpose  \n",
       "0               покупка жилья  \n",
       "1     приобретение автомобиля  \n",
       "2               покупка жилья  \n",
       "3  дополнительное образование  \n",
       "4             сыграть свадьбу  "
      ]
     },
     "metadata": {},
     "output_type": "display_data"
    }
   ],
   "source": [
    "display(data.head(5)) "
   ]
  },
  {
   "cell_type": "markdown",
   "metadata": {},
   "source": [
    "Заменим пропуски в `days_employed` на медиану."
   ]
  },
  {
   "cell_type": "code",
   "execution_count": 15,
   "metadata": {},
   "outputs": [
    {
     "name": "stdout",
     "output_type": "stream",
     "text": [
      "0\n"
     ]
    }
   ],
   "source": [
    "data['days_employed'] = data['days_employed'].fillna(data['days_employed'].median())\n",
    "print(data['days_employed'].isna().sum())"
   ]
  },
  {
   "cell_type": "markdown",
   "metadata": {},
   "source": [
    "Проверим столбец `total_income` на наличие отрицательных чисел."
   ]
  },
  {
   "cell_type": "code",
   "execution_count": 16,
   "metadata": {
    "scrolled": true
   },
   "outputs": [
    {
     "name": "stdout",
     "output_type": "stream",
     "text": [
      "0\n"
     ]
    }
   ],
   "source": [
    "neg_num = 0\n",
    "zero_num = 0\n",
    "for i in data['total_income']:\n",
    "    if i < 0:\n",
    "        neg_num += 1\n",
    "print(neg_num)"
   ]
  },
  {
   "cell_type": "markdown",
   "metadata": {},
   "source": [
    "Заменяем пропуски в `total_income` на медану. Проверяем результат."
   ]
  },
  {
   "cell_type": "code",
   "execution_count": 17,
   "metadata": {
    "scrolled": true
   },
   "outputs": [
    {
     "data": {
      "text/plain": [
       "children            0\n",
       "days_employed       0\n",
       "dob_years           0\n",
       "education           0\n",
       "education_id        0\n",
       "family_status       0\n",
       "family_status_id    0\n",
       "gender              0\n",
       "income_type         0\n",
       "debt                0\n",
       "total_income        0\n",
       "purpose             0\n",
       "dtype: int64"
      ]
     },
     "execution_count": 17,
     "metadata": {},
     "output_type": "execute_result"
    }
   ],
   "source": [
    "data['total_income'] = data['total_income'].fillna(data['total_income'].median())\n",
    "data.isna().sum()"
   ]
  },
  {
   "cell_type": "markdown",
   "metadata": {},
   "source": [
    "### Замена типа данных"
   ]
  },
  {
   "cell_type": "markdown",
   "metadata": {},
   "source": [
    "Меняем тип данных в столбцах \"days_employed\" и \"total_income\" с дробного на целый и проверяем. "
   ]
  },
  {
   "cell_type": "code",
   "execution_count": 18,
   "metadata": {
    "scrolled": true
   },
   "outputs": [
    {
     "name": "stdout",
     "output_type": "stream",
     "text": [
      "<class 'pandas.core.frame.DataFrame'>\n",
      "RangeIndex: 21525 entries, 0 to 21524\n",
      "Data columns (total 12 columns):\n",
      " #   Column            Non-Null Count  Dtype \n",
      "---  ------            --------------  ----- \n",
      " 0   children          21525 non-null  int64 \n",
      " 1   days_employed     21525 non-null  int64 \n",
      " 2   dob_years         21525 non-null  int64 \n",
      " 3   education         21525 non-null  object\n",
      " 4   education_id      21525 non-null  int64 \n",
      " 5   family_status     21525 non-null  object\n",
      " 6   family_status_id  21525 non-null  int64 \n",
      " 7   gender            21525 non-null  object\n",
      " 8   income_type       21525 non-null  object\n",
      " 9   debt              21525 non-null  int64 \n",
      " 10  total_income      21525 non-null  int64 \n",
      " 11  purpose           21525 non-null  object\n",
      "dtypes: int64(7), object(5)\n",
      "memory usage: 2.0+ MB\n"
     ]
    }
   ],
   "source": [
    "data['days_employed'] = data['days_employed'].astype('int')\n",
    "data['total_income'] = data['total_income'].astype('int')\n",
    "data.info()"
   ]
  },
  {
   "cell_type": "markdown",
   "metadata": {},
   "source": [
    "### Обработка дубликатов"
   ]
  },
  {
   "cell_type": "markdown",
   "metadata": {},
   "source": [
    "Заменим неявные дубликаты в `children`."
   ]
  },
  {
   "cell_type": "code",
   "execution_count": 19,
   "metadata": {
    "scrolled": true
   },
   "outputs": [
    {
     "name": "stdout",
     "output_type": "stream",
     "text": [
      "0    14149\n",
      "1     4865\n",
      "2     2131\n",
      "3      330\n",
      "4       41\n",
      "5        9\n",
      "Name: children, dtype: int64\n"
     ]
    }
   ],
   "source": [
    "data['children'] = data['children'].replace(-1,1)\n",
    "data['children'] = data['children'].replace(20,2)\n",
    "print(data['children'].value_counts())"
   ]
  },
  {
   "cell_type": "markdown",
   "metadata": {},
   "source": [
    "В столбце `education` приведем все к нижнему регистру."
   ]
  },
  {
   "cell_type": "code",
   "execution_count": 20,
   "metadata": {
    "scrolled": false
   },
   "outputs": [
    {
     "name": "stdout",
     "output_type": "stream",
     "text": [
      "среднее                13750\n",
      "высшее                  4718\n",
      "СРЕДНЕЕ                  772\n",
      "Среднее                  711\n",
      "неоконченное высшее      668\n",
      "ВЫСШЕЕ                   274\n",
      "Высшее                   268\n",
      "начальное                250\n",
      "Неоконченное высшее       47\n",
      "НЕОКОНЧЕННОЕ ВЫСШЕЕ       29\n",
      "НАЧАЛЬНОЕ                 17\n",
      "Начальное                 15\n",
      "ученая степень             4\n",
      "Ученая степень             1\n",
      "УЧЕНАЯ СТЕПЕНЬ             1\n",
      "Name: education, dtype: int64\n"
     ]
    }
   ],
   "source": [
    "print(data['education'].value_counts())"
   ]
  },
  {
   "cell_type": "code",
   "execution_count": 21,
   "metadata": {},
   "outputs": [
    {
     "name": "stdout",
     "output_type": "stream",
     "text": [
      "среднее                15233\n",
      "высшее                  5260\n",
      "неоконченное высшее      744\n",
      "начальное                282\n",
      "ученая степень             6\n",
      "Name: education, dtype: int64\n"
     ]
    }
   ],
   "source": [
    "data['education'] = data['education'].str.lower()\n",
    "print(data['education'].value_counts())"
   ]
  },
  {
   "cell_type": "markdown",
   "metadata": {},
   "source": [
    "**Вывод**\n",
    "Явные дубликаты оставили в покое, а неявные заменили."
   ]
  },
  {
   "cell_type": "markdown",
   "metadata": {},
   "source": [
    "### Лемматизация"
   ]
  },
  {
   "cell_type": "markdown",
   "metadata": {},
   "source": [
    "Лемматизируем значения в \"purpose\"."
   ]
  },
  {
   "cell_type": "code",
   "execution_count": 22,
   "metadata": {
    "scrolled": true
   },
   "outputs": [],
   "source": [
    "lemmas = []\n",
    "for v in data['purpose']:\n",
    "    lem = ' '.join(m.lemmatize(v))\n",
    "    lemmas.append(lem)  "
   ]
  },
  {
   "cell_type": "markdown",
   "metadata": {},
   "source": [
    "Посмотрим какие цели заема можно выделить."
   ]
  },
  {
   "cell_type": "code",
   "execution_count": 23,
   "metadata": {
    "scrolled": true
   },
   "outputs": [
    {
     "name": "stdout",
     "output_type": "stream",
     "text": [
      "Counter({'автомобиль \\n': 973, 'свадьба \\n': 797, 'на   проведение   свадьба \\n': 777, 'сыграть   свадьба \\n': 774, 'операция   с   недвижимость \\n': 676, 'покупка   коммерческий   недвижимость \\n': 664, 'операция   с   жилье \\n': 653, 'покупка   жилье   для   сдача \\n': 653, 'операция   с   коммерческий   недвижимость \\n': 651, 'покупка   жилье \\n': 647, 'жилье \\n': 647, 'покупка   жилье   для   семья \\n': 641, 'строительство   собственный   недвижимость \\n': 635, 'недвижимость \\n': 634, 'операция   со   свой   недвижимость \\n': 630, 'строительство   жилой   недвижимость \\n': 626, 'покупка   недвижимость \\n': 624, 'строительство   недвижимость \\n': 620, 'покупка   свой   жилье \\n': 620, 'ремонт   жилье \\n': 612, 'покупка   жилой   недвижимость \\n': 607, 'на   покупка   свой   автомобиль \\n': 505, 'заниматься   высокий   образование \\n': 496, 'сделка   с   подержанный   автомобиль \\n': 489, 'свой   автомобиль \\n': 480, 'на   покупка   подержать   автомобиль \\n': 479, 'на   покупка   автомобиль \\n': 472, 'приобретение   автомобиль \\n': 462, 'дополнительный   образование \\n': 462, 'сделка   с   автомобиль \\n': 455, 'высокий   образование \\n': 453, 'образование \\n': 447, 'получение   дополнительный   образование \\n': 447, 'получение   образование \\n': 443, 'профильный   образование \\n': 436, 'получение   высокий   образование \\n': 426, 'заниматься   образование \\n': 412})\n"
     ]
    }
   ],
   "source": [
    "print(Counter(lemmas)) "
   ]
  },
  {
   "cell_type": "markdown",
   "metadata": {},
   "source": [
    "Применяем функцию для перезаписи цели заема и проверяем как она сработала."
   ]
  },
  {
   "cell_type": "code",
   "execution_count": 24,
   "metadata": {},
   "outputs": [],
   "source": [
    "data['purpose_category'] = data.apply(rename_purpose, axis=1)"
   ]
  },
  {
   "cell_type": "code",
   "execution_count": 25,
   "metadata": {
    "scrolled": false
   },
   "outputs": [
    {
     "data": {
      "text/html": [
       "<div>\n",
       "<style scoped>\n",
       "    .dataframe tbody tr th:only-of-type {\n",
       "        vertical-align: middle;\n",
       "    }\n",
       "\n",
       "    .dataframe tbody tr th {\n",
       "        vertical-align: top;\n",
       "    }\n",
       "\n",
       "    .dataframe thead th {\n",
       "        text-align: right;\n",
       "    }\n",
       "</style>\n",
       "<table border=\"1\" class=\"dataframe\">\n",
       "  <thead>\n",
       "    <tr style=\"text-align: right;\">\n",
       "      <th></th>\n",
       "      <th>children</th>\n",
       "      <th>days_employed</th>\n",
       "      <th>dob_years</th>\n",
       "      <th>education</th>\n",
       "      <th>education_id</th>\n",
       "      <th>family_status</th>\n",
       "      <th>family_status_id</th>\n",
       "      <th>gender</th>\n",
       "      <th>income_type</th>\n",
       "      <th>debt</th>\n",
       "      <th>total_income</th>\n",
       "      <th>purpose</th>\n",
       "      <th>purpose_category</th>\n",
       "    </tr>\n",
       "  </thead>\n",
       "  <tbody>\n",
       "    <tr>\n",
       "      <th>8101</th>\n",
       "      <td>0</td>\n",
       "      <td>660</td>\n",
       "      <td>57</td>\n",
       "      <td>среднее</td>\n",
       "      <td>1</td>\n",
       "      <td>женат / замужем</td>\n",
       "      <td>0</td>\n",
       "      <td>M</td>\n",
       "      <td>компаньон</td>\n",
       "      <td>0</td>\n",
       "      <td>155317</td>\n",
       "      <td>покупка жилой недвижимости</td>\n",
       "      <td>недвижимость</td>\n",
       "    </tr>\n",
       "  </tbody>\n",
       "</table>\n",
       "</div>"
      ],
      "text/plain": [
       "      children  days_employed  dob_years education  education_id  \\\n",
       "8101         0            660         57   среднее             1   \n",
       "\n",
       "        family_status  family_status_id gender income_type  debt  \\\n",
       "8101  женат / замужем                 0      M   компаньон     0   \n",
       "\n",
       "      total_income                     purpose purpose_category  \n",
       "8101        155317  покупка жилой недвижимости     недвижимость  "
      ]
     },
     "metadata": {},
     "output_type": "display_data"
    }
   ],
   "source": [
    "display(data.sample())"
   ]
  },
  {
   "cell_type": "markdown",
   "metadata": {},
   "source": [
    "### Повторная обработка дубликатов"
   ]
  },
  {
   "cell_type": "code",
   "execution_count": 26,
   "metadata": {
    "scrolled": false
   },
   "outputs": [
    {
     "name": "stdout",
     "output_type": "stream",
     "text": [
      "71\n"
     ]
    }
   ],
   "source": [
    "print(data.duplicated().sum())"
   ]
  },
  {
   "cell_type": "code",
   "execution_count": 27,
   "metadata": {},
   "outputs": [
    {
     "name": "stdout",
     "output_type": "stream",
     "text": [
      "0\n"
     ]
    }
   ],
   "source": [
    "data = data.drop_duplicates().reset_index(drop=True)\n",
    "print(data.duplicated().sum())"
   ]
  },
  {
   "cell_type": "markdown",
   "metadata": {},
   "source": [
    "### Категоризация данных"
   ]
  },
  {
   "cell_type": "markdown",
   "metadata": {},
   "source": [
    "- Дети и возврат кредита"
   ]
  },
  {
   "cell_type": "markdown",
   "metadata": {},
   "source": [
    "Выделю в отдельную таблицу нужные столбцы. 3 категории: без детей, есть дети, многодетные (от 3 детей в семье). "
   ]
  },
  {
   "cell_type": "code",
   "execution_count": 28,
   "metadata": {
    "scrolled": false
   },
   "outputs": [
    {
     "name": "stdout",
     "output_type": "stream",
     "text": [
      "0    14091\n",
      "1     4855\n",
      "2     2128\n",
      "3      330\n",
      "4       41\n",
      "5        9\n",
      "Name: children, dtype: int64\n"
     ]
    }
   ],
   "source": [
    "children_debt = data[['children','debt']]\n",
    "print(children_debt['children'].value_counts())"
   ]
  },
  {
   "cell_type": "markdown",
   "metadata": {},
   "source": [
    "Добавляем столбец с категорией семьи по количеству детей."
   ]
  },
  {
   "cell_type": "code",
   "execution_count": 44,
   "metadata": {
    "scrolled": true
   },
   "outputs": [],
   "source": [
    "children_debt['children_category'] = children_debt['children'].apply(children_group)\n",
    "pd.set_option('mode.chained_assignment', None)"
   ]
  },
  {
   "cell_type": "markdown",
   "metadata": {},
   "source": [
    "Проверяем."
   ]
  },
  {
   "cell_type": "code",
   "execution_count": 30,
   "metadata": {},
   "outputs": [
    {
     "data": {
      "text/plain": [
       "без детей      14091\n",
       "есть дети       6983\n",
       "многодетные      380\n",
       "Name: children_category, dtype: int64"
      ]
     },
     "metadata": {},
     "output_type": "display_data"
    }
   ],
   "source": [
    "display(children_debt['children_category'].value_counts())"
   ]
  },
  {
   "cell_type": "markdown",
   "metadata": {},
   "source": [
    "- Семейное положение и возврат кредита"
   ]
  },
  {
   "cell_type": "markdown",
   "metadata": {},
   "source": [
    "Выделяю в отдельную таблицу нужные столбцы. "
   ]
  },
  {
   "cell_type": "code",
   "execution_count": 31,
   "metadata": {},
   "outputs": [
    {
     "name": "stdout",
     "output_type": "stream",
     "text": [
      "женат / замужем          12339\n",
      "гражданский брак          4151\n",
      "Не женат / не замужем     2810\n",
      "в разводе                 1195\n",
      "вдовец / вдова             959\n",
      "Name: family_status, dtype: int64\n"
     ]
    }
   ],
   "source": [
    "family_status_deb = data[['family_status','debt','family_status_id']]\n",
    "print(family_status_deb['family_status'].value_counts())  "
   ]
  },
  {
   "cell_type": "markdown",
   "metadata": {},
   "source": [
    "- Цель кредита и возврат денег"
   ]
  },
  {
   "cell_type": "markdown",
   "metadata": {},
   "source": [
    "Выделяю в отдельную таблицу нужные столбцы."
   ]
  },
  {
   "cell_type": "code",
   "execution_count": 32,
   "metadata": {},
   "outputs": [
    {
     "data": {
      "text/plain": [
       "недвижимость    10811\n",
       "автомобиль       4306\n",
       "образование      4013\n",
       "свадьба          2324\n",
       "Name: purpose_category, dtype: int64"
      ]
     },
     "metadata": {},
     "output_type": "display_data"
    }
   ],
   "source": [
    "purpose_deb = data[['purpose_category','debt', 'purpose']]\n",
    "display(purpose_deb['purpose_category'].value_counts())"
   ]
  },
  {
   "cell_type": "markdown",
   "metadata": {},
   "source": [
    "- Уровень дохода и возврат кредита"
   ]
  },
  {
   "cell_type": "markdown",
   "metadata": {},
   "source": [
    "Выделяю в отдельную таблицу нужные столбцы"
   ]
  },
  {
   "cell_type": "code",
   "execution_count": 33,
   "metadata": {
    "scrolled": false
   },
   "outputs": [
    {
     "data": {
      "text/html": [
       "<div>\n",
       "<style scoped>\n",
       "    .dataframe tbody tr th:only-of-type {\n",
       "        vertical-align: middle;\n",
       "    }\n",
       "\n",
       "    .dataframe tbody tr th {\n",
       "        vertical-align: top;\n",
       "    }\n",
       "\n",
       "    .dataframe thead th {\n",
       "        text-align: right;\n",
       "    }\n",
       "</style>\n",
       "<table border=\"1\" class=\"dataframe\">\n",
       "  <thead>\n",
       "    <tr style=\"text-align: right;\">\n",
       "      <th></th>\n",
       "      <th>total_income</th>\n",
       "      <th>debt</th>\n",
       "    </tr>\n",
       "  </thead>\n",
       "  <tbody>\n",
       "    <tr>\n",
       "      <th>0</th>\n",
       "      <td>253875</td>\n",
       "      <td>0</td>\n",
       "    </tr>\n",
       "    <tr>\n",
       "      <th>1</th>\n",
       "      <td>112080</td>\n",
       "      <td>0</td>\n",
       "    </tr>\n",
       "    <tr>\n",
       "      <th>2</th>\n",
       "      <td>145885</td>\n",
       "      <td>0</td>\n",
       "    </tr>\n",
       "    <tr>\n",
       "      <th>3</th>\n",
       "      <td>267628</td>\n",
       "      <td>0</td>\n",
       "    </tr>\n",
       "    <tr>\n",
       "      <th>4</th>\n",
       "      <td>158616</td>\n",
       "      <td>0</td>\n",
       "    </tr>\n",
       "  </tbody>\n",
       "</table>\n",
       "</div>"
      ],
      "text/plain": [
       "   total_income  debt\n",
       "0        253875     0\n",
       "1        112080     0\n",
       "2        145885     0\n",
       "3        267628     0\n",
       "4        158616     0"
      ]
     },
     "metadata": {},
     "output_type": "display_data"
    }
   ],
   "source": [
    "income_deb = data[['total_income','debt']]\n",
    "display(income_deb.head())"
   ]
  },
  {
   "cell_type": "markdown",
   "metadata": {},
   "source": [
    "Разделим заемщиков на группы по квантилям."
   ]
  },
  {
   "cell_type": "code",
   "execution_count": 35,
   "metadata": {},
   "outputs": [
    {
     "data": {
      "text/plain": [
       "высокий    7295\n",
       "низкий     7080\n",
       "средний    7079\n",
       "Name: income_category, dtype: int64"
      ]
     },
     "metadata": {},
     "output_type": "display_data"
    }
   ],
   "source": [
    "income_deb['income_category'] = income_deb['total_income'].apply(income_group)\n",
    "display(income_deb['income_category'].value_counts())\n",
    "#pd.set_option('mode.chained_assignment', None)"
   ]
  },
  {
   "cell_type": "markdown",
   "metadata": {},
   "source": [
    "**Вывод**\n",
    "Данные поделенны на категории и готовы."
   ]
  },
  {
   "cell_type": "markdown",
   "metadata": {},
   "source": [
    "## Шаг 3. Поиск зависимости между категориями и возвратом заема в срок."
   ]
  },
  {
   "cell_type": "markdown",
   "metadata": {},
   "source": [
    "### Группы разделенные по количеству детей."
   ]
  },
  {
   "cell_type": "markdown",
   "metadata": {},
   "source": [
    "Сводная таблица по категории количество задолжностей в каждой группе."
   ]
  },
  {
   "cell_type": "code",
   "execution_count": 36,
   "metadata": {
    "scrolled": false
   },
   "outputs": [
    {
     "data": {
      "text/html": [
       "<div>\n",
       "<style scoped>\n",
       "    .dataframe tbody tr th:only-of-type {\n",
       "        vertical-align: middle;\n",
       "    }\n",
       "\n",
       "    .dataframe tbody tr th {\n",
       "        vertical-align: top;\n",
       "    }\n",
       "\n",
       "    .dataframe thead th {\n",
       "        text-align: right;\n",
       "    }\n",
       "</style>\n",
       "<table border=\"1\" class=\"dataframe\">\n",
       "  <thead>\n",
       "    <tr style=\"text-align: right;\">\n",
       "      <th>debt</th>\n",
       "      <th>children_category</th>\n",
       "      <th>0</th>\n",
       "      <th>1</th>\n",
       "    </tr>\n",
       "  </thead>\n",
       "  <tbody>\n",
       "    <tr>\n",
       "      <th>0</th>\n",
       "      <td>без детей</td>\n",
       "      <td>13028</td>\n",
       "      <td>1063</td>\n",
       "    </tr>\n",
       "    <tr>\n",
       "      <th>1</th>\n",
       "      <td>есть дети</td>\n",
       "      <td>6336</td>\n",
       "      <td>647</td>\n",
       "    </tr>\n",
       "    <tr>\n",
       "      <th>2</th>\n",
       "      <td>многодетные</td>\n",
       "      <td>349</td>\n",
       "      <td>31</td>\n",
       "    </tr>\n",
       "  </tbody>\n",
       "</table>\n",
       "</div>"
      ],
      "text/plain": [
       "debt children_category      0     1\n",
       "0            без детей  13028  1063\n",
       "1            есть дети   6336   647\n",
       "2          многодетные    349    31"
      ]
     },
     "metadata": {},
     "output_type": "display_data"
    }
   ],
   "source": [
    "children_debt_pivot = (\n",
    "    children_debt.pivot_table(index=['children_category'], columns='debt', values='children', aggfunc='count')\n",
    "    .reset_index()\n",
    ")\n",
    "display(children_debt_pivot)"
   ]
  },
  {
   "cell_type": "markdown",
   "metadata": {},
   "source": [
    "Посчитаем процент задолжности в группах. "
   ]
  },
  {
   "cell_type": "code",
   "execution_count": 37,
   "metadata": {
    "scrolled": true
   },
   "outputs": [
    {
     "data": {
      "text/html": [
       "<div>\n",
       "<style scoped>\n",
       "    .dataframe tbody tr th:only-of-type {\n",
       "        vertical-align: middle;\n",
       "    }\n",
       "\n",
       "    .dataframe tbody tr th {\n",
       "        vertical-align: top;\n",
       "    }\n",
       "\n",
       "    .dataframe thead th {\n",
       "        text-align: right;\n",
       "    }\n",
       "</style>\n",
       "<table border=\"1\" class=\"dataframe\">\n",
       "  <thead>\n",
       "    <tr style=\"text-align: right;\">\n",
       "      <th>debt</th>\n",
       "      <th>children_category</th>\n",
       "      <th>0</th>\n",
       "      <th>1</th>\n",
       "      <th>Процент должников</th>\n",
       "    </tr>\n",
       "  </thead>\n",
       "  <tbody>\n",
       "    <tr>\n",
       "      <th>0</th>\n",
       "      <td>без детей</td>\n",
       "      <td>13028</td>\n",
       "      <td>1063</td>\n",
       "      <td>7.5</td>\n",
       "    </tr>\n",
       "    <tr>\n",
       "      <th>1</th>\n",
       "      <td>есть дети</td>\n",
       "      <td>6336</td>\n",
       "      <td>647</td>\n",
       "      <td>9.3</td>\n",
       "    </tr>\n",
       "    <tr>\n",
       "      <th>2</th>\n",
       "      <td>многодетные</td>\n",
       "      <td>349</td>\n",
       "      <td>31</td>\n",
       "      <td>8.2</td>\n",
       "    </tr>\n",
       "  </tbody>\n",
       "</table>\n",
       "</div>"
      ],
      "text/plain": [
       "debt children_category      0     1  Процент должников\n",
       "0            без детей  13028  1063                7.5\n",
       "1            есть дети   6336   647                9.3\n",
       "2          многодетные    349    31                8.2"
      ]
     },
     "metadata": {},
     "output_type": "display_data"
    }
   ],
   "source": [
    "children_debt_pivot['Процент должников'] = children_debt_pivot[1] / (children_debt_pivot[0]+children_debt_pivot[1]) * 100\n",
    "children_debt_pivot['Процент должников'] = children_debt_pivot['Процент должников'].round(1)\n",
    "display(children_debt_pivot)"
   ]
  },
  {
   "cell_type": "markdown",
   "metadata": {},
   "source": [
    "**Вывод**\n",
    " Из данных в таблице можно заключить, что заёмщики с 1,2 детьми наименее надежные 9,3%. Самые надежные люди не имеющие детей 7,5%. "
   ]
  },
  {
   "cell_type": "markdown",
   "metadata": {},
   "source": [
    "### Группы выделенные по семейному положению."
   ]
  },
  {
   "cell_type": "markdown",
   "metadata": {},
   "source": [
    "Сводная таблица по интересующим данным."
   ]
  },
  {
   "cell_type": "code",
   "execution_count": 38,
   "metadata": {
    "scrolled": true
   },
   "outputs": [
    {
     "data": {
      "text/html": [
       "<div>\n",
       "<style scoped>\n",
       "    .dataframe tbody tr th:only-of-type {\n",
       "        vertical-align: middle;\n",
       "    }\n",
       "\n",
       "    .dataframe tbody tr th {\n",
       "        vertical-align: top;\n",
       "    }\n",
       "\n",
       "    .dataframe thead th {\n",
       "        text-align: right;\n",
       "    }\n",
       "</style>\n",
       "<table border=\"1\" class=\"dataframe\">\n",
       "  <thead>\n",
       "    <tr style=\"text-align: right;\">\n",
       "      <th>debt</th>\n",
       "      <th>family_status</th>\n",
       "      <th>0</th>\n",
       "      <th>1</th>\n",
       "    </tr>\n",
       "  </thead>\n",
       "  <tbody>\n",
       "    <tr>\n",
       "      <th>0</th>\n",
       "      <td>Не женат / не замужем</td>\n",
       "      <td>2536</td>\n",
       "      <td>274</td>\n",
       "    </tr>\n",
       "    <tr>\n",
       "      <th>1</th>\n",
       "      <td>в разводе</td>\n",
       "      <td>1110</td>\n",
       "      <td>85</td>\n",
       "    </tr>\n",
       "    <tr>\n",
       "      <th>2</th>\n",
       "      <td>вдовец / вдова</td>\n",
       "      <td>896</td>\n",
       "      <td>63</td>\n",
       "    </tr>\n",
       "    <tr>\n",
       "      <th>3</th>\n",
       "      <td>гражданский брак</td>\n",
       "      <td>3763</td>\n",
       "      <td>388</td>\n",
       "    </tr>\n",
       "    <tr>\n",
       "      <th>4</th>\n",
       "      <td>женат / замужем</td>\n",
       "      <td>11408</td>\n",
       "      <td>931</td>\n",
       "    </tr>\n",
       "  </tbody>\n",
       "</table>\n",
       "</div>"
      ],
      "text/plain": [
       "debt          family_status      0    1\n",
       "0     Не женат / не замужем   2536  274\n",
       "1                 в разводе   1110   85\n",
       "2            вдовец / вдова    896   63\n",
       "3          гражданский брак   3763  388\n",
       "4           женат / замужем  11408  931"
      ]
     },
     "metadata": {},
     "output_type": "display_data"
    }
   ],
   "source": [
    "family_status_deb_pivot = ( \n",
    "    family_status_deb.pivot_table(index=['family_status'], columns='debt', values ='family_status_id', aggfunc='count')\n",
    "    .reset_index()\n",
    ")\n",
    "display(family_status_deb_pivot)"
   ]
  },
  {
   "cell_type": "markdown",
   "metadata": {},
   "source": [
    "Высчитываем процент должников в группах и округляем его."
   ]
  },
  {
   "cell_type": "code",
   "execution_count": 39,
   "metadata": {
    "scrolled": false
   },
   "outputs": [
    {
     "data": {
      "text/html": [
       "<div>\n",
       "<style scoped>\n",
       "    .dataframe tbody tr th:only-of-type {\n",
       "        vertical-align: middle;\n",
       "    }\n",
       "\n",
       "    .dataframe tbody tr th {\n",
       "        vertical-align: top;\n",
       "    }\n",
       "\n",
       "    .dataframe thead th {\n",
       "        text-align: right;\n",
       "    }\n",
       "</style>\n",
       "<table border=\"1\" class=\"dataframe\">\n",
       "  <thead>\n",
       "    <tr style=\"text-align: right;\">\n",
       "      <th>debt</th>\n",
       "      <th>family_status</th>\n",
       "      <th>0</th>\n",
       "      <th>1</th>\n",
       "      <th>Процент должников</th>\n",
       "    </tr>\n",
       "  </thead>\n",
       "  <tbody>\n",
       "    <tr>\n",
       "      <th>0</th>\n",
       "      <td>Не женат / не замужем</td>\n",
       "      <td>2536</td>\n",
       "      <td>274</td>\n",
       "      <td>9.8</td>\n",
       "    </tr>\n",
       "    <tr>\n",
       "      <th>1</th>\n",
       "      <td>в разводе</td>\n",
       "      <td>1110</td>\n",
       "      <td>85</td>\n",
       "      <td>7.1</td>\n",
       "    </tr>\n",
       "    <tr>\n",
       "      <th>2</th>\n",
       "      <td>вдовец / вдова</td>\n",
       "      <td>896</td>\n",
       "      <td>63</td>\n",
       "      <td>6.6</td>\n",
       "    </tr>\n",
       "    <tr>\n",
       "      <th>3</th>\n",
       "      <td>гражданский брак</td>\n",
       "      <td>3763</td>\n",
       "      <td>388</td>\n",
       "      <td>9.3</td>\n",
       "    </tr>\n",
       "    <tr>\n",
       "      <th>4</th>\n",
       "      <td>женат / замужем</td>\n",
       "      <td>11408</td>\n",
       "      <td>931</td>\n",
       "      <td>7.5</td>\n",
       "    </tr>\n",
       "  </tbody>\n",
       "</table>\n",
       "</div>"
      ],
      "text/plain": [
       "debt          family_status      0    1  Процент должников\n",
       "0     Не женат / не замужем   2536  274                9.8\n",
       "1                 в разводе   1110   85                7.1\n",
       "2            вдовец / вдова    896   63                6.6\n",
       "3          гражданский брак   3763  388                9.3\n",
       "4           женат / замужем  11408  931                7.5"
      ]
     },
     "metadata": {},
     "output_type": "display_data"
    }
   ],
   "source": [
    "family_status_deb_pivot['Процент должников'] = family_status_deb_pivot[1] /(family_status_deb_pivot[1] + family_status_deb_pivot[0])  * 100\n",
    "family_status_deb_pivot['Процент должников'] = family_status_deb_pivot['Процент должников'].round(1)\n",
    "display(family_status_deb_pivot)"
   ]
  },
  {
   "cell_type": "markdown",
   "metadata": {},
   "source": [
    "**Вывод**\n",
    "Среди заёмщиков выделенных по семейному положению наибольший процент должников среди состоящих в гражданском браке\n",
    "и не состоящих в отношениях 9,3% и 9,8% соответсвенно. Самые ответственные - граждане потерявшие супруга."
   ]
  },
  {
   "cell_type": "markdown",
   "metadata": {},
   "source": [
    "### Группы выделенные по уровню дохода."
   ]
  },
  {
   "cell_type": "markdown",
   "metadata": {},
   "source": [
    "Сводная таблица по данным."
   ]
  },
  {
   "cell_type": "code",
   "execution_count": 40,
   "metadata": {
    "scrolled": true
   },
   "outputs": [
    {
     "data": {
      "text/html": [
       "<div>\n",
       "<style scoped>\n",
       "    .dataframe tbody tr th:only-of-type {\n",
       "        vertical-align: middle;\n",
       "    }\n",
       "\n",
       "    .dataframe tbody tr th {\n",
       "        vertical-align: top;\n",
       "    }\n",
       "\n",
       "    .dataframe thead th {\n",
       "        text-align: right;\n",
       "    }\n",
       "</style>\n",
       "<table border=\"1\" class=\"dataframe\">\n",
       "  <thead>\n",
       "    <tr style=\"text-align: right;\">\n",
       "      <th>debt</th>\n",
       "      <th>income_category</th>\n",
       "      <th>0</th>\n",
       "      <th>1</th>\n",
       "    </tr>\n",
       "  </thead>\n",
       "  <tbody>\n",
       "    <tr>\n",
       "      <th>0</th>\n",
       "      <td>высокий</td>\n",
       "      <td>6740</td>\n",
       "      <td>555</td>\n",
       "    </tr>\n",
       "    <tr>\n",
       "      <th>1</th>\n",
       "      <td>низкий</td>\n",
       "      <td>6502</td>\n",
       "      <td>578</td>\n",
       "    </tr>\n",
       "    <tr>\n",
       "      <th>2</th>\n",
       "      <td>средний</td>\n",
       "      <td>6471</td>\n",
       "      <td>608</td>\n",
       "    </tr>\n",
       "  </tbody>\n",
       "</table>\n",
       "</div>"
      ],
      "text/plain": [
       "debt income_category     0    1\n",
       "0            высокий  6740  555\n",
       "1             низкий  6502  578\n",
       "2            средний  6471  608"
      ]
     },
     "metadata": {},
     "output_type": "display_data"
    }
   ],
   "source": [
    "income_deb_pivot = (\n",
    "    income_deb.pivot_table(index=['income_category'], columns='debt', values ='total_income', aggfunc='count')\n",
    "    .reset_index()\n",
    ")\n",
    "display(income_deb_pivot)"
   ]
  },
  {
   "cell_type": "markdown",
   "metadata": {},
   "source": [
    "Высчитываю процент должников."
   ]
  },
  {
   "cell_type": "code",
   "execution_count": 41,
   "metadata": {},
   "outputs": [
    {
     "data": {
      "text/html": [
       "<div>\n",
       "<style scoped>\n",
       "    .dataframe tbody tr th:only-of-type {\n",
       "        vertical-align: middle;\n",
       "    }\n",
       "\n",
       "    .dataframe tbody tr th {\n",
       "        vertical-align: top;\n",
       "    }\n",
       "\n",
       "    .dataframe thead th {\n",
       "        text-align: right;\n",
       "    }\n",
       "</style>\n",
       "<table border=\"1\" class=\"dataframe\">\n",
       "  <thead>\n",
       "    <tr style=\"text-align: right;\">\n",
       "      <th>debt</th>\n",
       "      <th>income_category</th>\n",
       "      <th>0</th>\n",
       "      <th>1</th>\n",
       "      <th>Процент должников</th>\n",
       "    </tr>\n",
       "  </thead>\n",
       "  <tbody>\n",
       "    <tr>\n",
       "      <th>0</th>\n",
       "      <td>высокий</td>\n",
       "      <td>6740</td>\n",
       "      <td>555</td>\n",
       "      <td>7.6</td>\n",
       "    </tr>\n",
       "    <tr>\n",
       "      <th>1</th>\n",
       "      <td>низкий</td>\n",
       "      <td>6502</td>\n",
       "      <td>578</td>\n",
       "      <td>8.2</td>\n",
       "    </tr>\n",
       "    <tr>\n",
       "      <th>2</th>\n",
       "      <td>средний</td>\n",
       "      <td>6471</td>\n",
       "      <td>608</td>\n",
       "      <td>8.6</td>\n",
       "    </tr>\n",
       "  </tbody>\n",
       "</table>\n",
       "</div>"
      ],
      "text/plain": [
       "debt income_category     0    1  Процент должников\n",
       "0            высокий  6740  555                7.6\n",
       "1             низкий  6502  578                8.2\n",
       "2            средний  6471  608                8.6"
      ]
     },
     "metadata": {},
     "output_type": "display_data"
    }
   ],
   "source": [
    "income_deb_pivot['Процент должников'] = income_deb_pivot[1] / (income_deb_pivot[0] + income_deb_pivot[1]) * 100\n",
    "income_deb_pivot['Процент должников'] = income_deb_pivot['Процент должников'].round(1)\n",
    "display(income_deb_pivot)"
   ]
  },
  {
   "cell_type": "markdown",
   "metadata": {},
   "source": [
    "**Вывод**\n",
    "    \n",
    "Глядя на таблицу, можно сказать, что клиенты с средним доходом возвращают заем реже других групп граждан."
   ]
  },
  {
   "cell_type": "markdown",
   "metadata": {},
   "source": [
    "### Цель кредита."
   ]
  },
  {
   "cell_type": "markdown",
   "metadata": {},
   "source": [
    "Сводная таблица."
   ]
  },
  {
   "cell_type": "code",
   "execution_count": 42,
   "metadata": {
    "scrolled": true
   },
   "outputs": [
    {
     "data": {
      "text/html": [
       "<div>\n",
       "<style scoped>\n",
       "    .dataframe tbody tr th:only-of-type {\n",
       "        vertical-align: middle;\n",
       "    }\n",
       "\n",
       "    .dataframe tbody tr th {\n",
       "        vertical-align: top;\n",
       "    }\n",
       "\n",
       "    .dataframe thead th {\n",
       "        text-align: right;\n",
       "    }\n",
       "</style>\n",
       "<table border=\"1\" class=\"dataframe\">\n",
       "  <thead>\n",
       "    <tr style=\"text-align: right;\">\n",
       "      <th>debt</th>\n",
       "      <th>purpose_category</th>\n",
       "      <th>0</th>\n",
       "      <th>1</th>\n",
       "    </tr>\n",
       "  </thead>\n",
       "  <tbody>\n",
       "    <tr>\n",
       "      <th>0</th>\n",
       "      <td>автомобиль</td>\n",
       "      <td>3903</td>\n",
       "      <td>403</td>\n",
       "    </tr>\n",
       "    <tr>\n",
       "      <th>1</th>\n",
       "      <td>недвижимость</td>\n",
       "      <td>10029</td>\n",
       "      <td>782</td>\n",
       "    </tr>\n",
       "    <tr>\n",
       "      <th>2</th>\n",
       "      <td>образование</td>\n",
       "      <td>3643</td>\n",
       "      <td>370</td>\n",
       "    </tr>\n",
       "    <tr>\n",
       "      <th>3</th>\n",
       "      <td>свадьба</td>\n",
       "      <td>2138</td>\n",
       "      <td>186</td>\n",
       "    </tr>\n",
       "  </tbody>\n",
       "</table>\n",
       "</div>"
      ],
      "text/plain": [
       "debt purpose_category      0    1\n",
       "0          автомобиль   3903  403\n",
       "1        недвижимость  10029  782\n",
       "2         образование   3643  370\n",
       "3             свадьба   2138  186"
      ]
     },
     "metadata": {},
     "output_type": "display_data"
    }
   ],
   "source": [
    "purpose_deb_pivot = (\n",
    "    purpose_deb.pivot_table(index=['purpose_category'], columns='debt', values ='purpose', aggfunc='count')\n",
    "    .reset_index()\n",
    ")\n",
    "display(purpose_deb_pivot)"
   ]
  },
  {
   "cell_type": "markdown",
   "metadata": {},
   "source": [
    "Находим процент должников."
   ]
  },
  {
   "cell_type": "code",
   "execution_count": 43,
   "metadata": {
    "scrolled": true
   },
   "outputs": [
    {
     "data": {
      "text/html": [
       "<div>\n",
       "<style scoped>\n",
       "    .dataframe tbody tr th:only-of-type {\n",
       "        vertical-align: middle;\n",
       "    }\n",
       "\n",
       "    .dataframe tbody tr th {\n",
       "        vertical-align: top;\n",
       "    }\n",
       "\n",
       "    .dataframe thead th {\n",
       "        text-align: right;\n",
       "    }\n",
       "</style>\n",
       "<table border=\"1\" class=\"dataframe\">\n",
       "  <thead>\n",
       "    <tr style=\"text-align: right;\">\n",
       "      <th>debt</th>\n",
       "      <th>purpose_category</th>\n",
       "      <th>0</th>\n",
       "      <th>1</th>\n",
       "      <th>Процент должников</th>\n",
       "    </tr>\n",
       "  </thead>\n",
       "  <tbody>\n",
       "    <tr>\n",
       "      <th>0</th>\n",
       "      <td>автомобиль</td>\n",
       "      <td>3903</td>\n",
       "      <td>403</td>\n",
       "      <td>9.4</td>\n",
       "    </tr>\n",
       "    <tr>\n",
       "      <th>1</th>\n",
       "      <td>недвижимость</td>\n",
       "      <td>10029</td>\n",
       "      <td>782</td>\n",
       "      <td>7.2</td>\n",
       "    </tr>\n",
       "    <tr>\n",
       "      <th>2</th>\n",
       "      <td>образование</td>\n",
       "      <td>3643</td>\n",
       "      <td>370</td>\n",
       "      <td>9.2</td>\n",
       "    </tr>\n",
       "    <tr>\n",
       "      <th>3</th>\n",
       "      <td>свадьба</td>\n",
       "      <td>2138</td>\n",
       "      <td>186</td>\n",
       "      <td>8.0</td>\n",
       "    </tr>\n",
       "  </tbody>\n",
       "</table>\n",
       "</div>"
      ],
      "text/plain": [
       "debt purpose_category      0    1  Процент должников\n",
       "0          автомобиль   3903  403                9.4\n",
       "1        недвижимость  10029  782                7.2\n",
       "2         образование   3643  370                9.2\n",
       "3             свадьба   2138  186                8.0"
      ]
     },
     "metadata": {},
     "output_type": "display_data"
    }
   ],
   "source": [
    "purpose_deb_pivot['Процент должников'] = purpose_deb_pivot[1] / (purpose_deb_pivot[0] + purpose_deb_pivot[1]) * 100\n",
    "purpose_deb_pivot['Процент должников'] = purpose_deb_pivot['Процент должников'].round(1)\n",
    "display(purpose_deb_pivot)"
   ]
  },
  {
   "cell_type": "markdown",
   "metadata": {},
   "source": [
    "**Вывод**\n",
    "Люди берущие кредит на покупку автомобиля или образование оказались наименее надежными 9,4% и 9,2%. В это же время заёмщики назвавшие своей целью покупку недвижимости являются более аккуратными в выплатах по кредиту."
   ]
  },
  {
   "cell_type": "markdown",
   "metadata": {},
   "source": [
    "## Шаг 4. Общий вывод"
   ]
  },
  {
   "cell_type": "markdown",
   "metadata": {},
   "source": [
    "На выплату заема в срок влияют различные факторы.\n",
    "Среди самых надежных заёмщиков можно выделить:\n",
    "- в категориях выделенных по количеству детей, люди не имеющие детей оказались самыми прилежными платильщиками;\n",
    "- среди граждан разного семейного статуса - потерявшие супруга;\n",
    "- кредитополучатели со средним доходом чаще возвращали заём в срок;\n",
    "- заёмщики бравшие деньги на операции с недвижимостью лучше остальных, взявших деньги на другие цели, выплачивали долг."
   ]
  },
  {
   "cell_type": "markdown",
   "metadata": {},
   "source": [
    "  "
   ]
  }
 ],
 "metadata": {
  "ExecuteTimeLog": [
   {
    "duration": 719,
    "start_time": "2021-12-06T06:51:06.057Z"
   },
   {
    "duration": 59,
    "start_time": "2021-12-06T06:51:40.009Z"
   },
   {
    "duration": 19,
    "start_time": "2021-12-06T06:56:46.174Z"
   },
   {
    "duration": 14,
    "start_time": "2021-12-06T07:08:46.761Z"
   },
   {
    "duration": 13,
    "start_time": "2021-12-06T07:09:15.778Z"
   },
   {
    "duration": 7,
    "start_time": "2021-12-06T07:55:19.017Z"
   },
   {
    "duration": 5,
    "start_time": "2021-12-06T07:56:05.634Z"
   },
   {
    "duration": 7,
    "start_time": "2021-12-06T07:57:35.258Z"
   },
   {
    "duration": 6,
    "start_time": "2021-12-06T07:57:37.298Z"
   },
   {
    "duration": 6,
    "start_time": "2021-12-06T07:58:22.099Z"
   },
   {
    "duration": 14,
    "start_time": "2021-12-06T09:15:54.567Z"
   },
   {
    "duration": 21,
    "start_time": "2021-12-06T09:16:54.864Z"
   },
   {
    "duration": 6,
    "start_time": "2021-12-06T09:49:32.852Z"
   },
   {
    "duration": 339,
    "start_time": "2021-12-06T09:50:46.869Z"
   },
   {
    "duration": 6,
    "start_time": "2021-12-06T09:51:05.453Z"
   },
   {
    "duration": 5,
    "start_time": "2021-12-06T09:52:13.071Z"
   },
   {
    "duration": 23,
    "start_time": "2021-12-06T09:52:43.655Z"
   },
   {
    "duration": 15,
    "start_time": "2021-12-06T09:53:00.770Z"
   },
   {
    "duration": 83,
    "start_time": "2021-12-06T09:56:41.730Z"
   },
   {
    "duration": 15,
    "start_time": "2021-12-06T09:57:32.411Z"
   },
   {
    "duration": 14,
    "start_time": "2021-12-06T09:57:43.444Z"
   },
   {
    "duration": 7,
    "start_time": "2021-12-06T09:59:18.397Z"
   },
   {
    "duration": 7,
    "start_time": "2021-12-06T09:59:52.206Z"
   },
   {
    "duration": 5,
    "start_time": "2021-12-06T10:01:09.847Z"
   },
   {
    "duration": 82,
    "start_time": "2021-12-06T10:02:44.880Z"
   },
   {
    "duration": 4,
    "start_time": "2021-12-06T10:02:53.711Z"
   },
   {
    "duration": 6,
    "start_time": "2021-12-06T10:03:56.097Z"
   },
   {
    "duration": 11,
    "start_time": "2021-12-06T10:08:02.285Z"
   },
   {
    "duration": 5,
    "start_time": "2021-12-06T10:10:48.639Z"
   },
   {
    "duration": 5,
    "start_time": "2021-12-06T10:17:51.357Z"
   },
   {
    "duration": 6,
    "start_time": "2021-12-06T10:25:34.228Z"
   },
   {
    "duration": 3,
    "start_time": "2021-12-06T10:25:59.221Z"
   },
   {
    "duration": 4,
    "start_time": "2021-12-06T10:26:02.396Z"
   },
   {
    "duration": 13,
    "start_time": "2021-12-06T10:26:34.309Z"
   },
   {
    "duration": 4,
    "start_time": "2021-12-06T10:26:51.829Z"
   },
   {
    "duration": 11,
    "start_time": "2021-12-06T10:41:51.803Z"
   },
   {
    "duration": 4,
    "start_time": "2021-12-06T10:52:31.795Z"
   },
   {
    "duration": 6,
    "start_time": "2021-12-06T11:01:54.963Z"
   },
   {
    "duration": 7,
    "start_time": "2021-12-06T11:02:16.700Z"
   },
   {
    "duration": 21,
    "start_time": "2021-12-06T11:03:36.175Z"
   },
   {
    "duration": 7,
    "start_time": "2021-12-06T11:04:57.680Z"
   },
   {
    "duration": 7,
    "start_time": "2021-12-06T11:05:09.798Z"
   },
   {
    "duration": 4,
    "start_time": "2021-12-06T11:09:25.355Z"
   },
   {
    "duration": 4,
    "start_time": "2021-12-06T11:09:42.466Z"
   },
   {
    "duration": 4,
    "start_time": "2021-12-06T11:10:19.436Z"
   },
   {
    "duration": 5,
    "start_time": "2021-12-06T11:10:54.323Z"
   },
   {
    "duration": 5,
    "start_time": "2021-12-06T11:10:54.843Z"
   },
   {
    "duration": 11,
    "start_time": "2021-12-06T11:11:27.308Z"
   },
   {
    "duration": 3,
    "start_time": "2021-12-06T11:29:18.051Z"
   },
   {
    "duration": 5,
    "start_time": "2021-12-06T11:29:42.805Z"
   },
   {
    "duration": 13,
    "start_time": "2021-12-06T11:30:06.869Z"
   },
   {
    "duration": 13,
    "start_time": "2021-12-06T11:32:27.192Z"
   },
   {
    "duration": 58,
    "start_time": "2021-12-06T11:34:06.872Z"
   },
   {
    "duration": 18,
    "start_time": "2021-12-06T12:12:46.515Z"
   },
   {
    "duration": 15,
    "start_time": "2021-12-06T12:13:55.452Z"
   },
   {
    "duration": 229,
    "start_time": "2021-12-06T12:14:43.813Z"
   },
   {
    "duration": 7,
    "start_time": "2021-12-06T12:15:32.358Z"
   },
   {
    "duration": 15,
    "start_time": "2021-12-06T14:01:20.833Z"
   },
   {
    "duration": 58,
    "start_time": "2021-12-06T14:04:15.198Z"
   },
   {
    "duration": 13,
    "start_time": "2021-12-06T14:04:15.259Z"
   },
   {
    "duration": 38,
    "start_time": "2021-12-06T14:04:15.274Z"
   },
   {
    "duration": 23,
    "start_time": "2021-12-06T14:04:15.314Z"
   },
   {
    "duration": 26,
    "start_time": "2021-12-06T14:04:15.339Z"
   },
   {
    "duration": 23,
    "start_time": "2021-12-06T14:04:15.367Z"
   },
   {
    "duration": 27,
    "start_time": "2021-12-06T14:04:15.392Z"
   },
   {
    "duration": 24,
    "start_time": "2021-12-06T14:04:15.421Z"
   },
   {
    "duration": 15,
    "start_time": "2021-12-06T14:04:15.447Z"
   },
   {
    "duration": 22,
    "start_time": "2021-12-06T14:04:15.464Z"
   },
   {
    "duration": 46,
    "start_time": "2021-12-06T14:04:15.488Z"
   },
   {
    "duration": 28,
    "start_time": "2021-12-06T14:04:15.536Z"
   },
   {
    "duration": 49,
    "start_time": "2021-12-06T14:04:15.565Z"
   },
   {
    "duration": 28,
    "start_time": "2021-12-06T14:04:15.615Z"
   },
   {
    "duration": 40,
    "start_time": "2021-12-06T14:04:15.645Z"
   },
   {
    "duration": 28,
    "start_time": "2021-12-06T14:04:15.687Z"
   },
   {
    "duration": 29,
    "start_time": "2021-12-06T14:04:15.717Z"
   },
   {
    "duration": 111,
    "start_time": "2021-12-06T14:04:15.748Z"
   },
   {
    "duration": 15,
    "start_time": "2021-12-06T14:09:18.791Z"
   },
   {
    "duration": 21,
    "start_time": "2021-12-06T14:09:45.823Z"
   },
   {
    "duration": 51,
    "start_time": "2021-12-06T14:10:18.464Z"
   },
   {
    "duration": 33,
    "start_time": "2021-12-06T14:11:25.433Z"
   },
   {
    "duration": 23,
    "start_time": "2021-12-06T14:11:59.470Z"
   },
   {
    "duration": 385,
    "start_time": "2021-12-07T07:00:21.104Z"
   },
   {
    "duration": 657,
    "start_time": "2021-12-07T07:00:33.543Z"
   },
   {
    "duration": 7,
    "start_time": "2021-12-07T07:00:41.038Z"
   },
   {
    "duration": 62,
    "start_time": "2021-12-07T07:03:08.679Z"
   },
   {
    "duration": 20,
    "start_time": "2021-12-07T07:03:08.743Z"
   },
   {
    "duration": 13,
    "start_time": "2021-12-07T07:03:08.766Z"
   },
   {
    "duration": 27,
    "start_time": "2021-12-07T07:03:08.781Z"
   },
   {
    "duration": 7,
    "start_time": "2021-12-07T07:03:08.810Z"
   },
   {
    "duration": 10,
    "start_time": "2021-12-07T07:03:08.818Z"
   },
   {
    "duration": 17,
    "start_time": "2021-12-07T07:03:08.830Z"
   },
   {
    "duration": 4,
    "start_time": "2021-12-07T07:03:08.850Z"
   },
   {
    "duration": 4,
    "start_time": "2021-12-07T07:03:08.856Z"
   },
   {
    "duration": 52,
    "start_time": "2021-12-07T07:03:08.862Z"
   },
   {
    "duration": 8,
    "start_time": "2021-12-07T07:03:08.916Z"
   },
   {
    "duration": 5,
    "start_time": "2021-12-07T07:03:08.925Z"
   },
   {
    "duration": 13,
    "start_time": "2021-12-07T07:03:08.932Z"
   },
   {
    "duration": 24,
    "start_time": "2021-12-07T07:03:08.946Z"
   },
   {
    "duration": 35,
    "start_time": "2021-12-07T07:03:08.972Z"
   },
   {
    "duration": 6,
    "start_time": "2021-12-07T07:04:31.780Z"
   },
   {
    "duration": 14,
    "start_time": "2021-12-07T07:10:41.360Z"
   },
   {
    "duration": 22,
    "start_time": "2021-12-07T07:11:19.767Z"
   },
   {
    "duration": 31,
    "start_time": "2021-12-07T07:11:34.009Z"
   },
   {
    "duration": 28,
    "start_time": "2021-12-07T07:12:08.810Z"
   },
   {
    "duration": 12,
    "start_time": "2021-12-07T07:19:53.846Z"
   },
   {
    "duration": 148,
    "start_time": "2021-12-07T07:20:26.064Z"
   },
   {
    "duration": 17,
    "start_time": "2021-12-07T07:20:49.144Z"
   },
   {
    "duration": 17,
    "start_time": "2021-12-07T07:20:59.232Z"
   },
   {
    "duration": 16,
    "start_time": "2021-12-07T07:30:57.128Z"
   },
   {
    "duration": 8,
    "start_time": "2021-12-07T07:56:40.360Z"
   },
   {
    "duration": 7,
    "start_time": "2021-12-07T08:01:48.964Z"
   },
   {
    "duration": 12,
    "start_time": "2021-12-07T08:05:13.624Z"
   },
   {
    "duration": 18,
    "start_time": "2021-12-07T08:05:29.621Z"
   },
   {
    "duration": 58,
    "start_time": "2021-12-07T08:12:12.298Z"
   },
   {
    "duration": 7,
    "start_time": "2021-12-07T08:12:12.358Z"
   },
   {
    "duration": 11,
    "start_time": "2021-12-07T08:12:12.367Z"
   },
   {
    "duration": 41,
    "start_time": "2021-12-07T08:12:12.380Z"
   },
   {
    "duration": 7,
    "start_time": "2021-12-07T08:12:12.423Z"
   },
   {
    "duration": 6,
    "start_time": "2021-12-07T08:12:12.432Z"
   },
   {
    "duration": 5,
    "start_time": "2021-12-07T08:12:12.440Z"
   },
   {
    "duration": 6,
    "start_time": "2021-12-07T08:12:12.446Z"
   },
   {
    "duration": 13,
    "start_time": "2021-12-07T08:12:12.455Z"
   },
   {
    "duration": 40,
    "start_time": "2021-12-07T08:12:12.469Z"
   },
   {
    "duration": 5,
    "start_time": "2021-12-07T08:12:12.513Z"
   },
   {
    "duration": 13,
    "start_time": "2021-12-07T08:12:12.520Z"
   },
   {
    "duration": 4,
    "start_time": "2021-12-07T08:12:12.535Z"
   },
   {
    "duration": 4,
    "start_time": "2021-12-07T08:12:12.541Z"
   },
   {
    "duration": 7,
    "start_time": "2021-12-07T08:12:12.546Z"
   },
   {
    "duration": 11,
    "start_time": "2021-12-07T08:12:12.554Z"
   },
   {
    "duration": 56,
    "start_time": "2021-12-07T08:12:12.566Z"
   },
   {
    "duration": 14,
    "start_time": "2021-12-07T08:12:12.624Z"
   },
   {
    "duration": 21,
    "start_time": "2021-12-07T08:12:12.639Z"
   },
   {
    "duration": 6,
    "start_time": "2021-12-07T08:12:12.662Z"
   },
   {
    "duration": 40,
    "start_time": "2021-12-07T08:12:12.670Z"
   },
   {
    "duration": 19,
    "start_time": "2021-12-07T08:12:12.713Z"
   },
   {
    "duration": 667,
    "start_time": "2021-12-07T08:13:31.246Z"
   },
   {
    "duration": 4369,
    "start_time": "2021-12-07T08:56:34.483Z"
   },
   {
    "duration": 3777,
    "start_time": "2021-12-07T08:56:44.247Z"
   },
   {
    "duration": 60,
    "start_time": "2021-12-07T08:57:06.567Z"
   },
   {
    "duration": 3,
    "start_time": "2021-12-07T08:57:06.630Z"
   },
   {
    "duration": 15,
    "start_time": "2021-12-07T08:57:06.636Z"
   },
   {
    "duration": 13,
    "start_time": "2021-12-07T08:57:06.653Z"
   },
   {
    "duration": 8,
    "start_time": "2021-12-07T08:57:06.668Z"
   },
   {
    "duration": 31,
    "start_time": "2021-12-07T08:57:06.678Z"
   },
   {
    "duration": 12,
    "start_time": "2021-12-07T08:57:06.711Z"
   },
   {
    "duration": 14,
    "start_time": "2021-12-07T08:57:06.725Z"
   },
   {
    "duration": 26,
    "start_time": "2021-12-07T08:57:06.742Z"
   },
   {
    "duration": 5,
    "start_time": "2021-12-07T08:57:06.770Z"
   },
   {
    "duration": 7,
    "start_time": "2021-12-07T08:57:06.776Z"
   },
   {
    "duration": 24,
    "start_time": "2021-12-07T08:57:06.784Z"
   },
   {
    "duration": 6,
    "start_time": "2021-12-07T08:57:06.810Z"
   },
   {
    "duration": 4,
    "start_time": "2021-12-07T08:57:06.818Z"
   },
   {
    "duration": 9,
    "start_time": "2021-12-07T08:57:06.824Z"
   },
   {
    "duration": 22,
    "start_time": "2021-12-07T08:57:06.835Z"
   },
   {
    "duration": 14,
    "start_time": "2021-12-07T08:57:06.858Z"
   },
   {
    "duration": 34,
    "start_time": "2021-12-07T08:57:06.873Z"
   },
   {
    "duration": 25,
    "start_time": "2021-12-07T08:57:06.909Z"
   },
   {
    "duration": 7,
    "start_time": "2021-12-07T08:57:06.935Z"
   },
   {
    "duration": 16,
    "start_time": "2021-12-07T08:57:06.944Z"
   },
   {
    "duration": 22,
    "start_time": "2021-12-07T08:57:06.962Z"
   },
   {
    "duration": 5042,
    "start_time": "2021-12-07T08:57:07.006Z"
   },
   {
    "duration": 8,
    "start_time": "2021-12-07T08:57:36.068Z"
   },
   {
    "duration": 3620,
    "start_time": "2021-12-07T10:44:39.298Z"
   },
   {
    "duration": 6,
    "start_time": "2021-12-07T10:44:42.920Z"
   },
   {
    "duration": 14,
    "start_time": "2021-12-07T10:45:09.330Z"
   },
   {
    "duration": 3831,
    "start_time": "2021-12-07T10:45:55.443Z"
   },
   {
    "duration": 7,
    "start_time": "2021-12-07T10:45:59.276Z"
   },
   {
    "duration": 14,
    "start_time": "2021-12-07T10:46:03.898Z"
   },
   {
    "duration": 10850,
    "start_time": "2021-12-07T11:25:06.588Z"
   },
   {
    "duration": 4,
    "start_time": "2021-12-07T11:49:09.674Z"
   },
   {
    "duration": 10,
    "start_time": "2021-12-07T11:49:46.202Z"
   },
   {
    "duration": 7,
    "start_time": "2021-12-07T11:49:50.714Z"
   },
   {
    "duration": 372,
    "start_time": "2021-12-07T12:29:02.772Z"
   },
   {
    "duration": 65,
    "start_time": "2021-12-07T12:29:19.591Z"
   },
   {
    "duration": 17,
    "start_time": "2021-12-07T12:29:19.658Z"
   },
   {
    "duration": 40,
    "start_time": "2021-12-07T12:29:19.679Z"
   },
   {
    "duration": 14,
    "start_time": "2021-12-07T12:29:19.723Z"
   },
   {
    "duration": 13,
    "start_time": "2021-12-07T12:29:19.739Z"
   },
   {
    "duration": 6,
    "start_time": "2021-12-07T12:29:19.754Z"
   },
   {
    "duration": 14,
    "start_time": "2021-12-07T12:29:19.762Z"
   },
   {
    "duration": 33,
    "start_time": "2021-12-07T12:29:19.778Z"
   },
   {
    "duration": 19,
    "start_time": "2021-12-07T12:29:19.814Z"
   },
   {
    "duration": 4,
    "start_time": "2021-12-07T12:29:19.835Z"
   },
   {
    "duration": 8,
    "start_time": "2021-12-07T12:29:19.840Z"
   },
   {
    "duration": 12,
    "start_time": "2021-12-07T12:29:19.923Z"
   },
   {
    "duration": 7,
    "start_time": "2021-12-07T12:29:19.937Z"
   },
   {
    "duration": 26,
    "start_time": "2021-12-07T12:29:19.946Z"
   },
   {
    "duration": 7,
    "start_time": "2021-12-07T12:29:19.975Z"
   },
   {
    "duration": 14,
    "start_time": "2021-12-07T12:29:19.983Z"
   },
   {
    "duration": 15,
    "start_time": "2021-12-07T12:29:19.998Z"
   },
   {
    "duration": 20,
    "start_time": "2021-12-07T12:29:20.016Z"
   },
   {
    "duration": 23,
    "start_time": "2021-12-07T12:29:20.038Z"
   },
   {
    "duration": 7,
    "start_time": "2021-12-07T12:29:20.064Z"
   },
   {
    "duration": 38,
    "start_time": "2021-12-07T12:29:20.073Z"
   },
   {
    "duration": 25,
    "start_time": "2021-12-07T12:29:20.113Z"
   },
   {
    "duration": 5027,
    "start_time": "2021-12-07T12:29:20.140Z"
   },
   {
    "duration": 8,
    "start_time": "2021-12-07T12:29:25.169Z"
   },
   {
    "duration": 28,
    "start_time": "2021-12-07T12:29:25.179Z"
   },
   {
    "duration": 27,
    "start_time": "2021-12-07T12:29:25.209Z"
   },
   {
    "duration": 397,
    "start_time": "2021-12-07T12:29:25.238Z"
   },
   {
    "duration": 9,
    "start_time": "2021-12-07T12:29:46.457Z"
   },
   {
    "duration": 9,
    "start_time": "2021-12-07T12:30:12.348Z"
   },
   {
    "duration": 8,
    "start_time": "2021-12-07T12:32:50.640Z"
   },
   {
    "duration": 8,
    "start_time": "2021-12-07T12:39:30.278Z"
   },
   {
    "duration": 8,
    "start_time": "2021-12-07T12:39:34.917Z"
   },
   {
    "duration": 367,
    "start_time": "2021-12-07T12:43:51.097Z"
   },
   {
    "duration": 6,
    "start_time": "2021-12-07T12:44:18.809Z"
   },
   {
    "duration": 14,
    "start_time": "2021-12-07T13:05:29.213Z"
   },
   {
    "duration": 106,
    "start_time": "2021-12-07T13:17:26.942Z"
   },
   {
    "duration": 116,
    "start_time": "2021-12-07T13:17:41.038Z"
   },
   {
    "duration": 125,
    "start_time": "2021-12-07T13:18:19.975Z"
   },
   {
    "duration": 139,
    "start_time": "2021-12-07T13:18:33.999Z"
   },
   {
    "duration": 196,
    "start_time": "2021-12-07T13:20:03.234Z"
   },
   {
    "duration": 115,
    "start_time": "2021-12-07T13:21:08.850Z"
   },
   {
    "duration": 4,
    "start_time": "2021-12-07T13:21:40.075Z"
   },
   {
    "duration": 3,
    "start_time": "2021-12-07T13:21:45.802Z"
   },
   {
    "duration": 4,
    "start_time": "2021-12-07T13:21:51.370Z"
   },
   {
    "duration": 657,
    "start_time": "2021-12-07T13:22:58.524Z"
   },
   {
    "duration": 9,
    "start_time": "2021-12-07T13:26:08.638Z"
   },
   {
    "duration": 8,
    "start_time": "2021-12-07T13:26:47.575Z"
   },
   {
    "duration": 7717,
    "start_time": "2021-12-07T13:28:03.760Z"
   },
   {
    "duration": 637,
    "start_time": "2021-12-07T13:28:43.401Z"
   },
   {
    "duration": 8,
    "start_time": "2021-12-07T13:30:14.434Z"
   },
   {
    "duration": 9,
    "start_time": "2021-12-07T13:35:43.134Z"
   },
   {
    "duration": 9,
    "start_time": "2021-12-07T13:36:06.278Z"
   },
   {
    "duration": 9095,
    "start_time": "2021-12-07T13:36:13.542Z"
   },
   {
    "duration": 9,
    "start_time": "2021-12-07T13:37:55.784Z"
   },
   {
    "duration": 1493,
    "start_time": "2021-12-07T13:38:52.072Z"
   },
   {
    "duration": 118,
    "start_time": "2021-12-07T14:02:51.749Z"
   },
   {
    "duration": 343,
    "start_time": "2021-12-07T14:02:55.373Z"
   },
   {
    "duration": 8,
    "start_time": "2021-12-07T14:03:43.150Z"
   },
   {
    "duration": 213,
    "start_time": "2021-12-07T17:05:09.821Z"
   },
   {
    "duration": 609,
    "start_time": "2021-12-07T17:05:20.918Z"
   },
   {
    "duration": 4,
    "start_time": "2021-12-07T17:05:21.529Z"
   },
   {
    "duration": 19,
    "start_time": "2021-12-07T17:05:21.535Z"
   },
   {
    "duration": 13,
    "start_time": "2021-12-07T17:05:21.556Z"
   },
   {
    "duration": 25,
    "start_time": "2021-12-07T17:05:21.571Z"
   },
   {
    "duration": 6,
    "start_time": "2021-12-07T17:05:21.598Z"
   },
   {
    "duration": 10,
    "start_time": "2021-12-07T17:05:21.606Z"
   },
   {
    "duration": 7,
    "start_time": "2021-12-07T17:05:21.618Z"
   },
   {
    "duration": 16,
    "start_time": "2021-12-07T17:05:21.627Z"
   },
   {
    "duration": 4,
    "start_time": "2021-12-07T17:05:21.645Z"
   },
   {
    "duration": 7,
    "start_time": "2021-12-07T17:05:21.650Z"
   },
   {
    "duration": 42,
    "start_time": "2021-12-07T17:05:21.658Z"
   },
   {
    "duration": 6,
    "start_time": "2021-12-07T17:05:21.702Z"
   },
   {
    "duration": 4,
    "start_time": "2021-12-07T17:05:21.710Z"
   },
   {
    "duration": 7,
    "start_time": "2021-12-07T17:05:21.716Z"
   },
   {
    "duration": 14,
    "start_time": "2021-12-07T17:05:21.725Z"
   },
   {
    "duration": 13,
    "start_time": "2021-12-07T17:05:21.740Z"
   },
   {
    "duration": 43,
    "start_time": "2021-12-07T17:05:21.754Z"
   },
   {
    "duration": 24,
    "start_time": "2021-12-07T17:05:21.799Z"
   },
   {
    "duration": 6,
    "start_time": "2021-12-07T17:05:21.825Z"
   },
   {
    "duration": 13,
    "start_time": "2021-12-07T17:05:21.833Z"
   },
   {
    "duration": 22,
    "start_time": "2021-12-07T17:05:21.847Z"
   },
   {
    "duration": 4421,
    "start_time": "2021-12-07T17:05:21.892Z"
   },
   {
    "duration": 6,
    "start_time": "2021-12-07T17:05:26.315Z"
   },
   {
    "duration": 15,
    "start_time": "2021-12-07T17:05:26.323Z"
   },
   {
    "duration": 15,
    "start_time": "2021-12-07T17:05:26.340Z"
   },
   {
    "duration": 8,
    "start_time": "2021-12-07T17:05:26.357Z"
   },
   {
    "duration": 36,
    "start_time": "2021-12-07T17:05:26.367Z"
   },
   {
    "duration": 10,
    "start_time": "2021-12-07T17:05:26.404Z"
   },
   {
    "duration": 9,
    "start_time": "2021-12-07T17:05:26.416Z"
   },
   {
    "duration": 7,
    "start_time": "2021-12-07T17:05:53.633Z"
   },
   {
    "duration": 7,
    "start_time": "2021-12-07T17:06:50.511Z"
   },
   {
    "duration": 3,
    "start_time": "2021-12-07T17:54:31.941Z"
   },
   {
    "duration": 5,
    "start_time": "2021-12-07T17:57:49.357Z"
   },
   {
    "duration": 5,
    "start_time": "2021-12-07T17:59:03.878Z"
   },
   {
    "duration": 6,
    "start_time": "2021-12-07T17:59:50.307Z"
   },
   {
    "duration": 4,
    "start_time": "2021-12-07T18:00:38.172Z"
   },
   {
    "duration": 3,
    "start_time": "2021-12-07T18:03:14.610Z"
   },
   {
    "duration": 5,
    "start_time": "2021-12-07T18:03:51.116Z"
   },
   {
    "duration": 4,
    "start_time": "2021-12-07T18:14:49.509Z"
   },
   {
    "duration": 9165,
    "start_time": "2021-12-07T18:16:12.690Z"
   },
   {
    "duration": 4356,
    "start_time": "2021-12-07T18:16:29.172Z"
   },
   {
    "duration": 11,
    "start_time": "2021-12-07T18:16:58.731Z"
   },
   {
    "duration": 16,
    "start_time": "2021-12-07T18:17:44.466Z"
   },
   {
    "duration": 15,
    "start_time": "2021-12-07T18:18:18.953Z"
   },
   {
    "duration": 5,
    "start_time": "2021-12-07T18:26:40.283Z"
   },
   {
    "duration": 16,
    "start_time": "2021-12-07T18:27:17.719Z"
   },
   {
    "duration": 18,
    "start_time": "2021-12-07T18:27:41.673Z"
   },
   {
    "duration": 637,
    "start_time": "2021-12-08T11:01:07.748Z"
   },
   {
    "duration": 4,
    "start_time": "2021-12-08T11:01:08.388Z"
   },
   {
    "duration": 22,
    "start_time": "2021-12-08T11:01:08.394Z"
   },
   {
    "duration": 22,
    "start_time": "2021-12-08T11:01:08.418Z"
   },
   {
    "duration": 22,
    "start_time": "2021-12-08T11:01:08.441Z"
   },
   {
    "duration": 8,
    "start_time": "2021-12-08T11:01:08.464Z"
   },
   {
    "duration": 12,
    "start_time": "2021-12-08T11:01:08.473Z"
   },
   {
    "duration": 14,
    "start_time": "2021-12-08T11:01:08.487Z"
   },
   {
    "duration": 3,
    "start_time": "2021-12-08T11:01:08.503Z"
   },
   {
    "duration": 8,
    "start_time": "2021-12-08T11:01:08.508Z"
   },
   {
    "duration": 14,
    "start_time": "2021-12-08T11:01:08.517Z"
   },
   {
    "duration": 7,
    "start_time": "2021-12-08T11:01:08.532Z"
   },
   {
    "duration": 10,
    "start_time": "2021-12-08T11:01:08.540Z"
   },
   {
    "duration": 12,
    "start_time": "2021-12-08T11:01:08.552Z"
   },
   {
    "duration": 22,
    "start_time": "2021-12-08T11:01:08.566Z"
   },
   {
    "duration": 12,
    "start_time": "2021-12-08T11:01:08.589Z"
   },
   {
    "duration": 18,
    "start_time": "2021-12-08T11:01:08.602Z"
   },
   {
    "duration": 5,
    "start_time": "2021-12-08T11:01:08.622Z"
   },
   {
    "duration": 7,
    "start_time": "2021-12-08T11:01:08.628Z"
   },
   {
    "duration": 20,
    "start_time": "2021-12-08T11:01:08.636Z"
   },
   {
    "duration": 3893,
    "start_time": "2021-12-08T11:01:08.657Z"
   },
   {
    "duration": 6,
    "start_time": "2021-12-08T11:01:12.552Z"
   },
   {
    "duration": 12,
    "start_time": "2021-12-08T11:01:12.561Z"
   },
   {
    "duration": 7,
    "start_time": "2021-12-08T11:01:12.588Z"
   },
   {
    "duration": 7,
    "start_time": "2021-12-08T11:01:12.597Z"
   },
   {
    "duration": 7,
    "start_time": "2021-12-08T11:01:12.606Z"
   },
   {
    "duration": 8,
    "start_time": "2021-12-08T11:01:12.615Z"
   },
   {
    "duration": 11,
    "start_time": "2021-12-08T11:01:12.624Z"
   },
   {
    "duration": 8,
    "start_time": "2021-12-08T11:01:12.636Z"
   },
   {
    "duration": 5,
    "start_time": "2021-12-08T11:01:12.646Z"
   },
   {
    "duration": 46,
    "start_time": "2021-12-08T11:01:12.652Z"
   },
   {
    "duration": 7,
    "start_time": "2021-12-08T11:01:25.198Z"
   },
   {
    "duration": 6,
    "start_time": "2021-12-08T11:03:07.807Z"
   },
   {
    "duration": 290,
    "start_time": "2021-12-08T11:06:15.786Z"
   },
   {
    "duration": 6,
    "start_time": "2021-12-08T11:07:06.898Z"
   },
   {
    "duration": 7,
    "start_time": "2021-12-08T11:11:06.448Z"
   },
   {
    "duration": 8,
    "start_time": "2021-12-08T11:11:22.655Z"
   },
   {
    "duration": 7,
    "start_time": "2021-12-08T11:13:39.296Z"
   },
   {
    "duration": 7,
    "start_time": "2021-12-08T11:15:26.106Z"
   },
   {
    "duration": 4,
    "start_time": "2021-12-08T11:17:31.589Z"
   },
   {
    "duration": 141,
    "start_time": "2021-12-08T11:17:39.132Z"
   },
   {
    "duration": 6,
    "start_time": "2021-12-08T11:18:06.709Z"
   },
   {
    "duration": 18,
    "start_time": "2021-12-08T11:38:03.391Z"
   },
   {
    "duration": 91,
    "start_time": "2021-12-08T11:57:35.087Z"
   },
   {
    "duration": 268,
    "start_time": "2021-12-08T11:57:44.167Z"
   },
   {
    "duration": 232,
    "start_time": "2021-12-08T12:21:10.195Z"
   },
   {
    "duration": 6259,
    "start_time": "2021-12-08T12:21:47.619Z"
   },
   {
    "duration": 17,
    "start_time": "2021-12-08T12:22:19.966Z"
   },
   {
    "duration": 14,
    "start_time": "2021-12-08T12:24:44.302Z"
   },
   {
    "duration": 15,
    "start_time": "2021-12-08T12:25:44.319Z"
   },
   {
    "duration": 14,
    "start_time": "2021-12-08T12:25:58.751Z"
   },
   {
    "duration": 11,
    "start_time": "2021-12-08T12:32:37.749Z"
   },
   {
    "duration": 6,
    "start_time": "2021-12-08T12:35:07.999Z"
   },
   {
    "duration": 21,
    "start_time": "2021-12-08T12:35:32.679Z"
   },
   {
    "duration": 6,
    "start_time": "2021-12-08T12:38:47.548Z"
   },
   {
    "duration": 9,
    "start_time": "2021-12-08T12:40:39.323Z"
   },
   {
    "duration": 6,
    "start_time": "2021-12-08T12:40:56.629Z"
   },
   {
    "duration": 12,
    "start_time": "2021-12-08T12:41:09.268Z"
   },
   {
    "duration": 248,
    "start_time": "2021-12-08T12:41:28.134Z"
   },
   {
    "duration": 324,
    "start_time": "2021-12-08T12:41:41.708Z"
   },
   {
    "duration": 15,
    "start_time": "2021-12-08T12:41:44.893Z"
   },
   {
    "duration": 7,
    "start_time": "2021-12-08T12:41:47.902Z"
   },
   {
    "duration": 9,
    "start_time": "2021-12-08T12:41:59.004Z"
   },
   {
    "duration": 11,
    "start_time": "2021-12-08T12:42:03.645Z"
   },
   {
    "duration": 235,
    "start_time": "2021-12-08T12:42:06.708Z"
   },
   {
    "duration": 255,
    "start_time": "2021-12-08T12:44:09.512Z"
   },
   {
    "duration": 15,
    "start_time": "2021-12-08T12:44:12.070Z"
   },
   {
    "duration": 8,
    "start_time": "2021-12-08T12:44:13.705Z"
   },
   {
    "duration": 15,
    "start_time": "2021-12-08T12:55:30.783Z"
   },
   {
    "duration": 8,
    "start_time": "2021-12-08T12:55:33.751Z"
   },
   {
    "duration": 15,
    "start_time": "2021-12-08T12:56:16.913Z"
   },
   {
    "duration": 8,
    "start_time": "2021-12-08T13:03:38.151Z"
   },
   {
    "duration": 11,
    "start_time": "2021-12-08T13:14:13.832Z"
   },
   {
    "duration": 9,
    "start_time": "2021-12-08T13:39:41.558Z"
   },
   {
    "duration": 8,
    "start_time": "2021-12-08T13:40:24.063Z"
   },
   {
    "duration": 9,
    "start_time": "2021-12-08T13:40:27.191Z"
   },
   {
    "duration": 8,
    "start_time": "2021-12-08T13:40:30.055Z"
   },
   {
    "duration": 7357,
    "start_time": "2021-12-08T13:43:00.969Z"
   },
   {
    "duration": 3,
    "start_time": "2021-12-08T13:45:42.836Z"
   },
   {
    "duration": 3,
    "start_time": "2021-12-08T13:46:02.260Z"
   },
   {
    "duration": 182,
    "start_time": "2021-12-08T13:46:16.941Z"
   },
   {
    "duration": 4,
    "start_time": "2021-12-08T13:46:28.812Z"
   },
   {
    "duration": 4,
    "start_time": "2021-12-08T13:47:27.230Z"
   },
   {
    "duration": 9,
    "start_time": "2021-12-08T13:51:52.306Z"
   },
   {
    "duration": 8,
    "start_time": "2021-12-08T13:54:18.443Z"
   },
   {
    "duration": 10,
    "start_time": "2021-12-08T13:55:12.820Z"
   },
   {
    "duration": 8,
    "start_time": "2021-12-08T13:55:19.965Z"
   },
   {
    "duration": 711,
    "start_time": "2021-12-09T07:00:17.570Z"
   },
   {
    "duration": 4,
    "start_time": "2021-12-09T07:00:18.283Z"
   },
   {
    "duration": 19,
    "start_time": "2021-12-09T07:00:18.289Z"
   },
   {
    "duration": 7,
    "start_time": "2021-12-09T07:00:18.310Z"
   },
   {
    "duration": 5,
    "start_time": "2021-12-09T07:00:18.318Z"
   },
   {
    "duration": 5,
    "start_time": "2021-12-09T07:00:18.325Z"
   },
   {
    "duration": 7,
    "start_time": "2021-12-09T07:00:18.332Z"
   },
   {
    "duration": 14,
    "start_time": "2021-12-09T07:00:18.340Z"
   },
   {
    "duration": 4,
    "start_time": "2021-12-09T07:00:18.357Z"
   },
   {
    "duration": 43,
    "start_time": "2021-12-09T07:00:18.363Z"
   },
   {
    "duration": 12,
    "start_time": "2021-12-09T07:00:18.408Z"
   },
   {
    "duration": 6,
    "start_time": "2021-12-09T07:00:18.421Z"
   },
   {
    "duration": 6,
    "start_time": "2021-12-09T07:00:18.429Z"
   },
   {
    "duration": 14,
    "start_time": "2021-12-09T07:00:18.437Z"
   },
   {
    "duration": 14,
    "start_time": "2021-12-09T07:00:18.452Z"
   },
   {
    "duration": 47,
    "start_time": "2021-12-09T07:00:18.467Z"
   },
   {
    "duration": 23,
    "start_time": "2021-12-09T07:00:18.516Z"
   },
   {
    "duration": 8,
    "start_time": "2021-12-09T07:00:18.542Z"
   },
   {
    "duration": 6,
    "start_time": "2021-12-09T07:00:18.552Z"
   },
   {
    "duration": 47,
    "start_time": "2021-12-09T07:00:18.560Z"
   },
   {
    "duration": 4414,
    "start_time": "2021-12-09T07:00:18.609Z"
   },
   {
    "duration": 8,
    "start_time": "2021-12-09T07:00:23.025Z"
   },
   {
    "duration": 15,
    "start_time": "2021-12-09T07:00:23.034Z"
   },
   {
    "duration": 9,
    "start_time": "2021-12-09T07:00:23.051Z"
   },
   {
    "duration": 9,
    "start_time": "2021-12-09T07:00:23.062Z"
   },
   {
    "duration": 40,
    "start_time": "2021-12-09T07:00:23.072Z"
   },
   {
    "duration": 7,
    "start_time": "2021-12-09T07:00:23.116Z"
   },
   {
    "duration": 10,
    "start_time": "2021-12-09T07:00:23.125Z"
   },
   {
    "duration": 8,
    "start_time": "2021-12-09T07:00:23.136Z"
   },
   {
    "duration": 5,
    "start_time": "2021-12-09T07:00:23.145Z"
   },
   {
    "duration": 15,
    "start_time": "2021-12-09T07:00:23.151Z"
   },
   {
    "duration": 40,
    "start_time": "2021-12-09T07:00:23.168Z"
   },
   {
    "duration": 20,
    "start_time": "2021-12-09T07:00:23.210Z"
   },
   {
    "duration": 1689,
    "start_time": "2021-12-09T07:00:23.232Z"
   },
   {
    "duration": -879,
    "start_time": "2021-12-09T07:00:25.802Z"
   },
   {
    "duration": -882,
    "start_time": "2021-12-09T07:00:25.806Z"
   },
   {
    "duration": -884,
    "start_time": "2021-12-09T07:00:25.810Z"
   },
   {
    "duration": 9,
    "start_time": "2021-12-09T07:05:39.432Z"
   },
   {
    "duration": 16,
    "start_time": "2021-12-09T07:06:01.417Z"
   },
   {
    "duration": 383,
    "start_time": "2021-12-09T07:06:27.824Z"
   },
   {
    "duration": 17,
    "start_time": "2021-12-09T07:06:47.113Z"
   },
   {
    "duration": 13,
    "start_time": "2021-12-09T07:06:54.409Z"
   },
   {
    "duration": 631,
    "start_time": "2021-12-09T07:07:01.801Z"
   },
   {
    "duration": 12,
    "start_time": "2021-12-09T07:12:51.782Z"
   },
   {
    "duration": 8,
    "start_time": "2021-12-09T07:13:16.182Z"
   },
   {
    "duration": 8,
    "start_time": "2021-12-09T07:13:30.847Z"
   },
   {
    "duration": 4,
    "start_time": "2021-12-09T07:14:17.304Z"
   },
   {
    "duration": 4,
    "start_time": "2021-12-09T07:14:50.512Z"
   },
   {
    "duration": 8,
    "start_time": "2021-12-09T07:15:44.042Z"
   },
   {
    "duration": 434,
    "start_time": "2021-12-09T07:17:27.682Z"
   },
   {
    "duration": 9,
    "start_time": "2021-12-09T07:19:11.492Z"
   },
   {
    "duration": 8,
    "start_time": "2021-12-09T07:21:05.965Z"
   },
   {
    "duration": 9,
    "start_time": "2021-12-09T07:21:27.533Z"
   },
   {
    "duration": 10500,
    "start_time": "2021-12-09T08:00:13.928Z"
   },
   {
    "duration": 8405,
    "start_time": "2021-12-09T08:00:38.960Z"
   },
   {
    "duration": 59,
    "start_time": "2021-12-09T08:00:52.268Z"
   },
   {
    "duration": 21,
    "start_time": "2021-12-09T08:00:52.329Z"
   },
   {
    "duration": 12,
    "start_time": "2021-12-09T08:00:52.352Z"
   },
   {
    "duration": 7,
    "start_time": "2021-12-09T08:00:52.366Z"
   },
   {
    "duration": 31,
    "start_time": "2021-12-09T08:00:52.375Z"
   },
   {
    "duration": 5,
    "start_time": "2021-12-09T08:00:52.408Z"
   },
   {
    "duration": 8,
    "start_time": "2021-12-09T08:00:52.415Z"
   },
   {
    "duration": 17,
    "start_time": "2021-12-09T08:00:52.425Z"
   },
   {
    "duration": 4,
    "start_time": "2021-12-09T08:00:52.445Z"
   },
   {
    "duration": 4,
    "start_time": "2021-12-09T08:00:52.451Z"
   },
   {
    "duration": 12,
    "start_time": "2021-12-09T08:00:52.457Z"
   },
   {
    "duration": 5,
    "start_time": "2021-12-09T08:00:52.507Z"
   },
   {
    "duration": 8,
    "start_time": "2021-12-09T08:00:52.514Z"
   },
   {
    "duration": 12,
    "start_time": "2021-12-09T08:00:52.524Z"
   },
   {
    "duration": 14,
    "start_time": "2021-12-09T08:00:52.538Z"
   },
   {
    "duration": 15,
    "start_time": "2021-12-09T08:00:52.553Z"
   },
   {
    "duration": 55,
    "start_time": "2021-12-09T08:00:52.570Z"
   },
   {
    "duration": 7,
    "start_time": "2021-12-09T08:00:52.627Z"
   },
   {
    "duration": 7,
    "start_time": "2021-12-09T08:00:52.635Z"
   },
   {
    "duration": 17,
    "start_time": "2021-12-09T08:00:52.643Z"
   },
   {
    "duration": 4316,
    "start_time": "2021-12-09T08:00:52.662Z"
   },
   {
    "duration": 8,
    "start_time": "2021-12-09T08:00:56.980Z"
   },
   {
    "duration": 30,
    "start_time": "2021-12-09T08:00:56.990Z"
   },
   {
    "duration": 15,
    "start_time": "2021-12-09T08:00:57.022Z"
   },
   {
    "duration": 8,
    "start_time": "2021-12-09T08:00:57.039Z"
   },
   {
    "duration": 7,
    "start_time": "2021-12-09T08:00:57.048Z"
   },
   {
    "duration": 8,
    "start_time": "2021-12-09T08:00:57.058Z"
   },
   {
    "duration": 8,
    "start_time": "2021-12-09T08:00:57.068Z"
   },
   {
    "duration": 30,
    "start_time": "2021-12-09T08:00:57.077Z"
   },
   {
    "duration": 5,
    "start_time": "2021-12-09T08:00:57.109Z"
   },
   {
    "duration": 15,
    "start_time": "2021-12-09T08:00:57.116Z"
   },
   {
    "duration": 7,
    "start_time": "2021-12-09T08:00:57.132Z"
   },
   {
    "duration": 21,
    "start_time": "2021-12-09T08:00:57.140Z"
   },
   {
    "duration": 9,
    "start_time": "2021-12-09T08:00:57.162Z"
   },
   {
    "duration": 41,
    "start_time": "2021-12-09T08:00:57.172Z"
   },
   {
    "duration": 10,
    "start_time": "2021-12-09T08:00:57.215Z"
   },
   {
    "duration": 62,
    "start_time": "2021-12-09T08:01:09.580Z"
   },
   {
    "duration": 22,
    "start_time": "2021-12-09T08:01:09.644Z"
   },
   {
    "duration": 39,
    "start_time": "2021-12-09T08:01:09.668Z"
   },
   {
    "duration": 7,
    "start_time": "2021-12-09T08:01:09.709Z"
   },
   {
    "duration": 7,
    "start_time": "2021-12-09T08:01:09.718Z"
   },
   {
    "duration": 6,
    "start_time": "2021-12-09T08:01:09.727Z"
   },
   {
    "duration": 9,
    "start_time": "2021-12-09T08:01:09.735Z"
   },
   {
    "duration": 18,
    "start_time": "2021-12-09T08:01:09.745Z"
   },
   {
    "duration": 4,
    "start_time": "2021-12-09T08:01:09.766Z"
   },
   {
    "duration": 36,
    "start_time": "2021-12-09T08:01:09.772Z"
   },
   {
    "duration": 15,
    "start_time": "2021-12-09T08:01:09.810Z"
   },
   {
    "duration": 6,
    "start_time": "2021-12-09T08:01:09.827Z"
   },
   {
    "duration": 7,
    "start_time": "2021-12-09T08:01:09.834Z"
   },
   {
    "duration": 13,
    "start_time": "2021-12-09T08:01:09.843Z"
   },
   {
    "duration": 13,
    "start_time": "2021-12-09T08:01:09.858Z"
   },
   {
    "duration": 15,
    "start_time": "2021-12-09T08:01:09.906Z"
   },
   {
    "duration": 22,
    "start_time": "2021-12-09T08:01:09.923Z"
   },
   {
    "duration": 7,
    "start_time": "2021-12-09T08:01:09.947Z"
   },
   {
    "duration": 7,
    "start_time": "2021-12-09T08:01:09.955Z"
   },
   {
    "duration": 50,
    "start_time": "2021-12-09T08:01:09.964Z"
   },
   {
    "duration": 4451,
    "start_time": "2021-12-09T08:01:10.016Z"
   },
   {
    "duration": 8,
    "start_time": "2021-12-09T08:01:14.469Z"
   },
   {
    "duration": 30,
    "start_time": "2021-12-09T08:01:14.479Z"
   },
   {
    "duration": 10,
    "start_time": "2021-12-09T08:01:14.512Z"
   },
   {
    "duration": 8,
    "start_time": "2021-12-09T08:01:14.524Z"
   },
   {
    "duration": 8,
    "start_time": "2021-12-09T08:01:14.534Z"
   },
   {
    "duration": 7,
    "start_time": "2021-12-09T08:01:14.546Z"
   },
   {
    "duration": 9,
    "start_time": "2021-12-09T08:01:14.556Z"
   },
   {
    "duration": 9,
    "start_time": "2021-12-09T08:01:14.608Z"
   },
   {
    "duration": 5,
    "start_time": "2021-12-09T08:01:14.619Z"
   },
   {
    "duration": 16,
    "start_time": "2021-12-09T08:01:14.625Z"
   },
   {
    "duration": 7,
    "start_time": "2021-12-09T08:01:14.643Z"
   },
   {
    "duration": 18,
    "start_time": "2021-12-09T08:01:14.651Z"
   },
   {
    "duration": 42,
    "start_time": "2021-12-09T08:01:14.670Z"
   },
   {
    "duration": 14,
    "start_time": "2021-12-09T08:01:14.714Z"
   },
   {
    "duration": 12,
    "start_time": "2021-12-09T08:01:14.730Z"
   },
   {
    "duration": 3130,
    "start_time": "2021-12-09T08:01:39.720Z"
   },
   {
    "duration": 117,
    "start_time": "2021-12-09T08:01:58.377Z"
   },
   {
    "duration": 121,
    "start_time": "2021-12-09T08:02:04.625Z"
   },
   {
    "duration": 60,
    "start_time": "2021-12-09T08:02:22.677Z"
   },
   {
    "duration": 24,
    "start_time": "2021-12-09T08:02:22.739Z"
   },
   {
    "duration": 13,
    "start_time": "2021-12-09T08:02:22.765Z"
   },
   {
    "duration": 29,
    "start_time": "2021-12-09T08:02:22.780Z"
   },
   {
    "duration": 10,
    "start_time": "2021-12-09T08:02:22.812Z"
   },
   {
    "duration": 9,
    "start_time": "2021-12-09T08:02:22.824Z"
   },
   {
    "duration": 9,
    "start_time": "2021-12-09T08:02:22.835Z"
   },
   {
    "duration": 14,
    "start_time": "2021-12-09T08:02:22.847Z"
   },
   {
    "duration": 5,
    "start_time": "2021-12-09T08:02:22.863Z"
   },
   {
    "duration": 38,
    "start_time": "2021-12-09T08:02:22.870Z"
   },
   {
    "duration": 14,
    "start_time": "2021-12-09T08:02:22.909Z"
   },
   {
    "duration": 5,
    "start_time": "2021-12-09T08:02:22.925Z"
   },
   {
    "duration": 7,
    "start_time": "2021-12-09T08:02:22.931Z"
   },
   {
    "duration": 14,
    "start_time": "2021-12-09T08:02:22.939Z"
   },
   {
    "duration": 13,
    "start_time": "2021-12-09T08:02:22.955Z"
   },
   {
    "duration": 50,
    "start_time": "2021-12-09T08:02:22.970Z"
   },
   {
    "duration": 25,
    "start_time": "2021-12-09T08:02:23.022Z"
   },
   {
    "duration": 8,
    "start_time": "2021-12-09T08:02:23.048Z"
   },
   {
    "duration": 7,
    "start_time": "2021-12-09T08:02:23.058Z"
   },
   {
    "duration": 60,
    "start_time": "2021-12-09T08:02:23.067Z"
   },
   {
    "duration": 4898,
    "start_time": "2021-12-09T08:02:23.129Z"
   },
   {
    "duration": 7,
    "start_time": "2021-12-09T08:02:28.029Z"
   },
   {
    "duration": 12,
    "start_time": "2021-12-09T08:02:28.040Z"
   },
   {
    "duration": 26,
    "start_time": "2021-12-09T08:02:28.054Z"
   },
   {
    "duration": 8,
    "start_time": "2021-12-09T08:02:28.082Z"
   },
   {
    "duration": 21,
    "start_time": "2021-12-09T08:02:28.092Z"
   },
   {
    "duration": 9,
    "start_time": "2021-12-09T08:02:28.115Z"
   },
   {
    "duration": 14,
    "start_time": "2021-12-09T08:02:28.126Z"
   },
   {
    "duration": 9,
    "start_time": "2021-12-09T08:02:28.142Z"
   },
   {
    "duration": 6,
    "start_time": "2021-12-09T08:02:28.153Z"
   },
   {
    "duration": 56,
    "start_time": "2021-12-09T08:02:28.162Z"
   },
   {
    "duration": 9,
    "start_time": "2021-12-09T08:02:28.220Z"
   },
   {
    "duration": 18,
    "start_time": "2021-12-09T08:02:28.231Z"
   },
   {
    "duration": 10,
    "start_time": "2021-12-09T08:02:28.251Z"
   },
   {
    "duration": 11,
    "start_time": "2021-12-09T08:02:28.263Z"
   },
   {
    "duration": 149,
    "start_time": "2021-12-09T08:02:28.276Z"
   },
   {
    "duration": 8636,
    "start_time": "2021-12-09T08:02:44.033Z"
   },
   {
    "duration": 9,
    "start_time": "2021-12-09T08:03:17.434Z"
   },
   {
    "duration": 9378,
    "start_time": "2021-12-09T08:03:27.002Z"
   },
   {
    "duration": 3,
    "start_time": "2021-12-09T08:03:44.099Z"
   },
   {
    "duration": 9361,
    "start_time": "2021-12-09T08:03:48.338Z"
   },
   {
    "duration": 8,
    "start_time": "2021-12-09T08:56:16.691Z"
   },
   {
    "duration": 8882,
    "start_time": "2021-12-09T08:57:36.912Z"
   },
   {
    "duration": 66,
    "start_time": "2021-12-09T08:57:45.965Z"
   },
   {
    "duration": 23,
    "start_time": "2021-12-09T08:57:46.034Z"
   },
   {
    "duration": 14,
    "start_time": "2021-12-09T08:57:46.060Z"
   },
   {
    "duration": 36,
    "start_time": "2021-12-09T08:57:46.076Z"
   },
   {
    "duration": 9,
    "start_time": "2021-12-09T08:57:46.114Z"
   },
   {
    "duration": 6,
    "start_time": "2021-12-09T08:57:46.125Z"
   },
   {
    "duration": 9,
    "start_time": "2021-12-09T08:57:46.132Z"
   },
   {
    "duration": 15,
    "start_time": "2021-12-09T08:57:46.145Z"
   },
   {
    "duration": 45,
    "start_time": "2021-12-09T08:57:46.163Z"
   },
   {
    "duration": 4,
    "start_time": "2021-12-09T08:57:46.210Z"
   },
   {
    "duration": 22,
    "start_time": "2021-12-09T08:57:46.216Z"
   },
   {
    "duration": 5,
    "start_time": "2021-12-09T08:57:46.241Z"
   },
   {
    "duration": 8,
    "start_time": "2021-12-09T08:57:46.247Z"
   },
   {
    "duration": 15,
    "start_time": "2021-12-09T08:57:46.257Z"
   },
   {
    "duration": 41,
    "start_time": "2021-12-09T08:57:46.274Z"
   },
   {
    "duration": 14,
    "start_time": "2021-12-09T08:57:46.317Z"
   },
   {
    "duration": 22,
    "start_time": "2021-12-09T08:57:46.333Z"
   },
   {
    "duration": 6,
    "start_time": "2021-12-09T08:57:46.357Z"
   },
   {
    "duration": 9,
    "start_time": "2021-12-09T08:57:46.365Z"
   },
   {
    "duration": 46,
    "start_time": "2021-12-09T08:57:46.375Z"
   },
   {
    "duration": 4701,
    "start_time": "2021-12-09T08:57:46.423Z"
   },
   {
    "duration": 7,
    "start_time": "2021-12-09T08:57:51.126Z"
   },
   {
    "duration": 11,
    "start_time": "2021-12-09T08:57:51.137Z"
   },
   {
    "duration": 9,
    "start_time": "2021-12-09T08:57:51.151Z"
   },
   {
    "duration": 8,
    "start_time": "2021-12-09T08:57:51.161Z"
   },
   {
    "duration": 38,
    "start_time": "2021-12-09T08:57:51.171Z"
   },
   {
    "duration": 9,
    "start_time": "2021-12-09T08:57:51.211Z"
   },
   {
    "duration": 13,
    "start_time": "2021-12-09T08:57:51.221Z"
   },
   {
    "duration": 8,
    "start_time": "2021-12-09T08:57:51.236Z"
   },
   {
    "duration": 5,
    "start_time": "2021-12-09T08:57:51.246Z"
   },
   {
    "duration": 17,
    "start_time": "2021-12-09T08:57:51.253Z"
   },
   {
    "duration": 40,
    "start_time": "2021-12-09T08:57:51.272Z"
   },
   {
    "duration": 17,
    "start_time": "2021-12-09T08:57:51.314Z"
   },
   {
    "duration": 10,
    "start_time": "2021-12-09T08:57:51.333Z"
   },
   {
    "duration": 12,
    "start_time": "2021-12-09T08:57:51.345Z"
   },
   {
    "duration": 5,
    "start_time": "2021-12-09T08:57:51.359Z"
   },
   {
    "duration": 42,
    "start_time": "2021-12-09T08:57:51.366Z"
   },
   {
    "duration": 57,
    "start_time": "2021-12-09T08:59:33.870Z"
   },
   {
    "duration": 23,
    "start_time": "2021-12-09T08:59:33.930Z"
   },
   {
    "duration": 12,
    "start_time": "2021-12-09T08:59:33.955Z"
   },
   {
    "duration": 13,
    "start_time": "2021-12-09T08:59:33.969Z"
   },
   {
    "duration": 5,
    "start_time": "2021-12-09T08:59:34.007Z"
   },
   {
    "duration": 9,
    "start_time": "2021-12-09T08:59:34.014Z"
   },
   {
    "duration": 9,
    "start_time": "2021-12-09T08:59:34.025Z"
   },
   {
    "duration": 14,
    "start_time": "2021-12-09T08:59:34.037Z"
   },
   {
    "duration": 4,
    "start_time": "2021-12-09T08:59:34.053Z"
   },
   {
    "duration": 6,
    "start_time": "2021-12-09T08:59:34.058Z"
   },
   {
    "duration": 42,
    "start_time": "2021-12-09T08:59:34.065Z"
   },
   {
    "duration": 4,
    "start_time": "2021-12-09T08:59:34.109Z"
   },
   {
    "duration": 8,
    "start_time": "2021-12-09T08:59:34.114Z"
   },
   {
    "duration": 15,
    "start_time": "2021-12-09T08:59:34.123Z"
   },
   {
    "duration": 12,
    "start_time": "2021-12-09T08:59:34.140Z"
   },
   {
    "duration": 13,
    "start_time": "2021-12-09T08:59:34.154Z"
   },
   {
    "duration": 50,
    "start_time": "2021-12-09T08:59:34.169Z"
   },
   {
    "duration": 7,
    "start_time": "2021-12-09T08:59:34.221Z"
   },
   {
    "duration": 6,
    "start_time": "2021-12-09T08:59:34.229Z"
   },
   {
    "duration": 16,
    "start_time": "2021-12-09T08:59:34.237Z"
   },
   {
    "duration": 4601,
    "start_time": "2021-12-09T08:59:34.254Z"
   },
   {
    "duration": 7,
    "start_time": "2021-12-09T08:59:38.857Z"
   },
   {
    "duration": 12,
    "start_time": "2021-12-09T08:59:38.867Z"
   },
   {
    "duration": 28,
    "start_time": "2021-12-09T08:59:38.881Z"
   },
   {
    "duration": 8,
    "start_time": "2021-12-09T08:59:38.911Z"
   },
   {
    "duration": 9,
    "start_time": "2021-12-09T08:59:38.920Z"
   },
   {
    "duration": 9,
    "start_time": "2021-12-09T08:59:38.930Z"
   },
   {
    "duration": 9,
    "start_time": "2021-12-09T08:59:38.940Z"
   },
   {
    "duration": 9,
    "start_time": "2021-12-09T08:59:38.950Z"
   },
   {
    "duration": 4,
    "start_time": "2021-12-09T08:59:38.961Z"
   },
   {
    "duration": 49,
    "start_time": "2021-12-09T08:59:38.966Z"
   },
   {
    "duration": 6,
    "start_time": "2021-12-09T08:59:39.017Z"
   },
   {
    "duration": 18,
    "start_time": "2021-12-09T08:59:39.025Z"
   },
   {
    "duration": 9,
    "start_time": "2021-12-09T08:59:39.045Z"
   },
   {
    "duration": 10,
    "start_time": "2021-12-09T08:59:39.055Z"
   },
   {
    "duration": 41,
    "start_time": "2021-12-09T08:59:39.067Z"
   },
   {
    "duration": 7,
    "start_time": "2021-12-09T09:09:49.755Z"
   },
   {
    "duration": 11,
    "start_time": "2021-12-09T09:12:17.902Z"
   },
   {
    "duration": 15,
    "start_time": "2021-12-09T09:12:35.357Z"
   },
   {
    "duration": 8,
    "start_time": "2021-12-09T09:14:00.610Z"
   },
   {
    "duration": 8,
    "start_time": "2021-12-09T09:14:48.624Z"
   },
   {
    "duration": 110,
    "start_time": "2021-12-09T09:15:45.633Z"
   },
   {
    "duration": 18,
    "start_time": "2021-12-09T09:15:57.497Z"
   },
   {
    "duration": 17,
    "start_time": "2021-12-09T09:16:43.001Z"
   },
   {
    "duration": 11,
    "start_time": "2021-12-09T09:25:10.666Z"
   },
   {
    "duration": 4,
    "start_time": "2021-12-09T09:26:55.346Z"
   },
   {
    "duration": 11,
    "start_time": "2021-12-09T09:34:23.394Z"
   },
   {
    "duration": 12,
    "start_time": "2021-12-09T09:38:25.798Z"
   },
   {
    "duration": 12,
    "start_time": "2021-12-09T09:38:35.548Z"
   },
   {
    "duration": 12,
    "start_time": "2021-12-09T09:38:40.484Z"
   },
   {
    "duration": 59,
    "start_time": "2021-12-09T09:38:52.257Z"
   },
   {
    "duration": 21,
    "start_time": "2021-12-09T09:38:52.319Z"
   },
   {
    "duration": 13,
    "start_time": "2021-12-09T09:38:52.342Z"
   },
   {
    "duration": 7,
    "start_time": "2021-12-09T09:38:52.357Z"
   },
   {
    "duration": 6,
    "start_time": "2021-12-09T09:38:52.366Z"
   },
   {
    "duration": 35,
    "start_time": "2021-12-09T09:38:52.373Z"
   },
   {
    "duration": 10,
    "start_time": "2021-12-09T09:38:52.410Z"
   },
   {
    "duration": 22,
    "start_time": "2021-12-09T09:38:52.422Z"
   },
   {
    "duration": 4,
    "start_time": "2021-12-09T09:38:52.448Z"
   },
   {
    "duration": 4,
    "start_time": "2021-12-09T09:38:52.456Z"
   },
   {
    "duration": 57,
    "start_time": "2021-12-09T09:38:52.461Z"
   },
   {
    "duration": 7,
    "start_time": "2021-12-09T09:38:52.520Z"
   },
   {
    "duration": 7,
    "start_time": "2021-12-09T09:38:52.528Z"
   },
   {
    "duration": 12,
    "start_time": "2021-12-09T09:38:52.537Z"
   },
   {
    "duration": 13,
    "start_time": "2021-12-09T09:38:52.551Z"
   },
   {
    "duration": 42,
    "start_time": "2021-12-09T09:38:52.565Z"
   },
   {
    "duration": 24,
    "start_time": "2021-12-09T09:38:52.609Z"
   },
   {
    "duration": 7,
    "start_time": "2021-12-09T09:38:52.635Z"
   },
   {
    "duration": 6,
    "start_time": "2021-12-09T09:38:52.643Z"
   },
   {
    "duration": 20,
    "start_time": "2021-12-09T09:38:52.651Z"
   },
   {
    "duration": 4778,
    "start_time": "2021-12-09T09:38:52.673Z"
   },
   {
    "duration": 10,
    "start_time": "2021-12-09T09:38:57.453Z"
   },
   {
    "duration": 22,
    "start_time": "2021-12-09T09:38:57.465Z"
   },
   {
    "duration": 22,
    "start_time": "2021-12-09T09:38:57.489Z"
   },
   {
    "duration": 12,
    "start_time": "2021-12-09T09:38:57.514Z"
   },
   {
    "duration": 10,
    "start_time": "2021-12-09T09:38:57.528Z"
   },
   {
    "duration": 17,
    "start_time": "2021-12-09T09:38:57.542Z"
   },
   {
    "duration": 17,
    "start_time": "2021-12-09T09:38:57.562Z"
   },
   {
    "duration": 30,
    "start_time": "2021-12-09T09:38:57.582Z"
   },
   {
    "duration": 8,
    "start_time": "2021-12-09T09:38:57.614Z"
   },
   {
    "duration": 28,
    "start_time": "2021-12-09T09:38:57.624Z"
   },
   {
    "duration": 8,
    "start_time": "2021-12-09T09:38:57.654Z"
   },
   {
    "duration": 18,
    "start_time": "2021-12-09T09:38:57.663Z"
   },
   {
    "duration": 31,
    "start_time": "2021-12-09T09:38:57.683Z"
   },
   {
    "duration": 16,
    "start_time": "2021-12-09T09:38:57.715Z"
   },
   {
    "duration": 21,
    "start_time": "2021-12-09T09:38:57.732Z"
   },
   {
    "duration": 22,
    "start_time": "2021-12-09T09:38:57.756Z"
   },
   {
    "duration": 11,
    "start_time": "2021-12-09T09:38:57.779Z"
   },
   {
    "duration": 43,
    "start_time": "2021-12-09T09:38:57.792Z"
   },
   {
    "duration": 9,
    "start_time": "2021-12-09T09:38:57.837Z"
   },
   {
    "duration": 9,
    "start_time": "2021-12-09T09:40:02.318Z"
   },
   {
    "duration": 7,
    "start_time": "2021-12-09T09:49:43.630Z"
   },
   {
    "duration": 18,
    "start_time": "2021-12-09T09:52:00.913Z"
   },
   {
    "duration": 59,
    "start_time": "2021-12-09T09:53:08.093Z"
   },
   {
    "duration": 23,
    "start_time": "2021-12-09T09:53:08.154Z"
   },
   {
    "duration": 14,
    "start_time": "2021-12-09T09:53:08.208Z"
   },
   {
    "duration": 7,
    "start_time": "2021-12-09T09:53:08.225Z"
   },
   {
    "duration": 7,
    "start_time": "2021-12-09T09:53:08.234Z"
   },
   {
    "duration": 7,
    "start_time": "2021-12-09T09:53:08.243Z"
   },
   {
    "duration": 15,
    "start_time": "2021-12-09T09:53:08.252Z"
   },
   {
    "duration": 49,
    "start_time": "2021-12-09T09:53:08.270Z"
   },
   {
    "duration": 5,
    "start_time": "2021-12-09T09:53:08.321Z"
   },
   {
    "duration": 4,
    "start_time": "2021-12-09T09:53:08.327Z"
   },
   {
    "duration": 15,
    "start_time": "2021-12-09T09:53:08.333Z"
   },
   {
    "duration": 5,
    "start_time": "2021-12-09T09:53:08.350Z"
   },
   {
    "duration": 6,
    "start_time": "2021-12-09T09:53:08.356Z"
   },
   {
    "duration": 50,
    "start_time": "2021-12-09T09:53:08.364Z"
   },
   {
    "duration": 15,
    "start_time": "2021-12-09T09:53:08.416Z"
   },
   {
    "duration": 15,
    "start_time": "2021-12-09T09:53:08.433Z"
   },
   {
    "duration": 25,
    "start_time": "2021-12-09T09:53:08.450Z"
   },
   {
    "duration": 34,
    "start_time": "2021-12-09T09:53:08.477Z"
   },
   {
    "duration": 9,
    "start_time": "2021-12-09T09:53:08.513Z"
   },
   {
    "duration": 19,
    "start_time": "2021-12-09T09:53:08.523Z"
   },
   {
    "duration": 4590,
    "start_time": "2021-12-09T09:53:08.544Z"
   },
   {
    "duration": 7,
    "start_time": "2021-12-09T09:53:13.135Z"
   },
   {
    "duration": 23,
    "start_time": "2021-12-09T09:53:13.146Z"
   },
   {
    "duration": 25,
    "start_time": "2021-12-09T09:53:13.171Z"
   },
   {
    "duration": 10,
    "start_time": "2021-12-09T09:53:13.197Z"
   },
   {
    "duration": 16,
    "start_time": "2021-12-09T09:53:13.209Z"
   },
   {
    "duration": 22,
    "start_time": "2021-12-09T09:53:13.227Z"
   },
   {
    "duration": 29,
    "start_time": "2021-12-09T09:53:13.251Z"
   },
   {
    "duration": 18,
    "start_time": "2021-12-09T09:53:13.282Z"
   },
   {
    "duration": 6,
    "start_time": "2021-12-09T09:53:13.302Z"
   },
   {
    "duration": 21,
    "start_time": "2021-12-09T09:53:13.310Z"
   },
   {
    "duration": 6,
    "start_time": "2021-12-09T09:53:13.333Z"
   },
   {
    "duration": 33,
    "start_time": "2021-12-09T09:53:13.340Z"
   },
   {
    "duration": 9,
    "start_time": "2021-12-09T09:53:13.375Z"
   },
   {
    "duration": 18,
    "start_time": "2021-12-09T09:53:13.386Z"
   },
   {
    "duration": 23,
    "start_time": "2021-12-09T09:53:13.405Z"
   },
   {
    "duration": 32,
    "start_time": "2021-12-09T09:53:13.430Z"
   },
   {
    "duration": 10,
    "start_time": "2021-12-09T09:53:13.463Z"
   },
   {
    "duration": 30,
    "start_time": "2021-12-09T09:53:13.474Z"
   },
   {
    "duration": 22,
    "start_time": "2021-12-09T09:53:13.506Z"
   },
   {
    "duration": 8,
    "start_time": "2021-12-09T09:53:13.529Z"
   },
   {
    "duration": 28,
    "start_time": "2021-12-09T09:53:13.538Z"
   },
   {
    "duration": 19,
    "start_time": "2021-12-09T10:05:51.240Z"
   },
   {
    "duration": 11,
    "start_time": "2021-12-09T10:25:32.381Z"
   },
   {
    "duration": 12,
    "start_time": "2021-12-09T10:27:12.735Z"
   },
   {
    "duration": 9,
    "start_time": "2021-12-09T10:30:46.209Z"
   },
   {
    "duration": 9,
    "start_time": "2021-12-09T10:41:21.562Z"
   },
   {
    "duration": 8,
    "start_time": "2021-12-09T10:41:44.027Z"
   },
   {
    "duration": 23,
    "start_time": "2021-12-09T10:49:56.385Z"
   },
   {
    "duration": 20,
    "start_time": "2021-12-09T10:50:13.427Z"
   },
   {
    "duration": 12,
    "start_time": "2021-12-09T10:51:05.980Z"
   },
   {
    "duration": 12,
    "start_time": "2021-12-09T10:51:11.083Z"
   },
   {
    "duration": 391,
    "start_time": "2021-12-09T10:52:35.141Z"
   },
   {
    "duration": 60,
    "start_time": "2021-12-09T10:52:53.569Z"
   },
   {
    "duration": 21,
    "start_time": "2021-12-09T10:52:53.631Z"
   },
   {
    "duration": 13,
    "start_time": "2021-12-09T10:52:53.654Z"
   },
   {
    "duration": 8,
    "start_time": "2021-12-09T10:52:53.669Z"
   },
   {
    "duration": 8,
    "start_time": "2021-12-09T10:52:53.706Z"
   },
   {
    "duration": 8,
    "start_time": "2021-12-09T10:52:53.715Z"
   },
   {
    "duration": 9,
    "start_time": "2021-12-09T10:52:53.724Z"
   },
   {
    "duration": 14,
    "start_time": "2021-12-09T10:52:53.736Z"
   },
   {
    "duration": 4,
    "start_time": "2021-12-09T10:52:53.752Z"
   },
   {
    "duration": 4,
    "start_time": "2021-12-09T10:52:53.758Z"
   },
   {
    "duration": 47,
    "start_time": "2021-12-09T10:52:53.763Z"
   },
   {
    "duration": 4,
    "start_time": "2021-12-09T10:52:53.811Z"
   },
   {
    "duration": 10,
    "start_time": "2021-12-09T10:52:53.817Z"
   },
   {
    "duration": 19,
    "start_time": "2021-12-09T10:52:53.829Z"
   },
   {
    "duration": 14,
    "start_time": "2021-12-09T10:52:53.850Z"
   },
   {
    "duration": 14,
    "start_time": "2021-12-09T10:52:53.866Z"
   },
   {
    "duration": 23,
    "start_time": "2021-12-09T10:52:53.906Z"
   },
   {
    "duration": 6,
    "start_time": "2021-12-09T10:52:53.931Z"
   },
   {
    "duration": 6,
    "start_time": "2021-12-09T10:52:53.939Z"
   },
   {
    "duration": 16,
    "start_time": "2021-12-09T10:52:53.946Z"
   },
   {
    "duration": 4383,
    "start_time": "2021-12-09T10:52:53.964Z"
   },
   {
    "duration": 7,
    "start_time": "2021-12-09T10:52:58.349Z"
   },
   {
    "duration": 13,
    "start_time": "2021-12-09T10:52:58.359Z"
   },
   {
    "duration": 33,
    "start_time": "2021-12-09T10:52:58.375Z"
   },
   {
    "duration": 10,
    "start_time": "2021-12-09T10:52:58.411Z"
   },
   {
    "duration": 10,
    "start_time": "2021-12-09T10:52:58.424Z"
   },
   {
    "duration": 11,
    "start_time": "2021-12-09T10:52:58.436Z"
   },
   {
    "duration": 8,
    "start_time": "2021-12-09T10:52:58.449Z"
   },
   {
    "duration": 10,
    "start_time": "2021-12-09T10:52:58.459Z"
   },
   {
    "duration": 38,
    "start_time": "2021-12-09T10:52:58.471Z"
   },
   {
    "duration": 17,
    "start_time": "2021-12-09T10:52:58.511Z"
   },
   {
    "duration": 6,
    "start_time": "2021-12-09T10:52:58.530Z"
   },
   {
    "duration": 19,
    "start_time": "2021-12-09T10:52:58.538Z"
   },
   {
    "duration": 9,
    "start_time": "2021-12-09T10:52:58.559Z"
   },
   {
    "duration": 40,
    "start_time": "2021-12-09T10:52:58.570Z"
   },
   {
    "duration": 15,
    "start_time": "2021-12-09T10:52:58.612Z"
   },
   {
    "duration": 30,
    "start_time": "2021-12-09T10:52:58.629Z"
   },
   {
    "duration": 10,
    "start_time": "2021-12-09T10:52:58.661Z"
   },
   {
    "duration": 38,
    "start_time": "2021-12-09T10:52:58.673Z"
   },
   {
    "duration": 9,
    "start_time": "2021-12-09T10:52:58.713Z"
   },
   {
    "duration": 7,
    "start_time": "2021-12-09T10:52:58.724Z"
   },
   {
    "duration": 18,
    "start_time": "2021-12-09T10:52:58.733Z"
   },
   {
    "duration": 9,
    "start_time": "2021-12-09T10:52:58.753Z"
   },
   {
    "duration": 44,
    "start_time": "2021-12-09T10:52:58.764Z"
   },
   {
    "duration": 9,
    "start_time": "2021-12-09T10:52:58.810Z"
   },
   {
    "duration": 8,
    "start_time": "2021-12-09T10:52:58.821Z"
   },
   {
    "duration": 20,
    "start_time": "2021-12-09T10:52:58.831Z"
   },
   {
    "duration": 10,
    "start_time": "2021-12-09T10:52:58.853Z"
   },
   {
    "duration": 5,
    "start_time": "2021-12-09T10:52:58.865Z"
   },
   {
    "duration": 63,
    "start_time": "2021-12-09T10:53:17.129Z"
   },
   {
    "duration": 23,
    "start_time": "2021-12-09T10:53:17.193Z"
   },
   {
    "duration": 14,
    "start_time": "2021-12-09T10:53:17.219Z"
   },
   {
    "duration": 9,
    "start_time": "2021-12-09T10:53:17.236Z"
   },
   {
    "duration": 8,
    "start_time": "2021-12-09T10:53:17.247Z"
   },
   {
    "duration": 6,
    "start_time": "2021-12-09T10:53:17.256Z"
   },
   {
    "duration": 10,
    "start_time": "2021-12-09T10:53:17.263Z"
   },
   {
    "duration": 44,
    "start_time": "2021-12-09T10:53:17.275Z"
   },
   {
    "duration": 5,
    "start_time": "2021-12-09T10:53:17.321Z"
   },
   {
    "duration": 6,
    "start_time": "2021-12-09T10:53:17.328Z"
   },
   {
    "duration": 16,
    "start_time": "2021-12-09T10:53:17.335Z"
   },
   {
    "duration": 7,
    "start_time": "2021-12-09T10:53:17.353Z"
   },
   {
    "duration": 45,
    "start_time": "2021-12-09T10:53:17.362Z"
   },
   {
    "duration": 12,
    "start_time": "2021-12-09T10:53:17.409Z"
   },
   {
    "duration": 14,
    "start_time": "2021-12-09T10:53:17.423Z"
   },
   {
    "duration": 16,
    "start_time": "2021-12-09T10:53:17.439Z"
   },
   {
    "duration": 57,
    "start_time": "2021-12-09T10:53:17.457Z"
   },
   {
    "duration": 9,
    "start_time": "2021-12-09T10:53:17.516Z"
   },
   {
    "duration": 8,
    "start_time": "2021-12-09T10:53:17.527Z"
   },
   {
    "duration": 33,
    "start_time": "2021-12-09T10:53:17.537Z"
   },
   {
    "duration": 4512,
    "start_time": "2021-12-09T10:53:17.572Z"
   },
   {
    "duration": 8,
    "start_time": "2021-12-09T10:53:22.086Z"
   },
   {
    "duration": 12,
    "start_time": "2021-12-09T10:53:22.108Z"
   },
   {
    "duration": 10,
    "start_time": "2021-12-09T10:53:22.122Z"
   },
   {
    "duration": 8,
    "start_time": "2021-12-09T10:53:22.134Z"
   },
   {
    "duration": 9,
    "start_time": "2021-12-09T10:53:22.144Z"
   },
   {
    "duration": 10,
    "start_time": "2021-12-09T10:53:22.154Z"
   },
   {
    "duration": 46,
    "start_time": "2021-12-09T10:53:22.166Z"
   },
   {
    "duration": 7,
    "start_time": "2021-12-09T10:53:22.214Z"
   },
   {
    "duration": 6,
    "start_time": "2021-12-09T10:53:22.223Z"
   },
   {
    "duration": 15,
    "start_time": "2021-12-09T10:53:22.231Z"
   },
   {
    "duration": 7,
    "start_time": "2021-12-09T10:53:22.248Z"
   },
   {
    "duration": 18,
    "start_time": "2021-12-09T10:53:22.256Z"
   },
   {
    "duration": 38,
    "start_time": "2021-12-09T10:53:22.276Z"
   },
   {
    "duration": 10,
    "start_time": "2021-12-09T10:53:22.316Z"
   },
   {
    "duration": 11,
    "start_time": "2021-12-09T10:53:22.327Z"
   },
   {
    "duration": 19,
    "start_time": "2021-12-09T10:53:22.339Z"
   },
   {
    "duration": 11,
    "start_time": "2021-12-09T10:53:22.360Z"
   },
   {
    "duration": 43,
    "start_time": "2021-12-09T10:53:22.372Z"
   },
   {
    "duration": 11,
    "start_time": "2021-12-09T10:53:22.416Z"
   },
   {
    "duration": 7,
    "start_time": "2021-12-09T10:53:22.429Z"
   },
   {
    "duration": 19,
    "start_time": "2021-12-09T10:53:22.437Z"
   },
   {
    "duration": 10,
    "start_time": "2021-12-09T10:53:22.458Z"
   },
   {
    "duration": 45,
    "start_time": "2021-12-09T10:53:22.469Z"
   },
   {
    "duration": 10,
    "start_time": "2021-12-09T10:53:22.516Z"
   },
   {
    "duration": 9,
    "start_time": "2021-12-09T10:53:22.528Z"
   },
   {
    "duration": 21,
    "start_time": "2021-12-09T10:53:22.539Z"
   },
   {
    "duration": 9,
    "start_time": "2021-12-09T10:53:22.561Z"
   },
   {
    "duration": 4,
    "start_time": "2021-12-09T10:53:22.574Z"
   },
   {
    "duration": 63,
    "start_time": "2021-12-09T10:53:50.530Z"
   },
   {
    "duration": 21,
    "start_time": "2021-12-09T10:53:50.596Z"
   },
   {
    "duration": 13,
    "start_time": "2021-12-09T10:53:50.619Z"
   },
   {
    "duration": 7,
    "start_time": "2021-12-09T10:53:50.634Z"
   },
   {
    "duration": 5,
    "start_time": "2021-12-09T10:53:50.643Z"
   },
   {
    "duration": 6,
    "start_time": "2021-12-09T10:53:50.650Z"
   },
   {
    "duration": 8,
    "start_time": "2021-12-09T10:53:50.658Z"
   },
   {
    "duration": 48,
    "start_time": "2021-12-09T10:53:50.669Z"
   },
   {
    "duration": 4,
    "start_time": "2021-12-09T10:53:50.719Z"
   },
   {
    "duration": 5,
    "start_time": "2021-12-09T10:53:50.725Z"
   },
   {
    "duration": 16,
    "start_time": "2021-12-09T10:53:50.731Z"
   },
   {
    "duration": 12,
    "start_time": "2021-12-09T10:53:50.748Z"
   },
   {
    "duration": 12,
    "start_time": "2021-12-09T10:53:50.761Z"
   },
   {
    "duration": 15,
    "start_time": "2021-12-09T10:53:50.774Z"
   },
   {
    "duration": 27,
    "start_time": "2021-12-09T10:53:50.791Z"
   },
   {
    "duration": 15,
    "start_time": "2021-12-09T10:53:50.820Z"
   },
   {
    "duration": 23,
    "start_time": "2021-12-09T10:53:50.838Z"
   },
   {
    "duration": 7,
    "start_time": "2021-12-09T10:53:50.863Z"
   },
   {
    "duration": 7,
    "start_time": "2021-12-09T10:53:50.906Z"
   },
   {
    "duration": 19,
    "start_time": "2021-12-09T10:53:50.915Z"
   },
   {
    "duration": 4581,
    "start_time": "2021-12-09T10:53:50.936Z"
   },
   {
    "duration": 8,
    "start_time": "2021-12-09T10:53:55.519Z"
   },
   {
    "duration": 12,
    "start_time": "2021-12-09T10:53:55.533Z"
   },
   {
    "duration": 10,
    "start_time": "2021-12-09T10:53:55.547Z"
   },
   {
    "duration": 9,
    "start_time": "2021-12-09T10:53:55.559Z"
   },
   {
    "duration": 43,
    "start_time": "2021-12-09T10:53:55.570Z"
   },
   {
    "duration": 9,
    "start_time": "2021-12-09T10:53:55.615Z"
   },
   {
    "duration": 10,
    "start_time": "2021-12-09T10:53:55.626Z"
   },
   {
    "duration": 9,
    "start_time": "2021-12-09T10:53:55.638Z"
   },
   {
    "duration": 5,
    "start_time": "2021-12-09T10:53:55.649Z"
   },
   {
    "duration": 54,
    "start_time": "2021-12-09T10:53:55.656Z"
   },
   {
    "duration": 10,
    "start_time": "2021-12-09T10:53:55.712Z"
   },
   {
    "duration": 19,
    "start_time": "2021-12-09T10:53:55.724Z"
   },
   {
    "duration": 9,
    "start_time": "2021-12-09T10:53:55.745Z"
   },
   {
    "duration": 11,
    "start_time": "2021-12-09T10:53:55.756Z"
   },
   {
    "duration": 42,
    "start_time": "2021-12-09T10:53:55.769Z"
   },
   {
    "duration": 18,
    "start_time": "2021-12-09T10:53:55.813Z"
   },
   {
    "duration": 10,
    "start_time": "2021-12-09T10:53:55.833Z"
   },
   {
    "duration": 16,
    "start_time": "2021-12-09T10:53:55.845Z"
   },
   {
    "duration": 12,
    "start_time": "2021-12-09T10:53:55.862Z"
   },
   {
    "duration": 36,
    "start_time": "2021-12-09T10:53:55.876Z"
   },
   {
    "duration": 24,
    "start_time": "2021-12-09T10:53:55.913Z"
   },
   {
    "duration": 14,
    "start_time": "2021-12-09T10:53:55.940Z"
   },
   {
    "duration": 13,
    "start_time": "2021-12-09T10:53:55.956Z"
   },
   {
    "duration": 13,
    "start_time": "2021-12-09T10:53:55.971Z"
   },
   {
    "duration": 28,
    "start_time": "2021-12-09T10:53:55.985Z"
   },
   {
    "duration": 26,
    "start_time": "2021-12-09T10:53:56.015Z"
   },
   {
    "duration": 11,
    "start_time": "2021-12-09T10:53:56.043Z"
   },
   {
    "duration": 6,
    "start_time": "2021-12-09T10:53:56.056Z"
   },
   {
    "duration": 12,
    "start_time": "2021-12-09T10:54:39.374Z"
   },
   {
    "duration": 14,
    "start_time": "2021-12-09T10:56:04.219Z"
   },
   {
    "duration": 8,
    "start_time": "2021-12-09T10:56:56.728Z"
   },
   {
    "duration": 19,
    "start_time": "2021-12-09T11:02:42.205Z"
   },
   {
    "duration": 61,
    "start_time": "2021-12-09T11:02:55.537Z"
   },
   {
    "duration": 20,
    "start_time": "2021-12-09T11:02:55.600Z"
   },
   {
    "duration": 12,
    "start_time": "2021-12-09T11:02:55.622Z"
   },
   {
    "duration": 8,
    "start_time": "2021-12-09T11:02:55.636Z"
   },
   {
    "duration": 6,
    "start_time": "2021-12-09T11:02:55.645Z"
   },
   {
    "duration": 4,
    "start_time": "2021-12-09T11:02:55.653Z"
   },
   {
    "duration": 6,
    "start_time": "2021-12-09T11:02:55.659Z"
   },
   {
    "duration": 48,
    "start_time": "2021-12-09T11:02:55.667Z"
   },
   {
    "duration": 16,
    "start_time": "2021-12-09T11:02:55.718Z"
   },
   {
    "duration": 7,
    "start_time": "2021-12-09T11:02:55.736Z"
   },
   {
    "duration": 5,
    "start_time": "2021-12-09T11:02:55.745Z"
   },
   {
    "duration": 15,
    "start_time": "2021-12-09T11:02:55.752Z"
   },
   {
    "duration": 6,
    "start_time": "2021-12-09T11:02:55.768Z"
   },
   {
    "duration": 31,
    "start_time": "2021-12-09T11:02:55.776Z"
   },
   {
    "duration": 12,
    "start_time": "2021-12-09T11:02:55.809Z"
   },
   {
    "duration": 13,
    "start_time": "2021-12-09T11:02:55.822Z"
   },
   {
    "duration": 14,
    "start_time": "2021-12-09T11:02:55.837Z"
   },
   {
    "duration": 55,
    "start_time": "2021-12-09T11:02:55.852Z"
   },
   {
    "duration": 7,
    "start_time": "2021-12-09T11:02:55.909Z"
   },
   {
    "duration": 6,
    "start_time": "2021-12-09T11:02:55.918Z"
   },
   {
    "duration": 17,
    "start_time": "2021-12-09T11:02:55.925Z"
   },
   {
    "duration": 4317,
    "start_time": "2021-12-09T11:02:55.943Z"
   },
   {
    "duration": 8,
    "start_time": "2021-12-09T11:03:00.264Z"
   },
   {
    "duration": 29,
    "start_time": "2021-12-09T11:03:00.274Z"
   },
   {
    "duration": 16,
    "start_time": "2021-12-09T11:03:00.306Z"
   },
   {
    "duration": 14,
    "start_time": "2021-12-09T11:03:00.324Z"
   },
   {
    "duration": 9,
    "start_time": "2021-12-09T11:03:00.340Z"
   },
   {
    "duration": 41,
    "start_time": "2021-12-09T11:03:00.351Z"
   },
   {
    "duration": 27,
    "start_time": "2021-12-09T11:03:00.394Z"
   },
   {
    "duration": 30,
    "start_time": "2021-12-09T11:03:00.423Z"
   },
   {
    "duration": 15,
    "start_time": "2021-12-09T11:03:00.455Z"
   },
   {
    "duration": 30,
    "start_time": "2021-12-09T11:03:00.472Z"
   },
   {
    "duration": 7,
    "start_time": "2021-12-09T11:03:00.504Z"
   },
   {
    "duration": 21,
    "start_time": "2021-12-09T11:03:00.513Z"
   },
   {
    "duration": 14,
    "start_time": "2021-12-09T11:03:00.536Z"
   },
   {
    "duration": 35,
    "start_time": "2021-12-09T11:03:00.552Z"
   },
   {
    "duration": 20,
    "start_time": "2021-12-09T11:03:00.590Z"
   },
   {
    "duration": 30,
    "start_time": "2021-12-09T11:03:00.612Z"
   },
   {
    "duration": 10,
    "start_time": "2021-12-09T11:03:00.643Z"
   },
   {
    "duration": 25,
    "start_time": "2021-12-09T11:03:00.655Z"
   },
   {
    "duration": 12,
    "start_time": "2021-12-09T11:03:00.681Z"
   },
   {
    "duration": 8,
    "start_time": "2021-12-09T11:03:00.695Z"
   },
   {
    "duration": 24,
    "start_time": "2021-12-09T11:03:00.704Z"
   },
   {
    "duration": 10,
    "start_time": "2021-12-09T11:03:00.730Z"
   },
   {
    "duration": 12,
    "start_time": "2021-12-09T11:03:00.742Z"
   },
   {
    "duration": 9,
    "start_time": "2021-12-09T11:03:00.756Z"
   },
   {
    "duration": 8,
    "start_time": "2021-12-09T11:03:00.766Z"
   },
   {
    "duration": 43,
    "start_time": "2021-12-09T11:03:00.776Z"
   },
   {
    "duration": 9,
    "start_time": "2021-12-09T11:03:00.821Z"
   },
   {
    "duration": 21,
    "start_time": "2021-12-09T11:03:00.832Z"
   },
   {
    "duration": 8,
    "start_time": "2021-12-09T11:03:00.855Z"
   },
   {
    "duration": 14,
    "start_time": "2021-12-09T11:04:55.991Z"
   },
   {
    "duration": 66,
    "start_time": "2021-12-09T11:05:05.171Z"
   },
   {
    "duration": 21,
    "start_time": "2021-12-09T11:05:05.240Z"
   },
   {
    "duration": 44,
    "start_time": "2021-12-09T11:05:05.264Z"
   },
   {
    "duration": 6,
    "start_time": "2021-12-09T11:05:05.310Z"
   },
   {
    "duration": 6,
    "start_time": "2021-12-09T11:05:05.318Z"
   },
   {
    "duration": 5,
    "start_time": "2021-12-09T11:05:05.326Z"
   },
   {
    "duration": 7,
    "start_time": "2021-12-09T11:05:05.333Z"
   },
   {
    "duration": 17,
    "start_time": "2021-12-09T11:05:05.342Z"
   },
   {
    "duration": 52,
    "start_time": "2021-12-09T11:05:05.362Z"
   },
   {
    "duration": 5,
    "start_time": "2021-12-09T11:05:05.415Z"
   },
   {
    "duration": 4,
    "start_time": "2021-12-09T11:05:05.422Z"
   },
   {
    "duration": 12,
    "start_time": "2021-12-09T11:05:05.428Z"
   },
   {
    "duration": 6,
    "start_time": "2021-12-09T11:05:05.442Z"
   },
   {
    "duration": 9,
    "start_time": "2021-12-09T11:05:05.449Z"
   },
   {
    "duration": 47,
    "start_time": "2021-12-09T11:05:05.460Z"
   },
   {
    "duration": 15,
    "start_time": "2021-12-09T11:05:05.510Z"
   },
   {
    "duration": 14,
    "start_time": "2021-12-09T11:05:05.527Z"
   },
   {
    "duration": 24,
    "start_time": "2021-12-09T11:05:05.543Z"
   },
   {
    "duration": 7,
    "start_time": "2021-12-09T11:05:05.568Z"
   },
   {
    "duration": 35,
    "start_time": "2021-12-09T11:05:05.577Z"
   },
   {
    "duration": 22,
    "start_time": "2021-12-09T11:05:05.614Z"
   },
   {
    "duration": 5161,
    "start_time": "2021-12-09T11:05:05.638Z"
   },
   {
    "duration": 7,
    "start_time": "2021-12-09T11:05:10.808Z"
   },
   {
    "duration": 15,
    "start_time": "2021-12-09T11:05:10.818Z"
   },
   {
    "duration": 12,
    "start_time": "2021-12-09T11:05:10.835Z"
   },
   {
    "duration": 9,
    "start_time": "2021-12-09T11:05:10.849Z"
   },
   {
    "duration": 9,
    "start_time": "2021-12-09T11:05:10.860Z"
   },
   {
    "duration": 38,
    "start_time": "2021-12-09T11:05:10.870Z"
   },
   {
    "duration": 9,
    "start_time": "2021-12-09T11:05:10.910Z"
   },
   {
    "duration": 10,
    "start_time": "2021-12-09T11:05:10.921Z"
   },
   {
    "duration": 5,
    "start_time": "2021-12-09T11:05:10.932Z"
   },
   {
    "duration": 15,
    "start_time": "2021-12-09T11:05:10.939Z"
   },
   {
    "duration": 7,
    "start_time": "2021-12-09T11:05:10.956Z"
   },
   {
    "duration": 59,
    "start_time": "2021-12-09T11:05:10.965Z"
   },
   {
    "duration": 11,
    "start_time": "2021-12-09T11:05:11.026Z"
   },
   {
    "duration": 15,
    "start_time": "2021-12-09T11:05:11.040Z"
   },
   {
    "duration": 10,
    "start_time": "2021-12-09T11:05:11.057Z"
   },
   {
    "duration": 63,
    "start_time": "2021-12-09T11:05:11.069Z"
   },
   {
    "duration": 14,
    "start_time": "2021-12-09T11:05:11.134Z"
   },
   {
    "duration": 18,
    "start_time": "2021-12-09T11:05:11.151Z"
   },
   {
    "duration": 38,
    "start_time": "2021-12-09T11:05:11.171Z"
   },
   {
    "duration": 8,
    "start_time": "2021-12-09T11:05:11.211Z"
   },
   {
    "duration": 19,
    "start_time": "2021-12-09T11:05:11.221Z"
   },
   {
    "duration": 18,
    "start_time": "2021-12-09T11:05:11.242Z"
   },
   {
    "duration": 14,
    "start_time": "2021-12-09T11:05:11.262Z"
   },
   {
    "duration": 37,
    "start_time": "2021-12-09T11:05:11.277Z"
   },
   {
    "duration": 9,
    "start_time": "2021-12-09T11:05:11.316Z"
   },
   {
    "duration": 26,
    "start_time": "2021-12-09T11:05:11.327Z"
   },
   {
    "duration": 10,
    "start_time": "2021-12-09T11:05:11.355Z"
   },
   {
    "duration": 41,
    "start_time": "2021-12-09T11:05:11.367Z"
   },
   {
    "duration": 28,
    "start_time": "2021-12-09T11:05:11.410Z"
   },
   {
    "duration": 15,
    "start_time": "2021-12-09T11:05:58.048Z"
   },
   {
    "duration": 60,
    "start_time": "2021-12-09T11:06:07.556Z"
   },
   {
    "duration": 25,
    "start_time": "2021-12-09T11:06:07.618Z"
   },
   {
    "duration": 13,
    "start_time": "2021-12-09T11:06:07.645Z"
   },
   {
    "duration": 7,
    "start_time": "2021-12-09T11:06:07.660Z"
   },
   {
    "duration": 39,
    "start_time": "2021-12-09T11:06:07.668Z"
   },
   {
    "duration": 8,
    "start_time": "2021-12-09T11:06:07.709Z"
   },
   {
    "duration": 7,
    "start_time": "2021-12-09T11:06:07.718Z"
   },
   {
    "duration": 14,
    "start_time": "2021-12-09T11:06:07.728Z"
   },
   {
    "duration": 14,
    "start_time": "2021-12-09T11:06:07.745Z"
   },
   {
    "duration": 4,
    "start_time": "2021-12-09T11:06:07.761Z"
   },
   {
    "duration": 39,
    "start_time": "2021-12-09T11:06:07.767Z"
   },
   {
    "duration": 12,
    "start_time": "2021-12-09T11:06:07.808Z"
   },
   {
    "duration": 5,
    "start_time": "2021-12-09T11:06:07.823Z"
   },
   {
    "duration": 8,
    "start_time": "2021-12-09T11:06:07.830Z"
   },
   {
    "duration": 14,
    "start_time": "2021-12-09T11:06:07.840Z"
   },
   {
    "duration": 12,
    "start_time": "2021-12-09T11:06:07.856Z"
   },
   {
    "duration": 15,
    "start_time": "2021-12-09T11:06:07.906Z"
   },
   {
    "duration": 23,
    "start_time": "2021-12-09T11:06:07.922Z"
   },
   {
    "duration": 7,
    "start_time": "2021-12-09T11:06:07.947Z"
   },
   {
    "duration": 7,
    "start_time": "2021-12-09T11:06:07.956Z"
   },
   {
    "duration": 51,
    "start_time": "2021-12-09T11:06:07.965Z"
   },
   {
    "duration": 5033,
    "start_time": "2021-12-09T11:06:08.018Z"
   },
   {
    "duration": 7,
    "start_time": "2021-12-09T11:06:13.055Z"
   },
   {
    "duration": 14,
    "start_time": "2021-12-09T11:06:13.064Z"
   },
   {
    "duration": 27,
    "start_time": "2021-12-09T11:06:13.079Z"
   },
   {
    "duration": 9,
    "start_time": "2021-12-09T11:06:13.108Z"
   },
   {
    "duration": 9,
    "start_time": "2021-12-09T11:06:13.119Z"
   },
   {
    "duration": 10,
    "start_time": "2021-12-09T11:06:13.129Z"
   },
   {
    "duration": 10,
    "start_time": "2021-12-09T11:06:13.141Z"
   },
   {
    "duration": 11,
    "start_time": "2021-12-09T11:06:13.153Z"
   },
   {
    "duration": 6,
    "start_time": "2021-12-09T11:06:13.165Z"
   },
   {
    "duration": 17,
    "start_time": "2021-12-09T11:06:13.207Z"
   },
   {
    "duration": 8,
    "start_time": "2021-12-09T11:06:13.226Z"
   },
   {
    "duration": 22,
    "start_time": "2021-12-09T11:06:13.235Z"
   },
   {
    "duration": 10,
    "start_time": "2021-12-09T11:06:13.259Z"
   },
   {
    "duration": 38,
    "start_time": "2021-12-09T11:06:13.271Z"
   },
   {
    "duration": 16,
    "start_time": "2021-12-09T11:06:13.311Z"
   },
   {
    "duration": 28,
    "start_time": "2021-12-09T11:06:13.329Z"
   },
   {
    "duration": 10,
    "start_time": "2021-12-09T11:06:13.359Z"
   },
   {
    "duration": 18,
    "start_time": "2021-12-09T11:06:13.371Z"
   },
   {
    "duration": 10,
    "start_time": "2021-12-09T11:06:13.408Z"
   },
   {
    "duration": 9,
    "start_time": "2021-12-09T11:06:13.420Z"
   },
   {
    "duration": 43,
    "start_time": "2021-12-09T11:06:13.431Z"
   },
   {
    "duration": 12,
    "start_time": "2021-12-09T11:06:13.477Z"
   },
   {
    "duration": 28,
    "start_time": "2021-12-09T11:06:13.491Z"
   },
   {
    "duration": 10,
    "start_time": "2021-12-09T11:06:13.521Z"
   },
   {
    "duration": 10,
    "start_time": "2021-12-09T11:06:13.533Z"
   },
   {
    "duration": 21,
    "start_time": "2021-12-09T11:06:13.545Z"
   },
   {
    "duration": 46,
    "start_time": "2021-12-09T11:06:13.568Z"
   },
   {
    "duration": 14,
    "start_time": "2021-12-09T11:06:13.617Z"
   },
   {
    "duration": 9,
    "start_time": "2021-12-09T11:06:13.633Z"
   },
   {
    "duration": 11,
    "start_time": "2021-12-09T11:18:40.786Z"
   },
   {
    "duration": 6,
    "start_time": "2021-12-09T11:19:19.532Z"
   },
   {
    "duration": 6,
    "start_time": "2021-12-09T11:20:09.627Z"
   },
   {
    "duration": 62,
    "start_time": "2021-12-09T11:57:12.025Z"
   },
   {
    "duration": 25,
    "start_time": "2021-12-09T11:57:12.089Z"
   },
   {
    "duration": 13,
    "start_time": "2021-12-09T11:57:12.116Z"
   },
   {
    "duration": 7,
    "start_time": "2021-12-09T11:57:12.131Z"
   },
   {
    "duration": 6,
    "start_time": "2021-12-09T11:57:12.140Z"
   },
   {
    "duration": 6,
    "start_time": "2021-12-09T11:57:12.148Z"
   },
   {
    "duration": 10,
    "start_time": "2021-12-09T11:57:12.156Z"
   },
   {
    "duration": 53,
    "start_time": "2021-12-09T11:57:12.169Z"
   },
   {
    "duration": 16,
    "start_time": "2021-12-09T11:57:12.225Z"
   },
   {
    "duration": 5,
    "start_time": "2021-12-09T11:57:12.243Z"
   },
   {
    "duration": 5,
    "start_time": "2021-12-09T11:57:12.249Z"
   },
   {
    "duration": 13,
    "start_time": "2021-12-09T11:57:12.255Z"
   },
   {
    "duration": 40,
    "start_time": "2021-12-09T11:57:12.270Z"
   },
   {
    "duration": 17,
    "start_time": "2021-12-09T11:57:12.311Z"
   },
   {
    "duration": 3,
    "start_time": "2021-12-09T11:57:12.330Z"
   },
   {
    "duration": 353,
    "start_time": "2021-12-09T11:57:12.335Z"
   },
   {
    "duration": -583,
    "start_time": "2021-12-09T11:57:13.275Z"
   },
   {
    "duration": -586,
    "start_time": "2021-12-09T11:57:13.279Z"
   },
   {
    "duration": -587,
    "start_time": "2021-12-09T11:57:13.281Z"
   },
   {
    "duration": -589,
    "start_time": "2021-12-09T11:57:13.283Z"
   },
   {
    "duration": -592,
    "start_time": "2021-12-09T11:57:13.287Z"
   },
   {
    "duration": -593,
    "start_time": "2021-12-09T11:57:13.289Z"
   },
   {
    "duration": -613,
    "start_time": "2021-12-09T11:57:13.311Z"
   },
   {
    "duration": -614,
    "start_time": "2021-12-09T11:57:13.313Z"
   },
   {
    "duration": -615,
    "start_time": "2021-12-09T11:57:13.315Z"
   },
   {
    "duration": -616,
    "start_time": "2021-12-09T11:57:13.317Z"
   },
   {
    "duration": -617,
    "start_time": "2021-12-09T11:57:13.319Z"
   },
   {
    "duration": -618,
    "start_time": "2021-12-09T11:57:13.321Z"
   },
   {
    "duration": -619,
    "start_time": "2021-12-09T11:57:13.323Z"
   },
   {
    "duration": -621,
    "start_time": "2021-12-09T11:57:13.325Z"
   },
   {
    "duration": -622,
    "start_time": "2021-12-09T11:57:13.327Z"
   },
   {
    "duration": -623,
    "start_time": "2021-12-09T11:57:13.329Z"
   },
   {
    "duration": -625,
    "start_time": "2021-12-09T11:57:13.332Z"
   },
   {
    "duration": -626,
    "start_time": "2021-12-09T11:57:13.334Z"
   },
   {
    "duration": -627,
    "start_time": "2021-12-09T11:57:13.336Z"
   },
   {
    "duration": -628,
    "start_time": "2021-12-09T11:57:13.338Z"
   },
   {
    "duration": -630,
    "start_time": "2021-12-09T11:57:13.340Z"
   },
   {
    "duration": -631,
    "start_time": "2021-12-09T11:57:13.342Z"
   },
   {
    "duration": -632,
    "start_time": "2021-12-09T11:57:13.344Z"
   },
   {
    "duration": -633,
    "start_time": "2021-12-09T11:57:13.346Z"
   },
   {
    "duration": -634,
    "start_time": "2021-12-09T11:57:13.348Z"
   },
   {
    "duration": -635,
    "start_time": "2021-12-09T11:57:13.350Z"
   },
   {
    "duration": -636,
    "start_time": "2021-12-09T11:57:13.352Z"
   },
   {
    "duration": -638,
    "start_time": "2021-12-09T11:57:13.354Z"
   },
   {
    "duration": -639,
    "start_time": "2021-12-09T11:57:13.356Z"
   },
   {
    "duration": -640,
    "start_time": "2021-12-09T11:57:13.358Z"
   },
   {
    "duration": -641,
    "start_time": "2021-12-09T11:57:13.360Z"
   },
   {
    "duration": -642,
    "start_time": "2021-12-09T11:57:13.362Z"
   },
   {
    "duration": -643,
    "start_time": "2021-12-09T11:57:13.364Z"
   },
   {
    "duration": -644,
    "start_time": "2021-12-09T11:57:13.366Z"
   },
   {
    "duration": -645,
    "start_time": "2021-12-09T11:57:13.368Z"
   },
   {
    "duration": 61,
    "start_time": "2021-12-09T11:57:40.529Z"
   },
   {
    "duration": 3,
    "start_time": "2021-12-09T11:57:40.592Z"
   },
   {
    "duration": 19,
    "start_time": "2021-12-09T11:57:40.597Z"
   },
   {
    "duration": 6,
    "start_time": "2021-12-09T11:57:40.618Z"
   },
   {
    "duration": 6,
    "start_time": "2021-12-09T11:57:40.626Z"
   },
   {
    "duration": 5,
    "start_time": "2021-12-09T11:57:40.633Z"
   },
   {
    "duration": 7,
    "start_time": "2021-12-09T11:57:40.640Z"
   },
   {
    "duration": 15,
    "start_time": "2021-12-09T11:57:40.649Z"
   },
   {
    "duration": 48,
    "start_time": "2021-12-09T11:57:40.667Z"
   },
   {
    "duration": 5,
    "start_time": "2021-12-09T11:57:40.717Z"
   },
   {
    "duration": 21,
    "start_time": "2021-12-09T11:57:40.724Z"
   },
   {
    "duration": 21,
    "start_time": "2021-12-09T11:57:40.746Z"
   },
   {
    "duration": 14,
    "start_time": "2021-12-09T11:57:40.768Z"
   },
   {
    "duration": 13,
    "start_time": "2021-12-09T11:57:40.784Z"
   },
   {
    "duration": 3,
    "start_time": "2021-12-09T11:57:40.799Z"
   },
   {
    "duration": 398,
    "start_time": "2021-12-09T11:57:40.804Z"
   },
   {
    "duration": -592,
    "start_time": "2021-12-09T11:57:41.797Z"
   },
   {
    "duration": -593,
    "start_time": "2021-12-09T11:57:41.799Z"
   },
   {
    "duration": -595,
    "start_time": "2021-12-09T11:57:41.802Z"
   },
   {
    "duration": -596,
    "start_time": "2021-12-09T11:57:41.804Z"
   },
   {
    "duration": -596,
    "start_time": "2021-12-09T11:57:41.805Z"
   },
   {
    "duration": -597,
    "start_time": "2021-12-09T11:57:41.807Z"
   },
   {
    "duration": -599,
    "start_time": "2021-12-09T11:57:41.810Z"
   },
   {
    "duration": -600,
    "start_time": "2021-12-09T11:57:41.812Z"
   },
   {
    "duration": -600,
    "start_time": "2021-12-09T11:57:41.814Z"
   },
   {
    "duration": -601,
    "start_time": "2021-12-09T11:57:41.816Z"
   },
   {
    "duration": -601,
    "start_time": "2021-12-09T11:57:41.818Z"
   },
   {
    "duration": -602,
    "start_time": "2021-12-09T11:57:41.820Z"
   },
   {
    "duration": -602,
    "start_time": "2021-12-09T11:57:41.822Z"
   },
   {
    "duration": -603,
    "start_time": "2021-12-09T11:57:41.824Z"
   },
   {
    "duration": -603,
    "start_time": "2021-12-09T11:57:41.826Z"
   },
   {
    "duration": -604,
    "start_time": "2021-12-09T11:57:41.828Z"
   },
   {
    "duration": -605,
    "start_time": "2021-12-09T11:57:41.831Z"
   },
   {
    "duration": -606,
    "start_time": "2021-12-09T11:57:41.833Z"
   },
   {
    "duration": -607,
    "start_time": "2021-12-09T11:57:41.835Z"
   },
   {
    "duration": -607,
    "start_time": "2021-12-09T11:57:41.837Z"
   },
   {
    "duration": -608,
    "start_time": "2021-12-09T11:57:41.839Z"
   },
   {
    "duration": -608,
    "start_time": "2021-12-09T11:57:41.841Z"
   },
   {
    "duration": -609,
    "start_time": "2021-12-09T11:57:41.843Z"
   },
   {
    "duration": -610,
    "start_time": "2021-12-09T11:57:41.846Z"
   },
   {
    "duration": -611,
    "start_time": "2021-12-09T11:57:41.848Z"
   },
   {
    "duration": -611,
    "start_time": "2021-12-09T11:57:41.850Z"
   },
   {
    "duration": -612,
    "start_time": "2021-12-09T11:57:41.852Z"
   },
   {
    "duration": -613,
    "start_time": "2021-12-09T11:57:41.854Z"
   },
   {
    "duration": -613,
    "start_time": "2021-12-09T11:57:41.856Z"
   },
   {
    "duration": -622,
    "start_time": "2021-12-09T11:57:41.866Z"
   },
   {
    "duration": -624,
    "start_time": "2021-12-09T11:57:41.869Z"
   },
   {
    "duration": -624,
    "start_time": "2021-12-09T11:57:41.871Z"
   },
   {
    "duration": -625,
    "start_time": "2021-12-09T11:57:41.873Z"
   },
   {
    "duration": -626,
    "start_time": "2021-12-09T11:57:41.875Z"
   },
   {
    "duration": -571,
    "start_time": "2021-12-09T11:57:41.877Z"
   },
   {
    "duration": 58,
    "start_time": "2021-12-09T11:57:53.260Z"
   },
   {
    "duration": 69,
    "start_time": "2021-12-09T11:58:04.281Z"
   },
   {
    "duration": 4,
    "start_time": "2021-12-09T11:58:04.352Z"
   },
   {
    "duration": 54,
    "start_time": "2021-12-09T11:58:04.359Z"
   },
   {
    "duration": 8,
    "start_time": "2021-12-09T11:58:04.415Z"
   },
   {
    "duration": 6,
    "start_time": "2021-12-09T11:58:04.425Z"
   },
   {
    "duration": 6,
    "start_time": "2021-12-09T11:58:04.433Z"
   },
   {
    "duration": 15,
    "start_time": "2021-12-09T11:58:04.440Z"
   },
   {
    "duration": 15,
    "start_time": "2021-12-09T11:58:04.458Z"
   },
   {
    "duration": 39,
    "start_time": "2021-12-09T11:58:04.475Z"
   },
   {
    "duration": 4,
    "start_time": "2021-12-09T11:58:04.516Z"
   },
   {
    "duration": 6,
    "start_time": "2021-12-09T11:58:04.522Z"
   },
   {
    "duration": 28,
    "start_time": "2021-12-09T11:58:04.530Z"
   },
   {
    "duration": 7,
    "start_time": "2021-12-09T11:58:04.560Z"
   },
   {
    "duration": 9,
    "start_time": "2021-12-09T11:58:04.569Z"
   },
   {
    "duration": 5,
    "start_time": "2021-12-09T11:58:04.579Z"
   },
   {
    "duration": 605,
    "start_time": "2021-12-09T11:58:04.586Z"
   },
   {
    "duration": -591,
    "start_time": "2021-12-09T11:58:05.785Z"
   },
   {
    "duration": -591,
    "start_time": "2021-12-09T11:58:05.786Z"
   },
   {
    "duration": -594,
    "start_time": "2021-12-09T11:58:05.789Z"
   },
   {
    "duration": -595,
    "start_time": "2021-12-09T11:58:05.791Z"
   },
   {
    "duration": -615,
    "start_time": "2021-12-09T11:58:05.812Z"
   },
   {
    "duration": -617,
    "start_time": "2021-12-09T11:58:05.815Z"
   },
   {
    "duration": -619,
    "start_time": "2021-12-09T11:58:05.818Z"
   },
   {
    "duration": -620,
    "start_time": "2021-12-09T11:58:05.820Z"
   },
   {
    "duration": -621,
    "start_time": "2021-12-09T11:58:05.822Z"
   },
   {
    "duration": -621,
    "start_time": "2021-12-09T11:58:05.823Z"
   },
   {
    "duration": -621,
    "start_time": "2021-12-09T11:58:05.825Z"
   },
   {
    "duration": -623,
    "start_time": "2021-12-09T11:58:05.827Z"
   },
   {
    "duration": -624,
    "start_time": "2021-12-09T11:58:05.829Z"
   },
   {
    "duration": -625,
    "start_time": "2021-12-09T11:58:05.831Z"
   },
   {
    "duration": -626,
    "start_time": "2021-12-09T11:58:05.833Z"
   },
   {
    "duration": -627,
    "start_time": "2021-12-09T11:58:05.835Z"
   },
   {
    "duration": -628,
    "start_time": "2021-12-09T11:58:05.837Z"
   },
   {
    "duration": -629,
    "start_time": "2021-12-09T11:58:05.839Z"
   },
   {
    "duration": -630,
    "start_time": "2021-12-09T11:58:05.841Z"
   },
   {
    "duration": -630,
    "start_time": "2021-12-09T11:58:05.842Z"
   },
   {
    "duration": -631,
    "start_time": "2021-12-09T11:58:05.844Z"
   },
   {
    "duration": -631,
    "start_time": "2021-12-09T11:58:05.846Z"
   },
   {
    "duration": -633,
    "start_time": "2021-12-09T11:58:05.848Z"
   },
   {
    "duration": -634,
    "start_time": "2021-12-09T11:58:05.850Z"
   },
   {
    "duration": -635,
    "start_time": "2021-12-09T11:58:05.852Z"
   },
   {
    "duration": -636,
    "start_time": "2021-12-09T11:58:05.854Z"
   },
   {
    "duration": -637,
    "start_time": "2021-12-09T11:58:05.856Z"
   },
   {
    "duration": -637,
    "start_time": "2021-12-09T11:58:05.857Z"
   },
   {
    "duration": -638,
    "start_time": "2021-12-09T11:58:05.859Z"
   },
   {
    "duration": -639,
    "start_time": "2021-12-09T11:58:05.861Z"
   },
   {
    "duration": -641,
    "start_time": "2021-12-09T11:58:05.864Z"
   },
   {
    "duration": -641,
    "start_time": "2021-12-09T11:58:05.865Z"
   },
   {
    "duration": -641,
    "start_time": "2021-12-09T11:58:05.867Z"
   },
   {
    "duration": -642,
    "start_time": "2021-12-09T11:58:05.869Z"
   },
   {
    "duration": -643,
    "start_time": "2021-12-09T11:58:05.871Z"
   },
   {
    "duration": 85,
    "start_time": "2021-12-09T12:00:27.852Z"
   },
   {
    "duration": 4,
    "start_time": "2021-12-09T12:00:27.939Z"
   },
   {
    "duration": 34,
    "start_time": "2021-12-09T12:00:27.946Z"
   },
   {
    "duration": 23,
    "start_time": "2021-12-09T12:00:27.983Z"
   },
   {
    "duration": 6,
    "start_time": "2021-12-09T12:00:28.009Z"
   },
   {
    "duration": 6,
    "start_time": "2021-12-09T12:00:28.017Z"
   },
   {
    "duration": 11,
    "start_time": "2021-12-09T12:00:28.024Z"
   },
   {
    "duration": 27,
    "start_time": "2021-12-09T12:00:28.038Z"
   },
   {
    "duration": 14,
    "start_time": "2021-12-09T12:00:28.068Z"
   },
   {
    "duration": 27,
    "start_time": "2021-12-09T12:00:28.083Z"
   },
   {
    "duration": 5,
    "start_time": "2021-12-09T12:00:28.112Z"
   },
   {
    "duration": 13,
    "start_time": "2021-12-09T12:00:28.119Z"
   },
   {
    "duration": 7,
    "start_time": "2021-12-09T12:00:28.133Z"
   },
   {
    "duration": 6,
    "start_time": "2021-12-09T12:00:28.142Z"
   },
   {
    "duration": 59,
    "start_time": "2021-12-09T12:00:28.150Z"
   },
   {
    "duration": 12,
    "start_time": "2021-12-09T12:00:28.211Z"
   },
   {
    "duration": 14,
    "start_time": "2021-12-09T12:00:28.225Z"
   },
   {
    "duration": 22,
    "start_time": "2021-12-09T12:00:28.241Z"
   },
   {
    "duration": 6,
    "start_time": "2021-12-09T12:00:28.265Z"
   },
   {
    "duration": 40,
    "start_time": "2021-12-09T12:00:28.272Z"
   },
   {
    "duration": 17,
    "start_time": "2021-12-09T12:00:28.313Z"
   },
   {
    "duration": 5124,
    "start_time": "2021-12-09T12:00:28.331Z"
   },
   {
    "duration": 7,
    "start_time": "2021-12-09T12:00:33.460Z"
   },
   {
    "duration": 17,
    "start_time": "2021-12-09T12:00:33.469Z"
   },
   {
    "duration": 10,
    "start_time": "2021-12-09T12:00:33.507Z"
   },
   {
    "duration": 9,
    "start_time": "2021-12-09T12:00:33.519Z"
   },
   {
    "duration": 14,
    "start_time": "2021-12-09T12:00:33.530Z"
   },
   {
    "duration": 12,
    "start_time": "2021-12-09T12:00:33.546Z"
   },
   {
    "duration": 13,
    "start_time": "2021-12-09T12:00:33.560Z"
   },
   {
    "duration": 39,
    "start_time": "2021-12-09T12:00:33.575Z"
   },
   {
    "duration": 5,
    "start_time": "2021-12-09T12:00:33.616Z"
   },
   {
    "duration": 16,
    "start_time": "2021-12-09T12:00:33.623Z"
   },
   {
    "duration": 11,
    "start_time": "2021-12-09T12:00:33.641Z"
   },
   {
    "duration": 29,
    "start_time": "2021-12-09T12:00:33.654Z"
   },
   {
    "duration": 32,
    "start_time": "2021-12-09T12:00:33.685Z"
   },
   {
    "duration": 18,
    "start_time": "2021-12-09T12:00:33.718Z"
   },
   {
    "duration": 12,
    "start_time": "2021-12-09T12:00:33.738Z"
   },
   {
    "duration": 22,
    "start_time": "2021-12-09T12:00:33.752Z"
   },
   {
    "duration": 33,
    "start_time": "2021-12-09T12:00:33.776Z"
   },
   {
    "duration": 13,
    "start_time": "2021-12-09T12:00:33.811Z"
   },
   {
    "duration": 13,
    "start_time": "2021-12-09T12:00:33.826Z"
   },
   {
    "duration": 9,
    "start_time": "2021-12-09T12:00:33.841Z"
   },
   {
    "duration": 27,
    "start_time": "2021-12-09T12:00:33.852Z"
   },
   {
    "duration": 15,
    "start_time": "2021-12-09T12:00:33.908Z"
   },
   {
    "duration": 12,
    "start_time": "2021-12-09T12:00:33.925Z"
   },
   {
    "duration": 16,
    "start_time": "2021-12-09T12:00:33.939Z"
   },
   {
    "duration": 9,
    "start_time": "2021-12-09T12:00:33.957Z"
   },
   {
    "duration": 50,
    "start_time": "2021-12-09T12:00:33.968Z"
   },
   {
    "duration": 12,
    "start_time": "2021-12-09T12:00:34.020Z"
   },
   {
    "duration": 14,
    "start_time": "2021-12-09T12:00:34.034Z"
   },
   {
    "duration": 10,
    "start_time": "2021-12-09T12:00:34.050Z"
   },
   {
    "duration": 7,
    "start_time": "2021-12-09T12:09:56.455Z"
   },
   {
    "duration": 8,
    "start_time": "2021-12-09T12:10:53.248Z"
   },
   {
    "duration": 338,
    "start_time": "2021-12-09T12:11:52.904Z"
   },
   {
    "duration": 9,
    "start_time": "2021-12-09T12:12:12.137Z"
   },
   {
    "duration": 410,
    "start_time": "2021-12-09T12:14:01.363Z"
   },
   {
    "duration": 14,
    "start_time": "2021-12-09T12:14:15.276Z"
   },
   {
    "duration": 14,
    "start_time": "2021-12-09T12:18:07.429Z"
   },
   {
    "duration": 10,
    "start_time": "2021-12-09T12:18:33.774Z"
   },
   {
    "duration": 341,
    "start_time": "2021-12-09T13:31:54.531Z"
   },
   {
    "duration": 10,
    "start_time": "2021-12-09T13:32:34.564Z"
   },
   {
    "duration": 7,
    "start_time": "2021-12-09T13:33:27.917Z"
   },
   {
    "duration": 9,
    "start_time": "2021-12-09T13:33:46.869Z"
   },
   {
    "duration": 9,
    "start_time": "2021-12-09T13:34:03.150Z"
   },
   {
    "duration": 8,
    "start_time": "2021-12-09T13:34:19.805Z"
   },
   {
    "duration": 855,
    "start_time": "2021-12-10T12:46:50.201Z"
   },
   {
    "duration": 7,
    "start_time": "2021-12-10T12:46:51.059Z"
   },
   {
    "duration": 27,
    "start_time": "2021-12-10T12:46:51.069Z"
   },
   {
    "duration": 9,
    "start_time": "2021-12-10T12:46:51.117Z"
   },
   {
    "duration": 10,
    "start_time": "2021-12-10T12:46:51.129Z"
   },
   {
    "duration": 8,
    "start_time": "2021-12-10T12:46:51.142Z"
   },
   {
    "duration": 10,
    "start_time": "2021-12-10T12:46:51.153Z"
   },
   {
    "duration": 23,
    "start_time": "2021-12-10T12:46:51.217Z"
   },
   {
    "duration": 20,
    "start_time": "2021-12-10T12:46:51.244Z"
   },
   {
    "duration": 6,
    "start_time": "2021-12-10T12:46:51.268Z"
   },
   {
    "duration": 6,
    "start_time": "2021-12-10T12:46:51.276Z"
   },
   {
    "duration": 17,
    "start_time": "2021-12-10T12:46:51.318Z"
   },
   {
    "duration": 7,
    "start_time": "2021-12-10T12:46:51.337Z"
   },
   {
    "duration": 9,
    "start_time": "2021-12-10T12:46:51.347Z"
   },
   {
    "duration": 18,
    "start_time": "2021-12-10T12:46:51.358Z"
   },
   {
    "duration": 53,
    "start_time": "2021-12-10T12:46:51.378Z"
   },
   {
    "duration": 20,
    "start_time": "2021-12-10T12:46:51.433Z"
   },
   {
    "duration": 63,
    "start_time": "2021-12-10T12:46:51.455Z"
   },
   {
    "duration": 9,
    "start_time": "2021-12-10T12:46:51.521Z"
   },
   {
    "duration": 12,
    "start_time": "2021-12-10T12:46:51.533Z"
   },
   {
    "duration": 23,
    "start_time": "2021-12-10T12:46:51.548Z"
   },
   {
    "duration": 5749,
    "start_time": "2021-12-10T12:46:51.573Z"
   },
   {
    "duration": 10,
    "start_time": "2021-12-10T12:46:57.325Z"
   },
   {
    "duration": 15,
    "start_time": "2021-12-10T12:46:57.338Z"
   },
   {
    "duration": 12,
    "start_time": "2021-12-10T12:46:57.355Z"
   },
   {
    "duration": 51,
    "start_time": "2021-12-10T12:46:57.369Z"
   },
   {
    "duration": 10,
    "start_time": "2021-12-10T12:46:57.425Z"
   },
   {
    "duration": 14,
    "start_time": "2021-12-10T12:46:57.439Z"
   },
   {
    "duration": 10,
    "start_time": "2021-12-10T12:46:57.456Z"
   },
   {
    "duration": 50,
    "start_time": "2021-12-10T12:46:57.469Z"
   },
   {
    "duration": 25,
    "start_time": "2021-12-10T12:46:57.522Z"
   },
   {
    "duration": 11,
    "start_time": "2021-12-10T12:46:57.550Z"
   },
   {
    "duration": 66,
    "start_time": "2021-12-10T12:46:57.563Z"
   },
   {
    "duration": 21,
    "start_time": "2021-12-10T12:46:57.631Z"
   },
   {
    "duration": 14,
    "start_time": "2021-12-10T12:46:57.654Z"
   },
   {
    "duration": 387,
    "start_time": "2021-12-10T12:46:57.671Z"
   },
   {
    "duration": -544,
    "start_time": "2021-12-10T12:46:58.605Z"
   },
   {
    "duration": -546,
    "start_time": "2021-12-10T12:46:58.609Z"
   },
   {
    "duration": -547,
    "start_time": "2021-12-10T12:46:58.611Z"
   },
   {
    "duration": -549,
    "start_time": "2021-12-10T12:46:58.614Z"
   },
   {
    "duration": -549,
    "start_time": "2021-12-10T12:46:58.616Z"
   },
   {
    "duration": -549,
    "start_time": "2021-12-10T12:46:58.618Z"
   },
   {
    "duration": -550,
    "start_time": "2021-12-10T12:46:58.620Z"
   },
   {
    "duration": -550,
    "start_time": "2021-12-10T12:46:58.622Z"
   },
   {
    "duration": -551,
    "start_time": "2021-12-10T12:46:58.624Z"
   },
   {
    "duration": -552,
    "start_time": "2021-12-10T12:46:58.627Z"
   },
   {
    "duration": -553,
    "start_time": "2021-12-10T12:46:58.629Z"
   },
   {
    "duration": -554,
    "start_time": "2021-12-10T12:46:58.631Z"
   },
   {
    "duration": -562,
    "start_time": "2021-12-10T12:46:58.640Z"
   },
   {
    "duration": -562,
    "start_time": "2021-12-10T12:46:58.642Z"
   },
   {
    "duration": -563,
    "start_time": "2021-12-10T12:46:58.644Z"
   },
   {
    "duration": -563,
    "start_time": "2021-12-10T12:46:58.646Z"
   },
   {
    "duration": -563,
    "start_time": "2021-12-10T12:46:58.648Z"
   },
   {
    "duration": -565,
    "start_time": "2021-12-10T12:46:58.651Z"
   },
   {
    "duration": -565,
    "start_time": "2021-12-10T12:46:58.653Z"
   },
   {
    "duration": 11,
    "start_time": "2021-12-10T12:47:12.929Z"
   },
   {
    "duration": 11,
    "start_time": "2021-12-10T12:47:36.056Z"
   },
   {
    "duration": 3,
    "start_time": "2021-12-10T12:49:51.539Z"
   },
   {
    "duration": 347,
    "start_time": "2021-12-10T12:50:14.339Z"
   },
   {
    "duration": 75,
    "start_time": "2021-12-10T12:51:12.869Z"
   },
   {
    "duration": 868,
    "start_time": "2021-12-10T12:51:41.817Z"
   },
   {
    "duration": 10,
    "start_time": "2021-12-10T12:51:45.673Z"
   },
   {
    "duration": 3,
    "start_time": "2021-12-10T12:51:47.769Z"
   },
   {
    "duration": 37,
    "start_time": "2021-12-10T12:51:50.346Z"
   },
   {
    "duration": 9,
    "start_time": "2021-12-10T12:51:54.329Z"
   },
   {
    "duration": 7,
    "start_time": "2021-12-10T12:51:55.114Z"
   },
   {
    "duration": 8,
    "start_time": "2021-12-10T12:51:57.065Z"
   },
   {
    "duration": 8,
    "start_time": "2021-12-10T12:51:58.482Z"
   },
   {
    "duration": 25,
    "start_time": "2021-12-10T12:52:00.530Z"
   },
   {
    "duration": 22,
    "start_time": "2021-12-10T12:52:05.914Z"
   },
   {
    "duration": 6,
    "start_time": "2021-12-10T12:52:08.002Z"
   },
   {
    "duration": 6,
    "start_time": "2021-12-10T12:52:08.610Z"
   },
   {
    "duration": 17,
    "start_time": "2021-12-10T12:52:11.625Z"
   },
   {
    "duration": 7,
    "start_time": "2021-12-10T12:52:13.874Z"
   },
   {
    "duration": 11,
    "start_time": "2021-12-10T12:52:14.866Z"
   },
   {
    "duration": 16,
    "start_time": "2021-12-10T12:52:16.778Z"
   },
   {
    "duration": 17,
    "start_time": "2021-12-10T12:52:20.114Z"
   },
   {
    "duration": 28,
    "start_time": "2021-12-10T12:52:24.090Z"
   },
   {
    "duration": 33,
    "start_time": "2021-12-10T12:52:25.379Z"
   },
   {
    "duration": 9,
    "start_time": "2021-12-10T12:52:27.258Z"
   },
   {
    "duration": 9,
    "start_time": "2021-12-10T12:52:28.810Z"
   },
   {
    "duration": 39,
    "start_time": "2021-12-10T12:52:30.387Z"
   },
   {
    "duration": 500,
    "start_time": "2021-12-10T12:52:34.834Z"
   },
   {
    "duration": 319,
    "start_time": "2021-12-10T12:53:04.626Z"
   },
   {
    "duration": 308,
    "start_time": "2021-12-10T12:54:08.580Z"
   },
   {
    "duration": 323,
    "start_time": "2021-12-10T12:55:34.661Z"
   },
   {
    "duration": 988,
    "start_time": "2021-12-10T13:03:23.892Z"
   },
   {
    "duration": 578,
    "start_time": "2021-12-10T13:07:24.622Z"
   },
   {
    "duration": 378,
    "start_time": "2021-12-10T13:07:56.000Z"
   },
   {
    "duration": 16,
    "start_time": "2021-12-10T13:08:02.423Z"
   },
   {
    "duration": 5671,
    "start_time": "2021-12-10T13:09:25.529Z"
   },
   {
    "duration": 5,
    "start_time": "2021-12-10T13:10:05.161Z"
   },
   {
    "duration": 682,
    "start_time": "2021-12-10T13:10:18.641Z"
   },
   {
    "duration": 298,
    "start_time": "2021-12-10T13:10:48.210Z"
   },
   {
    "duration": 4848,
    "start_time": "2021-12-10T13:11:37.891Z"
   },
   {
    "duration": 308,
    "start_time": "2021-12-10T13:12:20.235Z"
   },
   {
    "duration": 205,
    "start_time": "2021-12-10T13:17:43.992Z"
   },
   {
    "duration": 100,
    "start_time": "2021-12-10T13:17:51.888Z"
   },
   {
    "duration": 130,
    "start_time": "2021-12-10T13:18:27.921Z"
   },
   {
    "duration": 115,
    "start_time": "2021-12-10T13:18:41.096Z"
   },
   {
    "duration": 167,
    "start_time": "2021-12-10T13:18:54.216Z"
   },
   {
    "duration": 389,
    "start_time": "2021-12-10T13:20:26.498Z"
   },
   {
    "duration": 3600,
    "start_time": "2021-12-10T13:20:58.892Z"
   },
   {
    "duration": 4,
    "start_time": "2021-12-10T13:21:43.188Z"
   },
   {
    "duration": 2281,
    "start_time": "2021-12-10T13:25:25.279Z"
   },
   {
    "duration": 2144,
    "start_time": "2021-12-10T13:25:56.007Z"
   },
   {
    "duration": 2073,
    "start_time": "2021-12-10T13:26:04.814Z"
   },
   {
    "duration": 4,
    "start_time": "2021-12-10T13:26:17.112Z"
   },
   {
    "duration": 4756,
    "start_time": "2021-12-10T13:35:57.743Z"
   },
   {
    "duration": 4585,
    "start_time": "2021-12-10T13:36:13.593Z"
   },
   {
    "duration": 325,
    "start_time": "2021-12-10T13:37:03.272Z"
   },
   {
    "duration": 18,
    "start_time": "2021-12-10T13:37:12.505Z"
   },
   {
    "duration": 312,
    "start_time": "2021-12-10T13:38:10.050Z"
   },
   {
    "duration": 599,
    "start_time": "2021-12-10T13:44:13.105Z"
   },
   {
    "duration": 302,
    "start_time": "2021-12-10T13:51:28.995Z"
   },
   {
    "duration": 2044,
    "start_time": "2021-12-10T13:51:41.444Z"
   },
   {
    "duration": 342,
    "start_time": "2021-12-10T13:51:55.341Z"
   },
   {
    "duration": 4080,
    "start_time": "2021-12-10T13:54:36.479Z"
   },
   {
    "duration": 3563,
    "start_time": "2021-12-10T13:55:44.183Z"
   },
   {
    "duration": 336,
    "start_time": "2021-12-10T13:56:41.528Z"
   },
   {
    "duration": 75,
    "start_time": "2021-12-10T13:57:08.824Z"
   },
   {
    "duration": 74,
    "start_time": "2021-12-10T13:57:24.120Z"
   },
   {
    "duration": 662,
    "start_time": "2021-12-10T16:24:52.518Z"
   },
   {
    "duration": 7,
    "start_time": "2021-12-10T16:24:55.895Z"
   },
   {
    "duration": 3,
    "start_time": "2021-12-10T16:24:58.985Z"
   },
   {
    "duration": 20,
    "start_time": "2021-12-10T16:25:00.787Z"
   },
   {
    "duration": 6,
    "start_time": "2021-12-10T16:25:02.962Z"
   },
   {
    "duration": 5,
    "start_time": "2021-12-10T16:25:03.928Z"
   },
   {
    "duration": 5,
    "start_time": "2021-12-10T16:25:04.561Z"
   },
   {
    "duration": 7,
    "start_time": "2021-12-10T16:25:06.434Z"
   },
   {
    "duration": 17,
    "start_time": "2021-12-10T16:25:10.204Z"
   },
   {
    "duration": 15,
    "start_time": "2021-12-10T16:25:15.531Z"
   },
   {
    "duration": 4,
    "start_time": "2021-12-10T16:25:17.344Z"
   },
   {
    "duration": 4,
    "start_time": "2021-12-10T16:25:17.965Z"
   },
   {
    "duration": 12,
    "start_time": "2021-12-10T16:25:18.499Z"
   },
   {
    "duration": 7,
    "start_time": "2021-12-10T16:25:19.976Z"
   },
   {
    "duration": 7,
    "start_time": "2021-12-10T16:25:20.518Z"
   },
   {
    "duration": 12,
    "start_time": "2021-12-10T16:25:21.038Z"
   },
   {
    "duration": 14,
    "start_time": "2021-12-10T16:25:26.983Z"
   },
   {
    "duration": 14,
    "start_time": "2021-12-10T16:25:34.240Z"
   },
   {
    "duration": 22,
    "start_time": "2021-12-10T16:25:34.848Z"
   },
   {
    "duration": 7,
    "start_time": "2021-12-10T16:25:36.568Z"
   },
   {
    "duration": 6,
    "start_time": "2021-12-10T16:25:37.119Z"
   },
   {
    "duration": 17,
    "start_time": "2021-12-10T16:25:38.880Z"
   },
   {
    "duration": 3648,
    "start_time": "2021-12-10T16:26:32.418Z"
   },
   {
    "duration": 7,
    "start_time": "2021-12-10T16:29:43.459Z"
   },
   {
    "duration": 4,
    "start_time": "2021-12-10T16:30:20.463Z"
   },
   {
    "duration": 3563,
    "start_time": "2021-12-10T16:34:48.286Z"
   },
   {
    "duration": 13,
    "start_time": "2021-12-10T16:35:14.260Z"
   },
   {
    "duration": 162,
    "start_time": "2021-12-10T16:37:15.867Z"
   },
   {
    "duration": 18,
    "start_time": "2021-12-10T16:44:22.075Z"
   },
   {
    "duration": 26,
    "start_time": "2021-12-10T16:44:44.485Z"
   },
   {
    "duration": 22,
    "start_time": "2021-12-10T16:47:13.080Z"
   },
   {
    "duration": 32,
    "start_time": "2021-12-10T16:47:23.672Z"
   },
   {
    "duration": 517,
    "start_time": "2021-12-10T16:54:12.644Z"
   },
   {
    "duration": 57,
    "start_time": "2021-12-10T17:05:35.848Z"
   },
   {
    "duration": 21,
    "start_time": "2021-12-10T17:05:35.907Z"
   },
   {
    "duration": 4,
    "start_time": "2021-12-10T17:05:35.930Z"
   },
   {
    "duration": 15,
    "start_time": "2021-12-10T17:05:35.936Z"
   },
   {
    "duration": 5,
    "start_time": "2021-12-10T17:05:35.953Z"
   },
   {
    "duration": 5,
    "start_time": "2021-12-10T17:05:35.960Z"
   },
   {
    "duration": 41,
    "start_time": "2021-12-10T17:05:35.967Z"
   },
   {
    "duration": 6,
    "start_time": "2021-12-10T17:05:36.011Z"
   },
   {
    "duration": 19,
    "start_time": "2021-12-10T17:05:36.019Z"
   },
   {
    "duration": 19,
    "start_time": "2021-12-10T17:05:36.040Z"
   },
   {
    "duration": 5,
    "start_time": "2021-12-10T17:05:36.061Z"
   },
   {
    "duration": 4,
    "start_time": "2021-12-10T17:05:36.107Z"
   },
   {
    "duration": 16,
    "start_time": "2021-12-10T17:05:36.113Z"
   },
   {
    "duration": 5,
    "start_time": "2021-12-10T17:05:36.131Z"
   },
   {
    "duration": 8,
    "start_time": "2021-12-10T17:05:36.138Z"
   },
   {
    "duration": 16,
    "start_time": "2021-12-10T17:05:36.148Z"
   },
   {
    "duration": 54,
    "start_time": "2021-12-10T17:05:36.165Z"
   },
   {
    "duration": 19,
    "start_time": "2021-12-10T17:05:36.221Z"
   },
   {
    "duration": 31,
    "start_time": "2021-12-10T17:05:36.242Z"
   },
   {
    "duration": 30,
    "start_time": "2021-12-10T17:05:36.276Z"
   },
   {
    "duration": 6,
    "start_time": "2021-12-10T17:05:36.308Z"
   },
   {
    "duration": 17,
    "start_time": "2021-12-10T17:05:36.316Z"
   },
   {
    "duration": 3756,
    "start_time": "2021-12-10T17:05:36.337Z"
   },
   {
    "duration": 15,
    "start_time": "2021-12-10T17:05:40.096Z"
   },
   {
    "duration": 4173,
    "start_time": "2021-12-10T17:05:40.113Z"
   },
   {
    "duration": 21,
    "start_time": "2021-12-10T17:05:44.287Z"
   },
   {
    "duration": 18,
    "start_time": "2021-12-10T17:05:44.310Z"
   },
   {
    "duration": 33,
    "start_time": "2021-12-10T17:05:44.330Z"
   },
   {
    "duration": 7,
    "start_time": "2021-12-10T17:05:44.365Z"
   },
   {
    "duration": 37,
    "start_time": "2021-12-10T17:05:44.374Z"
   },
   {
    "duration": 7,
    "start_time": "2021-12-10T17:05:44.413Z"
   },
   {
    "duration": 7,
    "start_time": "2021-12-10T17:05:44.422Z"
   },
   {
    "duration": 9,
    "start_time": "2021-12-10T17:05:44.431Z"
   },
   {
    "duration": 7,
    "start_time": "2021-12-10T17:05:44.442Z"
   },
   {
    "duration": 5,
    "start_time": "2021-12-10T17:05:44.450Z"
   },
   {
    "duration": 52,
    "start_time": "2021-12-10T17:05:44.457Z"
   },
   {
    "duration": 7,
    "start_time": "2021-12-10T17:05:44.510Z"
   },
   {
    "duration": 21,
    "start_time": "2021-12-10T17:05:44.518Z"
   },
   {
    "duration": 132,
    "start_time": "2021-12-10T17:05:44.540Z"
   },
   {
    "duration": -234,
    "start_time": "2021-12-10T17:05:44.907Z"
   },
   {
    "duration": -237,
    "start_time": "2021-12-10T17:05:44.912Z"
   },
   {
    "duration": -243,
    "start_time": "2021-12-10T17:05:44.919Z"
   },
   {
    "duration": -247,
    "start_time": "2021-12-10T17:05:44.923Z"
   },
   {
    "duration": -251,
    "start_time": "2021-12-10T17:05:44.929Z"
   },
   {
    "duration": -254,
    "start_time": "2021-12-10T17:05:44.933Z"
   },
   {
    "duration": -259,
    "start_time": "2021-12-10T17:05:44.939Z"
   },
   {
    "duration": -263,
    "start_time": "2021-12-10T17:05:44.943Z"
   },
   {
    "duration": -268,
    "start_time": "2021-12-10T17:05:44.949Z"
   },
   {
    "duration": -272,
    "start_time": "2021-12-10T17:05:44.954Z"
   },
   {
    "duration": -285,
    "start_time": "2021-12-10T17:05:44.968Z"
   },
   {
    "duration": -288,
    "start_time": "2021-12-10T17:05:44.972Z"
   },
   {
    "duration": -294,
    "start_time": "2021-12-10T17:05:44.979Z"
   },
   {
    "duration": -297,
    "start_time": "2021-12-10T17:05:44.984Z"
   },
   {
    "duration": -304,
    "start_time": "2021-12-10T17:05:44.992Z"
   },
   {
    "duration": -309,
    "start_time": "2021-12-10T17:05:44.997Z"
   },
   {
    "duration": -314,
    "start_time": "2021-12-10T17:05:45.003Z"
   },
   {
    "duration": -318,
    "start_time": "2021-12-10T17:05:45.008Z"
   },
   {
    "duration": -322,
    "start_time": "2021-12-10T17:05:45.013Z"
   },
   {
    "duration": 16,
    "start_time": "2021-12-10T17:06:01.297Z"
   },
   {
    "duration": 10,
    "start_time": "2021-12-10T17:06:17.042Z"
   },
   {
    "duration": 122,
    "start_time": "2021-12-10T17:06:27.603Z"
   },
   {
    "duration": 9,
    "start_time": "2021-12-10T17:06:43.770Z"
   },
   {
    "duration": 19,
    "start_time": "2021-12-10T17:07:10.204Z"
   },
   {
    "duration": 109,
    "start_time": "2021-12-10T17:07:14.513Z"
   },
   {
    "duration": 9,
    "start_time": "2021-12-10T17:07:21.038Z"
   },
   {
    "duration": 8,
    "start_time": "2021-12-10T17:07:25.481Z"
   },
   {
    "duration": 7,
    "start_time": "2021-12-10T17:07:27.705Z"
   },
   {
    "duration": 7,
    "start_time": "2021-12-10T17:07:40.252Z"
   },
   {
    "duration": 17,
    "start_time": "2021-12-10T17:07:40.993Z"
   },
   {
    "duration": 9,
    "start_time": "2021-12-10T17:07:43.072Z"
   },
   {
    "duration": 9,
    "start_time": "2021-12-10T17:07:46.403Z"
   },
   {
    "duration": 8,
    "start_time": "2021-12-10T17:07:47.090Z"
   },
   {
    "duration": 7,
    "start_time": "2021-12-10T17:07:58.072Z"
   },
   {
    "duration": 18,
    "start_time": "2021-12-10T17:07:58.595Z"
   },
   {
    "duration": 9,
    "start_time": "2021-12-10T17:08:00.662Z"
   },
   {
    "duration": 8,
    "start_time": "2021-12-10T17:08:02.311Z"
   },
   {
    "duration": 8,
    "start_time": "2021-12-10T17:08:02.742Z"
   },
   {
    "duration": 7,
    "start_time": "2021-12-10T17:08:12.267Z"
   },
   {
    "duration": 7,
    "start_time": "2021-12-10T17:08:12.888Z"
   },
   {
    "duration": 7,
    "start_time": "2021-12-10T17:08:13.412Z"
   },
   {
    "duration": 7,
    "start_time": "2021-12-10T17:08:13.904Z"
   },
   {
    "duration": 9,
    "start_time": "2021-12-10T17:24:59.032Z"
   },
   {
    "duration": 732,
    "start_time": "2021-12-10T17:26:41.851Z"
   },
   {
    "duration": 5,
    "start_time": "2021-12-10T17:26:42.584Z"
   },
   {
    "duration": 4,
    "start_time": "2021-12-10T17:26:42.591Z"
   },
   {
    "duration": 21,
    "start_time": "2021-12-10T17:26:42.597Z"
   },
   {
    "duration": 6,
    "start_time": "2021-12-10T17:26:42.620Z"
   },
   {
    "duration": 6,
    "start_time": "2021-12-10T17:26:42.628Z"
   },
   {
    "duration": 8,
    "start_time": "2021-12-10T17:26:42.635Z"
   },
   {
    "duration": 6,
    "start_time": "2021-12-10T17:26:42.645Z"
   },
   {
    "duration": 16,
    "start_time": "2021-12-10T17:26:42.653Z"
   },
   {
    "duration": 45,
    "start_time": "2021-12-10T17:26:42.671Z"
   },
   {
    "duration": 4,
    "start_time": "2021-12-10T17:26:42.718Z"
   },
   {
    "duration": 5,
    "start_time": "2021-12-10T17:26:42.723Z"
   },
   {
    "duration": 11,
    "start_time": "2021-12-10T17:26:42.730Z"
   },
   {
    "duration": 5,
    "start_time": "2021-12-10T17:26:42.743Z"
   },
   {
    "duration": 7,
    "start_time": "2021-12-10T17:26:42.750Z"
   },
   {
    "duration": 13,
    "start_time": "2021-12-10T17:26:42.759Z"
   },
   {
    "duration": 44,
    "start_time": "2021-12-10T17:26:42.773Z"
   },
   {
    "duration": 14,
    "start_time": "2021-12-10T17:26:42.819Z"
   },
   {
    "duration": 21,
    "start_time": "2021-12-10T17:26:42.835Z"
   },
   {
    "duration": 6,
    "start_time": "2021-12-10T17:26:42.858Z"
   },
   {
    "duration": 7,
    "start_time": "2021-12-10T17:26:42.866Z"
   },
   {
    "duration": 17,
    "start_time": "2021-12-10T17:26:42.907Z"
   },
   {
    "duration": 3593,
    "start_time": "2021-12-10T17:26:42.925Z"
   },
   {
    "duration": 7,
    "start_time": "2021-12-10T17:26:46.520Z"
   },
   {
    "duration": 3737,
    "start_time": "2021-12-10T17:26:46.530Z"
   },
   {
    "duration": 11,
    "start_time": "2021-12-10T17:26:50.269Z"
   },
   {
    "duration": 34,
    "start_time": "2021-12-10T17:26:50.284Z"
   },
   {
    "duration": 33,
    "start_time": "2021-12-10T17:26:50.320Z"
   },
   {
    "duration": 5,
    "start_time": "2021-12-10T17:26:50.355Z"
   },
   {
    "duration": 11,
    "start_time": "2021-12-10T17:26:50.362Z"
   },
   {
    "duration": 33,
    "start_time": "2021-12-10T17:26:50.375Z"
   },
   {
    "duration": 10,
    "start_time": "2021-12-10T17:26:50.410Z"
   },
   {
    "duration": 26,
    "start_time": "2021-12-10T17:26:50.421Z"
   },
   {
    "duration": 7,
    "start_time": "2021-12-10T17:26:50.449Z"
   },
   {
    "duration": 9,
    "start_time": "2021-12-10T17:26:50.457Z"
   },
   {
    "duration": 14,
    "start_time": "2021-12-10T17:26:50.468Z"
   },
   {
    "duration": 24,
    "start_time": "2021-12-10T17:26:50.484Z"
   },
   {
    "duration": 22,
    "start_time": "2021-12-10T17:26:50.509Z"
   },
   {
    "duration": 14,
    "start_time": "2021-12-10T17:26:50.533Z"
   },
   {
    "duration": 15,
    "start_time": "2021-12-10T17:26:50.549Z"
   },
   {
    "duration": 21,
    "start_time": "2021-12-10T17:26:50.566Z"
   },
   {
    "duration": 26,
    "start_time": "2021-12-10T17:26:50.588Z"
   },
   {
    "duration": 12,
    "start_time": "2021-12-10T17:26:50.616Z"
   },
   {
    "duration": 9,
    "start_time": "2021-12-10T17:26:50.629Z"
   },
   {
    "duration": 8,
    "start_time": "2021-12-10T17:26:50.639Z"
   },
   {
    "duration": 19,
    "start_time": "2021-12-10T17:26:50.648Z"
   },
   {
    "duration": 40,
    "start_time": "2021-12-10T17:26:50.668Z"
   },
   {
    "duration": 8,
    "start_time": "2021-12-10T17:26:50.709Z"
   },
   {
    "duration": 8,
    "start_time": "2021-12-10T17:26:50.718Z"
   },
   {
    "duration": 8,
    "start_time": "2021-12-10T17:26:50.728Z"
   },
   {
    "duration": 19,
    "start_time": "2021-12-10T17:26:50.737Z"
   },
   {
    "duration": 9,
    "start_time": "2021-12-10T17:26:50.758Z"
   },
   {
    "duration": 43,
    "start_time": "2021-12-10T17:26:50.768Z"
   },
   {
    "duration": 13,
    "start_time": "2021-12-10T17:26:50.813Z"
   },
   {
    "duration": 7,
    "start_time": "2021-12-10T17:26:50.828Z"
   },
   {
    "duration": 7,
    "start_time": "2021-12-10T17:26:50.837Z"
   },
   {
    "duration": 7,
    "start_time": "2021-12-10T17:26:50.846Z"
   },
   {
    "duration": 8,
    "start_time": "2021-12-10T17:26:50.854Z"
   },
   {
    "duration": 13,
    "start_time": "2021-12-10T17:29:49.763Z"
   },
   {
    "duration": 7,
    "start_time": "2021-12-10T17:30:02.122Z"
   },
   {
    "duration": 18,
    "start_time": "2021-12-10T17:30:08.121Z"
   },
   {
    "duration": 9,
    "start_time": "2021-12-10T17:30:10.123Z"
   },
   {
    "duration": 9,
    "start_time": "2021-12-10T17:30:11.913Z"
   },
   {
    "duration": 8,
    "start_time": "2021-12-10T17:30:13.703Z"
   },
   {
    "duration": 59,
    "start_time": "2021-12-10T18:02:53.552Z"
   },
   {
    "duration": 24,
    "start_time": "2021-12-10T18:02:53.613Z"
   },
   {
    "duration": 3,
    "start_time": "2021-12-10T18:02:53.639Z"
   },
   {
    "duration": 17,
    "start_time": "2021-12-10T18:02:53.643Z"
   },
   {
    "duration": 9,
    "start_time": "2021-12-10T18:02:53.661Z"
   },
   {
    "duration": 8,
    "start_time": "2021-12-10T18:02:53.672Z"
   },
   {
    "duration": 5,
    "start_time": "2021-12-10T18:02:53.706Z"
   },
   {
    "duration": 15,
    "start_time": "2021-12-10T18:02:53.714Z"
   },
   {
    "duration": 16,
    "start_time": "2021-12-10T18:02:53.732Z"
   },
   {
    "duration": 15,
    "start_time": "2021-12-10T18:02:53.750Z"
   },
   {
    "duration": 42,
    "start_time": "2021-12-10T18:02:53.767Z"
   },
   {
    "duration": 5,
    "start_time": "2021-12-10T18:02:53.811Z"
   },
   {
    "duration": 13,
    "start_time": "2021-12-10T18:02:53.818Z"
   },
   {
    "duration": 6,
    "start_time": "2021-12-10T18:02:53.832Z"
   },
   {
    "duration": 7,
    "start_time": "2021-12-10T18:02:53.840Z"
   },
   {
    "duration": 14,
    "start_time": "2021-12-10T18:02:53.848Z"
   },
   {
    "duration": 53,
    "start_time": "2021-12-10T18:02:53.864Z"
   },
   {
    "duration": 14,
    "start_time": "2021-12-10T18:02:53.918Z"
   },
   {
    "duration": 22,
    "start_time": "2021-12-10T18:02:53.934Z"
   },
   {
    "duration": 7,
    "start_time": "2021-12-10T18:02:53.957Z"
   },
   {
    "duration": 6,
    "start_time": "2021-12-10T18:02:53.965Z"
   },
   {
    "duration": 50,
    "start_time": "2021-12-10T18:02:53.973Z"
   },
   {
    "duration": 3952,
    "start_time": "2021-12-10T18:02:54.027Z"
   },
   {
    "duration": 8,
    "start_time": "2021-12-10T18:02:57.983Z"
   },
   {
    "duration": 4827,
    "start_time": "2021-12-10T18:02:57.993Z"
   },
   {
    "duration": 20,
    "start_time": "2021-12-10T18:03:02.822Z"
   },
   {
    "duration": 30,
    "start_time": "2021-12-10T18:03:02.844Z"
   },
   {
    "duration": 70,
    "start_time": "2021-12-10T18:03:02.876Z"
   },
   {
    "duration": 8,
    "start_time": "2021-12-10T18:03:02.949Z"
   },
   {
    "duration": 14,
    "start_time": "2021-12-10T18:03:02.959Z"
   },
   {
    "duration": 10,
    "start_time": "2021-12-10T18:03:02.975Z"
   },
   {
    "duration": 12,
    "start_time": "2021-12-10T18:03:03.007Z"
   },
   {
    "duration": 11,
    "start_time": "2021-12-10T18:03:03.021Z"
   },
   {
    "duration": 8,
    "start_time": "2021-12-10T18:03:03.034Z"
   },
   {
    "duration": 7,
    "start_time": "2021-12-10T18:03:03.044Z"
   },
   {
    "duration": 17,
    "start_time": "2021-12-10T18:03:03.052Z"
   },
   {
    "duration": 41,
    "start_time": "2021-12-10T18:03:03.071Z"
   },
   {
    "duration": 22,
    "start_time": "2021-12-10T18:03:03.114Z"
   },
   {
    "duration": 11,
    "start_time": "2021-12-10T18:03:03.138Z"
   },
   {
    "duration": 12,
    "start_time": "2021-12-10T18:03:03.151Z"
   },
   {
    "duration": 52,
    "start_time": "2021-12-10T18:03:03.165Z"
   },
   {
    "duration": 10,
    "start_time": "2021-12-10T18:03:03.220Z"
   },
   {
    "duration": 12,
    "start_time": "2021-12-10T18:03:03.232Z"
   },
   {
    "duration": 10,
    "start_time": "2021-12-10T18:03:03.246Z"
   },
   {
    "duration": 8,
    "start_time": "2021-12-10T18:03:03.259Z"
   },
   {
    "duration": 49,
    "start_time": "2021-12-10T18:03:03.269Z"
   },
   {
    "duration": 9,
    "start_time": "2021-12-10T18:03:03.320Z"
   },
   {
    "duration": 11,
    "start_time": "2021-12-10T18:03:03.331Z"
   },
   {
    "duration": 9,
    "start_time": "2021-12-10T18:03:03.343Z"
   },
   {
    "duration": 9,
    "start_time": "2021-12-10T18:03:03.354Z"
   },
   {
    "duration": 57,
    "start_time": "2021-12-10T18:03:03.365Z"
   },
   {
    "duration": 10,
    "start_time": "2021-12-10T18:03:03.424Z"
   },
   {
    "duration": 11,
    "start_time": "2021-12-10T18:03:03.436Z"
   },
   {
    "duration": 13,
    "start_time": "2021-12-10T18:03:03.450Z"
   },
   {
    "duration": 150,
    "start_time": "2021-12-10T18:03:03.465Z"
   },
   {
    "duration": -36,
    "start_time": "2021-12-10T18:03:03.654Z"
   },
   {
    "duration": -40,
    "start_time": "2021-12-10T18:03:03.659Z"
   },
   {
    "duration": -42,
    "start_time": "2021-12-10T18:03:03.663Z"
   },
   {
    "duration": -44,
    "start_time": "2021-12-10T18:03:03.666Z"
   },
   {
    "duration": 9,
    "start_time": "2021-12-10T18:04:01.471Z"
   },
   {
    "duration": 9,
    "start_time": "2021-12-10T18:04:01.925Z"
   },
   {
    "duration": 8,
    "start_time": "2021-12-10T18:04:02.359Z"
   },
   {
    "duration": 8,
    "start_time": "2021-12-10T18:04:03.982Z"
   }
  ],
  "kernelspec": {
   "display_name": "Python 3 (ipykernel)",
   "language": "python",
   "name": "python3"
  },
  "language_info": {
   "codemirror_mode": {
    "name": "ipython",
    "version": 3
   },
   "file_extension": ".py",
   "mimetype": "text/x-python",
   "name": "python",
   "nbconvert_exporter": "python",
   "pygments_lexer": "ipython3",
   "version": "3.9.7"
  },
  "toc": {
   "base_numbering": 1,
   "nav_menu": {},
   "number_sections": true,
   "sideBar": true,
   "skip_h1_title": true,
   "title_cell": "Table of Contents",
   "title_sidebar": "Contents",
   "toc_cell": false,
   "toc_position": {
    "height": "749px",
    "left": "41px",
    "top": "191px",
    "width": "433.797px"
   },
   "toc_section_display": true,
   "toc_window_display": true
  }
 },
 "nbformat": 4,
 "nbformat_minor": 2
}
