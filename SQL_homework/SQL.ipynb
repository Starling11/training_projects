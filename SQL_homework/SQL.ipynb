{
 "cells": [
  {
   "cell_type": "markdown",
   "id": "ee46d9b1",
   "metadata": {},
   "source": [
    "Импорт библиотек"
   ]
  },
  {
   "cell_type": "code",
   "execution_count": 1,
   "id": "b42d903c",
   "metadata": {},
   "outputs": [],
   "source": [
    "import pandas as pd\n",
    "from sqlalchemy import create_engine"
   ]
  },
  {
   "cell_type": "markdown",
   "id": "7c0be8b8",
   "metadata": {},
   "source": [
    "Подключение к базе данных"
   ]
  },
  {
   "cell_type": "code",
   "execution_count": 2,
   "id": "e55ac164",
   "metadata": {},
   "outputs": [],
   "source": [
    "# устанавливаем параметры\n",
    "db_config = {'user': 'praktikum_student', # имя пользователя\n",
    "'pwd': 'Sdf4$2;d-d30pp', # пароль\n",
    "'host': 'rc1b-wcoijxj3yxfsf3fs.mdb.yandexcloud.net',\n",
    "'port': 6432, # порт подключения\n",
    "'db': 'data-analyst-final-project-db'} # название базы данных\n",
    "connection_string = 'postgresql://{}:{}@{}:{}/{}'.format(db_config['user'],\n",
    " db_config['pwd'],\n",
    " db_config['host'],\n",
    " db_config['port'],\n",
    " db_config['db'])\n",
    "# сохраняем коннектор\n",
    "engine = create_engine(connection_string, connect_args={'sslmode':'require'})"
   ]
  },
  {
   "cell_type": "markdown",
   "id": "4381872c",
   "metadata": {},
   "source": [
    "## Обзор таблиц"
   ]
  },
  {
   "cell_type": "markdown",
   "id": "a731f20d",
   "metadata": {},
   "source": [
    "Таблица `books`"
   ]
  },
  {
   "cell_type": "code",
   "execution_count": 3,
   "id": "de6e33e1",
   "metadata": {},
   "outputs": [],
   "source": [
    "query = \"\"\" \n",
    "SELECT *\n",
    "FROM books\n",
    "LIMIT 5;\n",
    "\"\"\"\n",
    "books = pd.io.sql.read_sql(query, con = engine)"
   ]
  },
  {
   "cell_type": "code",
   "execution_count": 4,
   "id": "8a996a46",
   "metadata": {},
   "outputs": [
    {
     "data": {
      "text/html": [
       "<div>\n",
       "<style scoped>\n",
       "    .dataframe tbody tr th:only-of-type {\n",
       "        vertical-align: middle;\n",
       "    }\n",
       "\n",
       "    .dataframe tbody tr th {\n",
       "        vertical-align: top;\n",
       "    }\n",
       "\n",
       "    .dataframe thead th {\n",
       "        text-align: right;\n",
       "    }\n",
       "</style>\n",
       "<table border=\"1\" class=\"dataframe\">\n",
       "  <thead>\n",
       "    <tr style=\"text-align: right;\">\n",
       "      <th></th>\n",
       "      <th>book_id</th>\n",
       "      <th>author_id</th>\n",
       "      <th>title</th>\n",
       "      <th>num_pages</th>\n",
       "      <th>publication_date</th>\n",
       "      <th>publisher_id</th>\n",
       "    </tr>\n",
       "  </thead>\n",
       "  <tbody>\n",
       "    <tr>\n",
       "      <th>0</th>\n",
       "      <td>1</td>\n",
       "      <td>546</td>\n",
       "      <td>'Salem's Lot</td>\n",
       "      <td>594</td>\n",
       "      <td>2005-11-01</td>\n",
       "      <td>93</td>\n",
       "    </tr>\n",
       "    <tr>\n",
       "      <th>1</th>\n",
       "      <td>2</td>\n",
       "      <td>465</td>\n",
       "      <td>1 000 Places to See Before You Die</td>\n",
       "      <td>992</td>\n",
       "      <td>2003-05-22</td>\n",
       "      <td>336</td>\n",
       "    </tr>\n",
       "    <tr>\n",
       "      <th>2</th>\n",
       "      <td>3</td>\n",
       "      <td>407</td>\n",
       "      <td>13 Little Blue Envelopes (Little Blue Envelope...</td>\n",
       "      <td>322</td>\n",
       "      <td>2010-12-21</td>\n",
       "      <td>135</td>\n",
       "    </tr>\n",
       "    <tr>\n",
       "      <th>3</th>\n",
       "      <td>4</td>\n",
       "      <td>82</td>\n",
       "      <td>1491: New Revelations of the Americas Before C...</td>\n",
       "      <td>541</td>\n",
       "      <td>2006-10-10</td>\n",
       "      <td>309</td>\n",
       "    </tr>\n",
       "    <tr>\n",
       "      <th>4</th>\n",
       "      <td>5</td>\n",
       "      <td>125</td>\n",
       "      <td>1776</td>\n",
       "      <td>386</td>\n",
       "      <td>2006-07-04</td>\n",
       "      <td>268</td>\n",
       "    </tr>\n",
       "  </tbody>\n",
       "</table>\n",
       "</div>"
      ],
      "text/plain": [
       "   book_id  author_id                                              title  \\\n",
       "0        1        546                                       'Salem's Lot   \n",
       "1        2        465                 1 000 Places to See Before You Die   \n",
       "2        3        407  13 Little Blue Envelopes (Little Blue Envelope...   \n",
       "3        4         82  1491: New Revelations of the Americas Before C...   \n",
       "4        5        125                                               1776   \n",
       "\n",
       "   num_pages publication_date  publisher_id  \n",
       "0        594       2005-11-01            93  \n",
       "1        992       2003-05-22           336  \n",
       "2        322       2010-12-21           135  \n",
       "3        541       2006-10-10           309  \n",
       "4        386       2006-07-04           268  "
      ]
     },
     "metadata": {},
     "output_type": "display_data"
    }
   ],
   "source": [
    "display(books)"
   ]
  },
  {
   "cell_type": "markdown",
   "id": "16140974",
   "metadata": {},
   "source": [
    "Таблица `authors`"
   ]
  },
  {
   "cell_type": "code",
   "execution_count": 5,
   "id": "f3635226",
   "metadata": {},
   "outputs": [],
   "source": [
    "query = \"\"\" \n",
    "SELECT *\n",
    "FROM authors\n",
    "LIMIT 5;\n",
    "\"\"\"\n",
    "books = pd.io.sql.read_sql(query, con = engine)"
   ]
  },
  {
   "cell_type": "code",
   "execution_count": 6,
   "id": "bfb65a60",
   "metadata": {
    "scrolled": true
   },
   "outputs": [
    {
     "data": {
      "text/html": [
       "<div>\n",
       "<style scoped>\n",
       "    .dataframe tbody tr th:only-of-type {\n",
       "        vertical-align: middle;\n",
       "    }\n",
       "\n",
       "    .dataframe tbody tr th {\n",
       "        vertical-align: top;\n",
       "    }\n",
       "\n",
       "    .dataframe thead th {\n",
       "        text-align: right;\n",
       "    }\n",
       "</style>\n",
       "<table border=\"1\" class=\"dataframe\">\n",
       "  <thead>\n",
       "    <tr style=\"text-align: right;\">\n",
       "      <th></th>\n",
       "      <th>author_id</th>\n",
       "      <th>author</th>\n",
       "    </tr>\n",
       "  </thead>\n",
       "  <tbody>\n",
       "    <tr>\n",
       "      <th>0</th>\n",
       "      <td>1</td>\n",
       "      <td>A.S. Byatt</td>\n",
       "    </tr>\n",
       "    <tr>\n",
       "      <th>1</th>\n",
       "      <td>2</td>\n",
       "      <td>Aesop/Laura Harris/Laura Gibbs</td>\n",
       "    </tr>\n",
       "    <tr>\n",
       "      <th>2</th>\n",
       "      <td>3</td>\n",
       "      <td>Agatha Christie</td>\n",
       "    </tr>\n",
       "    <tr>\n",
       "      <th>3</th>\n",
       "      <td>4</td>\n",
       "      <td>Alan Brennert</td>\n",
       "    </tr>\n",
       "    <tr>\n",
       "      <th>4</th>\n",
       "      <td>5</td>\n",
       "      <td>Alan Moore/David   Lloyd</td>\n",
       "    </tr>\n",
       "  </tbody>\n",
       "</table>\n",
       "</div>"
      ],
      "text/plain": [
       "   author_id                          author\n",
       "0          1                      A.S. Byatt\n",
       "1          2  Aesop/Laura Harris/Laura Gibbs\n",
       "2          3                 Agatha Christie\n",
       "3          4                   Alan Brennert\n",
       "4          5        Alan Moore/David   Lloyd"
      ]
     },
     "metadata": {},
     "output_type": "display_data"
    }
   ],
   "source": [
    "display(books)"
   ]
  },
  {
   "cell_type": "markdown",
   "id": "021b9636",
   "metadata": {},
   "source": [
    "Таблица `publishers`"
   ]
  },
  {
   "cell_type": "code",
   "execution_count": 7,
   "id": "94bffa1f",
   "metadata": {},
   "outputs": [],
   "source": [
    "query = \"\"\" \n",
    "SELECT *\n",
    "FROM publishers\n",
    "LIMIT 5;\n",
    "\"\"\"\n",
    "books = pd.io.sql.read_sql(query, con = engine)"
   ]
  },
  {
   "cell_type": "code",
   "execution_count": 8,
   "id": "b4facebb",
   "metadata": {
    "scrolled": true
   },
   "outputs": [
    {
     "data": {
      "text/html": [
       "<div>\n",
       "<style scoped>\n",
       "    .dataframe tbody tr th:only-of-type {\n",
       "        vertical-align: middle;\n",
       "    }\n",
       "\n",
       "    .dataframe tbody tr th {\n",
       "        vertical-align: top;\n",
       "    }\n",
       "\n",
       "    .dataframe thead th {\n",
       "        text-align: right;\n",
       "    }\n",
       "</style>\n",
       "<table border=\"1\" class=\"dataframe\">\n",
       "  <thead>\n",
       "    <tr style=\"text-align: right;\">\n",
       "      <th></th>\n",
       "      <th>publisher_id</th>\n",
       "      <th>publisher</th>\n",
       "    </tr>\n",
       "  </thead>\n",
       "  <tbody>\n",
       "    <tr>\n",
       "      <th>0</th>\n",
       "      <td>1</td>\n",
       "      <td>Ace</td>\n",
       "    </tr>\n",
       "    <tr>\n",
       "      <th>1</th>\n",
       "      <td>2</td>\n",
       "      <td>Ace Book</td>\n",
       "    </tr>\n",
       "    <tr>\n",
       "      <th>2</th>\n",
       "      <td>3</td>\n",
       "      <td>Ace Books</td>\n",
       "    </tr>\n",
       "    <tr>\n",
       "      <th>3</th>\n",
       "      <td>4</td>\n",
       "      <td>Ace Hardcover</td>\n",
       "    </tr>\n",
       "    <tr>\n",
       "      <th>4</th>\n",
       "      <td>5</td>\n",
       "      <td>Addison Wesley Publishing Company</td>\n",
       "    </tr>\n",
       "  </tbody>\n",
       "</table>\n",
       "</div>"
      ],
      "text/plain": [
       "   publisher_id                          publisher\n",
       "0             1                                Ace\n",
       "1             2                           Ace Book\n",
       "2             3                          Ace Books\n",
       "3             4                      Ace Hardcover\n",
       "4             5  Addison Wesley Publishing Company"
      ]
     },
     "metadata": {},
     "output_type": "display_data"
    }
   ],
   "source": [
    "display(books)"
   ]
  },
  {
   "cell_type": "markdown",
   "id": "ea8bd8f1",
   "metadata": {},
   "source": [
    "Таблица `ratings`"
   ]
  },
  {
   "cell_type": "code",
   "execution_count": 9,
   "id": "cec0002c",
   "metadata": {},
   "outputs": [],
   "source": [
    "query = \"\"\" \n",
    "SELECT *\n",
    "FROM ratings\n",
    "LIMIT 5;\n",
    "\"\"\"\n",
    "books = pd.io.sql.read_sql(query, con = engine)"
   ]
  },
  {
   "cell_type": "code",
   "execution_count": 10,
   "id": "a2488641",
   "metadata": {
    "scrolled": true
   },
   "outputs": [
    {
     "data": {
      "text/html": [
       "<div>\n",
       "<style scoped>\n",
       "    .dataframe tbody tr th:only-of-type {\n",
       "        vertical-align: middle;\n",
       "    }\n",
       "\n",
       "    .dataframe tbody tr th {\n",
       "        vertical-align: top;\n",
       "    }\n",
       "\n",
       "    .dataframe thead th {\n",
       "        text-align: right;\n",
       "    }\n",
       "</style>\n",
       "<table border=\"1\" class=\"dataframe\">\n",
       "  <thead>\n",
       "    <tr style=\"text-align: right;\">\n",
       "      <th></th>\n",
       "      <th>rating_id</th>\n",
       "      <th>book_id</th>\n",
       "      <th>username</th>\n",
       "      <th>rating</th>\n",
       "    </tr>\n",
       "  </thead>\n",
       "  <tbody>\n",
       "    <tr>\n",
       "      <th>0</th>\n",
       "      <td>1</td>\n",
       "      <td>1</td>\n",
       "      <td>ryanfranco</td>\n",
       "      <td>4</td>\n",
       "    </tr>\n",
       "    <tr>\n",
       "      <th>1</th>\n",
       "      <td>2</td>\n",
       "      <td>1</td>\n",
       "      <td>grantpatricia</td>\n",
       "      <td>2</td>\n",
       "    </tr>\n",
       "    <tr>\n",
       "      <th>2</th>\n",
       "      <td>3</td>\n",
       "      <td>1</td>\n",
       "      <td>brandtandrea</td>\n",
       "      <td>5</td>\n",
       "    </tr>\n",
       "    <tr>\n",
       "      <th>3</th>\n",
       "      <td>4</td>\n",
       "      <td>2</td>\n",
       "      <td>lorichen</td>\n",
       "      <td>3</td>\n",
       "    </tr>\n",
       "    <tr>\n",
       "      <th>4</th>\n",
       "      <td>5</td>\n",
       "      <td>2</td>\n",
       "      <td>mariokeller</td>\n",
       "      <td>2</td>\n",
       "    </tr>\n",
       "  </tbody>\n",
       "</table>\n",
       "</div>"
      ],
      "text/plain": [
       "   rating_id  book_id       username  rating\n",
       "0          1        1     ryanfranco       4\n",
       "1          2        1  grantpatricia       2\n",
       "2          3        1   brandtandrea       5\n",
       "3          4        2       lorichen       3\n",
       "4          5        2    mariokeller       2"
      ]
     },
     "metadata": {},
     "output_type": "display_data"
    }
   ],
   "source": [
    "display(books)"
   ]
  },
  {
   "cell_type": "markdown",
   "id": "d1710012",
   "metadata": {},
   "source": [
    "Таблица `reviews`"
   ]
  },
  {
   "cell_type": "code",
   "execution_count": 11,
   "id": "29c4af95",
   "metadata": {},
   "outputs": [],
   "source": [
    "query = \"\"\" \n",
    "SELECT *\n",
    "FROM reviews\n",
    "LIMIT 5;\n",
    "\"\"\"\n",
    "books = pd.io.sql.read_sql(query, con = engine)"
   ]
  },
  {
   "cell_type": "code",
   "execution_count": 12,
   "id": "6fcf92f5",
   "metadata": {},
   "outputs": [
    {
     "data": {
      "text/html": [
       "<div>\n",
       "<style scoped>\n",
       "    .dataframe tbody tr th:only-of-type {\n",
       "        vertical-align: middle;\n",
       "    }\n",
       "\n",
       "    .dataframe tbody tr th {\n",
       "        vertical-align: top;\n",
       "    }\n",
       "\n",
       "    .dataframe thead th {\n",
       "        text-align: right;\n",
       "    }\n",
       "</style>\n",
       "<table border=\"1\" class=\"dataframe\">\n",
       "  <thead>\n",
       "    <tr style=\"text-align: right;\">\n",
       "      <th></th>\n",
       "      <th>review_id</th>\n",
       "      <th>book_id</th>\n",
       "      <th>username</th>\n",
       "      <th>text</th>\n",
       "    </tr>\n",
       "  </thead>\n",
       "  <tbody>\n",
       "    <tr>\n",
       "      <th>0</th>\n",
       "      <td>1</td>\n",
       "      <td>1</td>\n",
       "      <td>brandtandrea</td>\n",
       "      <td>Mention society tell send professor analysis. ...</td>\n",
       "    </tr>\n",
       "    <tr>\n",
       "      <th>1</th>\n",
       "      <td>2</td>\n",
       "      <td>1</td>\n",
       "      <td>ryanfranco</td>\n",
       "      <td>Foot glass pretty audience hit themselves. Amo...</td>\n",
       "    </tr>\n",
       "    <tr>\n",
       "      <th>2</th>\n",
       "      <td>3</td>\n",
       "      <td>2</td>\n",
       "      <td>lorichen</td>\n",
       "      <td>Listen treat keep worry. Miss husband tax but ...</td>\n",
       "    </tr>\n",
       "    <tr>\n",
       "      <th>3</th>\n",
       "      <td>4</td>\n",
       "      <td>3</td>\n",
       "      <td>johnsonamanda</td>\n",
       "      <td>Finally month interesting blue could nature cu...</td>\n",
       "    </tr>\n",
       "    <tr>\n",
       "      <th>4</th>\n",
       "      <td>5</td>\n",
       "      <td>3</td>\n",
       "      <td>scotttamara</td>\n",
       "      <td>Nation purpose heavy give wait song will. List...</td>\n",
       "    </tr>\n",
       "  </tbody>\n",
       "</table>\n",
       "</div>"
      ],
      "text/plain": [
       "   review_id  book_id       username  \\\n",
       "0          1        1   brandtandrea   \n",
       "1          2        1     ryanfranco   \n",
       "2          3        2       lorichen   \n",
       "3          4        3  johnsonamanda   \n",
       "4          5        3    scotttamara   \n",
       "\n",
       "                                                text  \n",
       "0  Mention society tell send professor analysis. ...  \n",
       "1  Foot glass pretty audience hit themselves. Amo...  \n",
       "2  Listen treat keep worry. Miss husband tax but ...  \n",
       "3  Finally month interesting blue could nature cu...  \n",
       "4  Nation purpose heavy give wait song will. List...  "
      ]
     },
     "metadata": {},
     "output_type": "display_data"
    }
   ],
   "source": [
    "display(books)"
   ]
  },
  {
   "cell_type": "markdown",
   "id": "f8cb65e6",
   "metadata": {},
   "source": [
    "## Анализ базы"
   ]
  },
  {
   "cell_type": "markdown",
   "id": "ee3200ed",
   "metadata": {},
   "source": [
    "После 1 января 2000 вышло 818 книг."
   ]
  },
  {
   "cell_type": "code",
   "execution_count": 13,
   "id": "c5b83ca4",
   "metadata": {},
   "outputs": [],
   "source": [
    "query = \"\"\" \n",
    "SELECT COUNT(book_id)\n",
    "FROM books\n",
    "WHERE DATE_TRUNC('month', CAST(publication_date AS timestamp)) > '2000-01-01';\n",
    "\"\"\"\n",
    "\n",
    "\n",
    "books = pd.io.sql.read_sql(query, con = engine)"
   ]
  },
  {
   "cell_type": "code",
   "execution_count": 14,
   "id": "196b7805",
   "metadata": {
    "scrolled": false
   },
   "outputs": [
    {
     "name": "stdout",
     "output_type": "stream",
     "text": [
      "   count\n",
      "0    818\n"
     ]
    }
   ],
   "source": [
    "print(books)"
   ]
  },
  {
   "cell_type": "markdown",
   "id": "0c2cfdc2",
   "metadata": {},
   "source": [
    "Практически половина книг имеет по 2 обзора. Самая часто получаемая оценка - 4 балла. Далее по уменьшению количества оценок получаемых книгами: 4.5, 3.5, 3, 5 и д.т. "
   ]
  },
  {
   "cell_type": "code",
   "execution_count": 15,
   "id": "02547cfc",
   "metadata": {},
   "outputs": [],
   "source": [
    "query = \"\"\" \n",
    "SELECT books_reviews.book_id,\n",
    "       books_reviews.reviews_number,\n",
    "       AVG(r.rating) AS ratings_avg\n",
    "       \n",
    "FROM (SELECT b.book_id,\n",
    "       COUNT(rv.review_id) AS reviews_number      \n",
    "       FROM books as b\n",
    "       LEFT JOIN reviews as rv on b.book_id = rv.book_id\n",
    "       GROUP BY b.book_id) AS books_reviews\n",
    "LEFT JOIN ratings as r on books_reviews.book_id = r.book_id\n",
    "GROUP BY books_reviews.book_id, books_reviews.reviews_number;\n",
    "\"\"\"\n",
    "\n",
    "\n",
    "books = pd.io.sql.read_sql(query, con = engine)"
   ]
  },
  {
   "cell_type": "code",
   "execution_count": 16,
   "id": "a7ddc1d2",
   "metadata": {},
   "outputs": [
    {
     "data": {
      "text/html": [
       "<div>\n",
       "<style scoped>\n",
       "    .dataframe tbody tr th:only-of-type {\n",
       "        vertical-align: middle;\n",
       "    }\n",
       "\n",
       "    .dataframe tbody tr th {\n",
       "        vertical-align: top;\n",
       "    }\n",
       "\n",
       "    .dataframe thead th {\n",
       "        text-align: right;\n",
       "    }\n",
       "</style>\n",
       "<table border=\"1\" class=\"dataframe\">\n",
       "  <thead>\n",
       "    <tr style=\"text-align: right;\">\n",
       "      <th></th>\n",
       "      <th>book_id</th>\n",
       "      <th>reviews_number</th>\n",
       "      <th>ratings_avg</th>\n",
       "    </tr>\n",
       "  </thead>\n",
       "  <tbody>\n",
       "    <tr>\n",
       "      <th>0</th>\n",
       "      <td>967</td>\n",
       "      <td>2</td>\n",
       "      <td>5.000000</td>\n",
       "    </tr>\n",
       "    <tr>\n",
       "      <th>1</th>\n",
       "      <td>716</td>\n",
       "      <td>2</td>\n",
       "      <td>3.000000</td>\n",
       "    </tr>\n",
       "    <tr>\n",
       "      <th>2</th>\n",
       "      <td>163</td>\n",
       "      <td>3</td>\n",
       "      <td>3.000000</td>\n",
       "    </tr>\n",
       "    <tr>\n",
       "      <th>3</th>\n",
       "      <td>680</td>\n",
       "      <td>4</td>\n",
       "      <td>4.250000</td>\n",
       "    </tr>\n",
       "    <tr>\n",
       "      <th>4</th>\n",
       "      <td>583</td>\n",
       "      <td>4</td>\n",
       "      <td>4.142857</td>\n",
       "    </tr>\n",
       "    <tr>\n",
       "      <th>5</th>\n",
       "      <td>85</td>\n",
       "      <td>4</td>\n",
       "      <td>3.250000</td>\n",
       "    </tr>\n",
       "    <tr>\n",
       "      <th>6</th>\n",
       "      <td>448</td>\n",
       "      <td>2</td>\n",
       "      <td>4.500000</td>\n",
       "    </tr>\n",
       "    <tr>\n",
       "      <th>7</th>\n",
       "      <td>236</td>\n",
       "      <td>2</td>\n",
       "      <td>4.500000</td>\n",
       "    </tr>\n",
       "    <tr>\n",
       "      <th>8</th>\n",
       "      <td>177</td>\n",
       "      <td>4</td>\n",
       "      <td>4.100000</td>\n",
       "    </tr>\n",
       "    <tr>\n",
       "      <th>9</th>\n",
       "      <td>499</td>\n",
       "      <td>2</td>\n",
       "      <td>3.000000</td>\n",
       "    </tr>\n",
       "  </tbody>\n",
       "</table>\n",
       "</div>"
      ],
      "text/plain": [
       "   book_id  reviews_number  ratings_avg\n",
       "0      967               2     5.000000\n",
       "1      716               2     3.000000\n",
       "2      163               3     3.000000\n",
       "3      680               4     4.250000\n",
       "4      583               4     4.142857\n",
       "5       85               4     3.250000\n",
       "6      448               2     4.500000\n",
       "7      236               2     4.500000\n",
       "8      177               4     4.100000\n",
       "9      499               2     3.000000"
      ]
     },
     "metadata": {},
     "output_type": "display_data"
    }
   ],
   "source": [
    "display(books.head(10))"
   ]
  },
  {
   "cell_type": "code",
   "execution_count": 17,
   "id": "fa42fcbf",
   "metadata": {
    "scrolled": true
   },
   "outputs": [
    {
     "name": "stdout",
     "output_type": "stream",
     "text": [
      "2793\n",
      "1000\n"
     ]
    }
   ],
   "source": [
    "print(books['reviews_number'].sum())\n",
    "print(books['book_id'].nunique())"
   ]
  },
  {
   "cell_type": "code",
   "execution_count": 18,
   "id": "4cd099b8",
   "metadata": {
    "scrolled": true
   },
   "outputs": [
    {
     "data": {
      "image/png": "[encoded data removed]",
      "text/plain": [
       "<Figure size 432x288 with 1 Axes>"
      ]
     },
     "metadata": {
      "needs_background": "light"
     },
     "output_type": "display_data"
    }
   ],
   "source": [
    "books['reviews_number'].hist();"
   ]
  },
  {
   "cell_type": "code",
   "execution_count": 19,
   "id": "0da79777",
   "metadata": {
    "scrolled": false
   },
   "outputs": [
    {
     "data": {
      "image/png": "[encoded data removed]",
      "text/plain": [
       "<Figure size 432x288 with 1 Axes>"
      ]
     },
     "metadata": {
      "needs_background": "light"
     },
     "output_type": "display_data"
    }
   ],
   "source": [
    "books['ratings_avg'].hist();"
   ]
  },
  {
   "cell_type": "markdown",
   "id": "a22f30d6",
   "metadata": {},
   "source": [
    "Наибольшее число книг (толще 50 страниц) выпустило издательство Penguin Books - 42 книги."
   ]
  },
  {
   "cell_type": "code",
   "execution_count": 20,
   "id": "ada7f1c8",
   "metadata": {},
   "outputs": [],
   "source": [
    "query = \"\"\" \n",
    "SELECT p.publisher,\n",
    "       COUNT(b.title)\n",
    "FROM publishers as p\n",
    "RIGHT JOIN books as b on b.publisher_id = p.publisher_id\n",
    "WHERE b.num_pages >= 50\n",
    "GROUP BY publisher\n",
    "ORDER BY COUNT(b.title) DESC\n",
    "LIMIT 5;\n",
    "\"\"\"\n",
    "\n",
    "books = pd.io.sql.read_sql(query, con = engine)"
   ]
  },
  {
   "cell_type": "code",
   "execution_count": 21,
   "id": "a8a74e80",
   "metadata": {
    "scrolled": true
   },
   "outputs": [
    {
     "data": {
      "text/html": [
       "<div>\n",
       "<style scoped>\n",
       "    .dataframe tbody tr th:only-of-type {\n",
       "        vertical-align: middle;\n",
       "    }\n",
       "\n",
       "    .dataframe tbody tr th {\n",
       "        vertical-align: top;\n",
       "    }\n",
       "\n",
       "    .dataframe thead th {\n",
       "        text-align: right;\n",
       "    }\n",
       "</style>\n",
       "<table border=\"1\" class=\"dataframe\">\n",
       "  <thead>\n",
       "    <tr style=\"text-align: right;\">\n",
       "      <th></th>\n",
       "      <th>publisher</th>\n",
       "      <th>count</th>\n",
       "    </tr>\n",
       "  </thead>\n",
       "  <tbody>\n",
       "    <tr>\n",
       "      <th>0</th>\n",
       "      <td>Penguin Books</td>\n",
       "      <td>42</td>\n",
       "    </tr>\n",
       "    <tr>\n",
       "      <th>1</th>\n",
       "      <td>Vintage</td>\n",
       "      <td>31</td>\n",
       "    </tr>\n",
       "    <tr>\n",
       "      <th>2</th>\n",
       "      <td>Grand Central Publishing</td>\n",
       "      <td>25</td>\n",
       "    </tr>\n",
       "    <tr>\n",
       "      <th>3</th>\n",
       "      <td>Penguin Classics</td>\n",
       "      <td>24</td>\n",
       "    </tr>\n",
       "    <tr>\n",
       "      <th>4</th>\n",
       "      <td>Bantam</td>\n",
       "      <td>19</td>\n",
       "    </tr>\n",
       "  </tbody>\n",
       "</table>\n",
       "</div>"
      ],
      "text/plain": [
       "                  publisher  count\n",
       "0             Penguin Books     42\n",
       "1                   Vintage     31\n",
       "2  Grand Central Publishing     25\n",
       "3          Penguin Classics     24\n",
       "4                    Bantam     19"
      ]
     },
     "metadata": {},
     "output_type": "display_data"
    }
   ],
   "source": [
    "display(books)"
   ]
  },
  {
   "cell_type": "markdown",
   "id": "b1cf9e4f",
   "metadata": {},
   "source": [
    "Самая высокая оценка у автора J.K. Rowling/Mary GrandPré - 4,4 среди авторов книги, которых набрали более 50 оценок."
   ]
  },
  {
   "cell_type": "code",
   "execution_count": 22,
   "id": "7074a66f",
   "metadata": {},
   "outputs": [],
   "source": [
    "query = \"\"\" \n",
    "SELECT a.author,\n",
    "       AVG(r.rating) AS rating_avg,\n",
    "       b.title,\n",
    "       COUNT(r.rating) AS rating_number\n",
    "FROM authors as a\n",
    "RIGHT JOIN books as b on a.author_id = b.author_id\n",
    "FULL OUTER JOIN ratings as r on b.book_id = r.book_id\n",
    "GROUP BY a.author, r.book_id, b.title\n",
    "HAVING COUNT(r.rating) >= 50\n",
    "ORDER BY AVG(r.rating) DESC\n",
    "LIMIT 5;\n",
    "\"\"\"\n",
    "\n",
    "books = pd.io.sql.read_sql(query, con = engine)"
   ]
  },
  {
   "cell_type": "code",
   "execution_count": 23,
   "id": "13fbf325",
   "metadata": {
    "scrolled": true
   },
   "outputs": [
    {
     "data": {
      "text/html": [
       "<div>\n",
       "<style scoped>\n",
       "    .dataframe tbody tr th:only-of-type {\n",
       "        vertical-align: middle;\n",
       "    }\n",
       "\n",
       "    .dataframe tbody tr th {\n",
       "        vertical-align: top;\n",
       "    }\n",
       "\n",
       "    .dataframe thead th {\n",
       "        text-align: right;\n",
       "    }\n",
       "</style>\n",
       "<table border=\"1\" class=\"dataframe\">\n",
       "  <thead>\n",
       "    <tr style=\"text-align: right;\">\n",
       "      <th></th>\n",
       "      <th>author</th>\n",
       "      <th>rating_avg</th>\n",
       "      <th>title</th>\n",
       "      <th>rating_number</th>\n",
       "    </tr>\n",
       "  </thead>\n",
       "  <tbody>\n",
       "    <tr>\n",
       "      <th>0</th>\n",
       "      <td>J.K. Rowling/Mary GrandPré</td>\n",
       "      <td>4.414634</td>\n",
       "      <td>Harry Potter and the Prisoner of Azkaban (Harr...</td>\n",
       "      <td>82</td>\n",
       "    </tr>\n",
       "    <tr>\n",
       "      <th>1</th>\n",
       "      <td>J.R.R. Tolkien</td>\n",
       "      <td>4.391892</td>\n",
       "      <td>The Fellowship of the Ring (The Lord of the Ri...</td>\n",
       "      <td>74</td>\n",
       "    </tr>\n",
       "    <tr>\n",
       "      <th>2</th>\n",
       "      <td>J.K. Rowling/Mary GrandPré</td>\n",
       "      <td>4.287500</td>\n",
       "      <td>Harry Potter and the Chamber of Secrets (Harry...</td>\n",
       "      <td>80</td>\n",
       "    </tr>\n",
       "    <tr>\n",
       "      <th>3</th>\n",
       "      <td>Markus Zusak/Cao Xuân Việt Khương</td>\n",
       "      <td>4.264151</td>\n",
       "      <td>The Book Thief</td>\n",
       "      <td>53</td>\n",
       "    </tr>\n",
       "    <tr>\n",
       "      <th>4</th>\n",
       "      <td>J.K. Rowling/Mary GrandPré</td>\n",
       "      <td>4.246575</td>\n",
       "      <td>Harry Potter and the Half-Blood Prince (Harry ...</td>\n",
       "      <td>73</td>\n",
       "    </tr>\n",
       "  </tbody>\n",
       "</table>\n",
       "</div>"
      ],
      "text/plain": [
       "                              author  rating_avg  \\\n",
       "0         J.K. Rowling/Mary GrandPré    4.414634   \n",
       "1                     J.R.R. Tolkien    4.391892   \n",
       "2         J.K. Rowling/Mary GrandPré    4.287500   \n",
       "3  Markus Zusak/Cao Xuân Việt Khương    4.264151   \n",
       "4         J.K. Rowling/Mary GrandPré    4.246575   \n",
       "\n",
       "                                               title  rating_number  \n",
       "0  Harry Potter and the Prisoner of Azkaban (Harr...             82  \n",
       "1  The Fellowship of the Ring (The Lord of the Ri...             74  \n",
       "2  Harry Potter and the Chamber of Secrets (Harry...             80  \n",
       "3                                     The Book Thief             53  \n",
       "4  Harry Potter and the Half-Blood Prince (Harry ...             73  "
      ]
     },
     "metadata": {},
     "output_type": "display_data"
    }
   ],
   "source": [
    "display(books)"
   ]
  },
  {
   "cell_type": "markdown",
   "id": "e9341103",
   "metadata": {},
   "source": [
    "Среднее количество обзоров от пользователей, которые поставили больше 50 оценок - 24.2"
   ]
  },
  {
   "cell_type": "code",
   "execution_count": 24,
   "id": "a06106ca",
   "metadata": {},
   "outputs": [],
   "source": [
    "query = \"\"\" \n",
    "SELECT AVG(number.reviews_count)\n",
    "FROM (SELECT COUNT(review_id) AS reviews_count\n",
    "      FROM reviews\n",
    "      WHERE username IN ( SELECT username\n",
    "                          FROM ratings \n",
    "                          GROUP BY username\n",
    "                          HAVING COUNT(rating_id) >= 50)\n",
    "                          GROUP BY username) AS number\n",
    "\n",
    "\"\"\"\n",
    "\n",
    "books = pd.io.sql.read_sql(query, con = engine)"
   ]
  },
  {
   "cell_type": "code",
   "execution_count": 25,
   "id": "82cdfc03",
   "metadata": {},
   "outputs": [
    {
     "data": {
      "text/html": [
       "<div>\n",
       "<style scoped>\n",
       "    .dataframe tbody tr th:only-of-type {\n",
       "        vertical-align: middle;\n",
       "    }\n",
       "\n",
       "    .dataframe tbody tr th {\n",
       "        vertical-align: top;\n",
       "    }\n",
       "\n",
       "    .dataframe thead th {\n",
       "        text-align: right;\n",
       "    }\n",
       "</style>\n",
       "<table border=\"1\" class=\"dataframe\">\n",
       "  <thead>\n",
       "    <tr style=\"text-align: right;\">\n",
       "      <th></th>\n",
       "      <th>avg</th>\n",
       "    </tr>\n",
       "  </thead>\n",
       "  <tbody>\n",
       "    <tr>\n",
       "      <th>0</th>\n",
       "      <td>24.222222</td>\n",
       "    </tr>\n",
       "  </tbody>\n",
       "</table>\n",
       "</div>"
      ],
      "text/plain": [
       "         avg\n",
       "0  24.222222"
      ]
     },
     "metadata": {},
     "output_type": "display_data"
    }
   ],
   "source": [
    "display(books)"
   ]
  },
  {
   "cell_type": "markdown",
   "id": "44cea356",
   "metadata": {},
   "source": [
    "## Выводы\n",
    "После 1 января 2000 вышло 818 книг. Практически половина книг имеет по 2 обзора. Самая часто получаемая оценка - 4 балла. Далее по уменьшению количества оценок получаемых книгами: 4.5, 3.5, 3, 5 и д.т. Наибольшее число книг (толще 50 страниц) выпустило издательство Penguin Books - 42 книги. Самая высокая оценка у автора J.K. Rowling/Mary GrandPré - 4,4 среди авторов книги, которых набрали более 50 оценок. Среднее количество обзоров от пользователей, которые поставили больше 50 оценок - 24,2."
   ]
  }
 ],
 "metadata": {
  "ExecuteTimeLog": [
   {
    "duration": 474,
    "start_time": "2022-06-02T07:02:08.068Z"
   },
   {
    "duration": 39,
    "start_time": "2022-06-02T07:02:08.544Z"
   },
   {
    "duration": 219,
    "start_time": "2022-06-02T07:02:08.584Z"
   },
   {
    "duration": 6,
    "start_time": "2022-06-02T07:02:08.804Z"
   },
   {
    "duration": 99,
    "start_time": "2022-06-02T07:02:08.812Z"
   },
   {
    "duration": 15,
    "start_time": "2022-06-02T07:02:08.912Z"
   },
   {
    "duration": 684,
    "start_time": "2022-06-02T07:02:08.928Z"
   },
   {
    "duration": 260,
    "start_time": "2022-06-02T07:02:09.614Z"
   },
   {
    "duration": 65,
    "start_time": "2022-06-02T07:02:09.876Z"
   },
   {
    "duration": 8,
    "start_time": "2022-06-02T07:02:09.943Z"
   },
   {
    "duration": 74,
    "start_time": "2022-06-02T07:02:09.952Z"
   },
   {
    "duration": 7,
    "start_time": "2022-06-02T07:02:10.028Z"
   },
   {
    "duration": 70,
    "start_time": "2022-06-02T07:02:10.037Z"
   },
   {
    "duration": 7,
    "start_time": "2022-06-02T07:02:10.110Z"
   },
   {
    "duration": 63,
    "start_time": "2022-06-02T07:03:10.807Z"
   },
   {
    "duration": 5,
    "start_time": "2022-06-02T07:03:11.605Z"
   },
   {
    "duration": 65,
    "start_time": "2022-06-02T07:03:15.003Z"
   },
   {
    "duration": 4,
    "start_time": "2022-06-02T07:03:15.518Z"
   },
   {
    "duration": 959,
    "start_time": "2022-06-02T07:05:41.102Z"
   },
   {
    "duration": 129,
    "start_time": "2022-06-02T07:05:44.221Z"
   },
   {
    "duration": 122,
    "start_time": "2022-06-02T07:05:52.737Z"
   },
   {
    "duration": 125,
    "start_time": "2022-06-02T07:05:55.363Z"
   },
   {
    "duration": 132,
    "start_time": "2022-06-02T07:06:08.088Z"
   },
   {
    "duration": 198,
    "start_time": "2022-06-02T07:06:43.109Z"
   },
   {
    "duration": 159,
    "start_time": "2022-06-02T07:06:46.205Z"
   },
   {
    "duration": 77,
    "start_time": "2022-06-02T07:07:01.583Z"
   },
   {
    "duration": 94,
    "start_time": "2022-06-02T07:07:38.117Z"
   },
   {
    "duration": 161,
    "start_time": "2022-06-02T07:07:46.108Z"
   },
   {
    "duration": 93,
    "start_time": "2022-06-02T07:07:51.938Z"
   },
   {
    "duration": 135,
    "start_time": "2022-06-02T07:08:20.220Z"
   },
   {
    "duration": 146,
    "start_time": "2022-06-02T07:08:28.171Z"
   },
   {
    "duration": 110,
    "start_time": "2022-06-02T07:08:36.758Z"
   },
   {
    "duration": 114,
    "start_time": "2022-06-02T07:08:42.974Z"
   },
   {
    "duration": 128,
    "start_time": "2022-06-02T07:08:52.388Z"
   },
   {
    "duration": 106,
    "start_time": "2022-06-02T07:08:57.361Z"
   },
   {
    "duration": 101,
    "start_time": "2022-06-02T07:09:04.534Z"
   },
   {
    "duration": 112,
    "start_time": "2022-06-02T07:09:23.839Z"
   },
   {
    "duration": 119,
    "start_time": "2022-06-02T07:09:28.566Z"
   },
   {
    "duration": 118,
    "start_time": "2022-06-02T07:09:42.674Z"
   },
   {
    "duration": 127,
    "start_time": "2022-06-02T07:09:46.967Z"
   },
   {
    "duration": 92,
    "start_time": "2022-06-02T07:09:57.209Z"
   },
   {
    "duration": 166,
    "start_time": "2022-06-02T07:10:12.732Z"
   },
   {
    "duration": 71,
    "start_time": "2022-06-02T07:11:13.069Z"
   },
   {
    "duration": 69,
    "start_time": "2022-06-02T07:11:52.610Z"
   },
   {
    "duration": 70,
    "start_time": "2022-06-02T07:11:55.203Z"
   },
   {
    "duration": 7,
    "start_time": "2022-06-02T07:14:39.542Z"
   },
   {
    "duration": 95,
    "start_time": "2022-06-02T07:14:43.264Z"
   },
   {
    "duration": 9,
    "start_time": "2022-06-02T07:14:43.667Z"
   },
   {
    "duration": 11,
    "start_time": "2022-06-02T07:14:46.571Z"
   },
   {
    "duration": 11,
    "start_time": "2022-06-02T07:15:30.942Z"
   },
   {
    "duration": 4,
    "start_time": "2022-06-02T07:15:32.822Z"
   },
   {
    "duration": 11,
    "start_time": "2022-06-02T07:15:43.911Z"
   },
   {
    "duration": 784,
    "start_time": "2022-06-02T07:29:12.959Z"
   },
   {
    "duration": 78,
    "start_time": "2022-06-02T07:29:13.745Z"
   },
   {
    "duration": 243,
    "start_time": "2022-06-02T07:29:18.772Z"
   },
   {
    "duration": 6,
    "start_time": "2022-06-02T07:29:20.805Z"
   },
   {
    "duration": 12,
    "start_time": "2022-06-02T07:29:29.286Z"
   },
   {
    "duration": 67,
    "start_time": "2022-06-02T07:29:31.828Z"
   },
   {
    "duration": 7,
    "start_time": "2022-06-02T07:29:57.597Z"
   },
   {
    "duration": 67,
    "start_time": "2022-06-02T07:30:02.253Z"
   },
   {
    "duration": 7,
    "start_time": "2022-06-02T07:30:03.781Z"
   },
   {
    "duration": 67,
    "start_time": "2022-06-02T07:30:06.445Z"
   },
   {
    "duration": 7,
    "start_time": "2022-06-02T07:30:07.069Z"
   },
   {
    "duration": 69,
    "start_time": "2022-06-02T07:30:09.318Z"
   },
   {
    "duration": 7,
    "start_time": "2022-06-02T07:30:10.037Z"
   },
   {
    "duration": 451,
    "start_time": "2022-06-03T06:47:48.108Z"
   },
   {
    "duration": 40,
    "start_time": "2022-06-03T06:47:48.561Z"
   },
   {
    "duration": 214,
    "start_time": "2022-06-03T06:47:48.603Z"
   },
   {
    "duration": 14,
    "start_time": "2022-06-03T06:47:48.819Z"
   },
   {
    "duration": 60,
    "start_time": "2022-06-03T06:47:48.835Z"
   },
   {
    "duration": 7,
    "start_time": "2022-06-03T06:47:48.896Z"
   },
   {
    "duration": 70,
    "start_time": "2022-06-03T06:47:48.904Z"
   },
   {
    "duration": 7,
    "start_time": "2022-06-03T06:47:48.975Z"
   },
   {
    "duration": 68,
    "start_time": "2022-06-03T06:47:48.983Z"
   },
   {
    "duration": 7,
    "start_time": "2022-06-03T06:47:49.052Z"
   },
   {
    "duration": 73,
    "start_time": "2022-06-03T06:47:49.061Z"
   },
   {
    "duration": 9,
    "start_time": "2022-06-03T06:47:49.135Z"
   },
   {
    "duration": 71,
    "start_time": "2022-06-03T06:47:49.146Z"
   },
   {
    "duration": 5,
    "start_time": "2022-06-03T06:47:49.220Z"
   },
   {
    "duration": 88,
    "start_time": "2022-06-03T06:47:49.227Z"
   },
   {
    "duration": 9,
    "start_time": "2022-06-03T06:47:49.317Z"
   },
   {
    "duration": 12,
    "start_time": "2022-06-03T06:47:49.328Z"
   },
   {
    "duration": 390,
    "start_time": "2022-06-03T06:47:49.342Z"
   },
   {
    "duration": 139,
    "start_time": "2022-06-03T06:47:49.734Z"
   },
   {
    "duration": 62,
    "start_time": "2022-06-03T06:47:49.874Z"
   },
   {
    "duration": 7,
    "start_time": "2022-06-03T06:47:49.937Z"
   },
   {
    "duration": 73,
    "start_time": "2022-06-03T06:47:49.946Z"
   },
   {
    "duration": 8,
    "start_time": "2022-06-03T06:47:50.021Z"
   },
   {
    "duration": 68,
    "start_time": "2022-06-03T06:47:50.031Z"
   },
   {
    "duration": 7,
    "start_time": "2022-06-03T06:47:50.101Z"
   }
  ],
  "kernelspec": {
   "display_name": "Python 3 (ipykernel)",
   "language": "python",
   "name": "python3"
  },
  "language_info": {
   "codemirror_mode": {
    "name": "ipython",
    "version": 3
   },
   "file_extension": ".py",
   "mimetype": "text/x-python",
   "name": "python",
   "nbconvert_exporter": "python",
   "pygments_lexer": "ipython3",
   "version": "3.9.7"
  },
  "toc": {
   "base_numbering": 1,
   "nav_menu": {},
   "number_sections": true,
   "sideBar": true,
   "skip_h1_title": true,
   "title_cell": "Table of Contents",
   "title_sidebar": "Содержание",
   "toc_cell": false,
   "toc_position": {
    "height": "calc(100% - 180px)",
    "left": "10px",
    "top": "150px",
    "width": "165px"
   },
   "toc_section_display": true,
   "toc_window_display": true
  }
 },
 "nbformat": 4,
 "nbformat_minor": 5
}
