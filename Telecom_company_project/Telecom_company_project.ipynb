{
 "cells": [
  {
   "cell_type": "markdown",
   "metadata": {},
   "source": [
    "# Определение перспективного тарифа для телеком-компании"
   ]
  },
  {
   "cell_type": "markdown",
   "metadata": {},
   "source": [
    "Импорт библиотек"
   ]
  },
  {
   "cell_type": "code",
   "execution_count": 1,
   "metadata": {},
   "outputs": [],
   "source": [
    "import pandas as pd\n",
    "import numpy as np\n",
    "from scipy import stats as st\n",
    "import matplotlib.pyplot as plt\n",
    "import seaborn as sns\n",
    "from functools import reduce"
   ]
  },
  {
   "cell_type": "markdown",
   "metadata": {},
   "source": [
    "Функция для обзора и отображания информации о данных"
   ]
  },
  {
   "cell_type": "code",
   "execution_count": 2,
   "metadata": {},
   "outputs": [],
   "source": [
    "def table_info (df):\n",
    "    display(df.sample(10)) #10 случайных строк\n",
    "    print('---------------')\n",
    "    df.info() #инфо по столбцам\n",
    "    print('---------------')\n",
    "    print('Дубликатов:', df.duplicated().sum()) #кол-во дубликатов\n",
    "    print('---------------')\n",
    "    print('Пропущенных значений', df.isna().sum()) #кол-во пропущенных значений"
   ]
  },
  {
   "cell_type": "markdown",
   "metadata": {},
   "source": [
    "Функция для подсчета месячной выручки."
   ]
  },
  {
   "cell_type": "code",
   "execution_count": 3,
   "metadata": {},
   "outputs": [],
   "source": [
    "def calculate_revenue(row):\n",
    "    minutes_revenue = 0\n",
    "    gb_revenue = 0\n",
    "    messages_revenue = 0\n",
    "    \n",
    "    if row['calls_overspending'] > 0:\n",
    "        minutes_revenue = row['calls_overspending'] * row['rub_per_minute']\n",
    "    if row['gb_overspending'] > 0:\n",
    "        gb_revenue = row['gb_overspending'] * row['rub_per_gb']\n",
    "    if row['messages_overspending'] > 0:\n",
    "        minutes_revenue = row['messages_overspending'] * row['rub_per_message']\n",
    "\n",
    "    \n",
    "    return minutes_revenue + gb_revenue + minutes_revenue + row['rub_monthly_fee']"
   ]
  },
  {
   "cell_type": "markdown",
   "metadata": {},
   "source": [
    "## Загрузка и обзор данных"
   ]
  },
  {
   "cell_type": "markdown",
   "metadata": {},
   "source": [
    "Загрузка данных"
   ]
  },
  {
   "cell_type": "code",
   "execution_count": 4,
   "metadata": {},
   "outputs": [],
   "source": [
    "calls = pd.read_csv('calls.csv')\n",
    "internet = pd.read_csv('internet.csv')\n",
    "messages = pd.read_csv('messages.csv')\n",
    "tariffs = pd.read_csv('tariffs.csv')\n",
    "users = pd.read_csv('users.csv')"
   ]
  },
  {
   "cell_type": "markdown",
   "metadata": {},
   "source": [
    "### Информация о таблице 'calls'"
   ]
  },
  {
   "cell_type": "code",
   "execution_count": 5,
   "metadata": {},
   "outputs": [
    {
     "data": {
      "text/html": [
       "<div>\n",
       "<style scoped>\n",
       "    .dataframe tbody tr th:only-of-type {\n",
       "        vertical-align: middle;\n",
       "    }\n",
       "\n",
       "    .dataframe tbody tr th {\n",
       "        vertical-align: top;\n",
       "    }\n",
       "\n",
       "    .dataframe thead th {\n",
       "        text-align: right;\n",
       "    }\n",
       "</style>\n",
       "<table border=\"1\" class=\"dataframe\">\n",
       "  <thead>\n",
       "    <tr style=\"text-align: right;\">\n",
       "      <th></th>\n",
       "      <th>id</th>\n",
       "      <th>call_date</th>\n",
       "      <th>duration</th>\n",
       "      <th>user_id</th>\n",
       "    </tr>\n",
       "  </thead>\n",
       "  <tbody>\n",
       "    <tr>\n",
       "      <th>30565</th>\n",
       "      <td>1077_137</td>\n",
       "      <td>2018-12-15</td>\n",
       "      <td>5.63</td>\n",
       "      <td>1077</td>\n",
       "    </tr>\n",
       "    <tr>\n",
       "      <th>187863</th>\n",
       "      <td>1464_383</td>\n",
       "      <td>2018-03-14</td>\n",
       "      <td>18.01</td>\n",
       "      <td>1464</td>\n",
       "    </tr>\n",
       "    <tr>\n",
       "      <th>40035</th>\n",
       "      <td>1099_408</td>\n",
       "      <td>2018-07-08</td>\n",
       "      <td>5.75</td>\n",
       "      <td>1099</td>\n",
       "    </tr>\n",
       "    <tr>\n",
       "      <th>73891</th>\n",
       "      <td>1185_685</td>\n",
       "      <td>2018-12-27</td>\n",
       "      <td>3.62</td>\n",
       "      <td>1185</td>\n",
       "    </tr>\n",
       "    <tr>\n",
       "      <th>127100</th>\n",
       "      <td>1325_481</td>\n",
       "      <td>2018-07-19</td>\n",
       "      <td>8.14</td>\n",
       "      <td>1325</td>\n",
       "    </tr>\n",
       "    <tr>\n",
       "      <th>52836</th>\n",
       "      <td>1133_101</td>\n",
       "      <td>2018-11-16</td>\n",
       "      <td>18.32</td>\n",
       "      <td>1133</td>\n",
       "    </tr>\n",
       "    <tr>\n",
       "      <th>2866</th>\n",
       "      <td>1007_69</td>\n",
       "      <td>2018-11-04</td>\n",
       "      <td>0.00</td>\n",
       "      <td>1007</td>\n",
       "    </tr>\n",
       "    <tr>\n",
       "      <th>23177</th>\n",
       "      <td>1059_261</td>\n",
       "      <td>2018-08-24</td>\n",
       "      <td>1.82</td>\n",
       "      <td>1059</td>\n",
       "    </tr>\n",
       "    <tr>\n",
       "      <th>95356</th>\n",
       "      <td>1243_3</td>\n",
       "      <td>2018-07-23</td>\n",
       "      <td>15.23</td>\n",
       "      <td>1243</td>\n",
       "    </tr>\n",
       "    <tr>\n",
       "      <th>103351</th>\n",
       "      <td>1265_13</td>\n",
       "      <td>2018-08-31</td>\n",
       "      <td>10.97</td>\n",
       "      <td>1265</td>\n",
       "    </tr>\n",
       "  </tbody>\n",
       "</table>\n",
       "</div>"
      ],
      "text/plain": [
       "              id   call_date  duration  user_id\n",
       "30565   1077_137  2018-12-15      5.63     1077\n",
       "187863  1464_383  2018-03-14     18.01     1464\n",
       "40035   1099_408  2018-07-08      5.75     1099\n",
       "73891   1185_685  2018-12-27      3.62     1185\n",
       "127100  1325_481  2018-07-19      8.14     1325\n",
       "52836   1133_101  2018-11-16     18.32     1133\n",
       "2866     1007_69  2018-11-04      0.00     1007\n",
       "23177   1059_261  2018-08-24      1.82     1059\n",
       "95356     1243_3  2018-07-23     15.23     1243\n",
       "103351   1265_13  2018-08-31     10.97     1265"
      ]
     },
     "metadata": {},
     "output_type": "display_data"
    },
    {
     "name": "stdout",
     "output_type": "stream",
     "text": [
      "---------------\n",
      "<class 'pandas.core.frame.DataFrame'>\n",
      "RangeIndex: 202607 entries, 0 to 202606\n",
      "Data columns (total 4 columns):\n",
      " #   Column     Non-Null Count   Dtype  \n",
      "---  ------     --------------   -----  \n",
      " 0   id         202607 non-null  object \n",
      " 1   call_date  202607 non-null  object \n",
      " 2   duration   202607 non-null  float64\n",
      " 3   user_id    202607 non-null  int64  \n",
      "dtypes: float64(1), int64(1), object(2)\n",
      "memory usage: 6.2+ MB\n",
      "---------------\n",
      "Дубликатов: 0\n",
      "---------------\n",
      "Пропущенных значений id           0\n",
      "call_date    0\n",
      "duration     0\n",
      "user_id      0\n",
      "dtype: int64\n"
     ]
    }
   ],
   "source": [
    "table_info(calls)"
   ]
  },
  {
   "cell_type": "markdown",
   "metadata": {},
   "source": [
    "### Информация о таблице 'internet'"
   ]
  },
  {
   "cell_type": "code",
   "execution_count": 6,
   "metadata": {},
   "outputs": [
    {
     "data": {
      "text/html": [
       "<div>\n",
       "<style scoped>\n",
       "    .dataframe tbody tr th:only-of-type {\n",
       "        vertical-align: middle;\n",
       "    }\n",
       "\n",
       "    .dataframe tbody tr th {\n",
       "        vertical-align: top;\n",
       "    }\n",
       "\n",
       "    .dataframe thead th {\n",
       "        text-align: right;\n",
       "    }\n",
       "</style>\n",
       "<table border=\"1\" class=\"dataframe\">\n",
       "  <thead>\n",
       "    <tr style=\"text-align: right;\">\n",
       "      <th></th>\n",
       "      <th>Unnamed: 0</th>\n",
       "      <th>id</th>\n",
       "      <th>mb_used</th>\n",
       "      <th>session_date</th>\n",
       "      <th>user_id</th>\n",
       "    </tr>\n",
       "  </thead>\n",
       "  <tbody>\n",
       "    <tr>\n",
       "      <th>100269</th>\n",
       "      <td>100269</td>\n",
       "      <td>1337_306</td>\n",
       "      <td>0.00</td>\n",
       "      <td>2018-01-18</td>\n",
       "      <td>1337</td>\n",
       "    </tr>\n",
       "    <tr>\n",
       "      <th>49123</th>\n",
       "      <td>49123</td>\n",
       "      <td>1169_238</td>\n",
       "      <td>0.00</td>\n",
       "      <td>2018-11-30</td>\n",
       "      <td>1169</td>\n",
       "    </tr>\n",
       "    <tr>\n",
       "      <th>137226</th>\n",
       "      <td>137226</td>\n",
       "      <td>1460_161</td>\n",
       "      <td>0.00</td>\n",
       "      <td>2018-11-16</td>\n",
       "      <td>1460</td>\n",
       "    </tr>\n",
       "    <tr>\n",
       "      <th>69469</th>\n",
       "      <td>69469</td>\n",
       "      <td>1238_61</td>\n",
       "      <td>82.10</td>\n",
       "      <td>2018-10-14</td>\n",
       "      <td>1238</td>\n",
       "    </tr>\n",
       "    <tr>\n",
       "      <th>35827</th>\n",
       "      <td>35827</td>\n",
       "      <td>1124_207</td>\n",
       "      <td>0.00</td>\n",
       "      <td>2018-10-04</td>\n",
       "      <td>1124</td>\n",
       "    </tr>\n",
       "    <tr>\n",
       "      <th>64617</th>\n",
       "      <td>64617</td>\n",
       "      <td>1219_524</td>\n",
       "      <td>134.92</td>\n",
       "      <td>2018-07-06</td>\n",
       "      <td>1219</td>\n",
       "    </tr>\n",
       "    <tr>\n",
       "      <th>66401</th>\n",
       "      <td>66401</td>\n",
       "      <td>1226_158</td>\n",
       "      <td>438.92</td>\n",
       "      <td>2018-08-14</td>\n",
       "      <td>1226</td>\n",
       "    </tr>\n",
       "    <tr>\n",
       "      <th>35192</th>\n",
       "      <td>35192</td>\n",
       "      <td>1123_156</td>\n",
       "      <td>151.83</td>\n",
       "      <td>2018-11-04</td>\n",
       "      <td>1123</td>\n",
       "    </tr>\n",
       "    <tr>\n",
       "      <th>44725</th>\n",
       "      <td>44725</td>\n",
       "      <td>1154_283</td>\n",
       "      <td>0.00</td>\n",
       "      <td>2018-07-27</td>\n",
       "      <td>1154</td>\n",
       "    </tr>\n",
       "    <tr>\n",
       "      <th>75210</th>\n",
       "      <td>75210</td>\n",
       "      <td>1252_13</td>\n",
       "      <td>446.65</td>\n",
       "      <td>2018-12-07</td>\n",
       "      <td>1252</td>\n",
       "    </tr>\n",
       "  </tbody>\n",
       "</table>\n",
       "</div>"
      ],
      "text/plain": [
       "        Unnamed: 0        id  mb_used session_date  user_id\n",
       "100269      100269  1337_306     0.00   2018-01-18     1337\n",
       "49123        49123  1169_238     0.00   2018-11-30     1169\n",
       "137226      137226  1460_161     0.00   2018-11-16     1460\n",
       "69469        69469   1238_61    82.10   2018-10-14     1238\n",
       "35827        35827  1124_207     0.00   2018-10-04     1124\n",
       "64617        64617  1219_524   134.92   2018-07-06     1219\n",
       "66401        66401  1226_158   438.92   2018-08-14     1226\n",
       "35192        35192  1123_156   151.83   2018-11-04     1123\n",
       "44725        44725  1154_283     0.00   2018-07-27     1154\n",
       "75210        75210   1252_13   446.65   2018-12-07     1252"
      ]
     },
     "metadata": {},
     "output_type": "display_data"
    },
    {
     "name": "stdout",
     "output_type": "stream",
     "text": [
      "---------------\n",
      "<class 'pandas.core.frame.DataFrame'>\n",
      "RangeIndex: 149396 entries, 0 to 149395\n",
      "Data columns (total 5 columns):\n",
      " #   Column        Non-Null Count   Dtype  \n",
      "---  ------        --------------   -----  \n",
      " 0   Unnamed: 0    149396 non-null  int64  \n",
      " 1   id            149396 non-null  object \n",
      " 2   mb_used       149396 non-null  float64\n",
      " 3   session_date  149396 non-null  object \n",
      " 4   user_id       149396 non-null  int64  \n",
      "dtypes: float64(1), int64(2), object(2)\n",
      "memory usage: 5.7+ MB\n",
      "---------------\n",
      "Дубликатов: 0\n",
      "---------------\n",
      "Пропущенных значений Unnamed: 0      0\n",
      "id              0\n",
      "mb_used         0\n",
      "session_date    0\n",
      "user_id         0\n",
      "dtype: int64\n"
     ]
    }
   ],
   "source": [
    "table_info(internet)"
   ]
  },
  {
   "cell_type": "markdown",
   "metadata": {},
   "source": [
    "### Информация о таблице 'messages'"
   ]
  },
  {
   "cell_type": "code",
   "execution_count": 7,
   "metadata": {},
   "outputs": [
    {
     "data": {
      "text/html": [
       "<div>\n",
       "<style scoped>\n",
       "    .dataframe tbody tr th:only-of-type {\n",
       "        vertical-align: middle;\n",
       "    }\n",
       "\n",
       "    .dataframe tbody tr th {\n",
       "        vertical-align: top;\n",
       "    }\n",
       "\n",
       "    .dataframe thead th {\n",
       "        text-align: right;\n",
       "    }\n",
       "</style>\n",
       "<table border=\"1\" class=\"dataframe\">\n",
       "  <thead>\n",
       "    <tr style=\"text-align: right;\">\n",
       "      <th></th>\n",
       "      <th>id</th>\n",
       "      <th>message_date</th>\n",
       "      <th>user_id</th>\n",
       "    </tr>\n",
       "  </thead>\n",
       "  <tbody>\n",
       "    <tr>\n",
       "      <th>43176</th>\n",
       "      <td>1186_589</td>\n",
       "      <td>2018-04-07</td>\n",
       "      <td>1186</td>\n",
       "    </tr>\n",
       "    <tr>\n",
       "      <th>115414</th>\n",
       "      <td>1471_642</td>\n",
       "      <td>2018-12-03</td>\n",
       "      <td>1471</td>\n",
       "    </tr>\n",
       "    <tr>\n",
       "      <th>113299</th>\n",
       "      <td>1459_55</td>\n",
       "      <td>2018-10-21</td>\n",
       "      <td>1459</td>\n",
       "    </tr>\n",
       "    <tr>\n",
       "      <th>42941</th>\n",
       "      <td>1186_354</td>\n",
       "      <td>2018-11-04</td>\n",
       "      <td>1186</td>\n",
       "    </tr>\n",
       "    <tr>\n",
       "      <th>90418</th>\n",
       "      <td>1375_218</td>\n",
       "      <td>2018-12-13</td>\n",
       "      <td>1375</td>\n",
       "    </tr>\n",
       "    <tr>\n",
       "      <th>86111</th>\n",
       "      <td>1356_1128</td>\n",
       "      <td>2018-12-10</td>\n",
       "      <td>1356</td>\n",
       "    </tr>\n",
       "    <tr>\n",
       "      <th>106937</th>\n",
       "      <td>1431_679</td>\n",
       "      <td>2018-08-02</td>\n",
       "      <td>1431</td>\n",
       "    </tr>\n",
       "    <tr>\n",
       "      <th>77300</th>\n",
       "      <td>1325_39</td>\n",
       "      <td>2018-11-10</td>\n",
       "      <td>1325</td>\n",
       "    </tr>\n",
       "    <tr>\n",
       "      <th>51102</th>\n",
       "      <td>1227_127</td>\n",
       "      <td>2018-12-11</td>\n",
       "      <td>1227</td>\n",
       "    </tr>\n",
       "    <tr>\n",
       "      <th>42133</th>\n",
       "      <td>1181_6</td>\n",
       "      <td>2018-12-30</td>\n",
       "      <td>1181</td>\n",
       "    </tr>\n",
       "  </tbody>\n",
       "</table>\n",
       "</div>"
      ],
      "text/plain": [
       "               id message_date  user_id\n",
       "43176    1186_589   2018-04-07     1186\n",
       "115414   1471_642   2018-12-03     1471\n",
       "113299    1459_55   2018-10-21     1459\n",
       "42941    1186_354   2018-11-04     1186\n",
       "90418    1375_218   2018-12-13     1375\n",
       "86111   1356_1128   2018-12-10     1356\n",
       "106937   1431_679   2018-08-02     1431\n",
       "77300     1325_39   2018-11-10     1325\n",
       "51102    1227_127   2018-12-11     1227\n",
       "42133      1181_6   2018-12-30     1181"
      ]
     },
     "metadata": {},
     "output_type": "display_data"
    },
    {
     "name": "stdout",
     "output_type": "stream",
     "text": [
      "---------------\n",
      "<class 'pandas.core.frame.DataFrame'>\n",
      "RangeIndex: 123036 entries, 0 to 123035\n",
      "Data columns (total 3 columns):\n",
      " #   Column        Non-Null Count   Dtype \n",
      "---  ------        --------------   ----- \n",
      " 0   id            123036 non-null  object\n",
      " 1   message_date  123036 non-null  object\n",
      " 2   user_id       123036 non-null  int64 \n",
      "dtypes: int64(1), object(2)\n",
      "memory usage: 2.8+ MB\n",
      "---------------\n",
      "Дубликатов: 0\n",
      "---------------\n",
      "Пропущенных значений id              0\n",
      "message_date    0\n",
      "user_id         0\n",
      "dtype: int64\n"
     ]
    }
   ],
   "source": [
    "table_info(messages)"
   ]
  },
  {
   "cell_type": "markdown",
   "metadata": {},
   "source": [
    "### Информация о таблице 'tariffs'"
   ]
  },
  {
   "cell_type": "code",
   "execution_count": 8,
   "metadata": {},
   "outputs": [
    {
     "data": {
      "text/html": [
       "<div>\n",
       "<style scoped>\n",
       "    .dataframe tbody tr th:only-of-type {\n",
       "        vertical-align: middle;\n",
       "    }\n",
       "\n",
       "    .dataframe tbody tr th {\n",
       "        vertical-align: top;\n",
       "    }\n",
       "\n",
       "    .dataframe thead th {\n",
       "        text-align: right;\n",
       "    }\n",
       "</style>\n",
       "<table border=\"1\" class=\"dataframe\">\n",
       "  <thead>\n",
       "    <tr style=\"text-align: right;\">\n",
       "      <th></th>\n",
       "      <th>messages_included</th>\n",
       "      <th>mb_per_month_included</th>\n",
       "      <th>minutes_included</th>\n",
       "      <th>rub_monthly_fee</th>\n",
       "      <th>rub_per_gb</th>\n",
       "      <th>rub_per_message</th>\n",
       "      <th>rub_per_minute</th>\n",
       "      <th>tariff_name</th>\n",
       "    </tr>\n",
       "  </thead>\n",
       "  <tbody>\n",
       "    <tr>\n",
       "      <th>0</th>\n",
       "      <td>50</td>\n",
       "      <td>15360</td>\n",
       "      <td>500</td>\n",
       "      <td>550</td>\n",
       "      <td>200</td>\n",
       "      <td>3</td>\n",
       "      <td>3</td>\n",
       "      <td>smart</td>\n",
       "    </tr>\n",
       "    <tr>\n",
       "      <th>1</th>\n",
       "      <td>1000</td>\n",
       "      <td>30720</td>\n",
       "      <td>3000</td>\n",
       "      <td>1950</td>\n",
       "      <td>150</td>\n",
       "      <td>1</td>\n",
       "      <td>1</td>\n",
       "      <td>ultra</td>\n",
       "    </tr>\n",
       "  </tbody>\n",
       "</table>\n",
       "</div>"
      ],
      "text/plain": [
       "   messages_included  mb_per_month_included  minutes_included  \\\n",
       "0                 50                  15360               500   \n",
       "1               1000                  30720              3000   \n",
       "\n",
       "   rub_monthly_fee  rub_per_gb  rub_per_message  rub_per_minute tariff_name  \n",
       "0              550         200                3               3       smart  \n",
       "1             1950         150                1               1       ultra  "
      ]
     },
     "metadata": {},
     "output_type": "display_data"
    }
   ],
   "source": [
    "display(tariffs)"
   ]
  },
  {
   "cell_type": "markdown",
   "metadata": {},
   "source": [
    "### Информация о таблице 'users'"
   ]
  },
  {
   "cell_type": "code",
   "execution_count": 9,
   "metadata": {
    "scrolled": false
   },
   "outputs": [
    {
     "data": {
      "text/html": [
       "<div>\n",
       "<style scoped>\n",
       "    .dataframe tbody tr th:only-of-type {\n",
       "        vertical-align: middle;\n",
       "    }\n",
       "\n",
       "    .dataframe tbody tr th {\n",
       "        vertical-align: top;\n",
       "    }\n",
       "\n",
       "    .dataframe thead th {\n",
       "        text-align: right;\n",
       "    }\n",
       "</style>\n",
       "<table border=\"1\" class=\"dataframe\">\n",
       "  <thead>\n",
       "    <tr style=\"text-align: right;\">\n",
       "      <th></th>\n",
       "      <th>user_id</th>\n",
       "      <th>age</th>\n",
       "      <th>churn_date</th>\n",
       "      <th>city</th>\n",
       "      <th>first_name</th>\n",
       "      <th>last_name</th>\n",
       "      <th>reg_date</th>\n",
       "      <th>tariff</th>\n",
       "    </tr>\n",
       "  </thead>\n",
       "  <tbody>\n",
       "    <tr>\n",
       "      <th>5</th>\n",
       "      <td>1005</td>\n",
       "      <td>67</td>\n",
       "      <td>NaN</td>\n",
       "      <td>Набережные Челны</td>\n",
       "      <td>Афанасий</td>\n",
       "      <td>Горлов</td>\n",
       "      <td>2018-01-25</td>\n",
       "      <td>smart</td>\n",
       "    </tr>\n",
       "    <tr>\n",
       "      <th>392</th>\n",
       "      <td>1392</td>\n",
       "      <td>54</td>\n",
       "      <td>2018-09-27</td>\n",
       "      <td>Челябинск</td>\n",
       "      <td>Алла</td>\n",
       "      <td>Беликова</td>\n",
       "      <td>2018-02-27</td>\n",
       "      <td>ultra</td>\n",
       "    </tr>\n",
       "    <tr>\n",
       "      <th>308</th>\n",
       "      <td>1308</td>\n",
       "      <td>52</td>\n",
       "      <td>NaN</td>\n",
       "      <td>Москва</td>\n",
       "      <td>Инесса</td>\n",
       "      <td>Корнилова</td>\n",
       "      <td>2018-01-04</td>\n",
       "      <td>smart</td>\n",
       "    </tr>\n",
       "    <tr>\n",
       "      <th>202</th>\n",
       "      <td>1202</td>\n",
       "      <td>22</td>\n",
       "      <td>NaN</td>\n",
       "      <td>Владивосток</td>\n",
       "      <td>Адам</td>\n",
       "      <td>Адаменко</td>\n",
       "      <td>2018-09-20</td>\n",
       "      <td>smart</td>\n",
       "    </tr>\n",
       "    <tr>\n",
       "      <th>255</th>\n",
       "      <td>1255</td>\n",
       "      <td>40</td>\n",
       "      <td>2018-09-02</td>\n",
       "      <td>Саранск</td>\n",
       "      <td>Серафима</td>\n",
       "      <td>Пономарева</td>\n",
       "      <td>2018-02-19</td>\n",
       "      <td>ultra</td>\n",
       "    </tr>\n",
       "    <tr>\n",
       "      <th>281</th>\n",
       "      <td>1281</td>\n",
       "      <td>62</td>\n",
       "      <td>NaN</td>\n",
       "      <td>Нижний Новгород</td>\n",
       "      <td>Сара</td>\n",
       "      <td>Зимина</td>\n",
       "      <td>2018-06-09</td>\n",
       "      <td>ultra</td>\n",
       "    </tr>\n",
       "    <tr>\n",
       "      <th>184</th>\n",
       "      <td>1184</td>\n",
       "      <td>21</td>\n",
       "      <td>NaN</td>\n",
       "      <td>Барнаул</td>\n",
       "      <td>Снежана</td>\n",
       "      <td>Тарасова</td>\n",
       "      <td>2018-09-03</td>\n",
       "      <td>smart</td>\n",
       "    </tr>\n",
       "    <tr>\n",
       "      <th>116</th>\n",
       "      <td>1116</td>\n",
       "      <td>65</td>\n",
       "      <td>NaN</td>\n",
       "      <td>Петрозаводск</td>\n",
       "      <td>Альберта</td>\n",
       "      <td>Шевцова</td>\n",
       "      <td>2018-04-17</td>\n",
       "      <td>smart</td>\n",
       "    </tr>\n",
       "    <tr>\n",
       "      <th>144</th>\n",
       "      <td>1144</td>\n",
       "      <td>65</td>\n",
       "      <td>NaN</td>\n",
       "      <td>Улан-Удэ</td>\n",
       "      <td>Ефим</td>\n",
       "      <td>Ефремов</td>\n",
       "      <td>2018-04-29</td>\n",
       "      <td>smart</td>\n",
       "    </tr>\n",
       "    <tr>\n",
       "      <th>143</th>\n",
       "      <td>1143</td>\n",
       "      <td>64</td>\n",
       "      <td>NaN</td>\n",
       "      <td>Пермь</td>\n",
       "      <td>Арсен</td>\n",
       "      <td>Покровский</td>\n",
       "      <td>2018-04-27</td>\n",
       "      <td>ultra</td>\n",
       "    </tr>\n",
       "  </tbody>\n",
       "</table>\n",
       "</div>"
      ],
      "text/plain": [
       "     user_id  age  churn_date              city first_name   last_name  \\\n",
       "5       1005   67         NaN  Набережные Челны   Афанасий      Горлов   \n",
       "392     1392   54  2018-09-27         Челябинск       Алла    Беликова   \n",
       "308     1308   52         NaN            Москва     Инесса   Корнилова   \n",
       "202     1202   22         NaN       Владивосток       Адам    Адаменко   \n",
       "255     1255   40  2018-09-02           Саранск   Серафима  Пономарева   \n",
       "281     1281   62         NaN   Нижний Новгород       Сара      Зимина   \n",
       "184     1184   21         NaN           Барнаул    Снежана    Тарасова   \n",
       "116     1116   65         NaN      Петрозаводск   Альберта     Шевцова   \n",
       "144     1144   65         NaN          Улан-Удэ       Ефим     Ефремов   \n",
       "143     1143   64         NaN             Пермь      Арсен  Покровский   \n",
       "\n",
       "       reg_date tariff  \n",
       "5    2018-01-25  smart  \n",
       "392  2018-02-27  ultra  \n",
       "308  2018-01-04  smart  \n",
       "202  2018-09-20  smart  \n",
       "255  2018-02-19  ultra  \n",
       "281  2018-06-09  ultra  \n",
       "184  2018-09-03  smart  \n",
       "116  2018-04-17  smart  \n",
       "144  2018-04-29  smart  \n",
       "143  2018-04-27  ultra  "
      ]
     },
     "metadata": {},
     "output_type": "display_data"
    },
    {
     "name": "stdout",
     "output_type": "stream",
     "text": [
      "---------------\n",
      "<class 'pandas.core.frame.DataFrame'>\n",
      "RangeIndex: 500 entries, 0 to 499\n",
      "Data columns (total 8 columns):\n",
      " #   Column      Non-Null Count  Dtype \n",
      "---  ------      --------------  ----- \n",
      " 0   user_id     500 non-null    int64 \n",
      " 1   age         500 non-null    int64 \n",
      " 2   churn_date  38 non-null     object\n",
      " 3   city        500 non-null    object\n",
      " 4   first_name  500 non-null    object\n",
      " 5   last_name   500 non-null    object\n",
      " 6   reg_date    500 non-null    object\n",
      " 7   tariff      500 non-null    object\n",
      "dtypes: int64(2), object(6)\n",
      "memory usage: 31.4+ KB\n",
      "---------------\n",
      "Дубликатов: 0\n",
      "---------------\n",
      "Пропущенных значений user_id         0\n",
      "age             0\n",
      "churn_date    462\n",
      "city            0\n",
      "first_name      0\n",
      "last_name       0\n",
      "reg_date        0\n",
      "tariff          0\n",
      "dtype: int64\n"
     ]
    }
   ],
   "source": [
    "table_info(users)"
   ]
  },
  {
   "cell_type": "markdown",
   "metadata": {},
   "source": [
    "### Вывод: \n",
    "- пропущенные значения только в таблице users столбец с данными об окончании использования тарифа; \n",
    "- необходимо изменить формат даты в таблицах;\n",
    "- дубликатов в таблицах нет;\n",
    "- в таблицах \"calls\" столбец \"duration\" и \"internet\" столбец \"mb_used\"  есть значени равные нулю. В первой таблице связано с пропущенными звонками, а во второй возможно с тем, что абонент не пользовался мобильным интернетом в данном месяце."
   ]
  },
  {
   "cell_type": "markdown",
   "metadata": {},
   "source": [
    "## Предобработка и подготовка "
   ]
  },
  {
   "cell_type": "markdown",
   "metadata": {},
   "source": [
    "Переведем даты в формат datetime."
   ]
  },
  {
   "cell_type": "code",
   "execution_count": 10,
   "metadata": {},
   "outputs": [],
   "source": [
    "calls['call_date'] = pd.to_datetime(calls['call_date'], format='%Y-%m-%d')\n",
    "internet['session_date'] = pd.to_datetime(internet['session_date'], format='%Y-%m-%d')\n",
    "messages['message_date'] = pd.to_datetime(messages['message_date'], format='%Y-%m-%d')\n",
    "users['reg_date'] = pd.to_datetime(users['reg_date'], format='%Y-%m-%d')"
   ]
  },
  {
   "cell_type": "markdown",
   "metadata": {},
   "source": [
    "Добавим столбец с месяцем в который совершенно действие."
   ]
  },
  {
   "cell_type": "code",
   "execution_count": 11,
   "metadata": {},
   "outputs": [],
   "source": [
    "calls['month'] = calls['call_date'].dt.month\n",
    "internet['month'] = internet['session_date'].dt.month\n",
    "messages['month'] = messages['message_date'].dt.month"
   ]
  },
  {
   "cell_type": "code",
   "execution_count": 12,
   "metadata": {
    "scrolled": false
   },
   "outputs": [
    {
     "data": {
      "text/html": [
       "<div>\n",
       "<style scoped>\n",
       "    .dataframe tbody tr th:only-of-type {\n",
       "        vertical-align: middle;\n",
       "    }\n",
       "\n",
       "    .dataframe tbody tr th {\n",
       "        vertical-align: top;\n",
       "    }\n",
       "\n",
       "    .dataframe thead th {\n",
       "        text-align: right;\n",
       "    }\n",
       "</style>\n",
       "<table border=\"1\" class=\"dataframe\">\n",
       "  <thead>\n",
       "    <tr style=\"text-align: right;\">\n",
       "      <th></th>\n",
       "      <th>user_id</th>\n",
       "      <th>age</th>\n",
       "      <th>churn_date</th>\n",
       "      <th>city</th>\n",
       "      <th>first_name</th>\n",
       "      <th>last_name</th>\n",
       "      <th>reg_date</th>\n",
       "      <th>tariff</th>\n",
       "      <th>reg_date_test</th>\n",
       "    </tr>\n",
       "  </thead>\n",
       "  <tbody>\n",
       "    <tr>\n",
       "      <th>0</th>\n",
       "      <td>1000</td>\n",
       "      <td>52</td>\n",
       "      <td>NaN</td>\n",
       "      <td>Краснодар</td>\n",
       "      <td>Рафаил</td>\n",
       "      <td>Верещагин</td>\n",
       "      <td>2018-05-25</td>\n",
       "      <td>ultra</td>\n",
       "      <td>2018-05-01</td>\n",
       "    </tr>\n",
       "    <tr>\n",
       "      <th>1</th>\n",
       "      <td>1001</td>\n",
       "      <td>41</td>\n",
       "      <td>NaN</td>\n",
       "      <td>Москва</td>\n",
       "      <td>Иван</td>\n",
       "      <td>Ежов</td>\n",
       "      <td>2018-11-01</td>\n",
       "      <td>smart</td>\n",
       "      <td>2018-11-01</td>\n",
       "    </tr>\n",
       "    <tr>\n",
       "      <th>2</th>\n",
       "      <td>1002</td>\n",
       "      <td>59</td>\n",
       "      <td>NaN</td>\n",
       "      <td>Стерлитамак</td>\n",
       "      <td>Евгений</td>\n",
       "      <td>Абрамович</td>\n",
       "      <td>2018-06-17</td>\n",
       "      <td>smart</td>\n",
       "      <td>2018-06-01</td>\n",
       "    </tr>\n",
       "    <tr>\n",
       "      <th>3</th>\n",
       "      <td>1003</td>\n",
       "      <td>23</td>\n",
       "      <td>NaN</td>\n",
       "      <td>Москва</td>\n",
       "      <td>Белла</td>\n",
       "      <td>Белякова</td>\n",
       "      <td>2018-08-17</td>\n",
       "      <td>ultra</td>\n",
       "      <td>2018-08-01</td>\n",
       "    </tr>\n",
       "    <tr>\n",
       "      <th>4</th>\n",
       "      <td>1004</td>\n",
       "      <td>68</td>\n",
       "      <td>NaN</td>\n",
       "      <td>Новокузнецк</td>\n",
       "      <td>Татьяна</td>\n",
       "      <td>Авдеенко</td>\n",
       "      <td>2018-05-14</td>\n",
       "      <td>ultra</td>\n",
       "      <td>2018-05-01</td>\n",
       "    </tr>\n",
       "  </tbody>\n",
       "</table>\n",
       "</div>"
      ],
      "text/plain": [
       "   user_id  age churn_date         city first_name  last_name   reg_date  \\\n",
       "0     1000   52        NaN    Краснодар     Рафаил  Верещагин 2018-05-25   \n",
       "1     1001   41        NaN       Москва       Иван       Ежов 2018-11-01   \n",
       "2     1002   59        NaN  Стерлитамак    Евгений  Абрамович 2018-06-17   \n",
       "3     1003   23        NaN       Москва      Белла   Белякова 2018-08-17   \n",
       "4     1004   68        NaN  Новокузнецк    Татьяна   Авдеенко 2018-05-14   \n",
       "\n",
       "  tariff reg_date_test  \n",
       "0  ultra    2018-05-01  \n",
       "1  smart    2018-11-01  \n",
       "2  smart    2018-06-01  \n",
       "3  ultra    2018-08-01  \n",
       "4  ultra    2018-05-01  "
      ]
     },
     "metadata": {},
     "output_type": "display_data"
    }
   ],
   "source": [
    "users['reg_date_test'] = users['reg_date'].astype('datetime64[M]')\n",
    "display(users.head())"
   ]
  },
  {
   "cell_type": "markdown",
   "metadata": {},
   "source": [
    "В таблице с тарифами перевожу мб в гб."
   ]
  },
  {
   "cell_type": "code",
   "execution_count": 13,
   "metadata": {
    "scrolled": true
   },
   "outputs": [
    {
     "data": {
      "text/html": [
       "<div>\n",
       "<style scoped>\n",
       "    .dataframe tbody tr th:only-of-type {\n",
       "        vertical-align: middle;\n",
       "    }\n",
       "\n",
       "    .dataframe tbody tr th {\n",
       "        vertical-align: top;\n",
       "    }\n",
       "\n",
       "    .dataframe thead th {\n",
       "        text-align: right;\n",
       "    }\n",
       "</style>\n",
       "<table border=\"1\" class=\"dataframe\">\n",
       "  <thead>\n",
       "    <tr style=\"text-align: right;\">\n",
       "      <th></th>\n",
       "      <th>messages_included</th>\n",
       "      <th>gb_per_month_included</th>\n",
       "      <th>minutes_included</th>\n",
       "      <th>rub_monthly_fee</th>\n",
       "      <th>rub_per_gb</th>\n",
       "      <th>rub_per_message</th>\n",
       "      <th>rub_per_minute</th>\n",
       "      <th>tariff_name</th>\n",
       "    </tr>\n",
       "  </thead>\n",
       "  <tbody>\n",
       "    <tr>\n",
       "      <th>0</th>\n",
       "      <td>50</td>\n",
       "      <td>15</td>\n",
       "      <td>500</td>\n",
       "      <td>550</td>\n",
       "      <td>200</td>\n",
       "      <td>3</td>\n",
       "      <td>3</td>\n",
       "      <td>smart</td>\n",
       "    </tr>\n",
       "    <tr>\n",
       "      <th>1</th>\n",
       "      <td>1000</td>\n",
       "      <td>30</td>\n",
       "      <td>3000</td>\n",
       "      <td>1950</td>\n",
       "      <td>150</td>\n",
       "      <td>1</td>\n",
       "      <td>1</td>\n",
       "      <td>ultra</td>\n",
       "    </tr>\n",
       "  </tbody>\n",
       "</table>\n",
       "</div>"
      ],
      "text/plain": [
       "   messages_included  gb_per_month_included  minutes_included  \\\n",
       "0                 50                     15               500   \n",
       "1               1000                     30              3000   \n",
       "\n",
       "   rub_monthly_fee  rub_per_gb  rub_per_message  rub_per_minute tariff_name  \n",
       "0              550         200                3               3       smart  \n",
       "1             1950         150                1               1       ultra  "
      ]
     },
     "metadata": {},
     "output_type": "display_data"
    }
   ],
   "source": [
    "tariffs['mb_per_month_included'] = (tariffs['mb_per_month_included'] / 1024).astype('int')\n",
    "tariffs = tariffs.rename(columns={'mb_per_month_included':'gb_per_month_included'})\n",
    "display(tariffs)"
   ]
  },
  {
   "cell_type": "markdown",
   "metadata": {},
   "source": [
    "В таблице `tariffs` переименуем столбец `tariff_name` в `tariff`. В будующем по этому столбцу будем объединять."
   ]
  },
  {
   "cell_type": "code",
   "execution_count": 14,
   "metadata": {},
   "outputs": [
    {
     "data": {
      "text/html": [
       "<div>\n",
       "<style scoped>\n",
       "    .dataframe tbody tr th:only-of-type {\n",
       "        vertical-align: middle;\n",
       "    }\n",
       "\n",
       "    .dataframe tbody tr th {\n",
       "        vertical-align: top;\n",
       "    }\n",
       "\n",
       "    .dataframe thead th {\n",
       "        text-align: right;\n",
       "    }\n",
       "</style>\n",
       "<table border=\"1\" class=\"dataframe\">\n",
       "  <thead>\n",
       "    <tr style=\"text-align: right;\">\n",
       "      <th></th>\n",
       "      <th>messages_included</th>\n",
       "      <th>gb_per_month_included</th>\n",
       "      <th>minutes_included</th>\n",
       "      <th>rub_monthly_fee</th>\n",
       "      <th>rub_per_gb</th>\n",
       "      <th>rub_per_message</th>\n",
       "      <th>rub_per_minute</th>\n",
       "      <th>tariff</th>\n",
       "    </tr>\n",
       "  </thead>\n",
       "  <tbody>\n",
       "    <tr>\n",
       "      <th>0</th>\n",
       "      <td>50</td>\n",
       "      <td>15</td>\n",
       "      <td>500</td>\n",
       "      <td>550</td>\n",
       "      <td>200</td>\n",
       "      <td>3</td>\n",
       "      <td>3</td>\n",
       "      <td>smart</td>\n",
       "    </tr>\n",
       "    <tr>\n",
       "      <th>1</th>\n",
       "      <td>1000</td>\n",
       "      <td>30</td>\n",
       "      <td>3000</td>\n",
       "      <td>1950</td>\n",
       "      <td>150</td>\n",
       "      <td>1</td>\n",
       "      <td>1</td>\n",
       "      <td>ultra</td>\n",
       "    </tr>\n",
       "  </tbody>\n",
       "</table>\n",
       "</div>"
      ],
      "text/plain": [
       "   messages_included  gb_per_month_included  minutes_included  \\\n",
       "0                 50                     15               500   \n",
       "1               1000                     30              3000   \n",
       "\n",
       "   rub_monthly_fee  rub_per_gb  rub_per_message  rub_per_minute tariff  \n",
       "0              550         200                3               3  smart  \n",
       "1             1950         150                1               1  ultra  "
      ]
     },
     "metadata": {},
     "output_type": "display_data"
    }
   ],
   "source": [
    "tariffs = tariffs.rename(columns={'tariff_name':'tariff'})\n",
    "display(tariffs)"
   ]
  },
  {
   "cell_type": "markdown",
   "metadata": {},
   "source": [
    "### Tаблица 'calls'"
   ]
  },
  {
   "cell_type": "markdown",
   "metadata": {},
   "source": [
    "Компания округляет время потраченое на общение в большую сторону- округлим в таблице calls длительность звонков."
   ]
  },
  {
   "cell_type": "code",
   "execution_count": 15,
   "metadata": {
    "scrolled": true
   },
   "outputs": [
    {
     "data": {
      "text/html": [
       "<div>\n",
       "<style scoped>\n",
       "    .dataframe tbody tr th:only-of-type {\n",
       "        vertical-align: middle;\n",
       "    }\n",
       "\n",
       "    .dataframe tbody tr th {\n",
       "        vertical-align: top;\n",
       "    }\n",
       "\n",
       "    .dataframe thead th {\n",
       "        text-align: right;\n",
       "    }\n",
       "</style>\n",
       "<table border=\"1\" class=\"dataframe\">\n",
       "  <thead>\n",
       "    <tr style=\"text-align: right;\">\n",
       "      <th></th>\n",
       "      <th>id</th>\n",
       "      <th>call_date</th>\n",
       "      <th>duration</th>\n",
       "      <th>user_id</th>\n",
       "      <th>month</th>\n",
       "    </tr>\n",
       "  </thead>\n",
       "  <tbody>\n",
       "    <tr>\n",
       "      <th>0</th>\n",
       "      <td>1000_0</td>\n",
       "      <td>2018-07-25</td>\n",
       "      <td>0</td>\n",
       "      <td>1000</td>\n",
       "      <td>7</td>\n",
       "    </tr>\n",
       "    <tr>\n",
       "      <th>1</th>\n",
       "      <td>1000_1</td>\n",
       "      <td>2018-08-17</td>\n",
       "      <td>0</td>\n",
       "      <td>1000</td>\n",
       "      <td>8</td>\n",
       "    </tr>\n",
       "    <tr>\n",
       "      <th>2</th>\n",
       "      <td>1000_2</td>\n",
       "      <td>2018-06-11</td>\n",
       "      <td>3</td>\n",
       "      <td>1000</td>\n",
       "      <td>6</td>\n",
       "    </tr>\n",
       "    <tr>\n",
       "      <th>3</th>\n",
       "      <td>1000_3</td>\n",
       "      <td>2018-09-21</td>\n",
       "      <td>14</td>\n",
       "      <td>1000</td>\n",
       "      <td>9</td>\n",
       "    </tr>\n",
       "    <tr>\n",
       "      <th>4</th>\n",
       "      <td>1000_4</td>\n",
       "      <td>2018-12-15</td>\n",
       "      <td>6</td>\n",
       "      <td>1000</td>\n",
       "      <td>12</td>\n",
       "    </tr>\n",
       "  </tbody>\n",
       "</table>\n",
       "</div>"
      ],
      "text/plain": [
       "       id  call_date  duration  user_id  month\n",
       "0  1000_0 2018-07-25         0     1000      7\n",
       "1  1000_1 2018-08-17         0     1000      8\n",
       "2  1000_2 2018-06-11         3     1000      6\n",
       "3  1000_3 2018-09-21        14     1000      9\n",
       "4  1000_4 2018-12-15         6     1000     12"
      ]
     },
     "metadata": {},
     "output_type": "display_data"
    }
   ],
   "source": [
    "calls['duration'] = np.ceil(calls['duration']).astype('int')\n",
    "display(calls.head())"
   ]
  },
  {
   "cell_type": "markdown",
   "metadata": {},
   "source": [
    "В столбце \"duration\" есть значения равные 0, они обозначают входящие пропущенные звонки. При подсчете общего количества звонков дадут неверное значение."
   ]
  },
  {
   "cell_type": "code",
   "execution_count": 16,
   "metadata": {},
   "outputs": [
    {
     "name": "stdout",
     "output_type": "stream",
     "text": [
      "39613\n"
     ]
    }
   ],
   "source": [
    "zero_count = 0\n",
    "for i in calls['duration']:\n",
    "    if i == 0:\n",
    "        zero_count += 1\n",
    "print(zero_count)"
   ]
  },
  {
   "cell_type": "markdown",
   "metadata": {},
   "source": [
    "Выделю в отдельную таблицу строки с длительностью звонка больше 0 и по этим данным построю сводную таблицу с количеством и продолжительностью звонков в месяц по каждому пользователю"
   ]
  },
  {
   "cell_type": "code",
   "execution_count": 17,
   "metadata": {
    "scrolled": true
   },
   "outputs": [
    {
     "data": {
      "text/html": [
       "<div>\n",
       "<style scoped>\n",
       "    .dataframe tbody tr th:only-of-type {\n",
       "        vertical-align: middle;\n",
       "    }\n",
       "\n",
       "    .dataframe tbody tr th {\n",
       "        vertical-align: top;\n",
       "    }\n",
       "\n",
       "    .dataframe thead tr th {\n",
       "        text-align: left;\n",
       "    }\n",
       "</style>\n",
       "<table border=\"1\" class=\"dataframe\">\n",
       "  <thead>\n",
       "    <tr>\n",
       "      <th></th>\n",
       "      <th>user_id</th>\n",
       "      <th>month</th>\n",
       "      <th>sum</th>\n",
       "      <th>count</th>\n",
       "    </tr>\n",
       "    <tr>\n",
       "      <th></th>\n",
       "      <th></th>\n",
       "      <th></th>\n",
       "      <th>duration</th>\n",
       "      <th>duration</th>\n",
       "    </tr>\n",
       "  </thead>\n",
       "  <tbody>\n",
       "    <tr>\n",
       "      <th>0</th>\n",
       "      <td>1000</td>\n",
       "      <td>5</td>\n",
       "      <td>159</td>\n",
       "      <td>17</td>\n",
       "    </tr>\n",
       "    <tr>\n",
       "      <th>1</th>\n",
       "      <td>1000</td>\n",
       "      <td>6</td>\n",
       "      <td>172</td>\n",
       "      <td>28</td>\n",
       "    </tr>\n",
       "    <tr>\n",
       "      <th>2</th>\n",
       "      <td>1000</td>\n",
       "      <td>7</td>\n",
       "      <td>340</td>\n",
       "      <td>41</td>\n",
       "    </tr>\n",
       "    <tr>\n",
       "      <th>3</th>\n",
       "      <td>1000</td>\n",
       "      <td>8</td>\n",
       "      <td>408</td>\n",
       "      <td>42</td>\n",
       "    </tr>\n",
       "    <tr>\n",
       "      <th>4</th>\n",
       "      <td>1000</td>\n",
       "      <td>9</td>\n",
       "      <td>466</td>\n",
       "      <td>46</td>\n",
       "    </tr>\n",
       "  </tbody>\n",
       "</table>\n",
       "</div>"
      ],
      "text/plain": [
       "  user_id month      sum    count\n",
       "                duration duration\n",
       "0    1000     5      159       17\n",
       "1    1000     6      172       28\n",
       "2    1000     7      340       41\n",
       "3    1000     8      408       42\n",
       "4    1000     9      466       46"
      ]
     },
     "metadata": {},
     "output_type": "display_data"
    }
   ],
   "source": [
    "calls_pivot = calls.query('duration > 0')\n",
    "calls_pivot = calls_pivot.pivot_table(index=['user_id','month'], values='duration', aggfunc=['sum', 'count']).reset_index()\n",
    "display(calls_pivot.head())"
   ]
  },
  {
   "cell_type": "markdown",
   "metadata": {},
   "source": [
    "Изменим название столбцов."
   ]
  },
  {
   "cell_type": "code",
   "execution_count": 18,
   "metadata": {
    "scrolled": false
   },
   "outputs": [
    {
     "data": {
      "text/html": [
       "<div>\n",
       "<style scoped>\n",
       "    .dataframe tbody tr th:only-of-type {\n",
       "        vertical-align: middle;\n",
       "    }\n",
       "\n",
       "    .dataframe tbody tr th {\n",
       "        vertical-align: top;\n",
       "    }\n",
       "\n",
       "    .dataframe thead th {\n",
       "        text-align: right;\n",
       "    }\n",
       "</style>\n",
       "<table border=\"1\" class=\"dataframe\">\n",
       "  <thead>\n",
       "    <tr style=\"text-align: right;\">\n",
       "      <th></th>\n",
       "      <th>user_id</th>\n",
       "      <th>month</th>\n",
       "      <th>minutes_used</th>\n",
       "      <th>count_calls</th>\n",
       "    </tr>\n",
       "  </thead>\n",
       "  <tbody>\n",
       "    <tr>\n",
       "      <th>0</th>\n",
       "      <td>1000</td>\n",
       "      <td>5</td>\n",
       "      <td>159</td>\n",
       "      <td>17</td>\n",
       "    </tr>\n",
       "    <tr>\n",
       "      <th>1</th>\n",
       "      <td>1000</td>\n",
       "      <td>6</td>\n",
       "      <td>172</td>\n",
       "      <td>28</td>\n",
       "    </tr>\n",
       "    <tr>\n",
       "      <th>2</th>\n",
       "      <td>1000</td>\n",
       "      <td>7</td>\n",
       "      <td>340</td>\n",
       "      <td>41</td>\n",
       "    </tr>\n",
       "    <tr>\n",
       "      <th>3</th>\n",
       "      <td>1000</td>\n",
       "      <td>8</td>\n",
       "      <td>408</td>\n",
       "      <td>42</td>\n",
       "    </tr>\n",
       "    <tr>\n",
       "      <th>4</th>\n",
       "      <td>1000</td>\n",
       "      <td>9</td>\n",
       "      <td>466</td>\n",
       "      <td>46</td>\n",
       "    </tr>\n",
       "  </tbody>\n",
       "</table>\n",
       "</div>"
      ],
      "text/plain": [
       "   user_id  month  minutes_used  count_calls\n",
       "0     1000      5           159           17\n",
       "1     1000      6           172           28\n",
       "2     1000      7           340           41\n",
       "3     1000      8           408           42\n",
       "4     1000      9           466           46"
      ]
     },
     "metadata": {},
     "output_type": "display_data"
    }
   ],
   "source": [
    "calls_pivot.columns = ['user_id', 'month','minutes_used','count_calls']\n",
    "display(calls_pivot.head())"
   ]
  },
  {
   "cell_type": "markdown",
   "metadata": {},
   "source": [
    "### Tаблица 'messages'"
   ]
  },
  {
   "cell_type": "markdown",
   "metadata": {},
   "source": [
    "Сводная таблица по отправленным сообщениям по месяцам."
   ]
  },
  {
   "cell_type": "code",
   "execution_count": 19,
   "metadata": {
    "scrolled": true
   },
   "outputs": [
    {
     "data": {
      "text/html": [
       "<div>\n",
       "<style scoped>\n",
       "    .dataframe tbody tr th:only-of-type {\n",
       "        vertical-align: middle;\n",
       "    }\n",
       "\n",
       "    .dataframe tbody tr th {\n",
       "        vertical-align: top;\n",
       "    }\n",
       "\n",
       "    .dataframe thead tr th {\n",
       "        text-align: left;\n",
       "    }\n",
       "</style>\n",
       "<table border=\"1\" class=\"dataframe\">\n",
       "  <thead>\n",
       "    <tr>\n",
       "      <th></th>\n",
       "      <th>user_id</th>\n",
       "      <th>month</th>\n",
       "      <th>count</th>\n",
       "    </tr>\n",
       "    <tr>\n",
       "      <th></th>\n",
       "      <th></th>\n",
       "      <th></th>\n",
       "      <th>id</th>\n",
       "    </tr>\n",
       "  </thead>\n",
       "  <tbody>\n",
       "    <tr>\n",
       "      <th>0</th>\n",
       "      <td>1000</td>\n",
       "      <td>5</td>\n",
       "      <td>22</td>\n",
       "    </tr>\n",
       "    <tr>\n",
       "      <th>1</th>\n",
       "      <td>1000</td>\n",
       "      <td>6</td>\n",
       "      <td>60</td>\n",
       "    </tr>\n",
       "    <tr>\n",
       "      <th>2</th>\n",
       "      <td>1000</td>\n",
       "      <td>7</td>\n",
       "      <td>75</td>\n",
       "    </tr>\n",
       "    <tr>\n",
       "      <th>3</th>\n",
       "      <td>1000</td>\n",
       "      <td>8</td>\n",
       "      <td>81</td>\n",
       "    </tr>\n",
       "    <tr>\n",
       "      <th>4</th>\n",
       "      <td>1000</td>\n",
       "      <td>9</td>\n",
       "      <td>57</td>\n",
       "    </tr>\n",
       "  </tbody>\n",
       "</table>\n",
       "</div>"
      ],
      "text/plain": [
       "  user_id month count\n",
       "                   id\n",
       "0    1000     5    22\n",
       "1    1000     6    60\n",
       "2    1000     7    75\n",
       "3    1000     8    81\n",
       "4    1000     9    57"
      ]
     },
     "metadata": {},
     "output_type": "display_data"
    }
   ],
   "source": [
    "messages_pivot = messages.pivot_table(index=['user_id','month'], values='id', aggfunc=['count']).reset_index()\n",
    "display(messages_pivot.head())"
   ]
  },
  {
   "cell_type": "markdown",
   "metadata": {},
   "source": [
    "Изменим названия столбцов."
   ]
  },
  {
   "cell_type": "code",
   "execution_count": 20,
   "metadata": {
    "scrolled": true
   },
   "outputs": [
    {
     "data": {
      "text/html": [
       "<div>\n",
       "<style scoped>\n",
       "    .dataframe tbody tr th:only-of-type {\n",
       "        vertical-align: middle;\n",
       "    }\n",
       "\n",
       "    .dataframe tbody tr th {\n",
       "        vertical-align: top;\n",
       "    }\n",
       "\n",
       "    .dataframe thead th {\n",
       "        text-align: right;\n",
       "    }\n",
       "</style>\n",
       "<table border=\"1\" class=\"dataframe\">\n",
       "  <thead>\n",
       "    <tr style=\"text-align: right;\">\n",
       "      <th></th>\n",
       "      <th>user_id</th>\n",
       "      <th>month</th>\n",
       "      <th>messages_used</th>\n",
       "    </tr>\n",
       "  </thead>\n",
       "  <tbody>\n",
       "    <tr>\n",
       "      <th>0</th>\n",
       "      <td>1000</td>\n",
       "      <td>5</td>\n",
       "      <td>22</td>\n",
       "    </tr>\n",
       "    <tr>\n",
       "      <th>1</th>\n",
       "      <td>1000</td>\n",
       "      <td>6</td>\n",
       "      <td>60</td>\n",
       "    </tr>\n",
       "    <tr>\n",
       "      <th>2</th>\n",
       "      <td>1000</td>\n",
       "      <td>7</td>\n",
       "      <td>75</td>\n",
       "    </tr>\n",
       "    <tr>\n",
       "      <th>3</th>\n",
       "      <td>1000</td>\n",
       "      <td>8</td>\n",
       "      <td>81</td>\n",
       "    </tr>\n",
       "    <tr>\n",
       "      <th>4</th>\n",
       "      <td>1000</td>\n",
       "      <td>9</td>\n",
       "      <td>57</td>\n",
       "    </tr>\n",
       "  </tbody>\n",
       "</table>\n",
       "</div>"
      ],
      "text/plain": [
       "   user_id  month  messages_used\n",
       "0     1000      5             22\n",
       "1     1000      6             60\n",
       "2     1000      7             75\n",
       "3     1000      8             81\n",
       "4     1000      9             57"
      ]
     },
     "metadata": {},
     "output_type": "display_data"
    }
   ],
   "source": [
    "messages_pivot.columns = ['user_id', 'month','messages_used']\n",
    "display(messages_pivot.head())"
   ]
  },
  {
   "cell_type": "markdown",
   "metadata": {},
   "source": [
    "### Таблица 'internet'"
   ]
  },
  {
   "cell_type": "markdown",
   "metadata": {},
   "source": [
    "Изменим названия столбцов."
   ]
  },
  {
   "cell_type": "code",
   "execution_count": 21,
   "metadata": {
    "scrolled": false
   },
   "outputs": [
    {
     "data": {
      "text/html": [
       "<div>\n",
       "<style scoped>\n",
       "    .dataframe tbody tr th:only-of-type {\n",
       "        vertical-align: middle;\n",
       "    }\n",
       "\n",
       "    .dataframe tbody tr th {\n",
       "        vertical-align: top;\n",
       "    }\n",
       "\n",
       "    .dataframe thead th {\n",
       "        text-align: right;\n",
       "    }\n",
       "</style>\n",
       "<table border=\"1\" class=\"dataframe\">\n",
       "  <thead>\n",
       "    <tr style=\"text-align: right;\">\n",
       "      <th></th>\n",
       "      <th>Unnamed: 0</th>\n",
       "      <th>id</th>\n",
       "      <th>gb_used</th>\n",
       "      <th>session_date</th>\n",
       "      <th>user_id</th>\n",
       "      <th>month</th>\n",
       "    </tr>\n",
       "  </thead>\n",
       "  <tbody>\n",
       "    <tr>\n",
       "      <th>0</th>\n",
       "      <td>0</td>\n",
       "      <td>1000_0</td>\n",
       "      <td>112.95</td>\n",
       "      <td>2018-11-25</td>\n",
       "      <td>1000</td>\n",
       "      <td>11</td>\n",
       "    </tr>\n",
       "    <tr>\n",
       "      <th>1</th>\n",
       "      <td>1</td>\n",
       "      <td>1000_1</td>\n",
       "      <td>1052.81</td>\n",
       "      <td>2018-09-07</td>\n",
       "      <td>1000</td>\n",
       "      <td>9</td>\n",
       "    </tr>\n",
       "    <tr>\n",
       "      <th>2</th>\n",
       "      <td>2</td>\n",
       "      <td>1000_2</td>\n",
       "      <td>1197.26</td>\n",
       "      <td>2018-06-25</td>\n",
       "      <td>1000</td>\n",
       "      <td>6</td>\n",
       "    </tr>\n",
       "    <tr>\n",
       "      <th>3</th>\n",
       "      <td>3</td>\n",
       "      <td>1000_3</td>\n",
       "      <td>550.27</td>\n",
       "      <td>2018-08-22</td>\n",
       "      <td>1000</td>\n",
       "      <td>8</td>\n",
       "    </tr>\n",
       "    <tr>\n",
       "      <th>4</th>\n",
       "      <td>4</td>\n",
       "      <td>1000_4</td>\n",
       "      <td>302.56</td>\n",
       "      <td>2018-09-24</td>\n",
       "      <td>1000</td>\n",
       "      <td>9</td>\n",
       "    </tr>\n",
       "  </tbody>\n",
       "</table>\n",
       "</div>"
      ],
      "text/plain": [
       "   Unnamed: 0      id  gb_used session_date  user_id  month\n",
       "0           0  1000_0   112.95   2018-11-25     1000     11\n",
       "1           1  1000_1  1052.81   2018-09-07     1000      9\n",
       "2           2  1000_2  1197.26   2018-06-25     1000      6\n",
       "3           3  1000_3   550.27   2018-08-22     1000      8\n",
       "4           4  1000_4   302.56   2018-09-24     1000      9"
      ]
     },
     "metadata": {},
     "output_type": "display_data"
    }
   ],
   "source": [
    "internet = internet.rename(columns={'mb_used':'gb_used'})\n",
    "display(internet.head())"
   ]
  },
  {
   "cell_type": "markdown",
   "metadata": {},
   "source": [
    "Сводная таблица по израсходованному интернет-трафику за месяц."
   ]
  },
  {
   "cell_type": "code",
   "execution_count": 22,
   "metadata": {
    "scrolled": false
   },
   "outputs": [
    {
     "data": {
      "text/html": [
       "<div>\n",
       "<style scoped>\n",
       "    .dataframe tbody tr th:only-of-type {\n",
       "        vertical-align: middle;\n",
       "    }\n",
       "\n",
       "    .dataframe tbody tr th {\n",
       "        vertical-align: top;\n",
       "    }\n",
       "\n",
       "    .dataframe thead th {\n",
       "        text-align: right;\n",
       "    }\n",
       "</style>\n",
       "<table border=\"1\" class=\"dataframe\">\n",
       "  <thead>\n",
       "    <tr style=\"text-align: right;\">\n",
       "      <th></th>\n",
       "      <th>user_id</th>\n",
       "      <th>month</th>\n",
       "      <th>gb_used</th>\n",
       "    </tr>\n",
       "  </thead>\n",
       "  <tbody>\n",
       "    <tr>\n",
       "      <th>0</th>\n",
       "      <td>1000</td>\n",
       "      <td>5</td>\n",
       "      <td>2253.49</td>\n",
       "    </tr>\n",
       "    <tr>\n",
       "      <th>1</th>\n",
       "      <td>1000</td>\n",
       "      <td>6</td>\n",
       "      <td>23233.77</td>\n",
       "    </tr>\n",
       "    <tr>\n",
       "      <th>2</th>\n",
       "      <td>1000</td>\n",
       "      <td>7</td>\n",
       "      <td>14003.64</td>\n",
       "    </tr>\n",
       "    <tr>\n",
       "      <th>3</th>\n",
       "      <td>1000</td>\n",
       "      <td>8</td>\n",
       "      <td>14055.93</td>\n",
       "    </tr>\n",
       "    <tr>\n",
       "      <th>4</th>\n",
       "      <td>1000</td>\n",
       "      <td>9</td>\n",
       "      <td>14568.91</td>\n",
       "    </tr>\n",
       "  </tbody>\n",
       "</table>\n",
       "</div>"
      ],
      "text/plain": [
       "   user_id  month   gb_used\n",
       "0     1000      5   2253.49\n",
       "1     1000      6  23233.77\n",
       "2     1000      7  14003.64\n",
       "3     1000      8  14055.93\n",
       "4     1000      9  14568.91"
      ]
     },
     "metadata": {},
     "output_type": "display_data"
    }
   ],
   "source": [
    "internet_pivot = internet.pivot_table(index=['user_id','month'], values='gb_used', aggfunc='sum').reset_index()\n",
    "display(internet_pivot.head())"
   ]
  },
  {
   "cell_type": "markdown",
   "metadata": {},
   "source": [
    "Оператор округляет мегобайты до гб в большую сторону- переведем значения internet['mb_used'] в гб."
   ]
  },
  {
   "cell_type": "code",
   "execution_count": 23,
   "metadata": {
    "scrolled": true
   },
   "outputs": [
    {
     "data": {
      "text/html": [
       "<div>\n",
       "<style scoped>\n",
       "    .dataframe tbody tr th:only-of-type {\n",
       "        vertical-align: middle;\n",
       "    }\n",
       "\n",
       "    .dataframe tbody tr th {\n",
       "        vertical-align: top;\n",
       "    }\n",
       "\n",
       "    .dataframe thead th {\n",
       "        text-align: right;\n",
       "    }\n",
       "</style>\n",
       "<table border=\"1\" class=\"dataframe\">\n",
       "  <thead>\n",
       "    <tr style=\"text-align: right;\">\n",
       "      <th></th>\n",
       "      <th>user_id</th>\n",
       "      <th>month</th>\n",
       "      <th>gb_used</th>\n",
       "    </tr>\n",
       "  </thead>\n",
       "  <tbody>\n",
       "    <tr>\n",
       "      <th>0</th>\n",
       "      <td>1000</td>\n",
       "      <td>5</td>\n",
       "      <td>3.0</td>\n",
       "    </tr>\n",
       "    <tr>\n",
       "      <th>1</th>\n",
       "      <td>1000</td>\n",
       "      <td>6</td>\n",
       "      <td>23.0</td>\n",
       "    </tr>\n",
       "    <tr>\n",
       "      <th>2</th>\n",
       "      <td>1000</td>\n",
       "      <td>7</td>\n",
       "      <td>14.0</td>\n",
       "    </tr>\n",
       "    <tr>\n",
       "      <th>3</th>\n",
       "      <td>1000</td>\n",
       "      <td>8</td>\n",
       "      <td>14.0</td>\n",
       "    </tr>\n",
       "    <tr>\n",
       "      <th>4</th>\n",
       "      <td>1000</td>\n",
       "      <td>9</td>\n",
       "      <td>15.0</td>\n",
       "    </tr>\n",
       "  </tbody>\n",
       "</table>\n",
       "</div>"
      ],
      "text/plain": [
       "   user_id  month  gb_used\n",
       "0     1000      5      3.0\n",
       "1     1000      6     23.0\n",
       "2     1000      7     14.0\n",
       "3     1000      8     14.0\n",
       "4     1000      9     15.0"
      ]
     },
     "metadata": {},
     "output_type": "display_data"
    }
   ],
   "source": [
    "internet_pivot['gb_used'] = np.ceil(internet_pivot['gb_used'] / 1024)\n",
    "display(internet_pivot.head())"
   ]
  },
  {
   "cell_type": "markdown",
   "metadata": {},
   "source": [
    "### Общая таблица"
   ]
  },
  {
   "cell_type": "code",
   "execution_count": 24,
   "metadata": {
    "scrolled": true
   },
   "outputs": [
    {
     "name": "stdout",
     "output_type": "stream",
     "text": [
      "<class 'pandas.core.frame.DataFrame'>\n",
      "Int64Index: 3214 entries, 0 to 3213\n",
      "Data columns (total 21 columns):\n",
      " #   Column                 Non-Null Count  Dtype         \n",
      "---  ------                 --------------  -----         \n",
      " 0   user_id                3214 non-null   int64         \n",
      " 1   month                  3214 non-null   int64         \n",
      " 2   minutes_used           3168 non-null   float64       \n",
      " 3   count_calls            3168 non-null   float64       \n",
      " 4   gb_used                3203 non-null   float64       \n",
      " 5   messages_used          2717 non-null   float64       \n",
      " 6   age                    3214 non-null   int64         \n",
      " 7   churn_date             187 non-null    object        \n",
      " 8   city                   3214 non-null   object        \n",
      " 9   first_name             3214 non-null   object        \n",
      " 10  last_name              3214 non-null   object        \n",
      " 11  reg_date               3214 non-null   datetime64[ns]\n",
      " 12  tariff                 3214 non-null   object        \n",
      " 13  reg_date_test          3214 non-null   datetime64[ns]\n",
      " 14  messages_included      3214 non-null   int64         \n",
      " 15  gb_per_month_included  3214 non-null   int64         \n",
      " 16  minutes_included       3214 non-null   int64         \n",
      " 17  rub_monthly_fee        3214 non-null   int64         \n",
      " 18  rub_per_gb             3214 non-null   int64         \n",
      " 19  rub_per_message        3214 non-null   int64         \n",
      " 20  rub_per_minute         3214 non-null   int64         \n",
      "dtypes: datetime64[ns](2), float64(4), int64(10), object(5)\n",
      "memory usage: 552.4+ KB\n"
     ]
    }
   ],
   "source": [
    "data_frames = [calls_pivot, internet_pivot, messages_pivot]\n",
    "general_table = reduce(lambda left,right: pd.merge(left,right,on=['user_id','month'], how='outer'), data_frames)\n",
    "general_table = general_table.merge(users, on='user_id',how='left')\n",
    "general_table = general_table.merge(tariffs, on='tariff',how='left')\n",
    "general_table.info()"
   ]
  },
  {
   "cell_type": "markdown",
   "metadata": {},
   "source": [
    "Подсчет перерасхода."
   ]
  },
  {
   "cell_type": "code",
   "execution_count": 25,
   "metadata": {},
   "outputs": [
    {
     "data": {
      "text/html": [
       "<div>\n",
       "<style scoped>\n",
       "    .dataframe tbody tr th:only-of-type {\n",
       "        vertical-align: middle;\n",
       "    }\n",
       "\n",
       "    .dataframe tbody tr th {\n",
       "        vertical-align: top;\n",
       "    }\n",
       "\n",
       "    .dataframe thead th {\n",
       "        text-align: right;\n",
       "    }\n",
       "</style>\n",
       "<table border=\"1\" class=\"dataframe\">\n",
       "  <thead>\n",
       "    <tr style=\"text-align: right;\">\n",
       "      <th></th>\n",
       "      <th>user_id</th>\n",
       "      <th>month</th>\n",
       "      <th>minutes_used</th>\n",
       "      <th>count_calls</th>\n",
       "      <th>gb_used</th>\n",
       "      <th>messages_used</th>\n",
       "      <th>age</th>\n",
       "      <th>churn_date</th>\n",
       "      <th>city</th>\n",
       "      <th>first_name</th>\n",
       "      <th>...</th>\n",
       "      <th>messages_included</th>\n",
       "      <th>gb_per_month_included</th>\n",
       "      <th>minutes_included</th>\n",
       "      <th>rub_monthly_fee</th>\n",
       "      <th>rub_per_gb</th>\n",
       "      <th>rub_per_message</th>\n",
       "      <th>rub_per_minute</th>\n",
       "      <th>calls_overspending</th>\n",
       "      <th>gb_overspending</th>\n",
       "      <th>messages_overspending</th>\n",
       "    </tr>\n",
       "  </thead>\n",
       "  <tbody>\n",
       "    <tr>\n",
       "      <th>0</th>\n",
       "      <td>1000</td>\n",
       "      <td>5</td>\n",
       "      <td>159.0</td>\n",
       "      <td>17.0</td>\n",
       "      <td>3.0</td>\n",
       "      <td>22.0</td>\n",
       "      <td>52</td>\n",
       "      <td>NaN</td>\n",
       "      <td>Краснодар</td>\n",
       "      <td>Рафаил</td>\n",
       "      <td>...</td>\n",
       "      <td>1000</td>\n",
       "      <td>30</td>\n",
       "      <td>3000</td>\n",
       "      <td>1950</td>\n",
       "      <td>150</td>\n",
       "      <td>1</td>\n",
       "      <td>1</td>\n",
       "      <td>-2841.0</td>\n",
       "      <td>-27.0</td>\n",
       "      <td>-978.0</td>\n",
       "    </tr>\n",
       "    <tr>\n",
       "      <th>1</th>\n",
       "      <td>1000</td>\n",
       "      <td>6</td>\n",
       "      <td>172.0</td>\n",
       "      <td>28.0</td>\n",
       "      <td>23.0</td>\n",
       "      <td>60.0</td>\n",
       "      <td>52</td>\n",
       "      <td>NaN</td>\n",
       "      <td>Краснодар</td>\n",
       "      <td>Рафаил</td>\n",
       "      <td>...</td>\n",
       "      <td>1000</td>\n",
       "      <td>30</td>\n",
       "      <td>3000</td>\n",
       "      <td>1950</td>\n",
       "      <td>150</td>\n",
       "      <td>1</td>\n",
       "      <td>1</td>\n",
       "      <td>-2828.0</td>\n",
       "      <td>-7.0</td>\n",
       "      <td>-940.0</td>\n",
       "    </tr>\n",
       "    <tr>\n",
       "      <th>2</th>\n",
       "      <td>1000</td>\n",
       "      <td>7</td>\n",
       "      <td>340.0</td>\n",
       "      <td>41.0</td>\n",
       "      <td>14.0</td>\n",
       "      <td>75.0</td>\n",
       "      <td>52</td>\n",
       "      <td>NaN</td>\n",
       "      <td>Краснодар</td>\n",
       "      <td>Рафаил</td>\n",
       "      <td>...</td>\n",
       "      <td>1000</td>\n",
       "      <td>30</td>\n",
       "      <td>3000</td>\n",
       "      <td>1950</td>\n",
       "      <td>150</td>\n",
       "      <td>1</td>\n",
       "      <td>1</td>\n",
       "      <td>-2660.0</td>\n",
       "      <td>-16.0</td>\n",
       "      <td>-925.0</td>\n",
       "    </tr>\n",
       "    <tr>\n",
       "      <th>3</th>\n",
       "      <td>1000</td>\n",
       "      <td>8</td>\n",
       "      <td>408.0</td>\n",
       "      <td>42.0</td>\n",
       "      <td>14.0</td>\n",
       "      <td>81.0</td>\n",
       "      <td>52</td>\n",
       "      <td>NaN</td>\n",
       "      <td>Краснодар</td>\n",
       "      <td>Рафаил</td>\n",
       "      <td>...</td>\n",
       "      <td>1000</td>\n",
       "      <td>30</td>\n",
       "      <td>3000</td>\n",
       "      <td>1950</td>\n",
       "      <td>150</td>\n",
       "      <td>1</td>\n",
       "      <td>1</td>\n",
       "      <td>-2592.0</td>\n",
       "      <td>-16.0</td>\n",
       "      <td>-919.0</td>\n",
       "    </tr>\n",
       "    <tr>\n",
       "      <th>4</th>\n",
       "      <td>1000</td>\n",
       "      <td>9</td>\n",
       "      <td>466.0</td>\n",
       "      <td>46.0</td>\n",
       "      <td>15.0</td>\n",
       "      <td>57.0</td>\n",
       "      <td>52</td>\n",
       "      <td>NaN</td>\n",
       "      <td>Краснодар</td>\n",
       "      <td>Рафаил</td>\n",
       "      <td>...</td>\n",
       "      <td>1000</td>\n",
       "      <td>30</td>\n",
       "      <td>3000</td>\n",
       "      <td>1950</td>\n",
       "      <td>150</td>\n",
       "      <td>1</td>\n",
       "      <td>1</td>\n",
       "      <td>-2534.0</td>\n",
       "      <td>-15.0</td>\n",
       "      <td>-943.0</td>\n",
       "    </tr>\n",
       "  </tbody>\n",
       "</table>\n",
       "<p>5 rows × 24 columns</p>\n",
       "</div>"
      ],
      "text/plain": [
       "   user_id  month  minutes_used  count_calls  gb_used  messages_used  age  \\\n",
       "0     1000      5         159.0         17.0      3.0           22.0   52   \n",
       "1     1000      6         172.0         28.0     23.0           60.0   52   \n",
       "2     1000      7         340.0         41.0     14.0           75.0   52   \n",
       "3     1000      8         408.0         42.0     14.0           81.0   52   \n",
       "4     1000      9         466.0         46.0     15.0           57.0   52   \n",
       "\n",
       "  churn_date       city first_name  ... messages_included  \\\n",
       "0        NaN  Краснодар     Рафаил  ...              1000   \n",
       "1        NaN  Краснодар     Рафаил  ...              1000   \n",
       "2        NaN  Краснодар     Рафаил  ...              1000   \n",
       "3        NaN  Краснодар     Рафаил  ...              1000   \n",
       "4        NaN  Краснодар     Рафаил  ...              1000   \n",
       "\n",
       "  gb_per_month_included minutes_included rub_monthly_fee  rub_per_gb  \\\n",
       "0                    30             3000            1950         150   \n",
       "1                    30             3000            1950         150   \n",
       "2                    30             3000            1950         150   \n",
       "3                    30             3000            1950         150   \n",
       "4                    30             3000            1950         150   \n",
       "\n",
       "   rub_per_message  rub_per_minute  calls_overspending  gb_overspending  \\\n",
       "0                1               1             -2841.0            -27.0   \n",
       "1                1               1             -2828.0             -7.0   \n",
       "2                1               1             -2660.0            -16.0   \n",
       "3                1               1             -2592.0            -16.0   \n",
       "4                1               1             -2534.0            -15.0   \n",
       "\n",
       "   messages_overspending  \n",
       "0                 -978.0  \n",
       "1                 -940.0  \n",
       "2                 -925.0  \n",
       "3                 -919.0  \n",
       "4                 -943.0  \n",
       "\n",
       "[5 rows x 24 columns]"
      ]
     },
     "metadata": {},
     "output_type": "display_data"
    }
   ],
   "source": [
    "general_table['calls_overspending'] = general_table['minutes_used'] - general_table['minutes_included']\n",
    "general_table['gb_overspending'] = general_table['gb_used'] - general_table['gb_per_month_included']\n",
    "general_table['messages_overspending'] = general_table['messages_used'] - general_table['messages_included']\n",
    "display(general_table.head())"
   ]
  },
  {
   "cell_type": "markdown",
   "metadata": {},
   "source": [
    "Применим фукнцию и подсчитаем выручку по каждому пользователю."
   ]
  },
  {
   "cell_type": "code",
   "execution_count": 26,
   "metadata": {
    "scrolled": true
   },
   "outputs": [
    {
     "data": {
      "text/html": [
       "<div>\n",
       "<style scoped>\n",
       "    .dataframe tbody tr th:only-of-type {\n",
       "        vertical-align: middle;\n",
       "    }\n",
       "\n",
       "    .dataframe tbody tr th {\n",
       "        vertical-align: top;\n",
       "    }\n",
       "\n",
       "    .dataframe thead th {\n",
       "        text-align: right;\n",
       "    }\n",
       "</style>\n",
       "<table border=\"1\" class=\"dataframe\">\n",
       "  <thead>\n",
       "    <tr style=\"text-align: right;\">\n",
       "      <th></th>\n",
       "      <th>user_id</th>\n",
       "      <th>month</th>\n",
       "      <th>minutes_used</th>\n",
       "      <th>count_calls</th>\n",
       "      <th>gb_used</th>\n",
       "      <th>messages_used</th>\n",
       "      <th>age</th>\n",
       "      <th>churn_date</th>\n",
       "      <th>city</th>\n",
       "      <th>first_name</th>\n",
       "      <th>...</th>\n",
       "      <th>gb_per_month_included</th>\n",
       "      <th>minutes_included</th>\n",
       "      <th>rub_monthly_fee</th>\n",
       "      <th>rub_per_gb</th>\n",
       "      <th>rub_per_message</th>\n",
       "      <th>rub_per_minute</th>\n",
       "      <th>calls_overspending</th>\n",
       "      <th>gb_overspending</th>\n",
       "      <th>messages_overspending</th>\n",
       "      <th>revenue</th>\n",
       "    </tr>\n",
       "  </thead>\n",
       "  <tbody>\n",
       "    <tr>\n",
       "      <th>0</th>\n",
       "      <td>1000</td>\n",
       "      <td>5</td>\n",
       "      <td>159.0</td>\n",
       "      <td>17.0</td>\n",
       "      <td>3.0</td>\n",
       "      <td>22.0</td>\n",
       "      <td>52</td>\n",
       "      <td>NaN</td>\n",
       "      <td>Краснодар</td>\n",
       "      <td>Рафаил</td>\n",
       "      <td>...</td>\n",
       "      <td>30</td>\n",
       "      <td>3000</td>\n",
       "      <td>1950</td>\n",
       "      <td>150</td>\n",
       "      <td>1</td>\n",
       "      <td>1</td>\n",
       "      <td>-2841.0</td>\n",
       "      <td>-27.0</td>\n",
       "      <td>-978.0</td>\n",
       "      <td>1950.0</td>\n",
       "    </tr>\n",
       "    <tr>\n",
       "      <th>1</th>\n",
       "      <td>1000</td>\n",
       "      <td>6</td>\n",
       "      <td>172.0</td>\n",
       "      <td>28.0</td>\n",
       "      <td>23.0</td>\n",
       "      <td>60.0</td>\n",
       "      <td>52</td>\n",
       "      <td>NaN</td>\n",
       "      <td>Краснодар</td>\n",
       "      <td>Рафаил</td>\n",
       "      <td>...</td>\n",
       "      <td>30</td>\n",
       "      <td>3000</td>\n",
       "      <td>1950</td>\n",
       "      <td>150</td>\n",
       "      <td>1</td>\n",
       "      <td>1</td>\n",
       "      <td>-2828.0</td>\n",
       "      <td>-7.0</td>\n",
       "      <td>-940.0</td>\n",
       "      <td>1950.0</td>\n",
       "    </tr>\n",
       "    <tr>\n",
       "      <th>2</th>\n",
       "      <td>1000</td>\n",
       "      <td>7</td>\n",
       "      <td>340.0</td>\n",
       "      <td>41.0</td>\n",
       "      <td>14.0</td>\n",
       "      <td>75.0</td>\n",
       "      <td>52</td>\n",
       "      <td>NaN</td>\n",
       "      <td>Краснодар</td>\n",
       "      <td>Рафаил</td>\n",
       "      <td>...</td>\n",
       "      <td>30</td>\n",
       "      <td>3000</td>\n",
       "      <td>1950</td>\n",
       "      <td>150</td>\n",
       "      <td>1</td>\n",
       "      <td>1</td>\n",
       "      <td>-2660.0</td>\n",
       "      <td>-16.0</td>\n",
       "      <td>-925.0</td>\n",
       "      <td>1950.0</td>\n",
       "    </tr>\n",
       "    <tr>\n",
       "      <th>3</th>\n",
       "      <td>1000</td>\n",
       "      <td>8</td>\n",
       "      <td>408.0</td>\n",
       "      <td>42.0</td>\n",
       "      <td>14.0</td>\n",
       "      <td>81.0</td>\n",
       "      <td>52</td>\n",
       "      <td>NaN</td>\n",
       "      <td>Краснодар</td>\n",
       "      <td>Рафаил</td>\n",
       "      <td>...</td>\n",
       "      <td>30</td>\n",
       "      <td>3000</td>\n",
       "      <td>1950</td>\n",
       "      <td>150</td>\n",
       "      <td>1</td>\n",
       "      <td>1</td>\n",
       "      <td>-2592.0</td>\n",
       "      <td>-16.0</td>\n",
       "      <td>-919.0</td>\n",
       "      <td>1950.0</td>\n",
       "    </tr>\n",
       "    <tr>\n",
       "      <th>4</th>\n",
       "      <td>1000</td>\n",
       "      <td>9</td>\n",
       "      <td>466.0</td>\n",
       "      <td>46.0</td>\n",
       "      <td>15.0</td>\n",
       "      <td>57.0</td>\n",
       "      <td>52</td>\n",
       "      <td>NaN</td>\n",
       "      <td>Краснодар</td>\n",
       "      <td>Рафаил</td>\n",
       "      <td>...</td>\n",
       "      <td>30</td>\n",
       "      <td>3000</td>\n",
       "      <td>1950</td>\n",
       "      <td>150</td>\n",
       "      <td>1</td>\n",
       "      <td>1</td>\n",
       "      <td>-2534.0</td>\n",
       "      <td>-15.0</td>\n",
       "      <td>-943.0</td>\n",
       "      <td>1950.0</td>\n",
       "    </tr>\n",
       "  </tbody>\n",
       "</table>\n",
       "<p>5 rows × 25 columns</p>\n",
       "</div>"
      ],
      "text/plain": [
       "   user_id  month  minutes_used  count_calls  gb_used  messages_used  age  \\\n",
       "0     1000      5         159.0         17.0      3.0           22.0   52   \n",
       "1     1000      6         172.0         28.0     23.0           60.0   52   \n",
       "2     1000      7         340.0         41.0     14.0           75.0   52   \n",
       "3     1000      8         408.0         42.0     14.0           81.0   52   \n",
       "4     1000      9         466.0         46.0     15.0           57.0   52   \n",
       "\n",
       "  churn_date       city first_name  ... gb_per_month_included  \\\n",
       "0        NaN  Краснодар     Рафаил  ...                    30   \n",
       "1        NaN  Краснодар     Рафаил  ...                    30   \n",
       "2        NaN  Краснодар     Рафаил  ...                    30   \n",
       "3        NaN  Краснодар     Рафаил  ...                    30   \n",
       "4        NaN  Краснодар     Рафаил  ...                    30   \n",
       "\n",
       "  minutes_included rub_monthly_fee rub_per_gb  rub_per_message  \\\n",
       "0             3000            1950        150                1   \n",
       "1             3000            1950        150                1   \n",
       "2             3000            1950        150                1   \n",
       "3             3000            1950        150                1   \n",
       "4             3000            1950        150                1   \n",
       "\n",
       "   rub_per_minute  calls_overspending  gb_overspending  messages_overspending  \\\n",
       "0               1             -2841.0            -27.0                 -978.0   \n",
       "1               1             -2828.0             -7.0                 -940.0   \n",
       "2               1             -2660.0            -16.0                 -925.0   \n",
       "3               1             -2592.0            -16.0                 -919.0   \n",
       "4               1             -2534.0            -15.0                 -943.0   \n",
       "\n",
       "   revenue  \n",
       "0   1950.0  \n",
       "1   1950.0  \n",
       "2   1950.0  \n",
       "3   1950.0  \n",
       "4   1950.0  \n",
       "\n",
       "[5 rows x 25 columns]"
      ]
     },
     "metadata": {},
     "output_type": "display_data"
    }
   ],
   "source": [
    "general_table['revenue'] = general_table.apply(calculate_revenue, axis = 1)\n",
    "display(general_table.head())"
   ]
  },
  {
   "cell_type": "markdown",
   "metadata": {},
   "source": [
    "### Вывод:\n",
    "были построены сводные таблицы по пользователям и месяцам. Посчитан перерасход услуг из пакета и доход от каждого пользователя по месяцам. Все данные объединены в одну таблицу."
   ]
  },
  {
   "cell_type": "markdown",
   "metadata": {},
   "source": [
    "## Анализ"
   ]
  },
  {
   "cell_type": "markdown",
   "metadata": {},
   "source": [
    "### Тариф \"Смарт\""
   ]
  },
  {
   "cell_type": "markdown",
   "metadata": {},
   "source": [
    "Посчитаем количество использованных минут по месяцам. В декабре наблюдается самый большой расход минут, может быть с приближением новогодних празников и суетой связанной с этим событием. Наименьшее значение использованных минту в январе, думаю, это обусловленно январьскими выходными. В этот период большинство не совершает рабочих звонков, некоторые уезжают за границу и соответсвенно не пользуются домашними симкартами."
   ]
  },
  {
   "cell_type": "code",
   "execution_count": 27,
   "metadata": {
    "scrolled": false
   },
   "outputs": [
    {
     "data": {
      "image/png": "[encoded data removed]",
      "text/plain": [
       "<Figure size 432x432 with 1 Axes>"
      ]
     },
     "metadata": {
      "needs_background": "light"
     },
     "output_type": "display_data"
    }
   ],
   "source": [
    "(\n",
    "    general_table.query('\"smart\" in tariff')\n",
    "    .pivot_table(index='month', values='minutes_used', aggfunc='median')\n",
    "    .reset_index()\n",
    "    .plot(x='month', y='minutes_used', kind='bar',figsize=(6, 6), grid=True)\n",
    "    );"
   ]
  },
  {
   "cell_type": "code",
   "execution_count": 28,
   "metadata": {
    "scrolled": false
   },
   "outputs": [
    {
     "data": {
      "image/png": "[encoded data removed]",
      "text/plain": [
       "<Figure size 432x432 with 1 Axes>"
      ]
     },
     "metadata": {
      "needs_background": "light"
     },
     "output_type": "display_data"
    }
   ],
   "source": [
    "general_table.query('\"smart\" in tariff')['minutes_used'].hist(bins=100,figsize=(6, 6), grid=True);"
   ]
  },
  {
   "cell_type": "markdown",
   "metadata": {},
   "source": [
    "Большинство данных расположены в промежутке от 0 до 800. Есть скопление около 0, скорее всего связано с пропущенными входящими звонками. "
   ]
  },
  {
   "cell_type": "markdown",
   "metadata": {},
   "source": [
    "Рассмотрим количество использованных сообщений по месяцам. Ситуация схажа с использованием минут: максимальные пики приходятся на декабрь и май. В мае многие поздравляют друг друга с праздником победы, возможно с данным событием связан пик в этот период. Минимальное значение приходится на январь."
   ]
  },
  {
   "cell_type": "code",
   "execution_count": 29,
   "metadata": {
    "scrolled": true
   },
   "outputs": [
    {
     "data": {
      "image/png": "[encoded data removed]",
      "text/plain": [
       "<Figure size 432x432 with 1 Axes>"
      ]
     },
     "metadata": {
      "needs_background": "light"
     },
     "output_type": "display_data"
    }
   ],
   "source": [
    "(\n",
    "    general_table.query('\"smart\" in tariff')\n",
    "    .pivot_table(index='month', values='messages_used', aggfunc='median')\n",
    "    .reset_index()\n",
    "    .plot(x='month', y='messages_used', kind='bar',figsize=(6, 6), grid=True)\n",
    "    );"
   ]
  },
  {
   "cell_type": "code",
   "execution_count": 30,
   "metadata": {
    "scrolled": false
   },
   "outputs": [
    {
     "data": {
      "image/png": "[encoded data removed]",
      "text/plain": [
       "<Figure size 432x432 with 1 Axes>"
      ]
     },
     "metadata": {
      "needs_background": "light"
     },
     "output_type": "display_data"
    }
   ],
   "source": [
    "general_table.query('\"smart\" in tariff')['messages_used'].hist(bins=100,figsize=(6, 6), grid=True);\n"
   ]
  },
  {
   "cell_type": "markdown",
   "metadata": {},
   "source": [
    "В промежутке от 0 до 120 находится основная часть даннных."
   ]
  },
  {
   "cell_type": "markdown",
   "metadata": {},
   "source": [
    "Изучим количество использованных гб трафика по месяцам. Ситуация очень схожа с использованием минут звонком и смс-сообщений. в декабре максимум, в январе минимум."
   ]
  },
  {
   "cell_type": "code",
   "execution_count": 31,
   "metadata": {
    "scrolled": false
   },
   "outputs": [
    {
     "data": {
      "image/png": "[encoded data removed]",
      "text/plain": [
       "<Figure size 432x432 with 1 Axes>"
      ]
     },
     "metadata": {
      "needs_background": "light"
     },
     "output_type": "display_data"
    }
   ],
   "source": [
    "(\n",
    "    general_table.query('\"smart\" in tariff')\n",
    "    .pivot_table(index='month', values='gb_used', aggfunc='median')\n",
    "    .reset_index()\n",
    "    .plot(x='month', y='gb_used', kind='bar',figsize=(6, 6), grid=True)\n",
    "    );"
   ]
  },
  {
   "cell_type": "code",
   "execution_count": 32,
   "metadata": {
    "scrolled": false
   },
   "outputs": [
    {
     "data": {
      "image/png": "[encoded data removed]",
      "text/plain": [
       "<Figure size 432x432 with 1 Axes>"
      ]
     },
     "metadata": {
      "needs_background": "light"
     },
     "output_type": "display_data"
    }
   ],
   "source": [
    "general_table.query('\"smart\" in tariff')['gb_used'].hist(bins=20,figsize=(6, 6), grid=True);"
   ]
  },
  {
   "cell_type": "markdown",
   "metadata": {},
   "source": [
    "<div class=\"alert alert-info\"> Нормальное распределение. Основная масса данных лежит в промежутке от 0 до 30. На 16-17 провал. "
   ]
  },
  {
   "cell_type": "markdown",
   "metadata": {},
   "source": [
    "Дисперсия, стандартное отклонение и среднее по использованному трафику"
   ]
  },
  {
   "cell_type": "code",
   "execution_count": 33,
   "metadata": {
    "scrolled": true
   },
   "outputs": [
    {
     "name": "stdout",
     "output_type": "stream",
     "text": [
      "803249.5351434891\n",
      "896.2418954408955\n",
      "1344.6882009869896\n"
     ]
    }
   ],
   "source": [
    "sr = general_table.query('\"smart\" in tariff')['revenue']\n",
    "print(np.var(sr, ddof=1))\n",
    "print(np.std(sr, ddof=1))\n",
    "print(sr.mean())"
   ]
  },
  {
   "cell_type": "markdown",
   "metadata": {},
   "source": [
    "### Тариф \"Ультра\""
   ]
  },
  {
   "cell_type": "markdown",
   "metadata": {},
   "source": [
    "При рассмотрении графика использованных минут по месяцам  можем заметить, что в декабре и июле абоненты тратили минуты активнее всего, а в феврале было потрачено меньше всего минут. Данные распределены в диапозоне от 0 до 1300. "
   ]
  },
  {
   "cell_type": "code",
   "execution_count": 34,
   "metadata": {
    "scrolled": true
   },
   "outputs": [
    {
     "data": {
      "image/png": "[encoded data removed]",
      "text/plain": [
       "<Figure size 432x432 with 1 Axes>"
      ]
     },
     "metadata": {
      "needs_background": "light"
     },
     "output_type": "display_data"
    }
   ],
   "source": [
    "(\n",
    "    general_table.query('\"ultra\" in tariff')\n",
    "    .pivot_table(index='month', values='minutes_used', aggfunc='median')\n",
    "    .reset_index()\n",
    "    .plot(x='month', y='minutes_used', kind='bar',figsize=(6, 6), grid=True)\n",
    "    );"
   ]
  },
  {
   "cell_type": "code",
   "execution_count": 35,
   "metadata": {
    "scrolled": false
   },
   "outputs": [
    {
     "data": {
      "image/png": "[encoded data removed]",
      "text/plain": [
       "<Figure size 432x432 with 1 Axes>"
      ]
     },
     "metadata": {
      "needs_background": "light"
     },
     "output_type": "display_data"
    }
   ],
   "source": [
    "general_table.query('\"ultra\" in tariff')['minutes_used'].hist(bins=100,figsize=(6, 6), grid=True);"
   ]
  },
  {
   "cell_type": "markdown",
   "metadata": {},
   "source": [
    "В декабре и октябре было отправленно больше всего сообщений, в марте наименьшее количество. В диапозоне от 0 до 175 находится основная масса данных. "
   ]
  },
  {
   "cell_type": "code",
   "execution_count": 36,
   "metadata": {
    "scrolled": true
   },
   "outputs": [
    {
     "data": {
      "image/png": "[encoded data removed]",
      "text/plain": [
       "<Figure size 432x432 with 1 Axes>"
      ]
     },
     "metadata": {
      "needs_background": "light"
     },
     "output_type": "display_data"
    }
   ],
   "source": [
    "(\n",
    "    general_table.query('\"ultra\" in tariff')\n",
    "    .pivot_table(index='month', values='messages_used', aggfunc='median')\n",
    "    .reset_index()\n",
    "    .plot(x='month', y='messages_used', kind='bar',figsize=(6, 6), grid=True)\n",
    "    );"
   ]
  },
  {
   "cell_type": "code",
   "execution_count": 37,
   "metadata": {
    "scrolled": true
   },
   "outputs": [
    {
     "data": {
      "image/png": "[encoded data removed]",
      "text/plain": [
       "<Figure size 432x432 with 1 Axes>"
      ]
     },
     "metadata": {
      "needs_background": "light"
     },
     "output_type": "display_data"
    }
   ],
   "source": [
    "general_table.query('\"ultra\" in tariff')['messages_used'].hist(bins=100,figsize=(6, 6), grid=True);"
   ]
  },
  {
   "cell_type": "markdown",
   "metadata": {},
   "source": [
    "Максимальное количество гб трафика использованно в декабре, минимальное в феврале. Большое количество данных находятся в промежутке от 0 до 45."
   ]
  },
  {
   "cell_type": "code",
   "execution_count": 38,
   "metadata": {
    "scrolled": true
   },
   "outputs": [
    {
     "data": {
      "image/png": "[encoded data removed]",
      "text/plain": [
       "<Figure size 432x432 with 1 Axes>"
      ]
     },
     "metadata": {
      "needs_background": "light"
     },
     "output_type": "display_data"
    }
   ],
   "source": [
    "(\n",
    "    general_table.query('\"ultra\" in tariff')\n",
    "    .pivot_table(index='month', values='gb_used', aggfunc='median')\n",
    "    .reset_index()\n",
    "    .plot(x='month', y='gb_used', kind='bar',figsize=(6, 6), grid=True)\n",
    "    );"
   ]
  },
  {
   "cell_type": "code",
   "execution_count": 39,
   "metadata": {
    "scrolled": false
   },
   "outputs": [
    {
     "data": {
      "image/png": "[encoded data removed]",
      "text/plain": [
       "<Figure size 432x432 with 1 Axes>"
      ]
     },
     "metadata": {
      "needs_background": "light"
     },
     "output_type": "display_data"
    }
   ],
   "source": [
    "general_table.query('\"ultra\" in tariff')['gb_used'].hist(bins=20,figsize=(6, 6), grid=True);"
   ]
  },
  {
   "cell_type": "markdown",
   "metadata": {},
   "source": [
    "Дисперсия, стандартное отклонение и среднее по использованному трафику"
   ]
  },
  {
   "cell_type": "code",
   "execution_count": 40,
   "metadata": {
    "scrolled": false
   },
   "outputs": [
    {
     "name": "stdout",
     "output_type": "stream",
     "text": [
      "141516.74507861698\n",
      "376.1871144505311\n",
      "2070.1522842639592\n"
     ]
    }
   ],
   "source": [
    "ur = general_table.query('\"ultra\" in tariff')['revenue']\n",
    "print(np.var(ur, ddof=1))\n",
    "print(np.std(ur, ddof=1))\n",
    "print(ur.mean())"
   ]
  },
  {
   "cell_type": "markdown",
   "metadata": {},
   "source": [
    "### Выручка"
   ]
  },
  {
   "cell_type": "markdown",
   "metadata": {},
   "source": [
    "Дополнительная выручка по тарифам: смарт - 1771360, ультра - 118350.  "
   ]
  },
  {
   "cell_type": "code",
   "execution_count": 41,
   "metadata": {
    "scrolled": true
   },
   "outputs": [
    {
     "name": "stdout",
     "output_type": "stream",
     "text": [
      "1771360.0\n",
      "118350.0\n"
     ]
    }
   ],
   "source": [
    "general_table['add_revenue'] = general_table['revenue'] - general_table['rub_monthly_fee']\n",
    "print(general_table.query('\"smart\" in tariff')['add_revenue'].sum())\n",
    "print(general_table.query('\"ultra\" in tariff')['add_revenue'].sum())"
   ]
  },
  {
   "cell_type": "markdown",
   "metadata": {},
   "source": [
    "Общая выручка от тарифов: смарт - 2997310, ультра - 2039100."
   ]
  },
  {
   "cell_type": "code",
   "execution_count": 42,
   "metadata": {},
   "outputs": [
    {
     "name": "stdout",
     "output_type": "stream",
     "text": [
      "2997310.0\n",
      "2039100.0\n"
     ]
    }
   ],
   "source": [
    "print(general_table.query('\"smart\" in tariff')['revenue'].sum())\n",
    "print(general_table.query('\"ultra\" in tariff')['revenue'].sum())"
   ]
  },
  {
   "cell_type": "markdown",
   "metadata": {},
   "source": [
    "### Вывод\n",
    "Тариф \"Смарт\":\n",
    "- в основном абоненты тратят от 390 - 440 минут звонков входящих в тариф. Минимальное значение 170, максимальное 470 минут;\n",
    "- из пакета в 50 сообщений расходуется не более 40 сообщений в месяц. Чаще всего отправляют от 31 до 39 сообщений.\n",
    "- большинство расходуют интернет-трафика в диапозоне от 16 до 18 Гб в месяц.\n",
    "\n",
    "Тариф \"Ультра\":\n",
    "- пользователи чаще всего выговаривают от 450 до 590 минут из тарифа;\n",
    "- расход смс-сообщений распологается в диапозоне 47 до 61 собщений в месяц;\n",
    "- использование Гб интернета у абонентов -  от 15 до 22 Гб в месяц. \n",
    "\n",
    "Если сравнивать траты абонентов двух тарифов, то можно отметить, что пользоаватели \"Ультра\" расходуют больше минут и сообщений, а гб интернета меньше. Пользоватили двух тарифов чаще всего расходуют больше интернет-трафика, чем включено в их пакет. Для тех, кто использует тариф \"Смарт\" 1гб интернета стоит дороже, чем в тарифе \"Ультра\" и перерасход услуги у таких пользователей выше. Хоть и стоимость абонентской платы тарифа ниже, такие абоненты могут приносить больше выгоды, чем пользователи более дорогого \"Ультра\". "
   ]
  },
  {
   "cell_type": "markdown",
   "metadata": {},
   "source": [
    "## Проверка гипотезы"
   ]
  },
  {
   "cell_type": "markdown",
   "metadata": {},
   "source": [
    "### Сравнение средней выручки по тарифам\n",
    "Нулевая гипотеза: средняя выручка пользователей тарифов «Ультра» и «Смарт» одинаковая. \n",
    "\n",
    "Альтернативная гипотеза: средняя выручка абонентов тарифа «Смарт» не равна средней выручки абонентов тарифа «Ультра»."
   ]
  },
  {
   "cell_type": "code",
   "execution_count": 43,
   "metadata": {
    "scrolled": true
   },
   "outputs": [
    {
     "name": "stdout",
     "output_type": "stream",
     "text": [
      "Отвергаем нулевую гипотезу\n"
     ]
    }
   ],
   "source": [
    "results = st.ttest_ind(\n",
    "general_table.query('\"smart\" in tariff')['revenue'],\n",
    "general_table.query('\"ultra\" in tariff')['revenue'],\n",
    "equal_var = False)\n",
    "alpha = .05\n",
    "\n",
    "if (results.pvalue < alpha):\n",
    "    print(\"Отвергаем нулевую гипотезу\")\n",
    "else:\n",
    "    print(\"Не отвергаем нулевую гипотезу\") "
   ]
  },
  {
   "cell_type": "markdown",
   "metadata": {},
   "source": [
    "Вторая альтернативная гипотеза: средняя выручка абонентов тарифа «Смарт» больше средней выручки абонентов тарифа «Ультра»."
   ]
  },
  {
   "cell_type": "code",
   "execution_count": 44,
   "metadata": {},
   "outputs": [
    {
     "name": "stdout",
     "output_type": "stream",
     "text": [
      "Не отвергаем гипотезу\n"
     ]
    }
   ],
   "source": [
    "#дисперсия, стандартное отклонение и средние у выборки по тарифу \"Ультра\" больше чем у выборки по тарифу \"Смарт\".\n",
    "results = st.ttest_ind(\n",
    "general_table.query('\"smart\" in tariff')['revenue'],\n",
    "general_table.query('\"ultra\" in tariff')['revenue'],\n",
    "equal_var = False)\n",
    "alpha = .05\n",
    "\n",
    "if (\n",
    "    (results.pvalue / 2 < alpha) & \n",
    "(general_table.query('\"smart\" in tariff')['revenue'].mean() > general_table.query('\"ultra\" in tariff')['revenue'].mean())\n",
    "):\n",
    "    print(\"Отвергаем гипотезу\")\n",
    "else:\n",
    "    print(\"Не отвергаем гипотезу\") "
   ]
  },
  {
   "cell_type": "markdown",
   "metadata": {},
   "source": [
    "### Сравнение средней выручки по географии\n",
    "Нулевая гипотеза: средняя выручка пользователей из Москвы не отличается от выручки пользователей из других регионов.\n",
    "\n",
    "Альтернативная гипотеза: средняя выручка пользователей из Москвы отличается от выручки пользователей из других регионов."
   ]
  },
  {
   "cell_type": "code",
   "execution_count": 45,
   "metadata": {},
   "outputs": [
    {
     "name": "stdout",
     "output_type": "stream",
     "text": [
      "Не отвергаем нулевую гипотезу\n"
     ]
    }
   ],
   "source": [
    "results = st.ttest_ind(\n",
    "general_table.query('\"Москва\" in city')['revenue'],\n",
    "general_table.query('\"Москва\" not in city')['revenue'],\n",
    "equal_var = False)\n",
    "alpha = .05\n",
    "\n",
    "if results.pvalue < alpha:\n",
    "    print(\"Отвергаем нулевую гипотезу\")\n",
    "else:\n",
    "    print(\"Не отвергаем нулевую гипотезу\") "
   ]
  },
  {
   "cell_type": "markdown",
   "metadata": {},
   "source": [
    "Нулевая гипотеза не опровергнута, нет смысла проводит односторонний тест."
   ]
  },
  {
   "cell_type": "markdown",
   "metadata": {},
   "source": [
    "### Вывод\n",
    "Первый тест показал, что средняя выручка по тарифу \"Смарт\" выше, чем по тарифу \"Ультра\".\n",
    "Второй тест показал, что средняя выручка по Москве примерно равна средней выручке по другим регионам."
   ]
  },
  {
   "cell_type": "markdown",
   "metadata": {},
   "source": [
    "## Вывод"
   ]
  },
  {
   "cell_type": "markdown",
   "metadata": {},
   "source": [
    "Анализ показал, что для абонентов обоих тарифов самой популярной услугой является мобильный интернет, а самой не популярной - смс-сообщения. Перерасходуют услуги только абоненты тарифа \"Смарт\". Единственное, что используется сверх - пакета Гб интернета.  \n",
    "\n",
    "Пользователи тарифа \"Смарт\" в месяц используют услуги в следующих объемах:\n",
    "- максимум 31 - 39 смс-сообщения;\n",
    "- 390 - 440 минуты звонков;\n",
    "- 16 - 18 Гб интернета.\n",
    "\n",
    "Абоненты тарифа \"Ультра\" расходуют в месяц:\n",
    "- 47 - 51 смс-сообщение;\n",
    "- 450 - 590 минут;\n",
    "- 15 - 22 Гб интернета.\n",
    "\n",
    "\n",
    "На основании графиков и статистического теста можно заключить, что тарифа \"Смарт\" приносит компании больше денег, не смотря на более низкую стоимость абонентской платы. Происходит это из-за большого перерасхода пакета интернет трафика пользователями и стоимости за 1 гб выше, чем в тарифе \"Ультра\". \"Смарт\" приносить больше дополнительной общей выручки.\n",
    "\n",
    "Размер выручки не зависит от георграфии. Средняя выручка по регионам примерно такая же как и по Москве."
   ]
  }
 ],
 "metadata": {
  "ExecuteTimeLog": [
   {
    "duration": 564,
    "start_time": "2022-01-09T10:46:35.163Z"
   },
   {
    "duration": 405,
    "start_time": "2022-01-09T10:46:35.729Z"
   },
   {
    "duration": 22,
    "start_time": "2022-01-09T10:46:36.136Z"
   },
   {
    "duration": 32,
    "start_time": "2022-01-09T10:47:14.924Z"
   },
   {
    "duration": 36,
    "start_time": "2022-01-09T10:56:47.069Z"
   },
   {
    "duration": 30,
    "start_time": "2022-01-09T10:57:02.401Z"
   },
   {
    "duration": 2,
    "start_time": "2022-01-09T10:58:58.573Z"
   },
   {
    "duration": 374,
    "start_time": "2022-01-09T10:58:58.577Z"
   },
   {
    "duration": 28,
    "start_time": "2022-01-09T10:58:58.954Z"
   },
   {
    "duration": 24,
    "start_time": "2022-01-09T10:58:58.983Z"
   },
   {
    "duration": 19,
    "start_time": "2022-01-09T10:58:59.008Z"
   },
   {
    "duration": 1067,
    "start_time": "2022-01-09T10:58:59.041Z"
   },
   {
    "duration": 135,
    "start_time": "2022-01-09T10:58:59.975Z"
   },
   {
    "duration": 12,
    "start_time": "2022-01-09T10:59:35.188Z"
   },
   {
    "duration": 17,
    "start_time": "2022-01-09T11:00:00.151Z"
   },
   {
    "duration": 801,
    "start_time": "2022-01-10T10:32:24.382Z"
   },
   {
    "duration": 523,
    "start_time": "2022-01-10T10:32:25.186Z"
   },
   {
    "duration": 61,
    "start_time": "2022-01-10T10:32:25.712Z"
   },
   {
    "duration": 54,
    "start_time": "2022-01-10T10:32:25.776Z"
   },
   {
    "duration": 31,
    "start_time": "2022-01-10T10:32:25.833Z"
   },
   {
    "duration": 19,
    "start_time": "2022-01-10T10:32:25.867Z"
   },
   {
    "duration": 67,
    "start_time": "2022-01-10T10:32:25.888Z"
   },
   {
    "duration": 600,
    "start_time": "2022-01-11T10:56:35.204Z"
   },
   {
    "duration": 378,
    "start_time": "2022-01-11T10:56:35.806Z"
   },
   {
    "duration": 38,
    "start_time": "2022-01-11T10:56:36.186Z"
   },
   {
    "duration": 26,
    "start_time": "2022-01-11T10:56:36.226Z"
   },
   {
    "duration": 42,
    "start_time": "2022-01-11T10:56:36.253Z"
   },
   {
    "duration": 11,
    "start_time": "2022-01-11T10:56:36.296Z"
   },
   {
    "duration": 18,
    "start_time": "2022-01-11T10:56:36.308Z"
   },
   {
    "duration": 84,
    "start_time": "2022-01-11T10:56:36.328Z"
   },
   {
    "duration": 36,
    "start_time": "2022-01-11T10:56:52.416Z"
   },
   {
    "duration": 2,
    "start_time": "2022-01-11T11:00:25.294Z"
   },
   {
    "duration": 383,
    "start_time": "2022-01-11T11:00:25.298Z"
   },
   {
    "duration": 30,
    "start_time": "2022-01-11T11:00:25.683Z"
   },
   {
    "duration": 24,
    "start_time": "2022-01-11T11:00:25.715Z"
   },
   {
    "duration": 20,
    "start_time": "2022-01-11T11:00:25.741Z"
   },
   {
    "duration": 11,
    "start_time": "2022-01-11T11:00:25.791Z"
   },
   {
    "duration": 15,
    "start_time": "2022-01-11T11:00:25.804Z"
   },
   {
    "duration": 207,
    "start_time": "2022-01-11T11:00:25.821Z"
   },
   {
    "duration": 69,
    "start_time": "2022-01-11T11:00:26.029Z"
   },
   {
    "duration": 364,
    "start_time": "2022-01-11T11:52:20.530Z"
   },
   {
    "duration": 3,
    "start_time": "2022-01-11T11:53:02.219Z"
   },
   {
    "duration": 417,
    "start_time": "2022-01-11T11:53:02.224Z"
   },
   {
    "duration": 29,
    "start_time": "2022-01-11T11:53:02.643Z"
   },
   {
    "duration": 26,
    "start_time": "2022-01-11T11:53:02.674Z"
   },
   {
    "duration": 21,
    "start_time": "2022-01-11T11:53:02.702Z"
   },
   {
    "duration": 11,
    "start_time": "2022-01-11T11:53:02.725Z"
   },
   {
    "duration": 19,
    "start_time": "2022-01-11T11:53:02.738Z"
   },
   {
    "duration": 198,
    "start_time": "2022-01-11T11:53:02.758Z"
   },
   {
    "duration": 75,
    "start_time": "2022-01-11T11:53:02.958Z"
   },
   {
    "duration": 21,
    "start_time": "2022-01-11T11:53:03.035Z"
   },
   {
    "duration": 283,
    "start_time": "2022-01-11T11:53:12.223Z"
   },
   {
    "duration": 201,
    "start_time": "2022-01-11T11:53:37.570Z"
   },
   {
    "duration": 2,
    "start_time": "2022-01-11T11:54:00.388Z"
   },
   {
    "duration": 418,
    "start_time": "2022-01-11T11:54:00.392Z"
   },
   {
    "duration": 31,
    "start_time": "2022-01-11T11:54:00.812Z"
   },
   {
    "duration": 27,
    "start_time": "2022-01-11T11:54:00.845Z"
   },
   {
    "duration": 28,
    "start_time": "2022-01-11T11:54:00.874Z"
   },
   {
    "duration": 16,
    "start_time": "2022-01-11T11:54:00.904Z"
   },
   {
    "duration": 38,
    "start_time": "2022-01-11T11:54:00.922Z"
   },
   {
    "duration": 189,
    "start_time": "2022-01-11T11:54:00.962Z"
   },
   {
    "duration": 72,
    "start_time": "2022-01-11T11:54:01.153Z"
   },
   {
    "duration": 51,
    "start_time": "2022-01-11T11:54:01.227Z"
   },
   {
    "duration": 68,
    "start_time": "2022-01-11T11:54:35.571Z"
   },
   {
    "duration": 3,
    "start_time": "2022-01-11T12:03:43.076Z"
   },
   {
    "duration": 399,
    "start_time": "2022-01-11T12:03:43.081Z"
   },
   {
    "duration": 33,
    "start_time": "2022-01-11T12:03:43.483Z"
   },
   {
    "duration": 27,
    "start_time": "2022-01-11T12:03:43.518Z"
   },
   {
    "duration": 21,
    "start_time": "2022-01-11T12:03:43.547Z"
   },
   {
    "duration": 28,
    "start_time": "2022-01-11T12:03:43.570Z"
   },
   {
    "duration": 24,
    "start_time": "2022-01-11T12:03:43.599Z"
   },
   {
    "duration": 179,
    "start_time": "2022-01-11T12:03:43.625Z"
   },
   {
    "duration": 61,
    "start_time": "2022-01-11T12:03:43.806Z"
   },
   {
    "duration": 65,
    "start_time": "2022-01-11T12:03:43.869Z"
   },
   {
    "duration": 18,
    "start_time": "2022-01-11T12:04:23.354Z"
   },
   {
    "duration": 20,
    "start_time": "2022-01-11T12:04:42.380Z"
   },
   {
    "duration": 43,
    "start_time": "2022-01-11T12:14:27.749Z"
   },
   {
    "duration": 44,
    "start_time": "2022-01-11T12:15:05.894Z"
   },
   {
    "duration": 32,
    "start_time": "2022-01-11T12:16:03.647Z"
   },
   {
    "duration": 32,
    "start_time": "2022-01-11T12:16:19.794Z"
   },
   {
    "duration": 4547,
    "start_time": "2022-01-11T12:24:42.149Z"
   },
   {
    "duration": 4715,
    "start_time": "2022-01-11T12:26:20.577Z"
   },
   {
    "duration": 56,
    "start_time": "2022-01-11T12:29:11.115Z"
   },
   {
    "duration": 44,
    "start_time": "2022-01-11T12:29:29.083Z"
   },
   {
    "duration": 39,
    "start_time": "2022-01-11T12:29:36.283Z"
   },
   {
    "duration": 44,
    "start_time": "2022-01-11T12:30:04.851Z"
   },
   {
    "duration": 43,
    "start_time": "2022-01-11T12:30:35.085Z"
   },
   {
    "duration": 41,
    "start_time": "2022-01-11T12:30:42.349Z"
   },
   {
    "duration": 40,
    "start_time": "2022-01-11T12:30:57.613Z"
   },
   {
    "duration": 10,
    "start_time": "2022-01-11T12:35:30.408Z"
   },
   {
    "duration": 3,
    "start_time": "2022-01-11T12:35:41.566Z"
   },
   {
    "duration": 406,
    "start_time": "2022-01-11T12:35:41.571Z"
   },
   {
    "duration": 30,
    "start_time": "2022-01-11T12:35:41.979Z"
   },
   {
    "duration": 26,
    "start_time": "2022-01-11T12:35:42.011Z"
   },
   {
    "duration": 22,
    "start_time": "2022-01-11T12:35:42.039Z"
   },
   {
    "duration": 12,
    "start_time": "2022-01-11T12:35:42.090Z"
   },
   {
    "duration": 16,
    "start_time": "2022-01-11T12:35:42.103Z"
   },
   {
    "duration": 196,
    "start_time": "2022-01-11T12:35:42.121Z"
   },
   {
    "duration": 76,
    "start_time": "2022-01-11T12:35:42.319Z"
   },
   {
    "duration": 49,
    "start_time": "2022-01-11T12:35:42.396Z"
   },
   {
    "duration": 4,
    "start_time": "2022-01-11T12:35:42.447Z"
   },
   {
    "duration": 64,
    "start_time": "2022-01-11T12:35:42.453Z"
   },
   {
    "duration": 21,
    "start_time": "2022-01-11T12:42:03.592Z"
   },
   {
    "duration": 30,
    "start_time": "2022-01-11T12:44:09.743Z"
   },
   {
    "duration": 39,
    "start_time": "2022-01-11T13:06:33.418Z"
   },
   {
    "duration": 27,
    "start_time": "2022-01-11T13:07:19.283Z"
   },
   {
    "duration": 35,
    "start_time": "2022-01-11T13:07:42.508Z"
   },
   {
    "duration": 34,
    "start_time": "2022-01-11T13:07:50.924Z"
   },
   {
    "duration": 35,
    "start_time": "2022-01-11T13:07:56.764Z"
   },
   {
    "duration": 33,
    "start_time": "2022-01-11T13:09:08.949Z"
   },
   {
    "duration": 44,
    "start_time": "2022-01-11T13:11:14.231Z"
   },
   {
    "duration": 3,
    "start_time": "2022-01-11T13:11:22.510Z"
   },
   {
    "duration": 401,
    "start_time": "2022-01-11T13:11:22.514Z"
   },
   {
    "duration": 32,
    "start_time": "2022-01-11T13:11:22.917Z"
   },
   {
    "duration": 26,
    "start_time": "2022-01-11T13:11:22.951Z"
   },
   {
    "duration": 31,
    "start_time": "2022-01-11T13:11:22.979Z"
   },
   {
    "duration": 21,
    "start_time": "2022-01-11T13:11:23.012Z"
   },
   {
    "duration": 15,
    "start_time": "2022-01-11T13:11:23.035Z"
   },
   {
    "duration": 203,
    "start_time": "2022-01-11T13:11:23.052Z"
   },
   {
    "duration": 72,
    "start_time": "2022-01-11T13:11:23.257Z"
   },
   {
    "duration": 48,
    "start_time": "2022-01-11T13:11:23.331Z"
   },
   {
    "duration": 12,
    "start_time": "2022-01-11T13:11:23.380Z"
   },
   {
    "duration": 30,
    "start_time": "2022-01-11T13:11:23.393Z"
   },
   {
    "duration": 44,
    "start_time": "2022-01-11T13:11:23.425Z"
   },
   {
    "duration": 47,
    "start_time": "2022-01-11T13:11:23.470Z"
   },
   {
    "duration": 33,
    "start_time": "2022-01-11T13:11:23.519Z"
   },
   {
    "duration": 30,
    "start_time": "2022-01-11T13:11:45.304Z"
   },
   {
    "duration": 30,
    "start_time": "2022-01-11T13:24:37.274Z"
   },
   {
    "duration": 33,
    "start_time": "2022-01-11T13:25:12.979Z"
   },
   {
    "duration": 16,
    "start_time": "2022-01-11T13:25:52.108Z"
   },
   {
    "duration": 2,
    "start_time": "2022-01-11T13:25:57.375Z"
   },
   {
    "duration": 412,
    "start_time": "2022-01-11T13:25:57.379Z"
   },
   {
    "duration": 32,
    "start_time": "2022-01-11T13:25:57.793Z"
   },
   {
    "duration": 27,
    "start_time": "2022-01-11T13:25:57.827Z"
   },
   {
    "duration": 50,
    "start_time": "2022-01-11T13:25:57.856Z"
   },
   {
    "duration": 28,
    "start_time": "2022-01-11T13:25:57.908Z"
   },
   {
    "duration": 22,
    "start_time": "2022-01-11T13:25:57.938Z"
   },
   {
    "duration": 37,
    "start_time": "2022-01-11T13:25:57.962Z"
   },
   {
    "duration": 10,
    "start_time": "2022-01-11T13:25:58.001Z"
   },
   {
    "duration": 16,
    "start_time": "2022-01-11T13:25:58.013Z"
   },
   {
    "duration": 16,
    "start_time": "2022-01-11T13:25:58.030Z"
   },
   {
    "duration": 208,
    "start_time": "2022-01-11T13:25:58.048Z"
   },
   {
    "duration": 72,
    "start_time": "2022-01-11T13:25:58.258Z"
   },
   {
    "duration": 59,
    "start_time": "2022-01-11T13:25:58.332Z"
   },
   {
    "duration": 4,
    "start_time": "2022-01-11T13:25:58.393Z"
   },
   {
    "duration": 31,
    "start_time": "2022-01-11T13:25:58.399Z"
   },
   {
    "duration": 61,
    "start_time": "2022-01-11T13:25:58.431Z"
   },
   {
    "duration": 30,
    "start_time": "2022-01-11T13:25:58.494Z"
   },
   {
    "duration": 45,
    "start_time": "2022-01-11T13:25:58.526Z"
   },
   {
    "duration": 20,
    "start_time": "2022-01-11T13:27:07.717Z"
   },
   {
    "duration": 572,
    "start_time": "2022-01-12T06:49:36.067Z"
   },
   {
    "duration": 393,
    "start_time": "2022-01-12T06:49:36.641Z"
   },
   {
    "duration": 37,
    "start_time": "2022-01-12T06:49:37.036Z"
   },
   {
    "duration": 28,
    "start_time": "2022-01-12T06:49:37.075Z"
   },
   {
    "duration": 37,
    "start_time": "2022-01-12T06:49:37.105Z"
   },
   {
    "duration": 31,
    "start_time": "2022-01-12T06:49:37.144Z"
   },
   {
    "duration": 22,
    "start_time": "2022-01-12T06:49:37.176Z"
   },
   {
    "duration": 18,
    "start_time": "2022-01-12T06:49:37.200Z"
   },
   {
    "duration": 62,
    "start_time": "2022-01-12T06:49:37.220Z"
   },
   {
    "duration": 24,
    "start_time": "2022-01-12T06:49:37.284Z"
   },
   {
    "duration": 221,
    "start_time": "2022-01-12T06:49:37.310Z"
   },
   {
    "duration": 70,
    "start_time": "2022-01-12T06:49:37.533Z"
   },
   {
    "duration": 58,
    "start_time": "2022-01-12T06:49:37.605Z"
   },
   {
    "duration": 6,
    "start_time": "2022-01-12T06:49:37.664Z"
   },
   {
    "duration": 28,
    "start_time": "2022-01-12T06:49:37.672Z"
   },
   {
    "duration": 79,
    "start_time": "2022-01-12T06:49:37.702Z"
   },
   {
    "duration": 30,
    "start_time": "2022-01-12T06:49:37.782Z"
   },
   {
    "duration": 49,
    "start_time": "2022-01-12T06:49:37.814Z"
   },
   {
    "duration": 619,
    "start_time": "2022-01-12T07:12:33.090Z"
   },
   {
    "duration": 4,
    "start_time": "2022-01-12T07:12:53.066Z"
   },
   {
    "duration": 3,
    "start_time": "2022-01-12T07:16:17.119Z"
   },
   {
    "duration": 83,
    "start_time": "2022-01-12T07:17:17.448Z"
   },
   {
    "duration": 286,
    "start_time": "2022-01-12T07:17:22.856Z"
   },
   {
    "duration": 3,
    "start_time": "2022-01-12T07:23:02.280Z"
   },
   {
    "duration": 443,
    "start_time": "2022-01-12T07:23:02.286Z"
   },
   {
    "duration": 33,
    "start_time": "2022-01-12T07:23:02.732Z"
   },
   {
    "duration": 30,
    "start_time": "2022-01-12T07:23:02.766Z"
   },
   {
    "duration": 50,
    "start_time": "2022-01-12T07:23:02.798Z"
   },
   {
    "duration": 30,
    "start_time": "2022-01-12T07:23:02.850Z"
   },
   {
    "duration": 29,
    "start_time": "2022-01-12T07:23:02.883Z"
   },
   {
    "duration": 37,
    "start_time": "2022-01-12T07:23:02.914Z"
   },
   {
    "duration": 14,
    "start_time": "2022-01-12T07:23:02.954Z"
   },
   {
    "duration": 20,
    "start_time": "2022-01-12T07:23:02.970Z"
   },
   {
    "duration": 225,
    "start_time": "2022-01-12T07:23:02.992Z"
   },
   {
    "duration": 78,
    "start_time": "2022-01-12T07:23:03.218Z"
   },
   {
    "duration": 60,
    "start_time": "2022-01-12T07:23:03.298Z"
   },
   {
    "duration": 284,
    "start_time": "2022-01-12T07:23:03.360Z"
   },
   {
    "duration": -381,
    "start_time": "2022-01-12T07:23:04.027Z"
   },
   {
    "duration": -383,
    "start_time": "2022-01-12T07:23:04.030Z"
   },
   {
    "duration": -384,
    "start_time": "2022-01-12T07:23:04.033Z"
   },
   {
    "duration": -391,
    "start_time": "2022-01-12T07:23:04.042Z"
   },
   {
    "duration": -393,
    "start_time": "2022-01-12T07:23:04.045Z"
   },
   {
    "duration": 347,
    "start_time": "2022-01-12T07:37:09.904Z"
   },
   {
    "duration": 2,
    "start_time": "2022-01-12T07:37:21.593Z"
   },
   {
    "duration": 11,
    "start_time": "2022-01-12T07:37:33.031Z"
   },
   {
    "duration": 10,
    "start_time": "2022-01-12T07:38:02.416Z"
   },
   {
    "duration": 3,
    "start_time": "2022-01-12T07:38:14.138Z"
   },
   {
    "duration": 398,
    "start_time": "2022-01-12T07:38:14.142Z"
   },
   {
    "duration": 30,
    "start_time": "2022-01-12T07:38:14.542Z"
   },
   {
    "duration": 25,
    "start_time": "2022-01-12T07:38:14.573Z"
   },
   {
    "duration": 46,
    "start_time": "2022-01-12T07:38:14.600Z"
   },
   {
    "duration": 27,
    "start_time": "2022-01-12T07:38:14.648Z"
   },
   {
    "duration": 22,
    "start_time": "2022-01-12T07:38:14.677Z"
   },
   {
    "duration": 10,
    "start_time": "2022-01-12T07:38:14.701Z"
   },
   {
    "duration": 41,
    "start_time": "2022-01-12T07:38:14.712Z"
   },
   {
    "duration": 13,
    "start_time": "2022-01-12T07:38:14.755Z"
   },
   {
    "duration": 185,
    "start_time": "2022-01-12T07:38:14.769Z"
   },
   {
    "duration": 59,
    "start_time": "2022-01-12T07:38:14.956Z"
   },
   {
    "duration": 59,
    "start_time": "2022-01-12T07:38:15.017Z"
   },
   {
    "duration": 10,
    "start_time": "2022-01-12T07:38:15.078Z"
   },
   {
    "duration": 29,
    "start_time": "2022-01-12T07:38:15.089Z"
   },
   {
    "duration": 59,
    "start_time": "2022-01-12T07:38:15.120Z"
   },
   {
    "duration": 26,
    "start_time": "2022-01-12T07:38:15.181Z"
   },
   {
    "duration": 53,
    "start_time": "2022-01-12T07:38:15.209Z"
   },
   {
    "duration": 15,
    "start_time": "2022-01-12T07:44:21.685Z"
   },
   {
    "duration": 8295,
    "start_time": "2022-01-12T07:45:29.815Z"
   },
   {
    "duration": -401,
    "start_time": "2022-01-12T07:45:47.419Z"
   },
   {
    "duration": 17,
    "start_time": "2022-01-12T08:01:24.181Z"
   },
   {
    "duration": 12,
    "start_time": "2022-01-12T08:50:39.349Z"
   },
   {
    "duration": 22,
    "start_time": "2022-01-12T08:54:47.407Z"
   },
   {
    "duration": 21,
    "start_time": "2022-01-12T08:56:29.753Z"
   },
   {
    "duration": 28,
    "start_time": "2022-01-12T08:57:55.570Z"
   },
   {
    "duration": 24,
    "start_time": "2022-01-12T08:58:16.388Z"
   },
   {
    "duration": 31,
    "start_time": "2022-01-12T08:58:59.620Z"
   },
   {
    "duration": 31,
    "start_time": "2022-01-12T08:59:08.230Z"
   },
   {
    "duration": 33,
    "start_time": "2022-01-12T09:07:10.451Z"
   },
   {
    "duration": 35,
    "start_time": "2022-01-12T09:07:23.324Z"
   },
   {
    "duration": 355,
    "start_time": "2022-01-12T09:41:10.979Z"
   },
   {
    "duration": 565,
    "start_time": "2022-01-12T09:41:26.876Z"
   },
   {
    "duration": 421,
    "start_time": "2022-01-12T09:41:27.443Z"
   },
   {
    "duration": 38,
    "start_time": "2022-01-12T09:41:27.866Z"
   },
   {
    "duration": 30,
    "start_time": "2022-01-12T09:41:27.906Z"
   },
   {
    "duration": 29,
    "start_time": "2022-01-12T09:41:27.938Z"
   },
   {
    "duration": 30,
    "start_time": "2022-01-12T09:41:27.969Z"
   },
   {
    "duration": 43,
    "start_time": "2022-01-12T09:41:28.002Z"
   },
   {
    "duration": 10,
    "start_time": "2022-01-12T09:41:28.049Z"
   },
   {
    "duration": 19,
    "start_time": "2022-01-12T09:41:28.062Z"
   },
   {
    "duration": 19,
    "start_time": "2022-01-12T09:41:28.083Z"
   },
   {
    "duration": 238,
    "start_time": "2022-01-12T09:41:28.104Z"
   },
   {
    "duration": 67,
    "start_time": "2022-01-12T09:41:28.344Z"
   },
   {
    "duration": 68,
    "start_time": "2022-01-12T09:41:28.412Z"
   },
   {
    "duration": 14,
    "start_time": "2022-01-12T09:41:31.251Z"
   },
   {
    "duration": 10,
    "start_time": "2022-01-12T09:42:14.083Z"
   },
   {
    "duration": 2,
    "start_time": "2022-01-12T09:42:24.504Z"
   },
   {
    "duration": 415,
    "start_time": "2022-01-12T09:42:24.508Z"
   },
   {
    "duration": 30,
    "start_time": "2022-01-12T09:42:24.925Z"
   },
   {
    "duration": 40,
    "start_time": "2022-01-12T09:42:24.957Z"
   },
   {
    "duration": 25,
    "start_time": "2022-01-12T09:42:24.998Z"
   },
   {
    "duration": 44,
    "start_time": "2022-01-12T09:42:25.025Z"
   },
   {
    "duration": 26,
    "start_time": "2022-01-12T09:42:25.071Z"
   },
   {
    "duration": 11,
    "start_time": "2022-01-12T09:42:25.099Z"
   },
   {
    "duration": 34,
    "start_time": "2022-01-12T09:42:25.111Z"
   },
   {
    "duration": 14,
    "start_time": "2022-01-12T09:42:25.147Z"
   },
   {
    "duration": 198,
    "start_time": "2022-01-12T09:42:25.163Z"
   },
   {
    "duration": 81,
    "start_time": "2022-01-12T09:42:25.363Z"
   },
   {
    "duration": 57,
    "start_time": "2022-01-12T09:42:25.446Z"
   },
   {
    "duration": 10,
    "start_time": "2022-01-12T09:42:29.636Z"
   },
   {
    "duration": 580,
    "start_time": "2022-01-12T09:43:11.580Z"
   },
   {
    "duration": 427,
    "start_time": "2022-01-12T09:43:12.163Z"
   },
   {
    "duration": 42,
    "start_time": "2022-01-12T09:43:12.592Z"
   },
   {
    "duration": 31,
    "start_time": "2022-01-12T09:43:12.637Z"
   },
   {
    "duration": 27,
    "start_time": "2022-01-12T09:43:12.670Z"
   },
   {
    "duration": 53,
    "start_time": "2022-01-12T09:43:12.699Z"
   },
   {
    "duration": 23,
    "start_time": "2022-01-12T09:43:12.754Z"
   },
   {
    "duration": 10,
    "start_time": "2022-01-12T09:43:12.780Z"
   },
   {
    "duration": 16,
    "start_time": "2022-01-12T09:43:12.792Z"
   },
   {
    "duration": 46,
    "start_time": "2022-01-12T09:43:12.809Z"
   },
   {
    "duration": 233,
    "start_time": "2022-01-12T09:43:12.857Z"
   },
   {
    "duration": 77,
    "start_time": "2022-01-12T09:43:13.092Z"
   },
   {
    "duration": 51,
    "start_time": "2022-01-12T09:43:13.171Z"
   },
   {
    "duration": 22,
    "start_time": "2022-01-12T09:43:13.224Z"
   },
   {
    "duration": 12,
    "start_time": "2022-01-12T09:43:13.248Z"
   },
   {
    "duration": 31,
    "start_time": "2022-01-12T09:43:13.262Z"
   },
   {
    "duration": 93,
    "start_time": "2022-01-12T09:43:13.295Z"
   },
   {
    "duration": 63,
    "start_time": "2022-01-12T09:43:13.390Z"
   },
   {
    "duration": 28,
    "start_time": "2022-01-12T09:43:13.455Z"
   },
   {
    "duration": 780,
    "start_time": "2022-01-12T09:47:20.739Z"
   },
   {
    "duration": 561,
    "start_time": "2022-01-12T09:47:21.521Z"
   },
   {
    "duration": 61,
    "start_time": "2022-01-12T09:47:22.085Z"
   },
   {
    "duration": 38,
    "start_time": "2022-01-12T09:47:22.148Z"
   },
   {
    "duration": 38,
    "start_time": "2022-01-12T09:47:22.188Z"
   },
   {
    "duration": 43,
    "start_time": "2022-01-12T09:47:22.229Z"
   },
   {
    "duration": 30,
    "start_time": "2022-01-12T09:47:22.274Z"
   },
   {
    "duration": 42,
    "start_time": "2022-01-12T09:47:22.306Z"
   },
   {
    "duration": 23,
    "start_time": "2022-01-12T09:47:22.350Z"
   },
   {
    "duration": 19,
    "start_time": "2022-01-12T09:47:22.375Z"
   },
   {
    "duration": 225,
    "start_time": "2022-01-12T09:47:22.396Z"
   },
   {
    "duration": 75,
    "start_time": "2022-01-12T09:47:22.623Z"
   },
   {
    "duration": 58,
    "start_time": "2022-01-12T09:47:22.700Z"
   },
   {
    "duration": 13,
    "start_time": "2022-01-12T09:47:22.760Z"
   },
   {
    "duration": 11,
    "start_time": "2022-01-12T09:47:22.775Z"
   },
   {
    "duration": 75,
    "start_time": "2022-01-12T09:47:22.788Z"
   },
   {
    "duration": 604,
    "start_time": "2022-01-12T09:47:22.865Z"
   },
   {
    "duration": 68,
    "start_time": "2022-01-12T09:47:41.450Z"
   },
   {
    "duration": 641,
    "start_time": "2022-01-12T09:48:33.617Z"
   },
   {
    "duration": 406,
    "start_time": "2022-01-12T09:48:34.260Z"
   },
   {
    "duration": 38,
    "start_time": "2022-01-12T09:48:34.668Z"
   },
   {
    "duration": 31,
    "start_time": "2022-01-12T09:48:34.708Z"
   },
   {
    "duration": 31,
    "start_time": "2022-01-12T09:48:34.741Z"
   },
   {
    "duration": 28,
    "start_time": "2022-01-12T09:48:34.773Z"
   },
   {
    "duration": 42,
    "start_time": "2022-01-12T09:48:34.803Z"
   },
   {
    "duration": 11,
    "start_time": "2022-01-12T09:48:34.848Z"
   },
   {
    "duration": 15,
    "start_time": "2022-01-12T09:48:34.861Z"
   },
   {
    "duration": 14,
    "start_time": "2022-01-12T09:48:34.878Z"
   },
   {
    "duration": 240,
    "start_time": "2022-01-12T09:48:34.894Z"
   },
   {
    "duration": 69,
    "start_time": "2022-01-12T09:48:35.136Z"
   },
   {
    "duration": 66,
    "start_time": "2022-01-12T09:48:35.207Z"
   },
   {
    "duration": 14,
    "start_time": "2022-01-12T09:48:35.275Z"
   },
   {
    "duration": 11,
    "start_time": "2022-01-12T09:48:35.291Z"
   },
   {
    "duration": 42,
    "start_time": "2022-01-12T09:48:35.303Z"
   },
   {
    "duration": 72,
    "start_time": "2022-01-12T09:48:35.347Z"
   },
   {
    "duration": 8,
    "start_time": "2022-01-12T09:50:33.518Z"
   },
   {
    "duration": 36,
    "start_time": "2022-01-12T09:50:46.848Z"
   },
   {
    "duration": 48,
    "start_time": "2022-01-12T09:55:49.580Z"
   },
   {
    "duration": 7092,
    "start_time": "2022-01-12T10:12:36.891Z"
   },
   {
    "duration": 6,
    "start_time": "2022-01-12T10:14:06.764Z"
   },
   {
    "duration": 314,
    "start_time": "2022-01-12T10:14:53.894Z"
   },
   {
    "duration": 628,
    "start_time": "2022-01-12T10:18:15.322Z"
   },
   {
    "duration": 417,
    "start_time": "2022-01-12T10:18:15.952Z"
   },
   {
    "duration": 42,
    "start_time": "2022-01-12T10:18:16.371Z"
   },
   {
    "duration": 31,
    "start_time": "2022-01-12T10:18:16.415Z"
   },
   {
    "duration": 30,
    "start_time": "2022-01-12T10:18:16.448Z"
   },
   {
    "duration": 31,
    "start_time": "2022-01-12T10:18:16.480Z"
   },
   {
    "duration": 44,
    "start_time": "2022-01-12T10:18:16.512Z"
   },
   {
    "duration": 11,
    "start_time": "2022-01-12T10:18:16.558Z"
   },
   {
    "duration": 21,
    "start_time": "2022-01-12T10:18:16.571Z"
   },
   {
    "duration": 15,
    "start_time": "2022-01-12T10:18:16.594Z"
   },
   {
    "duration": 236,
    "start_time": "2022-01-12T10:18:16.641Z"
   },
   {
    "duration": 83,
    "start_time": "2022-01-12T10:18:16.879Z"
   },
   {
    "duration": 53,
    "start_time": "2022-01-12T10:18:16.964Z"
   },
   {
    "duration": 27,
    "start_time": "2022-01-12T10:18:17.019Z"
   },
   {
    "duration": 9,
    "start_time": "2022-01-12T10:18:17.048Z"
   },
   {
    "duration": 3,
    "start_time": "2022-01-12T10:18:50.209Z"
   },
   {
    "duration": 438,
    "start_time": "2022-01-12T10:18:50.214Z"
   },
   {
    "duration": 34,
    "start_time": "2022-01-12T10:18:50.654Z"
   },
   {
    "duration": 28,
    "start_time": "2022-01-12T10:18:50.689Z"
   },
   {
    "duration": 44,
    "start_time": "2022-01-12T10:18:50.718Z"
   },
   {
    "duration": 29,
    "start_time": "2022-01-12T10:18:50.763Z"
   },
   {
    "duration": 55,
    "start_time": "2022-01-12T10:18:50.794Z"
   },
   {
    "duration": 14,
    "start_time": "2022-01-12T10:18:50.852Z"
   },
   {
    "duration": 26,
    "start_time": "2022-01-12T10:18:50.869Z"
   },
   {
    "duration": 26,
    "start_time": "2022-01-12T10:18:50.897Z"
   },
   {
    "duration": 204,
    "start_time": "2022-01-12T10:18:50.941Z"
   },
   {
    "duration": 68,
    "start_time": "2022-01-12T10:18:51.147Z"
   },
   {
    "duration": 65,
    "start_time": "2022-01-12T10:18:51.217Z"
   },
   {
    "duration": 11,
    "start_time": "2022-01-12T10:18:51.284Z"
   },
   {
    "duration": 15,
    "start_time": "2022-01-12T10:18:51.297Z"
   },
   {
    "duration": 30,
    "start_time": "2022-01-12T10:18:51.315Z"
   },
   {
    "duration": 32,
    "start_time": "2022-01-12T10:18:51.347Z"
   },
   {
    "duration": 86,
    "start_time": "2022-01-12T10:18:51.381Z"
   },
   {
    "duration": 8,
    "start_time": "2022-01-12T10:18:51.469Z"
   },
   {
    "duration": 34,
    "start_time": "2022-01-12T10:18:51.479Z"
   },
   {
    "duration": 298,
    "start_time": "2022-01-12T10:19:25.072Z"
   },
   {
    "duration": 304,
    "start_time": "2022-01-12T10:19:33.335Z"
   },
   {
    "duration": 278,
    "start_time": "2022-01-12T10:22:37.178Z"
   },
   {
    "duration": 241,
    "start_time": "2022-01-12T10:22:46.617Z"
   },
   {
    "duration": 17,
    "start_time": "2022-01-12T10:23:12.482Z"
   },
   {
    "duration": 185,
    "start_time": "2022-01-12T10:27:52.015Z"
   },
   {
    "duration": 25,
    "start_time": "2022-01-12T10:28:02.911Z"
   },
   {
    "duration": 18,
    "start_time": "2022-01-12T10:29:52.497Z"
   },
   {
    "duration": 4,
    "start_time": "2022-01-12T11:06:34.639Z"
   },
   {
    "duration": 4,
    "start_time": "2022-01-12T12:14:17.213Z"
   },
   {
    "duration": 574,
    "start_time": "2022-01-12T12:14:17.219Z"
   },
   {
    "duration": 50,
    "start_time": "2022-01-12T12:14:17.796Z"
   },
   {
    "duration": 37,
    "start_time": "2022-01-12T12:14:17.848Z"
   },
   {
    "duration": 56,
    "start_time": "2022-01-12T12:14:17.887Z"
   },
   {
    "duration": 39,
    "start_time": "2022-01-12T12:14:17.945Z"
   },
   {
    "duration": 56,
    "start_time": "2022-01-12T12:14:17.987Z"
   },
   {
    "duration": 15,
    "start_time": "2022-01-12T12:14:18.046Z"
   },
   {
    "duration": 18,
    "start_time": "2022-01-12T12:14:18.063Z"
   },
   {
    "duration": 19,
    "start_time": "2022-01-12T12:14:18.083Z"
   },
   {
    "duration": 218,
    "start_time": "2022-01-12T12:14:18.105Z"
   },
   {
    "duration": 65,
    "start_time": "2022-01-12T12:14:18.341Z"
   },
   {
    "duration": 62,
    "start_time": "2022-01-12T12:14:18.408Z"
   },
   {
    "duration": 10,
    "start_time": "2022-01-12T12:14:18.472Z"
   },
   {
    "duration": 12,
    "start_time": "2022-01-12T12:14:18.484Z"
   },
   {
    "duration": 16,
    "start_time": "2022-01-12T12:14:18.498Z"
   },
   {
    "duration": 51,
    "start_time": "2022-01-12T12:14:18.541Z"
   },
   {
    "duration": 105,
    "start_time": "2022-01-12T12:14:18.594Z"
   },
   {
    "duration": 9,
    "start_time": "2022-01-12T12:14:18.703Z"
   },
   {
    "duration": 282,
    "start_time": "2022-01-12T12:14:18.714Z"
   },
   {
    "duration": -146,
    "start_time": "2022-01-12T12:14:19.144Z"
   },
   {
    "duration": -153,
    "start_time": "2022-01-12T12:14:19.152Z"
   },
   {
    "duration": -159,
    "start_time": "2022-01-12T12:14:19.160Z"
   },
   {
    "duration": 34,
    "start_time": "2022-01-12T12:49:07.965Z"
   },
   {
    "duration": 24,
    "start_time": "2022-01-12T12:49:08.001Z"
   },
   {
    "duration": 29,
    "start_time": "2022-01-12T12:49:08.027Z"
   },
   {
    "duration": 264,
    "start_time": "2022-01-12T12:49:08.058Z"
   },
   {
    "duration": 29,
    "start_time": "2022-01-12T12:53:51.402Z"
   },
   {
    "duration": 10,
    "start_time": "2022-01-12T12:56:08.229Z"
   },
   {
    "duration": 24,
    "start_time": "2022-01-12T13:33:22.965Z"
   },
   {
    "duration": 241,
    "start_time": "2022-01-12T13:44:31.742Z"
   },
   {
    "duration": 241,
    "start_time": "2022-01-12T13:44:45.559Z"
   },
   {
    "duration": 256,
    "start_time": "2022-01-12T13:44:51.638Z"
   },
   {
    "duration": 316,
    "start_time": "2022-01-12T13:45:08.086Z"
   },
   {
    "duration": 776,
    "start_time": "2022-01-12T13:48:02.422Z"
   },
   {
    "duration": 426,
    "start_time": "2022-01-12T13:48:03.200Z"
   },
   {
    "duration": 42,
    "start_time": "2022-01-12T13:48:03.629Z"
   },
   {
    "duration": 33,
    "start_time": "2022-01-12T13:48:03.674Z"
   },
   {
    "duration": 53,
    "start_time": "2022-01-12T13:48:03.709Z"
   },
   {
    "duration": 33,
    "start_time": "2022-01-12T13:48:03.764Z"
   },
   {
    "duration": 47,
    "start_time": "2022-01-12T13:48:03.799Z"
   },
   {
    "duration": 13,
    "start_time": "2022-01-12T13:48:03.849Z"
   },
   {
    "duration": 26,
    "start_time": "2022-01-12T13:48:03.864Z"
   },
   {
    "duration": 14,
    "start_time": "2022-01-12T13:48:03.892Z"
   },
   {
    "duration": 252,
    "start_time": "2022-01-12T13:48:03.908Z"
   },
   {
    "duration": 79,
    "start_time": "2022-01-12T13:48:04.162Z"
   },
   {
    "duration": 54,
    "start_time": "2022-01-12T13:48:04.243Z"
   },
   {
    "duration": 14,
    "start_time": "2022-01-12T13:48:04.299Z"
   },
   {
    "duration": 9,
    "start_time": "2022-01-12T13:48:04.315Z"
   },
   {
    "duration": 27,
    "start_time": "2022-01-12T13:48:04.325Z"
   },
   {
    "duration": 34,
    "start_time": "2022-01-12T13:48:04.353Z"
   },
   {
    "duration": 106,
    "start_time": "2022-01-12T13:48:04.389Z"
   },
   {
    "duration": 7,
    "start_time": "2022-01-12T13:48:04.497Z"
   },
   {
    "duration": 49,
    "start_time": "2022-01-12T13:48:04.505Z"
   },
   {
    "duration": 7,
    "start_time": "2022-01-12T13:48:04.555Z"
   },
   {
    "duration": 44,
    "start_time": "2022-01-12T13:48:04.564Z"
   },
   {
    "duration": 23,
    "start_time": "2022-01-12T13:48:04.612Z"
   },
   {
    "duration": 14,
    "start_time": "2022-01-12T13:48:04.641Z"
   },
   {
    "duration": 12,
    "start_time": "2022-01-12T13:48:42.356Z"
   },
   {
    "duration": 16,
    "start_time": "2022-01-12T13:50:20.389Z"
   },
   {
    "duration": 3,
    "start_time": "2022-01-12T13:57:26.505Z"
   },
   {
    "duration": 624,
    "start_time": "2022-01-12T13:57:31.616Z"
   },
   {
    "duration": 678,
    "start_time": "2022-01-12T13:57:32.242Z"
   },
   {
    "duration": 46,
    "start_time": "2022-01-12T13:57:32.923Z"
   },
   {
    "duration": 29,
    "start_time": "2022-01-12T13:57:32.971Z"
   },
   {
    "duration": 44,
    "start_time": "2022-01-12T13:57:33.002Z"
   },
   {
    "duration": 29,
    "start_time": "2022-01-12T13:57:33.048Z"
   },
   {
    "duration": 54,
    "start_time": "2022-01-12T13:57:33.078Z"
   },
   {
    "duration": 10,
    "start_time": "2022-01-12T13:57:33.134Z"
   },
   {
    "duration": 15,
    "start_time": "2022-01-12T13:57:33.146Z"
   },
   {
    "duration": 26,
    "start_time": "2022-01-12T13:57:33.163Z"
   },
   {
    "duration": 308,
    "start_time": "2022-01-12T13:57:33.191Z"
   },
   {
    "duration": 83,
    "start_time": "2022-01-12T13:57:33.501Z"
   },
   {
    "duration": 58,
    "start_time": "2022-01-12T13:57:33.586Z"
   },
   {
    "duration": 13,
    "start_time": "2022-01-12T13:57:33.646Z"
   },
   {
    "duration": 12,
    "start_time": "2022-01-12T13:57:33.660Z"
   },
   {
    "duration": 24,
    "start_time": "2022-01-12T13:57:33.674Z"
   },
   {
    "duration": 50,
    "start_time": "2022-01-12T13:57:33.701Z"
   },
   {
    "duration": 92,
    "start_time": "2022-01-12T13:57:33.753Z"
   },
   {
    "duration": 7,
    "start_time": "2022-01-12T13:57:33.847Z"
   },
   {
    "duration": 69,
    "start_time": "2022-01-12T13:57:33.857Z"
   },
   {
    "duration": 7,
    "start_time": "2022-01-12T13:57:33.929Z"
   },
   {
    "duration": 38,
    "start_time": "2022-01-12T13:57:33.938Z"
   },
   {
    "duration": 34,
    "start_time": "2022-01-12T13:57:33.980Z"
   },
   {
    "duration": 37,
    "start_time": "2022-01-12T13:57:34.016Z"
   },
   {
    "duration": 40,
    "start_time": "2022-01-12T13:59:12.143Z"
   },
   {
    "duration": 8,
    "start_time": "2022-01-12T14:11:10.297Z"
   },
   {
    "duration": 35,
    "start_time": "2022-01-12T14:11:31.370Z"
   },
   {
    "duration": 7,
    "start_time": "2022-01-12T14:13:30.401Z"
   },
   {
    "duration": 30,
    "start_time": "2022-01-12T14:13:36.140Z"
   },
   {
    "duration": 6,
    "start_time": "2022-01-12T14:14:08.596Z"
   },
   {
    "duration": 8502,
    "start_time": "2022-01-12T14:27:52.511Z"
   },
   {
    "duration": 5,
    "start_time": "2022-01-12T14:28:19.888Z"
   },
   {
    "duration": 7606,
    "start_time": "2022-01-12T14:28:22.576Z"
   },
   {
    "duration": 20,
    "start_time": "2022-01-12T14:28:55.896Z"
   },
   {
    "duration": 7890,
    "start_time": "2022-01-12T14:31:11.011Z"
   },
   {
    "duration": 39,
    "start_time": "2022-01-12T14:31:42.091Z"
   },
   {
    "duration": 28,
    "start_time": "2022-01-12T14:31:54.597Z"
   },
   {
    "duration": 19,
    "start_time": "2022-01-12T14:33:03.744Z"
   },
   {
    "duration": 149,
    "start_time": "2022-01-12T14:33:06.797Z"
   },
   {
    "duration": 168,
    "start_time": "2022-01-12T14:34:15.526Z"
   },
   {
    "duration": 4,
    "start_time": "2022-01-12T14:36:07.422Z"
   },
   {
    "duration": 950,
    "start_time": "2022-01-13T08:04:35.389Z"
   },
   {
    "duration": 560,
    "start_time": "2022-01-13T08:04:36.342Z"
   },
   {
    "duration": 55,
    "start_time": "2022-01-13T08:04:36.906Z"
   },
   {
    "duration": 67,
    "start_time": "2022-01-13T08:04:36.964Z"
   },
   {
    "duration": 66,
    "start_time": "2022-01-13T08:04:37.034Z"
   },
   {
    "duration": 57,
    "start_time": "2022-01-13T08:04:37.104Z"
   },
   {
    "duration": 69,
    "start_time": "2022-01-13T08:04:37.164Z"
   },
   {
    "duration": 23,
    "start_time": "2022-01-13T08:04:37.237Z"
   },
   {
    "duration": 53,
    "start_time": "2022-01-13T08:04:37.264Z"
   },
   {
    "duration": 25,
    "start_time": "2022-01-13T08:04:37.321Z"
   },
   {
    "duration": 390,
    "start_time": "2022-01-13T08:04:37.349Z"
   },
   {
    "duration": 111,
    "start_time": "2022-01-13T08:04:37.741Z"
   },
   {
    "duration": 79,
    "start_time": "2022-01-13T08:04:37.855Z"
   },
   {
    "duration": 21,
    "start_time": "2022-01-13T08:04:37.937Z"
   },
   {
    "duration": 12,
    "start_time": "2022-01-13T08:04:37.961Z"
   },
   {
    "duration": 39,
    "start_time": "2022-01-13T08:04:37.976Z"
   },
   {
    "duration": 48,
    "start_time": "2022-01-13T08:04:38.018Z"
   },
   {
    "duration": 139,
    "start_time": "2022-01-13T08:04:38.069Z"
   },
   {
    "duration": 11,
    "start_time": "2022-01-13T08:04:38.211Z"
   },
   {
    "duration": 93,
    "start_time": "2022-01-13T08:04:38.225Z"
   },
   {
    "duration": 12,
    "start_time": "2022-01-13T08:04:38.321Z"
   },
   {
    "duration": 72,
    "start_time": "2022-01-13T08:04:38.337Z"
   },
   {
    "duration": 46,
    "start_time": "2022-01-13T08:04:38.413Z"
   },
   {
    "duration": 86,
    "start_time": "2022-01-13T08:04:38.462Z"
   },
   {
    "duration": 67,
    "start_time": "2022-01-13T08:04:38.551Z"
   },
   {
    "duration": 317,
    "start_time": "2022-01-13T08:04:38.621Z"
   },
   {
    "duration": 4,
    "start_time": "2022-01-13T08:04:38.945Z"
   },
   {
    "duration": 11,
    "start_time": "2022-01-13T08:07:04.715Z"
   },
   {
    "duration": 193,
    "start_time": "2022-01-13T08:37:40.084Z"
   },
   {
    "duration": 473,
    "start_time": "2022-01-13T08:37:44.420Z"
   },
   {
    "duration": 3139,
    "start_time": "2022-01-13T08:40:03.911Z"
   },
   {
    "duration": 404,
    "start_time": "2022-01-13T08:40:32.007Z"
   },
   {
    "duration": 356,
    "start_time": "2022-01-13T08:50:40.864Z"
   },
   {
    "duration": 404,
    "start_time": "2022-01-13T08:51:34.159Z"
   },
   {
    "duration": 4,
    "start_time": "2022-01-13T08:51:59.744Z"
   },
   {
    "duration": 2240,
    "start_time": "2022-01-13T08:52:05.504Z"
   },
   {
    "duration": 370,
    "start_time": "2022-01-13T08:52:27.376Z"
   },
   {
    "duration": 4,
    "start_time": "2022-01-13T08:52:46.193Z"
   },
   {
    "duration": 4,
    "start_time": "2022-01-13T08:52:58.176Z"
   },
   {
    "duration": 366,
    "start_time": "2022-01-13T08:54:37.810Z"
   },
   {
    "duration": 867,
    "start_time": "2022-01-13T08:55:01.162Z"
   },
   {
    "duration": 9313,
    "start_time": "2022-01-13T08:55:36.820Z"
   },
   {
    "duration": 118,
    "start_time": "2022-01-13T08:56:40.893Z"
   },
   {
    "duration": 10243,
    "start_time": "2022-01-13T08:57:11.054Z"
   },
   {
    "duration": 9066,
    "start_time": "2022-01-13T08:58:04.230Z"
   },
   {
    "duration": 380,
    "start_time": "2022-01-13T08:58:41.366Z"
   },
   {
    "duration": 416,
    "start_time": "2022-01-13T08:59:06.224Z"
   },
   {
    "duration": 11,
    "start_time": "2022-01-13T08:59:11.798Z"
   },
   {
    "duration": 379,
    "start_time": "2022-01-13T08:59:57.103Z"
   },
   {
    "duration": 378,
    "start_time": "2022-01-13T09:05:39.973Z"
   },
   {
    "duration": 365,
    "start_time": "2022-01-13T09:06:09.684Z"
   },
   {
    "duration": 5,
    "start_time": "2022-01-13T09:06:38.358Z"
   },
   {
    "duration": 5,
    "start_time": "2022-01-13T09:06:59.828Z"
   },
   {
    "duration": 368,
    "start_time": "2022-01-13T09:26:04.582Z"
   },
   {
    "duration": 370,
    "start_time": "2022-01-13T09:26:23.301Z"
   },
   {
    "duration": 334,
    "start_time": "2022-01-13T09:28:20.943Z"
   },
   {
    "duration": 362,
    "start_time": "2022-01-13T09:28:39.472Z"
   },
   {
    "duration": 674,
    "start_time": "2022-01-13T09:28:56.055Z"
   },
   {
    "duration": 374,
    "start_time": "2022-01-13T09:29:03.250Z"
   },
   {
    "duration": 378,
    "start_time": "2022-01-13T09:30:54.489Z"
   },
   {
    "duration": 399,
    "start_time": "2022-01-13T09:31:09.042Z"
   },
   {
    "duration": 381,
    "start_time": "2022-01-13T09:31:34.537Z"
   },
   {
    "duration": 650,
    "start_time": "2022-01-13T09:31:50.427Z"
   },
   {
    "duration": 485,
    "start_time": "2022-01-13T09:33:22.331Z"
   },
   {
    "duration": 376,
    "start_time": "2022-01-13T09:33:38.700Z"
   },
   {
    "duration": 669,
    "start_time": "2022-01-13T09:34:09.068Z"
   },
   {
    "duration": 403,
    "start_time": "2022-01-13T09:34:22.021Z"
   },
   {
    "duration": 424,
    "start_time": "2022-01-13T09:34:47.196Z"
   },
   {
    "duration": 362,
    "start_time": "2022-01-13T09:39:27.625Z"
   },
   {
    "duration": 410,
    "start_time": "2022-01-13T09:42:55.188Z"
   },
   {
    "duration": 4,
    "start_time": "2022-01-13T09:43:30.732Z"
   },
   {
    "duration": 400,
    "start_time": "2022-01-13T09:43:34.724Z"
   },
   {
    "duration": 123,
    "start_time": "2022-01-13T09:43:55.068Z"
   },
   {
    "duration": 307,
    "start_time": "2022-01-13T09:44:00.756Z"
   },
   {
    "duration": 346,
    "start_time": "2022-01-13T09:44:27.637Z"
   },
   {
    "duration": 809,
    "start_time": "2022-01-13T09:45:06.791Z"
   },
   {
    "duration": 520,
    "start_time": "2022-01-13T09:45:14.318Z"
   },
   {
    "duration": 250,
    "start_time": "2022-01-13T09:46:35.038Z"
   },
   {
    "duration": 436,
    "start_time": "2022-01-13T09:48:33.106Z"
   },
   {
    "duration": 374,
    "start_time": "2022-01-13T09:48:51.369Z"
   },
   {
    "duration": 38,
    "start_time": "2022-01-13T09:53:06.877Z"
   },
   {
    "duration": 392,
    "start_time": "2022-01-13T09:55:04.903Z"
   },
   {
    "duration": 130,
    "start_time": "2022-01-13T09:55:43.344Z"
   },
   {
    "duration": 120,
    "start_time": "2022-01-13T09:55:47.039Z"
   },
   {
    "duration": 11,
    "start_time": "2022-01-13T09:56:50.616Z"
   },
   {
    "duration": 444,
    "start_time": "2022-01-13T10:01:26.629Z"
   },
   {
    "duration": 13,
    "start_time": "2022-01-13T10:06:03.216Z"
   },
   {
    "duration": 6,
    "start_time": "2022-01-13T10:06:10.977Z"
   },
   {
    "duration": 11,
    "start_time": "2022-01-13T10:06:13.679Z"
   },
   {
    "duration": 11,
    "start_time": "2022-01-13T10:06:38.392Z"
   },
   {
    "duration": 420,
    "start_time": "2022-01-13T10:07:41.393Z"
   },
   {
    "duration": 11,
    "start_time": "2022-01-13T10:07:53.780Z"
   },
   {
    "duration": 12,
    "start_time": "2022-01-13T10:09:15.514Z"
   },
   {
    "duration": 11,
    "start_time": "2022-01-13T10:10:37.596Z"
   },
   {
    "duration": 830,
    "start_time": "2022-01-13T10:20:17.068Z"
   },
   {
    "duration": 502,
    "start_time": "2022-01-13T10:20:25.028Z"
   },
   {
    "duration": 655,
    "start_time": "2022-01-13T10:21:22.957Z"
   },
   {
    "duration": 384,
    "start_time": "2022-01-13T10:21:41.574Z"
   },
   {
    "duration": 430,
    "start_time": "2022-01-13T10:21:51.750Z"
   },
   {
    "duration": 530,
    "start_time": "2022-01-13T10:21:57.806Z"
   },
   {
    "duration": 384,
    "start_time": "2022-01-13T10:22:25.563Z"
   },
   {
    "duration": 503,
    "start_time": "2022-01-13T10:22:43.582Z"
   },
   {
    "duration": 369,
    "start_time": "2022-01-13T10:22:47.510Z"
   },
   {
    "duration": 376,
    "start_time": "2022-01-13T10:23:27.895Z"
   },
   {
    "duration": 355,
    "start_time": "2022-01-13T10:24:49.111Z"
   },
   {
    "duration": 358,
    "start_time": "2022-01-13T10:24:59.889Z"
   },
   {
    "duration": 335,
    "start_time": "2022-01-13T10:25:50.681Z"
   },
   {
    "duration": 467,
    "start_time": "2022-01-13T10:26:41.801Z"
   },
   {
    "duration": 332,
    "start_time": "2022-01-13T10:28:20.171Z"
   },
   {
    "duration": 9443,
    "start_time": "2022-01-13T10:41:22.177Z"
   },
   {
    "duration": 204,
    "start_time": "2022-01-13T10:41:31.418Z"
   },
   {
    "duration": 203,
    "start_time": "2022-01-13T10:41:31.421Z"
   },
   {
    "duration": 204,
    "start_time": "2022-01-13T10:41:31.422Z"
   },
   {
    "duration": 203,
    "start_time": "2022-01-13T10:41:31.424Z"
   },
   {
    "duration": 203,
    "start_time": "2022-01-13T10:41:31.426Z"
   },
   {
    "duration": 345,
    "start_time": "2022-01-13T10:41:45.142Z"
   },
   {
    "duration": 336,
    "start_time": "2022-01-13T10:41:55.915Z"
   },
   {
    "duration": 11,
    "start_time": "2022-01-13T10:41:56.254Z"
   },
   {
    "duration": 375,
    "start_time": "2022-01-13T10:41:56.269Z"
   },
   {
    "duration": 13,
    "start_time": "2022-01-13T10:41:56.646Z"
   },
   {
    "duration": 381,
    "start_time": "2022-01-13T10:41:56.661Z"
   },
   {
    "duration": 11,
    "start_time": "2022-01-13T10:41:57.044Z"
   },
   {
    "duration": 355,
    "start_time": "2022-01-13T10:42:22.399Z"
   },
   {
    "duration": 409,
    "start_time": "2022-01-13T12:50:14.410Z"
   },
   {
    "duration": 480,
    "start_time": "2022-01-13T12:50:28.645Z"
   },
   {
    "duration": 16,
    "start_time": "2022-01-13T12:50:33.061Z"
   },
   {
    "duration": 19,
    "start_time": "2022-01-13T13:02:01.400Z"
   },
   {
    "duration": 11,
    "start_time": "2022-01-13T13:07:15.956Z"
   },
   {
    "duration": 13,
    "start_time": "2022-01-13T13:07:18.155Z"
   },
   {
    "duration": 144,
    "start_time": "2022-01-13T13:15:41.034Z"
   },
   {
    "duration": 24,
    "start_time": "2022-01-13T13:16:04.134Z"
   },
   {
    "duration": 22,
    "start_time": "2022-01-13T13:16:18.027Z"
   },
   {
    "duration": 32,
    "start_time": "2022-01-13T13:37:13.408Z"
   },
   {
    "duration": 197,
    "start_time": "2022-01-13T13:37:41.173Z"
   },
   {
    "duration": 16,
    "start_time": "2022-01-13T13:38:00.870Z"
   },
   {
    "duration": 14,
    "start_time": "2022-01-13T13:38:19.486Z"
   },
   {
    "duration": 116,
    "start_time": "2022-01-13T13:38:56.470Z"
   },
   {
    "duration": 24,
    "start_time": "2022-01-13T13:39:02.078Z"
   },
   {
    "duration": 14,
    "start_time": "2022-01-13T13:41:36.328Z"
   },
   {
    "duration": 19,
    "start_time": "2022-01-13T13:53:59.004Z"
   },
   {
    "duration": 4,
    "start_time": "2022-01-13T14:08:52.259Z"
   },
   {
    "duration": 584,
    "start_time": "2022-01-13T14:08:52.266Z"
   },
   {
    "duration": 41,
    "start_time": "2022-01-13T14:08:52.854Z"
   },
   {
    "duration": 34,
    "start_time": "2022-01-13T14:08:52.898Z"
   },
   {
    "duration": 36,
    "start_time": "2022-01-13T14:08:52.935Z"
   },
   {
    "duration": 58,
    "start_time": "2022-01-13T14:08:52.974Z"
   },
   {
    "duration": 31,
    "start_time": "2022-01-13T14:08:53.035Z"
   },
   {
    "duration": 38,
    "start_time": "2022-01-13T14:08:53.068Z"
   },
   {
    "duration": 23,
    "start_time": "2022-01-13T14:08:53.108Z"
   },
   {
    "duration": 23,
    "start_time": "2022-01-13T14:08:53.134Z"
   },
   {
    "duration": 355,
    "start_time": "2022-01-13T14:08:53.159Z"
   },
   {
    "duration": 108,
    "start_time": "2022-01-13T14:08:53.517Z"
   },
   {
    "duration": 84,
    "start_time": "2022-01-13T14:08:53.628Z"
   },
   {
    "duration": 16,
    "start_time": "2022-01-13T14:08:53.714Z"
   },
   {
    "duration": 16,
    "start_time": "2022-01-13T14:08:53.732Z"
   },
   {
    "duration": 17,
    "start_time": "2022-01-13T14:08:53.751Z"
   },
   {
    "duration": 75,
    "start_time": "2022-01-13T14:08:53.770Z"
   },
   {
    "duration": 121,
    "start_time": "2022-01-13T14:08:53.847Z"
   },
   {
    "duration": 11,
    "start_time": "2022-01-13T14:08:53.973Z"
   },
   {
    "duration": 45,
    "start_time": "2022-01-13T14:08:54.001Z"
   },
   {
    "duration": 15,
    "start_time": "2022-01-13T14:08:54.048Z"
   },
   {
    "duration": 64,
    "start_time": "2022-01-13T14:08:54.067Z"
   },
   {
    "duration": 33,
    "start_time": "2022-01-13T14:08:54.135Z"
   },
   {
    "duration": 75,
    "start_time": "2022-01-13T14:08:54.171Z"
   },
   {
    "duration": 52,
    "start_time": "2022-01-13T14:08:54.248Z"
   },
   {
    "duration": 316,
    "start_time": "2022-01-13T14:08:54.304Z"
   },
   {
    "duration": 368,
    "start_time": "2022-01-13T14:08:54.623Z"
   },
   {
    "duration": 13,
    "start_time": "2022-01-13T14:08:55.001Z"
   },
   {
    "duration": 525,
    "start_time": "2022-01-13T14:08:55.018Z"
   },
   {
    "duration": 11,
    "start_time": "2022-01-13T14:08:55.546Z"
   },
   {
    "duration": 353,
    "start_time": "2022-01-13T14:08:55.559Z"
   },
   {
    "duration": 12,
    "start_time": "2022-01-13T14:08:55.915Z"
   },
   {
    "duration": 384,
    "start_time": "2022-01-13T14:08:55.931Z"
   },
   {
    "duration": 11,
    "start_time": "2022-01-13T14:08:56.317Z"
   },
   {
    "duration": 383,
    "start_time": "2022-01-13T14:08:56.330Z"
   },
   {
    "duration": 12,
    "start_time": "2022-01-13T14:08:56.715Z"
   },
   {
    "duration": 360,
    "start_time": "2022-01-13T14:08:56.730Z"
   },
   {
    "duration": 15,
    "start_time": "2022-01-13T14:08:57.093Z"
   },
   {
    "duration": 23,
    "start_time": "2022-01-13T14:08:57.110Z"
   },
   {
    "duration": 22,
    "start_time": "2022-01-13T14:08:57.135Z"
   },
   {
    "duration": 11,
    "start_time": "2022-01-13T14:14:44.645Z"
   },
   {
    "duration": 11,
    "start_time": "2022-01-13T14:15:38.726Z"
   },
   {
    "duration": 4,
    "start_time": "2022-01-13T14:24:38.024Z"
   },
   {
    "duration": 549,
    "start_time": "2022-01-13T14:24:38.032Z"
   },
   {
    "duration": 46,
    "start_time": "2022-01-13T14:24:38.584Z"
   },
   {
    "duration": 35,
    "start_time": "2022-01-13T14:24:38.633Z"
   },
   {
    "duration": 58,
    "start_time": "2022-01-13T14:24:38.671Z"
   },
   {
    "duration": 40,
    "start_time": "2022-01-13T14:24:38.732Z"
   },
   {
    "duration": 32,
    "start_time": "2022-01-13T14:24:38.800Z"
   },
   {
    "duration": 23,
    "start_time": "2022-01-13T14:24:38.837Z"
   },
   {
    "duration": 52,
    "start_time": "2022-01-13T14:24:38.863Z"
   },
   {
    "duration": 22,
    "start_time": "2022-01-13T14:24:38.917Z"
   },
   {
    "duration": 317,
    "start_time": "2022-01-13T14:24:38.942Z"
   },
   {
    "duration": 108,
    "start_time": "2022-01-13T14:24:39.261Z"
   },
   {
    "duration": 79,
    "start_time": "2022-01-13T14:24:39.372Z"
   },
   {
    "duration": 15,
    "start_time": "2022-01-13T14:24:39.453Z"
   },
   {
    "duration": 32,
    "start_time": "2022-01-13T14:24:39.470Z"
   },
   {
    "duration": 14,
    "start_time": "2022-01-13T14:24:39.504Z"
   },
   {
    "duration": 50,
    "start_time": "2022-01-13T14:24:39.521Z"
   },
   {
    "duration": 110,
    "start_time": "2022-01-13T14:24:39.574Z"
   },
   {
    "duration": 19,
    "start_time": "2022-01-13T14:24:39.689Z"
   },
   {
    "duration": 58,
    "start_time": "2022-01-13T14:24:39.711Z"
   },
   {
    "duration": 36,
    "start_time": "2022-01-13T14:24:39.771Z"
   },
   {
    "duration": 39,
    "start_time": "2022-01-13T14:24:39.810Z"
   },
   {
    "duration": 52,
    "start_time": "2022-01-13T14:24:39.851Z"
   },
   {
    "duration": 79,
    "start_time": "2022-01-13T14:24:39.906Z"
   },
   {
    "duration": 50,
    "start_time": "2022-01-13T14:24:40.000Z"
   },
   {
    "duration": 506,
    "start_time": "2022-01-13T14:24:40.053Z"
   },
   {
    "duration": 361,
    "start_time": "2022-01-13T14:24:40.562Z"
   },
   {
    "duration": 367,
    "start_time": "2022-01-13T14:24:40.926Z"
   },
   {
    "duration": 356,
    "start_time": "2022-01-13T14:24:41.296Z"
   },
   {
    "duration": 14,
    "start_time": "2022-01-13T14:24:41.655Z"
   },
   {
    "duration": 383,
    "start_time": "2022-01-13T14:24:41.672Z"
   },
   {
    "duration": 353,
    "start_time": "2022-01-13T14:24:42.058Z"
   },
   {
    "duration": 352,
    "start_time": "2022-01-13T14:24:42.414Z"
   },
   {
    "duration": 12,
    "start_time": "2022-01-13T14:24:42.768Z"
   },
   {
    "duration": 42,
    "start_time": "2022-01-13T14:24:42.783Z"
   },
   {
    "duration": 32,
    "start_time": "2022-01-13T14:24:42.828Z"
   },
   {
    "duration": 920,
    "start_time": "2022-01-15T13:15:45.779Z"
   },
   {
    "duration": 399,
    "start_time": "2022-01-15T13:15:46.701Z"
   },
   {
    "duration": 36,
    "start_time": "2022-01-15T13:15:47.102Z"
   },
   {
    "duration": 27,
    "start_time": "2022-01-15T13:15:47.140Z"
   },
   {
    "duration": 25,
    "start_time": "2022-01-15T13:15:47.169Z"
   },
   {
    "duration": 28,
    "start_time": "2022-01-15T13:15:47.195Z"
   },
   {
    "duration": 45,
    "start_time": "2022-01-15T13:15:47.225Z"
   },
   {
    "duration": 10,
    "start_time": "2022-01-15T13:15:47.273Z"
   },
   {
    "duration": 16,
    "start_time": "2022-01-15T13:15:47.285Z"
   },
   {
    "duration": 20,
    "start_time": "2022-01-15T13:15:47.303Z"
   },
   {
    "duration": 211,
    "start_time": "2022-01-15T13:15:47.325Z"
   },
   {
    "duration": 74,
    "start_time": "2022-01-15T13:15:47.538Z"
   },
   {
    "duration": 60,
    "start_time": "2022-01-15T13:15:47.614Z"
   },
   {
    "duration": 14,
    "start_time": "2022-01-15T13:15:47.676Z"
   },
   {
    "duration": 8,
    "start_time": "2022-01-15T13:15:47.691Z"
   },
   {
    "duration": 14,
    "start_time": "2022-01-15T13:15:47.701Z"
   },
   {
    "duration": 45,
    "start_time": "2022-01-15T13:15:47.717Z"
   },
   {
    "duration": 69,
    "start_time": "2022-01-15T13:15:47.763Z"
   },
   {
    "duration": 7,
    "start_time": "2022-01-15T13:15:47.833Z"
   },
   {
    "duration": 30,
    "start_time": "2022-01-15T13:15:47.860Z"
   },
   {
    "duration": 6,
    "start_time": "2022-01-15T13:15:47.892Z"
   },
   {
    "duration": 26,
    "start_time": "2022-01-15T13:15:47.899Z"
   },
   {
    "duration": 46,
    "start_time": "2022-01-15T13:15:47.928Z"
   },
   {
    "duration": 30,
    "start_time": "2022-01-15T13:15:47.976Z"
   },
   {
    "duration": 20,
    "start_time": "2022-01-15T13:15:48.008Z"
   },
   {
    "duration": 195,
    "start_time": "2022-01-15T13:15:48.029Z"
   },
   {
    "duration": 327,
    "start_time": "2022-01-15T13:15:48.226Z"
   },
   {
    "duration": 212,
    "start_time": "2022-01-15T13:15:48.555Z"
   },
   {
    "duration": 203,
    "start_time": "2022-01-15T13:15:48.769Z"
   },
   {
    "duration": 8,
    "start_time": "2022-01-15T13:15:48.974Z"
   },
   {
    "duration": 216,
    "start_time": "2022-01-15T13:15:48.984Z"
   },
   {
    "duration": 220,
    "start_time": "2022-01-15T13:15:49.201Z"
   },
   {
    "duration": 212,
    "start_time": "2022-01-15T13:15:49.423Z"
   },
   {
    "duration": 8,
    "start_time": "2022-01-15T13:15:49.638Z"
   },
   {
    "duration": 47,
    "start_time": "2022-01-15T13:15:49.647Z"
   },
   {
    "duration": 15,
    "start_time": "2022-01-15T13:15:49.696Z"
   },
   {
    "duration": 27,
    "start_time": "2022-01-15T13:19:50.521Z"
   },
   {
    "duration": 32,
    "start_time": "2022-01-15T13:19:57.965Z"
   },
   {
    "duration": 25,
    "start_time": "2022-01-15T13:19:58.424Z"
   },
   {
    "duration": 18,
    "start_time": "2022-01-15T13:20:51.304Z"
   },
   {
    "duration": 23,
    "start_time": "2022-01-15T13:23:57.888Z"
   },
   {
    "duration": 163,
    "start_time": "2022-01-15T13:23:58.581Z"
   },
   {
    "duration": 22,
    "start_time": "2022-01-15T13:23:59.610Z"
   },
   {
    "duration": 928,
    "start_time": "2022-01-15T13:24:10.077Z"
   },
   {
    "duration": 399,
    "start_time": "2022-01-15T13:24:11.007Z"
   },
   {
    "duration": 40,
    "start_time": "2022-01-15T13:24:11.409Z"
   },
   {
    "duration": 28,
    "start_time": "2022-01-15T13:24:11.452Z"
   },
   {
    "duration": 37,
    "start_time": "2022-01-15T13:24:11.481Z"
   },
   {
    "duration": 33,
    "start_time": "2022-01-15T13:24:11.520Z"
   },
   {
    "duration": 26,
    "start_time": "2022-01-15T13:24:11.554Z"
   },
   {
    "duration": 17,
    "start_time": "2022-01-15T13:24:11.582Z"
   },
   {
    "duration": 40,
    "start_time": "2022-01-15T13:24:11.601Z"
   },
   {
    "duration": 30,
    "start_time": "2022-01-15T13:24:11.643Z"
   },
   {
    "duration": 218,
    "start_time": "2022-01-15T13:24:11.674Z"
   },
   {
    "duration": 70,
    "start_time": "2022-01-15T13:24:11.894Z"
   },
   {
    "duration": 49,
    "start_time": "2022-01-15T13:24:11.966Z"
   },
   {
    "duration": 16,
    "start_time": "2022-01-15T13:24:12.017Z"
   },
   {
    "duration": 27,
    "start_time": "2022-01-15T13:24:12.035Z"
   },
   {
    "duration": 38,
    "start_time": "2022-01-15T13:24:12.064Z"
   },
   {
    "duration": 44,
    "start_time": "2022-01-15T13:24:12.104Z"
   },
   {
    "duration": 100,
    "start_time": "2022-01-15T13:24:12.150Z"
   },
   {
    "duration": 7,
    "start_time": "2022-01-15T13:24:12.252Z"
   },
   {
    "duration": 65,
    "start_time": "2022-01-15T13:24:12.261Z"
   },
   {
    "duration": 8,
    "start_time": "2022-01-15T13:24:12.328Z"
   },
   {
    "duration": 36,
    "start_time": "2022-01-15T13:24:12.338Z"
   },
   {
    "duration": 33,
    "start_time": "2022-01-15T13:24:12.378Z"
   },
   {
    "duration": 35,
    "start_time": "2022-01-15T13:24:12.414Z"
   },
   {
    "duration": 19,
    "start_time": "2022-01-15T13:24:12.451Z"
   },
   {
    "duration": 178,
    "start_time": "2022-01-15T13:24:12.472Z"
   },
   {
    "duration": 20,
    "start_time": "2022-01-15T13:24:12.652Z"
   },
   {
    "duration": 322,
    "start_time": "2022-01-15T13:24:12.674Z"
   },
   {
    "duration": 217,
    "start_time": "2022-01-15T13:24:12.998Z"
   },
   {
    "duration": 207,
    "start_time": "2022-01-15T13:24:13.217Z"
   },
   {
    "duration": 8,
    "start_time": "2022-01-15T13:24:13.426Z"
   },
   {
    "duration": 230,
    "start_time": "2022-01-15T13:24:13.435Z"
   },
   {
    "duration": 220,
    "start_time": "2022-01-15T13:24:13.667Z"
   },
   {
    "duration": 223,
    "start_time": "2022-01-15T13:24:13.889Z"
   },
   {
    "duration": 8,
    "start_time": "2022-01-15T13:24:14.114Z"
   },
   {
    "duration": 39,
    "start_time": "2022-01-15T13:24:14.124Z"
   },
   {
    "duration": 27,
    "start_time": "2022-01-15T13:24:14.165Z"
   },
   {
    "duration": 306,
    "start_time": "2022-01-17T07:38:51.880Z"
   },
   {
    "duration": 1227,
    "start_time": "2022-01-17T07:39:11.318Z"
   },
   {
    "duration": 533,
    "start_time": "2022-01-17T07:39:12.548Z"
   },
   {
    "duration": 52,
    "start_time": "2022-01-17T07:39:13.084Z"
   },
   {
    "duration": 38,
    "start_time": "2022-01-17T07:39:13.139Z"
   },
   {
    "duration": 54,
    "start_time": "2022-01-17T07:39:13.179Z"
   },
   {
    "duration": 39,
    "start_time": "2022-01-17T07:39:13.236Z"
   },
   {
    "duration": 55,
    "start_time": "2022-01-17T07:39:13.277Z"
   },
   {
    "duration": 16,
    "start_time": "2022-01-17T07:39:13.334Z"
   },
   {
    "duration": 27,
    "start_time": "2022-01-17T07:39:13.353Z"
   },
   {
    "duration": 22,
    "start_time": "2022-01-17T07:39:13.417Z"
   },
   {
    "duration": 300,
    "start_time": "2022-01-17T07:39:13.441Z"
   },
   {
    "duration": 111,
    "start_time": "2022-01-17T07:39:13.743Z"
   },
   {
    "duration": 79,
    "start_time": "2022-01-17T07:39:13.856Z"
   },
   {
    "duration": 17,
    "start_time": "2022-01-17T07:39:17.087Z"
   },
   {
    "duration": 18,
    "start_time": "2022-01-17T07:39:52.826Z"
   },
   {
    "duration": 18,
    "start_time": "2022-01-17T08:22:27.765Z"
   },
   {
    "duration": 38,
    "start_time": "2022-01-17T08:26:39.870Z"
   },
   {
    "duration": 33,
    "start_time": "2022-01-17T08:26:39.911Z"
   },
   {
    "duration": 6491,
    "start_time": "2022-01-17T08:26:39.947Z"
   },
   {
    "duration": -29,
    "start_time": "2022-01-17T08:26:46.471Z"
   },
   {
    "duration": -32,
    "start_time": "2022-01-17T08:26:46.476Z"
   },
   {
    "duration": -35,
    "start_time": "2022-01-17T08:26:46.481Z"
   },
   {
    "duration": -37,
    "start_time": "2022-01-17T08:26:46.485Z"
   },
   {
    "duration": -38,
    "start_time": "2022-01-17T08:26:46.488Z"
   },
   {
    "duration": -37,
    "start_time": "2022-01-17T08:26:46.490Z"
   },
   {
    "duration": -38,
    "start_time": "2022-01-17T08:26:46.493Z"
   },
   {
    "duration": -38,
    "start_time": "2022-01-17T08:26:46.495Z"
   },
   {
    "duration": -38,
    "start_time": "2022-01-17T08:26:46.497Z"
   },
   {
    "duration": -37,
    "start_time": "2022-01-17T08:26:46.499Z"
   },
   {
    "duration": -37,
    "start_time": "2022-01-17T08:26:46.501Z"
   },
   {
    "duration": -37,
    "start_time": "2022-01-17T08:26:46.503Z"
   },
   {
    "duration": -37,
    "start_time": "2022-01-17T08:26:46.505Z"
   },
   {
    "duration": 4,
    "start_time": "2022-01-17T08:26:49.427Z"
   },
   {
    "duration": 552,
    "start_time": "2022-01-17T08:26:49.434Z"
   },
   {
    "duration": 40,
    "start_time": "2022-01-17T08:26:49.989Z"
   },
   {
    "duration": 36,
    "start_time": "2022-01-17T08:26:50.032Z"
   },
   {
    "duration": 61,
    "start_time": "2022-01-17T08:26:50.070Z"
   },
   {
    "duration": 35,
    "start_time": "2022-01-17T08:26:50.134Z"
   },
   {
    "duration": 57,
    "start_time": "2022-01-17T08:26:50.171Z"
   },
   {
    "duration": 15,
    "start_time": "2022-01-17T08:26:50.231Z"
   },
   {
    "duration": 27,
    "start_time": "2022-01-17T08:26:50.250Z"
   },
   {
    "duration": 54,
    "start_time": "2022-01-17T08:26:50.279Z"
   },
   {
    "duration": 292,
    "start_time": "2022-01-17T08:26:50.335Z"
   },
   {
    "duration": 101,
    "start_time": "2022-01-17T08:26:50.629Z"
   },
   {
    "duration": 69,
    "start_time": "2022-01-17T08:26:50.732Z"
   },
   {
    "duration": 30,
    "start_time": "2022-01-17T08:26:50.803Z"
   },
   {
    "duration": 18,
    "start_time": "2022-01-17T08:26:50.835Z"
   },
   {
    "duration": 14,
    "start_time": "2022-01-17T08:26:50.855Z"
   },
   {
    "duration": 54,
    "start_time": "2022-01-17T08:26:50.871Z"
   },
   {
    "duration": 46,
    "start_time": "2022-01-17T08:26:50.928Z"
   },
   {
    "duration": 119,
    "start_time": "2022-01-17T08:26:50.976Z"
   },
   {
    "duration": 20,
    "start_time": "2022-01-17T08:26:51.097Z"
   },
   {
    "duration": 49,
    "start_time": "2022-01-17T08:26:51.119Z"
   },
   {
    "duration": 10,
    "start_time": "2022-01-17T08:26:51.170Z"
   },
   {
    "duration": 28,
    "start_time": "2022-01-17T08:26:57.775Z"
   },
   {
    "duration": 32,
    "start_time": "2022-01-17T08:27:17.489Z"
   },
   {
    "duration": 32,
    "start_time": "2022-01-17T08:27:25.920Z"
   },
   {
    "duration": 15,
    "start_time": "2022-01-17T08:27:55.675Z"
   },
   {
    "duration": 5,
    "start_time": "2022-01-17T08:28:19.160Z"
   },
   {
    "duration": 541,
    "start_time": "2022-01-17T08:28:19.168Z"
   },
   {
    "duration": 45,
    "start_time": "2022-01-17T08:28:19.714Z"
   },
   {
    "duration": 34,
    "start_time": "2022-01-17T08:28:19.761Z"
   },
   {
    "duration": 53,
    "start_time": "2022-01-17T08:28:19.797Z"
   },
   {
    "duration": 65,
    "start_time": "2022-01-17T08:28:19.853Z"
   },
   {
    "duration": 31,
    "start_time": "2022-01-17T08:28:19.921Z"
   },
   {
    "duration": 17,
    "start_time": "2022-01-17T08:28:19.955Z"
   },
   {
    "duration": 64,
    "start_time": "2022-01-17T08:28:19.975Z"
   },
   {
    "duration": 22,
    "start_time": "2022-01-17T08:28:20.041Z"
   },
   {
    "duration": 318,
    "start_time": "2022-01-17T08:28:20.066Z"
   },
   {
    "duration": 105,
    "start_time": "2022-01-17T08:28:20.386Z"
   },
   {
    "duration": 79,
    "start_time": "2022-01-17T08:28:20.493Z"
   },
   {
    "duration": 20,
    "start_time": "2022-01-17T08:28:20.574Z"
   },
   {
    "duration": 34,
    "start_time": "2022-01-17T08:28:20.597Z"
   },
   {
    "duration": 15,
    "start_time": "2022-01-17T08:28:20.634Z"
   },
   {
    "duration": 15,
    "start_time": "2022-01-17T08:28:20.652Z"
   },
   {
    "duration": 78,
    "start_time": "2022-01-17T08:28:20.669Z"
   },
   {
    "duration": 110,
    "start_time": "2022-01-17T08:28:20.750Z"
   },
   {
    "duration": 11,
    "start_time": "2022-01-17T08:28:20.862Z"
   },
   {
    "duration": 70,
    "start_time": "2022-01-17T08:28:20.875Z"
   },
   {
    "duration": 9,
    "start_time": "2022-01-17T08:28:20.948Z"
   },
   {
    "duration": 54,
    "start_time": "2022-01-17T08:28:20.962Z"
   },
   {
    "duration": 34,
    "start_time": "2022-01-17T08:28:21.019Z"
   },
   {
    "duration": 18,
    "start_time": "2022-01-17T08:28:41.602Z"
   },
   {
    "duration": 11,
    "start_time": "2022-01-17T08:28:58.227Z"
   },
   {
    "duration": 66,
    "start_time": "2022-01-17T09:00:27.854Z"
   },
   {
    "duration": 35,
    "start_time": "2022-01-17T09:13:09.521Z"
   },
   {
    "duration": 301,
    "start_time": "2022-01-17T09:13:14.961Z"
   },
   {
    "duration": 453,
    "start_time": "2022-01-17T09:26:08.266Z"
   },
   {
    "duration": 359,
    "start_time": "2022-01-17T09:26:11.155Z"
   },
   {
    "duration": 344,
    "start_time": "2022-01-17T09:26:12.155Z"
   },
   {
    "duration": 13,
    "start_time": "2022-01-17T09:26:21.508Z"
   },
   {
    "duration": 269,
    "start_time": "2022-01-17T09:27:42.076Z"
   },
   {
    "duration": 337,
    "start_time": "2022-01-17T09:28:15.589Z"
   },
   {
    "duration": 350,
    "start_time": "2022-01-17T09:28:35.637Z"
   },
   {
    "duration": 13,
    "start_time": "2022-01-17T09:29:40.671Z"
   },
   {
    "duration": 66,
    "start_time": "2022-01-17T09:29:48.511Z"
   },
   {
    "duration": 25,
    "start_time": "2022-01-17T09:30:04.255Z"
   },
   {
    "duration": 349,
    "start_time": "2022-01-17T09:40:53.592Z"
   },
   {
    "duration": 371,
    "start_time": "2022-01-17T09:40:55.112Z"
   },
   {
    "duration": 348,
    "start_time": "2022-01-17T09:40:56.256Z"
   },
   {
    "duration": 6601,
    "start_time": "2022-01-17T09:45:34.804Z"
   },
   {
    "duration": 4,
    "start_time": "2022-01-17T09:46:15.612Z"
   },
   {
    "duration": 553,
    "start_time": "2022-01-17T09:46:15.619Z"
   },
   {
    "duration": 43,
    "start_time": "2022-01-17T09:46:16.174Z"
   },
   {
    "duration": 36,
    "start_time": "2022-01-17T09:46:16.219Z"
   },
   {
    "duration": 62,
    "start_time": "2022-01-17T09:46:16.257Z"
   },
   {
    "duration": 134,
    "start_time": "2022-01-17T09:46:16.321Z"
   },
   {
    "duration": 31,
    "start_time": "2022-01-17T09:46:16.459Z"
   },
   {
    "duration": 32,
    "start_time": "2022-01-17T09:46:16.493Z"
   },
   {
    "duration": 27,
    "start_time": "2022-01-17T09:46:16.527Z"
   },
   {
    "duration": 21,
    "start_time": "2022-01-17T09:46:16.556Z"
   },
   {
    "duration": 303,
    "start_time": "2022-01-17T09:46:16.580Z"
   },
   {
    "duration": 102,
    "start_time": "2022-01-17T09:46:16.885Z"
   },
   {
    "duration": 78,
    "start_time": "2022-01-17T09:46:16.989Z"
   },
   {
    "duration": 18,
    "start_time": "2022-01-17T09:46:17.069Z"
   },
   {
    "duration": 30,
    "start_time": "2022-01-17T09:46:17.089Z"
   },
   {
    "duration": 14,
    "start_time": "2022-01-17T09:46:17.121Z"
   },
   {
    "duration": 14,
    "start_time": "2022-01-17T09:46:17.137Z"
   },
   {
    "duration": 88,
    "start_time": "2022-01-17T09:46:17.153Z"
   },
   {
    "duration": 100,
    "start_time": "2022-01-17T09:46:17.246Z"
   },
   {
    "duration": 11,
    "start_time": "2022-01-17T09:46:17.349Z"
   },
   {
    "duration": 65,
    "start_time": "2022-01-17T09:46:17.363Z"
   },
   {
    "duration": 10,
    "start_time": "2022-01-17T09:46:17.431Z"
   },
   {
    "duration": 28,
    "start_time": "2022-01-17T09:46:17.443Z"
   },
   {
    "duration": 57,
    "start_time": "2022-01-17T09:46:17.473Z"
   },
   {
    "duration": 13,
    "start_time": "2022-01-17T09:46:17.533Z"
   },
   {
    "duration": 95,
    "start_time": "2022-01-17T09:46:17.548Z"
   },
   {
    "duration": 3,
    "start_time": "2022-01-17T09:46:17.645Z"
   },
   {
    "duration": 35,
    "start_time": "2022-01-17T09:46:17.651Z"
   },
   {
    "duration": 273,
    "start_time": "2022-01-17T09:46:17.688Z"
   },
   {
    "duration": 354,
    "start_time": "2022-01-17T09:46:17.963Z"
   },
   {
    "duration": 366,
    "start_time": "2022-01-17T09:46:18.320Z"
   },
   {
    "duration": 354,
    "start_time": "2022-01-17T09:46:18.688Z"
   },
   {
    "duration": 10,
    "start_time": "2022-01-17T09:46:19.045Z"
   },
   {
    "duration": 380,
    "start_time": "2022-01-17T09:46:19.058Z"
   },
   {
    "duration": 379,
    "start_time": "2022-01-17T09:46:19.440Z"
   },
   {
    "duration": 365,
    "start_time": "2022-01-17T09:46:19.821Z"
   },
   {
    "duration": 10,
    "start_time": "2022-01-17T09:46:20.188Z"
   },
   {
    "duration": 32,
    "start_time": "2022-01-17T09:46:20.201Z"
   },
   {
    "duration": 20,
    "start_time": "2022-01-17T09:46:20.235Z"
   },
   {
    "duration": 358,
    "start_time": "2022-01-17T09:52:14.226Z"
   },
   {
    "duration": 385,
    "start_time": "2022-01-17T09:52:37.380Z"
   },
   {
    "duration": 11,
    "start_time": "2022-01-17T09:54:35.356Z"
   },
   {
    "duration": 256,
    "start_time": "2022-01-17T10:07:17.173Z"
   },
   {
    "duration": 256,
    "start_time": "2022-01-17T10:07:44.401Z"
   },
   {
    "duration": 4,
    "start_time": "2022-01-17T10:08:11.243Z"
   },
   {
    "duration": 501,
    "start_time": "2022-01-17T10:08:11.250Z"
   },
   {
    "duration": 40,
    "start_time": "2022-01-17T10:08:11.754Z"
   },
   {
    "duration": 34,
    "start_time": "2022-01-17T10:08:11.796Z"
   },
   {
    "duration": 36,
    "start_time": "2022-01-17T10:08:11.832Z"
   },
   {
    "duration": 57,
    "start_time": "2022-01-17T10:08:11.870Z"
   },
   {
    "duration": 30,
    "start_time": "2022-01-17T10:08:11.929Z"
   },
   {
    "duration": 15,
    "start_time": "2022-01-17T10:08:11.962Z"
   },
   {
    "duration": 51,
    "start_time": "2022-01-17T10:08:11.981Z"
   },
   {
    "duration": 21,
    "start_time": "2022-01-17T10:08:12.035Z"
   },
   {
    "duration": 316,
    "start_time": "2022-01-17T10:08:12.058Z"
   },
   {
    "duration": 108,
    "start_time": "2022-01-17T10:08:12.377Z"
   },
   {
    "duration": 77,
    "start_time": "2022-01-17T10:08:12.488Z"
   },
   {
    "duration": 17,
    "start_time": "2022-01-17T10:08:12.568Z"
   },
   {
    "duration": 34,
    "start_time": "2022-01-17T10:08:12.587Z"
   },
   {
    "duration": 13,
    "start_time": "2022-01-17T10:08:12.623Z"
   },
   {
    "duration": 17,
    "start_time": "2022-01-17T10:08:12.639Z"
   },
   {
    "duration": 75,
    "start_time": "2022-01-17T10:08:12.658Z"
   },
   {
    "duration": 100,
    "start_time": "2022-01-17T10:08:12.736Z"
   },
   {
    "duration": 11,
    "start_time": "2022-01-17T10:08:12.838Z"
   },
   {
    "duration": 66,
    "start_time": "2022-01-17T10:08:12.852Z"
   },
   {
    "duration": 9,
    "start_time": "2022-01-17T10:08:12.921Z"
   },
   {
    "duration": 27,
    "start_time": "2022-01-17T10:08:12.934Z"
   },
   {
    "duration": 64,
    "start_time": "2022-01-17T10:08:12.964Z"
   },
   {
    "duration": 12,
    "start_time": "2022-01-17T10:08:13.030Z"
   },
   {
    "duration": 64,
    "start_time": "2022-01-17T10:08:17.649Z"
   },
   {
    "duration": 268,
    "start_time": "2022-01-17T10:08:54.096Z"
   },
   {
    "duration": 12,
    "start_time": "2022-01-17T10:09:49.881Z"
   },
   {
    "duration": 9,
    "start_time": "2022-01-17T10:10:00.769Z"
   },
   {
    "duration": 61,
    "start_time": "2022-01-17T10:11:15.090Z"
   },
   {
    "duration": 11,
    "start_time": "2022-01-17T10:11:17.993Z"
   },
   {
    "duration": 10,
    "start_time": "2022-01-17T10:11:33.822Z"
   },
   {
    "duration": 7,
    "start_time": "2022-01-17T10:11:33.834Z"
   },
   {
    "duration": 36,
    "start_time": "2022-01-17T10:11:33.844Z"
   },
   {
    "duration": 284,
    "start_time": "2022-01-17T10:11:33.882Z"
   },
   {
    "duration": 363,
    "start_time": "2022-01-17T10:11:34.168Z"
   },
   {
    "duration": 443,
    "start_time": "2022-01-17T10:11:34.533Z"
   },
   {
    "duration": 362,
    "start_time": "2022-01-17T10:11:34.979Z"
   },
   {
    "duration": 11,
    "start_time": "2022-01-17T10:11:35.344Z"
   },
   {
    "duration": 382,
    "start_time": "2022-01-17T10:11:35.358Z"
   },
   {
    "duration": 359,
    "start_time": "2022-01-17T10:11:35.742Z"
   },
   {
    "duration": 365,
    "start_time": "2022-01-17T10:11:36.104Z"
   },
   {
    "duration": 11,
    "start_time": "2022-01-17T10:11:36.471Z"
   },
   {
    "duration": 41,
    "start_time": "2022-01-17T10:11:36.484Z"
   },
   {
    "duration": 21,
    "start_time": "2022-01-17T10:11:36.527Z"
   },
   {
    "duration": 731,
    "start_time": "2022-01-17T10:15:06.509Z"
   },
   {
    "duration": 233,
    "start_time": "2022-01-17T10:19:55.578Z"
   },
   {
    "duration": 261,
    "start_time": "2022-01-17T10:20:27.953Z"
   },
   {
    "duration": 249,
    "start_time": "2022-01-17T10:21:32.339Z"
   },
   {
    "duration": 4,
    "start_time": "2022-01-17T10:32:24.588Z"
   },
   {
    "duration": 206,
    "start_time": "2022-01-17T10:34:48.790Z"
   },
   {
    "duration": 813,
    "start_time": "2022-01-17T10:35:28.128Z"
   },
   {
    "duration": 283,
    "start_time": "2022-01-17T10:35:50.433Z"
   },
   {
    "duration": 839,
    "start_time": "2022-01-17T10:39:34.803Z"
   },
   {
    "duration": 208,
    "start_time": "2022-01-17T10:43:48.671Z"
   },
   {
    "duration": 525,
    "start_time": "2022-01-17T10:45:59.010Z"
   },
   {
    "duration": 523,
    "start_time": "2022-01-17T10:46:14.985Z"
   },
   {
    "duration": 885,
    "start_time": "2022-01-17T10:47:09.843Z"
   },
   {
    "duration": 526,
    "start_time": "2022-01-17T10:47:19.506Z"
   },
   {
    "duration": 242,
    "start_time": "2022-01-17T10:55:34.361Z"
   },
   {
    "duration": 14,
    "start_time": "2022-01-17T10:57:21.217Z"
   },
   {
    "duration": 1500,
    "start_time": "2022-01-17T11:02:18.427Z"
   },
   {
    "duration": 543,
    "start_time": "2022-01-17T11:02:19.929Z"
   },
   {
    "duration": 49,
    "start_time": "2022-01-17T11:02:20.475Z"
   },
   {
    "duration": 44,
    "start_time": "2022-01-17T11:02:20.527Z"
   },
   {
    "duration": 64,
    "start_time": "2022-01-17T11:02:20.573Z"
   },
   {
    "duration": 42,
    "start_time": "2022-01-17T11:02:20.641Z"
   },
   {
    "duration": 56,
    "start_time": "2022-01-17T11:02:20.685Z"
   },
   {
    "duration": 52,
    "start_time": "2022-01-17T11:02:20.745Z"
   },
   {
    "duration": 36,
    "start_time": "2022-01-17T11:02:20.802Z"
   },
   {
    "duration": 21,
    "start_time": "2022-01-17T11:02:20.841Z"
   },
   {
    "duration": 359,
    "start_time": "2022-01-17T11:02:20.865Z"
   },
   {
    "duration": 114,
    "start_time": "2022-01-17T11:02:21.227Z"
   },
   {
    "duration": 79,
    "start_time": "2022-01-17T11:02:21.344Z"
   },
   {
    "duration": 19,
    "start_time": "2022-01-17T11:02:21.426Z"
   },
   {
    "duration": 45,
    "start_time": "2022-01-17T11:02:21.447Z"
   },
   {
    "duration": 51,
    "start_time": "2022-01-17T11:02:21.495Z"
   },
   {
    "duration": 20,
    "start_time": "2022-01-17T11:02:21.548Z"
   },
   {
    "duration": 46,
    "start_time": "2022-01-17T11:02:21.571Z"
   },
   {
    "duration": 114,
    "start_time": "2022-01-17T11:02:21.620Z"
   },
   {
    "duration": 11,
    "start_time": "2022-01-17T11:02:21.736Z"
   },
   {
    "duration": 68,
    "start_time": "2022-01-17T11:02:21.750Z"
   },
   {
    "duration": 11,
    "start_time": "2022-01-17T11:02:21.820Z"
   },
   {
    "duration": 54,
    "start_time": "2022-01-17T11:02:21.835Z"
   },
   {
    "duration": 47,
    "start_time": "2022-01-17T11:02:21.891Z"
   },
   {
    "duration": 12,
    "start_time": "2022-01-17T11:02:21.941Z"
   },
   {
    "duration": 18,
    "start_time": "2022-01-17T11:02:26.809Z"
   },
   {
    "duration": 29,
    "start_time": "2022-01-17T11:02:34.595Z"
   },
   {
    "duration": 49,
    "start_time": "2022-01-17T11:03:19.245Z"
   },
   {
    "duration": 24,
    "start_time": "2022-01-17T11:03:34.524Z"
   },
   {
    "duration": 21,
    "start_time": "2022-01-17T11:04:20.372Z"
   },
   {
    "duration": 22,
    "start_time": "2022-01-17T11:04:40.446Z"
   },
   {
    "duration": 1448,
    "start_time": "2022-01-17T11:17:54.560Z"
   },
   {
    "duration": 524,
    "start_time": "2022-01-17T11:17:56.010Z"
   },
   {
    "duration": 48,
    "start_time": "2022-01-17T11:17:56.537Z"
   },
   {
    "duration": 51,
    "start_time": "2022-01-17T11:17:56.588Z"
   },
   {
    "duration": 36,
    "start_time": "2022-01-17T11:17:56.642Z"
   },
   {
    "duration": 64,
    "start_time": "2022-01-17T11:17:56.680Z"
   },
   {
    "duration": 31,
    "start_time": "2022-01-17T11:17:56.747Z"
   },
   {
    "duration": 39,
    "start_time": "2022-01-17T11:17:56.781Z"
   },
   {
    "duration": 24,
    "start_time": "2022-01-17T11:17:56.823Z"
   },
   {
    "duration": 21,
    "start_time": "2022-01-17T11:17:56.849Z"
   },
   {
    "duration": 383,
    "start_time": "2022-01-17T11:17:56.872Z"
   },
   {
    "duration": 103,
    "start_time": "2022-01-17T11:17:57.258Z"
   },
   {
    "duration": 82,
    "start_time": "2022-01-17T11:17:57.364Z"
   },
   {
    "duration": 20,
    "start_time": "2022-01-17T11:17:57.449Z"
   },
   {
    "duration": 20,
    "start_time": "2022-01-17T11:17:57.472Z"
   },
   {
    "duration": 34,
    "start_time": "2022-01-17T11:17:57.495Z"
   },
   {
    "duration": 27,
    "start_time": "2022-01-17T11:17:57.532Z"
   },
   {
    "duration": 70,
    "start_time": "2022-01-17T11:17:57.561Z"
   },
   {
    "duration": 117,
    "start_time": "2022-01-17T11:17:57.633Z"
   },
   {
    "duration": 10,
    "start_time": "2022-01-17T11:17:57.752Z"
   },
   {
    "duration": 60,
    "start_time": "2022-01-17T11:17:57.764Z"
   },
   {
    "duration": 11,
    "start_time": "2022-01-17T11:17:57.827Z"
   },
   {
    "duration": 30,
    "start_time": "2022-01-17T11:17:57.846Z"
   },
   {
    "duration": 36,
    "start_time": "2022-01-17T11:17:57.916Z"
   },
   {
    "duration": 14,
    "start_time": "2022-01-17T11:17:57.955Z"
   },
   {
    "duration": 4,
    "start_time": "2022-01-17T11:17:57.972Z"
   },
   {
    "duration": 96,
    "start_time": "2022-01-17T11:17:57.979Z"
   },
   {
    "duration": 4,
    "start_time": "2022-01-17T11:17:58.078Z"
   },
   {
    "duration": 62,
    "start_time": "2022-01-17T11:17:58.085Z"
   },
   {
    "duration": 262,
    "start_time": "2022-01-17T11:17:58.151Z"
   },
   {
    "duration": 350,
    "start_time": "2022-01-17T11:17:58.418Z"
   },
   {
    "duration": 543,
    "start_time": "2022-01-17T11:17:58.771Z"
   },
   {
    "duration": 361,
    "start_time": "2022-01-17T11:17:59.317Z"
   },
   {
    "duration": 355,
    "start_time": "2022-01-17T11:17:59.681Z"
   },
   {
    "duration": 12,
    "start_time": "2022-01-17T11:18:00.038Z"
   },
   {
    "duration": 392,
    "start_time": "2022-01-17T11:18:00.052Z"
   },
   {
    "duration": 452,
    "start_time": "2022-01-17T11:18:00.446Z"
   },
   {
    "duration": 617,
    "start_time": "2022-01-17T11:18:00.900Z"
   },
   {
    "duration": 11,
    "start_time": "2022-01-17T11:18:01.519Z"
   },
   {
    "duration": 24,
    "start_time": "2022-01-17T11:18:01.533Z"
   },
   {
    "duration": 72,
    "start_time": "2022-01-17T11:18:01.559Z"
   },
   {
    "duration": 29,
    "start_time": "2022-01-17T11:18:01.634Z"
   },
   {
    "duration": 13,
    "start_time": "2022-01-17T11:18:27.114Z"
   },
   {
    "duration": 62,
    "start_time": "2022-01-17T11:19:01.475Z"
   },
   {
    "duration": 15,
    "start_time": "2022-01-17T11:19:04.754Z"
   },
   {
    "duration": 57,
    "start_time": "2022-01-17T11:20:32.316Z"
   },
   {
    "duration": 9,
    "start_time": "2022-01-17T11:20:50.611Z"
   },
   {
    "duration": 11,
    "start_time": "2022-01-17T11:21:15.564Z"
   },
   {
    "duration": 10,
    "start_time": "2022-01-17T11:21:32.012Z"
   },
   {
    "duration": 11,
    "start_time": "2022-01-17T11:22:01.070Z"
   },
   {
    "duration": 10,
    "start_time": "2022-01-17T11:22:30.693Z"
   },
   {
    "duration": 11,
    "start_time": "2022-01-17T11:23:18.141Z"
   },
   {
    "duration": 10,
    "start_time": "2022-01-17T11:23:41.238Z"
   },
   {
    "duration": 1527,
    "start_time": "2022-01-17T11:24:43.896Z"
   },
   {
    "duration": 511,
    "start_time": "2022-01-17T11:24:45.426Z"
   },
   {
    "duration": 48,
    "start_time": "2022-01-17T11:24:45.940Z"
   },
   {
    "duration": 51,
    "start_time": "2022-01-17T11:24:45.990Z"
   },
   {
    "duration": 38,
    "start_time": "2022-01-17T11:24:46.043Z"
   },
   {
    "duration": 69,
    "start_time": "2022-01-17T11:24:46.084Z"
   },
   {
    "duration": 30,
    "start_time": "2022-01-17T11:24:46.156Z"
   },
   {
    "duration": 40,
    "start_time": "2022-01-17T11:24:46.190Z"
   },
   {
    "duration": 22,
    "start_time": "2022-01-17T11:24:46.233Z"
   },
   {
    "duration": 21,
    "start_time": "2022-01-17T11:24:46.257Z"
   },
   {
    "duration": 362,
    "start_time": "2022-01-17T11:24:46.281Z"
   },
   {
    "duration": 107,
    "start_time": "2022-01-17T11:24:46.646Z"
   },
   {
    "duration": 83,
    "start_time": "2022-01-17T11:24:46.756Z"
   },
   {
    "duration": 18,
    "start_time": "2022-01-17T11:24:46.842Z"
   },
   {
    "duration": 21,
    "start_time": "2022-01-17T11:24:46.862Z"
   },
   {
    "duration": 32,
    "start_time": "2022-01-17T11:24:46.885Z"
   },
   {
    "duration": 16,
    "start_time": "2022-01-17T11:24:46.919Z"
   },
   {
    "duration": 42,
    "start_time": "2022-01-17T11:24:46.937Z"
   },
   {
    "duration": 125,
    "start_time": "2022-01-17T11:24:46.982Z"
   },
   {
    "duration": 11,
    "start_time": "2022-01-17T11:24:47.117Z"
   },
   {
    "duration": 50,
    "start_time": "2022-01-17T11:24:47.130Z"
   },
   {
    "duration": 11,
    "start_time": "2022-01-17T11:24:47.183Z"
   },
   {
    "duration": 29,
    "start_time": "2022-01-17T11:24:47.221Z"
   },
   {
    "duration": 32,
    "start_time": "2022-01-17T11:24:47.253Z"
   },
   {
    "duration": 12,
    "start_time": "2022-01-17T11:24:47.318Z"
   },
   {
    "duration": 25,
    "start_time": "2022-01-17T11:24:47.332Z"
   },
   {
    "duration": 3,
    "start_time": "2022-01-17T11:24:47.360Z"
   },
   {
    "duration": 17,
    "start_time": "2022-01-17T11:24:47.365Z"
   },
   {
    "duration": 521,
    "start_time": "2022-01-17T11:25:43.155Z"
   },
   {
    "duration": 274,
    "start_time": "2022-01-17T11:25:52.627Z"
   },
   {
    "duration": 51,
    "start_time": "2022-01-17T11:26:16.051Z"
   },
   {
    "duration": 99,
    "start_time": "2022-01-17T11:26:58.997Z"
   },
   {
    "duration": 40,
    "start_time": "2022-01-17T11:27:09.908Z"
   },
   {
    "duration": 40,
    "start_time": "2022-01-17T11:30:31.371Z"
   },
   {
    "duration": 3,
    "start_time": "2022-01-17T11:30:31.414Z"
   },
   {
    "duration": 13,
    "start_time": "2022-01-17T11:30:31.420Z"
   },
   {
    "duration": 36,
    "start_time": "2022-01-17T11:30:31.436Z"
   },
   {
    "duration": 266,
    "start_time": "2022-01-17T11:30:31.475Z"
   },
   {
    "duration": 454,
    "start_time": "2022-01-17T11:30:31.743Z"
   },
   {
    "duration": 513,
    "start_time": "2022-01-17T11:30:32.202Z"
   },
   {
    "duration": 367,
    "start_time": "2022-01-17T11:30:32.718Z"
   },
   {
    "duration": 397,
    "start_time": "2022-01-17T11:30:33.088Z"
   },
   {
    "duration": 28,
    "start_time": "2022-01-17T11:30:33.488Z"
   },
   {
    "duration": 350,
    "start_time": "2022-01-17T11:30:33.519Z"
   },
   {
    "duration": 669,
    "start_time": "2022-01-17T11:30:33.871Z"
   },
   {
    "duration": 499,
    "start_time": "2022-01-17T11:30:34.543Z"
   },
   {
    "duration": 11,
    "start_time": "2022-01-17T11:30:35.045Z"
   },
   {
    "duration": 13,
    "start_time": "2022-01-17T11:30:35.059Z"
   },
   {
    "duration": 55,
    "start_time": "2022-01-17T11:30:35.074Z"
   },
   {
    "duration": 22,
    "start_time": "2022-01-17T11:30:35.131Z"
   },
   {
    "duration": 1550,
    "start_time": "2022-01-17T11:34:53.051Z"
   },
   {
    "duration": 511,
    "start_time": "2022-01-17T11:34:54.604Z"
   },
   {
    "duration": 48,
    "start_time": "2022-01-17T11:34:55.118Z"
   },
   {
    "duration": 60,
    "start_time": "2022-01-17T11:34:55.169Z"
   },
   {
    "duration": 36,
    "start_time": "2022-01-17T11:34:55.231Z"
   },
   {
    "duration": 63,
    "start_time": "2022-01-17T11:34:55.269Z"
   },
   {
    "duration": 29,
    "start_time": "2022-01-17T11:34:55.334Z"
   },
   {
    "duration": 52,
    "start_time": "2022-01-17T11:34:55.365Z"
   },
   {
    "duration": 22,
    "start_time": "2022-01-17T11:34:55.421Z"
   },
   {
    "duration": 21,
    "start_time": "2022-01-17T11:34:55.446Z"
   },
   {
    "duration": 399,
    "start_time": "2022-01-17T11:34:55.470Z"
   },
   {
    "duration": 109,
    "start_time": "2022-01-17T11:34:55.871Z"
   },
   {
    "duration": 95,
    "start_time": "2022-01-17T11:34:55.983Z"
   },
   {
    "duration": 36,
    "start_time": "2022-01-17T11:34:56.082Z"
   },
   {
    "duration": 20,
    "start_time": "2022-01-17T11:34:56.120Z"
   },
   {
    "duration": 26,
    "start_time": "2022-01-17T11:34:56.143Z"
   },
   {
    "duration": 29,
    "start_time": "2022-01-17T11:34:56.171Z"
   },
   {
    "duration": 69,
    "start_time": "2022-01-17T11:34:56.203Z"
   },
   {
    "duration": 128,
    "start_time": "2022-01-17T11:34:56.275Z"
   },
   {
    "duration": 21,
    "start_time": "2022-01-17T11:34:56.406Z"
   },
   {
    "duration": 44,
    "start_time": "2022-01-17T11:34:56.430Z"
   },
   {
    "duration": 10,
    "start_time": "2022-01-17T11:34:56.477Z"
   },
   {
    "duration": 30,
    "start_time": "2022-01-17T11:34:56.518Z"
   },
   {
    "duration": 68,
    "start_time": "2022-01-17T11:34:56.552Z"
   },
   {
    "duration": 13,
    "start_time": "2022-01-17T11:35:07.233Z"
   },
   {
    "duration": 13,
    "start_time": "2022-01-17T11:35:33.530Z"
   },
   {
    "duration": 12,
    "start_time": "2022-01-17T11:36:36.740Z"
   },
   {
    "duration": 12,
    "start_time": "2022-01-17T11:37:04.037Z"
   },
   {
    "duration": 1608,
    "start_time": "2022-01-17T11:37:18.303Z"
   },
   {
    "duration": 505,
    "start_time": "2022-01-17T11:37:19.914Z"
   },
   {
    "duration": 49,
    "start_time": "2022-01-17T11:37:20.423Z"
   },
   {
    "duration": 61,
    "start_time": "2022-01-17T11:37:20.476Z"
   },
   {
    "duration": 37,
    "start_time": "2022-01-17T11:37:20.539Z"
   },
   {
    "duration": 69,
    "start_time": "2022-01-17T11:37:20.579Z"
   },
   {
    "duration": 29,
    "start_time": "2022-01-17T11:37:20.650Z"
   },
   {
    "duration": 41,
    "start_time": "2022-01-17T11:37:20.683Z"
   },
   {
    "duration": 24,
    "start_time": "2022-01-17T11:37:20.727Z"
   },
   {
    "duration": 21,
    "start_time": "2022-01-17T11:37:20.754Z"
   },
   {
    "duration": 399,
    "start_time": "2022-01-17T11:37:20.778Z"
   },
   {
    "duration": 96,
    "start_time": "2022-01-17T11:37:21.180Z"
   },
   {
    "duration": 76,
    "start_time": "2022-01-17T11:37:21.279Z"
   },
   {
    "duration": 26,
    "start_time": "2022-01-17T11:37:21.357Z"
   },
   {
    "duration": 47,
    "start_time": "2022-01-17T11:37:21.385Z"
   },
   {
    "duration": 13,
    "start_time": "2022-01-17T11:37:21.434Z"
   },
   {
    "duration": 33,
    "start_time": "2022-01-17T11:37:21.449Z"
   },
   {
    "duration": 54,
    "start_time": "2022-01-17T11:37:21.484Z"
   },
   {
    "duration": 105,
    "start_time": "2022-01-17T11:37:21.541Z"
   },
   {
    "duration": 11,
    "start_time": "2022-01-17T11:37:21.649Z"
   },
   {
    "duration": 71,
    "start_time": "2022-01-17T11:37:21.662Z"
   },
   {
    "duration": 11,
    "start_time": "2022-01-17T11:37:21.735Z"
   },
   {
    "duration": 35,
    "start_time": "2022-01-17T11:37:21.750Z"
   },
   {
    "duration": 54,
    "start_time": "2022-01-17T11:37:21.788Z"
   },
   {
    "duration": 11,
    "start_time": "2022-01-17T11:37:28.663Z"
   },
   {
    "duration": 12,
    "start_time": "2022-01-17T11:37:39.544Z"
   },
   {
    "duration": 1506,
    "start_time": "2022-01-17T11:37:54.788Z"
   },
   {
    "duration": 545,
    "start_time": "2022-01-17T11:37:56.297Z"
   },
   {
    "duration": 52,
    "start_time": "2022-01-17T11:37:56.847Z"
   },
   {
    "duration": 38,
    "start_time": "2022-01-17T11:37:56.901Z"
   },
   {
    "duration": 35,
    "start_time": "2022-01-17T11:37:56.941Z"
   },
   {
    "duration": 63,
    "start_time": "2022-01-17T11:37:56.978Z"
   },
   {
    "duration": 32,
    "start_time": "2022-01-17T11:37:57.044Z"
   },
   {
    "duration": 41,
    "start_time": "2022-01-17T11:37:57.082Z"
   },
   {
    "duration": 22,
    "start_time": "2022-01-17T11:37:57.128Z"
   },
   {
    "duration": 24,
    "start_time": "2022-01-17T11:37:57.153Z"
   },
   {
    "duration": 292,
    "start_time": "2022-01-17T11:37:57.218Z"
   },
   {
    "duration": 104,
    "start_time": "2022-01-17T11:37:57.516Z"
   },
   {
    "duration": 70,
    "start_time": "2022-01-17T11:37:57.623Z"
   },
   {
    "duration": 35,
    "start_time": "2022-01-17T11:37:57.695Z"
   },
   {
    "duration": 24,
    "start_time": "2022-01-17T11:37:57.732Z"
   },
   {
    "duration": 11,
    "start_time": "2022-01-17T11:37:57.758Z"
   },
   {
    "duration": 19,
    "start_time": "2022-01-17T11:37:57.771Z"
   },
   {
    "duration": 66,
    "start_time": "2022-01-17T11:37:57.792Z"
   },
   {
    "duration": 118,
    "start_time": "2022-01-17T11:37:57.861Z"
   },
   {
    "duration": 11,
    "start_time": "2022-01-17T11:37:57.981Z"
   },
   {
    "duration": 61,
    "start_time": "2022-01-17T11:37:57.994Z"
   },
   {
    "duration": 9,
    "start_time": "2022-01-17T11:37:58.058Z"
   },
   {
    "duration": 59,
    "start_time": "2022-01-17T11:37:58.071Z"
   },
   {
    "duration": 640,
    "start_time": "2022-01-17T11:38:00.573Z"
   },
   {
    "duration": 38,
    "start_time": "2022-01-17T11:38:06.588Z"
   },
   {
    "duration": 11,
    "start_time": "2022-01-17T11:38:07.790Z"
   },
   {
    "duration": 42,
    "start_time": "2022-01-17T11:38:22.421Z"
   },
   {
    "duration": 3,
    "start_time": "2022-01-17T11:38:22.466Z"
   },
   {
    "duration": 11,
    "start_time": "2022-01-17T11:38:22.472Z"
   },
   {
    "duration": 62,
    "start_time": "2022-01-17T11:38:22.486Z"
   },
   {
    "duration": 303,
    "start_time": "2022-01-17T11:38:22.550Z"
   },
   {
    "duration": 341,
    "start_time": "2022-01-17T11:38:22.855Z"
   },
   {
    "duration": 515,
    "start_time": "2022-01-17T11:38:23.199Z"
   },
   {
    "duration": 359,
    "start_time": "2022-01-17T11:38:23.717Z"
   },
   {
    "duration": 353,
    "start_time": "2022-01-17T11:38:24.078Z"
   },
   {
    "duration": 11,
    "start_time": "2022-01-17T11:38:24.433Z"
   },
   {
    "duration": 357,
    "start_time": "2022-01-17T11:38:24.446Z"
   },
   {
    "duration": 434,
    "start_time": "2022-01-17T11:38:24.805Z"
   },
   {
    "duration": 337,
    "start_time": "2022-01-17T11:38:25.241Z"
   },
   {
    "duration": 11,
    "start_time": "2022-01-17T11:38:25.580Z"
   },
   {
    "duration": 37,
    "start_time": "2022-01-17T11:38:25.593Z"
   },
   {
    "duration": 23,
    "start_time": "2022-01-17T11:38:25.632Z"
   },
   {
    "duration": 25,
    "start_time": "2022-01-17T11:38:25.658Z"
   },
   {
    "duration": 874,
    "start_time": "2022-01-17T12:11:48.868Z"
   },
   {
    "duration": 778,
    "start_time": "2022-01-17T12:12:07.604Z"
   },
   {
    "duration": 296,
    "start_time": "2022-01-17T12:16:19.392Z"
   },
   {
    "duration": 288,
    "start_time": "2022-01-17T12:16:32.504Z"
   },
   {
    "duration": 526,
    "start_time": "2022-01-17T12:20:33.219Z"
   },
   {
    "duration": 560,
    "start_time": "2022-01-17T12:20:55.716Z"
   },
   {
    "duration": 851,
    "start_time": "2022-01-17T12:21:25.397Z"
   },
   {
    "duration": 91,
    "start_time": "2022-01-17T12:21:32.932Z"
   },
   {
    "duration": 836,
    "start_time": "2022-01-17T12:21:41.821Z"
   },
   {
    "duration": 98,
    "start_time": "2022-01-17T12:24:09.143Z"
   },
   {
    "duration": 1132,
    "start_time": "2022-01-17T12:24:35.895Z"
   },
   {
    "duration": 833,
    "start_time": "2022-01-17T12:25:21.089Z"
   },
   {
    "duration": 1427,
    "start_time": "2022-01-17T12:26:05.296Z"
   },
   {
    "duration": 548,
    "start_time": "2022-01-17T12:26:31.282Z"
   },
   {
    "duration": 600,
    "start_time": "2022-01-17T12:26:57.105Z"
   },
   {
    "duration": 312,
    "start_time": "2022-01-17T12:51:36.341Z"
   },
   {
    "duration": 560,
    "start_time": "2022-01-17T12:52:07.031Z"
   },
   {
    "duration": 305,
    "start_time": "2022-01-17T12:52:40.695Z"
   },
   {
    "duration": 300,
    "start_time": "2022-01-17T12:52:49.246Z"
   },
   {
    "duration": 319,
    "start_time": "2022-01-17T12:53:51.352Z"
   },
   {
    "duration": 295,
    "start_time": "2022-01-17T12:55:12.385Z"
   },
   {
    "duration": 336,
    "start_time": "2022-01-17T12:56:02.177Z"
   },
   {
    "duration": 307,
    "start_time": "2022-01-17T12:56:09.801Z"
   },
   {
    "duration": 304,
    "start_time": "2022-01-17T12:58:23.939Z"
   },
   {
    "duration": 373,
    "start_time": "2022-01-17T12:58:31.052Z"
   },
   {
    "duration": 297,
    "start_time": "2022-01-17T12:59:06.172Z"
   },
   {
    "duration": 279,
    "start_time": "2022-01-17T12:59:25.692Z"
   },
   {
    "duration": 340,
    "start_time": "2022-01-17T12:59:33.724Z"
   },
   {
    "duration": 215,
    "start_time": "2022-01-17T13:01:33.247Z"
   },
   {
    "duration": 487,
    "start_time": "2022-01-17T13:01:46.424Z"
   },
   {
    "duration": 282,
    "start_time": "2022-01-17T13:02:36.184Z"
   },
   {
    "duration": 355,
    "start_time": "2022-01-17T13:02:43.039Z"
   },
   {
    "duration": 292,
    "start_time": "2022-01-17T13:02:59.207Z"
   },
   {
    "duration": 531,
    "start_time": "2022-01-17T13:03:50.488Z"
   },
   {
    "duration": 325,
    "start_time": "2022-01-17T13:08:56.823Z"
   },
   {
    "duration": 551,
    "start_time": "2022-01-17T13:09:14.462Z"
   },
   {
    "duration": 575,
    "start_time": "2022-01-17T13:09:39.728Z"
   },
   {
    "duration": 20,
    "start_time": "2022-01-17T13:13:00.593Z"
   },
   {
    "duration": 517,
    "start_time": "2022-01-17T13:13:53.410Z"
   },
   {
    "duration": 546,
    "start_time": "2022-01-17T13:14:01.386Z"
   },
   {
    "duration": 535,
    "start_time": "2022-01-17T13:15:29.027Z"
   },
   {
    "duration": 960,
    "start_time": "2022-01-17T13:17:29.301Z"
   },
   {
    "duration": 1042,
    "start_time": "2022-01-17T13:17:59.557Z"
   },
   {
    "duration": 866,
    "start_time": "2022-01-17T13:18:13.854Z"
   },
   {
    "duration": 526,
    "start_time": "2022-01-17T13:18:44.397Z"
   },
   {
    "duration": 273,
    "start_time": "2022-01-17T13:20:11.231Z"
   },
   {
    "duration": 806,
    "start_time": "2022-01-17T13:21:04.504Z"
   },
   {
    "duration": 283,
    "start_time": "2022-01-17T13:21:24.552Z"
   },
   {
    "duration": 443,
    "start_time": "2022-01-17T13:25:40.292Z"
   },
   {
    "duration": 541,
    "start_time": "2022-01-17T13:34:25.730Z"
   },
   {
    "duration": 481,
    "start_time": "2022-01-17T13:35:06.075Z"
   },
   {
    "duration": 6432,
    "start_time": "2022-01-17T13:36:04.101Z"
   },
   {
    "duration": 329,
    "start_time": "2022-01-17T13:36:14.067Z"
   },
   {
    "duration": 315,
    "start_time": "2022-01-17T13:36:47.572Z"
   },
   {
    "duration": 331,
    "start_time": "2022-01-17T13:37:09.929Z"
   },
   {
    "duration": 322,
    "start_time": "2022-01-17T13:37:17.086Z"
   },
   {
    "duration": 332,
    "start_time": "2022-01-17T13:37:33.885Z"
   },
   {
    "duration": 344,
    "start_time": "2022-01-17T13:38:03.381Z"
   },
   {
    "duration": 272,
    "start_time": "2022-01-17T13:40:38.097Z"
   },
   {
    "duration": 311,
    "start_time": "2022-01-17T13:41:40.329Z"
   },
   {
    "duration": 15,
    "start_time": "2022-01-17T13:43:08.309Z"
   },
   {
    "duration": 81,
    "start_time": "2022-01-17T13:45:18.803Z"
   },
   {
    "duration": 14,
    "start_time": "2022-01-17T13:45:23.611Z"
   },
   {
    "duration": 21,
    "start_time": "2022-01-17T13:46:36.468Z"
   },
   {
    "duration": 24,
    "start_time": "2022-01-17T13:46:46.261Z"
   },
   {
    "duration": 23,
    "start_time": "2022-01-17T13:47:58.654Z"
   },
   {
    "duration": 23,
    "start_time": "2022-01-17T13:48:03.214Z"
   },
   {
    "duration": 298,
    "start_time": "2022-01-17T13:56:00.292Z"
   },
   {
    "duration": 268,
    "start_time": "2022-01-17T13:56:14.956Z"
   },
   {
    "duration": 258,
    "start_time": "2022-01-17T13:56:26.068Z"
   },
   {
    "duration": 16,
    "start_time": "2022-01-17T13:58:28.006Z"
   },
   {
    "duration": 12,
    "start_time": "2022-01-17T13:58:51.911Z"
   },
   {
    "duration": 13,
    "start_time": "2022-01-17T14:01:04.592Z"
   },
   {
    "duration": 10,
    "start_time": "2022-01-17T14:02:31.867Z"
   },
   {
    "duration": 10,
    "start_time": "2022-01-17T14:02:34.586Z"
   },
   {
    "duration": 11,
    "start_time": "2022-01-17T14:03:15.771Z"
   },
   {
    "duration": 14,
    "start_time": "2022-01-17T14:03:23.394Z"
   },
   {
    "duration": 11,
    "start_time": "2022-01-17T14:03:27.146Z"
   },
   {
    "duration": 10,
    "start_time": "2022-01-17T14:03:30.956Z"
   },
   {
    "duration": 574,
    "start_time": "2022-01-17T14:06:30.223Z"
   },
   {
    "duration": 334,
    "start_time": "2022-01-17T14:06:36.317Z"
   },
   {
    "duration": 350,
    "start_time": "2022-01-17T14:06:45.517Z"
   },
   {
    "duration": 312,
    "start_time": "2022-01-17T14:06:51.205Z"
   },
   {
    "duration": 457,
    "start_time": "2022-01-17T14:06:55.695Z"
   },
   {
    "duration": 511,
    "start_time": "2022-01-17T14:07:03.694Z"
   },
   {
    "duration": 311,
    "start_time": "2022-01-17T14:07:47.279Z"
   },
   {
    "duration": 551,
    "start_time": "2022-01-17T14:11:39.794Z"
   },
   {
    "duration": 326,
    "start_time": "2022-01-17T14:11:46.674Z"
   },
   {
    "duration": 352,
    "start_time": "2022-01-17T14:11:52.635Z"
   },
   {
    "duration": 426,
    "start_time": "2022-01-17T14:13:00.316Z"
   },
   {
    "duration": 359,
    "start_time": "2022-01-17T14:13:06.716Z"
   },
   {
    "duration": 383,
    "start_time": "2022-01-17T14:13:19.188Z"
   },
   {
    "duration": 370,
    "start_time": "2022-01-17T14:13:30.188Z"
   },
   {
    "duration": 491,
    "start_time": "2022-01-17T14:16:58.920Z"
   },
   {
    "duration": 364,
    "start_time": "2022-01-17T14:17:07.384Z"
   },
   {
    "duration": 333,
    "start_time": "2022-01-17T14:17:11.064Z"
   },
   {
    "duration": 372,
    "start_time": "2022-01-17T14:17:14.631Z"
   },
   {
    "duration": 309,
    "start_time": "2022-01-17T14:17:20.328Z"
   },
   {
    "duration": 322,
    "start_time": "2022-01-17T14:35:17.983Z"
   },
   {
    "duration": 362,
    "start_time": "2022-01-17T14:35:37.009Z"
   },
   {
    "duration": 568,
    "start_time": "2022-01-17T14:35:43.855Z"
   },
   {
    "duration": 670,
    "start_time": "2022-01-17T14:36:39.601Z"
   },
   {
    "duration": 720,
    "start_time": "2022-01-17T14:37:16.602Z"
   },
   {
    "duration": 438,
    "start_time": "2022-01-17T14:37:25.137Z"
   },
   {
    "duration": 409,
    "start_time": "2022-01-17T14:37:30.697Z"
   },
   {
    "duration": 347,
    "start_time": "2022-01-17T14:37:36.944Z"
   },
   {
    "duration": 314,
    "start_time": "2022-01-17T14:37:59.546Z"
   },
   {
    "duration": 449,
    "start_time": "2022-01-17T14:38:03.937Z"
   },
   {
    "duration": 346,
    "start_time": "2022-01-17T14:38:39.644Z"
   },
   {
    "duration": 571,
    "start_time": "2022-01-17T14:38:48.770Z"
   },
   {
    "duration": 698,
    "start_time": "2022-01-17T14:39:15.147Z"
   },
   {
    "duration": 322,
    "start_time": "2022-01-17T14:39:48.666Z"
   },
   {
    "duration": 329,
    "start_time": "2022-01-17T14:39:54.195Z"
   },
   {
    "duration": 330,
    "start_time": "2022-01-17T14:40:02.011Z"
   },
   {
    "duration": 1143,
    "start_time": "2022-01-18T06:58:43.838Z"
   },
   {
    "duration": 372,
    "start_time": "2022-01-18T06:58:44.983Z"
   },
   {
    "duration": 31,
    "start_time": "2022-01-18T06:58:45.357Z"
   },
   {
    "duration": 24,
    "start_time": "2022-01-18T06:58:45.390Z"
   },
   {
    "duration": 23,
    "start_time": "2022-01-18T06:58:45.415Z"
   },
   {
    "duration": 52,
    "start_time": "2022-01-18T06:58:45.439Z"
   },
   {
    "duration": 21,
    "start_time": "2022-01-18T06:58:45.493Z"
   },
   {
    "duration": 10,
    "start_time": "2022-01-18T06:58:45.516Z"
   },
   {
    "duration": 13,
    "start_time": "2022-01-18T06:58:45.528Z"
   },
   {
    "duration": 38,
    "start_time": "2022-01-18T06:58:45.543Z"
   },
   {
    "duration": 196,
    "start_time": "2022-01-18T06:58:45.583Z"
   },
   {
    "duration": 58,
    "start_time": "2022-01-18T06:58:45.782Z"
   },
   {
    "duration": 63,
    "start_time": "2022-01-18T06:58:45.842Z"
   },
   {
    "duration": 12,
    "start_time": "2022-01-18T06:58:45.907Z"
   },
   {
    "duration": 12,
    "start_time": "2022-01-18T06:58:45.920Z"
   },
   {
    "duration": 8,
    "start_time": "2022-01-18T06:58:45.933Z"
   },
   {
    "duration": 35,
    "start_time": "2022-01-18T06:58:45.943Z"
   },
   {
    "duration": 28,
    "start_time": "2022-01-18T06:58:45.979Z"
   },
   {
    "duration": 78,
    "start_time": "2022-01-18T06:58:46.009Z"
   },
   {
    "duration": 6,
    "start_time": "2022-01-18T06:58:46.089Z"
   },
   {
    "duration": 28,
    "start_time": "2022-01-18T06:58:46.096Z"
   },
   {
    "duration": 6,
    "start_time": "2022-01-18T06:58:46.125Z"
   },
   {
    "duration": 43,
    "start_time": "2022-01-18T06:58:46.134Z"
   },
   {
    "duration": 20,
    "start_time": "2022-01-18T06:58:46.179Z"
   },
   {
    "duration": 7,
    "start_time": "2022-01-18T06:58:46.200Z"
   },
   {
    "duration": 26,
    "start_time": "2022-01-18T06:58:46.208Z"
   },
   {
    "duration": 45,
    "start_time": "2022-01-18T06:58:46.235Z"
   },
   {
    "duration": 155,
    "start_time": "2022-01-18T06:58:46.282Z"
   },
   {
    "duration": 195,
    "start_time": "2022-01-18T06:58:46.439Z"
   },
   {
    "duration": 310,
    "start_time": "2022-01-18T06:58:46.636Z"
   },
   {
    "duration": 1599,
    "start_time": "2022-01-18T06:58:50.238Z"
   },
   {
    "duration": 670,
    "start_time": "2022-01-18T06:59:40.231Z"
   },
   {
    "duration": 584,
    "start_time": "2022-01-18T07:04:39.501Z"
   },
   {
    "duration": 362,
    "start_time": "2022-01-18T07:13:47.012Z"
   },
   {
    "duration": 299,
    "start_time": "2022-01-18T07:16:28.222Z"
   },
   {
    "duration": 207,
    "start_time": "2022-01-18T07:18:48.767Z"
   },
   {
    "duration": 192,
    "start_time": "2022-01-18T07:18:56.272Z"
   },
   {
    "duration": 299,
    "start_time": "2022-01-18T07:23:22.392Z"
   },
   {
    "duration": 170,
    "start_time": "2022-01-18T07:45:40.181Z"
   },
   {
    "duration": 394,
    "start_time": "2022-01-18T07:46:00.960Z"
   },
   {
    "duration": 177,
    "start_time": "2022-01-18T07:46:06.815Z"
   },
   {
    "duration": 197,
    "start_time": "2022-01-18T07:46:12.679Z"
   },
   {
    "duration": 229,
    "start_time": "2022-01-18T07:46:17.008Z"
   },
   {
    "duration": 172,
    "start_time": "2022-01-18T07:46:22.839Z"
   },
   {
    "duration": 178,
    "start_time": "2022-01-18T07:46:26.335Z"
   },
   {
    "duration": 653,
    "start_time": "2022-01-18T07:47:12.921Z"
   },
   {
    "duration": 337,
    "start_time": "2022-01-18T09:09:33.365Z"
   },
   {
    "duration": 8,
    "start_time": "2022-01-18T09:10:11.270Z"
   },
   {
    "duration": 13,
    "start_time": "2022-01-18T09:15:31.836Z"
   },
   {
    "duration": 11,
    "start_time": "2022-01-18T09:15:47.004Z"
   },
   {
    "duration": 10,
    "start_time": "2022-01-18T09:15:59.148Z"
   },
   {
    "duration": 9,
    "start_time": "2022-01-18T09:17:25.773Z"
   },
   {
    "duration": 10,
    "start_time": "2022-01-18T09:17:47.860Z"
   },
   {
    "duration": 10,
    "start_time": "2022-01-18T09:17:50.044Z"
   },
   {
    "duration": 1117,
    "start_time": "2022-01-18T09:18:37.955Z"
   },
   {
    "duration": 401,
    "start_time": "2022-01-18T09:18:39.073Z"
   },
   {
    "duration": 31,
    "start_time": "2022-01-18T09:18:39.476Z"
   },
   {
    "duration": 27,
    "start_time": "2022-01-18T09:18:39.509Z"
   },
   {
    "duration": 44,
    "start_time": "2022-01-18T09:18:39.538Z"
   },
   {
    "duration": 28,
    "start_time": "2022-01-18T09:18:39.584Z"
   },
   {
    "duration": 21,
    "start_time": "2022-01-18T09:18:39.614Z"
   },
   {
    "duration": 39,
    "start_time": "2022-01-18T09:18:39.638Z"
   },
   {
    "duration": 14,
    "start_time": "2022-01-18T09:18:39.679Z"
   },
   {
    "duration": 13,
    "start_time": "2022-01-18T09:18:39.695Z"
   },
   {
    "duration": 210,
    "start_time": "2022-01-18T09:18:39.709Z"
   },
   {
    "duration": 74,
    "start_time": "2022-01-18T09:18:39.920Z"
   },
   {
    "duration": 49,
    "start_time": "2022-01-18T09:18:39.995Z"
   },
   {
    "duration": 11,
    "start_time": "2022-01-18T09:18:40.046Z"
   },
   {
    "duration": 24,
    "start_time": "2022-01-18T09:18:40.058Z"
   },
   {
    "duration": 7,
    "start_time": "2022-01-18T09:18:40.084Z"
   },
   {
    "duration": 10,
    "start_time": "2022-01-18T09:18:40.093Z"
   },
   {
    "duration": 28,
    "start_time": "2022-01-18T09:18:40.104Z"
   },
   {
    "duration": 93,
    "start_time": "2022-01-18T09:18:40.134Z"
   },
   {
    "duration": 6,
    "start_time": "2022-01-18T09:18:40.228Z"
   },
   {
    "duration": 37,
    "start_time": "2022-01-18T09:18:40.236Z"
   },
   {
    "duration": 6,
    "start_time": "2022-01-18T09:18:40.274Z"
   },
   {
    "duration": 18,
    "start_time": "2022-01-18T09:18:40.283Z"
   },
   {
    "duration": 20,
    "start_time": "2022-01-18T09:18:40.302Z"
   },
   {
    "duration": 7,
    "start_time": "2022-01-18T09:18:40.324Z"
   },
   {
    "duration": 56,
    "start_time": "2022-01-18T09:18:40.333Z"
   },
   {
    "duration": 19,
    "start_time": "2022-01-18T09:18:40.390Z"
   },
   {
    "duration": 163,
    "start_time": "2022-01-18T09:18:40.410Z"
   },
   {
    "duration": 191,
    "start_time": "2022-01-18T09:18:40.575Z"
   },
   {
    "duration": 388,
    "start_time": "2022-01-18T09:18:40.767Z"
   },
   {
    "duration": 339,
    "start_time": "2022-01-18T09:18:41.157Z"
   },
   {
    "duration": 589,
    "start_time": "2022-01-18T09:18:41.498Z"
   },
   {
    "duration": 318,
    "start_time": "2022-01-18T09:18:42.089Z"
   },
   {
    "duration": 336,
    "start_time": "2022-01-18T09:18:42.410Z"
   },
   {
    "duration": 10,
    "start_time": "2022-01-18T09:18:42.748Z"
   },
   {
    "duration": 327,
    "start_time": "2022-01-18T09:18:42.771Z"
   },
   {
    "duration": 496,
    "start_time": "2022-01-18T09:18:43.100Z"
   },
   {
    "duration": 325,
    "start_time": "2022-01-18T09:18:43.598Z"
   },
   {
    "duration": 522,
    "start_time": "2022-01-18T09:18:43.925Z"
   },
   {
    "duration": 310,
    "start_time": "2022-01-18T09:18:44.449Z"
   },
   {
    "duration": 316,
    "start_time": "2022-01-18T09:18:44.761Z"
   },
   {
    "duration": 11,
    "start_time": "2022-01-18T09:18:45.079Z"
   },
   {
    "duration": 21,
    "start_time": "2022-01-18T09:18:45.091Z"
   },
   {
    "duration": 11,
    "start_time": "2022-01-18T09:18:45.114Z"
   },
   {
    "duration": 12,
    "start_time": "2022-01-18T09:18:45.127Z"
   },
   {
    "duration": 133,
    "start_time": "2022-01-18T09:18:45.141Z"
   },
   {
    "duration": 9,
    "start_time": "2022-01-18T09:18:45.276Z"
   },
   {
    "duration": 14,
    "start_time": "2022-01-18T09:19:51.467Z"
   },
   {
    "duration": 3,
    "start_time": "2022-01-18T09:30:34.772Z"
   },
   {
    "duration": 417,
    "start_time": "2022-01-18T09:30:34.777Z"
   },
   {
    "duration": 30,
    "start_time": "2022-01-18T09:30:35.196Z"
   },
   {
    "duration": 22,
    "start_time": "2022-01-18T09:30:35.228Z"
   },
   {
    "duration": 28,
    "start_time": "2022-01-18T09:30:35.252Z"
   },
   {
    "duration": 23,
    "start_time": "2022-01-18T09:30:35.282Z"
   },
   {
    "duration": 20,
    "start_time": "2022-01-18T09:30:35.307Z"
   },
   {
    "duration": 9,
    "start_time": "2022-01-18T09:30:35.329Z"
   },
   {
    "duration": 44,
    "start_time": "2022-01-18T09:30:35.340Z"
   },
   {
    "duration": 17,
    "start_time": "2022-01-18T09:30:35.385Z"
   },
   {
    "duration": 171,
    "start_time": "2022-01-18T09:30:35.404Z"
   },
   {
    "duration": 59,
    "start_time": "2022-01-18T09:30:35.577Z"
   },
   {
    "duration": 66,
    "start_time": "2022-01-18T09:30:35.638Z"
   },
   {
    "duration": 11,
    "start_time": "2022-01-18T09:30:35.706Z"
   },
   {
    "duration": 16,
    "start_time": "2022-01-18T09:30:35.719Z"
   },
   {
    "duration": 10,
    "start_time": "2022-01-18T09:30:35.736Z"
   },
   {
    "duration": 31,
    "start_time": "2022-01-18T09:30:35.748Z"
   },
   {
    "duration": 29,
    "start_time": "2022-01-18T09:30:35.780Z"
   },
   {
    "duration": 83,
    "start_time": "2022-01-18T09:30:35.813Z"
   },
   {
    "duration": 6,
    "start_time": "2022-01-18T09:30:35.898Z"
   },
   {
    "duration": 30,
    "start_time": "2022-01-18T09:30:35.906Z"
   },
   {
    "duration": 6,
    "start_time": "2022-01-18T09:30:35.938Z"
   },
   {
    "duration": 44,
    "start_time": "2022-01-18T09:30:35.946Z"
   },
   {
    "duration": 24,
    "start_time": "2022-01-18T09:30:35.993Z"
   },
   {
    "duration": 8,
    "start_time": "2022-01-18T09:30:36.018Z"
   },
   {
    "duration": 49,
    "start_time": "2022-01-18T09:30:36.028Z"
   },
   {
    "duration": 20,
    "start_time": "2022-01-18T09:30:36.079Z"
   },
   {
    "duration": 156,
    "start_time": "2022-01-18T09:30:36.101Z"
   },
   {
    "duration": 197,
    "start_time": "2022-01-18T09:30:36.258Z"
   },
   {
    "duration": 318,
    "start_time": "2022-01-18T09:30:36.457Z"
   },
   {
    "duration": 221,
    "start_time": "2022-01-18T09:30:36.778Z"
   },
   {
    "duration": 320,
    "start_time": "2022-01-18T09:30:37.001Z"
   },
   {
    "duration": 210,
    "start_time": "2022-01-18T09:30:37.323Z"
   },
   {
    "duration": 200,
    "start_time": "2022-01-18T09:30:37.535Z"
   },
   {
    "duration": 8,
    "start_time": "2022-01-18T09:30:37.737Z"
   },
   {
    "duration": 206,
    "start_time": "2022-01-18T09:30:37.746Z"
   },
   {
    "duration": 379,
    "start_time": "2022-01-18T09:30:37.953Z"
   },
   {
    "duration": 197,
    "start_time": "2022-01-18T09:30:38.334Z"
   },
   {
    "duration": 305,
    "start_time": "2022-01-18T09:30:38.533Z"
   },
   {
    "duration": 247,
    "start_time": "2022-01-18T09:30:38.841Z"
   },
   {
    "duration": 341,
    "start_time": "2022-01-18T09:30:39.090Z"
   },
   {
    "duration": 8,
    "start_time": "2022-01-18T09:30:39.433Z"
   },
   {
    "duration": 37,
    "start_time": "2022-01-18T09:30:39.443Z"
   },
   {
    "duration": 9,
    "start_time": "2022-01-18T09:30:39.482Z"
   },
   {
    "duration": 8,
    "start_time": "2022-01-18T09:30:39.492Z"
   },
   {
    "duration": 13,
    "start_time": "2022-01-18T09:30:39.502Z"
   },
   {
    "duration": 9,
    "start_time": "2022-01-18T09:30:39.517Z"
   },
   {
    "duration": 1071,
    "start_time": "2022-01-18T09:40:43.196Z"
   },
   {
    "duration": 403,
    "start_time": "2022-01-18T09:40:44.269Z"
   },
   {
    "duration": 33,
    "start_time": "2022-01-18T09:40:44.674Z"
   },
   {
    "duration": 36,
    "start_time": "2022-01-18T09:40:44.710Z"
   },
   {
    "duration": 56,
    "start_time": "2022-01-18T09:40:44.748Z"
   },
   {
    "duration": 25,
    "start_time": "2022-01-18T09:40:44.806Z"
   },
   {
    "duration": 19,
    "start_time": "2022-01-18T09:40:44.832Z"
   },
   {
    "duration": 11,
    "start_time": "2022-01-18T09:40:44.872Z"
   },
   {
    "duration": 21,
    "start_time": "2022-01-18T09:40:44.885Z"
   },
   {
    "duration": 13,
    "start_time": "2022-01-18T09:40:44.908Z"
   },
   {
    "duration": 211,
    "start_time": "2022-01-18T09:40:44.923Z"
   },
   {
    "duration": 74,
    "start_time": "2022-01-18T09:40:45.136Z"
   },
   {
    "duration": 47,
    "start_time": "2022-01-18T09:40:45.212Z"
   },
   {
    "duration": 24,
    "start_time": "2022-01-18T09:40:45.261Z"
   },
   {
    "duration": 14,
    "start_time": "2022-01-18T09:40:45.286Z"
   },
   {
    "duration": 9,
    "start_time": "2022-01-18T09:40:45.302Z"
   },
   {
    "duration": 14,
    "start_time": "2022-01-18T09:40:45.312Z"
   },
   {
    "duration": 27,
    "start_time": "2022-01-18T09:40:45.327Z"
   },
   {
    "duration": 76,
    "start_time": "2022-01-18T09:40:45.356Z"
   },
   {
    "duration": 7,
    "start_time": "2022-01-18T09:40:45.433Z"
   },
   {
    "duration": 44,
    "start_time": "2022-01-18T09:40:45.441Z"
   },
   {
    "duration": 7,
    "start_time": "2022-01-18T09:40:45.487Z"
   },
   {
    "duration": 19,
    "start_time": "2022-01-18T09:40:45.498Z"
   },
   {
    "duration": 21,
    "start_time": "2022-01-18T09:40:45.520Z"
   },
   {
    "duration": 35,
    "start_time": "2022-01-18T09:40:45.543Z"
   },
   {
    "duration": 26,
    "start_time": "2022-01-18T09:40:45.580Z"
   },
   {
    "duration": 19,
    "start_time": "2022-01-18T09:40:45.607Z"
   },
   {
    "duration": 172,
    "start_time": "2022-01-18T09:40:45.627Z"
   },
   {
    "duration": 200,
    "start_time": "2022-01-18T09:40:45.801Z"
   },
   {
    "duration": 318,
    "start_time": "2022-01-18T09:40:46.003Z"
   },
   {
    "duration": 208,
    "start_time": "2022-01-18T09:40:46.322Z"
   },
   {
    "duration": 386,
    "start_time": "2022-01-18T09:40:46.531Z"
   },
   {
    "duration": 211,
    "start_time": "2022-01-18T09:40:46.919Z"
   },
   {
    "duration": 207,
    "start_time": "2022-01-18T09:40:47.132Z"
   },
   {
    "duration": 8,
    "start_time": "2022-01-18T09:40:47.340Z"
   },
   {
    "duration": 209,
    "start_time": "2022-01-18T09:40:47.350Z"
   },
   {
    "duration": 316,
    "start_time": "2022-01-18T09:40:47.561Z"
   },
   {
    "duration": 212,
    "start_time": "2022-01-18T09:40:47.879Z"
   },
   {
    "duration": 313,
    "start_time": "2022-01-18T09:40:48.093Z"
   },
   {
    "duration": 195,
    "start_time": "2022-01-18T09:40:48.407Z"
   },
   {
    "duration": 184,
    "start_time": "2022-01-18T09:40:48.603Z"
   },
   {
    "duration": 7,
    "start_time": "2022-01-18T09:40:48.789Z"
   },
   {
    "duration": 12,
    "start_time": "2022-01-18T09:40:48.797Z"
   },
   {
    "duration": 6,
    "start_time": "2022-01-18T09:40:48.811Z"
   },
   {
    "duration": 9,
    "start_time": "2022-01-18T09:40:48.819Z"
   },
   {
    "duration": 119,
    "start_time": "2022-01-18T09:40:48.830Z"
   },
   {
    "duration": 20,
    "start_time": "2022-01-18T09:40:48.951Z"
   },
   {
    "duration": 1101,
    "start_time": "2022-01-18T12:22:02.999Z"
   },
   {
    "duration": 338,
    "start_time": "2022-01-18T12:22:04.102Z"
   },
   {
    "duration": 32,
    "start_time": "2022-01-18T12:22:04.442Z"
   },
   {
    "duration": 27,
    "start_time": "2022-01-18T12:22:04.475Z"
   },
   {
    "duration": 24,
    "start_time": "2022-01-18T12:22:04.504Z"
   },
   {
    "duration": 33,
    "start_time": "2022-01-18T12:22:04.529Z"
   },
   {
    "duration": 19,
    "start_time": "2022-01-18T12:22:04.563Z"
   },
   {
    "duration": 9,
    "start_time": "2022-01-18T12:22:04.584Z"
   },
   {
    "duration": 28,
    "start_time": "2022-01-18T12:22:04.595Z"
   },
   {
    "duration": 13,
    "start_time": "2022-01-18T12:22:04.624Z"
   },
   {
    "duration": 188,
    "start_time": "2022-01-18T12:22:04.639Z"
   },
   {
    "duration": 56,
    "start_time": "2022-01-18T12:22:04.828Z"
   },
   {
    "duration": 51,
    "start_time": "2022-01-18T12:22:04.885Z"
   },
   {
    "duration": 16,
    "start_time": "2022-01-18T12:22:04.938Z"
   },
   {
    "duration": 11,
    "start_time": "2022-01-18T12:22:04.957Z"
   },
   {
    "duration": 7,
    "start_time": "2022-01-18T12:22:04.969Z"
   },
   {
    "duration": 36,
    "start_time": "2022-01-18T12:22:04.978Z"
   },
   {
    "duration": 31,
    "start_time": "2022-01-18T12:22:05.016Z"
   },
   {
    "duration": 77,
    "start_time": "2022-01-18T12:22:05.048Z"
   },
   {
    "duration": 6,
    "start_time": "2022-01-18T12:22:05.127Z"
   },
   {
    "duration": 39,
    "start_time": "2022-01-18T12:22:05.135Z"
   },
   {
    "duration": 6,
    "start_time": "2022-01-18T12:22:05.175Z"
   },
   {
    "duration": 43,
    "start_time": "2022-01-18T12:22:05.184Z"
   },
   {
    "duration": 20,
    "start_time": "2022-01-18T12:22:05.229Z"
   },
   {
    "duration": 8,
    "start_time": "2022-01-18T12:22:05.251Z"
   },
   {
    "duration": 25,
    "start_time": "2022-01-18T12:22:05.260Z"
   },
   {
    "duration": 44,
    "start_time": "2022-01-18T12:22:05.286Z"
   },
   {
    "duration": 153,
    "start_time": "2022-01-18T12:22:05.331Z"
   },
   {
    "duration": 194,
    "start_time": "2022-01-18T12:22:05.485Z"
   },
   {
    "duration": 321,
    "start_time": "2022-01-18T12:22:05.680Z"
   },
   {
    "duration": 211,
    "start_time": "2022-01-18T12:22:06.003Z"
   },
   {
    "duration": 376,
    "start_time": "2022-01-18T12:22:06.215Z"
   },
   {
    "duration": 206,
    "start_time": "2022-01-18T12:22:06.592Z"
   },
   {
    "duration": 204,
    "start_time": "2022-01-18T12:22:06.799Z"
   },
   {
    "duration": 12,
    "start_time": "2022-01-18T12:22:07.004Z"
   },
   {
    "duration": 201,
    "start_time": "2022-01-18T12:22:07.017Z"
   },
   {
    "duration": 319,
    "start_time": "2022-01-18T12:22:07.219Z"
   },
   {
    "duration": 199,
    "start_time": "2022-01-18T12:22:07.540Z"
   },
   {
    "duration": 312,
    "start_time": "2022-01-18T12:22:07.741Z"
   },
   {
    "duration": 196,
    "start_time": "2022-01-18T12:22:08.055Z"
   },
   {
    "duration": 194,
    "start_time": "2022-01-18T12:22:08.253Z"
   },
   {
    "duration": 8,
    "start_time": "2022-01-18T12:22:08.448Z"
   },
   {
    "duration": 12,
    "start_time": "2022-01-18T12:22:08.458Z"
   },
   {
    "duration": 12,
    "start_time": "2022-01-18T12:22:08.471Z"
   },
   {
    "duration": 28,
    "start_time": "2022-01-18T12:22:08.484Z"
   },
   {
    "duration": 98,
    "start_time": "2022-01-18T12:22:08.514Z"
   },
   {
    "duration": 9,
    "start_time": "2022-01-18T12:22:08.614Z"
   },
   {
    "duration": 655,
    "start_time": "2022-01-18T12:24:53.069Z"
   },
   {
    "duration": 557,
    "start_time": "2022-01-18T12:24:59.433Z"
   },
   {
    "duration": 33,
    "start_time": "2022-01-18T12:25:07.978Z"
   }
  ],
  "kernelspec": {
   "display_name": "Python 3 (ipykernel)",
   "language": "python",
   "name": "python3"
  },
  "language_info": {
   "codemirror_mode": {
    "name": "ipython",
    "version": 3
   },
   "file_extension": ".py",
   "mimetype": "text/x-python",
   "name": "python",
   "nbconvert_exporter": "python",
   "pygments_lexer": "ipython3",
   "version": "3.9.7"
  },
  "toc": {
   "base_numbering": 1,
   "nav_menu": {},
   "number_sections": true,
   "sideBar": true,
   "skip_h1_title": true,
   "title_cell": "Table of Contents",
   "title_sidebar": "Contents",
   "toc_cell": false,
   "toc_position": {},
   "toc_section_display": true,
   "toc_window_display": true
  }
 },
 "nbformat": 4,
 "nbformat_minor": 2
}
