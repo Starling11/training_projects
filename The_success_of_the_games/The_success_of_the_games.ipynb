{
 "cells": [
  {
   "cell_type": "markdown",
   "metadata": {},
   "source": [
    "# Консольные игры и условия их успеха."
   ]
  },
  {
   "cell_type": "code",
   "execution_count": null,
   "metadata": {},
   "outputs": [],
   "source": [
    "Загрузка библиотек."
   ]
  },
  {
   "cell_type": "code",
   "execution_count": 1,
   "metadata": {},
   "outputs": [],
   "source": [
    "import pandas as pd\n",
    "import numpy as np\n",
    "import seaborn as sns\n",
    "import matplotlib.pyplot as plt\n",
    "from collections import Counter\n",
    "from scipy import stats as st"
   ]
  },
  {
   "cell_type": "markdown",
   "metadata": {},
   "source": [
    "Функция для обзора и отображания информации о данных"
   ]
  },
  {
   "cell_type": "code",
   "execution_count": 4,
   "metadata": {},
   "outputs": [],
   "source": [
    "def table_info (df):\n",
    "    display(df.sample(10)) #10 случайных строк\n",
    "    print('---------------')\n",
    "    df.info() #инфо по столбцам\n",
    "    print('---------------')\n",
    "    print('Дубликатов:', df.duplicated().sum()) #кол-во дубликатов\n",
    "    print('---------------')\n",
    "    print('Пропущенных значений', df.isna().sum()) #кол-во пропущенных значений"
   ]
  },
  {
   "cell_type": "markdown",
   "metadata": {},
   "source": [
    "## Обзор данных <a id=\"overview\"></a>"
   ]
  },
  {
   "cell_type": "code",
   "execution_count": 5,
   "metadata": {
    "scrolled": false
   },
   "outputs": [
    {
     "data": {
      "text/html": [
       "<div>\n",
       "<style scoped>\n",
       "    .dataframe tbody tr th:only-of-type {\n",
       "        vertical-align: middle;\n",
       "    }\n",
       "\n",
       "    .dataframe tbody tr th {\n",
       "        vertical-align: top;\n",
       "    }\n",
       "\n",
       "    .dataframe thead th {\n",
       "        text-align: right;\n",
       "    }\n",
       "</style>\n",
       "<table border=\"1\" class=\"dataframe\">\n",
       "  <thead>\n",
       "    <tr style=\"text-align: right;\">\n",
       "      <th></th>\n",
       "      <th>Name</th>\n",
       "      <th>Platform</th>\n",
       "      <th>Year_of_Release</th>\n",
       "      <th>Genre</th>\n",
       "      <th>NA_sales</th>\n",
       "      <th>EU_sales</th>\n",
       "      <th>JP_sales</th>\n",
       "      <th>Other_sales</th>\n",
       "      <th>Critic_Score</th>\n",
       "      <th>User_Score</th>\n",
       "      <th>Rating</th>\n",
       "    </tr>\n",
       "  </thead>\n",
       "  <tbody>\n",
       "    <tr>\n",
       "      <th>13895</th>\n",
       "      <td>Hyperdimension Neptunia Victory II</td>\n",
       "      <td>PS4</td>\n",
       "      <td>2015.0</td>\n",
       "      <td>Role-Playing</td>\n",
       "      <td>0.00</td>\n",
       "      <td>0.00</td>\n",
       "      <td>0.04</td>\n",
       "      <td>0.00</td>\n",
       "      <td>NaN</td>\n",
       "      <td>NaN</td>\n",
       "      <td>NaN</td>\n",
       "    </tr>\n",
       "    <tr>\n",
       "      <th>1626</th>\n",
       "      <td>Vigilante 8</td>\n",
       "      <td>PS</td>\n",
       "      <td>1998.0</td>\n",
       "      <td>Racing</td>\n",
       "      <td>0.68</td>\n",
       "      <td>0.47</td>\n",
       "      <td>0.00</td>\n",
       "      <td>0.08</td>\n",
       "      <td>NaN</td>\n",
       "      <td>NaN</td>\n",
       "      <td>NaN</td>\n",
       "    </tr>\n",
       "    <tr>\n",
       "      <th>6244</th>\n",
       "      <td>Patapon 3</td>\n",
       "      <td>PSP</td>\n",
       "      <td>2011.0</td>\n",
       "      <td>Misc</td>\n",
       "      <td>0.05</td>\n",
       "      <td>0.03</td>\n",
       "      <td>0.17</td>\n",
       "      <td>0.02</td>\n",
       "      <td>74.0</td>\n",
       "      <td>7.2</td>\n",
       "      <td>E</td>\n",
       "    </tr>\n",
       "    <tr>\n",
       "      <th>5912</th>\n",
       "      <td>Finding Nemo: The Continuing Adventures</td>\n",
       "      <td>GBA</td>\n",
       "      <td>2004.0</td>\n",
       "      <td>Action</td>\n",
       "      <td>0.21</td>\n",
       "      <td>0.08</td>\n",
       "      <td>0.00</td>\n",
       "      <td>0.01</td>\n",
       "      <td>NaN</td>\n",
       "      <td>tbd</td>\n",
       "      <td>E</td>\n",
       "    </tr>\n",
       "    <tr>\n",
       "      <th>8360</th>\n",
       "      <td>Beat Down: Fists of Vengeance</td>\n",
       "      <td>PS2</td>\n",
       "      <td>2005.0</td>\n",
       "      <td>Action</td>\n",
       "      <td>0.04</td>\n",
       "      <td>0.03</td>\n",
       "      <td>0.09</td>\n",
       "      <td>0.01</td>\n",
       "      <td>48.0</td>\n",
       "      <td>8.1</td>\n",
       "      <td>M</td>\n",
       "    </tr>\n",
       "    <tr>\n",
       "      <th>5967</th>\n",
       "      <td>Up</td>\n",
       "      <td>X360</td>\n",
       "      <td>2009.0</td>\n",
       "      <td>Action</td>\n",
       "      <td>0.20</td>\n",
       "      <td>0.07</td>\n",
       "      <td>0.00</td>\n",
       "      <td>0.03</td>\n",
       "      <td>61.0</td>\n",
       "      <td>6.8</td>\n",
       "      <td>E10+</td>\n",
       "    </tr>\n",
       "    <tr>\n",
       "      <th>12535</th>\n",
       "      <td>Serious Sam II</td>\n",
       "      <td>XB</td>\n",
       "      <td>2005.0</td>\n",
       "      <td>Shooter</td>\n",
       "      <td>0.05</td>\n",
       "      <td>0.01</td>\n",
       "      <td>0.00</td>\n",
       "      <td>0.00</td>\n",
       "      <td>72.0</td>\n",
       "      <td>6.7</td>\n",
       "      <td>M</td>\n",
       "    </tr>\n",
       "    <tr>\n",
       "      <th>59</th>\n",
       "      <td>Super Mario 64</td>\n",
       "      <td>DS</td>\n",
       "      <td>2004.0</td>\n",
       "      <td>Platform</td>\n",
       "      <td>5.01</td>\n",
       "      <td>3.07</td>\n",
       "      <td>1.25</td>\n",
       "      <td>0.97</td>\n",
       "      <td>NaN</td>\n",
       "      <td>NaN</td>\n",
       "      <td>NaN</td>\n",
       "    </tr>\n",
       "    <tr>\n",
       "      <th>178</th>\n",
       "      <td>Donkey Kong 64</td>\n",
       "      <td>N64</td>\n",
       "      <td>1999.0</td>\n",
       "      <td>Platform</td>\n",
       "      <td>3.33</td>\n",
       "      <td>0.79</td>\n",
       "      <td>1.09</td>\n",
       "      <td>0.06</td>\n",
       "      <td>NaN</td>\n",
       "      <td>NaN</td>\n",
       "      <td>NaN</td>\n",
       "    </tr>\n",
       "    <tr>\n",
       "      <th>946</th>\n",
       "      <td>Phineas and Ferb</td>\n",
       "      <td>DS</td>\n",
       "      <td>2009.0</td>\n",
       "      <td>Action</td>\n",
       "      <td>1.32</td>\n",
       "      <td>0.37</td>\n",
       "      <td>0.00</td>\n",
       "      <td>0.15</td>\n",
       "      <td>80.0</td>\n",
       "      <td>4.5</td>\n",
       "      <td>E</td>\n",
       "    </tr>\n",
       "  </tbody>\n",
       "</table>\n",
       "</div>"
      ],
      "text/plain": [
       "                                          Name Platform  Year_of_Release  \\\n",
       "13895       Hyperdimension Neptunia Victory II      PS4           2015.0   \n",
       "1626                               Vigilante 8       PS           1998.0   \n",
       "6244                                 Patapon 3      PSP           2011.0   \n",
       "5912   Finding Nemo: The Continuing Adventures      GBA           2004.0   \n",
       "8360             Beat Down: Fists of Vengeance      PS2           2005.0   \n",
       "5967                                        Up     X360           2009.0   \n",
       "12535                           Serious Sam II       XB           2005.0   \n",
       "59                              Super Mario 64       DS           2004.0   \n",
       "178                             Donkey Kong 64      N64           1999.0   \n",
       "946                           Phineas and Ferb       DS           2009.0   \n",
       "\n",
       "              Genre  NA_sales  EU_sales  JP_sales  Other_sales  Critic_Score  \\\n",
       "13895  Role-Playing      0.00      0.00      0.04         0.00           NaN   \n",
       "1626         Racing      0.68      0.47      0.00         0.08           NaN   \n",
       "6244           Misc      0.05      0.03      0.17         0.02          74.0   \n",
       "5912         Action      0.21      0.08      0.00         0.01           NaN   \n",
       "8360         Action      0.04      0.03      0.09         0.01          48.0   \n",
       "5967         Action      0.20      0.07      0.00         0.03          61.0   \n",
       "12535       Shooter      0.05      0.01      0.00         0.00          72.0   \n",
       "59         Platform      5.01      3.07      1.25         0.97           NaN   \n",
       "178        Platform      3.33      0.79      1.09         0.06           NaN   \n",
       "946          Action      1.32      0.37      0.00         0.15          80.0   \n",
       "\n",
       "      User_Score Rating  \n",
       "13895        NaN    NaN  \n",
       "1626         NaN    NaN  \n",
       "6244         7.2      E  \n",
       "5912         tbd      E  \n",
       "8360         8.1      M  \n",
       "5967         6.8   E10+  \n",
       "12535        6.7      M  \n",
       "59           NaN    NaN  \n",
       "178          NaN    NaN  \n",
       "946          4.5      E  "
      ]
     },
     "metadata": {},
     "output_type": "display_data"
    },
    {
     "name": "stdout",
     "output_type": "stream",
     "text": [
      "---------------\n",
      "<class 'pandas.core.frame.DataFrame'>\n",
      "RangeIndex: 16715 entries, 0 to 16714\n",
      "Data columns (total 11 columns):\n",
      " #   Column           Non-Null Count  Dtype  \n",
      "---  ------           --------------  -----  \n",
      " 0   Name             16713 non-null  object \n",
      " 1   Platform         16715 non-null  object \n",
      " 2   Year_of_Release  16446 non-null  float64\n",
      " 3   Genre            16713 non-null  object \n",
      " 4   NA_sales         16715 non-null  float64\n",
      " 5   EU_sales         16715 non-null  float64\n",
      " 6   JP_sales         16715 non-null  float64\n",
      " 7   Other_sales      16715 non-null  float64\n",
      " 8   Critic_Score     8137 non-null   float64\n",
      " 9   User_Score       10014 non-null  object \n",
      " 10  Rating           9949 non-null   object \n",
      "dtypes: float64(6), object(5)\n",
      "memory usage: 1.4+ MB\n",
      "---------------\n",
      "Дубликатов: 0\n",
      "---------------\n",
      "Пропущенных значений Name                  2\n",
      "Platform              0\n",
      "Year_of_Release     269\n",
      "Genre                 2\n",
      "NA_sales              0\n",
      "EU_sales              0\n",
      "JP_sales              0\n",
      "Other_sales           0\n",
      "Critic_Score       8578\n",
      "User_Score         6701\n",
      "Rating             6766\n",
      "dtype: int64\n"
     ]
    }
   ],
   "source": [
    "data = pd.read_csv('games.csv')\n",
    "table_info(data)"
   ]
  },
  {
   "cell_type": "markdown",
   "metadata": {},
   "source": [
    "Неявных дубликатов в столбце `Platform` нет."
   ]
  },
  {
   "cell_type": "code",
   "execution_count": 4,
   "metadata": {
    "scrolled": false
   },
   "outputs": [
    {
     "data": {
      "text/plain": [
       "Counter({'Wii': 1320,\n",
       "         'NES': 98,\n",
       "         'GB': 98,\n",
       "         'DS': 2151,\n",
       "         'X360': 1262,\n",
       "         'PS3': 1331,\n",
       "         'PS2': 2161,\n",
       "         'SNES': 239,\n",
       "         'GBA': 822,\n",
       "         'PS4': 392,\n",
       "         '3DS': 520,\n",
       "         'N64': 319,\n",
       "         'PS': 1197,\n",
       "         'XB': 824,\n",
       "         'PC': 974,\n",
       "         '2600': 133,\n",
       "         'PSP': 1209,\n",
       "         'XOne': 247,\n",
       "         'WiiU': 147,\n",
       "         'GC': 556,\n",
       "         'GEN': 29,\n",
       "         'DC': 52,\n",
       "         'PSV': 430,\n",
       "         'SAT': 173,\n",
       "         'SCD': 6,\n",
       "         'WS': 6,\n",
       "         'NG': 12,\n",
       "         'TG16': 2,\n",
       "         '3DO': 3,\n",
       "         'GG': 1,\n",
       "         'PCFX': 1})"
      ]
     },
     "execution_count": 4,
     "metadata": {},
     "output_type": "execute_result"
    }
   ],
   "source": [
    "Counter(data['Platform'])"
   ]
  },
  {
   "cell_type": "markdown",
   "metadata": {},
   "source": [
    "Выводы:\n",
    "* привести названия всех колонок к единому стилю;\n",
    "* в столбце с оценкой пользователей - tbd - To Be Determined - будет определенно, т.е. оценка неизвестна - заменить на NaN;\n",
    "* много пропущенных значений в оценках от критиков и пользователей и в возрастной отметке. Заменять пропуски не будем, это может исказить результаты. Думаю, что пропуски в оценках есть у игр с низким уровнем продаж."
   ]
  },
  {
   "cell_type": "markdown",
   "metadata": {},
   "source": [
    "## Подготовка данных  <a class=\"anchor\" id=\"first-bullet\"></a>"
   ]
  },
  {
   "cell_type": "markdown",
   "metadata": {},
   "source": [
    "Изменим названия столбцов."
   ]
  },
  {
   "cell_type": "code",
   "execution_count": 6,
   "metadata": {},
   "outputs": [
    {
     "name": "stdout",
     "output_type": "stream",
     "text": [
      "Index(['Name', 'Platform', 'Year_of_Release', 'Genre', 'NA_sales', 'EU_sales',\n",
      "       'JP_sales', 'Other_sales', 'Critic_Score', 'User_Score', 'Rating'],\n",
      "      dtype='object')\n"
     ]
    }
   ],
   "source": [
    "print(data.columns)"
   ]
  },
  {
   "cell_type": "code",
   "execution_count": 7,
   "metadata": {},
   "outputs": [
    {
     "name": "stdout",
     "output_type": "stream",
     "text": [
      "Index(['name', 'platform', 'year_of_release', 'genre', 'na_sales', 'eu_sales',\n",
      "       'jp_sales', 'other_sales', 'critic_score', 'user_score', 'rating'],\n",
      "      dtype='object')\n"
     ]
    }
   ],
   "source": [
    "data = (\n",
    "    data.rename(columns={'Name':'name', 'Platform':'platform', 'Year_of_Release':'year_of_release',\n",
    "                             'Genre':'genre', 'NA_sales':'na_sales', 'EU_sales':'eu_sales', 'JP_sales':'jp_sales',\n",
    "                             'Other_sales':'other_sales', 'Critic_Score':'critic_score', 'User_Score':'user_score',\n",
    "                             'Rating':'rating'})\n",
    ")\n",
    "print(data.columns)"
   ]
  },
  {
   "cell_type": "markdown",
   "metadata": {},
   "source": [
    "Добавим информацию по суммарным продажам игр."
   ]
  },
  {
   "cell_type": "code",
   "execution_count": 10,
   "metadata": {
    "scrolled": true
   },
   "outputs": [],
   "source": [
    "data['total_sales'] = data['na_sales'] + data['eu_sales'] + data['jp_sales'] + data['other_sales']"
   ]
  },
  {
   "cell_type": "markdown",
   "metadata": {},
   "source": [
    "tbd в оценках пользователей заменим на NaN."
   ]
  },
  {
   "cell_type": "code",
   "execution_count": 11,
   "metadata": {
    "scrolled": false
   },
   "outputs": [
    {
     "name": "stdout",
     "output_type": "stream",
     "text": [
      "<class 'pandas.core.frame.DataFrame'>\n",
      "RangeIndex: 16715 entries, 0 to 16714\n",
      "Data columns (total 12 columns):\n",
      "name               16713 non-null object\n",
      "platform           16715 non-null object\n",
      "year_of_release    16446 non-null float64\n",
      "genre              16713 non-null object\n",
      "na_sales           16715 non-null float64\n",
      "eu_sales           16715 non-null float64\n",
      "jp_sales           16715 non-null float64\n",
      "other_sales        16715 non-null float64\n",
      "critic_score       8137 non-null float64\n",
      "user_score         7590 non-null float64\n",
      "rating             9949 non-null object\n",
      "total_sales        16715 non-null float64\n",
      "dtypes: float64(8), object(4)\n",
      "memory usage: 1.5+ MB\n"
     ]
    }
   ],
   "source": [
    "data['user_score'] = data['user_score'].replace('tbd', np.nan)\n",
    "data['user_score'] = data['user_score'].astype('float')\n",
    "data.info()"
   ]
  },
  {
   "cell_type": "markdown",
   "metadata": {},
   "source": [
    "Заменим NaN в столбце с рейтингом на Unknown."
   ]
  },
  {
   "cell_type": "code",
   "execution_count": 12,
   "metadata": {},
   "outputs": [],
   "source": [
    "data['rating'] = data['rating'].fillna('Unknown')"
   ]
  },
  {
   "cell_type": "markdown",
   "metadata": {},
   "source": [
    "## Исследовательский анализ данных"
   ]
  },
  {
   "cell_type": "markdown",
   "metadata": {},
   "source": [
    "### Исследование платформ"
   ]
  },
  {
   "cell_type": "markdown",
   "metadata": {},
   "source": [
    "Визуальзация количества общих продаж по годам. Спад начался после кризиса в 2008 году и наверняка связан со снижением покупальской способности населения. Возможно с развитием игровой индустрии в другом направлении. Можно выделить 3 самых успешных года для продаж - 2007, 2008, 2009. До 2008 идет рост продаж, после 2009 года наблюдается спад."
   ]
  },
  {
   "cell_type": "code",
   "execution_count": 13,
   "metadata": {
    "scrolled": false
   },
   "outputs": [
    {
     "data": {
      "image/png": "[encoded data removed]",
      "text/plain": [
       "<Figure size 648x504 with 1 Axes>"
      ]
     },
     "metadata": {
      "needs_background": "light"
     },
     "output_type": "display_data"
    }
   ],
   "source": [
    "(\n",
    "    data.pivot_table(index='year_of_release', values='total_sales', aggfunc='sum')\n",
    "    .reset_index()\n",
    "    .plot(x='year_of_release', y='total_sales', kind='bar', figsize=(9,7), color='mediumpurple',grid=True)\n",
    ");"
   ]
  },
  {
   "cell_type": "markdown",
   "metadata": {},
   "source": [
    "Продолжительность жизни платформ. Лидер про долголетию - PC - 26 лет. Минимальный срок 1 год у платформ GC, PCFX, TG16. Средняя продолжительность существования платформ - 7 лет."
   ]
  },
  {
   "cell_type": "code",
   "execution_count": 14,
   "metadata": {
    "scrolled": false
   },
   "outputs": [
    {
     "data": {
      "image/png": "[encoded data removed]",
      "text/plain": [
       "<Figure size 648x504 with 1 Axes>"
      ]
     },
     "metadata": {
      "needs_background": "light"
     },
     "output_type": "display_data"
    }
   ],
   "source": [
    "\n",
    "(\n",
    "    data.pivot_table(index=('platform','year_of_release'),values='total_sales', aggfunc='sum')\n",
    "    .reset_index()\n",
    "    .pivot_table(index='platform', values='year_of_release', aggfunc='count')\n",
    "    .plot(kind='bar', figsize=(9,7), color='mediumpurple', grid=True)\n",
    ")\n",
    "plt.xlabel('Платформа')\n",
    "plt.ylabel('Продолжительсность жизни')\n",
    "plt.legend('');"
   ]
  },
  {
   "cell_type": "code",
   "execution_count": 15,
   "metadata": {
    "scrolled": true
   },
   "outputs": [
    {
     "data": {
      "text/html": [
       "<div>\n",
       "<style scoped>\n",
       "    .dataframe tbody tr th:only-of-type {\n",
       "        vertical-align: middle;\n",
       "    }\n",
       "\n",
       "    .dataframe tbody tr th {\n",
       "        vertical-align: top;\n",
       "    }\n",
       "\n",
       "    .dataframe thead th {\n",
       "        text-align: right;\n",
       "    }\n",
       "</style>\n",
       "<table border=\"1\" class=\"dataframe\">\n",
       "  <thead>\n",
       "    <tr style=\"text-align: right;\">\n",
       "      <th></th>\n",
       "      <th>year_of_release</th>\n",
       "    </tr>\n",
       "  </thead>\n",
       "  <tbody>\n",
       "    <tr>\n",
       "      <td>count</td>\n",
       "      <td>31.000000</td>\n",
       "    </tr>\n",
       "    <tr>\n",
       "      <td>mean</td>\n",
       "      <td>7.677419</td>\n",
       "    </tr>\n",
       "    <tr>\n",
       "      <td>std</td>\n",
       "      <td>5.081910</td>\n",
       "    </tr>\n",
       "    <tr>\n",
       "      <td>min</td>\n",
       "      <td>1.000000</td>\n",
       "    </tr>\n",
       "    <tr>\n",
       "      <td>25%</td>\n",
       "      <td>4.000000</td>\n",
       "    </tr>\n",
       "    <tr>\n",
       "      <td>50%</td>\n",
       "      <td>7.000000</td>\n",
       "    </tr>\n",
       "    <tr>\n",
       "      <td>75%</td>\n",
       "      <td>11.000000</td>\n",
       "    </tr>\n",
       "    <tr>\n",
       "      <td>max</td>\n",
       "      <td>26.000000</td>\n",
       "    </tr>\n",
       "  </tbody>\n",
       "</table>\n",
       "</div>"
      ],
      "text/plain": [
       "       year_of_release\n",
       "count        31.000000\n",
       "mean          7.677419\n",
       "std           5.081910\n",
       "min           1.000000\n",
       "25%           4.000000\n",
       "50%           7.000000\n",
       "75%          11.000000\n",
       "max          26.000000"
      ]
     },
     "execution_count": 15,
     "metadata": {},
     "output_type": "execute_result"
    }
   ],
   "source": [
    "(\n",
    "    data.pivot_table(index=('platform','year_of_release'),values='total_sales', aggfunc='sum')\n",
    "    .reset_index()\n",
    "    .pivot_table(index='platform', values='year_of_release', aggfunc='count')\n",
    "    .reset_index()\n",
    ").describe()"
   ]
  },
  {
   "cell_type": "markdown",
   "metadata": {},
   "source": [
    "Cумарные продажи платформ за 26 лет."
   ]
  },
  {
   "cell_type": "code",
   "execution_count": 16,
   "metadata": {
    "scrolled": true
   },
   "outputs": [
    {
     "data": {
      "image/png": "[encoded data removed]",
      "text/plain": [
       "<Figure size 648x504 with 1 Axes>"
      ]
     },
     "metadata": {
      "needs_background": "light"
     },
     "output_type": "display_data"
    }
   ],
   "source": [
    "(\n",
    "    data.pivot_table(index=('platform'),values='total_sales', aggfunc='sum')\n",
    "    .sort_values(by='total_sales')\n",
    "    .plot(kind='bar',figsize=(9,7), color='mediumpurple', grid=True)\n",
    ");"
   ]
  },
  {
   "cell_type": "markdown",
   "metadata": {},
   "source": [
    "Продажи платформ по годам."
   ]
  },
  {
   "cell_type": "code",
   "execution_count": 17,
   "metadata": {
    "scrolled": false
   },
   "outputs": [
    {
     "data": {
      "image/png": "[encoded data removed]",
      "text/plain": [
       "<Figure size 936x504 with 1 Axes>"
      ]
     },
     "metadata": {
      "needs_background": "light"
     },
     "output_type": "display_data"
    }
   ],
   "source": [
    "(\n",
    "    data.pivot_table(index=('year_of_release', 'platform'),values='total_sales', aggfunc='sum')\n",
    "    .unstack('platform') \n",
    "    .plot(kind='line', figsize=(13,7), grid=True)\n",
    ")\n",
    "plt.legend(ncol=2);"
   ]
  },
  {
   "cell_type": "markdown",
   "metadata": {},
   "source": [
    "Продажи платформ по годам."
   ]
  },
  {
   "cell_type": "code",
   "execution_count": 18,
   "metadata": {
    "scrolled": false
   },
   "outputs": [
    {
     "data": {
      "image/png": "[encoded data removed]",
      "text/plain": [
       "<Figure size 1080x720 with 2 Axes>"
      ]
     },
     "metadata": {},
     "output_type": "display_data"
    }
   ],
   "source": [
    "sns.set(rc = {'figure.figsize':(15,10)})\n",
    "sns.heatmap(\n",
    "    data.pivot_table(index=('year_of_release', 'platform'),values='total_sales', aggfunc='sum')\n",
    "    .unstack('platform')\n",
    "    .fillna(0), cmap='Purples', linewidths=0.3, linecolor='lavender'\n",
    ");"
   ]
  },
  {
   "cell_type": "markdown",
   "metadata": {},
   "source": [
    "Глядя на график суммарных продаж можно выделить лидеров рынка в порядке убывания: PS2, X360, PS3, Wii, DS."
   ]
  },
  {
   "cell_type": "markdown",
   "metadata": {},
   "source": [
    "### 5 лидеров"
   ]
  },
  {
   "cell_type": "markdown",
   "metadata": {},
   "source": [
    "Продажи 5 лидеров по годам."
   ]
  },
  {
   "cell_type": "code",
   "execution_count": 19,
   "metadata": {
    "scrolled": true
   },
   "outputs": [
    {
     "data": {
      "image/png": "[encoded data removed]",
      "text/plain": [
       "<Figure size 936x504 with 1 Axes>"
      ]
     },
     "metadata": {},
     "output_type": "display_data"
    }
   ],
   "source": [
    "\n",
    "(   \n",
    "    data.query('\"PS2\" in platform or \"X360\" in platform or \"PS3\" in platform or \"Wii\" in platform or \"DS\" in platform')\n",
    "    .pivot_table(index=('year_of_release', 'platform'),values='total_sales', aggfunc='sum')\n",
    "    .unstack('platform') \n",
    "    .sort_values(by='year_of_release')\n",
    "    .plot(kind='line',xlim=1999, figsize=(13,7), grid=True)\n",
    ");"
   ]
  },
  {
   "cell_type": "markdown",
   "metadata": {},
   "source": [
    "Продажи 5 лидеров по годам."
   ]
  },
  {
   "cell_type": "code",
   "execution_count": 20,
   "metadata": {
    "scrolled": false
   },
   "outputs": [
    {
     "data": {
      "image/png": "[encoded data removed]",
      "text/plain": [
       "<Figure size 1080x720 with 2 Axes>"
      ]
     },
     "metadata": {},
     "output_type": "display_data"
    }
   ],
   "source": [
    "sns.set(rc = {'figure.figsize':(15,10)})\n",
    "sns.heatmap(   \n",
    "    data.query('\"PS2\" in platform or \"X360\" in platform or \"PS3\" in platform or \"Wii\" in platform or \"DS\" in platform')\n",
    "    .pivot_table(index=('year_of_release', 'platform'),values='total_sales', aggfunc='sum')\n",
    "    .unstack('platform') \n",
    "    .fillna(0), cmap='Purples', linewidths=0.3, linecolor='white'\n",
    ");\n"
   ]
  },
  {
   "cell_type": "markdown",
   "metadata": {},
   "source": [
    "Благодаря графика можно заметить, что у платформ-лидров подъем и спад были в одни временные периоды. Рост продаж начался в период 2004 - 2008, а после 2011 идет спад у всех. Для анализа был выбран период 2014-2016 год, т.к. данный период покажет актуальные предпочтения пользователей в платформах и жанрах для прогноза на 2017 год.."
   ]
  },
  {
   "cell_type": "markdown",
   "metadata": {},
   "source": [
    "### 2014 - 2016 год"
   ]
  },
  {
   "cell_type": "markdown",
   "metadata": {},
   "source": [
    "Выделим данные для 2014-2016 в отдельную таблицу."
   ]
  },
  {
   "cell_type": "code",
   "execution_count": 21,
   "metadata": {},
   "outputs": [],
   "source": [
    "data_period = data.query('\"2014\" in year_of_release | \"2015\" in year_of_release | \"2016\" in year_of_release')"
   ]
  },
  {
   "cell_type": "markdown",
   "metadata": {},
   "source": [
    "Проджи платформ в 2014-2016 году."
   ]
  },
  {
   "cell_type": "code",
   "execution_count": 22,
   "metadata": {
    "scrolled": true
   },
   "outputs": [
    {
     "data": {
      "image/png": "[encoded data removed]",
      "text/plain": [
       "<Figure size 720x504 with 1 Axes>"
      ]
     },
     "metadata": {},
     "output_type": "display_data"
    }
   ],
   "source": [
    "(\n",
    "    data_period.pivot_table(index=('platform','year_of_release'),values='total_sales', aggfunc='sum')\n",
    "    .unstack('platform')\n",
    "    .plot(kind='bar', figsize=(10,7), grid=True)\n",
    ")\n",
    "plt.legend(bbox_to_anchor=(1, 0.6));"
   ]
  },
  {
   "cell_type": "markdown",
   "metadata": {},
   "source": [
    "Динамика на 2014-2016."
   ]
  },
  {
   "cell_type": "code",
   "execution_count": 23,
   "metadata": {
    "scrolled": true
   },
   "outputs": [
    {
     "data": {
      "image/png": "[encoded data removed]",
      "text/plain": [
       "<Figure size 1080x720 with 1 Axes>"
      ]
     },
     "metadata": {},
     "output_type": "display_data"
    }
   ],
   "source": [
    "sns.heatmap(\n",
    "    data_period.pivot_table(index=('platform','year_of_release'),values='total_sales', aggfunc='sum')\n",
    "    .unstack('platform')\n",
    "    .fillna(0), cmap='Purples', linewidths=0.3, linecolor='white', square=True, cbar=False\n",
    ");\n",
    "sns.set(rc = {'figure.figsize':(10,10)});"
   ]
  },
  {
   "cell_type": "markdown",
   "metadata": {},
   "source": [
    "Доли продаж платформ в 2016."
   ]
  },
  {
   "cell_type": "code",
   "execution_count": 24,
   "metadata": {},
   "outputs": [
    {
     "data": {
      "image/png": "[encoded data removed]",
      "text/plain": [
       "<Figure size 720x720 with 1 Axes>"
      ]
     },
     "metadata": {},
     "output_type": "display_data"
    }
   ],
   "source": [
    "(\n",
    "    data.query('\"2016\" in year_of_release')\n",
    "    .pivot_table(index=('platform'),values='total_sales', aggfunc='sum')\n",
    "    .plot(kind='pie', x='platform', y='total_sales', autopct='%1.1f%%') \n",
    ");"
   ]
  },
  {
   "cell_type": "markdown",
   "metadata": {},
   "source": [
    "Графики за 2014-2016 год говорят нам о том, что практически у всех платформ наблюдается спад в данный период. Самое явное снижение продаж у PS4, XOne. В период 2014-2015 PS4 и XOne росли. Лидеры в 2016 году (по уменьшенью популярности): PS4, XOne, 3DS, PC. Данные платформы можно назвать самыми перспективными на 2017 год.C. "
   ]
  },
  {
   "cell_type": "markdown",
   "metadata": {},
   "source": [
    "### Зависимость оценок и продаж"
   ]
  },
  {
   "cell_type": "markdown",
   "metadata": {},
   "source": [
    "Продажи PS4 2014-2016 год."
   ]
  },
  {
   "cell_type": "code",
   "execution_count": 25,
   "metadata": {
    "scrolled": true
   },
   "outputs": [
    {
     "data": {
      "image/png": "[encoded data removed]",
      "text/plain": [
       "<Figure size 288x504 with 1 Axes>"
      ]
     },
     "metadata": {},
     "output_type": "display_data"
    }
   ],
   "source": [
    "(\n",
    "    data_period.query('\"PS4\" in platform').pivot_table(index=('name'),values='total_sales', aggfunc='sum')\n",
    "    .boxplot(figsize=(4,7))\n",
    ");"
   ]
  },
  {
   "cell_type": "markdown",
   "metadata": {},
   "source": [
    "Продажи XOne 2014-2016 год."
   ]
  },
  {
   "cell_type": "code",
   "execution_count": 26,
   "metadata": {
    "scrolled": true
   },
   "outputs": [
    {
     "data": {
      "image/png": "[encoded data removed]",
      "text/plain": [
       "<Figure size 288x504 with 1 Axes>"
      ]
     },
     "metadata": {},
     "output_type": "display_data"
    }
   ],
   "source": [
    "(\n",
    "    data_period.query('\"XOne\" in platform').pivot_table(index=('name'),values='total_sales', aggfunc='sum')\n",
    "    .boxplot(figsize=(4,7))\n",
    ");"
   ]
  },
  {
   "cell_type": "markdown",
   "metadata": {},
   "source": [
    "Продажи 3DS 2014-2016 год."
   ]
  },
  {
   "cell_type": "code",
   "execution_count": 27,
   "metadata": {
    "scrolled": true
   },
   "outputs": [
    {
     "data": {
      "image/png": "[encoded data removed]",
      "text/plain": [
       "<Figure size 288x504 with 1 Axes>"
      ]
     },
     "metadata": {},
     "output_type": "display_data"
    }
   ],
   "source": [
    "(\n",
    "    data_period.query('\"3DS\" in platform').pivot_table(index=('name'),values='total_sales', aggfunc='sum')\n",
    "    .boxplot(figsize=(4,7))\n",
    ");"
   ]
  },
  {
   "cell_type": "markdown",
   "metadata": {},
   "source": [
    "Продажи PC 2014-2016."
   ]
  },
  {
   "cell_type": "code",
   "execution_count": 28,
   "metadata": {
    "scrolled": true
   },
   "outputs": [
    {
     "data": {
      "image/png": "[encoded data removed]",
      "text/plain": [
       "<Figure size 288x504 with 1 Axes>"
      ]
     },
     "metadata": {},
     "output_type": "display_data"
    }
   ],
   "source": [
    "(\n",
    "    data_period.query('\"PC\" in platform').pivot_table(index=('name'),values='total_sales', aggfunc='sum')\n",
    "    .boxplot(figsize=(4,7))\n",
    ");"
   ]
  },
  {
   "cell_type": "markdown",
   "metadata": {},
   "source": [
    "Для каждой из платформ в данный период характерно большое количество бестселлеров с заметно большими суммами продаж. Для PS4 количество таких продуктов больше чем для остальных платформ."
   ]
  },
  {
   "cell_type": "code",
   "execution_count": 29,
   "metadata": {},
   "outputs": [],
   "source": [
    "import warnings\n",
    "warnings.simplefilter(\"ignore\")"
   ]
  },
  {
   "cell_type": "code",
   "execution_count": 30,
   "metadata": {},
   "outputs": [],
   "source": [
    "from matplotlib.axes._axes import _log as matplotlib_axes_logger\n",
    "matplotlib_axes_logger.setLevel('ERROR')"
   ]
  },
  {
   "cell_type": "markdown",
   "metadata": {},
   "source": [
    "Взаимосвязь оценок и продаж на всех платфомах в 2014-2016. Зависимости продаж от отзывов пользователей практически нет. На продажи по всем платформам немного влияют отзывы критиков. Возможно во время покупок пользователи обращают внимание на рекламные компании, свои потребности, но не следуют советам критиков и других покупателей."
   ]
  },
  {
   "cell_type": "code",
   "execution_count": 31,
   "metadata": {
    "scrolled": false
   },
   "outputs": [
    {
     "data": {
      "image/png": "[encoded data removed]",
      "text/plain": [
       "<Figure size 576x360 with 2 Axes>"
      ]
     },
     "metadata": {},
     "output_type": "display_data"
    }
   ],
   "source": [
    "fig, axs = plt.subplots(1,2, figsize=(8,5))\n",
    "\n",
    "(\n",
    "    data_period.query('\"PC\" in platform')\n",
    "    .plot(kind='scatter', x='total_sales', y='critic_score', ax=axs[0])\n",
    "    .set_title('Оценка критиков и продажи')\n",
    ")\n",
    "(\n",
    "    data_period.query('\"PC\" in platform')\n",
    "    .plot(kind='scatter', x='total_sales', y='user_score', ax=axs[1])\n",
    "    .set_title('Оценка пользователей и продажи')\n",
    ");"
   ]
  },
  {
   "cell_type": "code",
   "execution_count": 32,
   "metadata": {},
   "outputs": [
    {
     "data": {
      "text/html": [
       "<div>\n",
       "<style scoped>\n",
       "    .dataframe tbody tr th:only-of-type {\n",
       "        vertical-align: middle;\n",
       "    }\n",
       "\n",
       "    .dataframe tbody tr th {\n",
       "        vertical-align: top;\n",
       "    }\n",
       "\n",
       "    .dataframe thead th {\n",
       "        text-align: right;\n",
       "    }\n",
       "</style>\n",
       "<table border=\"1\" class=\"dataframe\">\n",
       "  <thead>\n",
       "    <tr style=\"text-align: right;\">\n",
       "      <th></th>\n",
       "      <th>user_score</th>\n",
       "      <th>total_sales</th>\n",
       "      <th>critic_score</th>\n",
       "    </tr>\n",
       "  </thead>\n",
       "  <tbody>\n",
       "    <tr>\n",
       "      <td>user_score</td>\n",
       "      <td>1.000000</td>\n",
       "      <td>-0.071597</td>\n",
       "      <td>0.466099</td>\n",
       "    </tr>\n",
       "    <tr>\n",
       "      <td>total_sales</td>\n",
       "      <td>-0.071597</td>\n",
       "      <td>1.000000</td>\n",
       "      <td>0.174634</td>\n",
       "    </tr>\n",
       "    <tr>\n",
       "      <td>critic_score</td>\n",
       "      <td>0.466099</td>\n",
       "      <td>0.174634</td>\n",
       "      <td>1.000000</td>\n",
       "    </tr>\n",
       "  </tbody>\n",
       "</table>\n",
       "</div>"
      ],
      "text/plain": [
       "              user_score  total_sales  critic_score\n",
       "user_score      1.000000    -0.071597      0.466099\n",
       "total_sales    -0.071597     1.000000      0.174634\n",
       "critic_score    0.466099     0.174634      1.000000"
      ]
     },
     "execution_count": 32,
     "metadata": {},
     "output_type": "execute_result"
    }
   ],
   "source": [
    "data_period.query('\"PC\" in platform')[['user_score','total_sales','critic_score']].corr()"
   ]
  },
  {
   "cell_type": "markdown",
   "metadata": {},
   "source": [
    "Взаимосвязь оценок и продаж на всех платфомах в 2014-2016. Зависимости продаж от отзывов пользователей практически нет. На продажи по всем платформам немного влияют отзывы критиков. Возможно во время покупок пользователи обращают внимание на рекламные компании, свои потребности, но не следуют советам критиков и других покупателей."
   ]
  },
  {
   "cell_type": "code",
   "execution_count": 33,
   "metadata": {
    "scrolled": false
   },
   "outputs": [
    {
     "data": {
      "image/png": "[encoded data removed]",
      "text/plain": [
       "<Figure size 576x360 with 2 Axes>"
      ]
     },
     "metadata": {},
     "output_type": "display_data"
    }
   ],
   "source": [
    "fig, axs = plt.subplots(1,2, figsize=(8,5))\n",
    "\n",
    "(\n",
    "    data_period.plot(kind='scatter', x='total_sales', y='critic_score', ax=axs[0])\n",
    "    .set_title('Оценка критиков и продажи')\n",
    ")\n",
    "(\n",
    "    data_period.plot(kind='scatter', x='total_sales', y='user_score', ax=axs[1])\n",
    "    .set_title('Оценка пользователей и продажи')\n",
    ");"
   ]
  },
  {
   "cell_type": "code",
   "execution_count": 34,
   "metadata": {
    "scrolled": false
   },
   "outputs": [
    {
     "data": {
      "text/html": [
       "<div>\n",
       "<style scoped>\n",
       "    .dataframe tbody tr th:only-of-type {\n",
       "        vertical-align: middle;\n",
       "    }\n",
       "\n",
       "    .dataframe tbody tr th {\n",
       "        vertical-align: top;\n",
       "    }\n",
       "\n",
       "    .dataframe thead th {\n",
       "        text-align: right;\n",
       "    }\n",
       "</style>\n",
       "<table border=\"1\" class=\"dataframe\">\n",
       "  <thead>\n",
       "    <tr style=\"text-align: right;\">\n",
       "      <th></th>\n",
       "      <th>user_score</th>\n",
       "      <th>total_sales</th>\n",
       "      <th>critic_score</th>\n",
       "    </tr>\n",
       "  </thead>\n",
       "  <tbody>\n",
       "    <tr>\n",
       "      <td>user_score</td>\n",
       "      <td>1.00000</td>\n",
       "      <td>-0.013070</td>\n",
       "      <td>0.504460</td>\n",
       "    </tr>\n",
       "    <tr>\n",
       "      <td>total_sales</td>\n",
       "      <td>-0.01307</td>\n",
       "      <td>1.000000</td>\n",
       "      <td>0.328105</td>\n",
       "    </tr>\n",
       "    <tr>\n",
       "      <td>critic_score</td>\n",
       "      <td>0.50446</td>\n",
       "      <td>0.328105</td>\n",
       "      <td>1.000000</td>\n",
       "    </tr>\n",
       "  </tbody>\n",
       "</table>\n",
       "</div>"
      ],
      "text/plain": [
       "              user_score  total_sales  critic_score\n",
       "user_score       1.00000    -0.013070      0.504460\n",
       "total_sales     -0.01307     1.000000      0.328105\n",
       "critic_score     0.50446     0.328105      1.000000"
      ]
     },
     "execution_count": 34,
     "metadata": {},
     "output_type": "execute_result"
    }
   ],
   "source": [
    "data_period[['user_score','total_sales','critic_score']].corr()"
   ]
  },
  {
   "cell_type": "markdown",
   "metadata": {},
   "source": [
    "### Игры и жанры"
   ]
  },
  {
   "cell_type": "markdown",
   "metadata": {},
   "source": [
    "Графики количества игр в жанрах и популярность жанров. Больше всего игр созданно в жанре Action. На втором и третьем месте по количеству игр: Role-Playing, Adventure. Меньше всего игр в жанре Puzzle, Strategy, Platform. \n",
    "По продажам на первом месте жанры: Action, Shooter, Sports, Role-Playing. \n",
    "Самые не популярные: Puzzle, Strategy, Simulation."
   ]
  },
  {
   "cell_type": "code",
   "execution_count": 35,
   "metadata": {},
   "outputs": [
    {
     "data": {
      "image/png": "[encoded data removed]",
      "text/plain": [
       "<Figure size 720x504 with 2 Axes>"
      ]
     },
     "metadata": {},
     "output_type": "display_data"
    }
   ],
   "source": [
    "fig, axs = plt.subplots(1,2, figsize=(10,7)) \n",
    "(\n",
    "    data_period.pivot_table(index=('genre'),values='name', aggfunc='count')\n",
    "    .sort_values(by='name')\n",
    "    .plot(kind='bar', color='mediumpurple', grid=True, ax=axs[0])\n",
    "    .set_title('Распределение игр по жанрам')\n",
    ");\n",
    "\n",
    "(\n",
    "    data_period.pivot_table(index=('genre'),values='total_sales', aggfunc='sum')\n",
    "    .sort_values(by='total_sales')\n",
    "    .plot(kind='bar', color='mediumpurple', grid=True, ax=axs[1])\n",
    "    .set_title('Продажи игр по жанрам')\n",
    ");"
   ]
  },
  {
   "cell_type": "markdown",
   "metadata": {},
   "source": [
    "## Портрет пользователя "
   ]
  },
  {
   "cell_type": "markdown",
   "metadata": {},
   "source": [
    "Популярные платформы в регионах\n",
    "5 платформ лидеров североамериканского региона: \n",
    "- \"PS4\";\n",
    "- \"XOne\";\n",
    "- \"X360\";\n",
    "- \"3DS\";\n",
    "- \"PS3\"\n",
    "\n",
    "5 платформ лидеров Европы: \n",
    "- \"PS4\";\n",
    "- \"XOne\";\n",
    "- \"PS3\";\n",
    "- \"PC\";\n",
    "- \"3DS\".\n",
    "\n",
    "5 платформ лидеров Японии: \n",
    "- \"3DS\" ;\n",
    "- \"PS4\" ;\n",
    "- \"PSV\" ;\n",
    "- \"PS3\" ;\n",
    "-  \"WiiU\".\n",
    "В Северной Америке \"PS4\" и \"XOne\" лидеры.\n",
    "В Европе  \"PS4\" и \"XOne\" являются самыми популярными."
   ]
  },
  {
   "cell_type": "code",
   "execution_count": 36,
   "metadata": {
    "scrolled": true
   },
   "outputs": [
    {
     "data": {
      "image/png": "[encoded data removed]",
      "text/plain": [
       "<Figure size 720x720 with 3 Axes>"
      ]
     },
     "metadata": {},
     "output_type": "display_data"
    }
   ],
   "source": [
    "fig, axs = plt.subplots(1,3) \n",
    "plt.tight_layout ()\n",
    "(\n",
    "    data_period.pivot_table(index=('platform'),values='na_sales', aggfunc='sum')\n",
    "    .plot(kind='bar', color='mediumpurple', ax=axs[0])\n",
    "    .set_title('Платформы Северная Америка')\n",
    ")\n",
    "\n",
    "(\n",
    "    data_period.pivot_table(index=('platform'),values='eu_sales', aggfunc='sum')\n",
    "    .plot(kind='bar', color='mediumpurple', ax=axs[1])\n",
    "    .set_title('Платформы Европа')\n",
    ")\n",
    "( \n",
    "    data_period.pivot_table(index=('platform'),values='jp_sales', aggfunc='sum')\n",
    "    .plot(kind='bar', color='mediumpurple', ax=axs[2])\n",
    "    .set_title('Платформы Япония') \n",
    ")\n",
    "axs[0].legend('')\n",
    "axs[1].legend('')\n",
    "axs[2].legend('');"
   ]
  },
  {
   "cell_type": "markdown",
   "metadata": {},
   "source": [
    "Популярные жанры в регионах.\n",
    "Самые популярные жанры Северной Америки:\n",
    "- Shooter; \n",
    "- Action;\n",
    "- Sports;\n",
    "- Role-Playing;\n",
    "- Misc.\n",
    "\n",
    "Самые популярные жанры Европы:\n",
    "- Action;\n",
    "- Shooter; \n",
    "- Sports; \n",
    "- Role-Playing;\n",
    "- Racing.\n",
    "\n",
    "Самые популярные жанры Японии:\n",
    "- Role-Playing;\n",
    "- Action;\n",
    "- Faghting;\n",
    "- Misc; \n",
    "- Shooter.\n",
    "\n",
    "Жанр Action в каждом регионе входит в тройку лидеров. В Европе и Северной америке 4-ка жанров лидеров выглядит похоже, в неё входят жанры: Action, Shooter, Sports, Role-Playing. \n",
    "В Японии на первом месте по популярности у Role-Playing. Action на 2 месте. Faghting замыкает тройку. Shooter так же присутвует и находится на 5-м месте."
   ]
  },
  {
   "cell_type": "code",
   "execution_count": 37,
   "metadata": {
    "scrolled": true
   },
   "outputs": [
    {
     "data": {
      "image/png": "[encoded data removed]",
      "text/plain": [
       "<Figure size 720x720 with 3 Axes>"
      ]
     },
     "metadata": {},
     "output_type": "display_data"
    }
   ],
   "source": [
    "fig, axs = plt.subplots(1,3) \n",
    "(\n",
    "    data_period.pivot_table(index=('genre'),values='na_sales', aggfunc='sum')\n",
    "    .plot(kind='bar', color='mediumpurple', ax=axs[0]) \n",
    "    .set_title('Платформы Северная Америка')\n",
    ")\n",
    "\n",
    "(\n",
    "    data_period.pivot_table(index=('genre'),values='eu_sales', aggfunc='sum')\n",
    "    .plot(kind='bar', color='mediumpurple', ax=axs[1])\n",
    "    .set_title('Платформы Европа')\n",
    ")\n",
    "( \n",
    "    data_period.pivot_table(index=('genre'),values='jp_sales', aggfunc='sum')\n",
    "    .plot(kind='bar',color='mediumpurple', ax=axs[2])\n",
    "    .set_title('Платформы Япония') \n",
    ")\n",
    "axs[0].legend('')\n",
    "axs[1].legend('')\n",
    "axs[2].legend('');"
   ]
  },
  {
   "cell_type": "markdown",
   "metadata": {},
   "source": [
    "Рейтинг и продажи.\n",
    " Наиболее продаваемые игры в Америке и Европе игры для возрастной категории 17+, те что подходят для всех возрастных групп и игры для подростков (13-19 лет).\n",
    "    В Японии самые популярные это игры с не определенным рейтингом, для подростков (13-19 лет), игры которые подходят всем возрастным группам и с категорией 17+."
   ]
  },
  {
   "cell_type": "code",
   "execution_count": 38,
   "metadata": {},
   "outputs": [
    {
     "data": {
      "image/png": "[encoded data removed]",
      "text/plain": [
       "<Figure size 1152x1152 with 3 Axes>"
      ]
     },
     "metadata": {},
     "output_type": "display_data"
    }
   ],
   "source": [
    "fig, axs = plt.subplots(1,3, figsize=(16,16)) \n",
    "(\n",
    "    data_period.pivot_table(index=('rating'),values='na_sales', aggfunc='sum')\n",
    "    .plot(kind='pie', x='rating', y='na_sales', ax=axs[0], autopct='%1.1f%%') \n",
    "    .set_title('Платформы Северная Америка')\n",
    ")\n",
    "\n",
    "(\n",
    "    data_period.pivot_table(index=('rating'),values='eu_sales', aggfunc='sum')\n",
    "    .plot(kind='pie', x='rating', y='eu_sales', ax=axs[1], autopct='%1.1f%%')\n",
    "    .set_title('Платформы Европа')\n",
    ")\n",
    "( \n",
    "    data_period.pivot_table(index=('rating'),values='jp_sales', aggfunc='sum')\n",
    "    .plot(kind='pie', x='rating', y='jp_sales', ax=axs[2], autopct='%1.1f%%')\n",
    "    .set_title('Платформы Япония') \n",
    ")\n",
    "axs[0].legend('')\n",
    "axs[1].legend('')\n",
    "axs[2].legend('');"
   ]
  },
  {
   "cell_type": "markdown",
   "metadata": {},
   "source": [
    "## Проверка гипотез"
   ]
  },
  {
   "cell_type": "markdown",
   "metadata": {},
   "source": [
    "Дисперсия двух выборок PC и XOne различна."
   ]
  },
  {
   "cell_type": "code",
   "execution_count": 39,
   "metadata": {},
   "outputs": [
    {
     "name": "stdout",
     "output_type": "stream",
     "text": [
      "PC 2.901154315133451\n",
      "XOne 1.8910066518847009\n"
     ]
    }
   ],
   "source": [
    "pc = data_period.query('\"PC\" in platform')['user_score']\n",
    "print('PC', np.var(pc, ddof=1))\n",
    "xone = data_period.query('\"XOne\" in platform')['user_score']\n",
    "print('XOne', np.var(xone, ddof=1))"
   ]
  },
  {
   "cell_type": "markdown",
   "metadata": {},
   "source": [
    "Дисперсия двух выборок Action и Sports различна."
   ]
  },
  {
   "cell_type": "code",
   "execution_count": 40,
   "metadata": {},
   "outputs": [
    {
     "name": "stdout",
     "output_type": "stream",
     "text": [
      "Action 1.8984766584766581\n",
      "Sports 3.4469791276090485\n"
     ]
    }
   ],
   "source": [
    "action = data_period.query('\"Action\" in genre')['user_score']\n",
    "print('Action', np.var(action, ddof=1))\n",
    "sports = data_period.query('\"Sports\" in genre')['user_score']\n",
    "print('Sports', np.var(sports, ddof=1))"
   ]
  },
  {
   "cell_type": "markdown",
   "metadata": {},
   "source": [
    "Нулевая гипотеза: средние пользовательские рейтинги платформ PC и XOne равны.\n",
    "Альтернативная гипотеза: средние пользовательские рейтинги платформ PC и XOne не равны."
   ]
  },
  {
   "cell_type": "code",
   "execution_count": 41,
   "metadata": {},
   "outputs": [
    {
     "name": "stdout",
     "output_type": "stream",
     "text": [
      "Не отвергаем нулевую гипотезу\n"
     ]
    }
   ],
   "source": [
    "results = st.ttest_ind(\n",
    "data_period.query('\"PC\" in platform')['user_score'],\n",
    "data_period.query('\"XOne\" in platform')['user_score'],\n",
    "equal_var = False, nan_policy='omit')\n",
    "alpha = .05\n",
    "\n",
    "if (results.pvalue < alpha):\n",
    "    print(\"Отвергаем нулевую гипотезу\")\n",
    "else:\n",
    "    print(\"Не отвергаем нулевую гипотезу\") "
   ]
  },
  {
   "cell_type": "markdown",
   "metadata": {},
   "source": [
    "Нулевая гипотеза: средние пользовательские рейтинги жанров Action и Shooter равны.\n",
    "Альтернативная гипотеза: средние пользовательские рейтинги жанров Action и Sports не равны."
   ]
  },
  {
   "cell_type": "code",
   "execution_count": 42,
   "metadata": {},
   "outputs": [
    {
     "name": "stdout",
     "output_type": "stream",
     "text": [
      "Отвергаем нулевую гипотезу\n"
     ]
    }
   ],
   "source": [
    "results = st.ttest_ind(\n",
    "data_period.query('\"Action\" in genre')['user_score'],\n",
    "data_period.query('\"Sports\" in genre')['user_score'],\n",
    "equal_var = False, nan_policy='omit')\n",
    "alpha = .05\n",
    "\n",
    "if (results.pvalue < alpha):\n",
    "    print(\"Отвергаем нулевую гипотезу\")\n",
    "else:\n",
    "    print(\"Не отвергаем нулевую гипотезу\") "
   ]
  },
  {
   "cell_type": "markdown",
   "metadata": {},
   "source": [
    "В первом случае у нас не получилрсь опровергнуть гипотезу о равных средних пользовательских рейтингах платформ XOne и PC.\n",
    "Во втором случае мы смогли отвергнуть гипотезу о равных средних пользовательских рейтингах жанров Action и Shooter."
   ]
  },
  {
   "cell_type": "markdown",
   "metadata": {},
   "source": [
    "## Вывод"
   ]
  },
  {
   "cell_type": "markdown",
   "metadata": {},
   "source": [
    "    Самые успешние года для видео игр были 2007, 2008, 2009. Это был пик продаж и процветание различных платформ. После 2009 пошла тененция на общий спад и исчезновение многих платформ. Средний период существования платформ - 7 лет. Самыми большими продажами за 26 лет обладают следующие платформы: PS2, X360, PS3, Wii, DS. Но даже у них после 2011 года продажи пошли на убыл, некоторые платформы исчезли. Для анализа мною был выбран период 2014-2016 год т.к. данный период покажет актуальные предпочтения пользователей в платформах и жанрах, а так же динамику развития платформ.\n",
    "    Графики за 2014-2016 год говорят нам о том, что у всех платформ спад в данный период. Самое явное снижение продаж наблюдается у PS4, XOne.  В период 2014-2015 PS4 и XOne росли. Лидерами по продажам в 2016 году (по уменьшенью популярности) являются: PS4, XOne, 3DS, PC.\n",
    "    Зависимости продаж от отзывов пользователей практически нет. На продажи по всем платформам немного влияют отзывы критиков.\n",
    "    В 2014-2016 годах больше всего игр было созданно в жанре Action. На втором и третьем месте по количеству игр: Role-Playing, Adventure. Меньше всего написано игр в жанре Puzzle, Strategy, Platform. \n",
    "    По продажам на первом месте жанры: Action, Shooter, Sports, Role-Playing. \n",
    "    Самые не популярные: Puzzle, Strategy, Simulation.\n",
    "    В регеоне Северной Америке лидирующее место занимают платформы \"PS4\" и \"XOne\". В Европе за тот же период \"PS4\" и \"XOne\" нахоятся в лидерах. В Японии больше всего продаж у \"3DS\", \"PS4\", \"PSV\". \n",
    "     Жанр Action в каждом регионе входит в тройку лидеров. В Европе и Северной америке 4-ка жанров лидеров выглядит похоже, в неё входят жанры: Action, Shooter, Sports, Role-Playing. \n",
    "    В Японии на первом месте по популярности у Role-Playing. Action на 2 месте. Faghting замыкает тройку. Shooter так же присутвует и находится на 5-м месте.\n",
    "    Наиболее продаваемые игры в Америке и Европе игры для возрастной категории 17+, те что подходят для всех возрастных групп и игры для подростков (13-19 лет).\n",
    "    В Японии самые популярные это игры с не определенным рейтингом, для подростков (13-19 лет), игры которые подходят всем возрастным группам и с категорией 17+.\n",
    "    Мною были проверены 2 гипотезы о равенстве средних пользовательских рейтингов двух популярных платформ XOne и PC между собой и равенстве средних пользовательских рейтингов жанров Action и Sports. Т-тест показал, что гипотезу о равенстве средних пользовательских рейтингов для XOne и PC отвергнуть мы не можем, а вторую гипотезу мы может отвегрнуть. \n",
    "    \n",
    "    \n",
    "    "
   ]
  }
 ],
 "metadata": {
  "ExecuteTimeLog": [
   {
    "duration": 561,
    "start_time": "2022-01-18T13:42:45.012Z"
   },
   {
    "duration": 60,
    "start_time": "2022-01-18T13:42:45.575Z"
   },
   {
    "duration": 49,
    "start_time": "2022-01-18T13:42:52.558Z"
   },
   {
    "duration": 11,
    "start_time": "2022-01-18T13:46:51.345Z"
   },
   {
    "duration": 304,
    "start_time": "2022-01-18T14:07:29.611Z"
   },
   {
    "duration": 258,
    "start_time": "2022-01-18T14:07:46.266Z"
   },
   {
    "duration": 256,
    "start_time": "2022-01-18T14:08:01.652Z"
   },
   {
    "duration": 3,
    "start_time": "2022-01-18T14:08:38.565Z"
   },
   {
    "duration": 52,
    "start_time": "2022-01-18T14:08:38.570Z"
   },
   {
    "duration": 10,
    "start_time": "2022-01-18T14:08:38.624Z"
   },
   {
    "duration": 380,
    "start_time": "2022-01-18T14:08:38.636Z"
   },
   {
    "duration": 274,
    "start_time": "2022-01-18T14:10:30.885Z"
   },
   {
    "duration": 94,
    "start_time": "2022-01-18T14:10:36.806Z"
   },
   {
    "duration": 4,
    "start_time": "2022-01-18T14:10:41.365Z"
   },
   {
    "duration": 552,
    "start_time": "2022-01-19T09:07:53.661Z"
   },
   {
    "duration": 62,
    "start_time": "2022-01-19T09:07:54.215Z"
   },
   {
    "duration": 10,
    "start_time": "2022-01-19T09:07:54.279Z"
   },
   {
    "duration": 4,
    "start_time": "2022-01-19T09:07:54.292Z"
   },
   {
    "duration": 1361,
    "start_time": "2022-01-19T09:11:24.391Z"
   },
   {
    "duration": 181,
    "start_time": "2022-01-19T09:12:49.591Z"
   },
   {
    "duration": 21,
    "start_time": "2022-01-19T09:13:34.000Z"
   },
   {
    "duration": 22,
    "start_time": "2022-01-19T09:14:11.102Z"
   },
   {
    "duration": 21,
    "start_time": "2022-01-19T09:31:18.808Z"
   },
   {
    "duration": 1160,
    "start_time": "2022-01-19T09:32:40.161Z"
   },
   {
    "duration": 225,
    "start_time": "2022-01-19T09:32:53.986Z"
   },
   {
    "duration": 20,
    "start_time": "2022-01-19T09:33:19.050Z"
   },
   {
    "duration": 21,
    "start_time": "2022-01-19T09:33:44.898Z"
   },
   {
    "duration": 19,
    "start_time": "2022-01-19T09:34:14.267Z"
   },
   {
    "duration": 20,
    "start_time": "2022-01-19T09:34:40.723Z"
   },
   {
    "duration": 17,
    "start_time": "2022-01-19T09:42:58.769Z"
   },
   {
    "duration": 17,
    "start_time": "2022-01-19T09:43:10.922Z"
   },
   {
    "duration": 30,
    "start_time": "2022-01-19T09:47:25.227Z"
   },
   {
    "duration": 30,
    "start_time": "2022-01-19T09:48:10.123Z"
   },
   {
    "duration": 574,
    "start_time": "2022-01-19T09:48:20.830Z"
   },
   {
    "duration": 63,
    "start_time": "2022-01-19T09:48:21.406Z"
   },
   {
    "duration": 10,
    "start_time": "2022-01-19T09:48:21.471Z"
   },
   {
    "duration": 31,
    "start_time": "2022-01-19T09:48:21.483Z"
   },
   {
    "duration": 54,
    "start_time": "2022-01-19T09:48:21.516Z"
   },
   {
    "duration": 54,
    "start_time": "2022-01-19T09:48:21.572Z"
   },
   {
    "duration": 3,
    "start_time": "2022-01-19T09:49:01.326Z"
   },
   {
    "duration": 78,
    "start_time": "2022-01-19T09:49:01.331Z"
   },
   {
    "duration": 11,
    "start_time": "2022-01-19T09:49:01.411Z"
   },
   {
    "duration": 60,
    "start_time": "2022-01-19T09:49:01.424Z"
   },
   {
    "duration": 43,
    "start_time": "2022-01-19T09:49:01.486Z"
   },
   {
    "duration": 15,
    "start_time": "2022-01-19T09:49:01.531Z"
   },
   {
    "duration": 31,
    "start_time": "2022-01-19T09:49:01.548Z"
   },
   {
    "duration": 3,
    "start_time": "2022-01-19T09:50:20.405Z"
   },
   {
    "duration": 56,
    "start_time": "2022-01-19T09:50:20.410Z"
   },
   {
    "duration": 10,
    "start_time": "2022-01-19T09:50:20.468Z"
   },
   {
    "duration": 5,
    "start_time": "2022-01-19T09:50:20.479Z"
   },
   {
    "duration": 30,
    "start_time": "2022-01-19T09:50:20.485Z"
   },
   {
    "duration": 5,
    "start_time": "2022-01-19T11:18:42.971Z"
   },
   {
    "duration": 16,
    "start_time": "2022-01-19T11:18:52.619Z"
   },
   {
    "duration": 104,
    "start_time": "2022-01-19T11:35:11.823Z"
   },
   {
    "duration": 27,
    "start_time": "2022-01-19T11:35:27.496Z"
   },
   {
    "duration": 62,
    "start_time": "2022-01-19T11:50:44.304Z"
   },
   {
    "duration": 484,
    "start_time": "2022-01-19T11:50:56.705Z"
   },
   {
    "duration": 49,
    "start_time": "2022-01-19T11:51:19.121Z"
   },
   {
    "duration": 15,
    "start_time": "2022-01-19T11:51:45.657Z"
   },
   {
    "duration": 21,
    "start_time": "2022-01-19T11:52:16.330Z"
   },
   {
    "duration": 64,
    "start_time": "2022-01-19T11:52:24.257Z"
   },
   {
    "duration": 84,
    "start_time": "2022-01-19T11:52:33.425Z"
   },
   {
    "duration": 3,
    "start_time": "2022-01-19T11:52:54.052Z"
   },
   {
    "duration": 69,
    "start_time": "2022-01-19T11:52:54.056Z"
   },
   {
    "duration": 10,
    "start_time": "2022-01-19T11:52:54.127Z"
   },
   {
    "duration": 62,
    "start_time": "2022-01-19T11:53:52.395Z"
   },
   {
    "duration": 64,
    "start_time": "2022-01-19T11:53:57.962Z"
   },
   {
    "duration": 61,
    "start_time": "2022-01-19T11:54:05.034Z"
   },
   {
    "duration": 77,
    "start_time": "2022-01-19T11:54:10.379Z"
   },
   {
    "duration": 65,
    "start_time": "2022-01-19T11:54:21.114Z"
   },
   {
    "duration": 67,
    "start_time": "2022-01-19T11:54:26.019Z"
   },
   {
    "duration": 4541,
    "start_time": "2022-01-19T11:54:39.339Z"
   },
   {
    "duration": 587,
    "start_time": "2022-01-19T11:55:13.410Z"
   },
   {
    "duration": 58,
    "start_time": "2022-01-19T11:55:13.999Z"
   },
   {
    "duration": 10,
    "start_time": "2022-01-19T11:55:14.060Z"
   },
   {
    "duration": 4,
    "start_time": "2022-01-19T11:55:24.673Z"
   },
   {
    "duration": 2,
    "start_time": "2022-01-19T11:55:41.681Z"
   },
   {
    "duration": 242,
    "start_time": "2022-01-19T12:23:21.257Z"
   },
   {
    "duration": 16,
    "start_time": "2022-01-19T12:27:56.133Z"
   },
   {
    "duration": 13,
    "start_time": "2022-01-19T12:29:51.104Z"
   },
   {
    "duration": 622,
    "start_time": "2022-01-19T12:30:26.984Z"
   },
   {
    "duration": 62,
    "start_time": "2022-01-19T12:30:27.608Z"
   },
   {
    "duration": 12,
    "start_time": "2022-01-19T12:30:27.672Z"
   },
   {
    "duration": 39,
    "start_time": "2022-01-19T12:30:27.686Z"
   },
   {
    "duration": 259,
    "start_time": "2022-01-19T12:30:30.695Z"
   },
   {
    "duration": 199,
    "start_time": "2022-01-19T12:33:04.561Z"
   },
   {
    "duration": 181,
    "start_time": "2022-01-19T12:33:24.809Z"
   },
   {
    "duration": 550,
    "start_time": "2022-01-19T12:33:55.620Z"
   },
   {
    "duration": 59,
    "start_time": "2022-01-19T12:33:56.172Z"
   },
   {
    "duration": 10,
    "start_time": "2022-01-19T12:33:56.233Z"
   },
   {
    "duration": 35,
    "start_time": "2022-01-19T12:33:56.244Z"
   },
   {
    "duration": 16,
    "start_time": "2022-01-19T12:33:59.209Z"
   },
   {
    "duration": 20,
    "start_time": "2022-01-19T12:34:13.753Z"
   },
   {
    "duration": 17,
    "start_time": "2022-01-19T12:34:26.626Z"
   },
   {
    "duration": 5,
    "start_time": "2022-01-19T12:40:03.775Z"
   },
   {
    "duration": 5,
    "start_time": "2022-01-19T12:40:09.455Z"
   },
   {
    "duration": 6,
    "start_time": "2022-01-19T12:40:47.864Z"
   },
   {
    "duration": 5,
    "start_time": "2022-01-19T12:41:08.208Z"
   },
   {
    "duration": 605,
    "start_time": "2022-01-19T12:41:21.678Z"
   },
   {
    "duration": 60,
    "start_time": "2022-01-19T12:41:22.285Z"
   },
   {
    "duration": 12,
    "start_time": "2022-01-19T12:41:22.348Z"
   },
   {
    "duration": 26,
    "start_time": "2022-01-19T12:41:22.362Z"
   },
   {
    "duration": 35,
    "start_time": "2022-01-19T12:41:22.390Z"
   },
   {
    "duration": 6,
    "start_time": "2022-01-19T12:41:26.015Z"
   },
   {
    "duration": 17,
    "start_time": "2022-01-19T12:41:56.817Z"
   },
   {
    "duration": 5,
    "start_time": "2022-01-19T12:42:21.314Z"
   },
   {
    "duration": 6,
    "start_time": "2022-01-19T12:43:15.178Z"
   },
   {
    "duration": 33,
    "start_time": "2022-01-19T12:43:25.058Z"
   },
   {
    "duration": 516,
    "start_time": "2022-01-19T12:43:37.827Z"
   },
   {
    "duration": 422,
    "start_time": "2022-01-19T12:44:13.252Z"
   },
   {
    "duration": 382,
    "start_time": "2022-01-19T12:44:25.235Z"
   },
   {
    "duration": 399,
    "start_time": "2022-01-19T12:44:34.022Z"
   },
   {
    "duration": 391,
    "start_time": "2022-01-19T12:44:42.044Z"
   },
   {
    "duration": 401,
    "start_time": "2022-01-19T12:44:58.420Z"
   },
   {
    "duration": 5,
    "start_time": "2022-01-19T12:46:22.717Z"
   },
   {
    "duration": 418,
    "start_time": "2022-01-19T12:46:27.125Z"
   },
   {
    "duration": 3,
    "start_time": "2022-01-19T12:46:43.634Z"
   },
   {
    "duration": 100,
    "start_time": "2022-01-19T12:46:43.639Z"
   },
   {
    "duration": 11,
    "start_time": "2022-01-19T12:46:43.741Z"
   },
   {
    "duration": 31,
    "start_time": "2022-01-19T12:46:43.754Z"
   },
   {
    "duration": 30,
    "start_time": "2022-01-19T12:46:43.786Z"
   },
   {
    "duration": 28,
    "start_time": "2022-01-19T12:46:43.818Z"
   },
   {
    "duration": 31,
    "start_time": "2022-01-19T12:46:43.848Z"
   },
   {
    "duration": 19,
    "start_time": "2022-01-19T12:46:43.881Z"
   },
   {
    "duration": 119,
    "start_time": "2022-01-19T12:46:43.902Z"
   },
   {
    "duration": 412,
    "start_time": "2022-01-19T12:46:44.023Z"
   },
   {
    "duration": 3,
    "start_time": "2022-01-19T12:47:42.919Z"
   },
   {
    "duration": 99,
    "start_time": "2022-01-19T12:47:42.924Z"
   },
   {
    "duration": 10,
    "start_time": "2022-01-19T12:47:43.025Z"
   },
   {
    "duration": 18,
    "start_time": "2022-01-19T12:47:43.037Z"
   },
   {
    "duration": 31,
    "start_time": "2022-01-19T12:47:43.057Z"
   },
   {
    "duration": 10,
    "start_time": "2022-01-19T12:47:43.090Z"
   },
   {
    "duration": 16,
    "start_time": "2022-01-19T12:47:43.102Z"
   },
   {
    "duration": 9,
    "start_time": "2022-01-19T12:47:43.120Z"
   },
   {
    "duration": 30,
    "start_time": "2022-01-19T12:47:43.131Z"
   },
   {
    "duration": 407,
    "start_time": "2022-01-19T12:47:43.162Z"
   },
   {
    "duration": 3594,
    "start_time": "2022-01-19T13:31:30.506Z"
   },
   {
    "duration": 21,
    "start_time": "2022-01-19T13:33:40.875Z"
   },
   {
    "duration": 24,
    "start_time": "2022-01-19T13:33:56.195Z"
   },
   {
    "duration": 8,
    "start_time": "2022-01-19T13:35:39.117Z"
   },
   {
    "duration": 63,
    "start_time": "2022-01-19T13:41:06.954Z"
   },
   {
    "duration": 68,
    "start_time": "2022-01-19T13:41:12.265Z"
   },
   {
    "duration": 67,
    "start_time": "2022-01-19T13:41:26.411Z"
   },
   {
    "duration": 56,
    "start_time": "2022-01-19T13:41:39.733Z"
   },
   {
    "duration": 303,
    "start_time": "2022-01-19T13:41:53.890Z"
   },
   {
    "duration": 308,
    "start_time": "2022-01-19T13:42:07.227Z"
   },
   {
    "duration": 406,
    "start_time": "2022-01-19T13:44:11.892Z"
   },
   {
    "duration": 200,
    "start_time": "2022-01-19T13:46:50.312Z"
   },
   {
    "duration": 2691,
    "start_time": "2022-01-19T13:47:09.191Z"
   },
   {
    "duration": 401,
    "start_time": "2022-01-19T13:47:58.167Z"
   },
   {
    "duration": 5039,
    "start_time": "2022-01-19T13:50:38.874Z"
   },
   {
    "duration": 228,
    "start_time": "2022-01-19T13:59:11.410Z"
   },
   {
    "duration": 4825,
    "start_time": "2022-01-19T14:01:01.851Z"
   },
   {
    "duration": 67,
    "start_time": "2022-01-19T14:01:31.036Z"
   },
   {
    "duration": 36,
    "start_time": "2022-01-19T14:01:54.469Z"
   },
   {
    "duration": 20,
    "start_time": "2022-01-19T14:09:09.274Z"
   },
   {
    "duration": 211,
    "start_time": "2022-01-19T14:09:37.905Z"
   },
   {
    "duration": 549,
    "start_time": "2022-01-19T16:18:13.224Z"
   },
   {
    "duration": 50,
    "start_time": "2022-01-19T16:18:13.775Z"
   },
   {
    "duration": 8,
    "start_time": "2022-01-19T16:18:13.827Z"
   },
   {
    "duration": 5,
    "start_time": "2022-01-19T16:18:13.837Z"
   },
   {
    "duration": 5,
    "start_time": "2022-01-19T16:18:13.844Z"
   },
   {
    "duration": 4,
    "start_time": "2022-01-19T16:18:13.851Z"
   },
   {
    "duration": 5,
    "start_time": "2022-01-19T16:18:13.856Z"
   },
   {
    "duration": 3,
    "start_time": "2022-01-19T16:18:13.862Z"
   },
   {
    "duration": 430,
    "start_time": "2022-01-19T16:18:13.867Z"
   },
   {
    "duration": 281,
    "start_time": "2022-01-19T16:18:14.299Z"
   },
   {
    "duration": 2,
    "start_time": "2022-01-19T16:18:14.582Z"
   },
   {
    "duration": 6,
    "start_time": "2022-01-19T16:18:14.586Z"
   },
   {
    "duration": 249,
    "start_time": "2022-01-19T16:18:14.593Z"
   },
   {
    "duration": 4,
    "start_time": "2022-01-19T16:36:41.438Z"
   },
   {
    "duration": 7,
    "start_time": "2022-01-19T16:37:06.628Z"
   },
   {
    "duration": 13,
    "start_time": "2022-01-19T16:39:28.347Z"
   },
   {
    "duration": 12,
    "start_time": "2022-01-19T16:39:55.022Z"
   },
   {
    "duration": 228,
    "start_time": "2022-01-19T16:40:14.341Z"
   },
   {
    "duration": 197,
    "start_time": "2022-01-19T16:47:06.340Z"
   },
   {
    "duration": 49,
    "start_time": "2022-01-19T16:47:43.059Z"
   },
   {
    "duration": 194,
    "start_time": "2022-01-19T16:48:31.343Z"
   },
   {
    "duration": 11,
    "start_time": "2022-01-19T16:48:40.715Z"
   },
   {
    "duration": 12,
    "start_time": "2022-01-19T16:49:00.536Z"
   },
   {
    "duration": 10,
    "start_time": "2022-01-19T16:50:03.134Z"
   },
   {
    "duration": 554,
    "start_time": "2022-01-19T16:50:24.810Z"
   },
   {
    "duration": 52,
    "start_time": "2022-01-19T16:50:25.366Z"
   },
   {
    "duration": 10,
    "start_time": "2022-01-19T16:50:25.420Z"
   },
   {
    "duration": 4,
    "start_time": "2022-01-19T16:50:25.431Z"
   },
   {
    "duration": 7,
    "start_time": "2022-01-19T16:50:25.436Z"
   },
   {
    "duration": 8,
    "start_time": "2022-01-19T16:50:25.444Z"
   },
   {
    "duration": 5,
    "start_time": "2022-01-19T16:50:25.453Z"
   },
   {
    "duration": 2,
    "start_time": "2022-01-19T16:50:25.460Z"
   },
   {
    "duration": 472,
    "start_time": "2022-01-19T16:50:25.464Z"
   },
   {
    "duration": 276,
    "start_time": "2022-01-19T16:50:25.938Z"
   },
   {
    "duration": 2,
    "start_time": "2022-01-19T16:50:26.216Z"
   },
   {
    "duration": 14,
    "start_time": "2022-01-19T16:50:26.219Z"
   },
   {
    "duration": 2,
    "start_time": "2022-01-19T16:50:26.235Z"
   },
   {
    "duration": 251,
    "start_time": "2022-01-19T16:50:47.395Z"
   },
   {
    "duration": 12,
    "start_time": "2022-01-19T16:51:02.025Z"
   },
   {
    "duration": 602,
    "start_time": "2022-01-20T06:53:58.597Z"
   },
   {
    "duration": 56,
    "start_time": "2022-01-20T06:53:59.201Z"
   },
   {
    "duration": 11,
    "start_time": "2022-01-20T06:53:59.260Z"
   },
   {
    "duration": 4,
    "start_time": "2022-01-20T06:53:59.274Z"
   },
   {
    "duration": 6,
    "start_time": "2022-01-20T06:53:59.280Z"
   },
   {
    "duration": 3,
    "start_time": "2022-01-20T06:53:59.288Z"
   },
   {
    "duration": 7,
    "start_time": "2022-01-20T06:53:59.293Z"
   },
   {
    "duration": 2,
    "start_time": "2022-01-20T06:53:59.302Z"
   },
   {
    "duration": 445,
    "start_time": "2022-01-20T06:53:59.306Z"
   },
   {
    "duration": 268,
    "start_time": "2022-01-20T06:53:59.753Z"
   },
   {
    "duration": 2,
    "start_time": "2022-01-20T06:54:00.023Z"
   },
   {
    "duration": 107,
    "start_time": "2022-01-20T06:54:00.027Z"
   },
   {
    "duration": 799,
    "start_time": "2022-01-20T06:53:59.337Z"
   },
   {
    "duration": 374,
    "start_time": "2022-01-20T06:54:17.991Z"
   },
   {
    "duration": 16,
    "start_time": "2022-01-20T06:57:17.650Z"
   },
   {
    "duration": 322,
    "start_time": "2022-01-20T06:59:06.492Z"
   },
   {
    "duration": 324,
    "start_time": "2022-01-20T06:59:42.212Z"
   },
   {
    "duration": 540,
    "start_time": "2022-01-20T07:00:14.128Z"
   },
   {
    "duration": 55,
    "start_time": "2022-01-20T07:00:14.669Z"
   },
   {
    "duration": 9,
    "start_time": "2022-01-20T07:00:14.726Z"
   },
   {
    "duration": 26,
    "start_time": "2022-01-20T07:00:14.737Z"
   },
   {
    "duration": 14,
    "start_time": "2022-01-20T07:00:14.765Z"
   },
   {
    "duration": 13,
    "start_time": "2022-01-20T07:00:14.781Z"
   },
   {
    "duration": 27,
    "start_time": "2022-01-20T07:00:14.796Z"
   },
   {
    "duration": 16,
    "start_time": "2022-01-20T07:00:14.826Z"
   },
   {
    "duration": 447,
    "start_time": "2022-01-20T07:00:14.843Z"
   },
   {
    "duration": 250,
    "start_time": "2022-01-20T07:00:15.292Z"
   },
   {
    "duration": 2,
    "start_time": "2022-01-20T07:00:15.544Z"
   },
   {
    "duration": 366,
    "start_time": "2022-01-20T07:00:15.548Z"
   },
   {
    "duration": 782,
    "start_time": "2022-01-20T07:00:15.134Z"
   },
   {
    "duration": 779,
    "start_time": "2022-01-20T07:00:15.138Z"
   },
   {
    "duration": 246,
    "start_time": "2022-01-20T07:00:38.653Z"
   },
   {
    "duration": 100,
    "start_time": "2022-01-20T07:01:07.286Z"
   },
   {
    "duration": 3191,
    "start_time": "2022-01-20T07:01:18.014Z"
   },
   {
    "duration": 2957,
    "start_time": "2022-01-20T07:01:52.478Z"
   },
   {
    "duration": 20,
    "start_time": "2022-01-20T07:03:40.464Z"
   },
   {
    "duration": 375,
    "start_time": "2022-01-20T07:04:12.992Z"
   },
   {
    "duration": 376,
    "start_time": "2022-01-20T07:04:30.697Z"
   },
   {
    "duration": 301,
    "start_time": "2022-01-20T07:14:25.490Z"
   },
   {
    "duration": 14,
    "start_time": "2022-01-20T07:14:36.937Z"
   },
   {
    "duration": 7938,
    "start_time": "2022-01-20T07:15:24.634Z"
   },
   {
    "duration": 348,
    "start_time": "2022-01-20T07:16:33.468Z"
   },
   {
    "duration": 319,
    "start_time": "2022-01-20T07:17:16.956Z"
   },
   {
    "duration": 548,
    "start_time": "2022-01-20T07:17:28.099Z"
   },
   {
    "duration": 298,
    "start_time": "2022-01-20T07:18:24.149Z"
   },
   {
    "duration": 343,
    "start_time": "2022-01-20T07:18:38.428Z"
   },
   {
    "duration": 346,
    "start_time": "2022-01-20T07:19:35.870Z"
   },
   {
    "duration": 100,
    "start_time": "2022-01-20T07:22:40.928Z"
   },
   {
    "duration": 8,
    "start_time": "2022-01-20T07:22:47.144Z"
   },
   {
    "duration": 13,
    "start_time": "2022-01-20T07:23:50.977Z"
   },
   {
    "duration": 11,
    "start_time": "2022-01-20T07:24:08.457Z"
   },
   {
    "duration": 604,
    "start_time": "2022-01-20T07:24:32.837Z"
   },
   {
    "duration": 54,
    "start_time": "2022-01-20T07:24:33.442Z"
   },
   {
    "duration": 9,
    "start_time": "2022-01-20T07:24:33.498Z"
   },
   {
    "duration": 14,
    "start_time": "2022-01-20T07:24:33.509Z"
   },
   {
    "duration": 21,
    "start_time": "2022-01-20T07:24:33.525Z"
   },
   {
    "duration": 14,
    "start_time": "2022-01-20T07:24:33.548Z"
   },
   {
    "duration": 10,
    "start_time": "2022-01-20T07:24:33.564Z"
   },
   {
    "duration": 17,
    "start_time": "2022-01-20T07:24:33.576Z"
   },
   {
    "duration": 421,
    "start_time": "2022-01-20T07:24:33.594Z"
   },
   {
    "duration": 248,
    "start_time": "2022-01-20T07:24:34.016Z"
   },
   {
    "duration": 6,
    "start_time": "2022-01-20T07:24:34.266Z"
   },
   {
    "duration": 4,
    "start_time": "2022-01-20T07:24:34.274Z"
   },
   {
    "duration": 13,
    "start_time": "2022-01-20T07:24:34.279Z"
   },
   {
    "duration": 394,
    "start_time": "2022-01-20T07:24:34.294Z"
   },
   {
    "duration": 786,
    "start_time": "2022-01-20T07:24:33.904Z"
   },
   {
    "duration": 10,
    "start_time": "2022-01-20T07:24:49.265Z"
   },
   {
    "duration": 2786,
    "start_time": "2022-01-20T07:25:54.092Z"
   },
   {
    "duration": 8,
    "start_time": "2022-01-20T07:27:01.707Z"
   },
   {
    "duration": 620,
    "start_time": "2022-01-20T07:28:38.631Z"
   },
   {
    "duration": 54,
    "start_time": "2022-01-20T07:28:39.253Z"
   },
   {
    "duration": 11,
    "start_time": "2022-01-20T07:28:39.309Z"
   },
   {
    "duration": 5,
    "start_time": "2022-01-20T07:28:39.322Z"
   },
   {
    "duration": 13,
    "start_time": "2022-01-20T07:28:39.328Z"
   },
   {
    "duration": 5,
    "start_time": "2022-01-20T07:28:39.342Z"
   },
   {
    "duration": 25,
    "start_time": "2022-01-20T07:28:39.348Z"
   },
   {
    "duration": 2,
    "start_time": "2022-01-20T07:28:39.375Z"
   },
   {
    "duration": 421,
    "start_time": "2022-01-20T07:28:39.379Z"
   },
   {
    "duration": 260,
    "start_time": "2022-01-20T07:28:39.802Z"
   },
   {
    "duration": 2,
    "start_time": "2022-01-20T07:28:40.064Z"
   },
   {
    "duration": 3,
    "start_time": "2022-01-20T07:28:40.072Z"
   },
   {
    "duration": 21,
    "start_time": "2022-01-20T07:28:40.076Z"
   },
   {
    "duration": 382,
    "start_time": "2022-01-20T07:28:40.099Z"
   },
   {
    "duration": 791,
    "start_time": "2022-01-20T07:28:39.692Z"
   },
   {
    "duration": 375,
    "start_time": "2022-01-20T07:28:57.389Z"
   },
   {
    "duration": 262,
    "start_time": "2022-01-20T07:29:51.486Z"
   },
   {
    "duration": 66,
    "start_time": "2022-01-20T07:30:01.165Z"
   },
   {
    "duration": 1771,
    "start_time": "2022-01-20T07:36:30.746Z"
   },
   {
    "duration": 52,
    "start_time": "2022-01-20T07:36:32.519Z"
   },
   {
    "duration": 9,
    "start_time": "2022-01-20T07:36:32.575Z"
   },
   {
    "duration": 3,
    "start_time": "2022-01-20T07:36:32.585Z"
   },
   {
    "duration": 6,
    "start_time": "2022-01-20T07:36:32.589Z"
   },
   {
    "duration": 6,
    "start_time": "2022-01-20T07:36:32.596Z"
   },
   {
    "duration": 5,
    "start_time": "2022-01-20T07:36:32.603Z"
   },
   {
    "duration": 3,
    "start_time": "2022-01-20T07:36:32.609Z"
   },
   {
    "duration": 443,
    "start_time": "2022-01-20T07:36:32.614Z"
   },
   {
    "duration": 258,
    "start_time": "2022-01-20T07:36:33.059Z"
   },
   {
    "duration": 2,
    "start_time": "2022-01-20T07:36:33.318Z"
   },
   {
    "duration": 4,
    "start_time": "2022-01-20T07:36:33.322Z"
   },
   {
    "duration": 20,
    "start_time": "2022-01-20T07:36:33.328Z"
   },
   {
    "duration": 31,
    "start_time": "2022-01-20T07:36:33.349Z"
   },
   {
    "duration": 2,
    "start_time": "2022-01-20T07:36:33.382Z"
   },
   {
    "duration": 5,
    "start_time": "2022-01-20T07:36:33.385Z"
   },
   {
    "duration": 15,
    "start_time": "2022-01-20T07:36:59.544Z"
   },
   {
    "duration": 56,
    "start_time": "2022-01-20T07:37:50.896Z"
   },
   {
    "duration": 368,
    "start_time": "2022-01-20T07:37:56.200Z"
   },
   {
    "duration": 16,
    "start_time": "2022-01-20T07:38:07.168Z"
   },
   {
    "duration": 8000,
    "start_time": "2022-01-20T07:39:29.354Z"
   },
   {
    "duration": 1212,
    "start_time": "2022-01-20T07:41:28.101Z"
   },
   {
    "duration": 15,
    "start_time": "2022-01-20T07:41:49.326Z"
   },
   {
    "duration": 16,
    "start_time": "2022-01-20T07:42:14.668Z"
   },
   {
    "duration": 14,
    "start_time": "2022-01-20T07:48:41.603Z"
   },
   {
    "duration": 190,
    "start_time": "2022-01-20T09:20:58.170Z"
   },
   {
    "duration": 204,
    "start_time": "2022-01-20T09:21:17.505Z"
   },
   {
    "duration": 220,
    "start_time": "2022-01-20T09:21:47.538Z"
   },
   {
    "duration": 298,
    "start_time": "2022-01-20T09:22:24.827Z"
   },
   {
    "duration": 422,
    "start_time": "2022-01-20T09:23:17.004Z"
   },
   {
    "duration": 450,
    "start_time": "2022-01-20T09:23:28.236Z"
   },
   {
    "duration": 457,
    "start_time": "2022-01-20T09:23:44.637Z"
   },
   {
    "duration": 7,
    "start_time": "2022-01-20T09:25:24.221Z"
   },
   {
    "duration": 7,
    "start_time": "2022-01-20T09:25:32.245Z"
   },
   {
    "duration": 330,
    "start_time": "2022-01-20T09:26:22.263Z"
   },
   {
    "duration": 2749,
    "start_time": "2022-01-20T09:34:10.917Z"
   },
   {
    "duration": 10,
    "start_time": "2022-01-20T09:35:23.455Z"
   },
   {
    "duration": 20,
    "start_time": "2022-01-20T09:36:25.383Z"
   },
   {
    "duration": 17,
    "start_time": "2022-01-20T09:37:14.689Z"
   },
   {
    "duration": 19,
    "start_time": "2022-01-20T09:37:32.216Z"
   },
   {
    "duration": 112,
    "start_time": "2022-01-20T09:39:08.441Z"
   },
   {
    "duration": 2481,
    "start_time": "2022-01-20T09:39:13.841Z"
   },
   {
    "duration": 2229,
    "start_time": "2022-01-20T09:39:32.721Z"
   },
   {
    "duration": 593,
    "start_time": "2022-01-20T09:41:43.698Z"
   },
   {
    "duration": 140,
    "start_time": "2022-01-20T09:42:48.421Z"
   },
   {
    "duration": 349,
    "start_time": "2022-01-20T09:42:57.828Z"
   },
   {
    "duration": 444,
    "start_time": "2022-01-20T09:43:14.644Z"
   },
   {
    "duration": 13,
    "start_time": "2022-01-20T09:44:01.158Z"
   },
   {
    "duration": 321,
    "start_time": "2022-01-20T09:44:15.989Z"
   },
   {
    "duration": 455,
    "start_time": "2022-01-20T09:44:20.333Z"
   },
   {
    "duration": 13,
    "start_time": "2022-01-20T11:07:56.686Z"
   },
   {
    "duration": 20,
    "start_time": "2022-01-20T11:08:05.134Z"
   },
   {
    "duration": 27,
    "start_time": "2022-01-20T11:08:25.262Z"
   },
   {
    "duration": 198,
    "start_time": "2022-01-20T11:09:14.199Z"
   },
   {
    "duration": 224,
    "start_time": "2022-01-20T11:10:05.431Z"
   },
   {
    "duration": 238,
    "start_time": "2022-01-20T11:10:27.464Z"
   },
   {
    "duration": 581,
    "start_time": "2022-01-20T11:10:49.904Z"
   },
   {
    "duration": 332,
    "start_time": "2022-01-20T11:16:01.196Z"
   },
   {
    "duration": 21,
    "start_time": "2022-01-20T11:16:08.820Z"
   },
   {
    "duration": 16,
    "start_time": "2022-01-20T11:17:27.470Z"
   },
   {
    "duration": 187,
    "start_time": "2022-01-20T11:24:49.940Z"
   },
   {
    "duration": 207,
    "start_time": "2022-01-20T11:31:35.129Z"
   },
   {
    "duration": 314,
    "start_time": "2022-01-20T11:38:53.630Z"
   },
   {
    "duration": 309,
    "start_time": "2022-01-20T11:39:36.504Z"
   },
   {
    "duration": 191,
    "start_time": "2022-01-20T11:39:44.288Z"
   },
   {
    "duration": 258,
    "start_time": "2022-01-20T11:40:24.065Z"
   },
   {
    "duration": 24,
    "start_time": "2022-01-20T11:42:27.083Z"
   },
   {
    "duration": 19,
    "start_time": "2022-01-20T11:42:41.714Z"
   },
   {
    "duration": 251,
    "start_time": "2022-01-20T11:43:02.187Z"
   },
   {
    "duration": 237,
    "start_time": "2022-01-20T11:43:30.292Z"
   },
   {
    "duration": 729,
    "start_time": "2022-01-20T11:45:59.933Z"
   },
   {
    "duration": 328,
    "start_time": "2022-01-20T11:47:53.832Z"
   },
   {
    "duration": 373,
    "start_time": "2022-01-20T11:49:27.944Z"
   },
   {
    "duration": 21,
    "start_time": "2022-01-20T11:49:40.808Z"
   },
   {
    "duration": 20,
    "start_time": "2022-01-20T11:50:02.193Z"
   },
   {
    "duration": 172,
    "start_time": "2022-01-20T11:50:34.650Z"
   },
   {
    "duration": 683,
    "start_time": "2022-01-20T11:50:43.316Z"
   },
   {
    "duration": 480,
    "start_time": "2022-01-20T12:08:41.473Z"
   },
   {
    "duration": 1412,
    "start_time": "2022-01-20T12:10:13.403Z"
   },
   {
    "duration": 446,
    "start_time": "2022-01-20T12:10:56.619Z"
   },
   {
    "duration": 542,
    "start_time": "2022-01-20T12:11:24.516Z"
   },
   {
    "duration": 1080,
    "start_time": "2022-01-20T12:12:00.077Z"
   },
   {
    "duration": 1060,
    "start_time": "2022-01-20T12:12:15.687Z"
   },
   {
    "duration": 590,
    "start_time": "2022-01-20T12:15:57.503Z"
   },
   {
    "duration": 880,
    "start_time": "2022-01-20T12:16:43.200Z"
   },
   {
    "duration": 690,
    "start_time": "2022-01-20T12:17:25.755Z"
   },
   {
    "duration": 538,
    "start_time": "2022-01-20T12:18:29.874Z"
   },
   {
    "duration": 479,
    "start_time": "2022-01-20T12:18:49.794Z"
   },
   {
    "duration": 346,
    "start_time": "2022-01-20T12:19:50.027Z"
   },
   {
    "duration": 14,
    "start_time": "2022-01-20T12:19:54.683Z"
   },
   {
    "duration": 224,
    "start_time": "2022-01-20T12:20:03.899Z"
   },
   {
    "duration": 219,
    "start_time": "2022-01-20T12:20:33.259Z"
   },
   {
    "duration": 214,
    "start_time": "2022-01-20T12:20:40.835Z"
   },
   {
    "duration": 2,
    "start_time": "2022-01-20T12:21:08.510Z"
   },
   {
    "duration": 53,
    "start_time": "2022-01-20T12:21:08.514Z"
   },
   {
    "duration": 9,
    "start_time": "2022-01-20T12:21:08.569Z"
   },
   {
    "duration": 4,
    "start_time": "2022-01-20T12:21:08.580Z"
   },
   {
    "duration": 13,
    "start_time": "2022-01-20T12:21:08.586Z"
   },
   {
    "duration": 5,
    "start_time": "2022-01-20T12:21:08.600Z"
   },
   {
    "duration": 4,
    "start_time": "2022-01-20T12:21:08.608Z"
   },
   {
    "duration": 4,
    "start_time": "2022-01-20T12:21:08.614Z"
   },
   {
    "duration": 389,
    "start_time": "2022-01-20T12:21:08.620Z"
   },
   {
    "duration": 265,
    "start_time": "2022-01-20T12:21:09.010Z"
   },
   {
    "duration": 297,
    "start_time": "2022-01-20T12:21:09.277Z"
   },
   {
    "duration": 228,
    "start_time": "2022-01-20T12:21:09.576Z"
   },
   {
    "duration": 26,
    "start_time": "2022-01-20T12:28:13.362Z"
   },
   {
    "duration": 21,
    "start_time": "2022-01-20T12:28:25.553Z"
   },
   {
    "duration": 19,
    "start_time": "2022-01-20T12:28:39.035Z"
   },
   {
    "duration": 208,
    "start_time": "2022-01-20T12:29:35.452Z"
   },
   {
    "duration": 563,
    "start_time": "2022-01-20T12:29:38.995Z"
   },
   {
    "duration": 2,
    "start_time": "2022-01-20T12:29:57.839Z"
   },
   {
    "duration": 50,
    "start_time": "2022-01-20T12:29:57.843Z"
   },
   {
    "duration": 9,
    "start_time": "2022-01-20T12:29:57.895Z"
   },
   {
    "duration": 4,
    "start_time": "2022-01-20T12:29:57.906Z"
   },
   {
    "duration": 6,
    "start_time": "2022-01-20T12:29:57.911Z"
   },
   {
    "duration": 4,
    "start_time": "2022-01-20T12:29:57.919Z"
   },
   {
    "duration": 4,
    "start_time": "2022-01-20T12:29:57.924Z"
   },
   {
    "duration": 3,
    "start_time": "2022-01-20T12:29:57.930Z"
   },
   {
    "duration": 392,
    "start_time": "2022-01-20T12:29:57.934Z"
   },
   {
    "duration": 269,
    "start_time": "2022-01-20T12:29:58.328Z"
   },
   {
    "duration": 320,
    "start_time": "2022-01-20T12:29:58.599Z"
   },
   {
    "duration": 240,
    "start_time": "2022-01-20T12:29:58.921Z"
   },
   {
    "duration": 383,
    "start_time": "2022-01-20T12:29:59.163Z"
   },
   {
    "duration": 43,
    "start_time": "2022-01-20T12:30:07.788Z"
   },
   {
    "duration": 436,
    "start_time": "2022-01-20T12:30:48.278Z"
   },
   {
    "duration": 317,
    "start_time": "2022-01-20T12:31:10.493Z"
   },
   {
    "duration": 442,
    "start_time": "2022-01-20T12:31:22.532Z"
   },
   {
    "duration": 3,
    "start_time": "2022-01-20T12:31:48.365Z"
   },
   {
    "duration": 308,
    "start_time": "2022-01-20T12:32:01.150Z"
   },
   {
    "duration": 365,
    "start_time": "2022-01-20T12:32:06.629Z"
   },
   {
    "duration": 193,
    "start_time": "2022-01-20T12:32:22.415Z"
   },
   {
    "duration": 192,
    "start_time": "2022-01-20T12:33:30.744Z"
   },
   {
    "duration": 213,
    "start_time": "2022-01-20T12:33:41.943Z"
   },
   {
    "duration": 373,
    "start_time": "2022-01-20T12:36:55.851Z"
   },
   {
    "duration": 112,
    "start_time": "2022-01-20T12:38:17.595Z"
   },
   {
    "duration": 311,
    "start_time": "2022-01-20T12:38:35.602Z"
   },
   {
    "duration": 475,
    "start_time": "2022-01-20T12:38:53.203Z"
   },
   {
    "duration": 510,
    "start_time": "2022-01-20T12:39:07.859Z"
   },
   {
    "duration": 504,
    "start_time": "2022-01-20T12:39:35.036Z"
   },
   {
    "duration": 528,
    "start_time": "2022-01-20T12:39:45.652Z"
   },
   {
    "duration": 540,
    "start_time": "2022-01-20T12:39:54.372Z"
   },
   {
    "duration": 564,
    "start_time": "2022-01-20T12:42:11.633Z"
   },
   {
    "duration": 897,
    "start_time": "2022-01-20T12:44:00.311Z"
   },
   {
    "duration": 962,
    "start_time": "2022-01-20T12:44:37.242Z"
   },
   {
    "duration": 763,
    "start_time": "2022-01-20T12:44:40.696Z"
   },
   {
    "duration": 241,
    "start_time": "2022-01-20T12:44:49.504Z"
   },
   {
    "duration": 566,
    "start_time": "2022-01-20T12:44:55.624Z"
   },
   {
    "duration": 568,
    "start_time": "2022-01-20T12:47:01.698Z"
   },
   {
    "duration": 528,
    "start_time": "2022-01-20T12:47:21.427Z"
   },
   {
    "duration": 536,
    "start_time": "2022-01-20T12:47:27.339Z"
   },
   {
    "duration": 551,
    "start_time": "2022-01-20T12:47:34.330Z"
   },
   {
    "duration": 562,
    "start_time": "2022-01-20T12:47:39.874Z"
   },
   {
    "duration": 546,
    "start_time": "2022-01-20T12:47:47.538Z"
   },
   {
    "duration": 854,
    "start_time": "2022-01-20T12:48:20.731Z"
   },
   {
    "duration": 502,
    "start_time": "2022-01-20T12:48:27.411Z"
   },
   {
    "duration": 509,
    "start_time": "2022-01-20T12:48:35.292Z"
   },
   {
    "duration": 529,
    "start_time": "2022-01-20T12:48:45.843Z"
   },
   {
    "duration": 567,
    "start_time": "2022-01-20T12:48:55.900Z"
   },
   {
    "duration": 560,
    "start_time": "2022-01-20T12:49:02.827Z"
   },
   {
    "duration": 530,
    "start_time": "2022-01-20T12:49:16.011Z"
   },
   {
    "duration": 515,
    "start_time": "2022-01-20T12:49:21.628Z"
   },
   {
    "duration": 510,
    "start_time": "2022-01-20T12:49:31.484Z"
   },
   {
    "duration": 738,
    "start_time": "2022-01-20T12:49:45.411Z"
   },
   {
    "duration": 558,
    "start_time": "2022-01-20T12:49:53.148Z"
   },
   {
    "duration": 544,
    "start_time": "2022-01-20T12:49:56.923Z"
   },
   {
    "duration": 12,
    "start_time": "2022-01-20T12:54:25.847Z"
   },
   {
    "duration": 13,
    "start_time": "2022-01-20T12:55:06.928Z"
   },
   {
    "duration": 22,
    "start_time": "2022-01-20T12:59:02.643Z"
   },
   {
    "duration": 105,
    "start_time": "2022-01-20T12:59:58.157Z"
   },
   {
    "duration": 99,
    "start_time": "2022-01-20T13:00:03.677Z"
   },
   {
    "duration": 21,
    "start_time": "2022-01-20T13:00:14.654Z"
   },
   {
    "duration": 203,
    "start_time": "2022-01-20T13:00:48.375Z"
   },
   {
    "duration": 332,
    "start_time": "2022-01-20T13:01:17.830Z"
   },
   {
    "duration": 632,
    "start_time": "2022-01-20T13:06:01.667Z"
   },
   {
    "duration": 327,
    "start_time": "2022-01-20T13:06:11.747Z"
   },
   {
    "duration": 364,
    "start_time": "2022-01-20T13:07:47.827Z"
   },
   {
    "duration": 340,
    "start_time": "2022-01-20T13:08:20.644Z"
   },
   {
    "duration": 300,
    "start_time": "2022-01-20T13:09:11.957Z"
   },
   {
    "duration": 331,
    "start_time": "2022-01-20T13:09:18.381Z"
   },
   {
    "duration": 623,
    "start_time": "2022-01-20T13:19:12.463Z"
   },
   {
    "duration": 1623,
    "start_time": "2022-01-20T13:20:02.007Z"
   },
   {
    "duration": 640,
    "start_time": "2022-01-20T13:21:17.335Z"
   },
   {
    "duration": 311,
    "start_time": "2022-01-20T13:22:06.560Z"
   },
   {
    "duration": 17,
    "start_time": "2022-01-20T13:24:13.921Z"
   },
   {
    "duration": 23,
    "start_time": "2022-01-20T13:24:19.402Z"
   },
   {
    "duration": 23,
    "start_time": "2022-01-20T13:24:42.626Z"
   },
   {
    "duration": 20,
    "start_time": "2022-01-20T13:24:59.675Z"
   },
   {
    "duration": 20,
    "start_time": "2022-01-20T13:25:27.034Z"
   },
   {
    "duration": 25,
    "start_time": "2022-01-20T13:26:06.346Z"
   },
   {
    "duration": 26,
    "start_time": "2022-01-20T13:29:45.246Z"
   },
   {
    "duration": 352,
    "start_time": "2022-01-20T13:54:04.019Z"
   },
   {
    "duration": 426,
    "start_time": "2022-01-20T13:54:13.683Z"
   },
   {
    "duration": 823,
    "start_time": "2022-01-20T13:56:15.412Z"
   },
   {
    "duration": 467,
    "start_time": "2022-01-20T13:58:15.742Z"
   },
   {
    "duration": 423,
    "start_time": "2022-01-20T13:59:04.415Z"
   },
   {
    "duration": 966,
    "start_time": "2022-01-20T13:59:44.327Z"
   },
   {
    "duration": 1128,
    "start_time": "2022-01-20T14:04:42.603Z"
   },
   {
    "duration": 935,
    "start_time": "2022-01-20T14:05:18.492Z"
   },
   {
    "duration": 927,
    "start_time": "2022-01-20T14:05:39.957Z"
   },
   {
    "duration": 957,
    "start_time": "2022-01-20T14:05:58.253Z"
   },
   {
    "duration": 940,
    "start_time": "2022-01-20T14:06:04.925Z"
   },
   {
    "duration": 713,
    "start_time": "2022-01-20T14:06:13.493Z"
   },
   {
    "duration": 968,
    "start_time": "2022-01-20T14:06:22.255Z"
   },
   {
    "duration": 990,
    "start_time": "2022-01-20T14:06:28.160Z"
   },
   {
    "duration": 1006,
    "start_time": "2022-01-20T14:06:32.461Z"
   },
   {
    "duration": 971,
    "start_time": "2022-01-20T14:06:44.101Z"
   },
   {
    "duration": 1025,
    "start_time": "2022-01-20T14:06:47.637Z"
   },
   {
    "duration": 1242,
    "start_time": "2022-01-20T14:07:02.245Z"
   },
   {
    "duration": 2505,
    "start_time": "2022-01-20T14:07:59.343Z"
   },
   {
    "duration": 1046,
    "start_time": "2022-01-20T14:08:17.632Z"
   },
   {
    "duration": 345,
    "start_time": "2022-01-20T14:13:06.611Z"
   },
   {
    "duration": 347,
    "start_time": "2022-01-20T14:13:24.856Z"
   },
   {
    "duration": 1024,
    "start_time": "2022-01-20T14:14:14.422Z"
   },
   {
    "duration": 1057,
    "start_time": "2022-01-20T14:14:35.549Z"
   },
   {
    "duration": 982,
    "start_time": "2022-01-20T14:14:44.725Z"
   },
   {
    "duration": 1008,
    "start_time": "2022-01-20T14:15:20.006Z"
   },
   {
    "duration": 1004,
    "start_time": "2022-01-20T14:15:29.149Z"
   },
   {
    "duration": 982,
    "start_time": "2022-01-20T14:15:59.798Z"
   },
   {
    "duration": 953,
    "start_time": "2022-01-20T14:16:16.054Z"
   },
   {
    "duration": 337,
    "start_time": "2022-01-20T14:16:28.998Z"
   },
   {
    "duration": 1181,
    "start_time": "2022-01-20T14:16:44.455Z"
   },
   {
    "duration": 981,
    "start_time": "2022-01-20T14:16:57.231Z"
   },
   {
    "duration": 952,
    "start_time": "2022-01-20T14:17:07.487Z"
   },
   {
    "duration": 1011,
    "start_time": "2022-01-20T14:17:18.655Z"
   },
   {
    "duration": 989,
    "start_time": "2022-01-20T14:17:36.919Z"
   },
   {
    "duration": 962,
    "start_time": "2022-01-20T14:17:43.903Z"
   },
   {
    "duration": 1314,
    "start_time": "2022-01-20T14:17:59.143Z"
   },
   {
    "duration": 1054,
    "start_time": "2022-01-20T14:18:14.321Z"
   },
   {
    "duration": 1030,
    "start_time": "2022-01-20T14:18:26.579Z"
   },
   {
    "duration": 1047,
    "start_time": "2022-01-20T14:19:38.713Z"
   },
   {
    "duration": 22,
    "start_time": "2022-01-20T14:21:40.602Z"
   },
   {
    "duration": 1361,
    "start_time": "2022-01-20T14:22:10.996Z"
   },
   {
    "duration": 1536,
    "start_time": "2022-01-20T14:22:59.388Z"
   },
   {
    "duration": 1180,
    "start_time": "2022-01-20T14:23:09.348Z"
   },
   {
    "duration": 990,
    "start_time": "2022-01-20T14:24:38.806Z"
   },
   {
    "duration": 1006,
    "start_time": "2022-01-20T14:25:19.046Z"
   },
   {
    "duration": 1267,
    "start_time": "2022-01-20T14:25:33.414Z"
   },
   {
    "duration": 949,
    "start_time": "2022-01-20T14:25:43.839Z"
   },
   {
    "duration": 937,
    "start_time": "2022-01-20T14:25:56.398Z"
   },
   {
    "duration": 951,
    "start_time": "2022-01-20T14:26:04.255Z"
   },
   {
    "duration": 1127,
    "start_time": "2022-01-20T14:26:11.919Z"
   },
   {
    "duration": 934,
    "start_time": "2022-01-20T14:26:56.511Z"
   },
   {
    "duration": 963,
    "start_time": "2022-01-20T14:27:09.808Z"
   },
   {
    "duration": 956,
    "start_time": "2022-01-20T14:27:52.137Z"
   },
   {
    "duration": 920,
    "start_time": "2022-01-20T14:28:10.793Z"
   },
   {
    "duration": 991,
    "start_time": "2022-01-20T14:28:30.057Z"
   },
   {
    "duration": 945,
    "start_time": "2022-01-20T14:28:39.464Z"
   },
   {
    "duration": 956,
    "start_time": "2022-01-20T14:28:48.561Z"
   },
   {
    "duration": 1013,
    "start_time": "2022-01-20T14:28:59.537Z"
   },
   {
    "duration": 943,
    "start_time": "2022-01-20T14:29:14.714Z"
   },
   {
    "duration": 101,
    "start_time": "2022-01-20T14:29:40.370Z"
   },
   {
    "duration": 999,
    "start_time": "2022-01-20T14:29:48.666Z"
   },
   {
    "duration": 110,
    "start_time": "2022-01-20T14:39:57.994Z"
   },
   {
    "duration": 387,
    "start_time": "2022-01-20T14:40:14.449Z"
   },
   {
    "duration": 1225,
    "start_time": "2022-01-20T14:40:27.291Z"
   },
   {
    "duration": 1002,
    "start_time": "2022-01-20T14:42:00.835Z"
   },
   {
    "duration": 942,
    "start_time": "2022-01-20T14:42:13.707Z"
   },
   {
    "duration": 931,
    "start_time": "2022-01-20T14:43:55.085Z"
   },
   {
    "duration": 283,
    "start_time": "2022-01-20T14:45:55.663Z"
   },
   {
    "duration": 399,
    "start_time": "2022-01-20T14:46:20.776Z"
   },
   {
    "duration": 399,
    "start_time": "2022-01-20T14:46:41.527Z"
   },
   {
    "duration": 392,
    "start_time": "2022-01-20T14:48:05.808Z"
   },
   {
    "duration": 728,
    "start_time": "2022-01-20T14:48:13.801Z"
   },
   {
    "duration": 395,
    "start_time": "2022-01-20T14:48:44.697Z"
   },
   {
    "duration": 387,
    "start_time": "2022-01-20T14:48:50.841Z"
   },
   {
    "duration": 422,
    "start_time": "2022-01-20T14:48:56.625Z"
   },
   {
    "duration": 417,
    "start_time": "2022-01-20T14:49:00.810Z"
   },
   {
    "duration": 397,
    "start_time": "2022-01-20T14:49:04.674Z"
   },
   {
    "duration": 408,
    "start_time": "2022-01-20T14:49:18.946Z"
   },
   {
    "duration": 312,
    "start_time": "2022-01-20T14:49:27.985Z"
   },
   {
    "duration": 452,
    "start_time": "2022-01-20T14:49:34.418Z"
   },
   {
    "duration": 518,
    "start_time": "2022-01-20T14:51:50.156Z"
   },
   {
    "duration": 737,
    "start_time": "2022-01-20T14:52:07.188Z"
   },
   {
    "duration": 401,
    "start_time": "2022-01-20T14:52:20.364Z"
   },
   {
    "duration": 1691,
    "start_time": "2022-01-21T07:25:36.562Z"
   },
   {
    "duration": 70,
    "start_time": "2022-01-21T07:25:38.256Z"
   },
   {
    "duration": 14,
    "start_time": "2022-01-21T07:25:38.329Z"
   },
   {
    "duration": 25,
    "start_time": "2022-01-21T07:25:38.346Z"
   },
   {
    "duration": 9,
    "start_time": "2022-01-21T07:25:38.373Z"
   },
   {
    "duration": 6,
    "start_time": "2022-01-21T07:25:38.384Z"
   },
   {
    "duration": 9,
    "start_time": "2022-01-21T07:25:38.392Z"
   },
   {
    "duration": 3,
    "start_time": "2022-01-21T07:25:38.405Z"
   },
   {
    "duration": 665,
    "start_time": "2022-01-21T07:25:38.411Z"
   },
   {
    "duration": 535,
    "start_time": "2022-01-21T07:25:39.079Z"
   },
   {
    "duration": 827,
    "start_time": "2022-01-21T07:25:39.617Z"
   },
   {
    "duration": 46,
    "start_time": "2022-01-21T07:25:40.447Z"
   },
   {
    "duration": 38,
    "start_time": "2022-01-21T07:25:40.496Z"
   },
   {
    "duration": 1034,
    "start_time": "2022-01-21T07:25:40.537Z"
   },
   {
    "duration": 565,
    "start_time": "2022-01-21T07:25:41.574Z"
   },
   {
    "duration": 736,
    "start_time": "2022-01-21T07:25:42.141Z"
   },
   {
    "duration": 985,
    "start_time": "2022-01-21T07:26:12.528Z"
   },
   {
    "duration": 732,
    "start_time": "2022-01-21T07:26:16.752Z"
   },
   {
    "duration": 815,
    "start_time": "2022-01-21T07:28:03.444Z"
   },
   {
    "duration": 1520,
    "start_time": "2022-01-21T07:28:37.255Z"
   },
   {
    "duration": 70,
    "start_time": "2022-01-21T07:28:38.777Z"
   },
   {
    "duration": 22,
    "start_time": "2022-01-21T07:28:38.850Z"
   },
   {
    "duration": 10,
    "start_time": "2022-01-21T07:28:38.875Z"
   },
   {
    "duration": 12,
    "start_time": "2022-01-21T07:28:38.887Z"
   },
   {
    "duration": 6,
    "start_time": "2022-01-21T07:28:38.902Z"
   },
   {
    "duration": 7,
    "start_time": "2022-01-21T07:28:38.910Z"
   },
   {
    "duration": 3,
    "start_time": "2022-01-21T07:28:38.920Z"
   },
   {
    "duration": 659,
    "start_time": "2022-01-21T07:28:40.796Z"
   },
   {
    "duration": 617,
    "start_time": "2022-01-21T07:28:51.917Z"
   },
   {
    "duration": 616,
    "start_time": "2022-01-21T07:29:15.797Z"
   },
   {
    "duration": 690,
    "start_time": "2022-01-21T07:30:07.165Z"
   },
   {
    "duration": 634,
    "start_time": "2022-01-21T07:30:30.718Z"
   },
   {
    "duration": 604,
    "start_time": "2022-01-21T07:32:03.551Z"
   },
   {
    "duration": 635,
    "start_time": "2022-01-21T07:32:14.472Z"
   },
   {
    "duration": 799,
    "start_time": "2022-01-21T07:32:22.488Z"
   },
   {
    "duration": 609,
    "start_time": "2022-01-21T07:32:54.337Z"
   },
   {
    "duration": 699,
    "start_time": "2022-01-21T07:35:28.540Z"
   },
   {
    "duration": 461,
    "start_time": "2022-01-21T07:35:29.242Z"
   },
   {
    "duration": 567,
    "start_time": "2022-01-21T07:35:29.706Z"
   },
   {
    "duration": 33,
    "start_time": "2022-01-21T07:35:30.276Z"
   },
   {
    "duration": 60,
    "start_time": "2022-01-21T07:35:30.311Z"
   },
   {
    "duration": 949,
    "start_time": "2022-01-21T07:35:30.373Z"
   },
   {
    "duration": 559,
    "start_time": "2022-01-21T07:35:31.325Z"
   },
   {
    "duration": 642,
    "start_time": "2022-01-21T07:35:31.887Z"
   },
   {
    "duration": 1727,
    "start_time": "2022-01-21T07:35:46.251Z"
   },
   {
    "duration": 4,
    "start_time": "2022-01-21T07:36:44.765Z"
   },
   {
    "duration": 72,
    "start_time": "2022-01-21T07:36:44.772Z"
   },
   {
    "duration": 25,
    "start_time": "2022-01-21T07:36:44.847Z"
   },
   {
    "duration": 5,
    "start_time": "2022-01-21T07:36:44.875Z"
   },
   {
    "duration": 12,
    "start_time": "2022-01-21T07:36:44.882Z"
   },
   {
    "duration": 6,
    "start_time": "2022-01-21T07:36:44.896Z"
   },
   {
    "duration": 6,
    "start_time": "2022-01-21T07:36:44.904Z"
   },
   {
    "duration": 4,
    "start_time": "2022-01-21T07:36:44.913Z"
   },
   {
    "duration": 1270,
    "start_time": "2022-01-21T07:36:48.251Z"
   },
   {
    "duration": 1666,
    "start_time": "2022-01-21T07:37:00.229Z"
   },
   {
    "duration": 80,
    "start_time": "2022-01-21T07:37:01.899Z"
   },
   {
    "duration": 25,
    "start_time": "2022-01-21T07:37:01.983Z"
   },
   {
    "duration": 5,
    "start_time": "2022-01-21T07:37:02.011Z"
   },
   {
    "duration": 14,
    "start_time": "2022-01-21T07:37:02.019Z"
   },
   {
    "duration": 33,
    "start_time": "2022-01-21T07:37:02.036Z"
   },
   {
    "duration": 8,
    "start_time": "2022-01-21T07:37:02.072Z"
   },
   {
    "duration": 6,
    "start_time": "2022-01-21T07:37:02.083Z"
   },
   {
    "duration": 602,
    "start_time": "2022-01-21T07:37:04.856Z"
   },
   {
    "duration": 601,
    "start_time": "2022-01-21T07:37:25.829Z"
   },
   {
    "duration": 569,
    "start_time": "2022-01-21T07:37:43.681Z"
   },
   {
    "duration": 602,
    "start_time": "2022-01-21T07:38:29.393Z"
   },
   {
    "duration": 546,
    "start_time": "2022-01-21T07:38:40.434Z"
   },
   {
    "duration": 629,
    "start_time": "2022-01-21T07:39:01.226Z"
   },
   {
    "duration": 541,
    "start_time": "2022-01-21T07:39:33.515Z"
   },
   {
    "duration": 452,
    "start_time": "2022-01-21T07:42:50.893Z"
   },
   {
    "duration": 297,
    "start_time": "2022-01-21T07:42:59.270Z"
   },
   {
    "duration": 554,
    "start_time": "2022-01-21T07:43:59.310Z"
   },
   {
    "duration": 567,
    "start_time": "2022-01-21T07:45:08.519Z"
   },
   {
    "duration": 562,
    "start_time": "2022-01-21T07:45:41.896Z"
   },
   {
    "duration": 576,
    "start_time": "2022-01-21T07:46:11.649Z"
   },
   {
    "duration": 657,
    "start_time": "2022-01-21T07:46:20.393Z"
   },
   {
    "duration": 752,
    "start_time": "2022-01-21T07:46:27.833Z"
   },
   {
    "duration": 644,
    "start_time": "2022-01-21T07:46:50.848Z"
   },
   {
    "duration": 731,
    "start_time": "2022-01-21T07:47:06.617Z"
   },
   {
    "duration": 674,
    "start_time": "2022-01-21T07:47:38.756Z"
   },
   {
    "duration": 623,
    "start_time": "2022-01-21T07:47:39.433Z"
   },
   {
    "duration": 584,
    "start_time": "2022-01-21T07:47:40.059Z"
   },
   {
    "duration": 47,
    "start_time": "2022-01-21T07:47:40.646Z"
   },
   {
    "duration": 42,
    "start_time": "2022-01-21T07:47:40.696Z"
   },
   {
    "duration": 1073,
    "start_time": "2022-01-21T07:47:40.740Z"
   },
   {
    "duration": 577,
    "start_time": "2022-01-21T07:47:41.816Z"
   },
   {
    "duration": 678,
    "start_time": "2022-01-21T07:47:42.398Z"
   },
   {
    "duration": 1582,
    "start_time": "2022-01-21T07:47:47.594Z"
   },
   {
    "duration": 9,
    "start_time": "2022-01-21T07:59:34.332Z"
   },
   {
    "duration": 10,
    "start_time": "2022-01-21T08:00:41.396Z"
   },
   {
    "duration": 251,
    "start_time": "2022-01-21T08:01:17.078Z"
   },
   {
    "duration": 277,
    "start_time": "2022-01-21T08:01:43.806Z"
   },
   {
    "duration": 9,
    "start_time": "2022-01-21T08:01:49.685Z"
   },
   {
    "duration": 9650,
    "start_time": "2022-01-21T08:05:08.314Z"
   },
   {
    "duration": 480,
    "start_time": "2022-01-21T08:38:19.653Z"
   },
   {
    "duration": 823,
    "start_time": "2022-01-21T08:38:36.014Z"
   },
   {
    "duration": 720,
    "start_time": "2022-01-21T08:39:04.670Z"
   },
   {
    "duration": 1186,
    "start_time": "2022-01-21T08:39:11.086Z"
   },
   {
    "duration": 772,
    "start_time": "2022-01-21T08:40:19.535Z"
   },
   {
    "duration": 1470,
    "start_time": "2022-01-21T08:40:36.888Z"
   },
   {
    "duration": 367,
    "start_time": "2022-01-21T08:51:18.991Z"
   },
   {
    "duration": 315,
    "start_time": "2022-01-21T08:52:10.362Z"
   },
   {
    "duration": 608,
    "start_time": "2022-01-21T08:52:30.779Z"
   },
   {
    "duration": 16,
    "start_time": "2022-01-21T09:02:53.315Z"
   },
   {
    "duration": 292,
    "start_time": "2022-01-21T09:04:22.245Z"
   },
   {
    "duration": 292,
    "start_time": "2022-01-21T09:05:05.580Z"
   },
   {
    "duration": 24,
    "start_time": "2022-01-21T09:05:42.047Z"
   },
   {
    "duration": 16,
    "start_time": "2022-01-21T09:08:06.894Z"
   },
   {
    "duration": 42,
    "start_time": "2022-01-21T09:08:22.590Z"
   },
   {
    "duration": 810,
    "start_time": "2022-01-21T09:08:52.928Z"
   },
   {
    "duration": 545,
    "start_time": "2022-01-21T09:09:37.606Z"
   },
   {
    "duration": 1760,
    "start_time": "2022-01-21T09:09:46.551Z"
   },
   {
    "duration": 1615,
    "start_time": "2022-01-21T09:09:58.343Z"
   },
   {
    "duration": 1650,
    "start_time": "2022-01-21T09:10:11.073Z"
   },
   {
    "duration": 1630,
    "start_time": "2022-01-21T09:10:28.033Z"
   },
   {
    "duration": 1649,
    "start_time": "2022-01-21T09:10:56.929Z"
   },
   {
    "duration": 1546,
    "start_time": "2022-01-21T09:11:07.961Z"
   },
   {
    "duration": 1724,
    "start_time": "2022-01-21T09:11:17.825Z"
   },
   {
    "duration": 1592,
    "start_time": "2022-01-21T09:11:32.545Z"
   },
   {
    "duration": 708,
    "start_time": "2022-01-21T09:12:12.746Z"
   },
   {
    "duration": 4,
    "start_time": "2022-01-21T09:12:59.476Z"
   },
   {
    "duration": 65,
    "start_time": "2022-01-21T09:12:59.483Z"
   },
   {
    "duration": 28,
    "start_time": "2022-01-21T09:12:59.551Z"
   },
   {
    "duration": 7235,
    "start_time": "2022-01-21T09:12:59.581Z"
   },
   {
    "duration": 827,
    "start_time": "2022-01-21T09:13:05.992Z"
   },
   {
    "duration": 824,
    "start_time": "2022-01-21T09:13:05.996Z"
   },
   {
    "duration": 822,
    "start_time": "2022-01-21T09:13:05.999Z"
   },
   {
    "duration": 822,
    "start_time": "2022-01-21T09:13:06.001Z"
   },
   {
    "duration": 816,
    "start_time": "2022-01-21T09:13:06.008Z"
   },
   {
    "duration": 815,
    "start_time": "2022-01-21T09:13:06.010Z"
   },
   {
    "duration": 814,
    "start_time": "2022-01-21T09:13:06.012Z"
   },
   {
    "duration": 815,
    "start_time": "2022-01-21T09:13:06.013Z"
   },
   {
    "duration": 814,
    "start_time": "2022-01-21T09:13:06.015Z"
   },
   {
    "duration": 814,
    "start_time": "2022-01-21T09:13:06.016Z"
   },
   {
    "duration": 813,
    "start_time": "2022-01-21T09:13:06.018Z"
   },
   {
    "duration": 814,
    "start_time": "2022-01-21T09:13:06.019Z"
   },
   {
    "duration": 813,
    "start_time": "2022-01-21T09:13:06.021Z"
   },
   {
    "duration": 10,
    "start_time": "2022-01-21T09:13:34.275Z"
   },
   {
    "duration": 10,
    "start_time": "2022-01-21T09:13:38.365Z"
   },
   {
    "duration": 10,
    "start_time": "2022-01-21T09:13:38.378Z"
   },
   {
    "duration": 9,
    "start_time": "2022-01-21T09:13:38.391Z"
   },
   {
    "duration": 6,
    "start_time": "2022-01-21T09:13:38.403Z"
   },
   {
    "duration": 7,
    "start_time": "2022-01-21T09:13:38.412Z"
   },
   {
    "duration": 49,
    "start_time": "2022-01-21T09:13:38.421Z"
   },
   {
    "duration": 830,
    "start_time": "2022-01-21T09:13:38.472Z"
   },
   {
    "duration": 553,
    "start_time": "2022-01-21T09:13:39.306Z"
   },
   {
    "duration": 1042,
    "start_time": "2022-01-21T09:13:39.862Z"
   },
   {
    "duration": 73,
    "start_time": "2022-01-21T09:13:40.907Z"
   },
   {
    "duration": 39,
    "start_time": "2022-01-21T09:13:40.982Z"
   },
   {
    "duration": 820,
    "start_time": "2022-01-21T09:13:41.024Z"
   },
   {
    "duration": 1932,
    "start_time": "2022-01-21T09:13:41.846Z"
   },
   {
    "duration": 740,
    "start_time": "2022-01-21T09:13:43.780Z"
   },
   {
    "duration": 749,
    "start_time": "2022-01-21T09:14:53.420Z"
   },
   {
    "duration": 1704,
    "start_time": "2022-01-21T09:15:08.517Z"
   },
   {
    "duration": 867,
    "start_time": "2022-01-21T09:15:21.645Z"
   },
   {
    "duration": 1549,
    "start_time": "2022-01-21T09:15:36.086Z"
   },
   {
    "duration": 752,
    "start_time": "2022-01-21T09:16:02.605Z"
   },
   {
    "duration": 1553,
    "start_time": "2022-01-21T09:19:09.977Z"
   },
   {
    "duration": 389,
    "start_time": "2022-01-21T09:19:37.160Z"
   },
   {
    "duration": 1581,
    "start_time": "2022-01-21T09:19:53.632Z"
   },
   {
    "duration": 1693,
    "start_time": "2022-01-21T09:20:23.162Z"
   },
   {
    "duration": 1642,
    "start_time": "2022-01-21T09:20:39.969Z"
   },
   {
    "duration": 287,
    "start_time": "2022-01-21T09:21:49.922Z"
   },
   {
    "duration": 740,
    "start_time": "2022-01-21T09:22:19.411Z"
   },
   {
    "duration": 854,
    "start_time": "2022-01-21T09:22:55.380Z"
   },
   {
    "duration": 1143,
    "start_time": "2022-01-21T09:24:35.486Z"
   },
   {
    "duration": 925,
    "start_time": "2022-01-21T09:24:58.801Z"
   },
   {
    "duration": 605,
    "start_time": "2022-01-21T09:25:10.101Z"
   },
   {
    "duration": 630,
    "start_time": "2022-01-21T09:25:33.661Z"
   },
   {
    "duration": 632,
    "start_time": "2022-01-21T09:25:58.558Z"
   },
   {
    "duration": 671,
    "start_time": "2022-01-21T09:26:24.382Z"
   },
   {
    "duration": 657,
    "start_time": "2022-01-21T09:26:35.918Z"
   },
   {
    "duration": 665,
    "start_time": "2022-01-21T09:26:42.486Z"
   },
   {
    "duration": 661,
    "start_time": "2022-01-21T09:26:52.406Z"
   },
   {
    "duration": 961,
    "start_time": "2022-01-21T09:28:42.864Z"
   },
   {
    "duration": 717,
    "start_time": "2022-01-21T09:29:45.946Z"
   },
   {
    "duration": 687,
    "start_time": "2022-01-21T10:10:15.052Z"
   },
   {
    "duration": 1060,
    "start_time": "2022-01-21T10:10:22.828Z"
   },
   {
    "duration": 1703,
    "start_time": "2022-01-21T10:10:39.132Z"
   },
   {
    "duration": 1274,
    "start_time": "2022-01-21T10:10:51.428Z"
   },
   {
    "duration": 1077,
    "start_time": "2022-01-21T10:11:01.602Z"
   },
   {
    "duration": 110,
    "start_time": "2022-01-21T10:11:14.973Z"
   },
   {
    "duration": 1036,
    "start_time": "2022-01-21T10:11:22.413Z"
   },
   {
    "duration": 1025,
    "start_time": "2022-01-21T10:11:30.300Z"
   },
   {
    "duration": 987,
    "start_time": "2022-01-21T10:11:40.108Z"
   },
   {
    "duration": 1024,
    "start_time": "2022-01-21T10:11:46.324Z"
   },
   {
    "duration": 1152,
    "start_time": "2022-01-21T10:11:55.757Z"
   },
   {
    "duration": 903,
    "start_time": "2022-01-21T10:13:54.879Z"
   },
   {
    "duration": 861,
    "start_time": "2022-01-21T10:14:01.136Z"
   },
   {
    "duration": 1621,
    "start_time": "2022-01-21T10:14:36.458Z"
   },
   {
    "duration": 1320,
    "start_time": "2022-01-21T10:14:45.599Z"
   },
   {
    "duration": 1036,
    "start_time": "2022-01-21T10:15:42.472Z"
   },
   {
    "duration": 1072,
    "start_time": "2022-01-21T10:20:00.573Z"
   },
   {
    "duration": 5086,
    "start_time": "2022-01-21T10:20:33.373Z"
   },
   {
    "duration": 5286,
    "start_time": "2022-01-21T10:21:08.406Z"
   },
   {
    "duration": 35,
    "start_time": "2022-01-21T10:22:34.974Z"
   },
   {
    "duration": 413,
    "start_time": "2022-01-21T10:22:46.086Z"
   },
   {
    "duration": 444,
    "start_time": "2022-01-21T10:23:14.142Z"
   },
   {
    "duration": 681,
    "start_time": "2022-01-21T10:24:07.209Z"
   },
   {
    "duration": 279,
    "start_time": "2022-01-21T10:24:46.672Z"
   },
   {
    "duration": 20,
    "start_time": "2022-01-21T10:24:57.864Z"
   },
   {
    "duration": 31,
    "start_time": "2022-01-21T10:26:18.281Z"
   },
   {
    "duration": 507,
    "start_time": "2022-01-21T10:26:38.465Z"
   },
   {
    "duration": 428,
    "start_time": "2022-01-21T10:33:57.175Z"
   },
   {
    "duration": 790,
    "start_time": "2022-01-21T10:34:29.136Z"
   },
   {
    "duration": 816,
    "start_time": "2022-01-21T10:34:44.456Z"
   },
   {
    "duration": 792,
    "start_time": "2022-01-21T10:34:50.362Z"
   },
   {
    "duration": 656,
    "start_time": "2022-01-21T10:36:21.385Z"
   },
   {
    "duration": 1276,
    "start_time": "2022-01-21T10:37:55.859Z"
   },
   {
    "duration": 882,
    "start_time": "2022-01-21T10:38:03.691Z"
   },
   {
    "duration": 1199,
    "start_time": "2022-01-21T10:38:39.027Z"
   },
   {
    "duration": 91,
    "start_time": "2022-01-21T10:39:02.478Z"
   },
   {
    "duration": 46,
    "start_time": "2022-01-21T10:39:11.912Z"
   },
   {
    "duration": 31,
    "start_time": "2022-01-21T10:39:19.547Z"
   },
   {
    "duration": 307,
    "start_time": "2022-01-21T10:40:53.246Z"
   },
   {
    "duration": 664,
    "start_time": "2022-01-21T10:43:20.208Z"
   },
   {
    "duration": 766,
    "start_time": "2022-01-21T10:43:45.673Z"
   },
   {
    "duration": 322,
    "start_time": "2022-01-21T10:46:28.042Z"
   },
   {
    "duration": 8184,
    "start_time": "2022-01-21T10:46:32.675Z"
   },
   {
    "duration": 1184,
    "start_time": "2022-01-21T10:46:48.164Z"
   },
   {
    "duration": 920,
    "start_time": "2022-01-21T10:47:30.699Z"
   },
   {
    "duration": 744,
    "start_time": "2022-01-21T10:48:19.532Z"
   },
   {
    "duration": 763,
    "start_time": "2022-01-21T10:48:28.894Z"
   },
   {
    "duration": 763,
    "start_time": "2022-01-21T10:48:32.764Z"
   },
   {
    "duration": 762,
    "start_time": "2022-01-21T10:48:44.932Z"
   },
   {
    "duration": 821,
    "start_time": "2022-01-21T10:48:50.693Z"
   },
   {
    "duration": 748,
    "start_time": "2022-01-21T10:48:58.908Z"
   },
   {
    "duration": 794,
    "start_time": "2022-01-21T10:50:33.374Z"
   },
   {
    "duration": 837,
    "start_time": "2022-01-21T10:50:44.302Z"
   },
   {
    "duration": 1079,
    "start_time": "2022-01-21T10:51:12.782Z"
   },
   {
    "duration": 1056,
    "start_time": "2022-01-21T10:51:22.142Z"
   },
   {
    "duration": 822,
    "start_time": "2022-01-21T10:51:30.814Z"
   },
   {
    "duration": 1043,
    "start_time": "2022-01-21T10:51:39.767Z"
   },
   {
    "duration": 803,
    "start_time": "2022-01-21T10:51:44.591Z"
   },
   {
    "duration": 791,
    "start_time": "2022-01-21T10:51:49.359Z"
   },
   {
    "duration": 773,
    "start_time": "2022-01-21T10:51:56.823Z"
   },
   {
    "duration": 775,
    "start_time": "2022-01-21T10:52:13.543Z"
   },
   {
    "duration": 1223,
    "start_time": "2022-01-21T11:01:07.551Z"
   },
   {
    "duration": 801,
    "start_time": "2022-01-21T11:01:16.790Z"
   },
   {
    "duration": 806,
    "start_time": "2022-01-21T11:01:21.285Z"
   },
   {
    "duration": 1063,
    "start_time": "2022-01-21T11:01:27.518Z"
   },
   {
    "duration": 814,
    "start_time": "2022-01-21T11:01:39.439Z"
   },
   {
    "duration": 786,
    "start_time": "2022-01-21T11:01:57.575Z"
   },
   {
    "duration": 757,
    "start_time": "2022-01-21T11:02:06.472Z"
   },
   {
    "duration": 1015,
    "start_time": "2022-01-21T11:02:12.832Z"
   },
   {
    "duration": 787,
    "start_time": "2022-01-21T11:02:22.863Z"
   },
   {
    "duration": 777,
    "start_time": "2022-01-21T11:02:28.072Z"
   },
   {
    "duration": 837,
    "start_time": "2022-01-21T11:04:46.363Z"
   },
   {
    "duration": 845,
    "start_time": "2022-01-21T11:04:58.162Z"
   },
   {
    "duration": 867,
    "start_time": "2022-01-21T11:05:11.423Z"
   },
   {
    "duration": 776,
    "start_time": "2022-01-21T11:05:19.586Z"
   },
   {
    "duration": 764,
    "start_time": "2022-01-21T11:05:22.978Z"
   },
   {
    "duration": 748,
    "start_time": "2022-01-21T11:10:53.258Z"
   },
   {
    "duration": 739,
    "start_time": "2022-01-21T11:10:58.654Z"
   },
   {
    "duration": 1084,
    "start_time": "2022-01-21T11:11:25.913Z"
   },
   {
    "duration": 1021,
    "start_time": "2022-01-21T11:11:28.352Z"
   },
   {
    "duration": 1006,
    "start_time": "2022-01-21T11:12:09.688Z"
   },
   {
    "duration": 685,
    "start_time": "2022-01-21T11:12:21.231Z"
   },
   {
    "duration": 753,
    "start_time": "2022-01-21T11:12:28.064Z"
   },
   {
    "duration": 645,
    "start_time": "2022-01-21T11:12:50.729Z"
   },
   {
    "duration": 651,
    "start_time": "2022-01-21T11:17:14.708Z"
   },
   {
    "duration": 580,
    "start_time": "2022-01-21T11:17:43.445Z"
   },
   {
    "duration": 1225,
    "start_time": "2022-01-21T11:51:40.169Z"
   },
   {
    "duration": 680,
    "start_time": "2022-01-21T11:52:08.258Z"
   },
   {
    "duration": 820,
    "start_time": "2022-01-21T11:52:39.938Z"
   },
   {
    "duration": 88,
    "start_time": "2022-01-21T11:53:35.659Z"
   },
   {
    "duration": 267,
    "start_time": "2022-01-21T11:53:44.291Z"
   },
   {
    "duration": 35,
    "start_time": "2022-01-21T11:54:01.003Z"
   },
   {
    "duration": 569,
    "start_time": "2022-01-21T11:54:43.237Z"
   },
   {
    "duration": 304,
    "start_time": "2022-01-21T11:55:08.941Z"
   },
   {
    "duration": 591,
    "start_time": "2022-01-21T11:56:15.485Z"
   },
   {
    "duration": 776,
    "start_time": "2022-01-21T11:56:59.512Z"
   },
   {
    "duration": 809,
    "start_time": "2022-01-21T11:57:15.998Z"
   },
   {
    "duration": 571,
    "start_time": "2022-01-21T11:57:22.182Z"
   },
   {
    "duration": 357,
    "start_time": "2022-01-21T12:01:09.938Z"
   },
   {
    "duration": 335,
    "start_time": "2022-01-21T12:01:18.073Z"
   },
   {
    "duration": 28,
    "start_time": "2022-01-21T12:01:43.522Z"
   },
   {
    "duration": 38,
    "start_time": "2022-01-21T12:02:10.436Z"
   },
   {
    "duration": 377,
    "start_time": "2022-01-21T12:02:39.075Z"
   },
   {
    "duration": 303,
    "start_time": "2022-01-21T12:03:06.850Z"
   },
   {
    "duration": 267,
    "start_time": "2022-01-21T12:03:14.755Z"
   },
   {
    "duration": 273,
    "start_time": "2022-01-21T12:03:22.747Z"
   },
   {
    "duration": 255,
    "start_time": "2022-01-21T12:03:30.268Z"
   },
   {
    "duration": 266,
    "start_time": "2022-01-21T12:04:51.645Z"
   },
   {
    "duration": 423,
    "start_time": "2022-01-21T12:05:37.734Z"
   },
   {
    "duration": 342,
    "start_time": "2022-01-21T12:06:00.913Z"
   },
   {
    "duration": 87,
    "start_time": "2022-01-21T12:10:16.946Z"
   },
   {
    "duration": 94,
    "start_time": "2022-01-21T12:11:33.930Z"
   },
   {
    "duration": 126,
    "start_time": "2022-01-21T12:11:59.779Z"
   },
   {
    "duration": 102,
    "start_time": "2022-01-21T12:12:20.610Z"
   },
   {
    "duration": 862,
    "start_time": "2022-01-21T12:15:52.453Z"
   },
   {
    "duration": 1005,
    "start_time": "2022-01-21T12:16:03.510Z"
   },
   {
    "duration": 28,
    "start_time": "2022-01-21T12:16:51.255Z"
   },
   {
    "duration": 360,
    "start_time": "2022-01-21T12:17:12.007Z"
   },
   {
    "duration": 360,
    "start_time": "2022-01-21T12:17:41.113Z"
   },
   {
    "duration": 952,
    "start_time": "2022-01-21T12:17:52.368Z"
   },
   {
    "duration": 432,
    "start_time": "2022-01-21T12:18:37.448Z"
   },
   {
    "duration": 253,
    "start_time": "2022-01-21T12:19:14.568Z"
   },
   {
    "duration": 252,
    "start_time": "2022-01-21T12:19:34.072Z"
   },
   {
    "duration": 242,
    "start_time": "2022-01-21T12:19:39.104Z"
   },
   {
    "duration": 245,
    "start_time": "2022-01-21T12:19:51.409Z"
   },
   {
    "duration": 227,
    "start_time": "2022-01-21T12:20:18.250Z"
   },
   {
    "duration": 233,
    "start_time": "2022-01-21T12:20:57.018Z"
   },
   {
    "duration": 225,
    "start_time": "2022-01-21T12:21:49.109Z"
   },
   {
    "duration": 481,
    "start_time": "2022-01-21T12:21:49.336Z"
   },
   {
    "duration": 268,
    "start_time": "2022-01-21T12:21:49.820Z"
   },
   {
    "duration": 242,
    "start_time": "2022-01-21T12:21:50.090Z"
   },
   {
    "duration": 792,
    "start_time": "2022-01-21T12:30:30.707Z"
   },
   {
    "duration": 89,
    "start_time": "2022-01-21T12:30:58.051Z"
   },
   {
    "duration": 129,
    "start_time": "2022-01-21T12:31:05.394Z"
   },
   {
    "duration": 26875,
    "start_time": "2022-01-21T12:31:12.098Z"
   },
   {
    "duration": 294,
    "start_time": "2022-01-21T12:35:32.758Z"
   },
   {
    "duration": 7309,
    "start_time": "2022-01-21T12:38:45.602Z"
   },
   {
    "duration": 1034,
    "start_time": "2022-01-21T12:39:06.515Z"
   },
   {
    "duration": 873,
    "start_time": "2022-01-21T12:39:24.433Z"
   },
   {
    "duration": 5818,
    "start_time": "2022-01-21T12:42:15.684Z"
   },
   {
    "duration": 6532,
    "start_time": "2022-01-21T12:42:37.580Z"
   },
   {
    "duration": 1142,
    "start_time": "2022-01-21T12:44:40.558Z"
   },
   {
    "duration": 101,
    "start_time": "2022-01-21T12:45:54.191Z"
   },
   {
    "duration": 99,
    "start_time": "2022-01-21T12:46:00.455Z"
   },
   {
    "duration": 3430,
    "start_time": "2022-01-21T12:46:07.378Z"
   },
   {
    "duration": 1317,
    "start_time": "2022-01-21T12:47:15.433Z"
   },
   {
    "duration": 568,
    "start_time": "2022-01-21T12:48:14.841Z"
   },
   {
    "duration": 40,
    "start_time": "2022-01-21T12:48:33.306Z"
   },
   {
    "duration": 37,
    "start_time": "2022-01-21T12:49:43.042Z"
   },
   {
    "duration": 305,
    "start_time": "2022-01-21T12:57:19.346Z"
   },
   {
    "duration": 5,
    "start_time": "2022-01-21T12:59:01.306Z"
   },
   {
    "duration": 281,
    "start_time": "2022-01-21T13:13:14.542Z"
   },
   {
    "duration": 280,
    "start_time": "2022-01-21T13:13:29.894Z"
   },
   {
    "duration": 29,
    "start_time": "2022-01-21T13:13:48.558Z"
   },
   {
    "duration": 7,
    "start_time": "2022-01-21T13:14:18.931Z"
   },
   {
    "duration": 18,
    "start_time": "2022-01-21T13:14:29.415Z"
   },
   {
    "duration": 20,
    "start_time": "2022-01-21T13:14:50.391Z"
   },
   {
    "duration": 1070,
    "start_time": "2022-01-21T13:16:01.945Z"
   },
   {
    "duration": 2650,
    "start_time": "2022-01-21T13:16:58.298Z"
   },
   {
    "duration": 280,
    "start_time": "2022-01-21T13:23:18.808Z"
   },
   {
    "duration": 1035,
    "start_time": "2022-01-21T13:23:25.598Z"
   },
   {
    "duration": 1172,
    "start_time": "2022-01-21T13:23:37.361Z"
   },
   {
    "duration": 102,
    "start_time": "2022-01-21T13:24:23.409Z"
   },
   {
    "duration": 1477,
    "start_time": "2022-01-21T13:24:30.999Z"
   },
   {
    "duration": 1145,
    "start_time": "2022-01-21T13:27:22.426Z"
   },
   {
    "duration": 1009,
    "start_time": "2022-01-21T13:28:23.499Z"
   },
   {
    "duration": 1063,
    "start_time": "2022-01-21T13:34:36.832Z"
   },
   {
    "duration": 262,
    "start_time": "2022-01-21T13:34:57.088Z"
   },
   {
    "duration": 18,
    "start_time": "2022-01-21T13:39:26.269Z"
   },
   {
    "duration": 91,
    "start_time": "2022-01-21T13:42:30.959Z"
   },
   {
    "duration": 83,
    "start_time": "2022-01-21T13:42:45.559Z"
   },
   {
    "duration": 34,
    "start_time": "2022-01-21T13:43:07.103Z"
   },
   {
    "duration": 235,
    "start_time": "2022-01-21T13:43:47.655Z"
   },
   {
    "duration": 237,
    "start_time": "2022-01-21T13:43:55.583Z"
   },
   {
    "duration": 1308,
    "start_time": "2022-01-21T13:55:39.763Z"
   },
   {
    "duration": 1127,
    "start_time": "2022-01-21T13:59:32.990Z"
   },
   {
    "duration": 1444,
    "start_time": "2022-01-21T14:00:03.094Z"
   },
   {
    "duration": 1028,
    "start_time": "2022-01-21T14:00:12.494Z"
   },
   {
    "duration": 1284,
    "start_time": "2022-01-21T14:01:10.167Z"
   },
   {
    "duration": 1227,
    "start_time": "2022-01-21T14:01:33.824Z"
   },
   {
    "duration": 1135,
    "start_time": "2022-01-21T14:02:28.600Z"
   },
   {
    "duration": 1010,
    "start_time": "2022-01-21T14:03:54.329Z"
   },
   {
    "duration": 971,
    "start_time": "2022-01-21T14:04:09.705Z"
   },
   {
    "duration": 1051,
    "start_time": "2022-01-21T14:04:22.930Z"
   },
   {
    "duration": 1396,
    "start_time": "2022-01-21T14:04:32.962Z"
   },
   {
    "duration": 1116,
    "start_time": "2022-01-21T14:04:41.429Z"
   },
   {
    "duration": 1230,
    "start_time": "2022-01-23T10:33:15.771Z"
   },
   {
    "duration": 54,
    "start_time": "2022-01-23T10:33:17.003Z"
   },
   {
    "duration": 10,
    "start_time": "2022-01-23T10:33:17.059Z"
   },
   {
    "duration": 25,
    "start_time": "2022-01-23T10:33:17.071Z"
   },
   {
    "duration": 23,
    "start_time": "2022-01-23T10:33:17.098Z"
   },
   {
    "duration": 17,
    "start_time": "2022-01-23T10:33:17.123Z"
   },
   {
    "duration": 18,
    "start_time": "2022-01-23T10:33:17.142Z"
   },
   {
    "duration": 14,
    "start_time": "2022-01-23T10:33:17.163Z"
   },
   {
    "duration": 30,
    "start_time": "2022-01-23T10:33:17.179Z"
   },
   {
    "duration": 395,
    "start_time": "2022-01-23T10:33:17.211Z"
   },
   {
    "duration": 299,
    "start_time": "2022-01-23T10:33:17.608Z"
   },
   {
    "duration": 377,
    "start_time": "2022-01-23T10:33:17.909Z"
   },
   {
    "duration": 25,
    "start_time": "2022-01-23T10:33:18.287Z"
   },
   {
    "duration": 383,
    "start_time": "2022-01-23T10:33:18.314Z"
   },
   {
    "duration": 614,
    "start_time": "2022-01-23T10:33:18.699Z"
   },
   {
    "duration": 480,
    "start_time": "2022-01-23T10:33:19.315Z"
   },
   {
    "duration": 85,
    "start_time": "2022-01-23T10:33:19.797Z"
   },
   {
    "duration": -34,
    "start_time": "2022-01-23T10:33:19.918Z"
   },
   {
    "duration": -36,
    "start_time": "2022-01-23T10:33:19.921Z"
   },
   {
    "duration": -39,
    "start_time": "2022-01-23T10:33:19.925Z"
   },
   {
    "duration": -41,
    "start_time": "2022-01-23T10:33:19.928Z"
   },
   {
    "duration": -44,
    "start_time": "2022-01-23T10:33:19.932Z"
   },
   {
    "duration": -47,
    "start_time": "2022-01-23T10:33:19.936Z"
   },
   {
    "duration": -49,
    "start_time": "2022-01-23T10:33:19.939Z"
   },
   {
    "duration": -51,
    "start_time": "2022-01-23T10:33:19.942Z"
   },
   {
    "duration": -53,
    "start_time": "2022-01-23T10:33:19.945Z"
   },
   {
    "duration": 391,
    "start_time": "2022-01-23T10:33:55.973Z"
   },
   {
    "duration": 503,
    "start_time": "2022-01-23T10:33:56.366Z"
   },
   {
    "duration": 356,
    "start_time": "2022-01-23T10:33:56.871Z"
   },
   {
    "duration": 501,
    "start_time": "2022-01-23T10:33:57.229Z"
   },
   {
    "duration": 150,
    "start_time": "2022-01-23T10:33:57.732Z"
   },
   {
    "duration": 294,
    "start_time": "2022-01-23T10:33:57.884Z"
   },
   {
    "duration": 231,
    "start_time": "2022-01-23T10:33:58.180Z"
   },
   {
    "duration": 148,
    "start_time": "2022-01-23T10:33:58.414Z"
   },
   {
    "duration": 781,
    "start_time": "2022-01-23T10:33:58.564Z"
   },
   {
    "duration": 19,
    "start_time": "2022-01-23T10:33:59.347Z"
   },
   {
    "duration": 655,
    "start_time": "2022-01-23T10:39:26.519Z"
   },
   {
    "duration": 680,
    "start_time": "2022-01-23T10:40:16.802Z"
   },
   {
    "duration": 803,
    "start_time": "2022-01-23T10:40:29.324Z"
   },
   {
    "duration": 13,
    "start_time": "2022-01-23T10:40:47.418Z"
   },
   {
    "duration": 744,
    "start_time": "2022-01-23T10:45:06.536Z"
   },
   {
    "duration": 11,
    "start_time": "2022-01-23T10:45:09.357Z"
   },
   {
    "duration": 1047,
    "start_time": "2022-01-23T10:47:49.526Z"
   },
   {
    "duration": 1089,
    "start_time": "2022-01-23T10:48:05.895Z"
   },
   {
    "duration": 295,
    "start_time": "2022-01-23T10:49:12.084Z"
   },
   {
    "duration": 290,
    "start_time": "2022-01-23T10:50:33.739Z"
   },
   {
    "duration": 502,
    "start_time": "2022-01-23T10:53:15.196Z"
   },
   {
    "duration": 508,
    "start_time": "2022-01-23T10:54:00.932Z"
   },
   {
    "duration": 371,
    "start_time": "2022-01-23T10:54:09.706Z"
   },
   {
    "duration": 494,
    "start_time": "2022-01-23T10:54:15.998Z"
   },
   {
    "duration": 6,
    "start_time": "2022-01-23T11:09:52.262Z"
   },
   {
    "duration": 602,
    "start_time": "2022-01-23T11:13:28.892Z"
   },
   {
    "duration": 1047,
    "start_time": "2022-01-23T11:15:07.025Z"
   },
   {
    "duration": 1021,
    "start_time": "2022-01-23T11:15:22.621Z"
   },
   {
    "duration": 985,
    "start_time": "2022-01-23T11:15:38.978Z"
   },
   {
    "duration": 1003,
    "start_time": "2022-01-23T11:15:52.075Z"
   },
   {
    "duration": 706,
    "start_time": "2022-01-23T11:16:14.215Z"
   },
   {
    "duration": 1070,
    "start_time": "2022-01-23T11:16:23.877Z"
   },
   {
    "duration": 1087,
    "start_time": "2022-01-23T11:16:37.516Z"
   },
   {
    "duration": 1009,
    "start_time": "2022-01-23T11:16:45.653Z"
   },
   {
    "duration": 1005,
    "start_time": "2022-01-23T11:17:06.288Z"
   },
   {
    "duration": 994,
    "start_time": "2022-01-23T11:17:15.968Z"
   },
   {
    "duration": 1134,
    "start_time": "2022-01-23T11:17:25.747Z"
   },
   {
    "duration": 265,
    "start_time": "2022-01-23T11:30:41.763Z"
   },
   {
    "duration": 300,
    "start_time": "2022-01-23T11:31:00.698Z"
   },
   {
    "duration": 438,
    "start_time": "2022-01-23T11:31:48.900Z"
   },
   {
    "duration": 7250,
    "start_time": "2022-01-23T11:32:48.682Z"
   },
   {
    "duration": 486,
    "start_time": "2022-01-23T11:33:44.090Z"
   },
   {
    "duration": 457,
    "start_time": "2022-01-23T11:33:50.155Z"
   },
   {
    "duration": 626,
    "start_time": "2022-01-23T11:33:57.377Z"
   },
   {
    "duration": 507,
    "start_time": "2022-01-23T11:34:03.991Z"
   },
   {
    "duration": 339,
    "start_time": "2022-01-23T11:35:38.706Z"
   },
   {
    "duration": 15391,
    "start_time": "2022-01-23T11:36:18.376Z"
   },
   {
    "duration": -45,
    "start_time": "2022-01-23T11:37:20.081Z"
   },
   {
    "duration": 29754,
    "start_time": "2022-01-23T11:41:11.622Z"
   },
   {
    "duration": 443,
    "start_time": "2022-01-23T11:43:19.223Z"
   },
   {
    "duration": 24,
    "start_time": "2022-01-23T11:46:28.911Z"
   },
   {
    "duration": 373,
    "start_time": "2022-01-23T11:46:56.007Z"
   },
   {
    "duration": 286,
    "start_time": "2022-01-23T11:47:07.703Z"
   },
   {
    "duration": 917,
    "start_time": "2022-01-23T11:53:01.176Z"
   },
   {
    "duration": 574,
    "start_time": "2022-01-23T11:53:09.192Z"
   },
   {
    "duration": 630,
    "start_time": "2022-01-23T11:53:49.254Z"
   },
   {
    "duration": 551,
    "start_time": "2022-01-23T11:54:13.928Z"
   },
   {
    "duration": 824,
    "start_time": "2022-01-23T11:54:19.581Z"
   },
   {
    "duration": 2123,
    "start_time": "2022-01-23T11:54:30.566Z"
   },
   {
    "duration": 1264,
    "start_time": "2022-01-23T11:54:43.372Z"
   },
   {
    "duration": 584,
    "start_time": "2022-01-23T11:54:53.516Z"
   },
   {
    "duration": 631,
    "start_time": "2022-01-23T11:55:02.333Z"
   },
   {
    "duration": 915,
    "start_time": "2022-01-23T11:55:08.030Z"
   },
   {
    "duration": 1133,
    "start_time": "2022-01-23T11:57:00.406Z"
   },
   {
    "duration": 1051,
    "start_time": "2022-01-23T11:57:08.993Z"
   },
   {
    "duration": 1045,
    "start_time": "2022-01-23T11:57:14.626Z"
   },
   {
    "duration": 1223,
    "start_time": "2022-01-23T11:58:00.132Z"
   },
   {
    "duration": 1008,
    "start_time": "2022-01-23T11:59:13.617Z"
   },
   {
    "duration": 958,
    "start_time": "2022-01-23T11:59:28.860Z"
   },
   {
    "duration": 489,
    "start_time": "2022-01-23T11:59:54.044Z"
   },
   {
    "duration": 536,
    "start_time": "2022-01-23T12:00:06.908Z"
   },
   {
    "duration": 472,
    "start_time": "2022-01-23T12:04:12.170Z"
   },
   {
    "duration": 686,
    "start_time": "2022-01-23T12:06:14.701Z"
   },
   {
    "duration": 1073,
    "start_time": "2022-01-23T12:06:55.656Z"
   },
   {
    "duration": 612,
    "start_time": "2022-01-23T12:07:16.333Z"
   },
   {
    "duration": 763,
    "start_time": "2022-01-23T12:07:32.106Z"
   },
   {
    "duration": 773,
    "start_time": "2022-01-23T12:08:49.680Z"
   },
   {
    "duration": 1083,
    "start_time": "2022-01-23T12:09:08.311Z"
   },
   {
    "duration": 765,
    "start_time": "2022-01-23T12:09:19.780Z"
   },
   {
    "duration": 2632,
    "start_time": "2022-01-23T12:09:59.636Z"
   },
   {
    "duration": 1034,
    "start_time": "2022-01-23T12:10:11.406Z"
   },
   {
    "duration": 751,
    "start_time": "2022-01-23T12:10:16.972Z"
   },
   {
    "duration": 500,
    "start_time": "2022-01-23T12:10:30.264Z"
   },
   {
    "duration": 492,
    "start_time": "2022-01-23T12:10:55.854Z"
   },
   {
    "duration": 987,
    "start_time": "2022-01-23T12:11:28.627Z"
   },
   {
    "duration": 644,
    "start_time": "2022-01-23T12:12:33.443Z"
   },
   {
    "duration": 517,
    "start_time": "2022-01-23T12:14:21.262Z"
   },
   {
    "duration": 1197,
    "start_time": "2022-01-23T12:14:33.213Z"
   },
   {
    "duration": 1081,
    "start_time": "2022-01-23T12:14:46.557Z"
   },
   {
    "duration": 537,
    "start_time": "2022-01-23T12:14:56.159Z"
   },
   {
    "duration": 637,
    "start_time": "2022-01-23T12:15:30.737Z"
   },
   {
    "duration": 828,
    "start_time": "2022-01-23T12:16:32.780Z"
   },
   {
    "duration": 769,
    "start_time": "2022-01-23T12:16:44.041Z"
   },
   {
    "duration": 631,
    "start_time": "2022-01-23T12:16:57.032Z"
   },
   {
    "duration": 660,
    "start_time": "2022-01-23T12:17:03.638Z"
   },
   {
    "duration": 1002,
    "start_time": "2022-01-23T12:17:50.011Z"
   },
   {
    "duration": 1144,
    "start_time": "2022-01-23T12:19:55.139Z"
   },
   {
    "duration": 463,
    "start_time": "2022-01-23T12:20:52.116Z"
   },
   {
    "duration": 6,
    "start_time": "2022-01-23T12:28:13.744Z"
   },
   {
    "duration": 370,
    "start_time": "2022-01-23T12:31:08.980Z"
   },
   {
    "duration": 378,
    "start_time": "2022-01-23T12:31:25.197Z"
   },
   {
    "duration": 631,
    "start_time": "2022-01-23T12:31:37.319Z"
   },
   {
    "duration": 1514,
    "start_time": "2022-01-23T12:37:12.953Z"
   },
   {
    "duration": 1297,
    "start_time": "2022-01-23T12:37:33.005Z"
   },
   {
    "duration": 907,
    "start_time": "2022-01-23T12:52:36.163Z"
   },
   {
    "duration": 1075,
    "start_time": "2022-01-23T12:52:55.945Z"
   },
   {
    "duration": 406,
    "start_time": "2022-01-23T13:07:50.969Z"
   },
   {
    "duration": 478,
    "start_time": "2022-01-23T13:08:02.145Z"
   },
   {
    "duration": 1221,
    "start_time": "2022-01-23T13:09:31.763Z"
   },
   {
    "duration": 616,
    "start_time": "2022-01-23T13:09:47.640Z"
   },
   {
    "duration": 389,
    "start_time": "2022-01-23T13:17:20.946Z"
   },
   {
    "duration": 1181,
    "start_time": "2022-01-23T13:44:53.315Z"
   },
   {
    "duration": 54,
    "start_time": "2022-01-23T13:44:54.498Z"
   },
   {
    "duration": 10,
    "start_time": "2022-01-23T13:44:54.555Z"
   },
   {
    "duration": 6782,
    "start_time": "2022-01-23T13:44:54.567Z"
   },
   {
    "duration": -145,
    "start_time": "2022-01-23T13:45:01.496Z"
   },
   {
    "duration": -148,
    "start_time": "2022-01-23T13:45:01.500Z"
   },
   {
    "duration": -152,
    "start_time": "2022-01-23T13:45:01.505Z"
   },
   {
    "duration": -165,
    "start_time": "2022-01-23T13:45:01.519Z"
   },
   {
    "duration": -179,
    "start_time": "2022-01-23T13:45:01.534Z"
   },
   {
    "duration": -193,
    "start_time": "2022-01-23T13:45:01.549Z"
   },
   {
    "duration": -198,
    "start_time": "2022-01-23T13:45:01.555Z"
   },
   {
    "duration": -211,
    "start_time": "2022-01-23T13:45:01.569Z"
   },
   {
    "duration": -217,
    "start_time": "2022-01-23T13:45:01.576Z"
   },
   {
    "duration": -220,
    "start_time": "2022-01-23T13:45:01.580Z"
   },
   {
    "duration": -222,
    "start_time": "2022-01-23T13:45:01.583Z"
   },
   {
    "duration": -228,
    "start_time": "2022-01-23T13:45:01.590Z"
   },
   {
    "duration": -230,
    "start_time": "2022-01-23T13:45:01.593Z"
   },
   {
    "duration": -234,
    "start_time": "2022-01-23T13:45:01.598Z"
   },
   {
    "duration": -237,
    "start_time": "2022-01-23T13:45:01.602Z"
   },
   {
    "duration": -240,
    "start_time": "2022-01-23T13:45:01.606Z"
   },
   {
    "duration": -243,
    "start_time": "2022-01-23T13:45:01.610Z"
   },
   {
    "duration": -245,
    "start_time": "2022-01-23T13:45:01.613Z"
   },
   {
    "duration": -246,
    "start_time": "2022-01-23T13:45:01.615Z"
   },
   {
    "duration": -250,
    "start_time": "2022-01-23T13:45:01.620Z"
   },
   {
    "duration": -252,
    "start_time": "2022-01-23T13:45:01.622Z"
   },
   {
    "duration": -255,
    "start_time": "2022-01-23T13:45:01.626Z"
   },
   {
    "duration": -257,
    "start_time": "2022-01-23T13:45:01.629Z"
   },
   {
    "duration": -260,
    "start_time": "2022-01-23T13:45:01.633Z"
   },
   {
    "duration": -263,
    "start_time": "2022-01-23T13:45:01.637Z"
   },
   {
    "duration": -268,
    "start_time": "2022-01-23T13:45:01.643Z"
   },
   {
    "duration": -272,
    "start_time": "2022-01-23T13:45:01.648Z"
   },
   {
    "duration": -275,
    "start_time": "2022-01-23T13:45:01.652Z"
   },
   {
    "duration": -276,
    "start_time": "2022-01-23T13:45:01.654Z"
   },
   {
    "duration": -278,
    "start_time": "2022-01-23T13:45:01.657Z"
   },
   {
    "duration": 17,
    "start_time": "2022-01-23T13:46:50.065Z"
   },
   {
    "duration": 6,
    "start_time": "2022-01-23T13:46:56.415Z"
   },
   {
    "duration": 19,
    "start_time": "2022-01-23T13:46:56.423Z"
   },
   {
    "duration": 4,
    "start_time": "2022-01-23T13:46:56.444Z"
   },
   {
    "duration": 11,
    "start_time": "2022-01-23T13:46:56.450Z"
   },
   {
    "duration": 11,
    "start_time": "2022-01-23T13:46:56.463Z"
   },
   {
    "duration": 10,
    "start_time": "2022-01-23T13:46:56.475Z"
   },
   {
    "duration": 16,
    "start_time": "2022-01-23T13:46:56.487Z"
   },
   {
    "duration": 421,
    "start_time": "2022-01-23T13:46:56.504Z"
   },
   {
    "duration": 285,
    "start_time": "2022-01-23T13:46:56.928Z"
   },
   {
    "duration": 341,
    "start_time": "2022-01-23T13:46:57.215Z"
   },
   {
    "duration": 26,
    "start_time": "2022-01-23T13:46:57.560Z"
   },
   {
    "duration": 353,
    "start_time": "2022-01-23T13:46:57.588Z"
   },
   {
    "duration": 598,
    "start_time": "2022-01-23T13:46:57.942Z"
   },
   {
    "duration": 469,
    "start_time": "2022-01-23T13:46:58.542Z"
   },
   {
    "duration": 504,
    "start_time": "2022-01-23T13:46:59.013Z"
   },
   {
    "duration": 537,
    "start_time": "2022-01-23T13:46:59.519Z"
   },
   {
    "duration": 354,
    "start_time": "2022-01-23T13:47:00.060Z"
   },
   {
    "duration": 483,
    "start_time": "2022-01-23T13:47:00.416Z"
   },
   {
    "duration": 160,
    "start_time": "2022-01-23T13:47:00.900Z"
   },
   {
    "duration": 148,
    "start_time": "2022-01-23T13:47:01.062Z"
   },
   {
    "duration": 148,
    "start_time": "2022-01-23T13:47:01.212Z"
   },
   {
    "duration": 151,
    "start_time": "2022-01-23T13:47:01.362Z"
   },
   {
    "duration": 831,
    "start_time": "2022-01-23T13:47:01.515Z"
   },
   {
    "duration": 22,
    "start_time": "2022-01-23T13:47:02.349Z"
   },
   {
    "duration": 710,
    "start_time": "2022-01-23T13:47:02.373Z"
   },
   {
    "duration": 11,
    "start_time": "2022-01-23T13:47:03.087Z"
   },
   {
    "duration": 508,
    "start_time": "2022-01-23T13:47:03.099Z"
   },
   {
    "duration": 977,
    "start_time": "2022-01-23T13:47:03.610Z"
   },
   {
    "duration": 635,
    "start_time": "2022-01-23T13:47:04.589Z"
   },
   {
    "duration": 485,
    "start_time": "2022-01-23T13:47:05.226Z"
   },
   {
    "duration": 15,
    "start_time": "2022-01-23T13:47:05.713Z"
   },
   {
    "duration": 397,
    "start_time": "2022-01-23T13:47:37.396Z"
   },
   {
    "duration": 91,
    "start_time": "2022-01-23T14:00:27.721Z"
   },
   {
    "duration": 16,
    "start_time": "2022-01-23T14:00:32.861Z"
   },
   {
    "duration": 6270,
    "start_time": "2022-01-23T14:02:59.353Z"
   },
   {
    "duration": 361,
    "start_time": "2022-01-23T14:03:19.450Z"
   },
   {
    "duration": 987,
    "start_time": "2022-01-23T14:04:06.641Z"
   },
   {
    "duration": 1038,
    "start_time": "2022-01-23T14:04:10.725Z"
   },
   {
    "duration": 304,
    "start_time": "2022-01-23T14:20:22.936Z"
   },
   {
    "duration": 397,
    "start_time": "2022-01-23T14:20:27.916Z"
   },
   {
    "duration": 6824,
    "start_time": "2022-01-23T14:22:24.639Z"
   },
   {
    "duration": 357,
    "start_time": "2022-01-23T14:22:47.104Z"
   },
   {
    "duration": 505,
    "start_time": "2022-01-23T14:28:57.949Z"
   },
   {
    "duration": 533,
    "start_time": "2022-01-23T14:29:14.132Z"
   },
   {
    "duration": 512,
    "start_time": "2022-01-23T14:29:21.833Z"
   },
   {
    "duration": 301,
    "start_time": "2022-01-23T14:30:21.917Z"
   },
   {
    "duration": 276,
    "start_time": "2022-01-23T14:34:00.653Z"
   },
   {
    "duration": 257,
    "start_time": "2022-01-23T14:35:32.899Z"
   },
   {
    "duration": 259,
    "start_time": "2022-01-23T14:35:42.070Z"
   },
   {
    "duration": 141,
    "start_time": "2022-01-23T14:40:53.165Z"
   },
   {
    "duration": 237,
    "start_time": "2022-01-23T14:41:03.173Z"
   },
   {
    "duration": 153,
    "start_time": "2022-01-23T14:41:08.694Z"
   },
   {
    "duration": 142,
    "start_time": "2022-01-23T14:41:14.193Z"
   },
   {
    "duration": 655,
    "start_time": "2022-01-23T14:44:17.632Z"
   },
   {
    "duration": 653,
    "start_time": "2022-01-23T14:44:47.380Z"
   },
   {
    "duration": 618,
    "start_time": "2022-01-23T14:44:59.347Z"
   },
   {
    "duration": 13,
    "start_time": "2022-01-23T14:45:22.132Z"
   },
   {
    "duration": 628,
    "start_time": "2022-01-23T14:55:57.013Z"
   },
   {
    "duration": 11,
    "start_time": "2022-01-23T14:56:09.308Z"
   },
   {
    "duration": 596,
    "start_time": "2022-01-23T14:59:33.195Z"
   },
   {
    "duration": 859,
    "start_time": "2022-01-23T15:08:25.804Z"
   },
   {
    "duration": 618,
    "start_time": "2022-01-23T15:25:54.389Z"
   },
   {
    "duration": 71,
    "start_time": "2022-01-23T15:36:31.057Z"
   },
   {
    "duration": 62,
    "start_time": "2022-01-23T15:36:43.676Z"
   },
   {
    "duration": 414,
    "start_time": "2022-01-23T15:37:03.276Z"
   },
   {
    "duration": 7,
    "start_time": "2022-01-23T15:49:03.158Z"
   },
   {
    "duration": 10,
    "start_time": "2022-01-23T15:50:29.051Z"
   },
   {
    "duration": 105,
    "start_time": "2022-01-23T15:56:15.441Z"
   },
   {
    "duration": 265,
    "start_time": "2022-01-23T15:56:24.366Z"
   },
   {
    "duration": 4,
    "start_time": "2022-01-23T15:57:27.758Z"
   },
   {
    "duration": 19,
    "start_time": "2022-01-23T15:57:33.358Z"
   },
   {
    "duration": 89,
    "start_time": "2022-01-23T15:59:29.221Z"
   },
   {
    "duration": 261,
    "start_time": "2022-01-23T15:59:57.796Z"
   },
   {
    "duration": 12,
    "start_time": "2022-01-23T16:05:10.593Z"
   },
   {
    "duration": 11,
    "start_time": "2022-01-23T16:06:00.592Z"
   },
   {
    "duration": 13,
    "start_time": "2022-01-23T16:06:14.772Z"
   },
   {
    "duration": 12,
    "start_time": "2022-01-23T16:24:07.582Z"
   },
   {
    "duration": 14,
    "start_time": "2022-01-23T16:25:25.139Z"
   },
   {
    "duration": 13,
    "start_time": "2022-01-23T16:25:43.399Z"
   },
   {
    "duration": 13,
    "start_time": "2022-01-23T16:26:02.420Z"
   },
   {
    "duration": 14,
    "start_time": "2022-01-23T16:26:24.178Z"
   },
   {
    "duration": 12,
    "start_time": "2022-01-23T16:26:27.170Z"
   },
   {
    "duration": 12,
    "start_time": "2022-01-23T16:28:20.372Z"
   },
   {
    "duration": 13,
    "start_time": "2022-01-23T16:28:21.856Z"
   },
   {
    "duration": 12,
    "start_time": "2022-01-23T16:38:18.828Z"
   },
   {
    "duration": 14,
    "start_time": "2022-01-23T16:39:54.865Z"
   },
   {
    "duration": 11,
    "start_time": "2022-01-23T16:47:52.607Z"
   },
   {
    "duration": 12,
    "start_time": "2022-01-23T16:47:58.184Z"
   },
   {
    "duration": 13,
    "start_time": "2022-01-23T16:48:45.527Z"
   },
   {
    "duration": 16,
    "start_time": "2022-01-23T16:48:49.477Z"
   },
   {
    "duration": 1206,
    "start_time": "2022-01-23T16:51:35.133Z"
   },
   {
    "duration": 52,
    "start_time": "2022-01-23T16:51:36.341Z"
   },
   {
    "duration": 10,
    "start_time": "2022-01-23T16:51:36.396Z"
   },
   {
    "duration": 12,
    "start_time": "2022-01-23T16:51:36.408Z"
   },
   {
    "duration": 20,
    "start_time": "2022-01-23T16:51:36.422Z"
   },
   {
    "duration": 5,
    "start_time": "2022-01-23T16:51:36.443Z"
   },
   {
    "duration": 5,
    "start_time": "2022-01-23T16:51:36.460Z"
   },
   {
    "duration": 5,
    "start_time": "2022-01-23T16:51:36.468Z"
   },
   {
    "duration": 7,
    "start_time": "2022-01-23T16:51:36.475Z"
   },
   {
    "duration": 22,
    "start_time": "2022-01-23T16:51:36.485Z"
   },
   {
    "duration": 626,
    "start_time": "2022-01-23T16:51:36.509Z"
   },
   {
    "duration": 362,
    "start_time": "2022-01-23T16:51:37.137Z"
   },
   {
    "duration": 29,
    "start_time": "2022-01-23T16:51:37.502Z"
   },
   {
    "duration": 406,
    "start_time": "2022-01-23T16:51:37.534Z"
   },
   {
    "duration": 634,
    "start_time": "2022-01-23T16:51:37.943Z"
   },
   {
    "duration": 425,
    "start_time": "2022-01-23T16:51:38.579Z"
   },
   {
    "duration": 408,
    "start_time": "2022-01-23T16:51:39.006Z"
   },
   {
    "duration": 546,
    "start_time": "2022-01-23T16:51:39.416Z"
   },
   {
    "duration": 424,
    "start_time": "2022-01-23T16:51:39.964Z"
   },
   {
    "duration": 389,
    "start_time": "2022-01-23T16:51:40.390Z"
   },
   {
    "duration": 290,
    "start_time": "2022-01-23T16:51:40.782Z"
   },
   {
    "duration": 167,
    "start_time": "2022-01-23T16:51:41.075Z"
   },
   {
    "duration": 145,
    "start_time": "2022-01-23T16:51:41.244Z"
   },
   {
    "duration": 152,
    "start_time": "2022-01-23T16:51:41.391Z"
   },
   {
    "duration": 160,
    "start_time": "2022-01-23T16:51:41.545Z"
   },
   {
    "duration": 258,
    "start_time": "2022-01-23T16:51:41.708Z"
   },
   {
    "duration": 703,
    "start_time": "2022-01-23T16:51:41.969Z"
   },
   {
    "duration": 15,
    "start_time": "2022-01-23T16:51:42.674Z"
   },
   {
    "duration": 680,
    "start_time": "2022-01-23T16:51:42.691Z"
   },
   {
    "duration": 13,
    "start_time": "2022-01-23T16:51:43.372Z"
   },
   {
    "duration": 566,
    "start_time": "2022-01-23T16:51:43.387Z"
   },
   {
    "duration": 836,
    "start_time": "2022-01-23T16:51:43.955Z"
   },
   {
    "duration": 739,
    "start_time": "2022-01-23T16:51:44.793Z"
   },
   {
    "duration": 83,
    "start_time": "2022-01-23T16:51:45.534Z"
   },
   {
    "duration": -75,
    "start_time": "2022-01-23T16:51:45.694Z"
   },
   {
    "duration": -77,
    "start_time": "2022-01-23T16:51:45.697Z"
   },
   {
    "duration": -77,
    "start_time": "2022-01-23T16:51:45.699Z"
   },
   {
    "duration": -79,
    "start_time": "2022-01-23T16:51:45.701Z"
   },
   {
    "duration": -80,
    "start_time": "2022-01-23T16:51:45.704Z"
   },
   {
    "duration": 1125,
    "start_time": "2022-01-24T06:42:33.382Z"
   },
   {
    "duration": 55,
    "start_time": "2022-01-24T06:42:34.509Z"
   },
   {
    "duration": 10,
    "start_time": "2022-01-24T06:42:34.566Z"
   },
   {
    "duration": 20,
    "start_time": "2022-01-24T06:42:34.578Z"
   },
   {
    "duration": 46,
    "start_time": "2022-01-24T06:42:34.600Z"
   },
   {
    "duration": 4,
    "start_time": "2022-01-24T06:42:34.648Z"
   },
   {
    "duration": 20,
    "start_time": "2022-01-24T06:42:34.653Z"
   },
   {
    "duration": 34,
    "start_time": "2022-01-24T06:42:34.676Z"
   },
   {
    "duration": 13,
    "start_time": "2022-01-24T06:42:34.712Z"
   },
   {
    "duration": 61,
    "start_time": "2022-01-24T06:42:34.727Z"
   },
   {
    "duration": 403,
    "start_time": "2022-01-24T06:42:34.789Z"
   },
   {
    "duration": 351,
    "start_time": "2022-01-24T06:42:35.194Z"
   },
   {
    "duration": 39,
    "start_time": "2022-01-24T06:42:35.547Z"
   },
   {
    "duration": 375,
    "start_time": "2022-01-24T06:42:35.588Z"
   },
   {
    "duration": 628,
    "start_time": "2022-01-24T06:42:35.965Z"
   },
   {
    "duration": 471,
    "start_time": "2022-01-24T06:42:36.595Z"
   },
   {
    "duration": 477,
    "start_time": "2022-01-24T06:42:37.069Z"
   },
   {
    "duration": 492,
    "start_time": "2022-01-24T06:42:37.548Z"
   },
   {
    "duration": 285,
    "start_time": "2022-01-24T06:42:38.043Z"
   },
   {
    "duration": 424,
    "start_time": "2022-01-24T06:42:38.330Z"
   },
   {
    "duration": 249,
    "start_time": "2022-01-24T06:42:38.756Z"
   },
   {
    "duration": 163,
    "start_time": "2022-01-24T06:42:39.007Z"
   },
   {
    "duration": 147,
    "start_time": "2022-01-24T06:42:39.174Z"
   },
   {
    "duration": 150,
    "start_time": "2022-01-24T06:42:39.323Z"
   },
   {
    "duration": 153,
    "start_time": "2022-01-24T06:42:39.475Z"
   },
   {
    "duration": 239,
    "start_time": "2022-01-24T06:42:39.630Z"
   },
   {
    "duration": 666,
    "start_time": "2022-01-24T06:42:39.871Z"
   },
   {
    "duration": 22,
    "start_time": "2022-01-24T06:42:40.539Z"
   },
   {
    "duration": 697,
    "start_time": "2022-01-24T06:42:40.563Z"
   },
   {
    "duration": 13,
    "start_time": "2022-01-24T06:42:41.262Z"
   },
   {
    "duration": 532,
    "start_time": "2022-01-24T06:42:41.277Z"
   },
   {
    "duration": 1075,
    "start_time": "2022-01-24T06:42:41.811Z"
   },
   {
    "duration": 723,
    "start_time": "2022-01-24T06:42:42.888Z"
   },
   {
    "duration": 96,
    "start_time": "2022-01-24T06:42:43.613Z"
   },
   {
    "duration": 588,
    "start_time": "2022-01-24T06:42:43.124Z"
   },
   {
    "duration": 587,
    "start_time": "2022-01-24T06:42:43.126Z"
   },
   {
    "duration": 587,
    "start_time": "2022-01-24T06:42:43.128Z"
   },
   {
    "duration": 587,
    "start_time": "2022-01-24T06:42:43.130Z"
   },
   {
    "duration": 586,
    "start_time": "2022-01-24T06:42:43.132Z"
   },
   {
    "duration": 277,
    "start_time": "2022-01-24T06:46:55.078Z"
   },
   {
    "duration": 349,
    "start_time": "2022-01-24T06:47:35.870Z"
   },
   {
    "duration": 359,
    "start_time": "2022-01-24T06:47:39.278Z"
   },
   {
    "duration": 226,
    "start_time": "2022-01-24T06:47:50.415Z"
   },
   {
    "duration": 148,
    "start_time": "2022-01-24T06:56:19.876Z"
   },
   {
    "duration": 145,
    "start_time": "2022-01-24T06:56:27.102Z"
   },
   {
    "duration": 145,
    "start_time": "2022-01-24T06:56:47.558Z"
   },
   {
    "duration": 143,
    "start_time": "2022-01-24T06:58:21.143Z"
   },
   {
    "duration": 634,
    "start_time": "2022-01-24T07:01:21.979Z"
   },
   {
    "duration": 19,
    "start_time": "2022-01-24T07:01:31.802Z"
   },
   {
    "duration": 687,
    "start_time": "2022-01-24T07:05:00.622Z"
   },
   {
    "duration": 11,
    "start_time": "2022-01-24T07:05:04.404Z"
   },
   {
    "duration": 524,
    "start_time": "2022-01-24T07:06:06.830Z"
   },
   {
    "duration": 843,
    "start_time": "2022-01-24T07:09:31.201Z"
   },
   {
    "duration": 629,
    "start_time": "2022-01-24T07:22:29.358Z"
   },
   {
    "duration": 31,
    "start_time": "2022-01-24T07:46:32.617Z"
   },
   {
    "duration": 30,
    "start_time": "2022-01-24T07:46:45.785Z"
   },
   {
    "duration": 393,
    "start_time": "2022-01-24T07:46:59.504Z"
   },
   {
    "duration": 383,
    "start_time": "2022-01-24T07:47:18.009Z"
   },
   {
    "duration": 10,
    "start_time": "2022-01-24T07:52:39.661Z"
   },
   {
    "duration": 384,
    "start_time": "2022-01-24T07:55:37.744Z"
   },
   {
    "duration": 13,
    "start_time": "2022-01-24T07:56:02.801Z"
   },
   {
    "duration": 12,
    "start_time": "2022-01-24T07:56:36.289Z"
   },
   {
    "duration": 12,
    "start_time": "2022-01-24T07:57:08.010Z"
   },
   {
    "duration": 13,
    "start_time": "2022-01-24T07:57:11.233Z"
   },
   {
    "duration": 1145,
    "start_time": "2022-01-24T08:35:09.676Z"
   },
   {
    "duration": 66,
    "start_time": "2022-01-24T08:35:10.823Z"
   },
   {
    "duration": 11,
    "start_time": "2022-01-24T08:35:10.892Z"
   },
   {
    "duration": 34,
    "start_time": "2022-01-24T08:35:10.904Z"
   },
   {
    "duration": 47,
    "start_time": "2022-01-24T08:35:10.940Z"
   },
   {
    "duration": 17,
    "start_time": "2022-01-24T08:35:10.989Z"
   },
   {
    "duration": 39,
    "start_time": "2022-01-24T08:35:11.008Z"
   },
   {
    "duration": 39,
    "start_time": "2022-01-24T08:35:11.050Z"
   },
   {
    "duration": 31,
    "start_time": "2022-01-24T08:35:11.092Z"
   },
   {
    "duration": 50,
    "start_time": "2022-01-24T08:35:11.125Z"
   },
   {
    "duration": 457,
    "start_time": "2022-01-24T08:35:11.177Z"
   },
   {
    "duration": 358,
    "start_time": "2022-01-24T08:35:11.636Z"
   },
   {
    "duration": 27,
    "start_time": "2022-01-24T08:35:11.996Z"
   },
   {
    "duration": 375,
    "start_time": "2022-01-24T08:35:12.025Z"
   },
   {
    "duration": 633,
    "start_time": "2022-01-24T08:35:12.402Z"
   },
   {
    "duration": 471,
    "start_time": "2022-01-24T08:35:13.037Z"
   },
   {
    "duration": 429,
    "start_time": "2022-01-24T08:35:13.510Z"
   },
   {
    "duration": 525,
    "start_time": "2022-01-24T08:35:13.941Z"
   },
   {
    "duration": 286,
    "start_time": "2022-01-24T08:35:14.467Z"
   },
   {
    "duration": 410,
    "start_time": "2022-01-24T08:35:14.755Z"
   },
   {
    "duration": 253,
    "start_time": "2022-01-24T08:35:15.166Z"
   },
   {
    "duration": 159,
    "start_time": "2022-01-24T08:35:15.421Z"
   },
   {
    "duration": 166,
    "start_time": "2022-01-24T08:35:15.583Z"
   },
   {
    "duration": 165,
    "start_time": "2022-01-24T08:35:15.751Z"
   },
   {
    "duration": 165,
    "start_time": "2022-01-24T08:35:15.917Z"
   },
   {
    "duration": 742,
    "start_time": "2022-01-24T08:35:16.085Z"
   },
   {
    "duration": 14,
    "start_time": "2022-01-24T08:35:16.829Z"
   },
   {
    "duration": 675,
    "start_time": "2022-01-24T08:35:16.845Z"
   },
   {
    "duration": 13,
    "start_time": "2022-01-24T08:35:17.522Z"
   },
   {
    "duration": 538,
    "start_time": "2022-01-24T08:35:17.537Z"
   },
   {
    "duration": 861,
    "start_time": "2022-01-24T08:35:18.077Z"
   },
   {
    "duration": 643,
    "start_time": "2022-01-24T08:35:18.940Z"
   },
   {
    "duration": 432,
    "start_time": "2022-01-24T08:35:19.585Z"
   },
   {
    "duration": 15,
    "start_time": "2022-01-24T08:35:20.020Z"
   },
   {
    "duration": 33,
    "start_time": "2022-01-24T08:35:20.037Z"
   },
   {
    "duration": 13,
    "start_time": "2022-01-24T08:35:20.072Z"
   },
   {
    "duration": 15,
    "start_time": "2022-01-24T08:35:20.087Z"
   },
   {
    "duration": 316,
    "start_time": "2022-01-31T13:17:00.367Z"
   },
   {
    "duration": 1152,
    "start_time": "2022-01-31T13:17:16.487Z"
   },
   {
    "duration": 50,
    "start_time": "2022-01-31T13:17:17.641Z"
   },
   {
    "duration": 10,
    "start_time": "2022-01-31T13:17:17.693Z"
   },
   {
    "duration": 12,
    "start_time": "2022-01-31T13:17:17.704Z"
   },
   {
    "duration": 16,
    "start_time": "2022-01-31T13:17:17.718Z"
   },
   {
    "duration": 3,
    "start_time": "2022-01-31T13:17:17.735Z"
   },
   {
    "duration": 6,
    "start_time": "2022-01-31T13:17:17.740Z"
   },
   {
    "duration": 4,
    "start_time": "2022-01-31T13:17:17.749Z"
   },
   {
    "duration": 5,
    "start_time": "2022-01-31T13:17:17.755Z"
   },
   {
    "duration": 14,
    "start_time": "2022-01-31T13:17:17.762Z"
   },
   {
    "duration": 417,
    "start_time": "2022-01-31T13:17:17.812Z"
   },
   {
    "duration": 370,
    "start_time": "2022-01-31T13:17:18.231Z"
   },
   {
    "duration": 30,
    "start_time": "2022-01-31T13:17:18.603Z"
   },
   {
    "duration": 359,
    "start_time": "2022-01-31T13:17:18.634Z"
   },
   {
    "duration": 628,
    "start_time": "2022-01-31T13:17:18.995Z"
   },
   {
    "duration": 1083,
    "start_time": "2022-01-31T13:17:19.625Z"
   },
   {
    "duration": 433,
    "start_time": "2022-01-31T13:17:20.712Z"
   },
   {
    "duration": 502,
    "start_time": "2022-01-31T13:17:21.147Z"
   },
   {
    "duration": 294,
    "start_time": "2022-01-31T13:17:21.651Z"
   },
   {
    "duration": 389,
    "start_time": "2022-01-31T13:17:21.947Z"
   },
   {
    "duration": 247,
    "start_time": "2022-01-31T13:17:22.337Z"
   },
   {
    "duration": 160,
    "start_time": "2022-01-31T13:17:22.586Z"
   },
   {
    "duration": 155,
    "start_time": "2022-01-31T13:17:22.749Z"
   },
   {
    "duration": 156,
    "start_time": "2022-01-31T13:17:22.906Z"
   },
   {
    "duration": 229,
    "start_time": "2022-01-31T13:17:23.064Z"
   },
   {
    "duration": 613,
    "start_time": "2022-01-31T13:17:23.294Z"
   },
   {
    "duration": 12,
    "start_time": "2022-01-31T13:17:23.912Z"
   },
   {
    "duration": 671,
    "start_time": "2022-01-31T13:17:23.925Z"
   },
   {
    "duration": 20,
    "start_time": "2022-01-31T13:17:24.598Z"
   },
   {
    "duration": 555,
    "start_time": "2022-01-31T13:17:24.619Z"
   },
   {
    "duration": 859,
    "start_time": "2022-01-31T13:17:25.176Z"
   },
   {
    "duration": 686,
    "start_time": "2022-01-31T13:17:26.037Z"
   },
   {
    "duration": 498,
    "start_time": "2022-01-31T13:17:26.725Z"
   },
   {
    "duration": 13,
    "start_time": "2022-01-31T13:17:27.224Z"
   },
   {
    "duration": 11,
    "start_time": "2022-01-31T13:17:27.238Z"
   },
   {
    "duration": 11,
    "start_time": "2022-01-31T13:17:27.250Z"
   },
   {
    "duration": 11,
    "start_time": "2022-01-31T13:17:27.262Z"
   },
   {
    "duration": 119,
    "start_time": "2022-02-01T06:57:17.765Z"
   },
   {
    "duration": 1153,
    "start_time": "2022-02-01T08:40:27.114Z"
   },
   {
    "duration": 58,
    "start_time": "2022-02-01T08:40:28.269Z"
   },
   {
    "duration": 11,
    "start_time": "2022-02-01T08:40:28.329Z"
   },
   {
    "duration": 7,
    "start_time": "2022-02-01T08:40:28.342Z"
   },
   {
    "duration": 18,
    "start_time": "2022-02-01T08:40:28.351Z"
   },
   {
    "duration": 4,
    "start_time": "2022-02-01T08:40:28.370Z"
   },
   {
    "duration": 15,
    "start_time": "2022-02-01T08:40:28.375Z"
   },
   {
    "duration": 27,
    "start_time": "2022-02-01T08:40:28.393Z"
   },
   {
    "duration": 7,
    "start_time": "2022-02-01T08:40:28.423Z"
   },
   {
    "duration": 25,
    "start_time": "2022-02-01T08:40:28.432Z"
   },
   {
    "duration": 404,
    "start_time": "2022-02-01T08:40:28.458Z"
   },
   {
    "duration": 379,
    "start_time": "2022-02-01T08:40:28.864Z"
   },
   {
    "duration": 26,
    "start_time": "2022-02-01T08:40:29.245Z"
   },
   {
    "duration": 374,
    "start_time": "2022-02-01T08:40:29.273Z"
   },
   {
    "duration": 654,
    "start_time": "2022-02-01T08:40:29.649Z"
   },
   {
    "duration": 1150,
    "start_time": "2022-02-01T08:40:30.305Z"
   },
   {
    "duration": 410,
    "start_time": "2022-02-01T08:40:31.457Z"
   },
   {
    "duration": 543,
    "start_time": "2022-02-01T08:40:31.869Z"
   },
   {
    "duration": 284,
    "start_time": "2022-02-01T08:40:32.414Z"
   },
   {
    "duration": 441,
    "start_time": "2022-02-01T08:40:32.700Z"
   },
   {
    "duration": 238,
    "start_time": "2022-02-01T08:40:33.143Z"
   },
   {
    "duration": 157,
    "start_time": "2022-02-01T08:40:33.383Z"
   },
   {
    "duration": 157,
    "start_time": "2022-02-01T08:40:33.545Z"
   },
   {
    "duration": 161,
    "start_time": "2022-02-01T08:40:33.704Z"
   },
   {
    "duration": 242,
    "start_time": "2022-02-01T08:40:33.868Z"
   },
   {
    "duration": 661,
    "start_time": "2022-02-01T08:40:34.112Z"
   },
   {
    "duration": 14,
    "start_time": "2022-02-01T08:40:34.775Z"
   },
   {
    "duration": 930,
    "start_time": "2022-02-01T08:40:34.792Z"
   },
   {
    "duration": 12,
    "start_time": "2022-02-01T08:40:35.724Z"
   },
   {
    "duration": 549,
    "start_time": "2022-02-01T08:40:35.737Z"
   },
   {
    "duration": 894,
    "start_time": "2022-02-01T08:40:36.288Z"
   },
   {
    "duration": 640,
    "start_time": "2022-02-01T08:40:37.184Z"
   },
   {
    "duration": 508,
    "start_time": "2022-02-01T08:40:37.826Z"
   },
   {
    "duration": 13,
    "start_time": "2022-02-01T08:40:38.336Z"
   },
   {
    "duration": 17,
    "start_time": "2022-02-01T08:40:38.350Z"
   },
   {
    "duration": 14,
    "start_time": "2022-02-01T08:40:38.368Z"
   },
   {
    "duration": 35,
    "start_time": "2022-02-01T08:40:38.384Z"
   },
   {
    "duration": 3,
    "start_time": "2022-02-01T10:03:48.323Z"
   },
   {
    "duration": 52,
    "start_time": "2022-02-01T10:03:48.328Z"
   },
   {
    "duration": 9,
    "start_time": "2022-02-01T10:03:48.382Z"
   },
   {
    "duration": 8,
    "start_time": "2022-02-01T10:03:48.393Z"
   },
   {
    "duration": 21,
    "start_time": "2022-02-01T10:03:48.403Z"
   },
   {
    "duration": 1338,
    "start_time": "2022-02-01T10:04:22.991Z"
   },
   {
    "duration": 76,
    "start_time": "2022-02-01T10:04:24.331Z"
   },
   {
    "duration": 15,
    "start_time": "2022-02-01T10:04:24.410Z"
   },
   {
    "duration": 9,
    "start_time": "2022-02-01T10:04:24.427Z"
   },
   {
    "duration": 23,
    "start_time": "2022-02-01T10:04:24.438Z"
   },
   {
    "duration": 4,
    "start_time": "2022-02-01T10:15:09.305Z"
   },
   {
    "duration": 348,
    "start_time": "2022-02-01T10:24:37.465Z"
   },
   {
    "duration": 7,
    "start_time": "2022-02-01T10:24:51.402Z"
   },
   {
    "duration": 3,
    "start_time": "2022-02-01T10:45:11.360Z"
   },
   {
    "duration": 9,
    "start_time": "2022-02-01T10:45:11.365Z"
   },
   {
    "duration": 9,
    "start_time": "2022-02-01T10:45:15.563Z"
   },
   {
    "duration": 15,
    "start_time": "2022-02-01T10:45:16.684Z"
   },
   {
    "duration": 426,
    "start_time": "2022-02-01T10:45:20.203Z"
   },
   {
    "duration": 283,
    "start_time": "2022-02-01T10:45:45.596Z"
   },
   {
    "duration": 5,
    "start_time": "2022-02-01T10:48:20.902Z"
   },
   {
    "duration": 5,
    "start_time": "2022-02-01T10:48:31.245Z"
   },
   {
    "duration": 14,
    "start_time": "2022-02-01T10:48:31.790Z"
   },
   {
    "duration": 408,
    "start_time": "2022-02-01T10:48:36.638Z"
   },
   {
    "duration": 391,
    "start_time": "2022-02-01T10:48:48.144Z"
   },
   {
    "duration": 41,
    "start_time": "2022-02-01T10:48:51.959Z"
   },
   {
    "duration": 380,
    "start_time": "2022-02-01T10:48:58.047Z"
   },
   {
    "duration": 446,
    "start_time": "2022-02-01T10:49:31.558Z"
   },
   {
    "duration": 575,
    "start_time": "2022-02-01T10:49:33.783Z"
   },
   {
    "duration": 1088,
    "start_time": "2022-02-01T10:49:36.798Z"
   },
   {
    "duration": 425,
    "start_time": "2022-02-01T10:49:48.446Z"
   },
   {
    "duration": 489,
    "start_time": "2022-02-01T10:49:55.911Z"
   },
   {
    "duration": 507,
    "start_time": "2022-02-01T10:50:07.216Z"
   },
   {
    "duration": 9,
    "start_time": "2022-02-01T10:55:24.764Z"
   },
   {
    "duration": 308,
    "start_time": "2022-02-01T10:55:42.861Z"
   },
   {
    "duration": 9,
    "start_time": "2022-02-01T10:55:55.068Z"
   },
   {
    "duration": 10,
    "start_time": "2022-02-01T10:57:05.734Z"
   },
   {
    "duration": 8,
    "start_time": "2022-02-01T10:57:12.758Z"
   },
   {
    "duration": 29,
    "start_time": "2022-02-01T10:57:31.510Z"
   },
   {
    "duration": 7,
    "start_time": "2022-02-01T10:57:53.055Z"
   },
   {
    "duration": 8,
    "start_time": "2022-02-01T10:57:54.166Z"
   },
   {
    "duration": 256,
    "start_time": "2022-02-01T10:58:57.039Z"
   },
   {
    "duration": 336,
    "start_time": "2022-02-01T10:59:10.879Z"
   },
   {
    "duration": 6,
    "start_time": "2022-02-01T10:59:16.296Z"
   },
   {
    "duration": 8,
    "start_time": "2022-02-01T10:59:19.215Z"
   },
   {
    "duration": 9,
    "start_time": "2022-02-01T10:59:28.928Z"
   },
   {
    "duration": 6,
    "start_time": "2022-02-01T10:59:45.584Z"
   },
   {
    "duration": 7,
    "start_time": "2022-02-01T10:59:46.200Z"
   },
   {
    "duration": 6,
    "start_time": "2022-02-01T11:00:14.193Z"
   },
   {
    "duration": 20,
    "start_time": "2022-02-01T11:00:15.034Z"
   },
   {
    "duration": 5319,
    "start_time": "2022-02-01T11:00:37.025Z"
   },
   {
    "duration": 8,
    "start_time": "2022-02-01T11:00:53.418Z"
   },
   {
    "duration": 8,
    "start_time": "2022-02-01T11:00:54.857Z"
   },
   {
    "duration": 7,
    "start_time": "2022-02-01T11:01:42.899Z"
   },
   {
    "duration": 8,
    "start_time": "2022-02-01T11:01:54.714Z"
   },
   {
    "duration": 7,
    "start_time": "2022-02-01T11:02:41.858Z"
   },
   {
    "duration": 502,
    "start_time": "2022-02-01T11:02:47.410Z"
   },
   {
    "duration": 755,
    "start_time": "2022-02-01T11:03:02.667Z"
   },
   {
    "duration": 6,
    "start_time": "2022-02-01T11:03:21.339Z"
   },
   {
    "duration": 20,
    "start_time": "2022-02-01T11:03:27.299Z"
   },
   {
    "duration": 1134,
    "start_time": "2022-02-01T11:07:27.724Z"
   },
   {
    "duration": 52,
    "start_time": "2022-02-01T11:07:28.860Z"
   },
   {
    "duration": 10,
    "start_time": "2022-02-01T11:07:28.914Z"
   },
   {
    "duration": 10,
    "start_time": "2022-02-01T11:07:28.925Z"
   },
   {
    "duration": 17,
    "start_time": "2022-02-01T11:07:28.937Z"
   },
   {
    "duration": 7,
    "start_time": "2022-02-01T11:07:28.955Z"
   },
   {
    "duration": 12,
    "start_time": "2022-02-01T11:07:28.964Z"
   },
   {
    "duration": 13,
    "start_time": "2022-02-01T11:07:28.978Z"
   },
   {
    "duration": 5,
    "start_time": "2022-02-01T11:07:28.993Z"
   },
   {
    "duration": 18,
    "start_time": "2022-02-01T11:07:28.999Z"
   },
   {
    "duration": 35,
    "start_time": "2022-02-01T11:07:29.019Z"
   },
   {
    "duration": 18,
    "start_time": "2022-02-01T11:07:29.056Z"
   },
   {
    "duration": 390,
    "start_time": "2022-02-01T11:07:29.075Z"
   },
   {
    "duration": 360,
    "start_time": "2022-02-01T11:07:29.466Z"
   },
   {
    "duration": 27,
    "start_time": "2022-02-01T11:07:29.828Z"
   },
   {
    "duration": 370,
    "start_time": "2022-02-01T11:07:29.856Z"
   },
   {
    "duration": 613,
    "start_time": "2022-02-01T11:07:30.228Z"
   },
   {
    "duration": 969,
    "start_time": "2022-02-01T11:07:30.843Z"
   },
   {
    "duration": 398,
    "start_time": "2022-02-01T11:07:31.814Z"
   },
   {
    "duration": 495,
    "start_time": "2022-02-01T11:07:32.218Z"
   },
   {
    "duration": 8,
    "start_time": "2022-02-01T11:08:15.516Z"
   },
   {
    "duration": 20,
    "start_time": "2022-02-01T11:08:17.868Z"
   },
   {
    "duration": 341,
    "start_time": "2022-02-01T11:08:39.380Z"
   },
   {
    "duration": 437,
    "start_time": "2022-02-01T11:09:04.261Z"
   },
   {
    "duration": 236,
    "start_time": "2022-02-01T11:09:14.430Z"
   },
   {
    "duration": 145,
    "start_time": "2022-02-01T11:09:26.998Z"
   },
   {
    "duration": 142,
    "start_time": "2022-02-01T11:09:38.694Z"
   },
   {
    "duration": 137,
    "start_time": "2022-02-01T11:09:45.711Z"
   },
   {
    "duration": 221,
    "start_time": "2022-02-01T11:09:58.453Z"
   },
   {
    "duration": 328,
    "start_time": "2022-02-01T11:13:07.425Z"
   },
   {
    "duration": 357,
    "start_time": "2022-02-01T11:13:16.081Z"
   },
   {
    "duration": 145,
    "start_time": "2022-02-01T12:13:10.399Z"
   },
   {
    "duration": 252,
    "start_time": "2022-02-01T12:13:21.519Z"
   },
   {
    "duration": 782,
    "start_time": "2022-02-01T12:20:50.046Z"
   },
   {
    "duration": 775,
    "start_time": "2022-02-01T12:21:11.646Z"
   },
   {
    "duration": 683,
    "start_time": "2022-02-01T12:21:42.637Z"
   },
   {
    "duration": 782,
    "start_time": "2022-02-01T12:22:08.622Z"
   },
   {
    "duration": 3,
    "start_time": "2022-02-01T12:30:38.702Z"
   },
   {
    "duration": 653,
    "start_time": "2022-02-01T12:30:41.428Z"
   },
   {
    "duration": 589,
    "start_time": "2022-02-01T12:30:52.670Z"
   },
   {
    "duration": 683,
    "start_time": "2022-02-01T12:34:26.729Z"
   },
   {
    "duration": 643,
    "start_time": "2022-02-01T12:35:51.345Z"
   },
   {
    "duration": 13,
    "start_time": "2022-02-01T12:36:03.976Z"
   },
   {
    "duration": 689,
    "start_time": "2022-02-01T12:38:18.140Z"
   },
   {
    "duration": 12,
    "start_time": "2022-02-01T12:38:22.091Z"
   },
   {
    "duration": 11,
    "start_time": "2022-02-01T12:38:31.226Z"
   },
   {
    "duration": 516,
    "start_time": "2022-02-01T12:42:25.095Z"
   },
   {
    "duration": 7547,
    "start_time": "2022-02-01T12:45:13.346Z"
   },
   {
    "duration": 15,
    "start_time": "2022-02-01T12:45:58.137Z"
   },
   {
    "duration": 1424,
    "start_time": "2022-02-01T12:46:32.162Z"
   },
   {
    "duration": 1440,
    "start_time": "2022-02-01T12:47:13.437Z"
   },
   {
    "duration": 1175,
    "start_time": "2022-02-01T12:47:33.316Z"
   },
   {
    "duration": 952,
    "start_time": "2022-02-01T12:47:48.195Z"
   },
   {
    "duration": 1032,
    "start_time": "2022-02-01T12:48:02.315Z"
   },
   {
    "duration": 1258,
    "start_time": "2022-02-01T12:48:09.243Z"
   },
   {
    "duration": 870,
    "start_time": "2022-02-01T12:48:52.092Z"
   },
   {
    "duration": 759,
    "start_time": "2022-02-01T13:00:49.470Z"
   },
   {
    "duration": 431,
    "start_time": "2022-02-01T13:21:27.233Z"
   },
   {
    "duration": 21,
    "start_time": "2022-02-01T13:21:45.009Z"
   },
   {
    "duration": 79,
    "start_time": "2022-02-01T13:24:08.762Z"
   },
   {
    "duration": 7,
    "start_time": "2022-02-01T13:24:20.586Z"
   },
   {
    "duration": 6,
    "start_time": "2022-02-01T13:31:31.664Z"
   },
   {
    "duration": 7,
    "start_time": "2022-02-01T13:32:53.976Z"
   },
   {
    "duration": 16,
    "start_time": "2022-02-01T13:33:11.562Z"
   },
   {
    "duration": 13,
    "start_time": "2022-02-01T13:33:42.579Z"
   },
   {
    "duration": 21,
    "start_time": "2022-02-01T13:34:21.035Z"
   },
   {
    "duration": 20,
    "start_time": "2022-02-01T13:35:09.964Z"
   },
   {
    "duration": 1287,
    "start_time": "2022-02-01T13:35:42.322Z"
   },
   {
    "duration": 59,
    "start_time": "2022-02-01T13:35:43.611Z"
   },
   {
    "duration": 12,
    "start_time": "2022-02-01T13:35:43.673Z"
   },
   {
    "duration": 13,
    "start_time": "2022-02-01T13:35:43.687Z"
   },
   {
    "duration": 27,
    "start_time": "2022-02-01T13:35:43.702Z"
   },
   {
    "duration": 4,
    "start_time": "2022-02-01T13:35:43.731Z"
   },
   {
    "duration": 12,
    "start_time": "2022-02-01T13:35:43.737Z"
   },
   {
    "duration": 17,
    "start_time": "2022-02-01T13:35:43.751Z"
   },
   {
    "duration": 7,
    "start_time": "2022-02-01T13:35:43.771Z"
   },
   {
    "duration": 10,
    "start_time": "2022-02-01T13:35:43.779Z"
   },
   {
    "duration": 9,
    "start_time": "2022-02-01T13:35:43.791Z"
   },
   {
    "duration": 26,
    "start_time": "2022-02-01T13:35:43.802Z"
   },
   {
    "duration": 8,
    "start_time": "2022-02-01T13:35:43.830Z"
   },
   {
    "duration": 434,
    "start_time": "2022-02-01T13:35:43.840Z"
   },
   {
    "duration": 380,
    "start_time": "2022-02-01T13:35:44.276Z"
   },
   {
    "duration": 28,
    "start_time": "2022-02-01T13:35:44.657Z"
   },
   {
    "duration": 378,
    "start_time": "2022-02-01T13:35:44.688Z"
   },
   {
    "duration": 658,
    "start_time": "2022-02-01T13:35:45.068Z"
   },
   {
    "duration": 1056,
    "start_time": "2022-02-01T13:35:45.728Z"
   },
   {
    "duration": 415,
    "start_time": "2022-02-01T13:35:46.786Z"
   },
   {
    "duration": 533,
    "start_time": "2022-02-01T13:35:47.203Z"
   },
   {
    "duration": 8,
    "start_time": "2022-02-01T13:35:47.738Z"
   },
   {
    "duration": 368,
    "start_time": "2022-02-01T13:35:47.750Z"
   },
   {
    "duration": 444,
    "start_time": "2022-02-01T13:35:48.120Z"
   },
   {
    "duration": 269,
    "start_time": "2022-02-01T13:35:48.565Z"
   },
   {
    "duration": 158,
    "start_time": "2022-02-01T13:35:48.836Z"
   },
   {
    "duration": 154,
    "start_time": "2022-02-01T13:35:48.995Z"
   },
   {
    "duration": 241,
    "start_time": "2022-02-01T13:35:49.151Z"
   },
   {
    "duration": 268,
    "start_time": "2022-02-01T13:35:49.395Z"
   },
   {
    "duration": 3,
    "start_time": "2022-02-01T13:35:49.665Z"
   },
   {
    "duration": 648,
    "start_time": "2022-02-01T13:35:49.670Z"
   },
   {
    "duration": 12,
    "start_time": "2022-02-01T13:35:50.321Z"
   },
   {
    "duration": 697,
    "start_time": "2022-02-01T13:35:50.335Z"
   },
   {
    "duration": 11,
    "start_time": "2022-02-01T13:35:51.034Z"
   },
   {
    "duration": 576,
    "start_time": "2022-02-01T13:35:51.047Z"
   },
   {
    "duration": 1018,
    "start_time": "2022-02-01T13:35:51.625Z"
   },
   {
    "duration": 789,
    "start_time": "2022-02-01T13:35:52.645Z"
   },
   {
    "duration": 13,
    "start_time": "2022-02-01T13:35:53.436Z"
   },
   {
    "duration": 575,
    "start_time": "2022-02-01T13:36:03.330Z"
   },
   {
    "duration": 430,
    "start_time": "2022-02-01T13:40:37.607Z"
   },
   {
    "duration": 349,
    "start_time": "2022-02-01T13:54:39.350Z"
   },
   {
    "duration": 1382,
    "start_time": "2022-02-01T13:54:38.319Z"
   },
   {
    "duration": 1382,
    "start_time": "2022-02-01T13:54:38.321Z"
   },
   {
    "duration": 1376,
    "start_time": "2022-02-01T13:54:38.328Z"
   },
   {
    "duration": 10,
    "start_time": "2022-02-01T13:55:02.722Z"
   },
   {
    "duration": 267,
    "start_time": "2022-02-01T13:55:05.507Z"
   },
   {
    "duration": 11,
    "start_time": "2022-02-01T13:55:19.274Z"
   },
   {
    "duration": 11,
    "start_time": "2022-02-01T13:55:27.842Z"
   },
   {
    "duration": 11,
    "start_time": "2022-02-01T13:55:34.155Z"
   },
   {
    "duration": 1153,
    "start_time": "2022-02-01T16:30:58.836Z"
   },
   {
    "duration": 76,
    "start_time": "2022-02-01T16:30:59.991Z"
   },
   {
    "duration": 17,
    "start_time": "2022-02-01T16:31:00.071Z"
   },
   {
    "duration": 6,
    "start_time": "2022-02-01T16:31:00.090Z"
   },
   {
    "duration": 23,
    "start_time": "2022-02-01T16:31:00.097Z"
   },
   {
    "duration": 3,
    "start_time": "2022-02-01T16:31:00.122Z"
   },
   {
    "duration": 13,
    "start_time": "2022-02-01T16:31:00.127Z"
   },
   {
    "duration": 11,
    "start_time": "2022-02-01T16:31:00.142Z"
   },
   {
    "duration": 7,
    "start_time": "2022-02-01T16:31:00.155Z"
   },
   {
    "duration": 10,
    "start_time": "2022-02-01T16:31:00.164Z"
   },
   {
    "duration": 16,
    "start_time": "2022-02-01T16:31:00.176Z"
   },
   {
    "duration": 5,
    "start_time": "2022-02-01T16:31:00.194Z"
   },
   {
    "duration": 463,
    "start_time": "2022-02-01T16:31:00.201Z"
   },
   {
    "duration": 606,
    "start_time": "2022-02-01T16:31:00.667Z"
   },
   {
    "duration": 30,
    "start_time": "2022-02-01T16:31:01.275Z"
   },
   {
    "duration": 401,
    "start_time": "2022-02-01T16:31:01.307Z"
   },
   {
    "duration": 634,
    "start_time": "2022-02-01T16:31:01.710Z"
   },
   {
    "duration": 1474,
    "start_time": "2022-02-01T16:31:02.346Z"
   },
   {
    "duration": 477,
    "start_time": "2022-02-01T16:31:03.822Z"
   },
   {
    "duration": 600,
    "start_time": "2022-02-01T16:31:04.301Z"
   },
   {
    "duration": 7,
    "start_time": "2022-02-01T16:31:04.903Z"
   },
   {
    "duration": 423,
    "start_time": "2022-02-01T16:31:04.912Z"
   },
   {
    "duration": 484,
    "start_time": "2022-02-01T16:31:05.338Z"
   },
   {
    "duration": 269,
    "start_time": "2022-02-01T16:31:05.824Z"
   },
   {
    "duration": 161,
    "start_time": "2022-02-01T16:31:06.094Z"
   },
   {
    "duration": 164,
    "start_time": "2022-02-01T16:31:06.259Z"
   },
   {
    "duration": 179,
    "start_time": "2022-02-01T16:31:06.424Z"
   },
   {
    "duration": 245,
    "start_time": "2022-02-01T16:31:06.604Z"
   },
   {
    "duration": 8,
    "start_time": "2022-02-01T16:31:06.851Z"
   },
   {
    "duration": 755,
    "start_time": "2022-02-01T16:31:06.861Z"
   },
   {
    "duration": 12,
    "start_time": "2022-02-01T16:31:07.618Z"
   },
   {
    "duration": 698,
    "start_time": "2022-02-01T16:31:07.632Z"
   },
   {
    "duration": 9,
    "start_time": "2022-02-01T16:31:08.332Z"
   },
   {
    "duration": 588,
    "start_time": "2022-02-01T16:31:08.343Z"
   },
   {
    "duration": 1067,
    "start_time": "2022-02-01T16:31:08.933Z"
   },
   {
    "duration": 838,
    "start_time": "2022-02-01T16:31:10.001Z"
   },
   {
    "duration": 491,
    "start_time": "2022-02-01T16:31:10.841Z"
   },
   {
    "duration": 8,
    "start_time": "2022-02-01T16:31:11.334Z"
   },
   {
    "duration": 27,
    "start_time": "2022-02-01T16:31:11.343Z"
   },
   {
    "duration": 16,
    "start_time": "2022-02-01T16:31:11.373Z"
   },
   {
    "duration": 8,
    "start_time": "2022-02-01T16:31:11.391Z"
   },
   {
    "duration": 1118,
    "start_time": "2022-02-02T04:22:07.507Z"
   },
   {
    "duration": 48,
    "start_time": "2022-02-02T04:22:08.627Z"
   },
   {
    "duration": 9,
    "start_time": "2022-02-02T04:22:08.676Z"
   },
   {
    "duration": 6,
    "start_time": "2022-02-02T04:22:08.687Z"
   },
   {
    "duration": 30,
    "start_time": "2022-02-02T04:22:08.695Z"
   },
   {
    "duration": 4,
    "start_time": "2022-02-02T04:22:08.727Z"
   },
   {
    "duration": 17,
    "start_time": "2022-02-02T04:22:08.733Z"
   },
   {
    "duration": 2,
    "start_time": "2022-02-02T04:22:08.752Z"
   },
   {
    "duration": 4,
    "start_time": "2022-02-02T04:22:08.756Z"
   },
   {
    "duration": 7,
    "start_time": "2022-02-02T04:22:08.762Z"
   },
   {
    "duration": 12,
    "start_time": "2022-02-02T04:22:08.771Z"
   },
   {
    "duration": 28,
    "start_time": "2022-02-02T04:22:08.785Z"
   },
   {
    "duration": 420,
    "start_time": "2022-02-02T04:22:08.815Z"
   },
   {
    "duration": 362,
    "start_time": "2022-02-02T04:22:09.237Z"
   },
   {
    "duration": 33,
    "start_time": "2022-02-02T04:22:09.601Z"
   },
   {
    "duration": 365,
    "start_time": "2022-02-02T04:22:09.636Z"
   },
   {
    "duration": 629,
    "start_time": "2022-02-02T04:22:10.003Z"
   },
   {
    "duration": 1081,
    "start_time": "2022-02-02T04:22:10.633Z"
   },
   {
    "duration": 424,
    "start_time": "2022-02-02T04:22:11.716Z"
   },
   {
    "duration": 514,
    "start_time": "2022-02-02T04:22:12.141Z"
   },
   {
    "duration": 7,
    "start_time": "2022-02-02T04:22:12.657Z"
   },
   {
    "duration": 377,
    "start_time": "2022-02-02T04:22:12.665Z"
   },
   {
    "duration": 414,
    "start_time": "2022-02-02T04:22:13.045Z"
   },
   {
    "duration": 251,
    "start_time": "2022-02-02T04:22:13.461Z"
   },
   {
    "duration": 161,
    "start_time": "2022-02-02T04:22:13.714Z"
   },
   {
    "duration": 158,
    "start_time": "2022-02-02T04:22:13.877Z"
   },
   {
    "duration": 162,
    "start_time": "2022-02-02T04:22:14.037Z"
   },
   {
    "duration": 237,
    "start_time": "2022-02-02T04:22:14.201Z"
   },
   {
    "duration": 3,
    "start_time": "2022-02-02T04:22:14.440Z"
   },
   {
    "duration": 668,
    "start_time": "2022-02-02T04:22:14.445Z"
   },
   {
    "duration": 11,
    "start_time": "2022-02-02T04:22:15.115Z"
   },
   {
    "duration": 725,
    "start_time": "2022-02-02T04:22:15.127Z"
   },
   {
    "duration": 9,
    "start_time": "2022-02-02T04:22:15.854Z"
   },
   {
    "duration": 556,
    "start_time": "2022-02-02T04:22:15.864Z"
   },
   {
    "duration": 974,
    "start_time": "2022-02-02T04:22:16.422Z"
   },
   {
    "duration": 765,
    "start_time": "2022-02-02T04:22:17.398Z"
   },
   {
    "duration": 510,
    "start_time": "2022-02-02T04:22:18.165Z"
   },
   {
    "duration": 9,
    "start_time": "2022-02-02T04:22:18.677Z"
   },
   {
    "duration": 11,
    "start_time": "2022-02-02T04:22:18.687Z"
   },
   {
    "duration": 9,
    "start_time": "2022-02-02T04:22:18.712Z"
   },
   {
    "duration": 8,
    "start_time": "2022-02-02T04:22:18.722Z"
   },
   {
    "duration": 640,
    "start_time": "2022-02-02T04:23:09.785Z"
   },
   {
    "duration": 849,
    "start_time": "2022-02-02T04:23:18.520Z"
   },
   {
    "duration": 635,
    "start_time": "2022-02-02T04:23:21.500Z"
   },
   {
    "duration": 147,
    "start_time": "2022-02-02T04:23:44.538Z"
   },
   {
    "duration": 146,
    "start_time": "2022-02-02T04:23:53.628Z"
   },
   {
    "duration": 156,
    "start_time": "2022-02-02T04:24:02.411Z"
   },
   {
    "duration": 153,
    "start_time": "2022-02-02T04:24:10.219Z"
   },
   {
    "duration": 85,
    "start_time": "2022-02-02T04:24:49.142Z"
   },
   {
    "duration": 807,
    "start_time": "2022-02-02T04:24:52.973Z"
   },
   {
    "duration": 3,
    "start_time": "2022-02-02T04:25:12.644Z"
   },
   {
    "duration": 621,
    "start_time": "2022-02-02T04:25:14.513Z"
   },
   {
    "duration": 1108,
    "start_time": "2022-02-02T04:25:46.120Z"
   },
   {
    "duration": 53,
    "start_time": "2022-02-02T04:25:47.229Z"
   },
   {
    "duration": 10,
    "start_time": "2022-02-02T04:25:47.284Z"
   },
   {
    "duration": 6,
    "start_time": "2022-02-02T04:25:47.296Z"
   },
   {
    "duration": 15,
    "start_time": "2022-02-02T04:25:47.312Z"
   },
   {
    "duration": 3,
    "start_time": "2022-02-02T04:25:47.328Z"
   },
   {
    "duration": 6,
    "start_time": "2022-02-02T04:25:47.333Z"
   },
   {
    "duration": 2,
    "start_time": "2022-02-02T04:25:47.341Z"
   },
   {
    "duration": 3,
    "start_time": "2022-02-02T04:25:47.345Z"
   },
   {
    "duration": 9,
    "start_time": "2022-02-02T04:25:47.350Z"
   },
   {
    "duration": 16,
    "start_time": "2022-02-02T04:25:47.361Z"
   },
   {
    "duration": 37,
    "start_time": "2022-02-02T04:25:47.379Z"
   },
   {
    "duration": 432,
    "start_time": "2022-02-02T04:25:47.417Z"
   },
   {
    "duration": 371,
    "start_time": "2022-02-02T04:25:47.851Z"
   },
   {
    "duration": 25,
    "start_time": "2022-02-02T04:25:48.224Z"
   },
   {
    "duration": 363,
    "start_time": "2022-02-02T04:25:48.250Z"
   },
   {
    "duration": 606,
    "start_time": "2022-02-02T04:25:48.615Z"
   },
   {
    "duration": 1056,
    "start_time": "2022-02-02T04:25:49.222Z"
   },
   {
    "duration": 436,
    "start_time": "2022-02-02T04:25:50.280Z"
   },
   {
    "duration": 525,
    "start_time": "2022-02-02T04:25:50.718Z"
   },
   {
    "duration": 7,
    "start_time": "2022-02-02T04:25:51.244Z"
   },
   {
    "duration": 432,
    "start_time": "2022-02-02T04:25:51.253Z"
   },
   {
    "duration": 474,
    "start_time": "2022-02-02T04:25:51.688Z"
   },
   {
    "duration": 242,
    "start_time": "2022-02-02T04:25:52.163Z"
   },
   {
    "duration": 162,
    "start_time": "2022-02-02T04:25:52.406Z"
   },
   {
    "duration": 166,
    "start_time": "2022-02-02T04:25:52.570Z"
   },
   {
    "duration": 154,
    "start_time": "2022-02-02T04:25:52.737Z"
   },
   {
    "duration": 234,
    "start_time": "2022-02-02T04:25:52.893Z"
   },
   {
    "duration": 3,
    "start_time": "2022-02-02T04:25:53.128Z"
   },
   {
    "duration": 4,
    "start_time": "2022-02-02T04:25:53.133Z"
   },
   {
    "duration": 663,
    "start_time": "2022-02-02T04:25:53.138Z"
   },
   {
    "duration": 19,
    "start_time": "2022-02-02T04:25:53.802Z"
   },
   {
    "duration": 699,
    "start_time": "2022-02-02T04:25:53.823Z"
   },
   {
    "duration": 8,
    "start_time": "2022-02-02T04:25:54.524Z"
   },
   {
    "duration": 530,
    "start_time": "2022-02-02T04:25:54.534Z"
   },
   {
    "duration": 935,
    "start_time": "2022-02-02T04:25:55.066Z"
   },
   {
    "duration": 754,
    "start_time": "2022-02-02T04:25:56.003Z"
   },
   {
    "duration": 499,
    "start_time": "2022-02-02T04:25:56.759Z"
   },
   {
    "duration": 8,
    "start_time": "2022-02-02T04:25:57.260Z"
   },
   {
    "duration": 9,
    "start_time": "2022-02-02T04:25:57.270Z"
   },
   {
    "duration": 31,
    "start_time": "2022-02-02T04:25:57.281Z"
   },
   {
    "duration": 10,
    "start_time": "2022-02-02T04:25:57.314Z"
   }
  ],
  "kernelspec": {
   "display_name": "Python 3 (ipykernel)",
   "language": "python",
   "name": "python3"
  },
  "language_info": {
   "codemirror_mode": {
    "name": "ipython",
    "version": 3
   },
   "file_extension": ".py",
   "mimetype": "text/x-python",
   "name": "python",
   "nbconvert_exporter": "python",
   "pygments_lexer": "ipython3",
   "version": "3.9.7"
  },
  "toc": {
   "base_numbering": 1,
   "nav_menu": {},
   "number_sections": true,
   "sideBar": true,
   "skip_h1_title": true,
   "title_cell": "Table of Contents",
   "title_sidebar": "Contents",
   "toc_cell": false,
   "toc_position": {
    "height": "calc(100% - 180px)",
    "left": "10px",
    "top": "150px",
    "width": "165px"
   },
   "toc_section_display": true,
   "toc_window_display": false
  }
 },
 "nbformat": 4,
 "nbformat_minor": 2
}
