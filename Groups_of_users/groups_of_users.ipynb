{
 "cells": [
  {
   "cell_type": "markdown",
   "id": "474de634",
   "metadata": {},
   "source": [
    "## Загрузка и обзор данных."
   ]
  },
  {
   "cell_type": "markdown",
   "id": "4407790b",
   "metadata": {},
   "source": [
    "Импорт библиотек"
   ]
  },
  {
   "cell_type": "code",
   "execution_count": 1,
   "id": "206d8f01",
   "metadata": {},
   "outputs": [],
   "source": [
    "import time\n",
    "import math as mth\n",
    "import numpy as np\n",
    "import pandas as pd\n",
    "import scipy.stats as st\n",
    "from collections import Counter\n",
    "import matplotlib.pyplot as plt\n",
    "from sklearn.cluster import KMeans\n",
    "from datetime import datetime, timedelta\n",
    "from sklearn.preprocessing import StandardScaler\n",
    "from scipy.cluster.hierarchy import dendrogram, linkage"
   ]
  },
  {
   "cell_type": "code",
   "execution_count": 2,
   "id": "66acab3b",
   "metadata": {},
   "outputs": [],
   "source": [
    "plt.style.use('Solarize_Light2')"
   ]
  },
  {
   "cell_type": "markdown",
   "id": "c2a1faa5",
   "metadata": {},
   "source": [
    "Функция для замены значений в столбце."
   ]
  },
  {
   "cell_type": "code",
   "execution_count": 3,
   "id": "c7e35dd5",
   "metadata": {},
   "outputs": [],
   "source": [
    "def rename (row):\n",
    "    if 'contacts' in row:\n",
    "        return 'contacts_show'\n",
    "    elif 'search' in row:\n",
    "        return 'search'\n",
    "    else:\n",
    "        return row"
   ]
  },
  {
   "cell_type": "markdown",
   "id": "130afea2",
   "metadata": {},
   "source": [
    "Функция для создания пользовательских профилей."
   ]
  },
  {
   "cell_type": "code",
   "execution_count": 4,
   "id": "df548fbf",
   "metadata": {},
   "outputs": [],
   "source": [
    "def get_profiles(sessions):\n",
    "\n",
    "    # сортируем сессии по ID пользователя и дате посещения\n",
    "    # группируем по ID и находим первые значения session_start и channel\n",
    "    # столбец с временем первого посещения назовём first_ts\n",
    "    # от англ. first timestamp — первая временная отметка\n",
    "    profiles = (\n",
    "        sessions.sort_values(by=['user_id', 'session_start'])\n",
    "        .groupby(['user_id','first_vizit'])\n",
    "        .agg({'session_duration': 'sum', 'event_name': 'count',\n",
    "              'user_sessions': 'nunique', 'source':'first'})\n",
    "        .rename(columns={'event_name': 'events_number', 'user_sessions': 'sessions_number'})\n",
    "        .reset_index()  # возвращаем user_id из индекса\n",
    "    )\n",
    "\n",
    "    # определяем дату первого посещения\n",
    "    # и первый день месяца, в который это посещение произошло\n",
    "    # эти данные понадобятся для когортного анализа\n",
    "    profiles['dt'] = profiles['first_vizit'].dt.date\n",
    "    profiles['month'] = profiles['first_vizit'].astype('datetime64[M]')\n",
    "\n",
    "    return profiles"
   ]
  },
  {
   "cell_type": "markdown",
   "id": "9c3e116f",
   "metadata": {},
   "source": [
    "Функция для расчета удержания"
   ]
  },
  {
   "cell_type": "code",
   "execution_count": 5,
   "id": "027167d9",
   "metadata": {},
   "outputs": [],
   "source": [
    "def get_retention(\n",
    "    profiles, sessions, observation_date, horizon_days, dimensions=[], ignore_horizon=True\n",
    "):\n",
    "\n",
    "    # исключаем пользователей, не «доживших» до горизонта анализа\n",
    "    last_suitable_acquisition_date = observation_date\n",
    "    if not ignore_horizon:\n",
    "        last_suitable_acquisition_date = observation_date - timedelta(\n",
    "            days=horizon_days - 1\n",
    "        )\n",
    "    result_raw = profiles.query('dt <= @last_suitable_acquisition_date')\n",
    "\n",
    "    # собираем «сырые» данные для расчёта удержания\n",
    "    result_raw = result_raw.merge(\n",
    "        sessions[['user_id', 'lifetime']], on='user_id', how='left'\n",
    "    )\n",
    "   \n",
    "    # рассчитываем удержание\n",
    "    result_grouped = (\n",
    "        result_raw.pivot_table(\n",
    "        index=dimensions, columns='lifetime', values='user_id', aggfunc='nunique'\n",
    "    )\n",
    "    )\n",
    "    cohort_sizes = (\n",
    "        result_raw.groupby(dimensions)\n",
    "        .agg({'user_id': 'nunique'})\n",
    "        .rename(columns={'user_id': 'cohort_size'})\n",
    "    )\n",
    "    result_grouped = cohort_sizes.merge(\n",
    "        result_grouped, on=dimensions, how='left'\n",
    "    ).fillna(0)\n",
    "    result_grouped = result_grouped.div(result_grouped['cohort_size'], axis=0)\n",
    "\n",
    "    # исключаем все лайфтаймы, превышающие горизонт анализа\n",
    "    result_grouped = result_grouped[\n",
    "        ['cohort_size'] + list(range(horizon_days))\n",
    "    ]\n",
    "\n",
    "    # восстанавливаем столбец с размерами когорт\n",
    "    result_grouped['cohort_size'] = cohort_sizes\n",
    "    \n",
    "    #result_grouped = result_grouped[['cohort_size',6,13]]\n",
    "\n",
    "    # возвращаем таблицу удержания и сырые данные\n",
    "    # сырые данные пригодятся, если нужно будет отыскать ошибку в расчётах\n",
    "    return result_raw, result_grouped"
   ]
  },
  {
   "cell_type": "markdown",
   "id": "b57ebd87",
   "metadata": {},
   "source": [
    "Функция для проверки статистической разницы между выборками."
   ]
  },
  {
   "cell_type": "markdown",
   "id": "796c667c",
   "metadata": {},
   "source": [
    "`group_1`, `group_2` - количество уникальных клиентов в группе на этапе \n",
    "\n",
    "`total_number_1` , `total_number_2`-  общее число уникальных клиентов в группе\n",
    "\n",
    "`alpha_current` - актуальное значение альфа"
   ]
  },
  {
   "cell_type": "code",
   "execution_count": 6,
   "id": "ca5245ca",
   "metadata": {},
   "outputs": [],
   "source": [
    "def verify_sample (group_1, group_2, total_number_1, total_number_2, alpha_current):\n",
    "    alpha = alpha_current  # критический уровень статистической значимости / на число гипотез\n",
    "    \n",
    "    group_vizits = np.array([group_1, group_2])\n",
    "    group_user = np.array([total_number_1 , total_number_2])\n",
    "    \n",
    "    p1 = group_vizits[0] / group_user[0]\n",
    "    p2 = group_vizits[1] / group_user[1]\n",
    "    \n",
    "    p_combined = (group_vizits[0] + group_vizits[1]) / (group_user[1] + group_user[0])\n",
    "    difference = p1 - p2\n",
    "    \n",
    "    z_value = difference / mth.sqrt(p_combined * (1 - p_combined) * (1/group_user[0] + 1/group_user[1]))\n",
    "    distr = st.norm(0, 1)\n",
    "    \n",
    "    p_value = (1 - distr.cdf(abs(z_value))) * 2 \n",
    "    \n",
    "    print('p-значение: ', p_value)\n",
    "    \n",
    "    if p_value < alpha: \n",
    "        print('Отвергаем нулевую гипотезу: между долями есть значимая разница')\n",
    "    else:\n",
    "        print('Не получилось отвергнуть нулевую гипотезу, нет оснований считать доли разными')"
   ]
  },
  {
   "cell_type": "markdown",
   "id": "c00fc538",
   "metadata": {},
   "source": [
    "Сохраняем данные в переменных"
   ]
  },
  {
   "cell_type": "code",
   "execution_count": 7,
   "id": "f3e2047a",
   "metadata": {},
   "outputs": [],
   "source": [
    "user_source = pd.read_csv('mobile_soures.csv')\n",
    "events = pd.read_csv('mobile_dataset.csv')"
   ]
  },
  {
   "cell_type": "markdown",
   "id": "335963d2",
   "metadata": {},
   "source": [
    "Ознакомимся с общими данными по таблицам: названием столбцов, количеством записей, типом данных"
   ]
  },
  {
   "cell_type": "code",
   "execution_count": 8,
   "id": "1b05938d",
   "metadata": {},
   "outputs": [
    {
     "name": "stdout",
     "output_type": "stream",
     "text": [
      "user_source\n",
      "<class 'pandas.core.frame.DataFrame'>\n",
      "RangeIndex: 4293 entries, 0 to 4292\n",
      "Data columns (total 2 columns):\n",
      " #   Column  Non-Null Count  Dtype \n",
      "---  ------  --------------  ----- \n",
      " 0   userId  4293 non-null   object\n",
      " 1   source  4293 non-null   object\n",
      "dtypes: object(2)\n",
      "memory usage: 67.2+ KB\n",
      "\n",
      "events\n",
      "<class 'pandas.core.frame.DataFrame'>\n",
      "RangeIndex: 74197 entries, 0 to 74196\n",
      "Data columns (total 3 columns):\n",
      " #   Column      Non-Null Count  Dtype \n",
      "---  ------      --------------  ----- \n",
      " 0   event.time  74197 non-null  object\n",
      " 1   event.name  74197 non-null  object\n",
      " 2   user.id     74197 non-null  object\n",
      "dtypes: object(3)\n",
      "memory usage: 1.7+ MB\n"
     ]
    }
   ],
   "source": [
    "print('user_source')\n",
    "user_source.info()\n",
    "print('')\n",
    "print('events')\n",
    "events.info()"
   ]
  },
  {
   "cell_type": "markdown",
   "id": "1917d361",
   "metadata": {},
   "source": [
    "Переименуем названия колонок для дальнейшего соединения таблиц."
   ]
  },
  {
   "cell_type": "code",
   "execution_count": 9,
   "id": "362ce7c7",
   "metadata": {
    "scrolled": true
   },
   "outputs": [
    {
     "name": "stdout",
     "output_type": "stream",
     "text": [
      "Index(['user_id', 'source'], dtype='object')\n",
      "Index(['event_time', 'event_name', 'user_id'], dtype='object')\n"
     ]
    }
   ],
   "source": [
    "user_source = user_source.rename(columns={'userId': 'user_id'})\n",
    "events = events.rename(columns={'event.time': 'event_time', 'event.name': 'event_name', 'user.id':'user_id'})\n",
    "print(user_source.columns)\n",
    "print(events.columns)"
   ]
  },
  {
   "cell_type": "markdown",
   "id": "9f933f34",
   "metadata": {},
   "source": [
    "Соединяем таблицы по колонке `user_id`."
   ]
  },
  {
   "cell_type": "code",
   "execution_count": 10,
   "id": "f442254d",
   "metadata": {},
   "outputs": [
    {
     "data": {
      "text/html": [
       "<div>\n",
       "<style scoped>\n",
       "    .dataframe tbody tr th:only-of-type {\n",
       "        vertical-align: middle;\n",
       "    }\n",
       "\n",
       "    .dataframe tbody tr th {\n",
       "        vertical-align: top;\n",
       "    }\n",
       "\n",
       "    .dataframe thead th {\n",
       "        text-align: right;\n",
       "    }\n",
       "</style>\n",
       "<table border=\"1\" class=\"dataframe\">\n",
       "  <thead>\n",
       "    <tr style=\"text-align: right;\">\n",
       "      <th></th>\n",
       "      <th>event_time</th>\n",
       "      <th>event_name</th>\n",
       "      <th>user_id</th>\n",
       "      <th>source</th>\n",
       "    </tr>\n",
       "  </thead>\n",
       "  <tbody>\n",
       "    <tr>\n",
       "      <th>39249</th>\n",
       "      <td>2019-10-22 20:36:28.968699</td>\n",
       "      <td>tips_show</td>\n",
       "      <td>36d72f1d-b562-41b4-9888-49bce5c9e1cf</td>\n",
       "      <td>yandex</td>\n",
       "    </tr>\n",
       "    <tr>\n",
       "      <th>64397</th>\n",
       "      <td>2019-10-31 09:47:08.835276</td>\n",
       "      <td>tips_show</td>\n",
       "      <td>a899a360-2a35-4e49-b00c-0c1e4a231018</td>\n",
       "      <td>other</td>\n",
       "    </tr>\n",
       "    <tr>\n",
       "      <th>18845</th>\n",
       "      <td>2019-10-14 23:51:39.332391</td>\n",
       "      <td>favorites_add</td>\n",
       "      <td>f8576d27-c94e-4a2d-b293-074027bbe672</td>\n",
       "      <td>yandex</td>\n",
       "    </tr>\n",
       "    <tr>\n",
       "      <th>37689</th>\n",
       "      <td>2019-10-22 11:54:23.296102</td>\n",
       "      <td>search_5</td>\n",
       "      <td>9b795517-409a-4add-84a0-68ba7d4a5954</td>\n",
       "      <td>other</td>\n",
       "    </tr>\n",
       "    <tr>\n",
       "      <th>10802</th>\n",
       "      <td>2019-10-11 18:55:19.532471</td>\n",
       "      <td>tips_show</td>\n",
       "      <td>689677d5-7d3f-47af-9a27-56e88bbebce7</td>\n",
       "      <td>google</td>\n",
       "    </tr>\n",
       "    <tr>\n",
       "      <th>27692</th>\n",
       "      <td>2019-10-18 11:30:56.063146</td>\n",
       "      <td>advert_open</td>\n",
       "      <td>3521521c-99cb-4142-96cb-0b97cd5c60e6</td>\n",
       "      <td>yandex</td>\n",
       "    </tr>\n",
       "    <tr>\n",
       "      <th>5307</th>\n",
       "      <td>2019-10-09 09:35:47.128410</td>\n",
       "      <td>contacts_show</td>\n",
       "      <td>78e8c1af-ca3b-41e9-914c-66f74590b9b6</td>\n",
       "      <td>other</td>\n",
       "    </tr>\n",
       "    <tr>\n",
       "      <th>50231</th>\n",
       "      <td>2019-10-26 16:21:10.960617</td>\n",
       "      <td>tips_show</td>\n",
       "      <td>04d0b1b4-d31f-4c19-bc7e-14e5fcf6f791</td>\n",
       "      <td>yandex</td>\n",
       "    </tr>\n",
       "    <tr>\n",
       "      <th>8164</th>\n",
       "      <td>2019-10-10 14:57:55.101631</td>\n",
       "      <td>tips_show</td>\n",
       "      <td>017c6afc-965d-4c94-84ee-f0e326998e30</td>\n",
       "      <td>other</td>\n",
       "    </tr>\n",
       "    <tr>\n",
       "      <th>59530</th>\n",
       "      <td>2019-10-29 15:32:20.471928</td>\n",
       "      <td>tips_show</td>\n",
       "      <td>41f3d511-47cd-404e-9b28-3820a33f7090</td>\n",
       "      <td>other</td>\n",
       "    </tr>\n",
       "  </tbody>\n",
       "</table>\n",
       "</div>"
      ],
      "text/plain": [
       "                       event_time     event_name  \\\n",
       "39249  2019-10-22 20:36:28.968699      tips_show   \n",
       "64397  2019-10-31 09:47:08.835276      tips_show   \n",
       "18845  2019-10-14 23:51:39.332391  favorites_add   \n",
       "37689  2019-10-22 11:54:23.296102       search_5   \n",
       "10802  2019-10-11 18:55:19.532471      tips_show   \n",
       "27692  2019-10-18 11:30:56.063146    advert_open   \n",
       "5307   2019-10-09 09:35:47.128410  contacts_show   \n",
       "50231  2019-10-26 16:21:10.960617      tips_show   \n",
       "8164   2019-10-10 14:57:55.101631      tips_show   \n",
       "59530  2019-10-29 15:32:20.471928      tips_show   \n",
       "\n",
       "                                    user_id  source  \n",
       "39249  36d72f1d-b562-41b4-9888-49bce5c9e1cf  yandex  \n",
       "64397  a899a360-2a35-4e49-b00c-0c1e4a231018   other  \n",
       "18845  f8576d27-c94e-4a2d-b293-074027bbe672  yandex  \n",
       "37689  9b795517-409a-4add-84a0-68ba7d4a5954   other  \n",
       "10802  689677d5-7d3f-47af-9a27-56e88bbebce7  google  \n",
       "27692  3521521c-99cb-4142-96cb-0b97cd5c60e6  yandex  \n",
       "5307   78e8c1af-ca3b-41e9-914c-66f74590b9b6   other  \n",
       "50231  04d0b1b4-d31f-4c19-bc7e-14e5fcf6f791  yandex  \n",
       "8164   017c6afc-965d-4c94-84ee-f0e326998e30   other  \n",
       "59530  41f3d511-47cd-404e-9b28-3820a33f7090   other  "
      ]
     },
     "metadata": {},
     "output_type": "display_data"
    }
   ],
   "source": [
    "app_users_activity = events.merge(user_source, on='user_id', how='left')\n",
    "display(app_users_activity.sample(10))"
   ]
  },
  {
   "cell_type": "markdown",
   "id": "c630b47c",
   "metadata": {},
   "source": [
    "Проверяем наличие пропусков."
   ]
  },
  {
   "cell_type": "code",
   "execution_count": 11,
   "id": "92abf62c",
   "metadata": {},
   "outputs": [
    {
     "data": {
      "text/plain": [
       "event_time    0\n",
       "event_name    0\n",
       "user_id       0\n",
       "source        0\n",
       "dtype: int64"
      ]
     },
     "execution_count": 11,
     "metadata": {},
     "output_type": "execute_result"
    }
   ],
   "source": [
    "app_users_activity.isnull().sum()"
   ]
  },
  {
   "cell_type": "markdown",
   "id": "e9beda71",
   "metadata": {},
   "source": [
    "Проверяем наличие дубликатов."
   ]
  },
  {
   "cell_type": "code",
   "execution_count": 12,
   "id": "42b75220",
   "metadata": {},
   "outputs": [
    {
     "data": {
      "text/plain": [
       "0"
      ]
     },
     "execution_count": 12,
     "metadata": {},
     "output_type": "execute_result"
    }
   ],
   "source": [
    "app_users_activity.duplicated().sum()"
   ]
  },
  {
   "cell_type": "markdown",
   "id": "5bbe34d8",
   "metadata": {},
   "source": [
    "Объединим в столбце `event_name` значения `contacts_show` и `show_contacts`, `search_1` - `search_7`, для более наглядной воронки."
   ]
  },
  {
   "cell_type": "code",
   "execution_count": 13,
   "id": "6299baf9",
   "metadata": {},
   "outputs": [
    {
     "data": {
      "text/plain": [
       "Counter({'advert_open': 6164,\n",
       "         'tips_show': 40055,\n",
       "         'map': 3881,\n",
       "         'contacts_show': 4450,\n",
       "         'search_4': 701,\n",
       "         'search_5': 1049,\n",
       "         'tips_click': 814,\n",
       "         'photos_show': 10012,\n",
       "         'search_1': 3506,\n",
       "         'search_2': 324,\n",
       "         'search_3': 522,\n",
       "         'favorites_add': 1417,\n",
       "         'contacts_call': 541,\n",
       "         'search_6': 460,\n",
       "         'search_7': 222,\n",
       "         'show_contacts': 79})"
      ]
     },
     "execution_count": 13,
     "metadata": {},
     "output_type": "execute_result"
    }
   ],
   "source": [
    "Counter(app_users_activity['event_name'])"
   ]
  },
  {
   "cell_type": "code",
   "execution_count": 14,
   "id": "4bd32c14",
   "metadata": {},
   "outputs": [
    {
     "data": {
      "text/plain": [
       "Counter({'advert_open': 6164,\n",
       "         'tips_show': 40055,\n",
       "         'map': 3881,\n",
       "         'contacts_show': 5070,\n",
       "         'search': 6784,\n",
       "         'tips_click': 814,\n",
       "         'photos_show': 10012,\n",
       "         'favorites_add': 1417})"
      ]
     },
     "execution_count": 14,
     "metadata": {},
     "output_type": "execute_result"
    }
   ],
   "source": [
    "app_users_activity['event_name'] = app_users_activity['event_name'].apply(rename)\n",
    "Counter(app_users_activity['event_name'])"
   ]
  },
  {
   "cell_type": "markdown",
   "id": "37d75d13",
   "metadata": {},
   "source": [
    "Преобразуем дату и временя в нужный формат и округлим."
   ]
  },
  {
   "cell_type": "code",
   "execution_count": 15,
   "id": "d6cc7fc7",
   "metadata": {},
   "outputs": [
    {
     "name": "stdout",
     "output_type": "stream",
     "text": [
      "<class 'pandas.core.frame.DataFrame'>\n",
      "Int64Index: 74197 entries, 0 to 74196\n",
      "Data columns (total 4 columns):\n",
      " #   Column      Non-Null Count  Dtype         \n",
      "---  ------      --------------  -----         \n",
      " 0   event_time  74197 non-null  datetime64[ns]\n",
      " 1   event_name  74197 non-null  object        \n",
      " 2   user_id     74197 non-null  object        \n",
      " 3   source      74197 non-null  object        \n",
      "dtypes: datetime64[ns](1), object(3)\n",
      "memory usage: 2.8+ MB\n"
     ]
    }
   ],
   "source": [
    "app_users_activity['event_time'] = pd.to_datetime(app_users_activity['event_time']).round('1s')\n",
    "app_users_activity.info()"
   ]
  },
  {
   "cell_type": "markdown",
   "id": "7542c2cf",
   "metadata": {},
   "source": [
    "Выделим дату в отдельный столбец."
   ]
  },
  {
   "cell_type": "code",
   "execution_count": 16,
   "id": "f2c41e14",
   "metadata": {
    "scrolled": true
   },
   "outputs": [
    {
     "data": {
      "text/html": [
       "<div>\n",
       "<style scoped>\n",
       "    .dataframe tbody tr th:only-of-type {\n",
       "        vertical-align: middle;\n",
       "    }\n",
       "\n",
       "    .dataframe tbody tr th {\n",
       "        vertical-align: top;\n",
       "    }\n",
       "\n",
       "    .dataframe thead th {\n",
       "        text-align: right;\n",
       "    }\n",
       "</style>\n",
       "<table border=\"1\" class=\"dataframe\">\n",
       "  <thead>\n",
       "    <tr style=\"text-align: right;\">\n",
       "      <th></th>\n",
       "      <th>event_time</th>\n",
       "      <th>event_name</th>\n",
       "      <th>user_id</th>\n",
       "      <th>source</th>\n",
       "      <th>date</th>\n",
       "    </tr>\n",
       "  </thead>\n",
       "  <tbody>\n",
       "    <tr>\n",
       "      <th>0</th>\n",
       "      <td>2019-10-07 00:00:00</td>\n",
       "      <td>advert_open</td>\n",
       "      <td>020292ab-89bc-4156-9acf-68bc2783f894</td>\n",
       "      <td>other</td>\n",
       "      <td>2019-10-07</td>\n",
       "    </tr>\n",
       "    <tr>\n",
       "      <th>1</th>\n",
       "      <td>2019-10-07 00:00:01</td>\n",
       "      <td>tips_show</td>\n",
       "      <td>020292ab-89bc-4156-9acf-68bc2783f894</td>\n",
       "      <td>other</td>\n",
       "      <td>2019-10-07</td>\n",
       "    </tr>\n",
       "    <tr>\n",
       "      <th>2</th>\n",
       "      <td>2019-10-07 00:00:02</td>\n",
       "      <td>tips_show</td>\n",
       "      <td>cf7eda61-9349-469f-ac27-e5b6f5ec475c</td>\n",
       "      <td>yandex</td>\n",
       "      <td>2019-10-07</td>\n",
       "    </tr>\n",
       "    <tr>\n",
       "      <th>3</th>\n",
       "      <td>2019-10-07 00:00:07</td>\n",
       "      <td>tips_show</td>\n",
       "      <td>020292ab-89bc-4156-9acf-68bc2783f894</td>\n",
       "      <td>other</td>\n",
       "      <td>2019-10-07</td>\n",
       "    </tr>\n",
       "    <tr>\n",
       "      <th>4</th>\n",
       "      <td>2019-10-07 00:00:56</td>\n",
       "      <td>advert_open</td>\n",
       "      <td>cf7eda61-9349-469f-ac27-e5b6f5ec475c</td>\n",
       "      <td>yandex</td>\n",
       "      <td>2019-10-07</td>\n",
       "    </tr>\n",
       "  </tbody>\n",
       "</table>\n",
       "</div>"
      ],
      "text/plain": [
       "           event_time   event_name                               user_id  \\\n",
       "0 2019-10-07 00:00:00  advert_open  020292ab-89bc-4156-9acf-68bc2783f894   \n",
       "1 2019-10-07 00:00:01    tips_show  020292ab-89bc-4156-9acf-68bc2783f894   \n",
       "2 2019-10-07 00:00:02    tips_show  cf7eda61-9349-469f-ac27-e5b6f5ec475c   \n",
       "3 2019-10-07 00:00:07    tips_show  020292ab-89bc-4156-9acf-68bc2783f894   \n",
       "4 2019-10-07 00:00:56  advert_open  cf7eda61-9349-469f-ac27-e5b6f5ec475c   \n",
       "\n",
       "   source       date  \n",
       "0   other 2019-10-07  \n",
       "1   other 2019-10-07  \n",
       "2  yandex 2019-10-07  \n",
       "3   other 2019-10-07  \n",
       "4  yandex 2019-10-07  "
      ]
     },
     "execution_count": 16,
     "metadata": {},
     "output_type": "execute_result"
    }
   ],
   "source": [
    "app_users_activity['date'] = app_users_activity['event_time'].dt.date\n",
    "app_users_activity['date'] = pd.to_datetime(app_users_activity['date'])\n",
    "app_users_activity.head()"
   ]
  },
  {
   "cell_type": "code",
   "execution_count": 17,
   "id": "c4af6cb2",
   "metadata": {},
   "outputs": [
    {
     "data": {
      "text/plain": [
       "Timestamp('2019-11-03 00:00:00')"
      ]
     },
     "execution_count": 17,
     "metadata": {},
     "output_type": "execute_result"
    }
   ],
   "source": [
    "app_users_activity['date'].max()"
   ]
  },
  {
   "cell_type": "code",
   "execution_count": 18,
   "id": "888fcd26",
   "metadata": {},
   "outputs": [
    {
     "data": {
      "text/plain": [
       "Timestamp('2019-10-07 00:00:00')"
      ]
     },
     "execution_count": 18,
     "metadata": {},
     "output_type": "execute_result"
    }
   ],
   "source": [
    "app_users_activity['date'].min()"
   ]
  },
  {
   "cell_type": "markdown",
   "id": "d27b9e53",
   "metadata": {},
   "source": [
    "Определяем самую ранюю дату открытия приложения для каждого клиента."
   ]
  },
  {
   "cell_type": "code",
   "execution_count": 19,
   "id": "93c27597",
   "metadata": {
    "scrolled": true
   },
   "outputs": [
    {
     "data": {
      "text/html": [
       "<div>\n",
       "<style scoped>\n",
       "    .dataframe tbody tr th:only-of-type {\n",
       "        vertical-align: middle;\n",
       "    }\n",
       "\n",
       "    .dataframe tbody tr th {\n",
       "        vertical-align: top;\n",
       "    }\n",
       "\n",
       "    .dataframe thead th {\n",
       "        text-align: right;\n",
       "    }\n",
       "</style>\n",
       "<table border=\"1\" class=\"dataframe\">\n",
       "  <thead>\n",
       "    <tr style=\"text-align: right;\">\n",
       "      <th></th>\n",
       "      <th>user_id</th>\n",
       "      <th>first_vizit</th>\n",
       "    </tr>\n",
       "  </thead>\n",
       "  <tbody>\n",
       "    <tr>\n",
       "      <th>0</th>\n",
       "      <td>0001b1d5-b74a-4cbf-aeb0-7df5947bf349</td>\n",
       "      <td>2019-10-07 13:39:46</td>\n",
       "    </tr>\n",
       "    <tr>\n",
       "      <th>1</th>\n",
       "      <td>00157779-810c-4498-9e05-a1e9e3cedf93</td>\n",
       "      <td>2019-10-19 21:34:34</td>\n",
       "    </tr>\n",
       "    <tr>\n",
       "      <th>2</th>\n",
       "      <td>00463033-5717-4bf1-91b4-09183923b9df</td>\n",
       "      <td>2019-11-01 13:54:35</td>\n",
       "    </tr>\n",
       "    <tr>\n",
       "      <th>3</th>\n",
       "      <td>004690c3-5a84-4bb7-a8af-e0c8f8fca64e</td>\n",
       "      <td>2019-10-18 22:14:06</td>\n",
       "    </tr>\n",
       "    <tr>\n",
       "      <th>4</th>\n",
       "      <td>00551e79-152e-4441-9cf7-565d7eb04090</td>\n",
       "      <td>2019-10-25 16:44:41</td>\n",
       "    </tr>\n",
       "  </tbody>\n",
       "</table>\n",
       "</div>"
      ],
      "text/plain": [
       "                                user_id         first_vizit\n",
       "0  0001b1d5-b74a-4cbf-aeb0-7df5947bf349 2019-10-07 13:39:46\n",
       "1  00157779-810c-4498-9e05-a1e9e3cedf93 2019-10-19 21:34:34\n",
       "2  00463033-5717-4bf1-91b4-09183923b9df 2019-11-01 13:54:35\n",
       "3  004690c3-5a84-4bb7-a8af-e0c8f8fca64e 2019-10-18 22:14:06\n",
       "4  00551e79-152e-4441-9cf7-565d7eb04090 2019-10-25 16:44:41"
      ]
     },
     "execution_count": 19,
     "metadata": {},
     "output_type": "execute_result"
    }
   ],
   "source": [
    "first_event = (\n",
    "    app_users_activity.pivot_table(index='user_id', values='event_time', aggfunc='min')\n",
    "    .reset_index()\n",
    "    .rename(columns={'event_time': 'first_vizit'})\n",
    ")       \n",
    "first_event.head()"
   ]
  },
  {
   "cell_type": "markdown",
   "id": "729400f3",
   "metadata": {},
   "source": [
    "Соединяем основную таблицу и таблицу с первым посещением платформы."
   ]
  },
  {
   "cell_type": "code",
   "execution_count": 20,
   "id": "c95fcb08",
   "metadata": {
    "scrolled": true
   },
   "outputs": [
    {
     "name": "stdout",
     "output_type": "stream",
     "text": [
      "<class 'pandas.core.frame.DataFrame'>\n",
      "Int64Index: 74197 entries, 0 to 74196\n",
      "Data columns (total 6 columns):\n",
      " #   Column       Non-Null Count  Dtype         \n",
      "---  ------       --------------  -----         \n",
      " 0   event_time   74197 non-null  datetime64[ns]\n",
      " 1   event_name   74197 non-null  object        \n",
      " 2   user_id      74197 non-null  object        \n",
      " 3   source       74197 non-null  object        \n",
      " 4   date         74197 non-null  datetime64[ns]\n",
      " 5   first_vizit  74197 non-null  datetime64[ns]\n",
      "dtypes: datetime64[ns](3), object(3)\n",
      "memory usage: 4.0+ MB\n"
     ]
    },
    {
     "data": {
      "text/html": [
       "<div>\n",
       "<style scoped>\n",
       "    .dataframe tbody tr th:only-of-type {\n",
       "        vertical-align: middle;\n",
       "    }\n",
       "\n",
       "    .dataframe tbody tr th {\n",
       "        vertical-align: top;\n",
       "    }\n",
       "\n",
       "    .dataframe thead th {\n",
       "        text-align: right;\n",
       "    }\n",
       "</style>\n",
       "<table border=\"1\" class=\"dataframe\">\n",
       "  <thead>\n",
       "    <tr style=\"text-align: right;\">\n",
       "      <th></th>\n",
       "      <th>event_time</th>\n",
       "      <th>event_name</th>\n",
       "      <th>user_id</th>\n",
       "      <th>source</th>\n",
       "      <th>date</th>\n",
       "      <th>first_vizit</th>\n",
       "    </tr>\n",
       "  </thead>\n",
       "  <tbody>\n",
       "    <tr>\n",
       "      <th>42797</th>\n",
       "      <td>2019-10-23 21:31:08</td>\n",
       "      <td>tips_show</td>\n",
       "      <td>4a692d22-992c-47d5-9676-9e6ffb11ca7d</td>\n",
       "      <td>yandex</td>\n",
       "      <td>2019-10-23</td>\n",
       "      <td>2019-10-23 21:14:33</td>\n",
       "    </tr>\n",
       "    <tr>\n",
       "      <th>72497</th>\n",
       "      <td>2019-11-03 15:37:07</td>\n",
       "      <td>tips_show</td>\n",
       "      <td>3ed35620-cf6c-47a9-aa80-dd54436a82ae</td>\n",
       "      <td>yandex</td>\n",
       "      <td>2019-11-03</td>\n",
       "      <td>2019-10-29 09:08:56</td>\n",
       "    </tr>\n",
       "    <tr>\n",
       "      <th>29370</th>\n",
       "      <td>2019-10-18 21:23:37</td>\n",
       "      <td>tips_show</td>\n",
       "      <td>a2311cac-437a-4e11-96d5-a492f5147771</td>\n",
       "      <td>other</td>\n",
       "      <td>2019-10-18</td>\n",
       "      <td>2019-10-18 20:55:58</td>\n",
       "    </tr>\n",
       "    <tr>\n",
       "      <th>6156</th>\n",
       "      <td>2019-10-09 15:18:42</td>\n",
       "      <td>tips_show</td>\n",
       "      <td>cb36854f-570a-41f4-baa8-36680b396370</td>\n",
       "      <td>yandex</td>\n",
       "      <td>2019-10-09</td>\n",
       "      <td>2019-10-07 11:39:43</td>\n",
       "    </tr>\n",
       "    <tr>\n",
       "      <th>41993</th>\n",
       "      <td>2019-10-23 17:38:16</td>\n",
       "      <td>tips_show</td>\n",
       "      <td>7af54793-05d6-4c51-ad67-de79e9f94c5d</td>\n",
       "      <td>yandex</td>\n",
       "      <td>2019-10-23</td>\n",
       "      <td>2019-10-23 17:21:10</td>\n",
       "    </tr>\n",
       "  </tbody>\n",
       "</table>\n",
       "</div>"
      ],
      "text/plain": [
       "               event_time event_name                               user_id  \\\n",
       "42797 2019-10-23 21:31:08  tips_show  4a692d22-992c-47d5-9676-9e6ffb11ca7d   \n",
       "72497 2019-11-03 15:37:07  tips_show  3ed35620-cf6c-47a9-aa80-dd54436a82ae   \n",
       "29370 2019-10-18 21:23:37  tips_show  a2311cac-437a-4e11-96d5-a492f5147771   \n",
       "6156  2019-10-09 15:18:42  tips_show  cb36854f-570a-41f4-baa8-36680b396370   \n",
       "41993 2019-10-23 17:38:16  tips_show  7af54793-05d6-4c51-ad67-de79e9f94c5d   \n",
       "\n",
       "       source       date         first_vizit  \n",
       "42797  yandex 2019-10-23 2019-10-23 21:14:33  \n",
       "72497  yandex 2019-11-03 2019-10-29 09:08:56  \n",
       "29370   other 2019-10-18 2019-10-18 20:55:58  \n",
       "6156   yandex 2019-10-09 2019-10-07 11:39:43  \n",
       "41993  yandex 2019-10-23 2019-10-23 17:21:10  "
      ]
     },
     "execution_count": 20,
     "metadata": {},
     "output_type": "execute_result"
    }
   ],
   "source": [
    "app_users_activity = app_users_activity.merge(first_event, on='user_id', how='left')\n",
    "app_users_activity.info()\n",
    "app_users_activity.sample(5)"
   ]
  },
  {
   "cell_type": "markdown",
   "id": "3e67261f",
   "metadata": {},
   "source": [
    "Добавляем столбец с выделенным из даты днем недели."
   ]
  },
  {
   "cell_type": "code",
   "execution_count": 21,
   "id": "69cd5a82",
   "metadata": {
    "scrolled": true
   },
   "outputs": [
    {
     "data": {
      "text/html": [
       "<div>\n",
       "<style scoped>\n",
       "    .dataframe tbody tr th:only-of-type {\n",
       "        vertical-align: middle;\n",
       "    }\n",
       "\n",
       "    .dataframe tbody tr th {\n",
       "        vertical-align: top;\n",
       "    }\n",
       "\n",
       "    .dataframe thead th {\n",
       "        text-align: right;\n",
       "    }\n",
       "</style>\n",
       "<table border=\"1\" class=\"dataframe\">\n",
       "  <thead>\n",
       "    <tr style=\"text-align: right;\">\n",
       "      <th></th>\n",
       "      <th>event_time</th>\n",
       "      <th>event_name</th>\n",
       "      <th>user_id</th>\n",
       "      <th>source</th>\n",
       "      <th>date</th>\n",
       "      <th>first_vizit</th>\n",
       "      <th>week_day</th>\n",
       "    </tr>\n",
       "  </thead>\n",
       "  <tbody>\n",
       "    <tr>\n",
       "      <th>44217</th>\n",
       "      <td>2019-10-24 13:13:32</td>\n",
       "      <td>contacts_show</td>\n",
       "      <td>a3f24168-018f-49ee-8e1f-cc9c528d5aa4</td>\n",
       "      <td>google</td>\n",
       "      <td>2019-10-24</td>\n",
       "      <td>2019-10-24 12:36:48</td>\n",
       "      <td>Thursday</td>\n",
       "    </tr>\n",
       "    <tr>\n",
       "      <th>65695</th>\n",
       "      <td>2019-10-31 16:44:03</td>\n",
       "      <td>tips_show</td>\n",
       "      <td>abdcbe3c-221b-4f59-afd9-bf9ca78f7e4c</td>\n",
       "      <td>google</td>\n",
       "      <td>2019-10-31</td>\n",
       "      <td>2019-10-11 12:16:26</td>\n",
       "      <td>Thursday</td>\n",
       "    </tr>\n",
       "    <tr>\n",
       "      <th>60033</th>\n",
       "      <td>2019-10-29 18:06:35</td>\n",
       "      <td>tips_show</td>\n",
       "      <td>7cc49431-c898-412c-82c3-172fe0cd5f2d</td>\n",
       "      <td>yandex</td>\n",
       "      <td>2019-10-29</td>\n",
       "      <td>2019-10-21 17:58:39</td>\n",
       "      <td>Tuesday</td>\n",
       "    </tr>\n",
       "    <tr>\n",
       "      <th>40888</th>\n",
       "      <td>2019-10-23 13:52:36</td>\n",
       "      <td>tips_show</td>\n",
       "      <td>230b1f7a-17c1-4ee6-b8f3-a996f1a3b7e3</td>\n",
       "      <td>yandex</td>\n",
       "      <td>2019-10-23</td>\n",
       "      <td>2019-10-23 13:39:54</td>\n",
       "      <td>Wednesday</td>\n",
       "    </tr>\n",
       "    <tr>\n",
       "      <th>71188</th>\n",
       "      <td>2019-11-02 22:39:19</td>\n",
       "      <td>advert_open</td>\n",
       "      <td>8d9f19b7-1ec9-401e-82f4-2b2d026d89c6</td>\n",
       "      <td>yandex</td>\n",
       "      <td>2019-11-02</td>\n",
       "      <td>2019-11-01 18:37:59</td>\n",
       "      <td>Saturday</td>\n",
       "    </tr>\n",
       "  </tbody>\n",
       "</table>\n",
       "</div>"
      ],
      "text/plain": [
       "               event_time     event_name  \\\n",
       "44217 2019-10-24 13:13:32  contacts_show   \n",
       "65695 2019-10-31 16:44:03      tips_show   \n",
       "60033 2019-10-29 18:06:35      tips_show   \n",
       "40888 2019-10-23 13:52:36      tips_show   \n",
       "71188 2019-11-02 22:39:19    advert_open   \n",
       "\n",
       "                                    user_id  source       date  \\\n",
       "44217  a3f24168-018f-49ee-8e1f-cc9c528d5aa4  google 2019-10-24   \n",
       "65695  abdcbe3c-221b-4f59-afd9-bf9ca78f7e4c  google 2019-10-31   \n",
       "60033  7cc49431-c898-412c-82c3-172fe0cd5f2d  yandex 2019-10-29   \n",
       "40888  230b1f7a-17c1-4ee6-b8f3-a996f1a3b7e3  yandex 2019-10-23   \n",
       "71188  8d9f19b7-1ec9-401e-82f4-2b2d026d89c6  yandex 2019-11-02   \n",
       "\n",
       "              first_vizit   week_day  \n",
       "44217 2019-10-24 12:36:48   Thursday  \n",
       "65695 2019-10-11 12:16:26   Thursday  \n",
       "60033 2019-10-21 17:58:39    Tuesday  \n",
       "40888 2019-10-23 13:39:54  Wednesday  \n",
       "71188 2019-11-01 18:37:59   Saturday  "
      ]
     },
     "execution_count": 21,
     "metadata": {},
     "output_type": "execute_result"
    }
   ],
   "source": [
    "app_users_activity['week_day'] = app_users_activity['event_time'].dt.day_name()\n",
    "app_users_activity.sample(5)"
   ]
  },
  {
   "cell_type": "code",
   "execution_count": 22,
   "id": "5b0369dc",
   "metadata": {},
   "outputs": [
    {
     "data": {
      "text/plain": [
       "1194"
      ]
     },
     "execution_count": 22,
     "metadata": {},
     "output_type": "execute_result"
    }
   ],
   "source": [
    "app_users_activity.duplicated().sum()"
   ]
  },
  {
   "cell_type": "markdown",
   "id": "4298f288",
   "metadata": {},
   "source": [
    "Дубликаты появились из-за округления времени до секунд. 1,6% от всех записей, можно не удалять."
   ]
  },
  {
   "cell_type": "markdown",
   "id": "e8858984",
   "metadata": {},
   "source": [
    "## Исследовательский анализ данных"
   ]
  },
  {
   "cell_type": "markdown",
   "id": "35c2f154",
   "metadata": {},
   "source": [
    "Рассмотрим распределение данных. Данных для работы достаточно."
   ]
  },
  {
   "cell_type": "code",
   "execution_count": 23,
   "id": "c7cfcc0d",
   "metadata": {},
   "outputs": [
    {
     "data": {
      "image/png": "[encoded data removed]",
      "text/plain": [
       "<Figure size 648x288 with 1 Axes>"
      ]
     },
     "metadata": {},
     "output_type": "display_data"
    }
   ],
   "source": [
    "plt.figure(figsize=(9, 4))\n",
    "app_users_activity['event_time'].hist(bins=100, color='mediumpurple')\n",
    "plt.xticks(rotation=45)\n",
    "plt.title('Распределение данных')\n",
    "plt.xlabel('Дата')\n",
    "plt.ylabel('')\n",
    "plt.show()"
   ]
  },
  {
   "cell_type": "markdown",
   "id": "751784a5",
   "metadata": {},
   "source": [
    "Все пользователи пришли через один источник привлечения."
   ]
  },
  {
   "cell_type": "code",
   "execution_count": 24,
   "id": "88afd7d9",
   "metadata": {
    "scrolled": true
   },
   "outputs": [
    {
     "data": {
      "image/png": "[encoded data removed]",
      "text/plain": [
       "<Figure size 432x288 with 1 Axes>"
      ]
     },
     "metadata": {},
     "output_type": "display_data"
    }
   ],
   "source": [
    "(\n",
    "    app_users_activity.groupby('user_id')['source'].nunique()\n",
    "    .reset_index()\n",
    "    .hist(grid=True, color='mediumpurple')\n",
    ");"
   ]
  },
  {
   "cell_type": "markdown",
   "id": "9d0b585e",
   "metadata": {},
   "source": [
    "Выделяем пользовательские сессии по 20 минут. Примерно такое количество времени пользователи без отрыва за один раз проводят в приложении."
   ]
  },
  {
   "cell_type": "code",
   "execution_count": 25,
   "id": "444c6b25",
   "metadata": {
    "scrolled": true
   },
   "outputs": [
    {
     "data": {
      "text/html": [
       "<div>\n",
       "<style scoped>\n",
       "    .dataframe tbody tr th:only-of-type {\n",
       "        vertical-align: middle;\n",
       "    }\n",
       "\n",
       "    .dataframe tbody tr th {\n",
       "        vertical-align: top;\n",
       "    }\n",
       "\n",
       "    .dataframe thead th {\n",
       "        text-align: right;\n",
       "    }\n",
       "</style>\n",
       "<table border=\"1\" class=\"dataframe\">\n",
       "  <thead>\n",
       "    <tr style=\"text-align: right;\">\n",
       "      <th></th>\n",
       "      <th>event_time</th>\n",
       "      <th>event_name</th>\n",
       "      <th>user_id</th>\n",
       "      <th>source</th>\n",
       "      <th>date</th>\n",
       "      <th>first_vizit</th>\n",
       "      <th>week_day</th>\n",
       "      <th>user_sessions</th>\n",
       "    </tr>\n",
       "  </thead>\n",
       "  <tbody>\n",
       "    <tr>\n",
       "      <th>0</th>\n",
       "      <td>2019-10-07 00:00:00</td>\n",
       "      <td>advert_open</td>\n",
       "      <td>020292ab-89bc-4156-9acf-68bc2783f894</td>\n",
       "      <td>other</td>\n",
       "      <td>2019-10-07</td>\n",
       "      <td>2019-10-07 00:00:00</td>\n",
       "      <td>Monday</td>\n",
       "      <td>1</td>\n",
       "    </tr>\n",
       "    <tr>\n",
       "      <th>1</th>\n",
       "      <td>2019-10-07 00:00:01</td>\n",
       "      <td>tips_show</td>\n",
       "      <td>020292ab-89bc-4156-9acf-68bc2783f894</td>\n",
       "      <td>other</td>\n",
       "      <td>2019-10-07</td>\n",
       "      <td>2019-10-07 00:00:00</td>\n",
       "      <td>Monday</td>\n",
       "      <td>1</td>\n",
       "    </tr>\n",
       "    <tr>\n",
       "      <th>2</th>\n",
       "      <td>2019-10-07 00:00:02</td>\n",
       "      <td>tips_show</td>\n",
       "      <td>cf7eda61-9349-469f-ac27-e5b6f5ec475c</td>\n",
       "      <td>yandex</td>\n",
       "      <td>2019-10-07</td>\n",
       "      <td>2019-10-07 00:00:02</td>\n",
       "      <td>Monday</td>\n",
       "      <td>2</td>\n",
       "    </tr>\n",
       "    <tr>\n",
       "      <th>3</th>\n",
       "      <td>2019-10-07 00:00:07</td>\n",
       "      <td>tips_show</td>\n",
       "      <td>020292ab-89bc-4156-9acf-68bc2783f894</td>\n",
       "      <td>other</td>\n",
       "      <td>2019-10-07</td>\n",
       "      <td>2019-10-07 00:00:00</td>\n",
       "      <td>Monday</td>\n",
       "      <td>1</td>\n",
       "    </tr>\n",
       "    <tr>\n",
       "      <th>4</th>\n",
       "      <td>2019-10-07 00:00:56</td>\n",
       "      <td>advert_open</td>\n",
       "      <td>cf7eda61-9349-469f-ac27-e5b6f5ec475c</td>\n",
       "      <td>yandex</td>\n",
       "      <td>2019-10-07</td>\n",
       "      <td>2019-10-07 00:00:02</td>\n",
       "      <td>Monday</td>\n",
       "      <td>2</td>\n",
       "    </tr>\n",
       "  </tbody>\n",
       "</table>\n",
       "</div>"
      ],
      "text/plain": [
       "           event_time   event_name                               user_id  \\\n",
       "0 2019-10-07 00:00:00  advert_open  020292ab-89bc-4156-9acf-68bc2783f894   \n",
       "1 2019-10-07 00:00:01    tips_show  020292ab-89bc-4156-9acf-68bc2783f894   \n",
       "2 2019-10-07 00:00:02    tips_show  cf7eda61-9349-469f-ac27-e5b6f5ec475c   \n",
       "3 2019-10-07 00:00:07    tips_show  020292ab-89bc-4156-9acf-68bc2783f894   \n",
       "4 2019-10-07 00:00:56  advert_open  cf7eda61-9349-469f-ac27-e5b6f5ec475c   \n",
       "\n",
       "   source       date         first_vizit week_day  user_sessions  \n",
       "0   other 2019-10-07 2019-10-07 00:00:00   Monday              1  \n",
       "1   other 2019-10-07 2019-10-07 00:00:00   Monday              1  \n",
       "2  yandex 2019-10-07 2019-10-07 00:00:02   Monday              2  \n",
       "3   other 2019-10-07 2019-10-07 00:00:00   Monday              1  \n",
       "4  yandex 2019-10-07 2019-10-07 00:00:02   Monday              2  "
      ]
     },
     "metadata": {},
     "output_type": "display_data"
    }
   ],
   "source": [
    "g = app_users_activity[['user_id','event_time']].sort_values(by='event_time')\n",
    "g = (g.groupby('user_id')['event_time'].diff() > pd.Timedelta('20Min')).cumsum()\n",
    "app_users_activity['user_sessions'] = app_users_activity.groupby(['user_id', g], sort=False).ngroup() + 1\n",
    "display(app_users_activity.head())\n"
   ]
  },
  {
   "cell_type": "markdown",
   "id": "f28bd0a8",
   "metadata": {},
   "source": [
    "Расчет время начала сессий. Группируем таблицу по номеру сессий и находим самое маленькое значение времени для каждой сессии."
   ]
  },
  {
   "cell_type": "code",
   "execution_count": 26,
   "id": "af570c21",
   "metadata": {},
   "outputs": [
    {
     "data": {
      "text/html": [
       "<div>\n",
       "<style scoped>\n",
       "    .dataframe tbody tr th:only-of-type {\n",
       "        vertical-align: middle;\n",
       "    }\n",
       "\n",
       "    .dataframe tbody tr th {\n",
       "        vertical-align: top;\n",
       "    }\n",
       "\n",
       "    .dataframe thead th {\n",
       "        text-align: right;\n",
       "    }\n",
       "</style>\n",
       "<table border=\"1\" class=\"dataframe\">\n",
       "  <thead>\n",
       "    <tr style=\"text-align: right;\">\n",
       "      <th></th>\n",
       "      <th>user_sessions</th>\n",
       "      <th>session_start</th>\n",
       "    </tr>\n",
       "  </thead>\n",
       "  <tbody>\n",
       "    <tr>\n",
       "      <th>0</th>\n",
       "      <td>1</td>\n",
       "      <td>2019-10-07 00:00:00</td>\n",
       "    </tr>\n",
       "    <tr>\n",
       "      <th>1</th>\n",
       "      <td>2</td>\n",
       "      <td>2019-10-07 00:00:02</td>\n",
       "    </tr>\n",
       "    <tr>\n",
       "      <th>2</th>\n",
       "      <td>3</td>\n",
       "      <td>2019-10-07 00:02:07</td>\n",
       "    </tr>\n",
       "    <tr>\n",
       "      <th>3</th>\n",
       "      <td>4</td>\n",
       "      <td>2019-10-07 00:05:20</td>\n",
       "    </tr>\n",
       "    <tr>\n",
       "      <th>4</th>\n",
       "      <td>5</td>\n",
       "      <td>2019-10-07 00:09:34</td>\n",
       "    </tr>\n",
       "  </tbody>\n",
       "</table>\n",
       "</div>"
      ],
      "text/plain": [
       "   user_sessions       session_start\n",
       "0              1 2019-10-07 00:00:00\n",
       "1              2 2019-10-07 00:00:02\n",
       "2              3 2019-10-07 00:02:07\n",
       "3              4 2019-10-07 00:05:20\n",
       "4              5 2019-10-07 00:09:34"
      ]
     },
     "execution_count": 26,
     "metadata": {},
     "output_type": "execute_result"
    }
   ],
   "source": [
    "temp = (\n",
    "    app_users_activity.pivot_table(index=('user_sessions'), values='event_time', aggfunc='min')\n",
    "    .reset_index()\n",
    "    .rename(columns={'event_time': 'session_start'})   \n",
    ")\n",
    "temp.head()"
   ]
  },
  {
   "cell_type": "markdown",
   "id": "3ed814d3",
   "metadata": {},
   "source": [
    "Присоединяем таблицу с началом сессий к основной таблице. "
   ]
  },
  {
   "cell_type": "code",
   "execution_count": 27,
   "id": "21032ec9",
   "metadata": {
    "scrolled": false
   },
   "outputs": [
    {
     "name": "stdout",
     "output_type": "stream",
     "text": [
      "<class 'pandas.core.frame.DataFrame'>\n",
      "Int64Index: 74197 entries, 0 to 74196\n",
      "Data columns (total 9 columns):\n",
      " #   Column         Non-Null Count  Dtype         \n",
      "---  ------         --------------  -----         \n",
      " 0   event_time     74197 non-null  datetime64[ns]\n",
      " 1   event_name     74197 non-null  object        \n",
      " 2   user_id        74197 non-null  object        \n",
      " 3   source         74197 non-null  object        \n",
      " 4   date           74197 non-null  datetime64[ns]\n",
      " 5   first_vizit    74197 non-null  datetime64[ns]\n",
      " 6   week_day       74197 non-null  object        \n",
      " 7   user_sessions  74197 non-null  int64         \n",
      " 8   session_start  74197 non-null  datetime64[ns]\n",
      "dtypes: datetime64[ns](4), int64(1), object(4)\n",
      "memory usage: 5.7+ MB\n"
     ]
    },
    {
     "data": {
      "text/html": [
       "<div>\n",
       "<style scoped>\n",
       "    .dataframe tbody tr th:only-of-type {\n",
       "        vertical-align: middle;\n",
       "    }\n",
       "\n",
       "    .dataframe tbody tr th {\n",
       "        vertical-align: top;\n",
       "    }\n",
       "\n",
       "    .dataframe thead th {\n",
       "        text-align: right;\n",
       "    }\n",
       "</style>\n",
       "<table border=\"1\" class=\"dataframe\">\n",
       "  <thead>\n",
       "    <tr style=\"text-align: right;\">\n",
       "      <th></th>\n",
       "      <th>event_time</th>\n",
       "      <th>event_name</th>\n",
       "      <th>user_id</th>\n",
       "      <th>source</th>\n",
       "      <th>date</th>\n",
       "      <th>first_vizit</th>\n",
       "      <th>week_day</th>\n",
       "      <th>user_sessions</th>\n",
       "      <th>session_start</th>\n",
       "    </tr>\n",
       "  </thead>\n",
       "  <tbody>\n",
       "    <tr>\n",
       "      <th>0</th>\n",
       "      <td>2019-10-07 00:00:00</td>\n",
       "      <td>advert_open</td>\n",
       "      <td>020292ab-89bc-4156-9acf-68bc2783f894</td>\n",
       "      <td>other</td>\n",
       "      <td>2019-10-07</td>\n",
       "      <td>2019-10-07 00:00:00</td>\n",
       "      <td>Monday</td>\n",
       "      <td>1</td>\n",
       "      <td>2019-10-07 00:00:00</td>\n",
       "    </tr>\n",
       "    <tr>\n",
       "      <th>1</th>\n",
       "      <td>2019-10-07 00:00:01</td>\n",
       "      <td>tips_show</td>\n",
       "      <td>020292ab-89bc-4156-9acf-68bc2783f894</td>\n",
       "      <td>other</td>\n",
       "      <td>2019-10-07</td>\n",
       "      <td>2019-10-07 00:00:00</td>\n",
       "      <td>Monday</td>\n",
       "      <td>1</td>\n",
       "      <td>2019-10-07 00:00:00</td>\n",
       "    </tr>\n",
       "    <tr>\n",
       "      <th>2</th>\n",
       "      <td>2019-10-07 00:00:02</td>\n",
       "      <td>tips_show</td>\n",
       "      <td>cf7eda61-9349-469f-ac27-e5b6f5ec475c</td>\n",
       "      <td>yandex</td>\n",
       "      <td>2019-10-07</td>\n",
       "      <td>2019-10-07 00:00:02</td>\n",
       "      <td>Monday</td>\n",
       "      <td>2</td>\n",
       "      <td>2019-10-07 00:00:02</td>\n",
       "    </tr>\n",
       "    <tr>\n",
       "      <th>3</th>\n",
       "      <td>2019-10-07 00:00:07</td>\n",
       "      <td>tips_show</td>\n",
       "      <td>020292ab-89bc-4156-9acf-68bc2783f894</td>\n",
       "      <td>other</td>\n",
       "      <td>2019-10-07</td>\n",
       "      <td>2019-10-07 00:00:00</td>\n",
       "      <td>Monday</td>\n",
       "      <td>1</td>\n",
       "      <td>2019-10-07 00:00:00</td>\n",
       "    </tr>\n",
       "    <tr>\n",
       "      <th>4</th>\n",
       "      <td>2019-10-07 00:00:56</td>\n",
       "      <td>advert_open</td>\n",
       "      <td>cf7eda61-9349-469f-ac27-e5b6f5ec475c</td>\n",
       "      <td>yandex</td>\n",
       "      <td>2019-10-07</td>\n",
       "      <td>2019-10-07 00:00:02</td>\n",
       "      <td>Monday</td>\n",
       "      <td>2</td>\n",
       "      <td>2019-10-07 00:00:02</td>\n",
       "    </tr>\n",
       "  </tbody>\n",
       "</table>\n",
       "</div>"
      ],
      "text/plain": [
       "           event_time   event_name                               user_id  \\\n",
       "0 2019-10-07 00:00:00  advert_open  020292ab-89bc-4156-9acf-68bc2783f894   \n",
       "1 2019-10-07 00:00:01    tips_show  020292ab-89bc-4156-9acf-68bc2783f894   \n",
       "2 2019-10-07 00:00:02    tips_show  cf7eda61-9349-469f-ac27-e5b6f5ec475c   \n",
       "3 2019-10-07 00:00:07    tips_show  020292ab-89bc-4156-9acf-68bc2783f894   \n",
       "4 2019-10-07 00:00:56  advert_open  cf7eda61-9349-469f-ac27-e5b6f5ec475c   \n",
       "\n",
       "   source       date         first_vizit week_day  user_sessions  \\\n",
       "0   other 2019-10-07 2019-10-07 00:00:00   Monday              1   \n",
       "1   other 2019-10-07 2019-10-07 00:00:00   Monday              1   \n",
       "2  yandex 2019-10-07 2019-10-07 00:00:02   Monday              2   \n",
       "3   other 2019-10-07 2019-10-07 00:00:00   Monday              1   \n",
       "4  yandex 2019-10-07 2019-10-07 00:00:02   Monday              2   \n",
       "\n",
       "        session_start  \n",
       "0 2019-10-07 00:00:00  \n",
       "1 2019-10-07 00:00:00  \n",
       "2 2019-10-07 00:00:02  \n",
       "3 2019-10-07 00:00:00  \n",
       "4 2019-10-07 00:00:02  "
      ]
     },
     "execution_count": 27,
     "metadata": {},
     "output_type": "execute_result"
    }
   ],
   "source": [
    "app_users_activity = app_users_activity.merge(temp, on='user_sessions', how='left')\n",
    "app_users_activity.info()\n",
    "app_users_activity.head(5)"
   ]
  },
  {
   "cell_type": "markdown",
   "id": "dc50804b",
   "metadata": {},
   "source": [
    "Расчет времени окончания сессий. Группируем таблицу по номеру сессий и находим самое большое значение времени для каждой сессии."
   ]
  },
  {
   "cell_type": "code",
   "execution_count": 28,
   "id": "9f527da6",
   "metadata": {
    "scrolled": true
   },
   "outputs": [
    {
     "data": {
      "text/html": [
       "<div>\n",
       "<style scoped>\n",
       "    .dataframe tbody tr th:only-of-type {\n",
       "        vertical-align: middle;\n",
       "    }\n",
       "\n",
       "    .dataframe tbody tr th {\n",
       "        vertical-align: top;\n",
       "    }\n",
       "\n",
       "    .dataframe thead th {\n",
       "        text-align: right;\n",
       "    }\n",
       "</style>\n",
       "<table border=\"1\" class=\"dataframe\">\n",
       "  <thead>\n",
       "    <tr style=\"text-align: right;\">\n",
       "      <th></th>\n",
       "      <th>user_sessions</th>\n",
       "      <th>session_start</th>\n",
       "      <th>session_end</th>\n",
       "    </tr>\n",
       "  </thead>\n",
       "  <tbody>\n",
       "    <tr>\n",
       "      <th>0</th>\n",
       "      <td>1</td>\n",
       "      <td>2019-10-07 00:00:00</td>\n",
       "      <td>2019-10-07 00:18:43</td>\n",
       "    </tr>\n",
       "    <tr>\n",
       "      <th>1</th>\n",
       "      <td>2</td>\n",
       "      <td>2019-10-07 00:00:02</td>\n",
       "      <td>2019-10-07 00:41:40</td>\n",
       "    </tr>\n",
       "    <tr>\n",
       "      <th>2</th>\n",
       "      <td>3</td>\n",
       "      <td>2019-10-07 00:02:07</td>\n",
       "      <td>2019-10-07 00:30:22</td>\n",
       "    </tr>\n",
       "    <tr>\n",
       "      <th>3</th>\n",
       "      <td>4</td>\n",
       "      <td>2019-10-07 00:05:20</td>\n",
       "      <td>2019-10-07 00:05:23</td>\n",
       "    </tr>\n",
       "    <tr>\n",
       "      <th>4</th>\n",
       "      <td>5</td>\n",
       "      <td>2019-10-07 00:09:34</td>\n",
       "      <td>2019-10-07 00:50:22</td>\n",
       "    </tr>\n",
       "  </tbody>\n",
       "</table>\n",
       "</div>"
      ],
      "text/plain": [
       "   user_sessions       session_start         session_end\n",
       "0              1 2019-10-07 00:00:00 2019-10-07 00:18:43\n",
       "1              2 2019-10-07 00:00:02 2019-10-07 00:41:40\n",
       "2              3 2019-10-07 00:02:07 2019-10-07 00:30:22\n",
       "3              4 2019-10-07 00:05:20 2019-10-07 00:05:23\n",
       "4              5 2019-10-07 00:09:34 2019-10-07 00:50:22"
      ]
     },
     "execution_count": 28,
     "metadata": {},
     "output_type": "execute_result"
    }
   ],
   "source": [
    "temp = (\n",
    "    app_users_activity.pivot_table(index=['user_sessions', 'session_start'], values='event_time', aggfunc='max')\n",
    "    .reset_index()\n",
    "    .rename(columns={'event_time': 'session_end'})   \n",
    ")\n",
    "temp.head()"
   ]
  },
  {
   "cell_type": "markdown",
   "id": "3c5def42",
   "metadata": {},
   "source": [
    "Присоединяем таблицу к основной таблице."
   ]
  },
  {
   "cell_type": "code",
   "execution_count": 29,
   "id": "3d658c41",
   "metadata": {
    "scrolled": true
   },
   "outputs": [
    {
     "data": {
      "text/html": [
       "<div>\n",
       "<style scoped>\n",
       "    .dataframe tbody tr th:only-of-type {\n",
       "        vertical-align: middle;\n",
       "    }\n",
       "\n",
       "    .dataframe tbody tr th {\n",
       "        vertical-align: top;\n",
       "    }\n",
       "\n",
       "    .dataframe thead th {\n",
       "        text-align: right;\n",
       "    }\n",
       "</style>\n",
       "<table border=\"1\" class=\"dataframe\">\n",
       "  <thead>\n",
       "    <tr style=\"text-align: right;\">\n",
       "      <th></th>\n",
       "      <th>event_time</th>\n",
       "      <th>event_name</th>\n",
       "      <th>user_id</th>\n",
       "      <th>source</th>\n",
       "      <th>date</th>\n",
       "      <th>first_vizit</th>\n",
       "      <th>week_day</th>\n",
       "      <th>user_sessions</th>\n",
       "      <th>session_start</th>\n",
       "      <th>session_end</th>\n",
       "    </tr>\n",
       "  </thead>\n",
       "  <tbody>\n",
       "    <tr>\n",
       "      <th>0</th>\n",
       "      <td>2019-10-07 00:00:00</td>\n",
       "      <td>advert_open</td>\n",
       "      <td>020292ab-89bc-4156-9acf-68bc2783f894</td>\n",
       "      <td>other</td>\n",
       "      <td>2019-10-07</td>\n",
       "      <td>2019-10-07 00:00:00</td>\n",
       "      <td>Monday</td>\n",
       "      <td>1</td>\n",
       "      <td>2019-10-07 00:00:00</td>\n",
       "      <td>2019-10-07 00:18:43</td>\n",
       "    </tr>\n",
       "    <tr>\n",
       "      <th>1</th>\n",
       "      <td>2019-10-07 00:00:01</td>\n",
       "      <td>tips_show</td>\n",
       "      <td>020292ab-89bc-4156-9acf-68bc2783f894</td>\n",
       "      <td>other</td>\n",
       "      <td>2019-10-07</td>\n",
       "      <td>2019-10-07 00:00:00</td>\n",
       "      <td>Monday</td>\n",
       "      <td>1</td>\n",
       "      <td>2019-10-07 00:00:00</td>\n",
       "      <td>2019-10-07 00:18:43</td>\n",
       "    </tr>\n",
       "    <tr>\n",
       "      <th>2</th>\n",
       "      <td>2019-10-07 00:00:02</td>\n",
       "      <td>tips_show</td>\n",
       "      <td>cf7eda61-9349-469f-ac27-e5b6f5ec475c</td>\n",
       "      <td>yandex</td>\n",
       "      <td>2019-10-07</td>\n",
       "      <td>2019-10-07 00:00:02</td>\n",
       "      <td>Monday</td>\n",
       "      <td>2</td>\n",
       "      <td>2019-10-07 00:00:02</td>\n",
       "      <td>2019-10-07 00:41:40</td>\n",
       "    </tr>\n",
       "    <tr>\n",
       "      <th>3</th>\n",
       "      <td>2019-10-07 00:00:07</td>\n",
       "      <td>tips_show</td>\n",
       "      <td>020292ab-89bc-4156-9acf-68bc2783f894</td>\n",
       "      <td>other</td>\n",
       "      <td>2019-10-07</td>\n",
       "      <td>2019-10-07 00:00:00</td>\n",
       "      <td>Monday</td>\n",
       "      <td>1</td>\n",
       "      <td>2019-10-07 00:00:00</td>\n",
       "      <td>2019-10-07 00:18:43</td>\n",
       "    </tr>\n",
       "    <tr>\n",
       "      <th>4</th>\n",
       "      <td>2019-10-07 00:00:56</td>\n",
       "      <td>advert_open</td>\n",
       "      <td>cf7eda61-9349-469f-ac27-e5b6f5ec475c</td>\n",
       "      <td>yandex</td>\n",
       "      <td>2019-10-07</td>\n",
       "      <td>2019-10-07 00:00:02</td>\n",
       "      <td>Monday</td>\n",
       "      <td>2</td>\n",
       "      <td>2019-10-07 00:00:02</td>\n",
       "      <td>2019-10-07 00:41:40</td>\n",
       "    </tr>\n",
       "  </tbody>\n",
       "</table>\n",
       "</div>"
      ],
      "text/plain": [
       "           event_time   event_name                               user_id  \\\n",
       "0 2019-10-07 00:00:00  advert_open  020292ab-89bc-4156-9acf-68bc2783f894   \n",
       "1 2019-10-07 00:00:01    tips_show  020292ab-89bc-4156-9acf-68bc2783f894   \n",
       "2 2019-10-07 00:00:02    tips_show  cf7eda61-9349-469f-ac27-e5b6f5ec475c   \n",
       "3 2019-10-07 00:00:07    tips_show  020292ab-89bc-4156-9acf-68bc2783f894   \n",
       "4 2019-10-07 00:00:56  advert_open  cf7eda61-9349-469f-ac27-e5b6f5ec475c   \n",
       "\n",
       "   source       date         first_vizit week_day  user_sessions  \\\n",
       "0   other 2019-10-07 2019-10-07 00:00:00   Monday              1   \n",
       "1   other 2019-10-07 2019-10-07 00:00:00   Monday              1   \n",
       "2  yandex 2019-10-07 2019-10-07 00:00:02   Monday              2   \n",
       "3   other 2019-10-07 2019-10-07 00:00:00   Monday              1   \n",
       "4  yandex 2019-10-07 2019-10-07 00:00:02   Monday              2   \n",
       "\n",
       "        session_start         session_end  \n",
       "0 2019-10-07 00:00:00 2019-10-07 00:18:43  \n",
       "1 2019-10-07 00:00:00 2019-10-07 00:18:43  \n",
       "2 2019-10-07 00:00:02 2019-10-07 00:41:40  \n",
       "3 2019-10-07 00:00:00 2019-10-07 00:18:43  \n",
       "4 2019-10-07 00:00:02 2019-10-07 00:41:40  "
      ]
     },
     "execution_count": 29,
     "metadata": {},
     "output_type": "execute_result"
    }
   ],
   "source": [
    "app_users_activity = app_users_activity.merge(temp, on=['user_sessions','session_start'], how='left')\n",
    "app_users_activity.head(5)"
   ]
  },
  {
   "cell_type": "markdown",
   "id": "f4feaef6",
   "metadata": {},
   "source": [
    "Вычисляем длительность сессий в секундах. Время окончания сессии - время начала сессии."
   ]
  },
  {
   "cell_type": "code",
   "execution_count": 30,
   "id": "2d09d6ac",
   "metadata": {
    "scrolled": true
   },
   "outputs": [
    {
     "name": "stdout",
     "output_type": "stream",
     "text": [
      "<class 'pandas.core.frame.DataFrame'>\n",
      "Int64Index: 74197 entries, 0 to 74196\n",
      "Data columns (total 11 columns):\n",
      " #   Column            Non-Null Count  Dtype         \n",
      "---  ------            --------------  -----         \n",
      " 0   event_time        74197 non-null  datetime64[ns]\n",
      " 1   event_name        74197 non-null  object        \n",
      " 2   user_id           74197 non-null  object        \n",
      " 3   source            74197 non-null  object        \n",
      " 4   date              74197 non-null  datetime64[ns]\n",
      " 5   first_vizit       74197 non-null  datetime64[ns]\n",
      " 6   week_day          74197 non-null  object        \n",
      " 7   user_sessions     74197 non-null  int64         \n",
      " 8   session_start     74197 non-null  datetime64[ns]\n",
      " 9   session_end       74197 non-null  datetime64[ns]\n",
      " 10  session_duration  74197 non-null  int64         \n",
      "dtypes: datetime64[ns](5), int64(2), object(4)\n",
      "memory usage: 6.8+ MB\n"
     ]
    },
    {
     "data": {
      "text/html": [
       "<div>\n",
       "<style scoped>\n",
       "    .dataframe tbody tr th:only-of-type {\n",
       "        vertical-align: middle;\n",
       "    }\n",
       "\n",
       "    .dataframe tbody tr th {\n",
       "        vertical-align: top;\n",
       "    }\n",
       "\n",
       "    .dataframe thead th {\n",
       "        text-align: right;\n",
       "    }\n",
       "</style>\n",
       "<table border=\"1\" class=\"dataframe\">\n",
       "  <thead>\n",
       "    <tr style=\"text-align: right;\">\n",
       "      <th></th>\n",
       "      <th>event_time</th>\n",
       "      <th>event_name</th>\n",
       "      <th>user_id</th>\n",
       "      <th>source</th>\n",
       "      <th>date</th>\n",
       "      <th>first_vizit</th>\n",
       "      <th>week_day</th>\n",
       "      <th>user_sessions</th>\n",
       "      <th>session_start</th>\n",
       "      <th>session_end</th>\n",
       "      <th>session_duration</th>\n",
       "    </tr>\n",
       "  </thead>\n",
       "  <tbody>\n",
       "    <tr>\n",
       "      <th>0</th>\n",
       "      <td>2019-10-07 00:00:00</td>\n",
       "      <td>advert_open</td>\n",
       "      <td>020292ab-89bc-4156-9acf-68bc2783f894</td>\n",
       "      <td>other</td>\n",
       "      <td>2019-10-07</td>\n",
       "      <td>2019-10-07 00:00:00</td>\n",
       "      <td>Monday</td>\n",
       "      <td>1</td>\n",
       "      <td>2019-10-07 00:00:00</td>\n",
       "      <td>2019-10-07 00:18:43</td>\n",
       "      <td>1123</td>\n",
       "    </tr>\n",
       "    <tr>\n",
       "      <th>1</th>\n",
       "      <td>2019-10-07 00:00:01</td>\n",
       "      <td>tips_show</td>\n",
       "      <td>020292ab-89bc-4156-9acf-68bc2783f894</td>\n",
       "      <td>other</td>\n",
       "      <td>2019-10-07</td>\n",
       "      <td>2019-10-07 00:00:00</td>\n",
       "      <td>Monday</td>\n",
       "      <td>1</td>\n",
       "      <td>2019-10-07 00:00:00</td>\n",
       "      <td>2019-10-07 00:18:43</td>\n",
       "      <td>1123</td>\n",
       "    </tr>\n",
       "    <tr>\n",
       "      <th>2</th>\n",
       "      <td>2019-10-07 00:00:02</td>\n",
       "      <td>tips_show</td>\n",
       "      <td>cf7eda61-9349-469f-ac27-e5b6f5ec475c</td>\n",
       "      <td>yandex</td>\n",
       "      <td>2019-10-07</td>\n",
       "      <td>2019-10-07 00:00:02</td>\n",
       "      <td>Monday</td>\n",
       "      <td>2</td>\n",
       "      <td>2019-10-07 00:00:02</td>\n",
       "      <td>2019-10-07 00:41:40</td>\n",
       "      <td>2498</td>\n",
       "    </tr>\n",
       "    <tr>\n",
       "      <th>3</th>\n",
       "      <td>2019-10-07 00:00:07</td>\n",
       "      <td>tips_show</td>\n",
       "      <td>020292ab-89bc-4156-9acf-68bc2783f894</td>\n",
       "      <td>other</td>\n",
       "      <td>2019-10-07</td>\n",
       "      <td>2019-10-07 00:00:00</td>\n",
       "      <td>Monday</td>\n",
       "      <td>1</td>\n",
       "      <td>2019-10-07 00:00:00</td>\n",
       "      <td>2019-10-07 00:18:43</td>\n",
       "      <td>1123</td>\n",
       "    </tr>\n",
       "    <tr>\n",
       "      <th>4</th>\n",
       "      <td>2019-10-07 00:00:56</td>\n",
       "      <td>advert_open</td>\n",
       "      <td>cf7eda61-9349-469f-ac27-e5b6f5ec475c</td>\n",
       "      <td>yandex</td>\n",
       "      <td>2019-10-07</td>\n",
       "      <td>2019-10-07 00:00:02</td>\n",
       "      <td>Monday</td>\n",
       "      <td>2</td>\n",
       "      <td>2019-10-07 00:00:02</td>\n",
       "      <td>2019-10-07 00:41:40</td>\n",
       "      <td>2498</td>\n",
       "    </tr>\n",
       "  </tbody>\n",
       "</table>\n",
       "</div>"
      ],
      "text/plain": [
       "           event_time   event_name                               user_id  \\\n",
       "0 2019-10-07 00:00:00  advert_open  020292ab-89bc-4156-9acf-68bc2783f894   \n",
       "1 2019-10-07 00:00:01    tips_show  020292ab-89bc-4156-9acf-68bc2783f894   \n",
       "2 2019-10-07 00:00:02    tips_show  cf7eda61-9349-469f-ac27-e5b6f5ec475c   \n",
       "3 2019-10-07 00:00:07    tips_show  020292ab-89bc-4156-9acf-68bc2783f894   \n",
       "4 2019-10-07 00:00:56  advert_open  cf7eda61-9349-469f-ac27-e5b6f5ec475c   \n",
       "\n",
       "   source       date         first_vizit week_day  user_sessions  \\\n",
       "0   other 2019-10-07 2019-10-07 00:00:00   Monday              1   \n",
       "1   other 2019-10-07 2019-10-07 00:00:00   Monday              1   \n",
       "2  yandex 2019-10-07 2019-10-07 00:00:02   Monday              2   \n",
       "3   other 2019-10-07 2019-10-07 00:00:00   Monday              1   \n",
       "4  yandex 2019-10-07 2019-10-07 00:00:02   Monday              2   \n",
       "\n",
       "        session_start         session_end  session_duration  \n",
       "0 2019-10-07 00:00:00 2019-10-07 00:18:43              1123  \n",
       "1 2019-10-07 00:00:00 2019-10-07 00:18:43              1123  \n",
       "2 2019-10-07 00:00:02 2019-10-07 00:41:40              2498  \n",
       "3 2019-10-07 00:00:00 2019-10-07 00:18:43              1123  \n",
       "4 2019-10-07 00:00:02 2019-10-07 00:41:40              2498  "
      ]
     },
     "execution_count": 30,
     "metadata": {},
     "output_type": "execute_result"
    }
   ],
   "source": [
    "app_users_activity['session_duration'] = (\n",
    "    pd.to_timedelta((app_users_activity['session_end'] - app_users_activity['session_start']))\n",
    "    .dt.total_seconds()\n",
    "    .astype('int') \n",
    ")\n",
    "app_users_activity.info()\n",
    "app_users_activity.head(5)"
   ]
  },
  {
   "cell_type": "markdown",
   "id": "c5c279a0",
   "metadata": {},
   "source": [
    "Вычисляем лайфтайм для каждой сессии в днях. Время начала сессии - дата и время первого появления в приложении пользователя."
   ]
  },
  {
   "cell_type": "code",
   "execution_count": 31,
   "id": "5927cabf",
   "metadata": {
    "scrolled": true
   },
   "outputs": [
    {
     "data": {
      "text/html": [
       "<div>\n",
       "<style scoped>\n",
       "    .dataframe tbody tr th:only-of-type {\n",
       "        vertical-align: middle;\n",
       "    }\n",
       "\n",
       "    .dataframe tbody tr th {\n",
       "        vertical-align: top;\n",
       "    }\n",
       "\n",
       "    .dataframe thead th {\n",
       "        text-align: right;\n",
       "    }\n",
       "</style>\n",
       "<table border=\"1\" class=\"dataframe\">\n",
       "  <thead>\n",
       "    <tr style=\"text-align: right;\">\n",
       "      <th></th>\n",
       "      <th>event_time</th>\n",
       "      <th>event_name</th>\n",
       "      <th>user_id</th>\n",
       "      <th>source</th>\n",
       "      <th>date</th>\n",
       "      <th>first_vizit</th>\n",
       "      <th>week_day</th>\n",
       "      <th>user_sessions</th>\n",
       "      <th>session_start</th>\n",
       "      <th>session_end</th>\n",
       "      <th>session_duration</th>\n",
       "      <th>lifetime</th>\n",
       "    </tr>\n",
       "  </thead>\n",
       "  <tbody>\n",
       "    <tr>\n",
       "      <th>0</th>\n",
       "      <td>2019-10-07 00:00:00</td>\n",
       "      <td>advert_open</td>\n",
       "      <td>020292ab-89bc-4156-9acf-68bc2783f894</td>\n",
       "      <td>other</td>\n",
       "      <td>2019-10-07</td>\n",
       "      <td>2019-10-07 00:00:00</td>\n",
       "      <td>Monday</td>\n",
       "      <td>1</td>\n",
       "      <td>2019-10-07 00:00:00</td>\n",
       "      <td>2019-10-07 00:18:43</td>\n",
       "      <td>1123</td>\n",
       "      <td>0</td>\n",
       "    </tr>\n",
       "    <tr>\n",
       "      <th>1</th>\n",
       "      <td>2019-10-07 00:00:01</td>\n",
       "      <td>tips_show</td>\n",
       "      <td>020292ab-89bc-4156-9acf-68bc2783f894</td>\n",
       "      <td>other</td>\n",
       "      <td>2019-10-07</td>\n",
       "      <td>2019-10-07 00:00:00</td>\n",
       "      <td>Monday</td>\n",
       "      <td>1</td>\n",
       "      <td>2019-10-07 00:00:00</td>\n",
       "      <td>2019-10-07 00:18:43</td>\n",
       "      <td>1123</td>\n",
       "      <td>0</td>\n",
       "    </tr>\n",
       "    <tr>\n",
       "      <th>2</th>\n",
       "      <td>2019-10-07 00:00:02</td>\n",
       "      <td>tips_show</td>\n",
       "      <td>cf7eda61-9349-469f-ac27-e5b6f5ec475c</td>\n",
       "      <td>yandex</td>\n",
       "      <td>2019-10-07</td>\n",
       "      <td>2019-10-07 00:00:02</td>\n",
       "      <td>Monday</td>\n",
       "      <td>2</td>\n",
       "      <td>2019-10-07 00:00:02</td>\n",
       "      <td>2019-10-07 00:41:40</td>\n",
       "      <td>2498</td>\n",
       "      <td>0</td>\n",
       "    </tr>\n",
       "    <tr>\n",
       "      <th>3</th>\n",
       "      <td>2019-10-07 00:00:07</td>\n",
       "      <td>tips_show</td>\n",
       "      <td>020292ab-89bc-4156-9acf-68bc2783f894</td>\n",
       "      <td>other</td>\n",
       "      <td>2019-10-07</td>\n",
       "      <td>2019-10-07 00:00:00</td>\n",
       "      <td>Monday</td>\n",
       "      <td>1</td>\n",
       "      <td>2019-10-07 00:00:00</td>\n",
       "      <td>2019-10-07 00:18:43</td>\n",
       "      <td>1123</td>\n",
       "      <td>0</td>\n",
       "    </tr>\n",
       "    <tr>\n",
       "      <th>4</th>\n",
       "      <td>2019-10-07 00:00:56</td>\n",
       "      <td>advert_open</td>\n",
       "      <td>cf7eda61-9349-469f-ac27-e5b6f5ec475c</td>\n",
       "      <td>yandex</td>\n",
       "      <td>2019-10-07</td>\n",
       "      <td>2019-10-07 00:00:02</td>\n",
       "      <td>Monday</td>\n",
       "      <td>2</td>\n",
       "      <td>2019-10-07 00:00:02</td>\n",
       "      <td>2019-10-07 00:41:40</td>\n",
       "      <td>2498</td>\n",
       "      <td>0</td>\n",
       "    </tr>\n",
       "  </tbody>\n",
       "</table>\n",
       "</div>"
      ],
      "text/plain": [
       "           event_time   event_name                               user_id  \\\n",
       "0 2019-10-07 00:00:00  advert_open  020292ab-89bc-4156-9acf-68bc2783f894   \n",
       "1 2019-10-07 00:00:01    tips_show  020292ab-89bc-4156-9acf-68bc2783f894   \n",
       "2 2019-10-07 00:00:02    tips_show  cf7eda61-9349-469f-ac27-e5b6f5ec475c   \n",
       "3 2019-10-07 00:00:07    tips_show  020292ab-89bc-4156-9acf-68bc2783f894   \n",
       "4 2019-10-07 00:00:56  advert_open  cf7eda61-9349-469f-ac27-e5b6f5ec475c   \n",
       "\n",
       "   source       date         first_vizit week_day  user_sessions  \\\n",
       "0   other 2019-10-07 2019-10-07 00:00:00   Monday              1   \n",
       "1   other 2019-10-07 2019-10-07 00:00:00   Monday              1   \n",
       "2  yandex 2019-10-07 2019-10-07 00:00:02   Monday              2   \n",
       "3   other 2019-10-07 2019-10-07 00:00:00   Monday              1   \n",
       "4  yandex 2019-10-07 2019-10-07 00:00:02   Monday              2   \n",
       "\n",
       "        session_start         session_end  session_duration  lifetime  \n",
       "0 2019-10-07 00:00:00 2019-10-07 00:18:43              1123         0  \n",
       "1 2019-10-07 00:00:00 2019-10-07 00:18:43              1123         0  \n",
       "2 2019-10-07 00:00:02 2019-10-07 00:41:40              2498         0  \n",
       "3 2019-10-07 00:00:00 2019-10-07 00:18:43              1123         0  \n",
       "4 2019-10-07 00:00:02 2019-10-07 00:41:40              2498         0  "
      ]
     },
     "execution_count": 31,
     "metadata": {},
     "output_type": "execute_result"
    }
   ],
   "source": [
    "app_users_activity['lifetime'] = (\n",
    "    app_users_activity['session_start'] - app_users_activity['first_vizit']\n",
    ").dt.days\n",
    "\n",
    "app_users_activity.head(5)"
   ]
  },
  {
   "cell_type": "markdown",
   "id": "3d1fd79c",
   "metadata": {},
   "source": [
    "Выведем график с количеством уникальных пользователей по дням. По нему можно сказать, что количество пользователей увеличивается."
   ]
  },
  {
   "cell_type": "code",
   "execution_count": 32,
   "id": "5088bc66",
   "metadata": {
    "code_folding": []
   },
   "outputs": [
    {
     "data": {
      "image/png": "[encoded data removed]",
      "text/plain": [
       "<Figure size 648x504 with 1 Axes>"
      ]
     },
     "metadata": {},
     "output_type": "display_data"
    }
   ],
   "source": [
    "(\n",
    "    app_users_activity.pivot_table(index=('date'), values='user_id', aggfunc='nunique')\n",
    "    .reset_index()\n",
    "    .plot(x='date', y='user_id', kind='bar',figsize=(9, 7), grid=True, color='mediumpurple')\n",
    ")\n",
    "plt.title('Количеством уникальных пользователей по дням')\n",
    "plt.xlabel('Дата')\n",
    "plt.ylabel('Количество уникальнах пользователей')\n",
    "plt.xticks(rotation=80);"
   ]
  },
  {
   "cell_type": "markdown",
   "id": "8fc7d68d",
   "metadata": {},
   "source": [
    "Графики рейтинга дней недели по количеству уникальных пользователей. По субботам количество клиентов на платформе сервиса самое низкое, возможно связано с наличием занятости личными делами. Самые высокие показатели по средам, понедельникам и четвергам, думаю, связано с тем, что люди используют сервис по дороге на работу и домой, а так же в офисе в перерывах между занятостью."
   ]
  },
  {
   "cell_type": "code",
   "execution_count": 33,
   "id": "a641dc1b",
   "metadata": {},
   "outputs": [
    {
     "data": {
      "image/png": "[encoded data removed]",
      "text/plain": [
       "<Figure size 648x504 with 1 Axes>"
      ]
     },
     "metadata": {},
     "output_type": "display_data"
    }
   ],
   "source": [
    "(\n",
    "    app_users_activity.pivot_table(index=('week_day'), values='user_id', aggfunc='nunique')\n",
    "    .reset_index()\n",
    "    .sort_values(by='user_id')\n",
    "    .plot(x='week_day', y='user_id', kind='bar',figsize=(9, 7), grid=True, color='mediumpurple')\n",
    ")\n",
    "plt.title('Количество уникальных пользователей в разные дни недели')\n",
    "plt.xlabel('День недели')\n",
    "plt.ylabel('Количество уникальных пользователей')\n",
    "plt.xticks(rotation=80);"
   ]
  },
  {
   "cell_type": "markdown",
   "id": "8c46d23d",
   "metadata": {},
   "source": [
    "Графики рейтинга дней недели по количеству совершению целевого действия (просмотр контактов \"contacts_show\"). Наименьшее количество просмотров контактов происходит по субботам, самое большое количество по четвергам. На мой взгляд сязано с теми же процессами: наличием личных дел по выходным и свободным временем на работе и во время поездок в транспорте."
   ]
  },
  {
   "cell_type": "code",
   "execution_count": 34,
   "id": "bdbd415d",
   "metadata": {},
   "outputs": [
    {
     "data": {
      "image/png": "[encoded data removed]",
      "text/plain": [
       "<Figure size 648x504 with 1 Axes>"
      ]
     },
     "metadata": {},
     "output_type": "display_data"
    }
   ],
   "source": [
    "(\n",
    "    app_users_activity.query('\"contacts_show\" in event_name')\n",
    "    .pivot_table(index=('week_day'), values='event_name', aggfunc='count')\n",
    "    .reset_index()\n",
    "    .sort_values(by='event_name')\n",
    "    .plot(x='week_day', y='event_name', kind='bar',figsize=(9, 7), grid=True, color='mediumpurple')\n",
    ")\n",
    "plt.title('Количество целевых действий разные дни недели')\n",
    "plt.xlabel('День недели')\n",
    "plt.ylabel('Количество просмотр контактов')\n",
    "plt.xticks(rotation=80);"
   ]
  },
  {
   "cell_type": "markdown",
   "id": "01fc5dbe",
   "metadata": {},
   "source": [
    "Отобразим рейтинг действий на платформе. Показ рекомендованных объявлений является самым популярным действием, целевое действие (просмотр контактов) находится в середине рейтинга, а переход в карточку рекомендованного объявления - наиболее редкое действие.  tips_show показывается всем пользователям автоматически и не зависит от действий."
   ]
  },
  {
   "cell_type": "code",
   "execution_count": 35,
   "id": "a884b58b",
   "metadata": {},
   "outputs": [
    {
     "data": {
      "image/png": "[encoded data removed]",
      "text/plain": [
       "<Figure size 648x504 with 1 Axes>"
      ]
     },
     "metadata": {},
     "output_type": "display_data"
    }
   ],
   "source": [
    "(   app_users_activity.pivot_table(index=('event_name'), values='user_id', aggfunc='count')\n",
    "    .reset_index()\n",
    "    .sort_values(by='user_id')\n",
    "    .plot(x='event_name', y='user_id', kind='bar',figsize=(9, 7), grid=True, color='mediumpurple')\n",
    ")\n",
    "plt.title('Рейтинг действий на платформе')\n",
    "plt.xlabel('Обозначение действия')\n",
    "plt.ylabel('Количество действий')\n",
    "plt.xticks(rotation=80);"
   ]
  },
  {
   "cell_type": "markdown",
   "id": "d5ffe047",
   "metadata": {},
   "source": [
    "График количества пользователей пришедших из разных источников. Через yandex пришло наибольшее количество пользователей,через google и другие примерно поровну. "
   ]
  },
  {
   "cell_type": "code",
   "execution_count": 36,
   "id": "ed667c93",
   "metadata": {
    "scrolled": false
   },
   "outputs": [
    {
     "data": {
      "image/png": "[encoded data removed]",
      "text/plain": [
       "<Figure size 648x504 with 1 Axes>"
      ]
     },
     "metadata": {},
     "output_type": "display_data"
    }
   ],
   "source": [
    "(   app_users_activity.pivot_table(index=('source'), values='user_id', aggfunc='nunique')\n",
    "    .reset_index()\n",
    "    .sort_values(by='user_id')\n",
    "    .plot(x='source', y='user_id', kind='bar',figsize=(9, 7), grid=True, color='mediumpurple')\n",
    ")\n",
    "plt.title('Пользователи пришедшие из разных источников')\n",
    "plt.xlabel('Источник')\n",
    "plt.ylabel('Количество пользователей')\n",
    "plt.xticks(rotation=80);"
   ]
  },
  {
   "cell_type": "markdown",
   "id": "d20c18c0",
   "metadata": {},
   "source": [
    "График конверсии относительно целевого действия (просмотр контактов \"contacts_show\"). Судя по графику не обязательно открывать карточку объявления. Прежде чем узнать контакты клиенты предпочитают посмотреть на фотографии и изучить карту."
   ]
  },
  {
   "cell_type": "code",
   "execution_count": 37,
   "id": "e1039a26",
   "metadata": {
    "scrolled": false
   },
   "outputs": [
    {
     "data": {
      "image/png": "[encoded data removed]",
      "text/plain": [
       "<Figure size 648x504 with 1 Axes>"
      ]
     },
     "metadata": {},
     "output_type": "display_data"
    }
   ],
   "source": [
    "temp = (\n",
    "    app_users_activity.groupby('event_name')['user_id'].nunique()  \n",
    "    .reset_index()\n",
    ")\n",
    "temp['conversion'] = (\n",
    "    round(temp['user_id'].div(app_users_activity\n",
    "                              .query('\"contacts_show\" in event_name')['user_id']\n",
    "                              .nunique(), axis=0) * 100, 1)\n",
    ")\n",
    "( temp.sort_values(by='conversion')\n",
    " .plot(x='event_name', y='conversion', kind='bar',figsize=(9, 7), grid=True, color='mediumpurple')\n",
    ")\n",
    "plt.title('Конверсия в целевое действие')\n",
    "plt.xlabel('Действие')\n",
    "plt.ylabel('% относительно просмотра контактов')\n",
    "plt.xticks(rotation=80);"
   ]
  },
  {
   "cell_type": "markdown",
   "id": "f32cf359",
   "metadata": {},
   "source": [
    "## Сегментация пользователей"
   ]
  },
  {
   "cell_type": "markdown",
   "id": "64a9ed29",
   "metadata": {},
   "source": [
    "Создаем профили пользователей. "
   ]
  },
  {
   "cell_type": "code",
   "execution_count": 38,
   "id": "493576e2",
   "metadata": {
    "scrolled": true
   },
   "outputs": [
    {
     "data": {
      "text/html": [
       "<div>\n",
       "<style scoped>\n",
       "    .dataframe tbody tr th:only-of-type {\n",
       "        vertical-align: middle;\n",
       "    }\n",
       "\n",
       "    .dataframe tbody tr th {\n",
       "        vertical-align: top;\n",
       "    }\n",
       "\n",
       "    .dataframe thead th {\n",
       "        text-align: right;\n",
       "    }\n",
       "</style>\n",
       "<table border=\"1\" class=\"dataframe\">\n",
       "  <thead>\n",
       "    <tr style=\"text-align: right;\">\n",
       "      <th></th>\n",
       "      <th>user_id</th>\n",
       "      <th>first_vizit</th>\n",
       "      <th>session_duration</th>\n",
       "      <th>events_number</th>\n",
       "      <th>sessions_number</th>\n",
       "      <th>source</th>\n",
       "      <th>dt</th>\n",
       "      <th>month</th>\n",
       "    </tr>\n",
       "  </thead>\n",
       "  <tbody>\n",
       "    <tr>\n",
       "      <th>0</th>\n",
       "      <td>0001b1d5-b74a-4cbf-aeb0-7df5947bf349</td>\n",
       "      <td>2019-10-07 13:39:46</td>\n",
       "      <td>13544</td>\n",
       "      <td>35</td>\n",
       "      <td>8</td>\n",
       "      <td>other</td>\n",
       "      <td>2019-10-07</td>\n",
       "      <td>2019-10-01</td>\n",
       "    </tr>\n",
       "    <tr>\n",
       "      <th>1</th>\n",
       "      <td>00157779-810c-4498-9e05-a1e9e3cedf93</td>\n",
       "      <td>2019-10-19 21:34:34</td>\n",
       "      <td>13706</td>\n",
       "      <td>71</td>\n",
       "      <td>31</td>\n",
       "      <td>yandex</td>\n",
       "      <td>2019-10-19</td>\n",
       "      <td>2019-10-01</td>\n",
       "    </tr>\n",
       "    <tr>\n",
       "      <th>2</th>\n",
       "      <td>00463033-5717-4bf1-91b4-09183923b9df</td>\n",
       "      <td>2019-11-01 13:54:35</td>\n",
       "      <td>3598</td>\n",
       "      <td>10</td>\n",
       "      <td>4</td>\n",
       "      <td>yandex</td>\n",
       "      <td>2019-11-01</td>\n",
       "      <td>2019-11-01</td>\n",
       "    </tr>\n",
       "    <tr>\n",
       "      <th>3</th>\n",
       "      <td>004690c3-5a84-4bb7-a8af-e0c8f8fca64e</td>\n",
       "      <td>2019-10-18 22:14:06</td>\n",
       "      <td>3155</td>\n",
       "      <td>32</td>\n",
       "      <td>17</td>\n",
       "      <td>google</td>\n",
       "      <td>2019-10-18</td>\n",
       "      <td>2019-10-01</td>\n",
       "    </tr>\n",
       "    <tr>\n",
       "      <th>4</th>\n",
       "      <td>00551e79-152e-4441-9cf7-565d7eb04090</td>\n",
       "      <td>2019-10-25 16:44:41</td>\n",
       "      <td>56</td>\n",
       "      <td>8</td>\n",
       "      <td>5</td>\n",
       "      <td>yandex</td>\n",
       "      <td>2019-10-25</td>\n",
       "      <td>2019-10-01</td>\n",
       "    </tr>\n",
       "  </tbody>\n",
       "</table>\n",
       "</div>"
      ],
      "text/plain": [
       "                                user_id         first_vizit  session_duration  \\\n",
       "0  0001b1d5-b74a-4cbf-aeb0-7df5947bf349 2019-10-07 13:39:46             13544   \n",
       "1  00157779-810c-4498-9e05-a1e9e3cedf93 2019-10-19 21:34:34             13706   \n",
       "2  00463033-5717-4bf1-91b4-09183923b9df 2019-11-01 13:54:35              3598   \n",
       "3  004690c3-5a84-4bb7-a8af-e0c8f8fca64e 2019-10-18 22:14:06              3155   \n",
       "4  00551e79-152e-4441-9cf7-565d7eb04090 2019-10-25 16:44:41                56   \n",
       "\n",
       "   events_number  sessions_number  source          dt      month  \n",
       "0             35                8   other  2019-10-07 2019-10-01  \n",
       "1             71               31  yandex  2019-10-19 2019-10-01  \n",
       "2             10                4  yandex  2019-11-01 2019-11-01  \n",
       "3             32               17  google  2019-10-18 2019-10-01  \n",
       "4              8                5  yandex  2019-10-25 2019-10-01  "
      ]
     },
     "execution_count": 38,
     "metadata": {},
     "output_type": "execute_result"
    }
   ],
   "source": [
    "profiles = get_profiles(app_users_activity)\n",
    "profiles.head()"
   ]
  },
  {
   "cell_type": "markdown",
   "id": "1c9223ca",
   "metadata": {},
   "source": [
    "Добавим в таблицу значения среднего количества действий в лайфтайм и средней продолжительности сессии для каждого пользователя в секундах."
   ]
  },
  {
   "cell_type": "code",
   "execution_count": 39,
   "id": "0bb2fdfa",
   "metadata": {},
   "outputs": [
    {
     "data": {
      "text/html": [
       "<div>\n",
       "<style scoped>\n",
       "    .dataframe tbody tr th:only-of-type {\n",
       "        vertical-align: middle;\n",
       "    }\n",
       "\n",
       "    .dataframe tbody tr th {\n",
       "        vertical-align: top;\n",
       "    }\n",
       "\n",
       "    .dataframe thead th {\n",
       "        text-align: right;\n",
       "    }\n",
       "</style>\n",
       "<table border=\"1\" class=\"dataframe\">\n",
       "  <thead>\n",
       "    <tr style=\"text-align: right;\">\n",
       "      <th></th>\n",
       "      <th>user_id</th>\n",
       "      <th>first_vizit</th>\n",
       "      <th>session_duration</th>\n",
       "      <th>events_number</th>\n",
       "      <th>sessions_number</th>\n",
       "      <th>source</th>\n",
       "      <th>dt</th>\n",
       "      <th>month</th>\n",
       "      <th>avg_events_per_session</th>\n",
       "      <th>avg_session_duration</th>\n",
       "    </tr>\n",
       "  </thead>\n",
       "  <tbody>\n",
       "    <tr>\n",
       "      <th>0</th>\n",
       "      <td>0001b1d5-b74a-4cbf-aeb0-7df5947bf349</td>\n",
       "      <td>2019-10-07 13:39:46</td>\n",
       "      <td>13544</td>\n",
       "      <td>35</td>\n",
       "      <td>8</td>\n",
       "      <td>other</td>\n",
       "      <td>2019-10-07</td>\n",
       "      <td>2019-10-01</td>\n",
       "      <td>4</td>\n",
       "      <td>1693</td>\n",
       "    </tr>\n",
       "    <tr>\n",
       "      <th>1</th>\n",
       "      <td>00157779-810c-4498-9e05-a1e9e3cedf93</td>\n",
       "      <td>2019-10-19 21:34:34</td>\n",
       "      <td>13706</td>\n",
       "      <td>71</td>\n",
       "      <td>31</td>\n",
       "      <td>yandex</td>\n",
       "      <td>2019-10-19</td>\n",
       "      <td>2019-10-01</td>\n",
       "      <td>2</td>\n",
       "      <td>442</td>\n",
       "    </tr>\n",
       "    <tr>\n",
       "      <th>2</th>\n",
       "      <td>00463033-5717-4bf1-91b4-09183923b9df</td>\n",
       "      <td>2019-11-01 13:54:35</td>\n",
       "      <td>3598</td>\n",
       "      <td>10</td>\n",
       "      <td>4</td>\n",
       "      <td>yandex</td>\n",
       "      <td>2019-11-01</td>\n",
       "      <td>2019-11-01</td>\n",
       "      <td>2</td>\n",
       "      <td>900</td>\n",
       "    </tr>\n",
       "    <tr>\n",
       "      <th>3</th>\n",
       "      <td>004690c3-5a84-4bb7-a8af-e0c8f8fca64e</td>\n",
       "      <td>2019-10-18 22:14:06</td>\n",
       "      <td>3155</td>\n",
       "      <td>32</td>\n",
       "      <td>17</td>\n",
       "      <td>google</td>\n",
       "      <td>2019-10-18</td>\n",
       "      <td>2019-10-01</td>\n",
       "      <td>1</td>\n",
       "      <td>186</td>\n",
       "    </tr>\n",
       "    <tr>\n",
       "      <th>4</th>\n",
       "      <td>00551e79-152e-4441-9cf7-565d7eb04090</td>\n",
       "      <td>2019-10-25 16:44:41</td>\n",
       "      <td>56</td>\n",
       "      <td>8</td>\n",
       "      <td>5</td>\n",
       "      <td>yandex</td>\n",
       "      <td>2019-10-25</td>\n",
       "      <td>2019-10-01</td>\n",
       "      <td>1</td>\n",
       "      <td>11</td>\n",
       "    </tr>\n",
       "  </tbody>\n",
       "</table>\n",
       "</div>"
      ],
      "text/plain": [
       "                                user_id         first_vizit  session_duration  \\\n",
       "0  0001b1d5-b74a-4cbf-aeb0-7df5947bf349 2019-10-07 13:39:46             13544   \n",
       "1  00157779-810c-4498-9e05-a1e9e3cedf93 2019-10-19 21:34:34             13706   \n",
       "2  00463033-5717-4bf1-91b4-09183923b9df 2019-11-01 13:54:35              3598   \n",
       "3  004690c3-5a84-4bb7-a8af-e0c8f8fca64e 2019-10-18 22:14:06              3155   \n",
       "4  00551e79-152e-4441-9cf7-565d7eb04090 2019-10-25 16:44:41                56   \n",
       "\n",
       "   events_number  sessions_number  source          dt      month  \\\n",
       "0             35                8   other  2019-10-07 2019-10-01   \n",
       "1             71               31  yandex  2019-10-19 2019-10-01   \n",
       "2             10                4  yandex  2019-11-01 2019-11-01   \n",
       "3             32               17  google  2019-10-18 2019-10-01   \n",
       "4              8                5  yandex  2019-10-25 2019-10-01   \n",
       "\n",
       "   avg_events_per_session  avg_session_duration  \n",
       "0                       4                  1693  \n",
       "1                       2                   442  \n",
       "2                       2                   900  \n",
       "3                       1                   186  \n",
       "4                       1                    11  "
      ]
     },
     "execution_count": 39,
     "metadata": {},
     "output_type": "execute_result"
    }
   ],
   "source": [
    "profiles['avg_events_per_session'] = (profiles['events_number'] / profiles['sessions_number']).astype('int')\n",
    "profiles['avg_session_duration'] = (profiles['session_duration'] / profiles['sessions_number']).round().astype('int')\n",
    "\n",
    "profiles.head()"
   ]
  },
  {
   "cell_type": "markdown",
   "id": "a3368cac",
   "metadata": {},
   "source": [
    "Записываем признаки в отдельную переменную и стандартизируем их. Для выделения кластеров я выбрала среднюю продолжительность сессий и среднее количество действий в сессию. Т.к. для нас важно изучить поведение пользователей, то, на мой взгляд, важно узнать чем отличаются пользователи проводящие много времени в приложении от тех, кто открывает приложение на непродолжительный срок."
   ]
  },
  {
   "cell_type": "code",
   "execution_count": 40,
   "id": "c2e833f5",
   "metadata": {},
   "outputs": [],
   "source": [
    "X = profiles[['avg_events_per_session','avg_session_duration']]\n",
    "sc = StandardScaler()\n",
    "X_sc = sc.fit_transform(X)"
   ]
  },
  {
   "cell_type": "markdown",
   "id": "f7abf130",
   "metadata": {},
   "source": [
    "Строим матрицу расстояний на стандартизированных данных и рисуем дендрограмму."
   ]
  },
  {
   "cell_type": "code",
   "execution_count": 41,
   "id": "039c347d",
   "metadata": {
    "scrolled": false
   },
   "outputs": [
    {
     "data": {
      "image/png": "[encoded data removed]",
      "text/plain": [
       "<Figure size 1080x720 with 1 Axes>"
      ]
     },
     "metadata": {},
     "output_type": "display_data"
    }
   ],
   "source": [
    "linked = linkage(X_sc, method = 'ward')\n",
    "plt.figure(figsize=(15, 10))\n",
    "dendrogram(linked, orientation='top', no_labels=True)\n",
    "plt.title('Кластеризация клиентов')\n",
    "plt.show()"
   ]
  },
  {
   "cell_type": "markdown",
   "id": "9247e387",
   "metadata": {},
   "source": [
    "Разделим клиентов на 2 кластера. Самый объемный №1 объединил 4086 человек, №0 - 207. Кластер содержащий самое большое количество человек можно считать основным, второй по численности дополнительным."
   ]
  },
  {
   "cell_type": "code",
   "execution_count": 42,
   "id": "76e1e95c",
   "metadata": {
    "scrolled": false
   },
   "outputs": [
    {
     "data": {
      "text/html": [
       "<div>\n",
       "<style scoped>\n",
       "    .dataframe tbody tr th:only-of-type {\n",
       "        vertical-align: middle;\n",
       "    }\n",
       "\n",
       "    .dataframe tbody tr th {\n",
       "        vertical-align: top;\n",
       "    }\n",
       "\n",
       "    .dataframe thead th {\n",
       "        text-align: right;\n",
       "    }\n",
       "</style>\n",
       "<table border=\"1\" class=\"dataframe\">\n",
       "  <thead>\n",
       "    <tr style=\"text-align: right;\">\n",
       "      <th></th>\n",
       "      <th>cluster</th>\n",
       "      <th>user_id</th>\n",
       "    </tr>\n",
       "  </thead>\n",
       "  <tbody>\n",
       "    <tr>\n",
       "      <th>0</th>\n",
       "      <td>0</td>\n",
       "      <td>207</td>\n",
       "    </tr>\n",
       "    <tr>\n",
       "      <th>1</th>\n",
       "      <td>1</td>\n",
       "      <td>4086</td>\n",
       "    </tr>\n",
       "  </tbody>\n",
       "</table>\n",
       "</div>"
      ],
      "text/plain": [
       "   cluster  user_id\n",
       "0        0      207\n",
       "1        1     4086"
      ]
     },
     "execution_count": 42,
     "metadata": {},
     "output_type": "execute_result"
    }
   ],
   "source": [
    "km = KMeans(n_clusters=2, random_state=0) \n",
    "labels = km.fit_predict(X_sc)\n",
    "profiles['cluster'] = labels\n",
    "profiles.groupby('cluster')['user_id'].count().reset_index()"
   ]
  },
  {
   "cell_type": "markdown",
   "id": "f24e6dfa",
   "metadata": {},
   "source": [
    "## Изучение групп пользователей"
   ]
  },
  {
   "cell_type": "markdown",
   "id": "326785e6",
   "metadata": {},
   "source": [
    "Рассмотрим *показатель удержания* двух кластеров. Удержание построено без учета горизонта анализа. В расчет вошли все пользователи, использовавшие приложение 7 октября 2019 года 14 дней. Основной кластер №1, самый многочисленный, показывает  удержание хуже,чем кластер №0. На 9 день использования приложения клиенты перестают заходить в него и лишь через несколько дней о нем вспоминают. "
   ]
  },
  {
   "cell_type": "code",
   "execution_count": 43,
   "id": "0794278b",
   "metadata": {
    "scrolled": true
   },
   "outputs": [
    {
     "name": "stdout",
     "output_type": "stream",
     "text": [
      "Максимальный лайфтайм: 26 Максимальная дата: 2019-11-03 23:58:13\n"
     ]
    }
   ],
   "source": [
    "print('Максимальный лайфтайм:',app_users_activity['lifetime'].max(), \n",
    "      'Максимальная дата:', app_users_activity['event_time'].max())"
   ]
  },
  {
   "cell_type": "code",
   "execution_count": 44,
   "id": "03b48e40",
   "metadata": {
    "scrolled": false
   },
   "outputs": [
    {
     "data": {
      "text/html": [
       "<div>\n",
       "<style scoped>\n",
       "    .dataframe tbody tr th:only-of-type {\n",
       "        vertical-align: middle;\n",
       "    }\n",
       "\n",
       "    .dataframe tbody tr th {\n",
       "        vertical-align: top;\n",
       "    }\n",
       "\n",
       "    .dataframe thead th {\n",
       "        text-align: right;\n",
       "    }\n",
       "</style>\n",
       "<table border=\"1\" class=\"dataframe\">\n",
       "  <thead>\n",
       "    <tr style=\"text-align: right;\">\n",
       "      <th></th>\n",
       "      <th>cohort_size</th>\n",
       "      <th>0</th>\n",
       "      <th>1</th>\n",
       "      <th>2</th>\n",
       "      <th>3</th>\n",
       "      <th>4</th>\n",
       "      <th>5</th>\n",
       "      <th>6</th>\n",
       "      <th>7</th>\n",
       "      <th>8</th>\n",
       "      <th>9</th>\n",
       "      <th>10</th>\n",
       "      <th>11</th>\n",
       "      <th>12</th>\n",
       "      <th>13</th>\n",
       "      <th>14</th>\n",
       "    </tr>\n",
       "    <tr>\n",
       "      <th>cluster</th>\n",
       "      <th></th>\n",
       "      <th></th>\n",
       "      <th></th>\n",
       "      <th></th>\n",
       "      <th></th>\n",
       "      <th></th>\n",
       "      <th></th>\n",
       "      <th></th>\n",
       "      <th></th>\n",
       "      <th></th>\n",
       "      <th></th>\n",
       "      <th></th>\n",
       "      <th></th>\n",
       "      <th></th>\n",
       "      <th></th>\n",
       "      <th></th>\n",
       "    </tr>\n",
       "  </thead>\n",
       "  <tbody>\n",
       "    <tr>\n",
       "      <th>0</th>\n",
       "      <td>207</td>\n",
       "      <td>1.0</td>\n",
       "      <td>0.033816</td>\n",
       "      <td>0.024155</td>\n",
       "      <td>0.033816</td>\n",
       "      <td>0.009662</td>\n",
       "      <td>0.014493</td>\n",
       "      <td>0.014493</td>\n",
       "      <td>0.004831</td>\n",
       "      <td>0.004831</td>\n",
       "      <td>0.000000</td>\n",
       "      <td>0.000000</td>\n",
       "      <td>0.000000</td>\n",
       "      <td>0.000000</td>\n",
       "      <td>0.004831</td>\n",
       "      <td>0.000000</td>\n",
       "    </tr>\n",
       "    <tr>\n",
       "      <th>1</th>\n",
       "      <td>4086</td>\n",
       "      <td>1.0</td>\n",
       "      <td>0.111845</td>\n",
       "      <td>0.088350</td>\n",
       "      <td>0.068037</td>\n",
       "      <td>0.057758</td>\n",
       "      <td>0.053108</td>\n",
       "      <td>0.051640</td>\n",
       "      <td>0.050416</td>\n",
       "      <td>0.041850</td>\n",
       "      <td>0.028879</td>\n",
       "      <td>0.026187</td>\n",
       "      <td>0.024963</td>\n",
       "      <td>0.023005</td>\n",
       "      <td>0.023495</td>\n",
       "      <td>0.020803</td>\n",
       "    </tr>\n",
       "  </tbody>\n",
       "</table>\n",
       "</div>"
      ],
      "text/plain": [
       "         cohort_size    0         1         2         3         4         5  \\\n",
       "cluster                                                                       \n",
       "0                207  1.0  0.033816  0.024155  0.033816  0.009662  0.014493   \n",
       "1               4086  1.0  0.111845  0.088350  0.068037  0.057758  0.053108   \n",
       "\n",
       "                6         7         8         9        10        11        12  \\\n",
       "cluster                                                                         \n",
       "0        0.014493  0.004831  0.004831  0.000000  0.000000  0.000000  0.000000   \n",
       "1        0.051640  0.050416  0.041850  0.028879  0.026187  0.024963  0.023005   \n",
       "\n",
       "               13        14  \n",
       "cluster                      \n",
       "0        0.004831  0.000000  \n",
       "1        0.023495  0.020803  "
      ]
     },
     "execution_count": 44,
     "metadata": {},
     "output_type": "execute_result"
    }
   ],
   "source": [
    "retention_raw, retention = get_retention(\n",
    "    profiles, app_users_activity, datetime(2019, 11, 3).date(),15, dimensions=['cluster'])\n",
    "\n",
    "retention"
   ]
  },
  {
   "cell_type": "code",
   "execution_count": 45,
   "id": "4f6de3ef",
   "metadata": {
    "scrolled": false
   },
   "outputs": [
    {
     "data": {
      "image/png": "[encoded data removed]",
      "text/plain": [
       "<Figure size 1080x360 with 1 Axes>"
      ]
     },
     "metadata": {},
     "output_type": "display_data"
    }
   ],
   "source": [
    "report = retention.drop(columns=['cohort_size', 0])\n",
    "report.T.plot(grid=True, xticks=list(report.columns.values), figsize=(15, 5))\n",
    "plt.xlabel('Лайфтайм')\n",
    "plt.title('Кривые удержания с разбивкой по кластерам')\n",
    "plt.show()"
   ]
  },
  {
   "cell_type": "markdown",
   "id": "4f06baa4",
   "metadata": {},
   "source": [
    "*Время проведенное в приложении*.\n",
    "\n",
    "По медиане средней продолжительности сессии лидирует кластер №0 - 6000 секунд, в минутах 100.Второе место у кластера №2 280 секунд - 4,67 минут."
   ]
  },
  {
   "cell_type": "code",
   "execution_count": 46,
   "id": "3e12474b",
   "metadata": {
    "code_folding": [],
    "scrolled": false
   },
   "outputs": [
    {
     "data": {
      "image/png": "[encoded data removed]",
      "text/plain": [
       "<Figure size 792x360 with 2 Axes>"
      ]
     },
     "metadata": {},
     "output_type": "display_data"
    }
   ],
   "source": [
    "plt.figure(figsize=(11, 5))\n",
    "ax1 = plt.subplot(1, 2, 1)\n",
    "( \n",
    "    profiles.query('cluster == 0')\n",
    "    .agg({'avg_session_duration': 'median'})\n",
    "    .plot(kind='bar',grid=True, color='mediumpurple', ax=ax1)\n",
    ")\n",
    "plt.title('Медиана средней сессии группа № 0')\n",
    "\n",
    "ax2 = plt.subplot(1, 2, 2, sharey=ax1)\n",
    "( \n",
    "    profiles.query('cluster == 1')\n",
    "    .agg({'avg_session_duration': 'median'})\n",
    "    .plot(kind='bar',grid=True, color='mediumpurple', ax=ax2)\n",
    ")\n",
    "plt.title('Медиана средней сессии группа №1')\n",
    "    \n",
    "     \n",
    "plt.show()"
   ]
  },
  {
   "cell_type": "markdown",
   "id": "923f0fd6",
   "metadata": {},
   "source": [
    "*Количество действий за сессию*\n",
    "\n",
    "Пользователи из группы №0 за одну сессию совершают примерно 8,5 действий, в группе №1 совершают 2 действия."
   ]
  },
  {
   "cell_type": "code",
   "execution_count": 47,
   "id": "01814d86",
   "metadata": {},
   "outputs": [
    {
     "data": {
      "image/png": "[encoded data removed]",
      "text/plain": [
       "<Figure size 504x360 with 2 Axes>"
      ]
     },
     "metadata": {},
     "output_type": "display_data"
    }
   ],
   "source": [
    "plt.figure(figsize=(7, 5))\n",
    "ax1 = plt.subplot(2, 1, 1)\n",
    "( \n",
    "    profiles.query('cluster == 0')\n",
    "    .agg({'avg_events_per_session': 'median'})\n",
    "    .plot(kind='bar',grid=True, color='mediumpurple', ax=ax1)\n",
    ")\n",
    "plt.title('Медиана среднего кол-ва действий за сессию группа № 0')\n",
    "\n",
    "ax2 = plt.subplot(2, 1, 2, sharey=ax1)\n",
    "( \n",
    "    profiles.query('cluster == 1')\n",
    "    .agg({'avg_events_per_session': 'median'})\n",
    "    .plot(kind='bar',grid=True, color='mediumpurple', ax=ax2)\n",
    ")\n",
    "plt.title('Медиана среднего кол-ва действий за сессию группа №1');"
   ]
  },
  {
   "cell_type": "markdown",
   "id": "0eda96ae",
   "metadata": {},
   "source": [
    "Посмотрим какие действия совершают пользователи двух этих групп. Присоединяем к основной таблице информацию о номере кластера."
   ]
  },
  {
   "cell_type": "code",
   "execution_count": 48,
   "id": "c46c63d7",
   "metadata": {
    "code_folding": [],
    "scrolled": true
   },
   "outputs": [
    {
     "data": {
      "text/html": [
       "<div>\n",
       "<style scoped>\n",
       "    .dataframe tbody tr th:only-of-type {\n",
       "        vertical-align: middle;\n",
       "    }\n",
       "\n",
       "    .dataframe tbody tr th {\n",
       "        vertical-align: top;\n",
       "    }\n",
       "\n",
       "    .dataframe thead th {\n",
       "        text-align: right;\n",
       "    }\n",
       "</style>\n",
       "<table border=\"1\" class=\"dataframe\">\n",
       "  <thead>\n",
       "    <tr style=\"text-align: right;\">\n",
       "      <th></th>\n",
       "      <th>event_time</th>\n",
       "      <th>event_name</th>\n",
       "      <th>user_id</th>\n",
       "      <th>source_x</th>\n",
       "      <th>date</th>\n",
       "      <th>first_vizit_x</th>\n",
       "      <th>week_day</th>\n",
       "      <th>user_sessions</th>\n",
       "      <th>session_start</th>\n",
       "      <th>session_end</th>\n",
       "      <th>...</th>\n",
       "      <th>first_vizit_y</th>\n",
       "      <th>session_duration_y</th>\n",
       "      <th>events_number</th>\n",
       "      <th>sessions_number</th>\n",
       "      <th>source_y</th>\n",
       "      <th>dt</th>\n",
       "      <th>month</th>\n",
       "      <th>avg_events_per_session</th>\n",
       "      <th>avg_session_duration</th>\n",
       "      <th>cluster</th>\n",
       "    </tr>\n",
       "  </thead>\n",
       "  <tbody>\n",
       "    <tr>\n",
       "      <th>0</th>\n",
       "      <td>2019-10-07 00:00:00</td>\n",
       "      <td>advert_open</td>\n",
       "      <td>020292ab-89bc-4156-9acf-68bc2783f894</td>\n",
       "      <td>other</td>\n",
       "      <td>2019-10-07</td>\n",
       "      <td>2019-10-07 00:00:00</td>\n",
       "      <td>Monday</td>\n",
       "      <td>1</td>\n",
       "      <td>2019-10-07 00:00:00</td>\n",
       "      <td>2019-10-07 00:18:43</td>\n",
       "      <td>...</td>\n",
       "      <td>2019-10-07 00:00:00</td>\n",
       "      <td>31444</td>\n",
       "      <td>28</td>\n",
       "      <td>1</td>\n",
       "      <td>other</td>\n",
       "      <td>2019-10-07</td>\n",
       "      <td>2019-10-01</td>\n",
       "      <td>28</td>\n",
       "      <td>31444</td>\n",
       "      <td>0</td>\n",
       "    </tr>\n",
       "    <tr>\n",
       "      <th>1</th>\n",
       "      <td>2019-10-07 00:00:01</td>\n",
       "      <td>tips_show</td>\n",
       "      <td>020292ab-89bc-4156-9acf-68bc2783f894</td>\n",
       "      <td>other</td>\n",
       "      <td>2019-10-07</td>\n",
       "      <td>2019-10-07 00:00:00</td>\n",
       "      <td>Monday</td>\n",
       "      <td>1</td>\n",
       "      <td>2019-10-07 00:00:00</td>\n",
       "      <td>2019-10-07 00:18:43</td>\n",
       "      <td>...</td>\n",
       "      <td>2019-10-07 00:00:00</td>\n",
       "      <td>31444</td>\n",
       "      <td>28</td>\n",
       "      <td>1</td>\n",
       "      <td>other</td>\n",
       "      <td>2019-10-07</td>\n",
       "      <td>2019-10-01</td>\n",
       "      <td>28</td>\n",
       "      <td>31444</td>\n",
       "      <td>0</td>\n",
       "    </tr>\n",
       "    <tr>\n",
       "      <th>2</th>\n",
       "      <td>2019-10-07 00:00:02</td>\n",
       "      <td>tips_show</td>\n",
       "      <td>cf7eda61-9349-469f-ac27-e5b6f5ec475c</td>\n",
       "      <td>yandex</td>\n",
       "      <td>2019-10-07</td>\n",
       "      <td>2019-10-07 00:00:02</td>\n",
       "      <td>Monday</td>\n",
       "      <td>2</td>\n",
       "      <td>2019-10-07 00:00:02</td>\n",
       "      <td>2019-10-07 00:41:40</td>\n",
       "      <td>...</td>\n",
       "      <td>2019-10-07 00:00:02</td>\n",
       "      <td>89425</td>\n",
       "      <td>93</td>\n",
       "      <td>22</td>\n",
       "      <td>yandex</td>\n",
       "      <td>2019-10-07</td>\n",
       "      <td>2019-10-01</td>\n",
       "      <td>4</td>\n",
       "      <td>4065</td>\n",
       "      <td>1</td>\n",
       "    </tr>\n",
       "    <tr>\n",
       "      <th>3</th>\n",
       "      <td>2019-10-07 00:00:07</td>\n",
       "      <td>tips_show</td>\n",
       "      <td>020292ab-89bc-4156-9acf-68bc2783f894</td>\n",
       "      <td>other</td>\n",
       "      <td>2019-10-07</td>\n",
       "      <td>2019-10-07 00:00:00</td>\n",
       "      <td>Monday</td>\n",
       "      <td>1</td>\n",
       "      <td>2019-10-07 00:00:00</td>\n",
       "      <td>2019-10-07 00:18:43</td>\n",
       "      <td>...</td>\n",
       "      <td>2019-10-07 00:00:00</td>\n",
       "      <td>31444</td>\n",
       "      <td>28</td>\n",
       "      <td>1</td>\n",
       "      <td>other</td>\n",
       "      <td>2019-10-07</td>\n",
       "      <td>2019-10-01</td>\n",
       "      <td>28</td>\n",
       "      <td>31444</td>\n",
       "      <td>0</td>\n",
       "    </tr>\n",
       "    <tr>\n",
       "      <th>4</th>\n",
       "      <td>2019-10-07 00:00:56</td>\n",
       "      <td>advert_open</td>\n",
       "      <td>cf7eda61-9349-469f-ac27-e5b6f5ec475c</td>\n",
       "      <td>yandex</td>\n",
       "      <td>2019-10-07</td>\n",
       "      <td>2019-10-07 00:00:02</td>\n",
       "      <td>Monday</td>\n",
       "      <td>2</td>\n",
       "      <td>2019-10-07 00:00:02</td>\n",
       "      <td>2019-10-07 00:41:40</td>\n",
       "      <td>...</td>\n",
       "      <td>2019-10-07 00:00:02</td>\n",
       "      <td>89425</td>\n",
       "      <td>93</td>\n",
       "      <td>22</td>\n",
       "      <td>yandex</td>\n",
       "      <td>2019-10-07</td>\n",
       "      <td>2019-10-01</td>\n",
       "      <td>4</td>\n",
       "      <td>4065</td>\n",
       "      <td>1</td>\n",
       "    </tr>\n",
       "  </tbody>\n",
       "</table>\n",
       "<p>5 rows × 22 columns</p>\n",
       "</div>"
      ],
      "text/plain": [
       "           event_time   event_name                               user_id  \\\n",
       "0 2019-10-07 00:00:00  advert_open  020292ab-89bc-4156-9acf-68bc2783f894   \n",
       "1 2019-10-07 00:00:01    tips_show  020292ab-89bc-4156-9acf-68bc2783f894   \n",
       "2 2019-10-07 00:00:02    tips_show  cf7eda61-9349-469f-ac27-e5b6f5ec475c   \n",
       "3 2019-10-07 00:00:07    tips_show  020292ab-89bc-4156-9acf-68bc2783f894   \n",
       "4 2019-10-07 00:00:56  advert_open  cf7eda61-9349-469f-ac27-e5b6f5ec475c   \n",
       "\n",
       "  source_x       date       first_vizit_x week_day  user_sessions  \\\n",
       "0    other 2019-10-07 2019-10-07 00:00:00   Monday              1   \n",
       "1    other 2019-10-07 2019-10-07 00:00:00   Monday              1   \n",
       "2   yandex 2019-10-07 2019-10-07 00:00:02   Monday              2   \n",
       "3    other 2019-10-07 2019-10-07 00:00:00   Monday              1   \n",
       "4   yandex 2019-10-07 2019-10-07 00:00:02   Monday              2   \n",
       "\n",
       "        session_start         session_end  ...       first_vizit_y  \\\n",
       "0 2019-10-07 00:00:00 2019-10-07 00:18:43  ... 2019-10-07 00:00:00   \n",
       "1 2019-10-07 00:00:00 2019-10-07 00:18:43  ... 2019-10-07 00:00:00   \n",
       "2 2019-10-07 00:00:02 2019-10-07 00:41:40  ... 2019-10-07 00:00:02   \n",
       "3 2019-10-07 00:00:00 2019-10-07 00:18:43  ... 2019-10-07 00:00:00   \n",
       "4 2019-10-07 00:00:02 2019-10-07 00:41:40  ... 2019-10-07 00:00:02   \n",
       "\n",
       "   session_duration_y events_number  sessions_number  source_y          dt  \\\n",
       "0               31444            28                1     other  2019-10-07   \n",
       "1               31444            28                1     other  2019-10-07   \n",
       "2               89425            93               22    yandex  2019-10-07   \n",
       "3               31444            28                1     other  2019-10-07   \n",
       "4               89425            93               22    yandex  2019-10-07   \n",
       "\n",
       "       month avg_events_per_session avg_session_duration  cluster  \n",
       "0 2019-10-01                     28                31444        0  \n",
       "1 2019-10-01                     28                31444        0  \n",
       "2 2019-10-01                      4                 4065        1  \n",
       "3 2019-10-01                     28                31444        0  \n",
       "4 2019-10-01                      4                 4065        1  \n",
       "\n",
       "[5 rows x 22 columns]"
      ]
     },
     "execution_count": 48,
     "metadata": {},
     "output_type": "execute_result"
    }
   ],
   "source": [
    "app_users_activity = (\n",
    "    app_users_activity.merge(profiles, on=['user_id'], how='left')\n",
    "    \n",
    ")\n",
    "app_users_activity.head()"
   ]
  },
  {
   "cell_type": "code",
   "execution_count": 49,
   "id": "f41ca17f",
   "metadata": {
    "scrolled": false
   },
   "outputs": [
    {
     "data": {
      "text/html": [
       "<div>\n",
       "<style scoped>\n",
       "    .dataframe tbody tr th:only-of-type {\n",
       "        vertical-align: middle;\n",
       "    }\n",
       "\n",
       "    .dataframe tbody tr th {\n",
       "        vertical-align: top;\n",
       "    }\n",
       "\n",
       "    .dataframe thead th {\n",
       "        text-align: right;\n",
       "    }\n",
       "</style>\n",
       "<table border=\"1\" class=\"dataframe\">\n",
       "  <thead>\n",
       "    <tr style=\"text-align: right;\">\n",
       "      <th></th>\n",
       "      <th>event_time</th>\n",
       "      <th>event_name</th>\n",
       "      <th>user_id</th>\n",
       "      <th>source</th>\n",
       "      <th>date</th>\n",
       "      <th>first_vizit</th>\n",
       "      <th>week_day</th>\n",
       "      <th>user_sessions</th>\n",
       "      <th>session_start</th>\n",
       "      <th>session_end</th>\n",
       "      <th>session_duration</th>\n",
       "      <th>lifetime</th>\n",
       "      <th>cluster</th>\n",
       "    </tr>\n",
       "  </thead>\n",
       "  <tbody>\n",
       "    <tr>\n",
       "      <th>0</th>\n",
       "      <td>2019-10-07 00:00:00</td>\n",
       "      <td>advert_open</td>\n",
       "      <td>020292ab-89bc-4156-9acf-68bc2783f894</td>\n",
       "      <td>other</td>\n",
       "      <td>2019-10-07</td>\n",
       "      <td>2019-10-07 00:00:00</td>\n",
       "      <td>Monday</td>\n",
       "      <td>1</td>\n",
       "      <td>2019-10-07 00:00:00</td>\n",
       "      <td>2019-10-07 00:18:43</td>\n",
       "      <td>1123</td>\n",
       "      <td>0</td>\n",
       "      <td>0</td>\n",
       "    </tr>\n",
       "    <tr>\n",
       "      <th>1</th>\n",
       "      <td>2019-10-07 00:00:01</td>\n",
       "      <td>tips_show</td>\n",
       "      <td>020292ab-89bc-4156-9acf-68bc2783f894</td>\n",
       "      <td>other</td>\n",
       "      <td>2019-10-07</td>\n",
       "      <td>2019-10-07 00:00:00</td>\n",
       "      <td>Monday</td>\n",
       "      <td>1</td>\n",
       "      <td>2019-10-07 00:00:00</td>\n",
       "      <td>2019-10-07 00:18:43</td>\n",
       "      <td>1123</td>\n",
       "      <td>0</td>\n",
       "      <td>0</td>\n",
       "    </tr>\n",
       "    <tr>\n",
       "      <th>2</th>\n",
       "      <td>2019-10-07 00:00:02</td>\n",
       "      <td>tips_show</td>\n",
       "      <td>cf7eda61-9349-469f-ac27-e5b6f5ec475c</td>\n",
       "      <td>yandex</td>\n",
       "      <td>2019-10-07</td>\n",
       "      <td>2019-10-07 00:00:02</td>\n",
       "      <td>Monday</td>\n",
       "      <td>2</td>\n",
       "      <td>2019-10-07 00:00:02</td>\n",
       "      <td>2019-10-07 00:41:40</td>\n",
       "      <td>2498</td>\n",
       "      <td>0</td>\n",
       "      <td>1</td>\n",
       "    </tr>\n",
       "    <tr>\n",
       "      <th>3</th>\n",
       "      <td>2019-10-07 00:00:07</td>\n",
       "      <td>tips_show</td>\n",
       "      <td>020292ab-89bc-4156-9acf-68bc2783f894</td>\n",
       "      <td>other</td>\n",
       "      <td>2019-10-07</td>\n",
       "      <td>2019-10-07 00:00:00</td>\n",
       "      <td>Monday</td>\n",
       "      <td>1</td>\n",
       "      <td>2019-10-07 00:00:00</td>\n",
       "      <td>2019-10-07 00:18:43</td>\n",
       "      <td>1123</td>\n",
       "      <td>0</td>\n",
       "      <td>0</td>\n",
       "    </tr>\n",
       "    <tr>\n",
       "      <th>4</th>\n",
       "      <td>2019-10-07 00:00:56</td>\n",
       "      <td>advert_open</td>\n",
       "      <td>cf7eda61-9349-469f-ac27-e5b6f5ec475c</td>\n",
       "      <td>yandex</td>\n",
       "      <td>2019-10-07</td>\n",
       "      <td>2019-10-07 00:00:02</td>\n",
       "      <td>Monday</td>\n",
       "      <td>2</td>\n",
       "      <td>2019-10-07 00:00:02</td>\n",
       "      <td>2019-10-07 00:41:40</td>\n",
       "      <td>2498</td>\n",
       "      <td>0</td>\n",
       "      <td>1</td>\n",
       "    </tr>\n",
       "  </tbody>\n",
       "</table>\n",
       "</div>"
      ],
      "text/plain": [
       "           event_time   event_name                               user_id  \\\n",
       "0 2019-10-07 00:00:00  advert_open  020292ab-89bc-4156-9acf-68bc2783f894   \n",
       "1 2019-10-07 00:00:01    tips_show  020292ab-89bc-4156-9acf-68bc2783f894   \n",
       "2 2019-10-07 00:00:02    tips_show  cf7eda61-9349-469f-ac27-e5b6f5ec475c   \n",
       "3 2019-10-07 00:00:07    tips_show  020292ab-89bc-4156-9acf-68bc2783f894   \n",
       "4 2019-10-07 00:00:56  advert_open  cf7eda61-9349-469f-ac27-e5b6f5ec475c   \n",
       "\n",
       "   source       date         first_vizit week_day  user_sessions  \\\n",
       "0   other 2019-10-07 2019-10-07 00:00:00   Monday              1   \n",
       "1   other 2019-10-07 2019-10-07 00:00:00   Monday              1   \n",
       "2  yandex 2019-10-07 2019-10-07 00:00:02   Monday              2   \n",
       "3   other 2019-10-07 2019-10-07 00:00:00   Monday              1   \n",
       "4  yandex 2019-10-07 2019-10-07 00:00:02   Monday              2   \n",
       "\n",
       "        session_start         session_end  session_duration  lifetime  cluster  \n",
       "0 2019-10-07 00:00:00 2019-10-07 00:18:43              1123         0        0  \n",
       "1 2019-10-07 00:00:00 2019-10-07 00:18:43              1123         0        0  \n",
       "2 2019-10-07 00:00:02 2019-10-07 00:41:40              2498         0        1  \n",
       "3 2019-10-07 00:00:00 2019-10-07 00:18:43              1123         0        0  \n",
       "4 2019-10-07 00:00:02 2019-10-07 00:41:40              2498         0        1  "
      ]
     },
     "execution_count": 49,
     "metadata": {},
     "output_type": "execute_result"
    }
   ],
   "source": [
    "app_users_activity = ( \n",
    "    app_users_activity.drop(['first_vizit_y','events_number','sessions_number',\n",
    "                             'source_y','dt','month', 'avg_events_per_session',\n",
    "                             'avg_session_duration', 'session_duration_y'], axis=1)\n",
    "    .rename(columns={'source_x': 'source', 'first_vizit_x':'first_vizit',\n",
    "                     'session_duration_x':'session_duration'})\n",
    "    \n",
    ")\n",
    "app_users_activity.head()"
   ]
  },
  {
   "cell_type": "markdown",
   "id": "eda42cf6",
   "metadata": {},
   "source": [
    "Группа №0 открывает много карточек объявлений, фотографий, пользуются поиском и картой. Группа №1 предпочитает просматривать фотографии, использовать поиск, а затем открывать карточку объявления для просмотра контактов."
   ]
  },
  {
   "cell_type": "code",
   "execution_count": 50,
   "id": "b8f7dbbb",
   "metadata": {
    "scrolled": true
   },
   "outputs": [
    {
     "data": {
      "image/png": "[encoded data removed]",
      "text/plain": [
       "<Figure size 864x720 with 2 Axes>"
      ]
     },
     "metadata": {},
     "output_type": "display_data"
    }
   ],
   "source": [
    "number = [0,1]\n",
    "a=0\n",
    "fig, axs = plt.subplots(1, len(number),figsize=(12,10))\n",
    "\n",
    "for i in number:\n",
    "    (app_users_activity.query('cluster == @i & \"tips_show\" not in event_name')\n",
    "     .groupby('event_name')['user_id'].count()\n",
    "     .plot(ax=axs[a],kind='pie', autopct='%1.1f%%')\n",
    "    )\n",
    "    plt.title('Количество действий групп № 0,1')\n",
    "    a += 1\n",
    "\n",
    "\n",
    "plt.show()"
   ]
  },
  {
   "cell_type": "markdown",
   "id": "b48d715e",
   "metadata": {},
   "source": [
    "Наименее популярные действия: переход на страницу рекламного объявления и добавление товара в избранное."
   ]
  },
  {
   "cell_type": "code",
   "execution_count": 51,
   "id": "d1037709",
   "metadata": {},
   "outputs": [
    {
     "data": {
      "image/png": "[encoded data removed]",
      "text/plain": [
       "<Figure size 1008x360 with 2 Axes>"
      ]
     },
     "metadata": {},
     "output_type": "display_data"
    }
   ],
   "source": [
    "plt.figure(figsize=(14, 5))\n",
    "ax1 = plt.subplot(1, 2, 1)\n",
    "( \n",
    "    app_users_activity.query('cluster == 0')\n",
    "    .groupby('event_name')['user_id'].count()\n",
    "    .sort_values()\n",
    "    .plot(kind='bar',grid=True, color='mediumpurple', ax=ax1)\n",
    ")\n",
    "plt.title('Популярные действия группа № 0')\n",
    "\n",
    "ax2 = plt.subplot(1, 2, 2, sharey=ax1)\n",
    "( \n",
    "    app_users_activity.query('cluster == 1')\n",
    "    .groupby('event_name')['user_id'].count()\n",
    "    .sort_values()\n",
    "    .plot(kind='bar',grid=True, color='mediumpurple', ax=ax2)\n",
    ")\n",
    "plt.title('Популярные действия группа №1') ;"
   ]
  },
  {
   "cell_type": "markdown",
   "id": "3102a7af",
   "metadata": {},
   "source": [
    "Посмотрим на конверсию в целевое действие - просмотр контактов. Группа №0 демонстрирует лучшую конверсию, чем группа №1."
   ]
  },
  {
   "cell_type": "code",
   "execution_count": 52,
   "id": "a2144183",
   "metadata": {},
   "outputs": [
    {
     "data": {
      "text/html": [
       "<div>\n",
       "<style scoped>\n",
       "    .dataframe tbody tr th:only-of-type {\n",
       "        vertical-align: middle;\n",
       "    }\n",
       "\n",
       "    .dataframe tbody tr th {\n",
       "        vertical-align: top;\n",
       "    }\n",
       "\n",
       "    .dataframe thead th {\n",
       "        text-align: right;\n",
       "    }\n",
       "</style>\n",
       "<table border=\"1\" class=\"dataframe\">\n",
       "  <thead>\n",
       "    <tr style=\"text-align: right;\">\n",
       "      <th></th>\n",
       "      <th>cluster</th>\n",
       "      <th>contacts_show</th>\n",
       "    </tr>\n",
       "  </thead>\n",
       "  <tbody>\n",
       "    <tr>\n",
       "      <th>0</th>\n",
       "      <td>0</td>\n",
       "      <td>33</td>\n",
       "    </tr>\n",
       "    <tr>\n",
       "      <th>1</th>\n",
       "      <td>1</td>\n",
       "      <td>948</td>\n",
       "    </tr>\n",
       "  </tbody>\n",
       "</table>\n",
       "</div>"
      ],
      "text/plain": [
       "   cluster  contacts_show\n",
       "0        0             33\n",
       "1        1            948"
      ]
     },
     "execution_count": 52,
     "metadata": {},
     "output_type": "execute_result"
    }
   ],
   "source": [
    "temp_table_event = (\n",
    "    app_users_activity.query('\"contacts_show\" in event_name')\n",
    "    .pivot_table(index='cluster', values='user_id', aggfunc='nunique')  \n",
    "    .reset_index()\n",
    "    .rename(columns={'user_id': 'contacts_show'})\n",
    ")\n",
    "temp_table_event"
   ]
  },
  {
   "cell_type": "code",
   "execution_count": 53,
   "id": "50276e86",
   "metadata": {
    "scrolled": false
   },
   "outputs": [
    {
     "data": {
      "text/html": [
       "<div>\n",
       "<style scoped>\n",
       "    .dataframe tbody tr th:only-of-type {\n",
       "        vertical-align: middle;\n",
       "    }\n",
       "\n",
       "    .dataframe tbody tr th {\n",
       "        vertical-align: top;\n",
       "    }\n",
       "\n",
       "    .dataframe thead th {\n",
       "        text-align: right;\n",
       "    }\n",
       "</style>\n",
       "<table border=\"1\" class=\"dataframe\">\n",
       "  <thead>\n",
       "    <tr style=\"text-align: right;\">\n",
       "      <th></th>\n",
       "      <th>cluster</th>\n",
       "      <th>user_count</th>\n",
       "    </tr>\n",
       "  </thead>\n",
       "  <tbody>\n",
       "    <tr>\n",
       "      <th>0</th>\n",
       "      <td>0</td>\n",
       "      <td>207</td>\n",
       "    </tr>\n",
       "    <tr>\n",
       "      <th>1</th>\n",
       "      <td>1</td>\n",
       "      <td>4086</td>\n",
       "    </tr>\n",
       "  </tbody>\n",
       "</table>\n",
       "</div>"
      ],
      "text/plain": [
       "   cluster  user_count\n",
       "0        0         207\n",
       "1        1        4086"
      ]
     },
     "execution_count": 53,
     "metadata": {},
     "output_type": "execute_result"
    }
   ],
   "source": [
    "temp = (\n",
    "    app_users_activity.pivot_table(index='cluster', values='user_id', aggfunc='nunique')\n",
    "    .rename(columns={'user_id': 'user_count'})\n",
    "    .reset_index()\n",
    ")\n",
    "temp"
   ]
  },
  {
   "cell_type": "code",
   "execution_count": 54,
   "id": "92a660fa",
   "metadata": {
    "scrolled": true
   },
   "outputs": [
    {
     "data": {
      "text/html": [
       "<div>\n",
       "<style scoped>\n",
       "    .dataframe tbody tr th:only-of-type {\n",
       "        vertical-align: middle;\n",
       "    }\n",
       "\n",
       "    .dataframe tbody tr th {\n",
       "        vertical-align: top;\n",
       "    }\n",
       "\n",
       "    .dataframe thead th {\n",
       "        text-align: right;\n",
       "    }\n",
       "</style>\n",
       "<table border=\"1\" class=\"dataframe\">\n",
       "  <thead>\n",
       "    <tr style=\"text-align: right;\">\n",
       "      <th></th>\n",
       "      <th>cluster</th>\n",
       "      <th>contacts_show</th>\n",
       "      <th>user_count</th>\n",
       "      <th>conresion</th>\n",
       "    </tr>\n",
       "  </thead>\n",
       "  <tbody>\n",
       "    <tr>\n",
       "      <th>0</th>\n",
       "      <td>0</td>\n",
       "      <td>33</td>\n",
       "      <td>207</td>\n",
       "      <td>15.942029</td>\n",
       "    </tr>\n",
       "    <tr>\n",
       "      <th>1</th>\n",
       "      <td>1</td>\n",
       "      <td>948</td>\n",
       "      <td>4086</td>\n",
       "      <td>23.201175</td>\n",
       "    </tr>\n",
       "  </tbody>\n",
       "</table>\n",
       "</div>"
      ],
      "text/plain": [
       "   cluster  contacts_show  user_count  conresion\n",
       "0        0             33         207  15.942029\n",
       "1        1            948        4086  23.201175"
      ]
     },
     "metadata": {},
     "output_type": "display_data"
    },
    {
     "data": {
      "image/png": "[encoded data removed]",
      "text/plain": [
       "<Figure size 432x288 with 1 Axes>"
      ]
     },
     "metadata": {},
     "output_type": "display_data"
    }
   ],
   "source": [
    "temp_table_event = temp_table_event.merge(temp, on='cluster')\n",
    "temp_table_event['conresion'] = (temp_table_event['contacts_show'].div(temp_table_event['user_count'], axis=0))*100\n",
    "display(temp_table_event)\n",
    "temp_table_event['conresion'].plot(kind='bar',grid=True, color='mediumpurple')\n",
    "plt.title('Конверсия в целевое действие') ;"
   ]
  },
  {
   "cell_type": "markdown",
   "id": "72359523",
   "metadata": {},
   "source": [
    "Изучим сколько времени проходит с момента первого входа в приложение до использования функции поиска."
   ]
  },
  {
   "cell_type": "code",
   "execution_count": 55,
   "id": "13667d6e",
   "metadata": {
    "code_folding": [],
    "scrolled": false
   },
   "outputs": [
    {
     "name": "stdout",
     "output_type": "stream",
     "text": [
      "Counter({1: 1586, 0: 80})\n"
     ]
    },
    {
     "data": {
      "text/html": [
       "<div>\n",
       "<style scoped>\n",
       "    .dataframe tbody tr th:only-of-type {\n",
       "        vertical-align: middle;\n",
       "    }\n",
       "\n",
       "    .dataframe tbody tr th {\n",
       "        vertical-align: top;\n",
       "    }\n",
       "\n",
       "    .dataframe thead th {\n",
       "        text-align: right;\n",
       "    }\n",
       "</style>\n",
       "<table border=\"1\" class=\"dataframe\">\n",
       "  <thead>\n",
       "    <tr style=\"text-align: right;\">\n",
       "      <th></th>\n",
       "      <th>user_id</th>\n",
       "      <th>cluster</th>\n",
       "      <th>first_vizit</th>\n",
       "      <th>event_time</th>\n",
       "    </tr>\n",
       "  </thead>\n",
       "  <tbody>\n",
       "    <tr>\n",
       "      <th>0</th>\n",
       "      <td>00157779-810c-4498-9e05-a1e9e3cedf93</td>\n",
       "      <td>1</td>\n",
       "      <td>2019-10-19 21:34:34</td>\n",
       "      <td>2019-10-19 21:34:34</td>\n",
       "    </tr>\n",
       "    <tr>\n",
       "      <th>1</th>\n",
       "      <td>004690c3-5a84-4bb7-a8af-e0c8f8fca64e</td>\n",
       "      <td>1</td>\n",
       "      <td>2019-10-18 22:14:06</td>\n",
       "      <td>2019-10-18 22:14:06</td>\n",
       "    </tr>\n",
       "    <tr>\n",
       "      <th>2</th>\n",
       "      <td>00551e79-152e-4441-9cf7-565d7eb04090</td>\n",
       "      <td>1</td>\n",
       "      <td>2019-10-25 16:44:41</td>\n",
       "      <td>2019-10-28 13:08:16</td>\n",
       "    </tr>\n",
       "    <tr>\n",
       "      <th>3</th>\n",
       "      <td>00554293-7e00-4122-b898-4e892c4a7c53</td>\n",
       "      <td>1</td>\n",
       "      <td>2019-10-27 12:32:28</td>\n",
       "      <td>2019-10-27 12:32:28</td>\n",
       "    </tr>\n",
       "    <tr>\n",
       "      <th>4</th>\n",
       "      <td>00753c79-ea81-4456-acd0-a47a23ca2fb9</td>\n",
       "      <td>1</td>\n",
       "      <td>2019-10-20 14:57:06</td>\n",
       "      <td>2019-10-23 08:53:33</td>\n",
       "    </tr>\n",
       "  </tbody>\n",
       "</table>\n",
       "</div>"
      ],
      "text/plain": [
       "                                user_id  cluster         first_vizit  \\\n",
       "0  00157779-810c-4498-9e05-a1e9e3cedf93        1 2019-10-19 21:34:34   \n",
       "1  004690c3-5a84-4bb7-a8af-e0c8f8fca64e        1 2019-10-18 22:14:06   \n",
       "2  00551e79-152e-4441-9cf7-565d7eb04090        1 2019-10-25 16:44:41   \n",
       "3  00554293-7e00-4122-b898-4e892c4a7c53        1 2019-10-27 12:32:28   \n",
       "4  00753c79-ea81-4456-acd0-a47a23ca2fb9        1 2019-10-20 14:57:06   \n",
       "\n",
       "           event_time  \n",
       "0 2019-10-19 21:34:34  \n",
       "1 2019-10-18 22:14:06  \n",
       "2 2019-10-28 13:08:16  \n",
       "3 2019-10-27 12:32:28  \n",
       "4 2019-10-23 08:53:33  "
      ]
     },
     "execution_count": 55,
     "metadata": {},
     "output_type": "execute_result"
    }
   ],
   "source": [
    "temp = (\n",
    "    app_users_activity.query('\"search\" in event_name')\n",
    "    .pivot_table(index=['user_id','cluster','first_vizit'], values='event_time', aggfunc='min')\n",
    "    .reset_index()\n",
    ")\n",
    "print(Counter(temp['cluster']))\n",
    "temp.head()"
   ]
  },
  {
   "cell_type": "markdown",
   "id": "de35d357",
   "metadata": {},
   "source": [
    "Вычисляем продолжительность этого периода"
   ]
  },
  {
   "cell_type": "code",
   "execution_count": 56,
   "id": "135102ee",
   "metadata": {
    "scrolled": true
   },
   "outputs": [
    {
     "data": {
      "text/html": [
       "<div>\n",
       "<style scoped>\n",
       "    .dataframe tbody tr th:only-of-type {\n",
       "        vertical-align: middle;\n",
       "    }\n",
       "\n",
       "    .dataframe tbody tr th {\n",
       "        vertical-align: top;\n",
       "    }\n",
       "\n",
       "    .dataframe thead th {\n",
       "        text-align: right;\n",
       "    }\n",
       "</style>\n",
       "<table border=\"1\" class=\"dataframe\">\n",
       "  <thead>\n",
       "    <tr style=\"text-align: right;\">\n",
       "      <th></th>\n",
       "      <th>user_id</th>\n",
       "      <th>cluster</th>\n",
       "      <th>first_vizit</th>\n",
       "      <th>event_time</th>\n",
       "      <th>duratin</th>\n",
       "    </tr>\n",
       "  </thead>\n",
       "  <tbody>\n",
       "    <tr>\n",
       "      <th>0</th>\n",
       "      <td>00157779-810c-4498-9e05-a1e9e3cedf93</td>\n",
       "      <td>1</td>\n",
       "      <td>2019-10-19 21:34:34</td>\n",
       "      <td>2019-10-19 21:34:34</td>\n",
       "      <td>0.000000</td>\n",
       "    </tr>\n",
       "    <tr>\n",
       "      <th>1</th>\n",
       "      <td>004690c3-5a84-4bb7-a8af-e0c8f8fca64e</td>\n",
       "      <td>1</td>\n",
       "      <td>2019-10-18 22:14:06</td>\n",
       "      <td>2019-10-18 22:14:06</td>\n",
       "      <td>0.000000</td>\n",
       "    </tr>\n",
       "    <tr>\n",
       "      <th>2</th>\n",
       "      <td>00551e79-152e-4441-9cf7-565d7eb04090</td>\n",
       "      <td>1</td>\n",
       "      <td>2019-10-25 16:44:41</td>\n",
       "      <td>2019-10-28 13:08:16</td>\n",
       "      <td>4103.583333</td>\n",
       "    </tr>\n",
       "    <tr>\n",
       "      <th>3</th>\n",
       "      <td>00554293-7e00-4122-b898-4e892c4a7c53</td>\n",
       "      <td>1</td>\n",
       "      <td>2019-10-27 12:32:28</td>\n",
       "      <td>2019-10-27 12:32:28</td>\n",
       "      <td>0.000000</td>\n",
       "    </tr>\n",
       "    <tr>\n",
       "      <th>4</th>\n",
       "      <td>00753c79-ea81-4456-acd0-a47a23ca2fb9</td>\n",
       "      <td>1</td>\n",
       "      <td>2019-10-20 14:57:06</td>\n",
       "      <td>2019-10-23 08:53:33</td>\n",
       "      <td>3956.450000</td>\n",
       "    </tr>\n",
       "  </tbody>\n",
       "</table>\n",
       "</div>"
      ],
      "text/plain": [
       "                                user_id  cluster         first_vizit  \\\n",
       "0  00157779-810c-4498-9e05-a1e9e3cedf93        1 2019-10-19 21:34:34   \n",
       "1  004690c3-5a84-4bb7-a8af-e0c8f8fca64e        1 2019-10-18 22:14:06   \n",
       "2  00551e79-152e-4441-9cf7-565d7eb04090        1 2019-10-25 16:44:41   \n",
       "3  00554293-7e00-4122-b898-4e892c4a7c53        1 2019-10-27 12:32:28   \n",
       "4  00753c79-ea81-4456-acd0-a47a23ca2fb9        1 2019-10-20 14:57:06   \n",
       "\n",
       "           event_time      duratin  \n",
       "0 2019-10-19 21:34:34     0.000000  \n",
       "1 2019-10-18 22:14:06     0.000000  \n",
       "2 2019-10-28 13:08:16  4103.583333  \n",
       "3 2019-10-27 12:32:28     0.000000  \n",
       "4 2019-10-23 08:53:33  3956.450000  "
      ]
     },
     "execution_count": 56,
     "metadata": {},
     "output_type": "execute_result"
    }
   ],
   "source": [
    "temp['duratin'] = (temp['event_time'] - temp['first_vizit']).dt.total_seconds() / 60\n",
    "temp.head()"
   ]
  },
  {
   "cell_type": "markdown",
   "id": "c21bbe88",
   "metadata": {},
   "source": [
    "Считаем среднее по кластерам в минутах. Группа пользователей №1 на много позже начинает использовать функцию поиска."
   ]
  },
  {
   "cell_type": "code",
   "execution_count": 57,
   "id": "5edc7cf8",
   "metadata": {
    "scrolled": true
   },
   "outputs": [
    {
     "name": "stdout",
     "output_type": "stream",
     "text": [
      "cluster\n",
      "0    110.625625\n",
      "1    972.764975\n",
      "Name: duratin, dtype: float64\n"
     ]
    },
    {
     "data": {
      "image/png": "[encoded data removed]",
      "text/plain": [
       "<Figure size 432x288 with 1 Axes>"
      ]
     },
     "metadata": {},
     "output_type": "display_data"
    }
   ],
   "source": [
    "print(temp.groupby('cluster')['duratin'].mean())\n",
    "temp.groupby('cluster')['duratin'].mean().plot(kind='bar', grid=True, color='mediumpurple')\n",
    "plt.show\n",
    "plt.title('Время прошедшее до первого использования функции поиска') ;"
   ]
  },
  {
   "cell_type": "markdown",
   "id": "b7be8475",
   "metadata": {},
   "source": [
    "## Проверка гипотез"
   ]
  },
  {
   "cell_type": "markdown",
   "id": "adb6ebb2",
   "metadata": {},
   "source": [
    "Гипотеза H0: пользователи пришедшие через yandex и пользователи установившие приложение через google демонстрируют схожую конверсию в просмотры контактов.\n",
    "\n",
    "Гипотеза H1: пользователи пришедшие через yandex и пользователи установившие приложение через google демонстрируют разную конверсию в просмотры контактов."
   ]
  },
  {
   "cell_type": "markdown",
   "id": "72aad0e2",
   "metadata": {},
   "source": [
    "Количество уникальных пользователей в тестируемых группах."
   ]
  },
  {
   "cell_type": "code",
   "execution_count": 58,
   "id": "1f874d86",
   "metadata": {
    "scrolled": true
   },
   "outputs": [
    {
     "data": {
      "text/html": [
       "<div>\n",
       "<style scoped>\n",
       "    .dataframe tbody tr th:only-of-type {\n",
       "        vertical-align: middle;\n",
       "    }\n",
       "\n",
       "    .dataframe tbody tr th {\n",
       "        vertical-align: top;\n",
       "    }\n",
       "\n",
       "    .dataframe thead th {\n",
       "        text-align: right;\n",
       "    }\n",
       "</style>\n",
       "<table border=\"1\" class=\"dataframe\">\n",
       "  <thead>\n",
       "    <tr style=\"text-align: right;\">\n",
       "      <th></th>\n",
       "      <th>source</th>\n",
       "      <th>user_id</th>\n",
       "    </tr>\n",
       "  </thead>\n",
       "  <tbody>\n",
       "    <tr>\n",
       "      <th>0</th>\n",
       "      <td>google</td>\n",
       "      <td>1129</td>\n",
       "    </tr>\n",
       "    <tr>\n",
       "      <th>1</th>\n",
       "      <td>other</td>\n",
       "      <td>1230</td>\n",
       "    </tr>\n",
       "    <tr>\n",
       "      <th>2</th>\n",
       "      <td>yandex</td>\n",
       "      <td>1934</td>\n",
       "    </tr>\n",
       "  </tbody>\n",
       "</table>\n",
       "</div>"
      ],
      "text/plain": [
       "   source  user_id\n",
       "0  google     1129\n",
       "1   other     1230\n",
       "2  yandex     1934"
      ]
     },
     "execution_count": 58,
     "metadata": {},
     "output_type": "execute_result"
    }
   ],
   "source": [
    "unique_user = (\n",
    "    app_users_activity.pivot_table(index='source', values='user_id', aggfunc='nunique')\n",
    "    .reset_index()\n",
    ")\n",
    "unique_user"
   ]
  },
  {
   "cell_type": "markdown",
   "id": "b242b5bf",
   "metadata": {},
   "source": [
    "Количество уникальных пользователей пришедших из разных источников совершивших целевое действие \"просмотр контактов\"."
   ]
  },
  {
   "cell_type": "code",
   "execution_count": 59,
   "id": "dfc3f61a",
   "metadata": {
    "scrolled": true
   },
   "outputs": [
    {
     "data": {
      "text/html": [
       "<div>\n",
       "<style scoped>\n",
       "    .dataframe tbody tr th:only-of-type {\n",
       "        vertical-align: middle;\n",
       "    }\n",
       "\n",
       "    .dataframe tbody tr th {\n",
       "        vertical-align: top;\n",
       "    }\n",
       "\n",
       "    .dataframe thead th {\n",
       "        text-align: right;\n",
       "    }\n",
       "</style>\n",
       "<table border=\"1\" class=\"dataframe\">\n",
       "  <thead>\n",
       "    <tr style=\"text-align: right;\">\n",
       "      <th></th>\n",
       "      <th>source</th>\n",
       "      <th>user_id</th>\n",
       "    </tr>\n",
       "  </thead>\n",
       "  <tbody>\n",
       "    <tr>\n",
       "      <th>0</th>\n",
       "      <td>google</td>\n",
       "      <td>275</td>\n",
       "    </tr>\n",
       "    <tr>\n",
       "      <th>1</th>\n",
       "      <td>other</td>\n",
       "      <td>228</td>\n",
       "    </tr>\n",
       "    <tr>\n",
       "      <th>2</th>\n",
       "      <td>yandex</td>\n",
       "      <td>478</td>\n",
       "    </tr>\n",
       "  </tbody>\n",
       "</table>\n",
       "</div>"
      ],
      "text/plain": [
       "   source  user_id\n",
       "0  google      275\n",
       "1   other      228\n",
       "2  yandex      478"
      ]
     },
     "execution_count": 59,
     "metadata": {},
     "output_type": "execute_result"
    }
   ],
   "source": [
    "test_user = (\n",
    "        app_users_activity.query('\"contacts_show\" in event_name')\n",
    "        .pivot_table(index=['source'],  values='user_id', aggfunc='nunique')\n",
    "        .reset_index()\n",
    "    )\n",
    "test_user"
   ]
  },
  {
   "cell_type": "code",
   "execution_count": 60,
   "id": "d59d56fd",
   "metadata": {},
   "outputs": [
    {
     "name": "stdout",
     "output_type": "stream",
     "text": [
      "p-значение:  0.8244316027993777\n",
      "Не получилось отвергнуть нулевую гипотезу, нет оснований считать доли разными\n"
     ]
    }
   ],
   "source": [
    "group_1 = test_user.loc[0,'user_id']\n",
    "group_2 = test_user.loc[2,'user_id']\n",
    "total_number_1 = unique_user.loc[0,'user_id']\n",
    "total_number_2 = unique_user.loc[2,'user_id']\n",
    "\n",
    "alpha_current = 0.05 / 5\n",
    "\n",
    "verify_sample(group_1, group_2, total_number_1, total_number_2, alpha_current)"
   ]
  },
  {
   "cell_type": "markdown",
   "id": "5a0b772f",
   "metadata": {},
   "source": [
    "Гипотеза H0: есть статистическая разница между конверсией в целевое действие \"просмотр контактов\" по пятницам и по субботам.\n",
    "\n",
    "Гипотеза H1: есть статистическая разница между конверсией в целевое действие \"просмотр контактов\" по пятницам и по субботам."
   ]
  },
  {
   "cell_type": "markdown",
   "id": "eaa78f4d",
   "metadata": {},
   "source": [
    "Количество пользователей в разные дни недели."
   ]
  },
  {
   "cell_type": "code",
   "execution_count": 61,
   "id": "336c49e7",
   "metadata": {},
   "outputs": [
    {
     "data": {
      "text/html": [
       "<div>\n",
       "<style scoped>\n",
       "    .dataframe tbody tr th:only-of-type {\n",
       "        vertical-align: middle;\n",
       "    }\n",
       "\n",
       "    .dataframe tbody tr th {\n",
       "        vertical-align: top;\n",
       "    }\n",
       "\n",
       "    .dataframe thead th {\n",
       "        text-align: right;\n",
       "    }\n",
       "</style>\n",
       "<table border=\"1\" class=\"dataframe\">\n",
       "  <thead>\n",
       "    <tr style=\"text-align: right;\">\n",
       "      <th></th>\n",
       "      <th>week_day</th>\n",
       "      <th>user_id</th>\n",
       "    </tr>\n",
       "  </thead>\n",
       "  <tbody>\n",
       "    <tr>\n",
       "      <th>0</th>\n",
       "      <td>Friday</td>\n",
       "      <td>976</td>\n",
       "    </tr>\n",
       "    <tr>\n",
       "      <th>1</th>\n",
       "      <td>Monday</td>\n",
       "      <td>1060</td>\n",
       "    </tr>\n",
       "    <tr>\n",
       "      <th>2</th>\n",
       "      <td>Saturday</td>\n",
       "      <td>873</td>\n",
       "    </tr>\n",
       "    <tr>\n",
       "      <th>3</th>\n",
       "      <td>Sunday</td>\n",
       "      <td>975</td>\n",
       "    </tr>\n",
       "    <tr>\n",
       "      <th>4</th>\n",
       "      <td>Thursday</td>\n",
       "      <td>1074</td>\n",
       "    </tr>\n",
       "    <tr>\n",
       "      <th>5</th>\n",
       "      <td>Tuesday</td>\n",
       "      <td>1032</td>\n",
       "    </tr>\n",
       "    <tr>\n",
       "      <th>6</th>\n",
       "      <td>Wednesday</td>\n",
       "      <td>1058</td>\n",
       "    </tr>\n",
       "  </tbody>\n",
       "</table>\n",
       "</div>"
      ],
      "text/plain": [
       "    week_day  user_id\n",
       "0     Friday      976\n",
       "1     Monday     1060\n",
       "2   Saturday      873\n",
       "3     Sunday      975\n",
       "4   Thursday     1074\n",
       "5    Tuesday     1032\n",
       "6  Wednesday     1058"
      ]
     },
     "execution_count": 61,
     "metadata": {},
     "output_type": "execute_result"
    }
   ],
   "source": [
    "unique_user = (app_users_activity\n",
    "               .pivot_table(index=('week_day'), values='user_id', aggfunc='nunique')\n",
    "               .reset_index()\n",
    ")\n",
    "unique_user"
   ]
  },
  {
   "cell_type": "markdown",
   "id": "2df6cbbd",
   "metadata": {},
   "source": [
    "Количество пользователей открывших контакты продавца в разные дни недели."
   ]
  },
  {
   "cell_type": "code",
   "execution_count": 62,
   "id": "1703df58",
   "metadata": {},
   "outputs": [
    {
     "data": {
      "text/html": [
       "<div>\n",
       "<style scoped>\n",
       "    .dataframe tbody tr th:only-of-type {\n",
       "        vertical-align: middle;\n",
       "    }\n",
       "\n",
       "    .dataframe tbody tr th {\n",
       "        vertical-align: top;\n",
       "    }\n",
       "\n",
       "    .dataframe thead th {\n",
       "        text-align: right;\n",
       "    }\n",
       "</style>\n",
       "<table border=\"1\" class=\"dataframe\">\n",
       "  <thead>\n",
       "    <tr style=\"text-align: right;\">\n",
       "      <th></th>\n",
       "      <th>week_day</th>\n",
       "      <th>user_id</th>\n",
       "    </tr>\n",
       "  </thead>\n",
       "  <tbody>\n",
       "    <tr>\n",
       "      <th>0</th>\n",
       "      <td>Friday</td>\n",
       "      <td>209</td>\n",
       "    </tr>\n",
       "    <tr>\n",
       "      <th>1</th>\n",
       "      <td>Monday</td>\n",
       "      <td>186</td>\n",
       "    </tr>\n",
       "    <tr>\n",
       "      <th>2</th>\n",
       "      <td>Saturday</td>\n",
       "      <td>163</td>\n",
       "    </tr>\n",
       "    <tr>\n",
       "      <th>3</th>\n",
       "      <td>Sunday</td>\n",
       "      <td>187</td>\n",
       "    </tr>\n",
       "    <tr>\n",
       "      <th>4</th>\n",
       "      <td>Thursday</td>\n",
       "      <td>213</td>\n",
       "    </tr>\n",
       "    <tr>\n",
       "      <th>5</th>\n",
       "      <td>Tuesday</td>\n",
       "      <td>206</td>\n",
       "    </tr>\n",
       "    <tr>\n",
       "      <th>6</th>\n",
       "      <td>Wednesday</td>\n",
       "      <td>191</td>\n",
       "    </tr>\n",
       "  </tbody>\n",
       "</table>\n",
       "</div>"
      ],
      "text/plain": [
       "    week_day  user_id\n",
       "0     Friday      209\n",
       "1     Monday      186\n",
       "2   Saturday      163\n",
       "3     Sunday      187\n",
       "4   Thursday      213\n",
       "5    Tuesday      206\n",
       "6  Wednesday      191"
      ]
     },
     "execution_count": 62,
     "metadata": {},
     "output_type": "execute_result"
    }
   ],
   "source": [
    "test_user = (app_users_activity.query('\"contacts_show\" in event_name')\n",
    "             .pivot_table(index=('week_day'), values='user_id', aggfunc='nunique')\n",
    "    .reset_index()\n",
    ")\n",
    "test_user"
   ]
  },
  {
   "cell_type": "code",
   "execution_count": 63,
   "id": "c35d2ada",
   "metadata": {},
   "outputs": [
    {
     "name": "stdout",
     "output_type": "stream",
     "text": [
      "p-значение:  0.14193093355856856\n",
      "Не получилось отвергнуть нулевую гипотезу, нет оснований считать доли разными\n"
     ]
    }
   ],
   "source": [
    "group_1 = test_user.loc[0,'user_id']\n",
    "group_2 = test_user.loc[2,'user_id']\n",
    "total_number_1 = unique_user.loc[0,'user_id']\n",
    "total_number_2 = unique_user.loc[2,'user_id']\n",
    "\n",
    "alpha_current = 0.05 / 5\n",
    "\n",
    "verify_sample(group_1, group_2, total_number_1, total_number_2, alpha_current)"
   ]
  },
  {
   "cell_type": "markdown",
   "id": "88ed244c",
   "metadata": {},
   "source": [
    "Гипотеза H0: нет статистической разницы между конверсией в целевое действие \"просмотр контактов\" по субботам и по средам.\n",
    "\n",
    "Гипотеза H1: есть статистическая разница между конверсией в целевое действие \"просмотр контактов\" по субботам и по средам."
   ]
  },
  {
   "cell_type": "code",
   "execution_count": 64,
   "id": "c5cdf16f",
   "metadata": {
    "scrolled": true
   },
   "outputs": [
    {
     "name": "stdout",
     "output_type": "stream",
     "text": [
      "p-значение:  0.7267208064987329\n",
      "Не получилось отвергнуть нулевую гипотезу, нет оснований считать доли разными\n"
     ]
    }
   ],
   "source": [
    "group_1 = test_user.loc[2,'user_id']\n",
    "group_2 = test_user.loc[6,'user_id']\n",
    "total_number_1 = unique_user.loc[2,'user_id']\n",
    "total_number_2 = unique_user.loc[6,'user_id']\n",
    "\n",
    "alpha_current = 0.05 / 5\n",
    "\n",
    "verify_sample(group_1, group_2, total_number_1, total_number_2, alpha_current)"
   ]
  },
  {
   "cell_type": "markdown",
   "id": "32141ec3",
   "metadata": {},
   "source": [
    "Гипотеза H0: нет статистической разницы между количеством посетителей приложения по пятницам и по субботам.\n",
    "\n",
    "Гипотеза H1: есть статистическая разница между количеством посетителей приложения по пятницам и по субботам."
   ]
  },
  {
   "cell_type": "markdown",
   "id": "38f9d35a",
   "metadata": {},
   "source": [
    "Общее количество уникальных пользователей."
   ]
  },
  {
   "cell_type": "code",
   "execution_count": 65,
   "id": "3640b18d",
   "metadata": {
    "scrolled": true
   },
   "outputs": [
    {
     "data": {
      "text/plain": [
       "4293"
      ]
     },
     "execution_count": 65,
     "metadata": {},
     "output_type": "execute_result"
    }
   ],
   "source": [
    "unique_user = app_users_activity['user_id'].nunique()\n",
    "\n",
    "unique_user"
   ]
  },
  {
   "cell_type": "markdown",
   "id": "2cdf1954",
   "metadata": {},
   "source": [
    "Количество уникальных пользователей в разные дни недели."
   ]
  },
  {
   "cell_type": "code",
   "execution_count": 66,
   "id": "1a9fe201",
   "metadata": {
    "scrolled": true
   },
   "outputs": [
    {
     "data": {
      "text/html": [
       "<div>\n",
       "<style scoped>\n",
       "    .dataframe tbody tr th:only-of-type {\n",
       "        vertical-align: middle;\n",
       "    }\n",
       "\n",
       "    .dataframe tbody tr th {\n",
       "        vertical-align: top;\n",
       "    }\n",
       "\n",
       "    .dataframe thead th {\n",
       "        text-align: right;\n",
       "    }\n",
       "</style>\n",
       "<table border=\"1\" class=\"dataframe\">\n",
       "  <thead>\n",
       "    <tr style=\"text-align: right;\">\n",
       "      <th></th>\n",
       "      <th>week_day</th>\n",
       "      <th>user_id</th>\n",
       "    </tr>\n",
       "  </thead>\n",
       "  <tbody>\n",
       "    <tr>\n",
       "      <th>0</th>\n",
       "      <td>Friday</td>\n",
       "      <td>976</td>\n",
       "    </tr>\n",
       "    <tr>\n",
       "      <th>1</th>\n",
       "      <td>Monday</td>\n",
       "      <td>1060</td>\n",
       "    </tr>\n",
       "    <tr>\n",
       "      <th>2</th>\n",
       "      <td>Saturday</td>\n",
       "      <td>873</td>\n",
       "    </tr>\n",
       "    <tr>\n",
       "      <th>3</th>\n",
       "      <td>Sunday</td>\n",
       "      <td>975</td>\n",
       "    </tr>\n",
       "    <tr>\n",
       "      <th>4</th>\n",
       "      <td>Thursday</td>\n",
       "      <td>1074</td>\n",
       "    </tr>\n",
       "    <tr>\n",
       "      <th>5</th>\n",
       "      <td>Tuesday</td>\n",
       "      <td>1032</td>\n",
       "    </tr>\n",
       "    <tr>\n",
       "      <th>6</th>\n",
       "      <td>Wednesday</td>\n",
       "      <td>1058</td>\n",
       "    </tr>\n",
       "  </tbody>\n",
       "</table>\n",
       "</div>"
      ],
      "text/plain": [
       "    week_day  user_id\n",
       "0     Friday      976\n",
       "1     Monday     1060\n",
       "2   Saturday      873\n",
       "3     Sunday      975\n",
       "4   Thursday     1074\n",
       "5    Tuesday     1032\n",
       "6  Wednesday     1058"
      ]
     },
     "execution_count": 66,
     "metadata": {},
     "output_type": "execute_result"
    }
   ],
   "source": [
    "test_user = (app_users_activity\n",
    "             .pivot_table(index=('week_day'), values='user_id', aggfunc='nunique')\n",
    "             .reset_index()\n",
    ")\n",
    "test_user"
   ]
  },
  {
   "cell_type": "code",
   "execution_count": 67,
   "id": "62d5bf2f",
   "metadata": {},
   "outputs": [
    {
     "name": "stdout",
     "output_type": "stream",
     "text": [
      "p-значение:  0.006847916448061708\n",
      "Отвергаем нулевую гипотезу: между долями есть значимая разница\n"
     ]
    }
   ],
   "source": [
    "group_1 = test_user.loc[0,'user_id']\n",
    "group_2 = test_user.loc[2,'user_id']\n",
    "total_number_1 = unique_user\n",
    "total_number_2 = unique_user\n",
    "\n",
    "alpha_current = 0.05 / 5\n",
    "\n",
    "verify_sample(group_1, group_2, total_number_1, total_number_2, alpha_current)"
   ]
  },
  {
   "cell_type": "markdown",
   "id": "6ff008b2",
   "metadata": {},
   "source": [
    "Гипотеза H0: нет статистической разницы между количеством посетителей приложения по субботам и по средам.\n",
    "\n",
    "Гипотеза H1: есть статистическая разница между количеством посетителей приложения по субботам и по средам."
   ]
  },
  {
   "cell_type": "code",
   "execution_count": 68,
   "id": "352828b2",
   "metadata": {},
   "outputs": [
    {
     "name": "stdout",
     "output_type": "stream",
     "text": [
      "p-значение:  1.7363165973893757e-06\n",
      "Отвергаем нулевую гипотезу: между долями есть значимая разница\n"
     ]
    }
   ],
   "source": [
    "group_1 = test_user.loc[2,'user_id']\n",
    "group_2 = test_user.loc[6,'user_id']\n",
    "total_number_1 = unique_user\n",
    "total_number_2 = unique_user\n",
    "\n",
    "alpha_current = 0.05 / 5\n",
    "\n",
    "verify_sample(group_1, group_2, total_number_1, total_number_2, alpha_current)"
   ]
  },
  {
   "cell_type": "markdown",
   "id": "8a8bc4af",
   "metadata": {},
   "source": [
    "## Выводы и рекомендации"
   ]
  },
  {
   "cell_type": "markdown",
   "id": "f8c51c91",
   "metadata": {},
   "source": [
    "*Общие выводы.* Количество пользователей приложения растет. По субботам количество клиентов на платформе сервиса самое низкое, возможно связано с тем, что в выходные много личных дел. Самые высокие показатели по средам, понедельникам и четвергам, думаю, что люди используют сервис по дороге на работу и домой, а так же в офисе в перерывах между занятостью. Наименьшее количество просмотров контактов происходит по субботам, самое большое количество по четвергам. На мой взгляд связано с теми же процессами: наличием личных дел по выходным и свободным временем на работе и во время поездок в транспорте в будние дни. Показ рекомендованных объявлений является самым популярным действием, целевое действие (просмотр контактов) находится в середине рейтинга, а переход в карточку рекомендованного объявления - наиболее редкое действие. Через yandex пришло наибольшее количество пользователей,через google и другие примерно поровну. Советую обратить внимание на низкое количество переходов по рекламным объявлениям и изучить данный вопрос. Возможно имеет смысл оптимизаровать паказ объявлений в зависимости от запросов в поисковой строке, времени суток, дня недели, приближающихся праздников или ещё каких-либо факторов. \n",
    "\n",
    "На основании исследования двух групп пользователей поведение можно охарактеризовать следующим образом: клиенты в *кластере №0* подходят к поиску последовательно и основательно. В начале предпочитают открыть объявление о продаже и изучить основную информацию. Далее рассматривают фотографии. Обращаются к карте с местом продажи, при условии, что описание и внешний вид товара их удовлетворил. И уже затем открывают контакты продавца. За одну сессию пользователи проводят, примерно, в 4 раза больше манипуляций с платформой и много времени проводят в приложении. Конверсия в целевое действие почти 16%. Удержание у данного кластера на много хуже. Между первым входом в приложение и использованием поиска проходит в среднем 110 минут. Для взаимодействия с такими пользователи можно посоветовать добавить возможность просмотра описания товара (или некоторой части описания) без открытия карточки объявления. Возможно это удовлетворит пользователей данного кластера в потребности изучения данных товара и поможет им сэкономить время на открытиии и загрузке карточки объявления. Добавить возможность использования фильтров.\n",
    "\n",
    "Про клиентов из *кластера №1* можем сказать следующее: они предпочитают часто вводить свои запросы в поиск, рассматривать фотографии. Открывают карточку товара только в том случае, если им нужны контакты продавца. Скорее всего задают уточняющую информацию продавцу и уже после этого изучают карту с местом продажи. За одну сессию совершают в среднем не очень много действий (2) и проводят примерно 4,6 минут в приложении. Конверсия в целевое действие 23%. После первого открытия приложения в среднем проходит 972 минуты до использования функции поиска. В качестве рекомендаций предлагаю усовершенствовать строчку поиска. Добавить в функционал подсказки по набору названий, запросов, уточнения категорий товаров сохранение истории поиска.\n",
    "\n",
    "Во время исследования было выдвинуто и проверено 5 гипотез:\n",
    "1. Пользователи пришедшие через yandex и пользователи установившие приложение через google демонстрируют одинаковую конверсию в просмотры контактов.\n",
    "2. Нет статистической разницы между конверсией в целевое действие \"просмотр контактов\" по пятницам и по субботам.\n",
    "3. Нет статистической разницы между конверсией в целевое действие \"просмотр контактов\" по субботам и по средам.\n",
    "4. Нет статистической разницы между количеством посетителей приложения по пятницам и по средам.\n",
    "5. Нет статистической разницы между количеством посетителей приложения по пятницам и по средам.\n",
    "\n",
    "Я хотела проверить проявляют, ли пользователи одинаковую активность в выходной день (суббота) и в будний день (в середине недели), и в предвыходной день (пятница). По результатам теста - 3 гипотезы не получилось отвергнуть и 2 не получили подтверждение. Результаты следующие: есть разница между количеством посетителей в субботу и в пятницу, а также в субботу и среду. Нет статистической разницы между конверсией пользователей пришедших в приложение через yandex и через google. А так же не получилось опровергнуть гипотезу об отсутствии статистической разницы в конверсии в целевое действие между пятницей и субботой и между субботой и средой. Эти результаты можно использовать для оптимизации показа рекламных объявлений."
   ]
  },
  {
   "cell_type": "markdown",
   "id": "6b76c464",
   "metadata": {},
   "source": [
    "Ссылка на дашборд: <https://public.tableau.com/views/app_event/Dashboard1?:language=en-US&:display_count=n&:origin=viz_share_link>\n",
    "\n",
    "Ссылка на презентацию: https://docs.google.com/presentation/d/1FafuxV8Ma-SNxv3muEn8oB61A8E4VDR-jFh_3GEyG0E/edit?usp=sharing"
   ]
  }
 ],
 "metadata": {
  "ExecuteTimeLog": [
   {
    "duration": 1154,
    "start_time": "2022-05-26T09:49:39.594Z"
   },
   {
    "duration": 2,
    "start_time": "2022-05-26T09:49:40.750Z"
   },
   {
    "duration": 9,
    "start_time": "2022-05-26T09:49:40.754Z"
   },
   {
    "duration": 10,
    "start_time": "2022-05-26T09:49:40.765Z"
   },
   {
    "duration": 7,
    "start_time": "2022-05-26T09:49:40.776Z"
   },
   {
    "duration": 119,
    "start_time": "2022-05-26T09:49:40.784Z"
   },
   {
    "duration": 0,
    "start_time": "2022-05-26T09:49:40.906Z"
   },
   {
    "duration": 0,
    "start_time": "2022-05-26T09:49:40.907Z"
   },
   {
    "duration": 0,
    "start_time": "2022-05-26T09:49:40.907Z"
   },
   {
    "duration": 0,
    "start_time": "2022-05-26T09:49:40.908Z"
   },
   {
    "duration": 0,
    "start_time": "2022-05-26T09:49:40.909Z"
   },
   {
    "duration": 0,
    "start_time": "2022-05-26T09:49:40.910Z"
   },
   {
    "duration": 0,
    "start_time": "2022-05-26T09:49:40.910Z"
   },
   {
    "duration": 0,
    "start_time": "2022-05-26T09:49:40.911Z"
   },
   {
    "duration": 0,
    "start_time": "2022-05-26T09:49:40.912Z"
   },
   {
    "duration": 0,
    "start_time": "2022-05-26T09:49:40.913Z"
   },
   {
    "duration": 0,
    "start_time": "2022-05-26T09:49:40.913Z"
   },
   {
    "duration": 0,
    "start_time": "2022-05-26T09:49:40.914Z"
   },
   {
    "duration": 0,
    "start_time": "2022-05-26T09:49:40.915Z"
   },
   {
    "duration": 0,
    "start_time": "2022-05-26T09:49:40.916Z"
   },
   {
    "duration": 0,
    "start_time": "2022-05-26T09:49:40.917Z"
   },
   {
    "duration": 0,
    "start_time": "2022-05-26T09:49:40.918Z"
   },
   {
    "duration": 0,
    "start_time": "2022-05-26T09:49:40.919Z"
   },
   {
    "duration": 0,
    "start_time": "2022-05-26T09:49:40.920Z"
   },
   {
    "duration": 0,
    "start_time": "2022-05-26T09:49:40.921Z"
   },
   {
    "duration": 0,
    "start_time": "2022-05-26T09:49:40.922Z"
   },
   {
    "duration": 0,
    "start_time": "2022-05-26T09:49:40.923Z"
   },
   {
    "duration": 0,
    "start_time": "2022-05-26T09:49:40.924Z"
   },
   {
    "duration": 0,
    "start_time": "2022-05-26T09:49:40.925Z"
   },
   {
    "duration": 0,
    "start_time": "2022-05-26T09:49:40.926Z"
   },
   {
    "duration": 0,
    "start_time": "2022-05-26T09:49:40.927Z"
   },
   {
    "duration": 0,
    "start_time": "2022-05-26T09:49:40.928Z"
   },
   {
    "duration": 0,
    "start_time": "2022-05-26T09:49:40.929Z"
   },
   {
    "duration": 0,
    "start_time": "2022-05-26T09:49:40.974Z"
   },
   {
    "duration": 0,
    "start_time": "2022-05-26T09:49:40.975Z"
   },
   {
    "duration": 0,
    "start_time": "2022-05-26T09:49:40.976Z"
   },
   {
    "duration": 0,
    "start_time": "2022-05-26T09:49:40.977Z"
   },
   {
    "duration": 0,
    "start_time": "2022-05-26T09:49:40.978Z"
   },
   {
    "duration": 0,
    "start_time": "2022-05-26T09:49:40.979Z"
   },
   {
    "duration": 0,
    "start_time": "2022-05-26T09:49:40.979Z"
   },
   {
    "duration": 0,
    "start_time": "2022-05-26T09:49:40.980Z"
   },
   {
    "duration": 0,
    "start_time": "2022-05-26T09:49:40.981Z"
   },
   {
    "duration": 0,
    "start_time": "2022-05-26T09:49:40.982Z"
   },
   {
    "duration": 0,
    "start_time": "2022-05-26T09:49:40.983Z"
   },
   {
    "duration": 0,
    "start_time": "2022-05-26T09:49:40.984Z"
   },
   {
    "duration": 0,
    "start_time": "2022-05-26T09:49:40.985Z"
   },
   {
    "duration": 0,
    "start_time": "2022-05-26T09:49:40.986Z"
   },
   {
    "duration": 1,
    "start_time": "2022-05-26T09:49:40.986Z"
   },
   {
    "duration": 0,
    "start_time": "2022-05-26T09:49:40.987Z"
   },
   {
    "duration": 0,
    "start_time": "2022-05-26T09:49:40.988Z"
   },
   {
    "duration": 0,
    "start_time": "2022-05-26T09:49:40.989Z"
   },
   {
    "duration": 0,
    "start_time": "2022-05-26T09:49:40.990Z"
   },
   {
    "duration": 0,
    "start_time": "2022-05-26T09:49:40.991Z"
   },
   {
    "duration": 0,
    "start_time": "2022-05-26T09:49:40.992Z"
   },
   {
    "duration": 0,
    "start_time": "2022-05-26T09:49:40.993Z"
   },
   {
    "duration": 0,
    "start_time": "2022-05-26T09:49:40.994Z"
   },
   {
    "duration": 0,
    "start_time": "2022-05-26T09:49:40.995Z"
   },
   {
    "duration": 0,
    "start_time": "2022-05-26T09:49:40.996Z"
   },
   {
    "duration": 0,
    "start_time": "2022-05-26T09:49:40.997Z"
   },
   {
    "duration": 0,
    "start_time": "2022-05-26T09:49:40.998Z"
   },
   {
    "duration": 0,
    "start_time": "2022-05-26T09:49:40.999Z"
   },
   {
    "duration": 0,
    "start_time": "2022-05-26T09:49:41.000Z"
   },
   {
    "duration": 0,
    "start_time": "2022-05-26T09:49:41.001Z"
   },
   {
    "duration": 4,
    "start_time": "2022-05-26T09:50:35.016Z"
   },
   {
    "duration": 366,
    "start_time": "2022-05-26T09:50:38.714Z"
   },
   {
    "duration": 1093,
    "start_time": "2022-05-26T09:50:47.034Z"
   },
   {
    "duration": 3,
    "start_time": "2022-05-26T09:50:48.128Z"
   },
   {
    "duration": 10,
    "start_time": "2022-05-26T09:50:48.132Z"
   },
   {
    "duration": 5,
    "start_time": "2022-05-26T09:50:48.144Z"
   },
   {
    "duration": 7,
    "start_time": "2022-05-26T09:50:48.151Z"
   },
   {
    "duration": 415,
    "start_time": "2022-05-26T09:50:48.159Z"
   },
   {
    "duration": 28,
    "start_time": "2022-05-26T09:50:48.575Z"
   },
   {
    "duration": 6,
    "start_time": "2022-05-26T09:50:48.605Z"
   },
   {
    "duration": 36,
    "start_time": "2022-05-26T09:50:48.613Z"
   },
   {
    "duration": 29,
    "start_time": "2022-05-26T09:50:48.651Z"
   },
   {
    "duration": 31,
    "start_time": "2022-05-26T09:50:48.682Z"
   },
   {
    "duration": 10,
    "start_time": "2022-05-26T09:50:48.715Z"
   },
   {
    "duration": 25,
    "start_time": "2022-05-26T09:50:48.726Z"
   },
   {
    "duration": 156,
    "start_time": "2022-05-26T09:50:48.752Z"
   },
   {
    "duration": 0,
    "start_time": "2022-05-26T09:50:48.911Z"
   },
   {
    "duration": 0,
    "start_time": "2022-05-26T09:50:48.912Z"
   },
   {
    "duration": 0,
    "start_time": "2022-05-26T09:50:48.914Z"
   },
   {
    "duration": 0,
    "start_time": "2022-05-26T09:50:48.915Z"
   },
   {
    "duration": 0,
    "start_time": "2022-05-26T09:50:48.917Z"
   },
   {
    "duration": 0,
    "start_time": "2022-05-26T09:50:48.918Z"
   },
   {
    "duration": 0,
    "start_time": "2022-05-26T09:50:48.920Z"
   },
   {
    "duration": 0,
    "start_time": "2022-05-26T09:50:48.920Z"
   },
   {
    "duration": 0,
    "start_time": "2022-05-26T09:50:48.921Z"
   },
   {
    "duration": 0,
    "start_time": "2022-05-26T09:50:48.922Z"
   },
   {
    "duration": 0,
    "start_time": "2022-05-26T09:50:48.924Z"
   },
   {
    "duration": 0,
    "start_time": "2022-05-26T09:50:48.925Z"
   },
   {
    "duration": 0,
    "start_time": "2022-05-26T09:50:48.927Z"
   },
   {
    "duration": 0,
    "start_time": "2022-05-26T09:50:48.928Z"
   },
   {
    "duration": 0,
    "start_time": "2022-05-26T09:50:48.929Z"
   },
   {
    "duration": 0,
    "start_time": "2022-05-26T09:50:48.931Z"
   },
   {
    "duration": 1,
    "start_time": "2022-05-26T09:50:48.932Z"
   },
   {
    "duration": 0,
    "start_time": "2022-05-26T09:50:48.934Z"
   },
   {
    "duration": 0,
    "start_time": "2022-05-26T09:50:48.975Z"
   },
   {
    "duration": 0,
    "start_time": "2022-05-26T09:50:48.977Z"
   },
   {
    "duration": 0,
    "start_time": "2022-05-26T09:50:48.979Z"
   },
   {
    "duration": 0,
    "start_time": "2022-05-26T09:50:48.980Z"
   },
   {
    "duration": 0,
    "start_time": "2022-05-26T09:50:48.982Z"
   },
   {
    "duration": 0,
    "start_time": "2022-05-26T09:50:48.983Z"
   },
   {
    "duration": 0,
    "start_time": "2022-05-26T09:50:48.984Z"
   },
   {
    "duration": 0,
    "start_time": "2022-05-26T09:50:48.986Z"
   },
   {
    "duration": 0,
    "start_time": "2022-05-26T09:50:48.987Z"
   },
   {
    "duration": 0,
    "start_time": "2022-05-26T09:50:48.989Z"
   },
   {
    "duration": 0,
    "start_time": "2022-05-26T09:50:48.990Z"
   },
   {
    "duration": 0,
    "start_time": "2022-05-26T09:50:48.992Z"
   },
   {
    "duration": 0,
    "start_time": "2022-05-26T09:50:48.993Z"
   },
   {
    "duration": 0,
    "start_time": "2022-05-26T09:50:48.995Z"
   },
   {
    "duration": 0,
    "start_time": "2022-05-26T09:50:48.996Z"
   },
   {
    "duration": 0,
    "start_time": "2022-05-26T09:50:48.998Z"
   },
   {
    "duration": 0,
    "start_time": "2022-05-26T09:50:48.999Z"
   },
   {
    "duration": 0,
    "start_time": "2022-05-26T09:50:49.000Z"
   },
   {
    "duration": 0,
    "start_time": "2022-05-26T09:50:49.002Z"
   },
   {
    "duration": 0,
    "start_time": "2022-05-26T09:50:49.003Z"
   },
   {
    "duration": 0,
    "start_time": "2022-05-26T09:50:49.004Z"
   },
   {
    "duration": 0,
    "start_time": "2022-05-26T09:50:49.006Z"
   },
   {
    "duration": 0,
    "start_time": "2022-05-26T09:50:49.007Z"
   },
   {
    "duration": 0,
    "start_time": "2022-05-26T09:50:49.009Z"
   },
   {
    "duration": 0,
    "start_time": "2022-05-26T09:50:49.010Z"
   },
   {
    "duration": 0,
    "start_time": "2022-05-26T09:50:49.011Z"
   },
   {
    "duration": 0,
    "start_time": "2022-05-26T09:50:49.012Z"
   },
   {
    "duration": 0,
    "start_time": "2022-05-26T09:50:49.014Z"
   },
   {
    "duration": 0,
    "start_time": "2022-05-26T09:50:49.075Z"
   },
   {
    "duration": 0,
    "start_time": "2022-05-26T09:50:49.076Z"
   },
   {
    "duration": 0,
    "start_time": "2022-05-26T09:50:49.077Z"
   },
   {
    "duration": 26,
    "start_time": "2022-05-26T09:52:31.131Z"
   },
   {
    "duration": 1123,
    "start_time": "2022-05-26T09:52:36.231Z"
   },
   {
    "duration": 2,
    "start_time": "2022-05-26T09:52:37.356Z"
   },
   {
    "duration": 8,
    "start_time": "2022-05-26T09:52:37.359Z"
   },
   {
    "duration": 9,
    "start_time": "2022-05-26T09:52:37.369Z"
   },
   {
    "duration": 9,
    "start_time": "2022-05-26T09:52:37.379Z"
   },
   {
    "duration": 259,
    "start_time": "2022-05-26T09:52:37.390Z"
   },
   {
    "duration": 25,
    "start_time": "2022-05-26T09:52:37.651Z"
   },
   {
    "duration": 6,
    "start_time": "2022-05-26T09:52:37.678Z"
   },
   {
    "duration": 39,
    "start_time": "2022-05-26T09:52:37.685Z"
   },
   {
    "duration": 15,
    "start_time": "2022-05-26T09:52:37.727Z"
   },
   {
    "duration": 49,
    "start_time": "2022-05-26T09:52:37.744Z"
   },
   {
    "duration": 11,
    "start_time": "2022-05-26T09:52:37.794Z"
   },
   {
    "duration": 25,
    "start_time": "2022-05-26T09:52:37.806Z"
   },
   {
    "duration": 150,
    "start_time": "2022-05-26T09:52:37.833Z"
   },
   {
    "duration": 0,
    "start_time": "2022-05-26T09:52:37.986Z"
   },
   {
    "duration": 0,
    "start_time": "2022-05-26T09:52:37.988Z"
   },
   {
    "duration": 0,
    "start_time": "2022-05-26T09:52:37.990Z"
   },
   {
    "duration": 0,
    "start_time": "2022-05-26T09:52:37.992Z"
   },
   {
    "duration": 0,
    "start_time": "2022-05-26T09:52:37.993Z"
   },
   {
    "duration": 0,
    "start_time": "2022-05-26T09:52:37.994Z"
   },
   {
    "duration": 0,
    "start_time": "2022-05-26T09:52:37.994Z"
   },
   {
    "duration": 0,
    "start_time": "2022-05-26T09:52:37.996Z"
   },
   {
    "duration": 0,
    "start_time": "2022-05-26T09:52:37.997Z"
   },
   {
    "duration": 1,
    "start_time": "2022-05-26T09:52:37.997Z"
   },
   {
    "duration": 0,
    "start_time": "2022-05-26T09:52:37.998Z"
   },
   {
    "duration": 0,
    "start_time": "2022-05-26T09:52:37.999Z"
   },
   {
    "duration": 0,
    "start_time": "2022-05-26T09:52:38.000Z"
   },
   {
    "duration": 0,
    "start_time": "2022-05-26T09:52:38.001Z"
   },
   {
    "duration": 0,
    "start_time": "2022-05-26T09:52:38.002Z"
   },
   {
    "duration": 0,
    "start_time": "2022-05-26T09:52:38.003Z"
   },
   {
    "duration": 0,
    "start_time": "2022-05-26T09:52:38.004Z"
   },
   {
    "duration": 0,
    "start_time": "2022-05-26T09:52:38.005Z"
   },
   {
    "duration": 0,
    "start_time": "2022-05-26T09:52:38.006Z"
   },
   {
    "duration": 0,
    "start_time": "2022-05-26T09:52:38.007Z"
   },
   {
    "duration": 0,
    "start_time": "2022-05-26T09:52:38.008Z"
   },
   {
    "duration": 0,
    "start_time": "2022-05-26T09:52:38.009Z"
   },
   {
    "duration": 0,
    "start_time": "2022-05-26T09:52:38.010Z"
   },
   {
    "duration": 0,
    "start_time": "2022-05-26T09:52:38.011Z"
   },
   {
    "duration": 0,
    "start_time": "2022-05-26T09:52:38.012Z"
   },
   {
    "duration": 0,
    "start_time": "2022-05-26T09:52:38.013Z"
   },
   {
    "duration": 0,
    "start_time": "2022-05-26T09:52:38.014Z"
   },
   {
    "duration": 0,
    "start_time": "2022-05-26T09:52:38.016Z"
   },
   {
    "duration": 0,
    "start_time": "2022-05-26T09:52:38.017Z"
   },
   {
    "duration": 0,
    "start_time": "2022-05-26T09:52:38.018Z"
   },
   {
    "duration": 0,
    "start_time": "2022-05-26T09:52:38.075Z"
   },
   {
    "duration": 0,
    "start_time": "2022-05-26T09:52:38.076Z"
   },
   {
    "duration": 0,
    "start_time": "2022-05-26T09:52:38.077Z"
   },
   {
    "duration": 0,
    "start_time": "2022-05-26T09:52:38.078Z"
   },
   {
    "duration": 0,
    "start_time": "2022-05-26T09:52:38.079Z"
   },
   {
    "duration": 0,
    "start_time": "2022-05-26T09:52:38.080Z"
   },
   {
    "duration": 0,
    "start_time": "2022-05-26T09:52:38.081Z"
   },
   {
    "duration": 0,
    "start_time": "2022-05-26T09:52:38.082Z"
   },
   {
    "duration": 0,
    "start_time": "2022-05-26T09:52:38.083Z"
   },
   {
    "duration": 0,
    "start_time": "2022-05-26T09:52:38.084Z"
   },
   {
    "duration": 0,
    "start_time": "2022-05-26T09:52:38.085Z"
   },
   {
    "duration": 0,
    "start_time": "2022-05-26T09:52:38.086Z"
   },
   {
    "duration": 0,
    "start_time": "2022-05-26T09:52:38.087Z"
   },
   {
    "duration": 0,
    "start_time": "2022-05-26T09:52:38.089Z"
   },
   {
    "duration": 0,
    "start_time": "2022-05-26T09:52:38.090Z"
   },
   {
    "duration": 0,
    "start_time": "2022-05-26T09:52:38.093Z"
   },
   {
    "duration": 0,
    "start_time": "2022-05-26T09:52:38.094Z"
   },
   {
    "duration": 0,
    "start_time": "2022-05-26T09:52:38.095Z"
   },
   {
    "duration": 0,
    "start_time": "2022-05-26T09:52:38.096Z"
   },
   {
    "duration": 0,
    "start_time": "2022-05-26T09:52:38.097Z"
   },
   {
    "duration": 1098,
    "start_time": "2022-05-26T09:52:48.629Z"
   },
   {
    "duration": 2,
    "start_time": "2022-05-26T09:52:49.729Z"
   },
   {
    "duration": 7,
    "start_time": "2022-05-26T09:52:49.733Z"
   },
   {
    "duration": 5,
    "start_time": "2022-05-26T09:52:49.742Z"
   },
   {
    "duration": 6,
    "start_time": "2022-05-26T09:52:49.749Z"
   },
   {
    "duration": 276,
    "start_time": "2022-05-26T09:52:49.756Z"
   },
   {
    "duration": 23,
    "start_time": "2022-05-26T09:52:50.034Z"
   },
   {
    "duration": 16,
    "start_time": "2022-05-26T09:52:50.059Z"
   },
   {
    "duration": 35,
    "start_time": "2022-05-26T09:52:50.076Z"
   },
   {
    "duration": 14,
    "start_time": "2022-05-26T09:52:50.113Z"
   },
   {
    "duration": 30,
    "start_time": "2022-05-26T09:52:50.128Z"
   },
   {
    "duration": 11,
    "start_time": "2022-05-26T09:52:50.174Z"
   },
   {
    "duration": 23,
    "start_time": "2022-05-26T09:52:50.186Z"
   },
   {
    "duration": 43,
    "start_time": "2022-05-26T09:52:50.210Z"
   },
   {
    "duration": 57,
    "start_time": "2022-05-26T09:52:50.254Z"
   },
   {
    "duration": 22,
    "start_time": "2022-05-26T09:52:50.313Z"
   },
   {
    "duration": 57,
    "start_time": "2022-05-26T09:52:50.337Z"
   },
   {
    "duration": 36,
    "start_time": "2022-05-26T09:52:50.395Z"
   },
   {
    "duration": 43,
    "start_time": "2022-05-26T09:52:50.432Z"
   },
   {
    "duration": 412,
    "start_time": "2022-05-26T09:52:50.477Z"
   },
   {
    "duration": 137,
    "start_time": "2022-05-26T09:52:50.891Z"
   },
   {
    "duration": 876,
    "start_time": "2022-05-26T09:52:51.029Z"
   },
   {
    "duration": 18,
    "start_time": "2022-05-26T09:52:51.906Z"
   },
   {
    "duration": 71,
    "start_time": "2022-05-26T09:52:51.926Z"
   },
   {
    "duration": 31,
    "start_time": "2022-05-26T09:52:51.998Z"
   },
   {
    "duration": 50,
    "start_time": "2022-05-26T09:52:52.031Z"
   },
   {
    "duration": 31,
    "start_time": "2022-05-26T09:52:52.083Z"
   },
   {
    "duration": 15,
    "start_time": "2022-05-26T09:52:52.117Z"
   },
   {
    "duration": 411,
    "start_time": "2022-05-26T09:52:52.133Z"
   },
   {
    "duration": 194,
    "start_time": "2022-05-26T09:52:52.546Z"
   },
   {
    "duration": 229,
    "start_time": "2022-05-26T09:52:52.741Z"
   },
   {
    "duration": 229,
    "start_time": "2022-05-26T09:52:52.973Z"
   },
   {
    "duration": 168,
    "start_time": "2022-05-26T09:52:53.203Z"
   },
   {
    "duration": 187,
    "start_time": "2022-05-26T09:52:53.375Z"
   },
   {
    "duration": 75,
    "start_time": "2022-05-26T09:52:53.564Z"
   },
   {
    "duration": 13,
    "start_time": "2022-05-26T09:52:53.641Z"
   },
   {
    "duration": 20,
    "start_time": "2022-05-26T09:52:53.655Z"
   },
   {
    "duration": 862,
    "start_time": "2022-05-26T09:52:53.677Z"
   },
   {
    "duration": 67,
    "start_time": "2022-05-26T09:52:54.541Z"
   },
   {
    "duration": 4,
    "start_time": "2022-05-26T09:52:54.609Z"
   },
   {
    "duration": 86,
    "start_time": "2022-05-26T09:52:54.614Z"
   },
   {
    "duration": 205,
    "start_time": "2022-05-26T09:52:54.702Z"
   },
   {
    "duration": 173,
    "start_time": "2022-05-26T09:52:54.909Z"
   },
   {
    "duration": 181,
    "start_time": "2022-05-26T09:52:55.084Z"
   },
   {
    "duration": 58,
    "start_time": "2022-05-26T09:52:55.266Z"
   },
   {
    "duration": 36,
    "start_time": "2022-05-26T09:52:55.325Z"
   },
   {
    "duration": 270,
    "start_time": "2022-05-26T09:52:55.363Z"
   },
   {
    "duration": 251,
    "start_time": "2022-05-26T09:52:55.634Z"
   },
   {
    "duration": 15,
    "start_time": "2022-05-26T09:52:55.887Z"
   },
   {
    "duration": 27,
    "start_time": "2022-05-26T09:52:55.903Z"
   },
   {
    "duration": 21,
    "start_time": "2022-05-26T09:52:55.931Z"
   },
   {
    "duration": 106,
    "start_time": "2022-05-26T09:52:55.954Z"
   },
   {
    "duration": 38,
    "start_time": "2022-05-26T09:52:56.061Z"
   },
   {
    "duration": 16,
    "start_time": "2022-05-26T09:52:56.100Z"
   },
   {
    "duration": 5,
    "start_time": "2022-05-26T09:52:56.117Z"
   },
   {
    "duration": 28,
    "start_time": "2022-05-26T09:52:56.124Z"
   },
   {
    "duration": 17,
    "start_time": "2022-05-26T09:52:56.175Z"
   },
   {
    "duration": 5,
    "start_time": "2022-05-26T09:52:56.194Z"
   },
   {
    "duration": 7,
    "start_time": "2022-05-26T09:52:56.200Z"
   },
   {
    "duration": 16,
    "start_time": "2022-05-26T09:52:56.214Z"
   },
   {
    "duration": 52,
    "start_time": "2022-05-26T09:52:56.232Z"
   },
   {
    "duration": 5,
    "start_time": "2022-05-26T09:52:56.286Z"
   },
   {
    "duration": 15,
    "start_time": "2022-05-26T09:52:56.293Z"
   },
   {
    "duration": 115,
    "start_time": "2022-05-26T09:53:03.581Z"
   },
   {
    "duration": 100,
    "start_time": "2022-05-26T09:53:13.888Z"
   },
   {
    "duration": 20,
    "start_time": "2022-05-26T09:58:10.306Z"
   },
   {
    "duration": 17,
    "start_time": "2022-05-26T09:59:23.098Z"
   },
   {
    "duration": 19,
    "start_time": "2022-05-26T10:08:33.084Z"
   },
   {
    "duration": 16,
    "start_time": "2022-05-26T10:08:37.897Z"
   },
   {
    "duration": 1469,
    "start_time": "2022-05-26T16:29:11.678Z"
   },
   {
    "duration": 3,
    "start_time": "2022-05-26T16:29:13.149Z"
   },
   {
    "duration": 36,
    "start_time": "2022-05-26T16:29:13.154Z"
   },
   {
    "duration": 6,
    "start_time": "2022-05-26T16:29:13.192Z"
   },
   {
    "duration": 8,
    "start_time": "2022-05-26T16:29:13.199Z"
   },
   {
    "duration": 150,
    "start_time": "2022-05-26T16:29:13.208Z"
   },
   {
    "duration": 0,
    "start_time": "2022-05-26T16:29:13.363Z"
   },
   {
    "duration": 0,
    "start_time": "2022-05-26T16:29:13.365Z"
   },
   {
    "duration": 0,
    "start_time": "2022-05-26T16:29:13.366Z"
   },
   {
    "duration": 0,
    "start_time": "2022-05-26T16:29:13.367Z"
   },
   {
    "duration": 0,
    "start_time": "2022-05-26T16:29:13.368Z"
   },
   {
    "duration": 0,
    "start_time": "2022-05-26T16:29:13.369Z"
   },
   {
    "duration": 0,
    "start_time": "2022-05-26T16:29:13.370Z"
   },
   {
    "duration": 0,
    "start_time": "2022-05-26T16:29:13.371Z"
   },
   {
    "duration": 0,
    "start_time": "2022-05-26T16:29:13.372Z"
   },
   {
    "duration": 0,
    "start_time": "2022-05-26T16:29:13.372Z"
   },
   {
    "duration": 0,
    "start_time": "2022-05-26T16:29:13.373Z"
   },
   {
    "duration": 0,
    "start_time": "2022-05-26T16:29:13.374Z"
   },
   {
    "duration": 0,
    "start_time": "2022-05-26T16:29:13.375Z"
   },
   {
    "duration": 0,
    "start_time": "2022-05-26T16:29:13.376Z"
   },
   {
    "duration": 1,
    "start_time": "2022-05-26T16:29:13.376Z"
   },
   {
    "duration": 0,
    "start_time": "2022-05-26T16:29:13.377Z"
   },
   {
    "duration": 0,
    "start_time": "2022-05-26T16:29:13.378Z"
   },
   {
    "duration": 0,
    "start_time": "2022-05-26T16:29:13.381Z"
   },
   {
    "duration": 0,
    "start_time": "2022-05-26T16:29:13.381Z"
   },
   {
    "duration": 0,
    "start_time": "2022-05-26T16:29:13.382Z"
   },
   {
    "duration": 0,
    "start_time": "2022-05-26T16:29:13.383Z"
   },
   {
    "duration": 0,
    "start_time": "2022-05-26T16:29:13.384Z"
   },
   {
    "duration": 0,
    "start_time": "2022-05-26T16:29:13.384Z"
   },
   {
    "duration": 0,
    "start_time": "2022-05-26T16:29:13.385Z"
   },
   {
    "duration": 0,
    "start_time": "2022-05-26T16:29:13.386Z"
   },
   {
    "duration": 0,
    "start_time": "2022-05-26T16:29:13.388Z"
   },
   {
    "duration": 0,
    "start_time": "2022-05-26T16:29:13.389Z"
   },
   {
    "duration": 0,
    "start_time": "2022-05-26T16:29:13.390Z"
   },
   {
    "duration": 0,
    "start_time": "2022-05-26T16:29:13.391Z"
   },
   {
    "duration": 0,
    "start_time": "2022-05-26T16:29:13.393Z"
   },
   {
    "duration": 0,
    "start_time": "2022-05-26T16:29:13.394Z"
   },
   {
    "duration": 0,
    "start_time": "2022-05-26T16:29:13.394Z"
   },
   {
    "duration": 0,
    "start_time": "2022-05-26T16:29:13.395Z"
   },
   {
    "duration": 0,
    "start_time": "2022-05-26T16:29:13.396Z"
   },
   {
    "duration": 0,
    "start_time": "2022-05-26T16:29:13.398Z"
   },
   {
    "duration": 0,
    "start_time": "2022-05-26T16:29:13.399Z"
   },
   {
    "duration": 0,
    "start_time": "2022-05-26T16:29:13.400Z"
   },
   {
    "duration": 0,
    "start_time": "2022-05-26T16:29:13.401Z"
   },
   {
    "duration": 3,
    "start_time": "2022-05-26T16:29:50.613Z"
   },
   {
    "duration": 9,
    "start_time": "2022-05-26T16:29:50.618Z"
   },
   {
    "duration": 5,
    "start_time": "2022-05-26T16:29:50.629Z"
   },
   {
    "duration": 11,
    "start_time": "2022-05-26T16:29:50.636Z"
   },
   {
    "duration": 37,
    "start_time": "2022-05-26T16:29:50.649Z"
   },
   {
    "duration": 386,
    "start_time": "2022-05-26T16:29:50.688Z"
   },
   {
    "duration": 27,
    "start_time": "2022-05-26T16:29:51.078Z"
   },
   {
    "duration": 8,
    "start_time": "2022-05-26T16:29:51.107Z"
   },
   {
    "duration": 77,
    "start_time": "2022-05-26T16:29:51.116Z"
   },
   {
    "duration": 14,
    "start_time": "2022-05-26T16:29:51.195Z"
   },
   {
    "duration": 54,
    "start_time": "2022-05-26T16:29:51.211Z"
   },
   {
    "duration": 19,
    "start_time": "2022-05-26T16:29:51.267Z"
   },
   {
    "duration": 28,
    "start_time": "2022-05-26T16:29:51.288Z"
   },
   {
    "duration": 62,
    "start_time": "2022-05-26T16:29:51.318Z"
   },
   {
    "duration": 38,
    "start_time": "2022-05-26T16:29:51.382Z"
   },
   {
    "duration": 76,
    "start_time": "2022-05-26T16:29:51.425Z"
   },
   {
    "duration": 27,
    "start_time": "2022-05-26T16:29:51.503Z"
   },
   {
    "duration": 76,
    "start_time": "2022-05-26T16:29:51.531Z"
   },
   {
    "duration": 60,
    "start_time": "2022-05-26T16:29:51.608Z"
   },
   {
    "duration": 43,
    "start_time": "2022-05-26T16:29:51.670Z"
   },
   {
    "duration": 520,
    "start_time": "2022-05-26T16:29:51.716Z"
   },
   {
    "duration": 162,
    "start_time": "2022-05-26T16:29:52.238Z"
   },
   {
    "duration": 1040,
    "start_time": "2022-05-26T16:29:52.402Z"
   },
   {
    "duration": 22,
    "start_time": "2022-05-26T16:29:53.443Z"
   },
   {
    "duration": 71,
    "start_time": "2022-05-26T16:29:53.467Z"
   },
   {
    "duration": 48,
    "start_time": "2022-05-26T16:29:53.540Z"
   },
   {
    "duration": 60,
    "start_time": "2022-05-26T16:29:53.589Z"
   },
   {
    "duration": 52,
    "start_time": "2022-05-26T16:29:53.652Z"
   },
   {
    "duration": 18,
    "start_time": "2022-05-26T16:29:53.705Z"
   },
   {
    "duration": 523,
    "start_time": "2022-05-26T16:29:53.725Z"
   },
   {
    "duration": 252,
    "start_time": "2022-05-26T16:29:54.251Z"
   },
   {
    "duration": 235,
    "start_time": "2022-05-26T16:29:54.506Z"
   },
   {
    "duration": 257,
    "start_time": "2022-05-26T16:29:54.742Z"
   },
   {
    "duration": 247,
    "start_time": "2022-05-26T16:29:55.001Z"
   },
   {
    "duration": 324,
    "start_time": "2022-05-26T16:29:55.250Z"
   },
   {
    "duration": 107,
    "start_time": "2022-05-26T16:29:55.576Z"
   },
   {
    "duration": 23,
    "start_time": "2022-05-26T16:29:55.685Z"
   },
   {
    "duration": 15,
    "start_time": "2022-05-26T16:29:55.710Z"
   },
   {
    "duration": 1035,
    "start_time": "2022-05-26T16:29:55.727Z"
   },
   {
    "duration": 76,
    "start_time": "2022-05-26T16:29:56.767Z"
   },
   {
    "duration": 13,
    "start_time": "2022-05-26T16:29:56.853Z"
   },
   {
    "duration": 138,
    "start_time": "2022-05-26T16:29:56.868Z"
   },
   {
    "duration": 282,
    "start_time": "2022-05-26T16:29:57.007Z"
   },
   {
    "duration": 14,
    "start_time": "2022-05-26T16:30:02.379Z"
   },
   {
    "duration": 228,
    "start_time": "2022-05-26T16:30:24.296Z"
   },
   {
    "duration": 235,
    "start_time": "2022-05-26T16:31:47.067Z"
   },
   {
    "duration": 204,
    "start_time": "2022-05-26T16:32:19.329Z"
   },
   {
    "duration": 261,
    "start_time": "2022-05-26T16:32:59.046Z"
   },
   {
    "duration": 23,
    "start_time": "2022-05-26T16:44:08.579Z"
   },
   {
    "duration": 201,
    "start_time": "2022-05-26T16:44:26.428Z"
   },
   {
    "duration": 209,
    "start_time": "2022-05-26T16:45:02.890Z"
   },
   {
    "duration": 296,
    "start_time": "2022-05-26T16:45:09.272Z"
   },
   {
    "duration": 29,
    "start_time": "2022-05-26T16:45:38.810Z"
   },
   {
    "duration": 198,
    "start_time": "2022-05-26T16:45:43.909Z"
   },
   {
    "duration": 203,
    "start_time": "2022-05-26T16:50:37.032Z"
   },
   {
    "duration": 198,
    "start_time": "2022-05-26T16:50:55.860Z"
   },
   {
    "duration": 234,
    "start_time": "2022-05-26T16:51:05.072Z"
   },
   {
    "duration": 19,
    "start_time": "2022-05-26T16:51:16.980Z"
   },
   {
    "duration": 22,
    "start_time": "2022-05-26T16:51:24.649Z"
   },
   {
    "duration": 193,
    "start_time": "2022-05-26T16:52:28.587Z"
   },
   {
    "duration": 120,
    "start_time": "2022-05-26T17:05:27.607Z"
   },
   {
    "duration": 333,
    "start_time": "2022-05-26T17:08:08.718Z"
   },
   {
    "duration": 177,
    "start_time": "2022-05-26T17:08:21.792Z"
   },
   {
    "duration": 318,
    "start_time": "2022-05-26T17:08:33.468Z"
   },
   {
    "duration": 196,
    "start_time": "2022-05-26T17:08:43.759Z"
   },
   {
    "duration": 217,
    "start_time": "2022-05-26T17:08:53.856Z"
   },
   {
    "duration": 203,
    "start_time": "2022-05-26T17:19:33.481Z"
   },
   {
    "duration": 219,
    "start_time": "2022-05-26T17:20:10.597Z"
   },
   {
    "duration": 236,
    "start_time": "2022-05-26T17:20:28.536Z"
   },
   {
    "duration": 233,
    "start_time": "2022-05-26T17:20:42.503Z"
   },
   {
    "duration": 210,
    "start_time": "2022-05-26T17:28:37.371Z"
   },
   {
    "duration": 284,
    "start_time": "2022-05-26T17:29:52.495Z"
   },
   {
    "duration": 62,
    "start_time": "2022-05-26T17:30:00.466Z"
   },
   {
    "duration": 43,
    "start_time": "2022-05-26T17:30:03.695Z"
   },
   {
    "duration": 293,
    "start_time": "2022-05-26T17:30:06.571Z"
   },
   {
    "duration": 164,
    "start_time": "2022-05-26T17:41:11.280Z"
   },
   {
    "duration": 511,
    "start_time": "2022-05-26T17:41:52.497Z"
   },
   {
    "duration": 19,
    "start_time": "2022-05-26T17:42:24.978Z"
   },
   {
    "duration": 37,
    "start_time": "2022-05-26T17:42:51.168Z"
   },
   {
    "duration": 25,
    "start_time": "2022-05-26T17:43:27.324Z"
   },
   {
    "duration": 147,
    "start_time": "2022-05-26T17:43:47.467Z"
   },
   {
    "duration": 534,
    "start_time": "2022-05-26T17:54:32.977Z"
   },
   {
    "duration": 25,
    "start_time": "2022-05-26T17:54:45.559Z"
   },
   {
    "duration": 32,
    "start_time": "2022-05-26T17:54:48.447Z"
   },
   {
    "duration": 124,
    "start_time": "2022-05-26T17:54:53.982Z"
   },
   {
    "duration": 460,
    "start_time": "2022-05-26T17:58:03.681Z"
   },
   {
    "duration": 20,
    "start_time": "2022-05-26T17:58:10.865Z"
   },
   {
    "duration": 34,
    "start_time": "2022-05-26T17:58:13.642Z"
   },
   {
    "duration": 128,
    "start_time": "2022-05-26T17:58:15.552Z"
   },
   {
    "duration": 22,
    "start_time": "2022-05-26T17:58:34.123Z"
   },
   {
    "duration": 26,
    "start_time": "2022-05-26T17:58:35.893Z"
   },
   {
    "duration": 131,
    "start_time": "2022-05-26T17:58:37.652Z"
   },
   {
    "duration": 20,
    "start_time": "2022-05-26T17:59:11.512Z"
   },
   {
    "duration": 31,
    "start_time": "2022-05-26T17:59:15.650Z"
   },
   {
    "duration": 117,
    "start_time": "2022-05-26T17:59:17.188Z"
   },
   {
    "duration": 19,
    "start_time": "2022-05-26T17:59:35.588Z"
   },
   {
    "duration": 25,
    "start_time": "2022-05-26T17:59:37.890Z"
   },
   {
    "duration": 42,
    "start_time": "2022-05-26T17:59:39.443Z"
   },
   {
    "duration": 24,
    "start_time": "2022-05-26T18:00:01.747Z"
   },
   {
    "duration": 37,
    "start_time": "2022-05-26T18:00:04.144Z"
   },
   {
    "duration": 117,
    "start_time": "2022-05-26T18:00:05.647Z"
   },
   {
    "duration": 15,
    "start_time": "2022-05-26T18:06:56.087Z"
   },
   {
    "duration": 28,
    "start_time": "2022-05-26T18:39:37.647Z"
   },
   {
    "duration": 25,
    "start_time": "2022-05-26T18:40:04.875Z"
   },
   {
    "duration": 22,
    "start_time": "2022-05-26T18:40:46.500Z"
   },
   {
    "duration": 9,
    "start_time": "2022-05-26T18:41:58.925Z"
   },
   {
    "duration": 28,
    "start_time": "2022-05-26T18:44:45.676Z"
   },
   {
    "duration": 40,
    "start_time": "2022-05-26T18:44:58.329Z"
   },
   {
    "duration": 36,
    "start_time": "2022-05-26T18:45:20.427Z"
   },
   {
    "duration": 39,
    "start_time": "2022-05-26T18:45:29.171Z"
   },
   {
    "duration": 30,
    "start_time": "2022-05-26T18:45:36.017Z"
   },
   {
    "duration": 33,
    "start_time": "2022-05-26T18:45:40.876Z"
   },
   {
    "duration": 28,
    "start_time": "2022-05-26T18:46:58.280Z"
   },
   {
    "duration": 28,
    "start_time": "2022-05-26T18:47:28.706Z"
   },
   {
    "duration": 17,
    "start_time": "2022-05-26T18:47:42.305Z"
   },
   {
    "duration": 22,
    "start_time": "2022-05-26T18:48:36.816Z"
   },
   {
    "duration": 21,
    "start_time": "2022-05-26T18:49:13.698Z"
   },
   {
    "duration": 28,
    "start_time": "2022-05-26T18:49:27.368Z"
   },
   {
    "duration": 30,
    "start_time": "2022-05-26T18:49:33.488Z"
   },
   {
    "duration": 24,
    "start_time": "2022-05-26T18:49:49.765Z"
   },
   {
    "duration": 28,
    "start_time": "2022-05-26T18:51:04.830Z"
   },
   {
    "duration": 29,
    "start_time": "2022-05-26T18:51:07.645Z"
   },
   {
    "duration": 11,
    "start_time": "2022-05-26T18:52:27.164Z"
   },
   {
    "duration": 16,
    "start_time": "2022-05-26T18:52:32.550Z"
   },
   {
    "duration": 380,
    "start_time": "2022-05-26T18:55:38.445Z"
   },
   {
    "duration": 549,
    "start_time": "2022-05-26T18:55:50.223Z"
   },
   {
    "duration": 12,
    "start_time": "2022-05-26T18:56:26.028Z"
   },
   {
    "duration": 25,
    "start_time": "2022-05-26T18:57:18.745Z"
   },
   {
    "duration": 121,
    "start_time": "2022-05-26T19:00:33.606Z"
   },
   {
    "duration": 9,
    "start_time": "2022-05-26T19:00:57.843Z"
   },
   {
    "duration": 7,
    "start_time": "2022-05-26T19:01:06.186Z"
   },
   {
    "duration": 7,
    "start_time": "2022-05-26T19:01:34.971Z"
   },
   {
    "duration": 8,
    "start_time": "2022-05-26T19:01:42.221Z"
   },
   {
    "duration": 124,
    "start_time": "2022-05-26T19:01:55.968Z"
   },
   {
    "duration": 125,
    "start_time": "2022-05-26T19:02:28.076Z"
   },
   {
    "duration": 13,
    "start_time": "2022-05-26T19:02:40.378Z"
   },
   {
    "duration": 13,
    "start_time": "2022-05-26T19:02:50.267Z"
   },
   {
    "duration": 12,
    "start_time": "2022-05-26T19:03:39.408Z"
   },
   {
    "duration": 9,
    "start_time": "2022-05-26T19:05:32.472Z"
   },
   {
    "duration": 12,
    "start_time": "2022-05-26T19:05:40.919Z"
   },
   {
    "duration": 133,
    "start_time": "2022-05-26T19:06:07.095Z"
   },
   {
    "duration": 133,
    "start_time": "2022-05-26T19:07:05.998Z"
   },
   {
    "duration": 135,
    "start_time": "2022-05-26T19:07:28.107Z"
   },
   {
    "duration": 14,
    "start_time": "2022-05-26T19:07:44.196Z"
   },
   {
    "duration": 150,
    "start_time": "2022-05-26T19:07:51.544Z"
   },
   {
    "duration": 137,
    "start_time": "2022-05-26T19:08:29.731Z"
   },
   {
    "duration": 11,
    "start_time": "2022-05-26T19:09:20.458Z"
   },
   {
    "duration": 11,
    "start_time": "2022-05-26T19:11:16.462Z"
   },
   {
    "duration": 12,
    "start_time": "2022-05-26T19:11:52.109Z"
   },
   {
    "duration": 10,
    "start_time": "2022-05-26T19:12:28.480Z"
   },
   {
    "duration": 15,
    "start_time": "2022-05-26T19:13:00.954Z"
   },
   {
    "duration": 11,
    "start_time": "2022-05-26T19:13:33.710Z"
   },
   {
    "duration": 12,
    "start_time": "2022-05-26T19:13:53.415Z"
   },
   {
    "duration": 13,
    "start_time": "2022-05-26T19:14:02.102Z"
   },
   {
    "duration": 13,
    "start_time": "2022-05-26T19:14:21.773Z"
   },
   {
    "duration": 8,
    "start_time": "2022-05-26T19:18:59.443Z"
   },
   {
    "duration": 1261,
    "start_time": "2022-05-26T19:38:28.546Z"
   },
   {
    "duration": 3,
    "start_time": "2022-05-26T19:38:29.808Z"
   },
   {
    "duration": 9,
    "start_time": "2022-05-26T19:38:29.812Z"
   },
   {
    "duration": 9,
    "start_time": "2022-05-26T19:38:29.823Z"
   },
   {
    "duration": 52,
    "start_time": "2022-05-26T19:38:29.833Z"
   },
   {
    "duration": 1079,
    "start_time": "2022-05-26T19:38:29.887Z"
   },
   {
    "duration": 30,
    "start_time": "2022-05-26T19:38:30.969Z"
   },
   {
    "duration": 8,
    "start_time": "2022-05-26T19:38:31.000Z"
   },
   {
    "duration": 61,
    "start_time": "2022-05-26T19:38:31.009Z"
   },
   {
    "duration": 15,
    "start_time": "2022-05-26T19:38:31.074Z"
   },
   {
    "duration": 56,
    "start_time": "2022-05-26T19:38:31.090Z"
   },
   {
    "duration": 16,
    "start_time": "2022-05-26T19:38:31.147Z"
   },
   {
    "duration": 65,
    "start_time": "2022-05-26T19:38:31.169Z"
   },
   {
    "duration": 33,
    "start_time": "2022-05-26T19:38:31.236Z"
   },
   {
    "duration": 67,
    "start_time": "2022-05-26T19:38:31.271Z"
   },
   {
    "duration": 56,
    "start_time": "2022-05-26T19:38:31.339Z"
   },
   {
    "duration": 30,
    "start_time": "2022-05-26T19:38:31.397Z"
   },
   {
    "duration": 64,
    "start_time": "2022-05-26T19:38:31.428Z"
   },
   {
    "duration": 39,
    "start_time": "2022-05-26T19:38:31.493Z"
   },
   {
    "duration": 58,
    "start_time": "2022-05-26T19:38:31.534Z"
   },
   {
    "duration": 458,
    "start_time": "2022-05-26T19:38:31.593Z"
   },
   {
    "duration": 164,
    "start_time": "2022-05-26T19:38:32.053Z"
   },
   {
    "duration": 867,
    "start_time": "2022-05-26T19:38:32.219Z"
   },
   {
    "duration": 16,
    "start_time": "2022-05-26T19:38:33.088Z"
   },
   {
    "duration": 70,
    "start_time": "2022-05-26T19:38:33.105Z"
   },
   {
    "duration": 34,
    "start_time": "2022-05-26T19:38:33.178Z"
   },
   {
    "duration": 64,
    "start_time": "2022-05-26T19:38:33.214Z"
   },
   {
    "duration": 34,
    "start_time": "2022-05-26T19:38:33.283Z"
   },
   {
    "duration": 36,
    "start_time": "2022-05-26T19:38:33.318Z"
   },
   {
    "duration": 377,
    "start_time": "2022-05-26T19:38:33.362Z"
   },
   {
    "duration": 216,
    "start_time": "2022-05-26T19:38:33.740Z"
   },
   {
    "duration": 219,
    "start_time": "2022-05-26T19:38:33.957Z"
   },
   {
    "duration": 221,
    "start_time": "2022-05-26T19:38:34.177Z"
   },
   {
    "duration": 201,
    "start_time": "2022-05-26T19:38:34.400Z"
   },
   {
    "duration": 214,
    "start_time": "2022-05-26T19:38:34.602Z"
   },
   {
    "duration": 85,
    "start_time": "2022-05-26T19:38:34.817Z"
   },
   {
    "duration": 13,
    "start_time": "2022-05-26T19:38:34.903Z"
   },
   {
    "duration": 7,
    "start_time": "2022-05-26T19:38:34.918Z"
   },
   {
    "duration": 1002,
    "start_time": "2022-05-26T19:38:34.926Z"
   },
   {
    "duration": 72,
    "start_time": "2022-05-26T19:38:35.929Z"
   },
   {
    "duration": 4,
    "start_time": "2022-05-26T19:38:36.003Z"
   },
   {
    "duration": 103,
    "start_time": "2022-05-26T19:38:36.008Z"
   },
   {
    "duration": 254,
    "start_time": "2022-05-26T19:38:36.113Z"
   },
   {
    "duration": 217,
    "start_time": "2022-05-26T19:38:36.371Z"
   },
   {
    "duration": 234,
    "start_time": "2022-05-26T19:38:36.590Z"
   },
   {
    "duration": 254,
    "start_time": "2022-05-26T19:38:36.825Z"
   },
   {
    "duration": 228,
    "start_time": "2022-05-26T19:38:37.080Z"
   },
   {
    "duration": 76,
    "start_time": "2022-05-26T19:38:37.309Z"
   },
   {
    "duration": 42,
    "start_time": "2022-05-26T19:38:37.387Z"
   },
   {
    "duration": 307,
    "start_time": "2022-05-26T19:38:37.431Z"
   },
   {
    "duration": 431,
    "start_time": "2022-05-26T19:38:37.740Z"
   },
   {
    "duration": 294,
    "start_time": "2022-05-26T19:38:38.180Z"
   },
   {
    "duration": 27,
    "start_time": "2022-05-26T19:38:38.476Z"
   },
   {
    "duration": 31,
    "start_time": "2022-05-26T19:38:38.505Z"
   },
   {
    "duration": 159,
    "start_time": "2022-05-26T19:38:38.538Z"
   },
   {
    "duration": 28,
    "start_time": "2022-05-26T19:38:38.699Z"
   },
   {
    "duration": 41,
    "start_time": "2022-05-26T19:38:38.729Z"
   },
   {
    "duration": 52,
    "start_time": "2022-05-26T19:38:38.774Z"
   },
   {
    "duration": 88,
    "start_time": "2022-05-26T19:38:38.828Z"
   },
   {
    "duration": 20,
    "start_time": "2022-05-26T19:38:38.918Z"
   },
   {
    "duration": 11,
    "start_time": "2022-05-26T19:38:38.940Z"
   },
   {
    "duration": 75,
    "start_time": "2022-05-26T19:38:38.956Z"
   },
   {
    "duration": 25,
    "start_time": "2022-05-26T19:38:39.033Z"
   },
   {
    "duration": 37,
    "start_time": "2022-05-26T19:38:39.059Z"
   },
   {
    "duration": 28,
    "start_time": "2022-05-26T19:38:39.098Z"
   },
   {
    "duration": 40,
    "start_time": "2022-05-26T19:38:39.128Z"
   },
   {
    "duration": 52,
    "start_time": "2022-05-26T19:38:39.170Z"
   },
   {
    "duration": 5,
    "start_time": "2022-05-26T19:38:39.224Z"
   },
   {
    "duration": 12,
    "start_time": "2022-05-26T19:38:39.231Z"
   },
   {
    "duration": 39,
    "start_time": "2022-05-26T19:40:25.198Z"
   },
   {
    "duration": 209,
    "start_time": "2022-05-26T19:42:40.696Z"
   },
   {
    "duration": 1216,
    "start_time": "2022-05-28T08:44:07.715Z"
   },
   {
    "duration": 3,
    "start_time": "2022-05-28T08:44:08.933Z"
   },
   {
    "duration": 6,
    "start_time": "2022-05-28T08:44:08.938Z"
   },
   {
    "duration": 15,
    "start_time": "2022-05-28T08:44:08.946Z"
   },
   {
    "duration": 25,
    "start_time": "2022-05-28T08:44:08.963Z"
   },
   {
    "duration": 253,
    "start_time": "2022-05-28T08:44:08.989Z"
   },
   {
    "duration": 30,
    "start_time": "2022-05-28T08:44:09.244Z"
   },
   {
    "duration": 10,
    "start_time": "2022-05-28T08:44:09.276Z"
   },
   {
    "duration": 49,
    "start_time": "2022-05-28T08:44:09.288Z"
   },
   {
    "duration": 15,
    "start_time": "2022-05-28T08:44:09.340Z"
   },
   {
    "duration": 35,
    "start_time": "2022-05-28T08:44:09.356Z"
   },
   {
    "duration": 10,
    "start_time": "2022-05-28T08:44:09.393Z"
   },
   {
    "duration": 38,
    "start_time": "2022-05-28T08:44:09.405Z"
   },
   {
    "duration": 34,
    "start_time": "2022-05-28T08:44:09.445Z"
   },
   {
    "duration": 50,
    "start_time": "2022-05-28T08:44:09.481Z"
   },
   {
    "duration": 41,
    "start_time": "2022-05-28T08:44:09.532Z"
   },
   {
    "duration": 26,
    "start_time": "2022-05-28T08:44:09.575Z"
   },
   {
    "duration": 63,
    "start_time": "2022-05-28T08:44:09.603Z"
   },
   {
    "duration": 36,
    "start_time": "2022-05-28T08:44:09.667Z"
   },
   {
    "duration": 50,
    "start_time": "2022-05-28T08:44:09.705Z"
   },
   {
    "duration": 390,
    "start_time": "2022-05-28T08:44:09.757Z"
   },
   {
    "duration": 136,
    "start_time": "2022-05-28T08:44:10.148Z"
   },
   {
    "duration": 757,
    "start_time": "2022-05-28T08:44:10.286Z"
   },
   {
    "duration": 17,
    "start_time": "2022-05-28T08:44:11.045Z"
   },
   {
    "duration": 46,
    "start_time": "2022-05-28T08:44:11.064Z"
   },
   {
    "duration": 32,
    "start_time": "2022-05-28T08:44:11.128Z"
   },
   {
    "duration": 37,
    "start_time": "2022-05-28T08:44:11.162Z"
   },
   {
    "duration": 52,
    "start_time": "2022-05-28T08:44:11.203Z"
   },
   {
    "duration": 16,
    "start_time": "2022-05-28T08:44:11.257Z"
   },
   {
    "duration": 382,
    "start_time": "2022-05-28T08:44:11.274Z"
   },
   {
    "duration": 199,
    "start_time": "2022-05-28T08:44:11.658Z"
   },
   {
    "duration": 177,
    "start_time": "2022-05-28T08:44:11.860Z"
   },
   {
    "duration": 205,
    "start_time": "2022-05-28T08:44:12.039Z"
   },
   {
    "duration": 199,
    "start_time": "2022-05-28T08:44:12.247Z"
   },
   {
    "duration": 205,
    "start_time": "2022-05-28T08:44:12.448Z"
   },
   {
    "duration": 78,
    "start_time": "2022-05-28T08:44:12.655Z"
   },
   {
    "duration": 14,
    "start_time": "2022-05-28T08:44:12.735Z"
   },
   {
    "duration": 9,
    "start_time": "2022-05-28T08:44:12.750Z"
   },
   {
    "duration": 833,
    "start_time": "2022-05-28T08:44:12.760Z"
   },
   {
    "duration": 79,
    "start_time": "2022-05-28T08:44:13.595Z"
   },
   {
    "duration": 4,
    "start_time": "2022-05-28T08:44:13.677Z"
   },
   {
    "duration": 94,
    "start_time": "2022-05-28T08:44:13.682Z"
   },
   {
    "duration": 220,
    "start_time": "2022-05-28T08:44:13.778Z"
   },
   {
    "duration": 187,
    "start_time": "2022-05-28T08:44:14.000Z"
   },
   {
    "duration": 210,
    "start_time": "2022-05-28T08:44:14.189Z"
   },
   {
    "duration": 193,
    "start_time": "2022-05-28T08:44:14.401Z"
   },
   {
    "duration": 204,
    "start_time": "2022-05-28T08:44:14.596Z"
   },
   {
    "duration": 73,
    "start_time": "2022-05-28T08:44:14.801Z"
   },
   {
    "duration": 53,
    "start_time": "2022-05-28T08:44:14.876Z"
   },
   {
    "duration": 275,
    "start_time": "2022-05-28T08:44:14.931Z"
   },
   {
    "duration": 383,
    "start_time": "2022-05-28T08:44:15.208Z"
   },
   {
    "duration": 324,
    "start_time": "2022-05-28T08:44:15.593Z"
   },
   {
    "duration": 23,
    "start_time": "2022-05-28T08:44:15.918Z"
   },
   {
    "duration": 26,
    "start_time": "2022-05-28T08:44:15.943Z"
   },
   {
    "duration": 137,
    "start_time": "2022-05-28T08:44:15.971Z"
   },
   {
    "duration": 34,
    "start_time": "2022-05-28T08:44:16.110Z"
   },
   {
    "duration": 16,
    "start_time": "2022-05-28T08:44:16.145Z"
   },
   {
    "duration": 145,
    "start_time": "2022-05-28T08:44:16.162Z"
   },
   {
    "duration": 42,
    "start_time": "2022-05-28T08:44:16.310Z"
   },
   {
    "duration": 26,
    "start_time": "2022-05-28T08:44:16.354Z"
   },
   {
    "duration": 8,
    "start_time": "2022-05-28T08:44:16.382Z"
   },
   {
    "duration": 62,
    "start_time": "2022-05-28T08:44:16.392Z"
   },
   {
    "duration": 24,
    "start_time": "2022-05-28T08:44:16.456Z"
   },
   {
    "duration": 6,
    "start_time": "2022-05-28T08:44:16.483Z"
   },
   {
    "duration": 11,
    "start_time": "2022-05-28T08:44:16.491Z"
   },
   {
    "duration": 34,
    "start_time": "2022-05-28T08:44:16.504Z"
   },
   {
    "duration": 30,
    "start_time": "2022-05-28T08:44:16.540Z"
   },
   {
    "duration": 5,
    "start_time": "2022-05-28T08:44:16.571Z"
   },
   {
    "duration": 11,
    "start_time": "2022-05-28T08:44:16.577Z"
   },
   {
    "duration": 1525,
    "start_time": "2022-05-29T18:55:25.940Z"
   },
   {
    "duration": 2,
    "start_time": "2022-05-29T18:55:27.467Z"
   },
   {
    "duration": 7,
    "start_time": "2022-05-29T18:55:27.471Z"
   },
   {
    "duration": 6,
    "start_time": "2022-05-29T18:55:27.479Z"
   },
   {
    "duration": 15,
    "start_time": "2022-05-29T18:55:27.487Z"
   },
   {
    "duration": 185,
    "start_time": "2022-05-29T18:55:27.504Z"
   },
   {
    "duration": 24,
    "start_time": "2022-05-29T18:55:27.690Z"
   },
   {
    "duration": 28,
    "start_time": "2022-05-29T18:55:27.716Z"
   },
   {
    "duration": 35,
    "start_time": "2022-05-29T18:55:27.746Z"
   },
   {
    "duration": 15,
    "start_time": "2022-05-29T18:55:27.783Z"
   },
   {
    "duration": 41,
    "start_time": "2022-05-29T18:55:27.800Z"
   },
   {
    "duration": 10,
    "start_time": "2022-05-29T18:55:27.843Z"
   },
   {
    "duration": 23,
    "start_time": "2022-05-29T18:55:27.855Z"
   },
   {
    "duration": 48,
    "start_time": "2022-05-29T18:55:27.880Z"
   },
   {
    "duration": 26,
    "start_time": "2022-05-29T18:55:27.930Z"
   },
   {
    "duration": 37,
    "start_time": "2022-05-29T18:55:27.958Z"
   },
   {
    "duration": 5,
    "start_time": "2022-05-29T18:55:44.584Z"
   },
   {
    "duration": 4,
    "start_time": "2022-05-29T18:55:45.904Z"
   }
  ],
  "kernelspec": {
   "display_name": "Python 3 (ipykernel)",
   "language": "python",
   "name": "python3"
  },
  "language_info": {
   "codemirror_mode": {
    "name": "ipython",
    "version": 3
   },
   "file_extension": ".py",
   "mimetype": "text/x-python",
   "name": "python",
   "nbconvert_exporter": "python",
   "pygments_lexer": "ipython3",
   "version": "3.9.7"
  },
  "toc": {
   "base_numbering": 1,
   "nav_menu": {},
   "number_sections": true,
   "sideBar": true,
   "skip_h1_title": true,
   "title_cell": "Содержание",
   "title_sidebar": "Contents",
   "toc_cell": true,
   "toc_position": {
    "height": "calc(100% - 180px)",
    "left": "10px",
    "top": "150px",
    "width": "384px"
   },
   "toc_section_display": true,
   "toc_window_display": true
  }
 },
 "nbformat": 4,
 "nbformat_minor": 5
}
