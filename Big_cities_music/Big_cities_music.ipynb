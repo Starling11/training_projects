{
 "cells": [
  {
   "cell_type": "markdown",
   "metadata": {
    "id": "E0vqbgi9ay0H"
   },
   "source": [
    "# Музыка в Москве и Санкт-Петербурге"
   ]
  },
  {
   "cell_type": "markdown",
   "metadata": {
    "id": "Ml1hmfXC_Zcs"
   },
   "source": [
    "## Обзор данных"
   ]
  },
  {
   "cell_type": "markdown",
   "metadata": {
    "id": "57eAOGIz_Zcs"
   },
   "source": [
    "Импорт библиотек"
   ]
  },
  {
   "cell_type": "code",
   "execution_count": 1,
   "metadata": {
    "id": "AXN7PHPN_Zcs"
   },
   "outputs": [],
   "source": [
    "import pandas as pd\n",
    "import matplotlib.pyplot as plt"
   ]
  },
  {
   "cell_type": "markdown",
   "metadata": {},
   "source": [
    "Функция для обзора и отображания информации о данных"
   ]
  },
  {
   "cell_type": "code",
   "execution_count": 2,
   "metadata": {},
   "outputs": [],
   "source": [
    "def table_info (data):\n",
    "    display(data.sample(10)) #10 случайных строк\n",
    "    print('---------------')\n",
    "    data.info() #инфо по столбцам\n",
    "    print('---------------')\n",
    "    print('Дубликатов:', data.duplicated().sum()) #кол-во дубликатов\n",
    "    print('---------------')\n",
    "    print('Пропущенных значений', df.isna().sum()) #кол-во пропущенных значений"
   ]
  },
  {
   "cell_type": "markdown",
   "metadata": {},
   "source": [
    "Функция для замены значений в столбце.\n",
    "* `wrong_genres` — список дубликатов,\n",
    "* `correct_genre` — строка с правильным значением."
   ]
  },
  {
   "cell_type": "code",
   "execution_count": 3,
   "metadata": {},
   "outputs": [],
   "source": [
    "def replace_wrong_genres(wrong_genres, correct_genre): \n",
    "    for wrong_genre in wrong_genres: \n",
    "        df['genre'] = df['genre'].replace(wrong_genre, correct_genre)"
   ]
  },
  {
   "cell_type": "markdown",
   "metadata": {},
   "source": [
    "Функция для подсчета прослушиваний для заданного дня и города. `day` - день недели, `city` - город."
   ]
  },
  {
   "cell_type": "code",
   "execution_count": 4,
   "metadata": {},
   "outputs": [],
   "source": [
    "def number_tracks(day,city):  \n",
    "    track_list = df[(df['day'] == day) & (df['city'] == city)]  \n",
    "    track_list_count = track_list['user_id'].count()\n",
    "    return track_list_count"
   ]
  },
  {
   "cell_type": "markdown",
   "metadata": {},
   "source": [
    "Функция возвращает информацию о топ-10 жанров тех треков, которые прослушивали в указанный день, в промежутке между двумя отметками времени.\n",
    "\n",
    "* `table` - таблица (датафрейм) с данными,\n",
    "* `day` - день недели,\n",
    "* `time1` - начальная временная метка в формате 'hh:mm',\n",
    "* `time2` - последняя временная метка в формате 'hh:mm'.\n"
   ]
  },
  {
   "cell_type": "code",
   "execution_count": 5,
   "metadata": {},
   "outputs": [],
   "source": [
    "def genre_weekday(table,day,time1,time2):\n",
    "    genre_df = table[(table['day'] == day) & (table['time']>= time1) & (table['time'] <= time2)]\n",
    "    genre_df_count = genre_df.groupby('genre')['user_id'].count() \n",
    "    genre_df_sorted = genre_df_count.sort_values(ascending=False).head(10)\n",
    "    return genre_df_sorted"
   ]
  },
  {
   "cell_type": "markdown",
   "metadata": {
    "id": "SG23P8tt_Zcs"
   },
   "source": [
    "Читаем файл и сохраняем его в переменной `df`:"
   ]
  },
  {
   "cell_type": "code",
   "execution_count": 6,
   "metadata": {
    "id": "fFVu7vqh_Zct"
   },
   "outputs": [],
   "source": [
    "df = pd.read_csv('https://code.s3.yandex.net/datasets/yandex_music_project.csv')"
   ]
  },
  {
   "cell_type": "markdown",
   "metadata": {
    "id": "rDoOMd3uTqnZ"
   },
   "source": [
    "Выводим основную информацию о таблице:"
   ]
  },
  {
   "cell_type": "code",
   "execution_count": 7,
   "metadata": {
    "scrolled": true
   },
   "outputs": [
    {
     "data": {
      "text/html": [
       "<div>\n",
       "<style scoped>\n",
       "    .dataframe tbody tr th:only-of-type {\n",
       "        vertical-align: middle;\n",
       "    }\n",
       "\n",
       "    .dataframe tbody tr th {\n",
       "        vertical-align: top;\n",
       "    }\n",
       "\n",
       "    .dataframe thead th {\n",
       "        text-align: right;\n",
       "    }\n",
       "</style>\n",
       "<table border=\"1\" class=\"dataframe\">\n",
       "  <thead>\n",
       "    <tr style=\"text-align: right;\">\n",
       "      <th></th>\n",
       "      <th>userID</th>\n",
       "      <th>Track</th>\n",
       "      <th>artist</th>\n",
       "      <th>genre</th>\n",
       "      <th>City</th>\n",
       "      <th>time</th>\n",
       "      <th>Day</th>\n",
       "    </tr>\n",
       "  </thead>\n",
       "  <tbody>\n",
       "    <tr>\n",
       "      <th>22406</th>\n",
       "      <td>7A2108C4</td>\n",
       "      <td>Like We Used To</td>\n",
       "      <td>The Rose</td>\n",
       "      <td>k-pop</td>\n",
       "      <td>Moscow</td>\n",
       "      <td>21:28:19</td>\n",
       "      <td>Friday</td>\n",
       "    </tr>\n",
       "    <tr>\n",
       "      <th>19011</th>\n",
       "      <td>795A2B84</td>\n",
       "      <td>The Dansant</td>\n",
       "      <td>Anna</td>\n",
       "      <td>electronic</td>\n",
       "      <td>Moscow</td>\n",
       "      <td>21:13:13</td>\n",
       "      <td>Friday</td>\n",
       "    </tr>\n",
       "    <tr>\n",
       "      <th>60874</th>\n",
       "      <td>B37E3CF6</td>\n",
       "      <td>Theme from the Planets</td>\n",
       "      <td>Dexter Wansel</td>\n",
       "      <td>pop</td>\n",
       "      <td>Moscow</td>\n",
       "      <td>13:34:29</td>\n",
       "      <td>Monday</td>\n",
       "    </tr>\n",
       "    <tr>\n",
       "      <th>54713</th>\n",
       "      <td>EB211ABD</td>\n",
       "      <td>Little Big Man</td>\n",
       "      <td>Samson</td>\n",
       "      <td>classicmetal</td>\n",
       "      <td>Moscow</td>\n",
       "      <td>09:08:31</td>\n",
       "      <td>Wednesday</td>\n",
       "    </tr>\n",
       "    <tr>\n",
       "      <th>2411</th>\n",
       "      <td>B9E06FC4</td>\n",
       "      <td>Basta</td>\n",
       "      <td>Dylan Vera</td>\n",
       "      <td>rock</td>\n",
       "      <td>Saint-Petersburg</td>\n",
       "      <td>13:36:25</td>\n",
       "      <td>Friday</td>\n",
       "    </tr>\n",
       "    <tr>\n",
       "      <th>27135</th>\n",
       "      <td>F459F1BA</td>\n",
       "      <td>Я покидаю землю</td>\n",
       "      <td>Ю-Питер</td>\n",
       "      <td>rock</td>\n",
       "      <td>Saint-Petersburg</td>\n",
       "      <td>14:40:44</td>\n",
       "      <td>Friday</td>\n",
       "    </tr>\n",
       "    <tr>\n",
       "      <th>11347</th>\n",
       "      <td>69637B17</td>\n",
       "      <td>God's Triangle</td>\n",
       "      <td>Trin-I-Tee 5:7</td>\n",
       "      <td>gospel</td>\n",
       "      <td>Moscow</td>\n",
       "      <td>13:30:37</td>\n",
       "      <td>Friday</td>\n",
       "    </tr>\n",
       "    <tr>\n",
       "      <th>19196</th>\n",
       "      <td>7D166C63</td>\n",
       "      <td>NaN</td>\n",
       "      <td>NaN</td>\n",
       "      <td>pop</td>\n",
       "      <td>Saint-Petersburg</td>\n",
       "      <td>14:34:24</td>\n",
       "      <td>Monday</td>\n",
       "    </tr>\n",
       "    <tr>\n",
       "      <th>40561</th>\n",
       "      <td>8E403D1F</td>\n",
       "      <td>Comme ci comme ca</td>\n",
       "      <td>Stephane Legar</td>\n",
       "      <td>pop</td>\n",
       "      <td>Saint-Petersburg</td>\n",
       "      <td>13:40:09</td>\n",
       "      <td>Wednesday</td>\n",
       "    </tr>\n",
       "    <tr>\n",
       "      <th>17756</th>\n",
       "      <td>A565A1D7</td>\n",
       "      <td>Fallen Forest (For Isaac Stern)</td>\n",
       "      <td>Nigel Kennedy &amp; Oxford Philharmonic Orchestra</td>\n",
       "      <td>classical</td>\n",
       "      <td>Moscow</td>\n",
       "      <td>09:57:28</td>\n",
       "      <td>Monday</td>\n",
       "    </tr>\n",
       "  </tbody>\n",
       "</table>\n",
       "</div>"
      ],
      "text/plain": [
       "         userID                            Track  \\\n",
       "22406  7A2108C4                  Like We Used To   \n",
       "19011  795A2B84                      The Dansant   \n",
       "60874  B37E3CF6           Theme from the Planets   \n",
       "54713  EB211ABD                   Little Big Man   \n",
       "2411   B9E06FC4                            Basta   \n",
       "27135  F459F1BA                  Я покидаю землю   \n",
       "11347  69637B17                   God's Triangle   \n",
       "19196  7D166C63                              NaN   \n",
       "40561  8E403D1F                Comme ci comme ca   \n",
       "17756  A565A1D7  Fallen Forest (For Isaac Stern)   \n",
       "\n",
       "                                              artist         genre  \\\n",
       "22406                                       The Rose         k-pop   \n",
       "19011                                           Anna    electronic   \n",
       "60874                                  Dexter Wansel           pop   \n",
       "54713                                         Samson  classicmetal   \n",
       "2411                                      Dylan Vera          rock   \n",
       "27135                                        Ю-Питер          rock   \n",
       "11347                                 Trin-I-Tee 5:7        gospel   \n",
       "19196                                            NaN           pop   \n",
       "40561                                 Stephane Legar           pop   \n",
       "17756  Nigel Kennedy & Oxford Philharmonic Orchestra     classical   \n",
       "\n",
       "                 City        time        Day  \n",
       "22406            Moscow  21:28:19     Friday  \n",
       "19011            Moscow  21:13:13     Friday  \n",
       "60874            Moscow  13:34:29     Monday  \n",
       "54713            Moscow  09:08:31  Wednesday  \n",
       "2411   Saint-Petersburg  13:36:25     Friday  \n",
       "27135  Saint-Petersburg  14:40:44     Friday  \n",
       "11347            Moscow  13:30:37     Friday  \n",
       "19196  Saint-Petersburg  14:34:24     Monday  \n",
       "40561  Saint-Petersburg  13:40:09  Wednesday  \n",
       "17756            Moscow  09:57:28     Monday  "
      ]
     },
     "metadata": {},
     "output_type": "display_data"
    },
    {
     "name": "stdout",
     "output_type": "stream",
     "text": [
      "---------------\n",
      "<class 'pandas.core.frame.DataFrame'>\n",
      "RangeIndex: 65079 entries, 0 to 65078\n",
      "Data columns (total 7 columns):\n",
      " #   Column    Non-Null Count  Dtype \n",
      "---  ------    --------------  ----- \n",
      " 0     userID  65079 non-null  object\n",
      " 1   Track     63848 non-null  object\n",
      " 2   artist    57876 non-null  object\n",
      " 3   genre     63881 non-null  object\n",
      " 4     City    65079 non-null  object\n",
      " 5   time      65079 non-null  object\n",
      " 6   Day       65079 non-null  object\n",
      "dtypes: object(7)\n",
      "memory usage: 3.5+ MB\n",
      "---------------\n",
      "Дубликатов: 3826\n",
      "---------------\n",
      "Пропущенных значений   userID       0\n",
      "Track       1231\n",
      "artist      7203\n",
      "genre       1198\n",
      "  City         0\n",
      "time           0\n",
      "Day            0\n",
      "dtype: int64\n"
     ]
    }
   ],
   "source": [
    "table_info(df)"
   ]
  },
  {
   "cell_type": "markdown",
   "metadata": {
    "id": "TaQ2Iwbr_Zct"
   },
   "source": [
    "### Выводы\n",
    "В таблице семь столбцов. Тип данных во всех столбцах — `object`. Названия столбцов стоит привести к единому стилю. Пропуски в столбцах `Track`, `artist`, `genre` заменим на `unknown` и проверим как это повлияет на исследование. В таблице 3826 явных дубликатов."
   ]
  },
  {
   "cell_type": "markdown",
   "metadata": {
    "id": "SjYF6Ub9_Zct"
   },
   "source": [
    "## Предобработка данных"
   ]
  },
  {
   "cell_type": "markdown",
   "metadata": {
    "id": "dIaKXr29_Zct"
   },
   "source": [
    "### Названия столбцов"
   ]
  },
  {
   "cell_type": "markdown",
   "metadata": {},
   "source": [
    "Посмотрим на названия столбцов повнимательнее:"
   ]
  },
  {
   "cell_type": "code",
   "execution_count": 8,
   "metadata": {
    "id": "oKOTdF_Q_Zct"
   },
   "outputs": [
    {
     "name": "stdout",
     "output_type": "stream",
     "text": [
      "Index(['  userID', 'Track', 'artist', 'genre', '  City  ', 'time', 'Day'], dtype='object')\n"
     ]
    }
   ],
   "source": [
    "print(df.columns)"
   ]
  },
  {
   "cell_type": "markdown",
   "metadata": {
    "id": "zj5534cv_Zct"
   },
   "source": [
    "Переименуем столбцы и приведем их к одному стилю."
   ]
  },
  {
   "cell_type": "code",
   "execution_count": 9,
   "metadata": {
    "id": "ISlFqs5y_Zct"
   },
   "outputs": [],
   "source": [
    "df = df.rename(columns={'  userID': 'user_id', 'Track': 'track', '  City  ' : 'city', 'Day': 'day'})"
   ]
  },
  {
   "cell_type": "markdown",
   "metadata": {
    "id": "1dqbh00J_Zct"
   },
   "source": [
    "Проверим результат."
   ]
  },
  {
   "cell_type": "code",
   "execution_count": 10,
   "metadata": {
    "id": "d4NOAmTW_Zct",
    "scrolled": true
   },
   "outputs": [
    {
     "name": "stdout",
     "output_type": "stream",
     "text": [
      "Index(['user_id', 'track', 'artist', 'genre', 'city', 'time', 'day'], dtype='object')\n"
     ]
    }
   ],
   "source": [
    "print(df.columns)"
   ]
  },
  {
   "cell_type": "markdown",
   "metadata": {},
   "source": [
    "### Пропущенные значения"
   ]
  },
  {
   "cell_type": "markdown",
   "metadata": {},
   "source": [
    "Подсчитаем пропуски ещё раз."
   ]
  },
  {
   "cell_type": "code",
   "execution_count": 11,
   "metadata": {},
   "outputs": [
    {
     "name": "stdout",
     "output_type": "stream",
     "text": [
      "user_id       0\n",
      "track      1231\n",
      "artist     7203\n",
      "genre      1198\n",
      "city          0\n",
      "time          0\n",
      "day           0\n",
      "dtype: int64\n"
     ]
    }
   ],
   "source": [
    "print(df.isna().sum())"
   ]
  },
  {
   "cell_type": "markdown",
   "metadata": {},
   "source": [
    "Заменим пропущенные значкения на `unknown`."
   ]
  },
  {
   "cell_type": "code",
   "execution_count": 12,
   "metadata": {},
   "outputs": [],
   "source": [
    "columns_to_replace = ['track', 'artist', 'genre']\n",
    "for element in columns_to_replace: \n",
    "    df[element] = df[element].fillna('unknown')"
   ]
  },
  {
   "cell_type": "markdown",
   "metadata": {},
   "source": [
    "Проверим."
   ]
  },
  {
   "cell_type": "code",
   "execution_count": 13,
   "metadata": {},
   "outputs": [
    {
     "name": "stdout",
     "output_type": "stream",
     "text": [
      "user_id    0\n",
      "track      0\n",
      "artist     0\n",
      "genre      0\n",
      "city       0\n",
      "time       0\n",
      "day        0\n",
      "dtype: int64\n"
     ]
    }
   ],
   "source": [
    "print(df.isna().sum())"
   ]
  },
  {
   "cell_type": "markdown",
   "metadata": {
    "id": "BWKRtBJ3_Zct"
   },
   "source": [
    "### Дубликаты"
   ]
  },
  {
   "cell_type": "markdown",
   "metadata": {},
   "source": [
    "Удаляем явные дубликаты."
   ]
  },
  {
   "cell_type": "code",
   "execution_count": 14,
   "metadata": {
    "id": "exFHq6tt_Zct"
   },
   "outputs": [],
   "source": [
    "df = df.drop_duplicates().reset_index(drop=True) "
   ]
  },
  {
   "cell_type": "markdown",
   "metadata": {
    "id": "Im2YwBEG_Zct"
   },
   "source": [
    "Проверяем."
   ]
  },
  {
   "cell_type": "code",
   "execution_count": 15,
   "metadata": {
    "id": "-8PuNWQ0_Zct",
    "scrolled": true
   },
   "outputs": [
    {
     "name": "stdout",
     "output_type": "stream",
     "text": [
      "0\n"
     ]
    }
   ],
   "source": [
    "print(df.duplicated().sum()) "
   ]
  },
  {
   "cell_type": "markdown",
   "metadata": {
    "id": "QlFBsxAr_Zct"
   },
   "source": [
    "Проверим неявные дубликаты в колонке `genre`."
   ]
  },
  {
   "cell_type": "code",
   "execution_count": 16,
   "metadata": {
    "id": "JIUcqzZN_Zct"
   },
   "outputs": [
    {
     "name": "stdout",
     "output_type": "stream",
     "text": [
      "['acid', 'acoustic', 'action', 'adult', 'africa', 'afrikaans', 'alternative', 'alternativepunk', 'ambient', 'americana', 'animated', 'anime', 'arabesk', 'arabic', 'arena', 'argentinetango', 'art', 'audiobook', 'author', 'avantgarde', 'axé', 'baile', 'balkan', 'beats', 'bigroom', 'black', 'bluegrass', 'blues', 'bollywood', 'bossa', 'brazilian', 'breakbeat', 'breaks', 'broadway', 'cantautori', 'cantopop', 'canzone', 'caribbean', 'caucasian', 'celtic', 'chamber', 'chanson', 'children', 'chill', 'chinese', 'choral', 'christian', 'christmas', 'classical', 'classicmetal', 'club', 'colombian', 'comedy', 'conjazz', 'contemporary', 'country', 'cuban', 'dance', 'dancehall', 'dancepop', 'dark', 'death', 'deep', 'deutschrock', 'deutschspr', 'dirty', 'disco', 'dnb', 'documentary', 'downbeat', 'downtempo', 'drum', 'dub', 'dubstep', 'eastern', 'easy', 'electronic', 'electropop', 'emo', 'entehno', 'epicmetal', 'estrada', 'ethnic', 'eurofolk', 'european', 'experimental', 'extrememetal', 'fado', 'fairytail', 'film', 'fitness', 'flamenco', 'folk', 'folklore', 'folkmetal', 'folkrock', 'folktronica', 'forró', 'frankreich', 'französisch', 'french', 'funk', 'future', 'gangsta', 'garage', 'german', 'ghazal', 'gitarre', 'glitch', 'gospel', 'gothic', 'grime', 'grunge', 'gypsy', 'handsup', \"hard'n'heavy\", 'hardcore', 'hardstyle', 'hardtechno', 'hip', 'hip-hop', 'hiphop', 'historisch', 'holiday', 'hop', 'horror', 'house', 'hymn', 'idm', 'independent', 'indian', 'indie', 'indipop', 'industrial', 'inspirational', 'instrumental', 'international', 'irish', 'jam', 'japanese', 'jazz', 'jewish', 'jpop', 'jungle', 'k-pop', 'karadeniz', 'karaoke', 'kayokyoku', 'korean', 'laiko', 'latin', 'latino', 'leftfield', 'local', 'lounge', 'loungeelectronic', 'lovers', 'malaysian', 'mandopop', 'marschmusik', 'meditative', 'mediterranean', 'melodic', 'metal', 'metalcore', 'mexican', 'middle', 'minimal', 'miscellaneous', 'modern', 'mood', 'mpb', 'muslim', 'native', 'neoklassik', 'neue', 'new', 'newage', 'newwave', 'nu', 'nujazz', 'numetal', 'oceania', 'old', 'opera', 'orchestral', 'other', 'piano', 'podcasts', 'pop', 'popdance', 'popelectronic', 'popeurodance', 'poprussian', 'post', 'posthardcore', 'postrock', 'power', 'progmetal', 'progressive', 'psychedelic', 'punjabi', 'punk', 'quebecois', 'ragga', 'ram', 'rancheras', 'rap', 'rave', 'reggae', 'reggaeton', 'regional', 'relax', 'religious', 'retro', 'rhythm', 'rnb', 'rnr', 'rock', 'rockabilly', 'rockalternative', 'rockindie', 'rockother', 'romance', 'roots', 'ruspop', 'rusrap', 'rusrock', 'russian', 'salsa', 'samba', 'scenic', 'schlager', 'self', 'sertanejo', 'shanson', 'shoegazing', 'showtunes', 'singer', 'ska', 'skarock', 'slow', 'smooth', 'soft', 'soul', 'soulful', 'sound', 'soundtrack', 'southern', 'specialty', 'speech', 'spiritual', 'sport', 'stonerrock', 'surf', 'swing', 'synthpop', 'synthrock', 'sängerportrait', 'tango', 'tanzorchester', 'taraftar', 'tatar', 'tech', 'techno', 'teen', 'thrash', 'top', 'traditional', 'tradjazz', 'trance', 'tribal', 'trip', 'triphop', 'tropical', 'türk', 'türkçe', 'ukrrock', 'unknown', 'urban', 'uzbek', 'variété', 'vi', 'videogame', 'vocal', 'western', 'world', 'worldbeat', 'ïîï', 'электроника']\n"
     ]
    }
   ],
   "source": [
    "genre = df ['genre'] \n",
    "print(sorted(genre.unique()))"
   ]
  },
  {
   "cell_type": "markdown",
   "metadata": {
    "id": "qej-Qmuo_Zct"
   },
   "source": [
    "Есть неявные дубликаты названия `hiphop`:\n",
    "* hip,\n",
    "* hop,\n",
    "* hip-hop.\n",
    "Заменим при помощи функции replace_wrong_genres."
   ]
  },
  {
   "cell_type": "code",
   "execution_count": 17,
   "metadata": {
    "id": "YN5i2hpmSo09"
   },
   "outputs": [],
   "source": [
    "duplicates = ['hip', 'hop', 'hip-hop']\n",
    "genre = 'hiphop'\n",
    "replace_wrong_genres(duplicates,genre)"
   ]
  },
  {
   "cell_type": "markdown",
   "metadata": {
    "id": "WttZHXH0SqKk"
   },
   "source": [
    "## Исследование пользовательской активности"
   ]
  },
  {
   "cell_type": "markdown",
   "metadata": {
    "id": "8Dw_YMmT_Zcu"
   },
   "source": [
    "Посмотрим сколько треков прослушали пользователи в каждом городе."
   ]
  },
  {
   "cell_type": "code",
   "execution_count": 18,
   "metadata": {
    "id": "0_Qs96oh_Zcu",
    "scrolled": false
   },
   "outputs": [
    {
     "data": {
      "image/png": "[encoded data removed]",
      "text/plain": [
       "<Figure size 648x504 with 1 Axes>"
      ]
     },
     "metadata": {
      "needs_background": "light"
     },
     "output_type": "display_data"
    }
   ],
   "source": [
    "df.groupby('city')['track'].count().plot(kind='bar',figsize=(9, 7), grid=True, color='mediumpurple')\n",
    "plt.xticks(rotation=0)\n",
    "plt.title('Количество прослушанных треков в городах'); "
   ]
  },
  {
   "cell_type": "code",
   "execution_count": 19,
   "metadata": {},
   "outputs": [
    {
     "data": {
      "image/png": "[encoded data removed]",
      "text/plain": [
       "<Figure size 648x504 with 1 Axes>"
      ]
     },
     "metadata": {
      "needs_background": "light"
     },
     "output_type": "display_data"
    }
   ],
   "source": [
    "df.groupby('city')['track'].nunique().plot(kind='bar',figsize=(9, 7), grid=True, color='mediumpurple')\n",
    "plt.xticks(rotation=0)\n",
    "plt.title('Количество уникальных пользователей в каждом городе');"
   ]
  },
  {
   "cell_type": "markdown",
   "metadata": {
    "id": "dzli3w8o_Zcu"
   },
   "source": [
    "В Москве прослушиваний больше, чем в Петербурге. Из этого не следует, что московские пользователи чаще слушают музыку. Просто самих пользователей в Москве больше.\n",
    "\n",
    "Сгруппируем данные по дню недели и подсчитаем прослушивания в понедельник, среду и пятницу."
   ]
  },
  {
   "cell_type": "code",
   "execution_count": 20,
   "metadata": {
    "id": "uZMKjiJz_Zcu"
   },
   "outputs": [
    {
     "data": {
      "image/png": "[encoded data removed]",
      "text/plain": [
       "<Figure size 648x504 with 1 Axes>"
      ]
     },
     "metadata": {
      "needs_background": "light"
     },
     "output_type": "display_data"
    }
   ],
   "source": [
    "df.groupby('day')['user_id'].count().plot(kind='bar',figsize=(9, 7), grid=True, color='mediumpurple')\n",
    "plt.xticks(rotation=0)\n",
    "plt.title('Количество количество прослшиваний по пятницам, понедельникам и средам');"
   ]
  },
  {
   "cell_type": "markdown",
   "metadata": {
    "id": "cC2tNrlL_Zcu"
   },
   "source": [
    "В среднем пользователи из двух городов менее активны по средам. Посмотрим на активность пользователей разных городов в каждый из трех дней."
   ]
  },
  {
   "cell_type": "markdown",
   "metadata": {
    "id": "ytf7xFrFJQ2r"
   },
   "source": [
    "Количество прослушиваний в Москве по понедельникам"
   ]
  },
  {
   "cell_type": "code",
   "execution_count": 21,
   "metadata": {
    "id": "rJcRATNQ_Zcu",
    "scrolled": true
   },
   "outputs": [
    {
     "data": {
      "text/plain": [
       "15740"
      ]
     },
     "execution_count": 21,
     "metadata": {},
     "output_type": "execute_result"
    }
   ],
   "source": [
    "number_tracks('Monday','Moscow')"
   ]
  },
  {
   "cell_type": "markdown",
   "metadata": {},
   "source": [
    "Количество прослушиваний в Санкт-Петербурге по понедельникам"
   ]
  },
  {
   "cell_type": "code",
   "execution_count": 22,
   "metadata": {
    "id": "hq_ncZ5T_Zcu"
   },
   "outputs": [
    {
     "data": {
      "text/plain": [
       "5614"
      ]
     },
     "execution_count": 22,
     "metadata": {},
     "output_type": "execute_result"
    }
   ],
   "source": [
    "number_tracks('Monday','Saint-Petersburg')"
   ]
  },
  {
   "cell_type": "markdown",
   "metadata": {},
   "source": [
    "Количество прослушиваний в Москве по средам"
   ]
  },
  {
   "cell_type": "code",
   "execution_count": 23,
   "metadata": {
    "id": "_NTy2VPU_Zcu"
   },
   "outputs": [
    {
     "data": {
      "text/plain": [
       "11056"
      ]
     },
     "execution_count": 23,
     "metadata": {},
     "output_type": "execute_result"
    }
   ],
   "source": [
    "number_tracks('Wednesday','Moscow')"
   ]
  },
  {
   "cell_type": "markdown",
   "metadata": {},
   "source": [
    "Количество прослушиваний в Санкт-Петербурге по средам"
   ]
  },
  {
   "cell_type": "code",
   "execution_count": 24,
   "metadata": {
    "id": "j2y3TAwo_Zcu",
    "scrolled": true
   },
   "outputs": [
    {
     "data": {
      "text/plain": [
       "7003"
      ]
     },
     "execution_count": 24,
     "metadata": {},
     "output_type": "execute_result"
    }
   ],
   "source": [
    "number_tracks('Wednesday','Saint-Petersburg')"
   ]
  },
  {
   "cell_type": "markdown",
   "metadata": {},
   "source": [
    "Количество прослушиваний в Москве по пятницам"
   ]
  },
  {
   "cell_type": "code",
   "execution_count": 25,
   "metadata": {
    "id": "vYDw5u_K_Zcu"
   },
   "outputs": [
    {
     "data": {
      "text/plain": [
       "15945"
      ]
     },
     "execution_count": 25,
     "metadata": {},
     "output_type": "execute_result"
    }
   ],
   "source": [
    "number_tracks('Friday','Moscow')"
   ]
  },
  {
   "cell_type": "markdown",
   "metadata": {},
   "source": [
    "Количество прослушиваний в Санкт-Петербурге по пятницам"
   ]
  },
  {
   "cell_type": "code",
   "execution_count": 26,
   "metadata": {
    "id": "8_yzFtW3_Zcu"
   },
   "outputs": [
    {
     "data": {
      "text/plain": [
       "5895"
      ]
     },
     "execution_count": 26,
     "metadata": {},
     "output_type": "execute_result"
    }
   ],
   "source": [
    "number_tracks('Friday','Saint-Petersburg')"
   ]
  },
  {
   "cell_type": "markdown",
   "metadata": {
    "id": "7QXffbO-_Zcu"
   },
   "source": [
    "Создадим таблицу с результатами."
   ]
  },
  {
   "cell_type": "code",
   "execution_count": 27,
   "metadata": {
    "id": "APAcLpOr_Zcu"
   },
   "outputs": [
    {
     "data": {
      "text/html": [
       "<div>\n",
       "<style scoped>\n",
       "    .dataframe tbody tr th:only-of-type {\n",
       "        vertical-align: middle;\n",
       "    }\n",
       "\n",
       "    .dataframe tbody tr th {\n",
       "        vertical-align: top;\n",
       "    }\n",
       "\n",
       "    .dataframe thead th {\n",
       "        text-align: right;\n",
       "    }\n",
       "</style>\n",
       "<table border=\"1\" class=\"dataframe\">\n",
       "  <thead>\n",
       "    <tr style=\"text-align: right;\">\n",
       "      <th></th>\n",
       "      <th>city</th>\n",
       "      <th>monday</th>\n",
       "      <th>wednesday</th>\n",
       "      <th>friday</th>\n",
       "    </tr>\n",
       "  </thead>\n",
       "  <tbody>\n",
       "    <tr>\n",
       "      <th>0</th>\n",
       "      <td>Moscow</td>\n",
       "      <td>15740</td>\n",
       "      <td>11056</td>\n",
       "      <td>15945</td>\n",
       "    </tr>\n",
       "    <tr>\n",
       "      <th>1</th>\n",
       "      <td>Saint-Petersburg</td>\n",
       "      <td>5614</td>\n",
       "      <td>7003</td>\n",
       "      <td>5895</td>\n",
       "    </tr>\n",
       "  </tbody>\n",
       "</table>\n",
       "</div>"
      ],
      "text/plain": [
       "               city  monday  wednesday  friday\n",
       "0            Moscow   15740      11056   15945\n",
       "1  Saint-Petersburg    5614       7003    5895"
      ]
     },
     "execution_count": 27,
     "metadata": {},
     "output_type": "execute_result"
    }
   ],
   "source": [
    "columns = ['city', 'monday', 'wednesday', 'friday']\n",
    "data = [['Moscow',15740, 11056, 15945],\n",
    "        ['Saint-Petersburg', 5614, 7003, 5895]]\n",
    "\n",
    "pd.DataFrame(data=data, columns=columns)"
   ]
  },
  {
   "cell_type": "markdown",
   "metadata": {
    "id": "-EgPIHYu_Zcu"
   },
   "source": [
    "**Выводы**\n",
    "\n",
    "Данные показывают разницу поведения пользователей:\n",
    "\n",
    "- В Москве пик прослушиваний приходится на понедельник и пятницу, а в среду заметен спад.\n",
    "- В Петербурге, наоборот, больше слушают музыку по средам. Активность в понедельник и пятницу здесь почти в равной мере уступает среде.\n",
    "\n",
    "Очевидно, что активность пользователей зависит от дня недели."
   ]
  },
  {
   "cell_type": "markdown",
   "metadata": {
    "id": "atZAxtq4_Zcu"
   },
   "source": [
    "### Музыка в начале и в конце недели"
   ]
  },
  {
   "cell_type": "markdown",
   "metadata": {
    "id": "eXrQqXFH_Zcu"
   },
   "source": [
    "Изучим популярность жанров в городах по утрам понедельника и вечерам пятницы."
   ]
  },
  {
   "cell_type": "markdown",
   "metadata": {
    "id": "S8UcW6Hw_Zcu"
   },
   "source": [
    "Сохраним таблицы с данными в две переменные:\n",
    "* по Москве — в `moscow_general`;\n",
    "* по Санкт-Петербургу — в `spb_general`."
   ]
  },
  {
   "cell_type": "code",
   "execution_count": 28,
   "metadata": {
    "id": "qeaFfM_P_Zcu"
   },
   "outputs": [
    {
     "data": {
      "text/html": [
       "<div>\n",
       "<style scoped>\n",
       "    .dataframe tbody tr th:only-of-type {\n",
       "        vertical-align: middle;\n",
       "    }\n",
       "\n",
       "    .dataframe tbody tr th {\n",
       "        vertical-align: top;\n",
       "    }\n",
       "\n",
       "    .dataframe thead th {\n",
       "        text-align: right;\n",
       "    }\n",
       "</style>\n",
       "<table border=\"1\" class=\"dataframe\">\n",
       "  <thead>\n",
       "    <tr style=\"text-align: right;\">\n",
       "      <th></th>\n",
       "      <th>user_id</th>\n",
       "      <th>track</th>\n",
       "      <th>artist</th>\n",
       "      <th>genre</th>\n",
       "      <th>city</th>\n",
       "      <th>time</th>\n",
       "      <th>day</th>\n",
       "    </tr>\n",
       "  </thead>\n",
       "  <tbody>\n",
       "    <tr>\n",
       "      <th>10314</th>\n",
       "      <td>5366E775</td>\n",
       "      <td>Shegavicha Rana</td>\n",
       "      <td>Pandit. Ajit Kadkade</td>\n",
       "      <td>world</td>\n",
       "      <td>Moscow</td>\n",
       "      <td>21:28:48</td>\n",
       "      <td>Friday</td>\n",
       "    </tr>\n",
       "    <tr>\n",
       "      <th>14324</th>\n",
       "      <td>A8AE9169</td>\n",
       "      <td>unknown</td>\n",
       "      <td>unknown</td>\n",
       "      <td>unknown</td>\n",
       "      <td>Moscow</td>\n",
       "      <td>14:09:22</td>\n",
       "      <td>Monday</td>\n",
       "    </tr>\n",
       "    <tr>\n",
       "      <th>47010</th>\n",
       "      <td>DA67C4CE</td>\n",
       "      <td>Hold On To Me</td>\n",
       "      <td>Size Matters</td>\n",
       "      <td>electronic</td>\n",
       "      <td>Moscow</td>\n",
       "      <td>14:37:32</td>\n",
       "      <td>Wednesday</td>\n",
       "    </tr>\n",
       "    <tr>\n",
       "      <th>969</th>\n",
       "      <td>94B3D86</td>\n",
       "      <td>Heartbeat</td>\n",
       "      <td>The Sumz Broz</td>\n",
       "      <td>dance</td>\n",
       "      <td>Moscow</td>\n",
       "      <td>09:34:23</td>\n",
       "      <td>Wednesday</td>\n",
       "    </tr>\n",
       "    <tr>\n",
       "      <th>22754</th>\n",
       "      <td>A8AE9169</td>\n",
       "      <td>unknown</td>\n",
       "      <td>unknown</td>\n",
       "      <td>unknown</td>\n",
       "      <td>Moscow</td>\n",
       "      <td>14:05:46</td>\n",
       "      <td>Monday</td>\n",
       "    </tr>\n",
       "  </tbody>\n",
       "</table>\n",
       "</div>"
      ],
      "text/plain": [
       "        user_id            track                artist       genre    city  \\\n",
       "10314  5366E775  Shegavicha Rana  Pandit. Ajit Kadkade       world  Moscow   \n",
       "14324  A8AE9169          unknown               unknown     unknown  Moscow   \n",
       "47010  DA67C4CE    Hold On To Me          Size Matters  electronic  Moscow   \n",
       "969     94B3D86        Heartbeat         The Sumz Broz       dance  Moscow   \n",
       "22754  A8AE9169          unknown               unknown     unknown  Moscow   \n",
       "\n",
       "           time        day  \n",
       "10314  21:28:48     Friday  \n",
       "14324  14:09:22     Monday  \n",
       "47010  14:37:32  Wednesday  \n",
       "969    09:34:23  Wednesday  \n",
       "22754  14:05:46     Monday  "
      ]
     },
     "metadata": {},
     "output_type": "display_data"
    }
   ],
   "source": [
    "moscow_general = df[df['city'] == 'Moscow']\n",
    "display(moscow_general.sample(5))"
   ]
  },
  {
   "cell_type": "code",
   "execution_count": 29,
   "metadata": {
    "id": "ORaVRKto_Zcu"
   },
   "outputs": [
    {
     "data": {
      "text/html": [
       "<div>\n",
       "<style scoped>\n",
       "    .dataframe tbody tr th:only-of-type {\n",
       "        vertical-align: middle;\n",
       "    }\n",
       "\n",
       "    .dataframe tbody tr th {\n",
       "        vertical-align: top;\n",
       "    }\n",
       "\n",
       "    .dataframe thead th {\n",
       "        text-align: right;\n",
       "    }\n",
       "</style>\n",
       "<table border=\"1\" class=\"dataframe\">\n",
       "  <thead>\n",
       "    <tr style=\"text-align: right;\">\n",
       "      <th></th>\n",
       "      <th>user_id</th>\n",
       "      <th>track</th>\n",
       "      <th>artist</th>\n",
       "      <th>genre</th>\n",
       "      <th>city</th>\n",
       "      <th>time</th>\n",
       "      <th>day</th>\n",
       "    </tr>\n",
       "  </thead>\n",
       "  <tbody>\n",
       "    <tr>\n",
       "      <th>60038</th>\n",
       "      <td>31116974</td>\n",
       "      <td>Let Me Know</td>\n",
       "      <td>unknown</td>\n",
       "      <td>unknown</td>\n",
       "      <td>Saint-Petersburg</td>\n",
       "      <td>09:01:49</td>\n",
       "      <td>Monday</td>\n",
       "    </tr>\n",
       "    <tr>\n",
       "      <th>55015</th>\n",
       "      <td>E116E87E</td>\n",
       "      <td>End of the 80's</td>\n",
       "      <td>Brighter Death Now</td>\n",
       "      <td>electronic</td>\n",
       "      <td>Saint-Petersburg</td>\n",
       "      <td>13:09:36</td>\n",
       "      <td>Wednesday</td>\n",
       "    </tr>\n",
       "    <tr>\n",
       "      <th>25803</th>\n",
       "      <td>E7586318</td>\n",
       "      <td>Someday</td>\n",
       "      <td>Latroit</td>\n",
       "      <td>dance</td>\n",
       "      <td>Saint-Petersburg</td>\n",
       "      <td>14:17:48</td>\n",
       "      <td>Monday</td>\n",
       "    </tr>\n",
       "    <tr>\n",
       "      <th>28327</th>\n",
       "      <td>7C8496F6</td>\n",
       "      <td>Balearic Bliss</td>\n",
       "      <td>unknown</td>\n",
       "      <td>dance</td>\n",
       "      <td>Saint-Petersburg</td>\n",
       "      <td>08:08:00</td>\n",
       "      <td>Wednesday</td>\n",
       "    </tr>\n",
       "    <tr>\n",
       "      <th>36916</th>\n",
       "      <td>3E2B5AF0</td>\n",
       "      <td>Umbrella</td>\n",
       "      <td>Mechanical Bride</td>\n",
       "      <td>rock</td>\n",
       "      <td>Saint-Petersburg</td>\n",
       "      <td>08:30:39</td>\n",
       "      <td>Monday</td>\n",
       "    </tr>\n",
       "  </tbody>\n",
       "</table>\n",
       "</div>"
      ],
      "text/plain": [
       "        user_id            track              artist       genre  \\\n",
       "60038  31116974      Let Me Know             unknown     unknown   \n",
       "55015  E116E87E  End of the 80's  Brighter Death Now  electronic   \n",
       "25803  E7586318          Someday             Latroit       dance   \n",
       "28327  7C8496F6   Balearic Bliss             unknown       dance   \n",
       "36916  3E2B5AF0         Umbrella    Mechanical Bride        rock   \n",
       "\n",
       "                   city      time        day  \n",
       "60038  Saint-Petersburg  09:01:49     Monday  \n",
       "55015  Saint-Petersburg  13:09:36  Wednesday  \n",
       "25803  Saint-Petersburg  14:17:48     Monday  \n",
       "28327  Saint-Petersburg  08:08:00  Wednesday  \n",
       "36916  Saint-Petersburg  08:30:39     Monday  "
      ]
     },
     "metadata": {},
     "output_type": "display_data"
    }
   ],
   "source": [
    "spb_general = df[df['city'] == 'Saint-Petersburg']\n",
    "display(spb_general.sample(5))"
   ]
  },
  {
   "cell_type": "markdown",
   "metadata": {
    "id": "la2s2_PF_Zcu"
   },
   "source": [
    "Результаты для Москвы в понедельник утром (с 7:00 до 11:00):"
   ]
  },
  {
   "cell_type": "code",
   "execution_count": 30,
   "metadata": {
    "id": "yz7itPUQ_Zcu",
    "scrolled": false
   },
   "outputs": [
    {
     "data": {
      "text/plain": [
       "genre\n",
       "pop            781\n",
       "dance          549\n",
       "electronic     480\n",
       "rock           474\n",
       "hiphop         286\n",
       "ruspop         186\n",
       "world          181\n",
       "rusrap         175\n",
       "alternative    164\n",
       "unknown        161\n",
       "Name: user_id, dtype: int64"
      ]
     },
     "execution_count": 30,
     "metadata": {},
     "output_type": "execute_result"
    }
   ],
   "source": [
    "genre_weekday(moscow_general,'Monday', '07:00', '11:00')"
   ]
  },
  {
   "cell_type": "markdown",
   "metadata": {},
   "source": [
    "Результаты для Санкт-Петербурга в понедельник утром (с 7:00 до 11:00):"
   ]
  },
  {
   "cell_type": "code",
   "execution_count": 31,
   "metadata": {
    "id": "kwUcHPdy_Zcu",
    "scrolled": false
   },
   "outputs": [
    {
     "data": {
      "text/plain": [
       "genre\n",
       "pop            218\n",
       "dance          182\n",
       "rock           162\n",
       "electronic     147\n",
       "hiphop          80\n",
       "ruspop          64\n",
       "alternative     58\n",
       "rusrap          55\n",
       "jazz            44\n",
       "classical       40\n",
       "Name: user_id, dtype: int64"
      ]
     },
     "execution_count": 31,
     "metadata": {},
     "output_type": "execute_result"
    }
   ],
   "source": [
    "genre_weekday(spb_general,'Monday', '07:00:00', '11:00:00')"
   ]
  },
  {
   "cell_type": "markdown",
   "metadata": {},
   "source": [
    "Результаты для Москвы в пятницу вечером (с 17:00 до 23:00):"
   ]
  },
  {
   "cell_type": "code",
   "execution_count": 32,
   "metadata": {
    "id": "EzXVRE1o_Zcu",
    "scrolled": true
   },
   "outputs": [
    {
     "data": {
      "text/plain": [
       "genre\n",
       "pop            713\n",
       "rock           517\n",
       "dance          495\n",
       "electronic     482\n",
       "hiphop         273\n",
       "world          208\n",
       "ruspop         170\n",
       "alternative    163\n",
       "classical      163\n",
       "rusrap         142\n",
       "Name: user_id, dtype: int64"
      ]
     },
     "execution_count": 32,
     "metadata": {},
     "output_type": "execute_result"
    }
   ],
   "source": [
    "genre_weekday(moscow_general,'Friday', '17:00:00', '23:00:00')"
   ]
  },
  {
   "cell_type": "markdown",
   "metadata": {},
   "source": [
    "Результаты для Санкт-Петербурга в пятницу вечером (с 17:00 до 23:00):"
   ]
  },
  {
   "cell_type": "code",
   "execution_count": 33,
   "metadata": {
    "id": "JZaEKu5v_Zcu",
    "scrolled": true
   },
   "outputs": [
    {
     "data": {
      "text/plain": [
       "genre\n",
       "pop            256\n",
       "electronic     216\n",
       "rock           216\n",
       "dance          210\n",
       "hiphop          97\n",
       "alternative     63\n",
       "jazz            61\n",
       "classical       60\n",
       "rusrap          59\n",
       "world           54\n",
       "Name: user_id, dtype: int64"
      ]
     },
     "execution_count": 33,
     "metadata": {},
     "output_type": "execute_result"
    }
   ],
   "source": [
    "genre_weekday(spb_general,'Friday', '17:00:00', '23:00:00') "
   ]
  },
  {
   "cell_type": "markdown",
   "metadata": {
    "id": "wrCe4MNX_Zcu"
   },
   "source": [
    "**Выводы**\n",
    "\n",
    "Если сравнить топ-10 жанров в понедельник утром, можно сделать такие выводы:\n",
    "\n",
    "1. В Москве и Петербурге слушают похожую музыку. Единственное отличие — в московский рейтинг вошёл жанр “world”, а в петербургский — джаз и классика.\n",
    "\n",
    "2. В Москве пропущенных значений оказалось так много, что значение `'unknown'` заняло десятое место среди самых популярных жанров. Значит, пропущенные значения занимают существенную долю в данных и угрожают достоверности исследования.\n",
    "\n",
    "Вечер пятницы не меняет эту картину. Некоторые жанры поднимаются немного выше, другие спускаются, но в целом топ-10 остаётся тем же самым.\n",
    "\n",
    "Таким образом, пользователи слушают похожую музыку в начале недели и в конце.Разница между Москвой и Петербургом не слишком выражена. В Москве чаще слушают русскую популярную музыку, в Петербурге — джаз.\n",
    "\n",
    "Однако пропуски в данных ставят под сомнение этот результат. В Москве их так много, что рейтинг топ-10 мог бы выглядеть иначе, если бы не утерянные  данные о жанрах."
   ]
  },
  {
   "cell_type": "markdown",
   "metadata": {
    "id": "JolODAqr_Zcu"
   },
   "source": [
    "### Жанровые предпочтения в Москве и Петербурге"
   ]
  },
  {
   "cell_type": "markdown",
   "metadata": {},
   "source": [
    "Популярные жанры в Москве."
   ]
  },
  {
   "cell_type": "code",
   "execution_count": 34,
   "metadata": {
    "id": "r19lIPke_Zcu"
   },
   "outputs": [
    {
     "data": {
      "text/plain": [
       "genre\n",
       "pop            5892\n",
       "dance          4435\n",
       "rock           3965\n",
       "electronic     3786\n",
       "hiphop         2096\n",
       "classical      1616\n",
       "world          1432\n",
       "alternative    1379\n",
       "ruspop         1372\n",
       "rusrap         1161\n",
       "Name: user_id, dtype: int64"
      ]
     },
     "metadata": {},
     "output_type": "display_data"
    }
   ],
   "source": [
    "moscow_genres = moscow_general.groupby('genre')['user_id'].count()\n",
    "moscow_genres = moscow_genres.sort_values(ascending=False)\n",
    "display(moscow_genres.head(10))"
   ]
  },
  {
   "cell_type": "markdown",
   "metadata": {
    "id": "cnPG2vnN_Zcv"
   },
   "source": [
    "Популярные жанры в Санкт-Петербурге."
   ]
  },
  {
   "cell_type": "code",
   "execution_count": 35,
   "metadata": {
    "id": "gluLIpE7_Zcv",
    "scrolled": true
   },
   "outputs": [
    {
     "data": {
      "text/plain": [
       "genre\n",
       "pop            2431\n",
       "dance          1932\n",
       "rock           1879\n",
       "electronic     1736\n",
       "hiphop          960\n",
       "alternative     649\n",
       "classical       646\n",
       "rusrap          564\n",
       "ruspop          538\n",
       "world           515\n",
       "Name: user_id, dtype: int64"
      ]
     },
     "metadata": {},
     "output_type": "display_data"
    }
   ],
   "source": [
    "spb_genres = spb_general.groupby('genre')['user_id'].count()\n",
    "spb_genres = spb_genres.sort_values(ascending=False)\n",
    "display(spb_genres.head(10))"
   ]
  },
  {
   "cell_type": "markdown",
   "metadata": {
    "id": "RY51YJYu_Zcv"
   },
   "source": [
    "**Выводы**"
   ]
  },
  {
   "cell_type": "markdown",
   "metadata": {
    "id": "nVhnJEm__Zcv"
   },
   "source": [
    "Гипотеза частично подтвердилась:\n",
    "* Поп-музыка — самый популярный жанр в Москве. Более того, в топ-10 жанров встречается близкий жанр — русская популярная музыка.\n",
    "* Вопреки ожиданиям, рэп одинаково популярен в Москве и Петербурге. \n"
   ]
  },
  {
   "cell_type": "markdown",
   "metadata": {
    "id": "ykKQ0N65_Zcv"
   },
   "source": [
    "## Итоги исследования"
   ]
  },
  {
   "cell_type": "markdown",
   "metadata": {
    "id": "tjUwbHb3_Zcv"
   },
   "source": [
    "День недели по-разному влияет на активность пользователей в Москве и Петербурге. В Москве пик прослушиваний приходится на понедельник и пятницу, а в среду заметен спад.\n",
    "В Петербурге, наоборот, больше слушают музыку по средам. Активность в понедельник и пятницу здесь почти в равной мере уступает среде.\n",
    "\n",
    "Пользователи слушают похожую музыку в начале недели и в конце.Разница между Москвой и Петербургом не слишком выражена. В Москве чаще слушают русскую популярную музыку, в Петербурге — джаз.\n",
    "\n",
    "Поп-музыка — самый популярный жанр в Москве. Более того, в топ-10 жанров встречается близкий жанр — русская популярная музыка.Вопреки ожиданиям, рэп одинаково популярен в Москве и Петербурге."
   ]
  }
 ],
 "metadata": {
  "ExecuteTimeLog": [
   {
    "duration": 747,
    "start_time": "2021-11-07T09:25:04.098Z"
   },
   {
    "duration": 188,
    "start_time": "2021-11-07T09:26:54.084Z"
   },
   {
    "duration": 26,
    "start_time": "2021-11-07T09:27:50.669Z"
   },
   {
    "duration": 32,
    "start_time": "2021-11-07T09:28:56.259Z"
   },
   {
    "duration": 264,
    "start_time": "2021-11-07T14:45:45.822Z"
   },
   {
    "duration": 230,
    "start_time": "2021-11-07T14:46:11.823Z"
   },
   {
    "duration": 253,
    "start_time": "2021-11-07T14:46:27.138Z"
   },
   {
    "duration": 625,
    "start_time": "2021-11-07T14:46:43.836Z"
   },
   {
    "duration": 137,
    "start_time": "2021-11-07T14:46:46.298Z"
   },
   {
    "duration": 17,
    "start_time": "2021-11-07T14:46:48.896Z"
   },
   {
    "duration": 25,
    "start_time": "2021-11-07T14:46:51.753Z"
   },
   {
    "duration": 4,
    "start_time": "2021-11-07T14:46:56.969Z"
   },
   {
    "duration": 25,
    "start_time": "2021-11-07T14:50:51.980Z"
   },
   {
    "duration": 4,
    "start_time": "2021-11-07T14:51:08.365Z"
   },
   {
    "duration": 22,
    "start_time": "2021-11-07T14:54:16.076Z"
   },
   {
    "duration": 14,
    "start_time": "2021-11-07T15:02:19.438Z"
   },
   {
    "duration": 11,
    "start_time": "2021-11-07T15:02:41.850Z"
   },
   {
    "duration": 3,
    "start_time": "2021-11-07T15:05:04.103Z"
   },
   {
    "duration": 23,
    "start_time": "2021-11-07T15:05:17.163Z"
   },
   {
    "duration": 606,
    "start_time": "2021-11-07T15:07:57.448Z"
   },
   {
    "duration": 6009,
    "start_time": "2021-11-07T15:27:34.560Z"
   },
   {
    "duration": 6291,
    "start_time": "2021-11-07T15:27:54.744Z"
   },
   {
    "duration": 1103,
    "start_time": "2021-11-07T15:34:31.212Z"
   },
   {
    "duration": 1109,
    "start_time": "2021-11-07T15:34:42.761Z"
   },
   {
    "duration": 1099,
    "start_time": "2021-11-07T15:34:48.964Z"
   },
   {
    "duration": 5948,
    "start_time": "2021-11-07T15:34:51.670Z"
   },
   {
    "duration": 2,
    "start_time": "2021-11-07T15:35:30.294Z"
   },
   {
    "duration": 171,
    "start_time": "2021-11-07T15:35:30.299Z"
   },
   {
    "duration": 11,
    "start_time": "2021-11-07T15:35:30.473Z"
   },
   {
    "duration": 38,
    "start_time": "2021-11-07T15:35:30.486Z"
   },
   {
    "duration": 41,
    "start_time": "2021-11-07T15:35:30.526Z"
   },
   {
    "duration": 47,
    "start_time": "2021-11-07T15:35:30.569Z"
   },
   {
    "duration": 13,
    "start_time": "2021-11-07T15:35:30.618Z"
   },
   {
    "duration": 38,
    "start_time": "2021-11-07T15:35:30.633Z"
   },
   {
    "duration": 5847,
    "start_time": "2021-11-07T15:35:30.673Z"
   },
   {
    "duration": 1030,
    "start_time": "2021-11-07T15:35:35.493Z"
   },
   {
    "duration": 1025,
    "start_time": "2021-11-07T15:35:35.499Z"
   },
   {
    "duration": 1019,
    "start_time": "2021-11-07T15:35:35.506Z"
   },
   {
    "duration": 1014,
    "start_time": "2021-11-07T15:35:35.512Z"
   },
   {
    "duration": 1010,
    "start_time": "2021-11-07T15:35:35.517Z"
   },
   {
    "duration": 1004,
    "start_time": "2021-11-07T15:35:35.524Z"
   },
   {
    "duration": 1000,
    "start_time": "2021-11-07T15:35:35.529Z"
   },
   {
    "duration": 993,
    "start_time": "2021-11-07T15:35:35.537Z"
   },
   {
    "duration": 988,
    "start_time": "2021-11-07T15:35:35.542Z"
   },
   {
    "duration": 985,
    "start_time": "2021-11-07T15:35:35.546Z"
   },
   {
    "duration": 982,
    "start_time": "2021-11-07T15:35:35.550Z"
   },
   {
    "duration": 975,
    "start_time": "2021-11-07T15:35:35.558Z"
   },
   {
    "duration": 972,
    "start_time": "2021-11-07T15:35:35.562Z"
   },
   {
    "duration": 968,
    "start_time": "2021-11-07T15:35:35.567Z"
   },
   {
    "duration": 960,
    "start_time": "2021-11-07T15:35:35.576Z"
   },
   {
    "duration": 957,
    "start_time": "2021-11-07T15:35:35.580Z"
   },
   {
    "duration": 954,
    "start_time": "2021-11-07T15:35:35.584Z"
   },
   {
    "duration": 925,
    "start_time": "2021-11-07T15:35:35.614Z"
   },
   {
    "duration": 916,
    "start_time": "2021-11-07T15:35:35.624Z"
   },
   {
    "duration": 909,
    "start_time": "2021-11-07T15:35:35.632Z"
   },
   {
    "duration": 903,
    "start_time": "2021-11-07T15:35:35.639Z"
   },
   {
    "duration": 900,
    "start_time": "2021-11-07T15:35:35.643Z"
   },
   {
    "duration": 898,
    "start_time": "2021-11-07T15:35:35.647Z"
   },
   {
    "duration": 895,
    "start_time": "2021-11-07T15:35:35.651Z"
   },
   {
    "duration": 890,
    "start_time": "2021-11-07T15:35:35.657Z"
   },
   {
    "duration": 888,
    "start_time": "2021-11-07T15:35:35.660Z"
   },
   {
    "duration": 885,
    "start_time": "2021-11-07T15:35:35.664Z"
   },
   {
    "duration": 880,
    "start_time": "2021-11-07T15:35:35.670Z"
   },
   {
    "duration": 876,
    "start_time": "2021-11-07T15:35:35.675Z"
   },
   {
    "duration": 6584,
    "start_time": "2021-11-07T15:37:06.503Z"
   },
   {
    "duration": 3,
    "start_time": "2021-11-07T15:37:29.074Z"
   },
   {
    "duration": 236,
    "start_time": "2021-11-07T15:38:24.814Z"
   },
   {
    "duration": 77,
    "start_time": "2021-11-07T15:40:10.690Z"
   },
   {
    "duration": 7,
    "start_time": "2021-11-07T15:41:01.229Z"
   },
   {
    "duration": 14,
    "start_time": "2021-11-07T15:42:12.649Z"
   },
   {
    "duration": 14,
    "start_time": "2021-11-07T15:42:27.228Z"
   },
   {
    "duration": 233,
    "start_time": "2021-11-07T15:45:20.893Z"
   },
   {
    "duration": 5805,
    "start_time": "2021-11-07T15:46:08.157Z"
   },
   {
    "duration": 21,
    "start_time": "2021-11-07T15:46:35.392Z"
   },
   {
    "duration": 20,
    "start_time": "2021-11-07T15:46:47.665Z"
   },
   {
    "duration": 42,
    "start_time": "2021-11-07T15:49:18.772Z"
   },
   {
    "duration": 44,
    "start_time": "2021-11-07T15:49:30.989Z"
   },
   {
    "duration": 18,
    "start_time": "2021-11-07T16:04:23.929Z"
   },
   {
    "duration": 25,
    "start_time": "2021-11-07T16:04:31.756Z"
   },
   {
    "duration": 53,
    "start_time": "2021-11-07T16:07:31.240Z"
   },
   {
    "duration": 5855,
    "start_time": "2021-11-07T16:54:30.190Z"
   },
   {
    "duration": 8,
    "start_time": "2021-11-07T16:56:40.785Z"
   },
   {
    "duration": 6525,
    "start_time": "2021-11-07T17:01:28.499Z"
   },
   {
    "duration": 6010,
    "start_time": "2021-11-07T17:01:59.136Z"
   },
   {
    "duration": 17,
    "start_time": "2021-11-07T17:03:24.556Z"
   },
   {
    "duration": 21,
    "start_time": "2021-11-07T17:03:28.567Z"
   },
   {
    "duration": 66,
    "start_time": "2021-11-07T17:05:45.077Z"
   },
   {
    "duration": 51,
    "start_time": "2021-11-07T17:06:01.542Z"
   },
   {
    "duration": 7037,
    "start_time": "2021-11-07T17:10:44.735Z"
   },
   {
    "duration": 6565,
    "start_time": "2021-11-07T17:11:00.802Z"
   },
   {
    "duration": 3,
    "start_time": "2021-11-07T17:11:14.074Z"
   },
   {
    "duration": 12,
    "start_time": "2021-11-07T17:11:30.203Z"
   },
   {
    "duration": 7,
    "start_time": "2021-11-07T17:12:26.334Z"
   },
   {
    "duration": 276,
    "start_time": "2021-11-07T17:15:12.936Z"
   },
   {
    "duration": 232,
    "start_time": "2021-11-07T17:15:34.663Z"
   },
   {
    "duration": 6,
    "start_time": "2021-11-07T17:19:45.638Z"
   },
   {
    "duration": 5,
    "start_time": "2021-11-07T17:30:28.557Z"
   },
   {
    "duration": 453,
    "start_time": "2021-11-07T17:34:04.210Z"
   },
   {
    "duration": 3,
    "start_time": "2021-11-07T17:35:12.818Z"
   },
   {
    "duration": 3,
    "start_time": "2021-11-07T17:36:06.689Z"
   },
   {
    "duration": 461,
    "start_time": "2021-11-07T17:36:09.956Z"
   },
   {
    "duration": 3,
    "start_time": "2021-11-07T17:42:27.855Z"
   },
   {
    "duration": 468,
    "start_time": "2021-11-07T17:42:30.314Z"
   },
   {
    "duration": 3,
    "start_time": "2021-11-07T17:47:46.843Z"
   },
   {
    "duration": 3,
    "start_time": "2021-11-07T17:47:51.834Z"
   },
   {
    "duration": 518,
    "start_time": "2021-11-07T17:47:54.054Z"
   },
   {
    "duration": 572,
    "start_time": "2021-11-07T17:48:40.711Z"
   },
   {
    "duration": 152,
    "start_time": "2021-11-07T17:48:41.285Z"
   },
   {
    "duration": 23,
    "start_time": "2021-11-07T17:48:41.440Z"
   },
   {
    "duration": 25,
    "start_time": "2021-11-07T17:48:41.465Z"
   },
   {
    "duration": 3,
    "start_time": "2021-11-07T17:48:41.492Z"
   },
   {
    "duration": 26,
    "start_time": "2021-11-07T17:48:41.496Z"
   },
   {
    "duration": 3,
    "start_time": "2021-11-07T17:48:41.524Z"
   },
   {
    "duration": 50,
    "start_time": "2021-11-07T17:48:41.529Z"
   },
   {
    "duration": 22,
    "start_time": "2021-11-07T17:48:41.581Z"
   },
   {
    "duration": 22,
    "start_time": "2021-11-07T17:48:41.605Z"
   },
   {
    "duration": 83,
    "start_time": "2021-11-07T17:48:41.628Z"
   },
   {
    "duration": 80,
    "start_time": "2021-11-07T17:48:41.713Z"
   },
   {
    "duration": 55,
    "start_time": "2021-11-07T17:48:41.795Z"
   },
   {
    "duration": 6,
    "start_time": "2021-11-07T17:48:41.863Z"
   },
   {
    "duration": 3,
    "start_time": "2021-11-07T17:48:41.871Z"
   },
   {
    "duration": 643,
    "start_time": "2021-11-07T17:48:41.876Z"
   },
   {
    "duration": -86,
    "start_time": "2021-11-07T17:48:42.607Z"
   },
   {
    "duration": -96,
    "start_time": "2021-11-07T17:48:42.618Z"
   },
   {
    "duration": -105,
    "start_time": "2021-11-07T17:48:42.628Z"
   },
   {
    "duration": -113,
    "start_time": "2021-11-07T17:48:42.637Z"
   },
   {
    "duration": -124,
    "start_time": "2021-11-07T17:48:42.649Z"
   },
   {
    "duration": -132,
    "start_time": "2021-11-07T17:48:42.658Z"
   },
   {
    "duration": -142,
    "start_time": "2021-11-07T17:48:42.669Z"
   },
   {
    "duration": -150,
    "start_time": "2021-11-07T17:48:42.678Z"
   },
   {
    "duration": -159,
    "start_time": "2021-11-07T17:48:42.688Z"
   },
   {
    "duration": -182,
    "start_time": "2021-11-07T17:48:42.712Z"
   },
   {
    "duration": -192,
    "start_time": "2021-11-07T17:48:42.723Z"
   },
   {
    "duration": -200,
    "start_time": "2021-11-07T17:48:42.732Z"
   },
   {
    "duration": -210,
    "start_time": "2021-11-07T17:48:42.743Z"
   },
   {
    "duration": -217,
    "start_time": "2021-11-07T17:48:42.751Z"
   },
   {
    "duration": -228,
    "start_time": "2021-11-07T17:48:42.763Z"
   },
   {
    "duration": -235,
    "start_time": "2021-11-07T17:48:42.771Z"
   },
   {
    "duration": -246,
    "start_time": "2021-11-07T17:48:42.782Z"
   },
   {
    "duration": -257,
    "start_time": "2021-11-07T17:48:42.794Z"
   },
   {
    "duration": -268,
    "start_time": "2021-11-07T17:48:42.806Z"
   },
   {
    "duration": -283,
    "start_time": "2021-11-07T17:48:42.822Z"
   },
   {
    "duration": -289,
    "start_time": "2021-11-07T17:48:42.829Z"
   },
   {
    "duration": -294,
    "start_time": "2021-11-07T17:48:42.836Z"
   },
   {
    "duration": 10,
    "start_time": "2021-11-07T17:58:54.539Z"
   },
   {
    "duration": 237,
    "start_time": "2021-11-07T18:01:16.442Z"
   },
   {
    "duration": 6,
    "start_time": "2021-11-07T18:01:45.548Z"
   },
   {
    "duration": 7,
    "start_time": "2021-11-07T18:10:23.646Z"
   },
   {
    "duration": 5824,
    "start_time": "2021-11-07T18:12:24.009Z"
   },
   {
    "duration": 8560,
    "start_time": "2021-11-07T18:15:22.676Z"
   },
   {
    "duration": 6033,
    "start_time": "2021-11-07T18:16:34.554Z"
   },
   {
    "duration": 5709,
    "start_time": "2021-11-07T18:17:31.225Z"
   },
   {
    "duration": 631,
    "start_time": "2021-11-07T18:45:40.805Z"
   },
   {
    "duration": 573,
    "start_time": "2021-11-08T12:29:24.301Z"
   },
   {
    "duration": 154,
    "start_time": "2021-11-08T12:29:27.500Z"
   },
   {
    "duration": 17,
    "start_time": "2021-11-08T12:29:30.060Z"
   },
   {
    "duration": 24,
    "start_time": "2021-11-08T12:30:00.901Z"
   },
   {
    "duration": 4,
    "start_time": "2021-11-08T12:30:08.917Z"
   },
   {
    "duration": 307,
    "start_time": "2021-11-08T12:30:32.183Z"
   },
   {
    "duration": 258,
    "start_time": "2021-11-08T12:33:10.038Z"
   },
   {
    "duration": 3,
    "start_time": "2021-11-08T12:33:18.718Z"
   },
   {
    "duration": 149,
    "start_time": "2021-11-08T12:33:18.723Z"
   },
   {
    "duration": 10,
    "start_time": "2021-11-08T12:33:18.874Z"
   },
   {
    "duration": 25,
    "start_time": "2021-11-08T12:33:18.886Z"
   },
   {
    "duration": 3,
    "start_time": "2021-11-08T12:33:18.913Z"
   },
   {
    "duration": 49,
    "start_time": "2021-11-08T12:33:18.917Z"
   },
   {
    "duration": 5,
    "start_time": "2021-11-08T12:33:18.968Z"
   },
   {
    "duration": 23,
    "start_time": "2021-11-08T12:33:18.975Z"
   },
   {
    "duration": 25,
    "start_time": "2021-11-08T12:33:19.000Z"
   },
   {
    "duration": 38,
    "start_time": "2021-11-08T12:33:19.028Z"
   },
   {
    "duration": 64,
    "start_time": "2021-11-08T12:33:19.067Z"
   },
   {
    "duration": 94,
    "start_time": "2021-11-08T12:33:19.133Z"
   },
   {
    "duration": 60,
    "start_time": "2021-11-08T12:33:19.229Z"
   },
   {
    "duration": 493,
    "start_time": "2021-11-08T12:33:19.291Z"
   },
   {
    "duration": 723,
    "start_time": "2021-11-08T12:33:19.064Z"
   },
   {
    "duration": 718,
    "start_time": "2021-11-08T12:33:19.070Z"
   },
   {
    "duration": 710,
    "start_time": "2021-11-08T12:33:19.079Z"
   },
   {
    "duration": 706,
    "start_time": "2021-11-08T12:33:19.084Z"
   },
   {
    "duration": 702,
    "start_time": "2021-11-08T12:33:19.089Z"
   },
   {
    "duration": 697,
    "start_time": "2021-11-08T12:33:19.095Z"
   },
   {
    "duration": 694,
    "start_time": "2021-11-08T12:33:19.099Z"
   },
   {
    "duration": 689,
    "start_time": "2021-11-08T12:33:19.105Z"
   },
   {
    "duration": 687,
    "start_time": "2021-11-08T12:33:19.108Z"
   },
   {
    "duration": 685,
    "start_time": "2021-11-08T12:33:19.111Z"
   },
   {
    "duration": 683,
    "start_time": "2021-11-08T12:33:19.114Z"
   },
   {
    "duration": 682,
    "start_time": "2021-11-08T12:33:19.116Z"
   },
   {
    "duration": 681,
    "start_time": "2021-11-08T12:33:19.118Z"
   },
   {
    "duration": 679,
    "start_time": "2021-11-08T12:33:19.121Z"
   },
   {
    "duration": 678,
    "start_time": "2021-11-08T12:33:19.123Z"
   },
   {
    "duration": 677,
    "start_time": "2021-11-08T12:33:19.125Z"
   },
   {
    "duration": 676,
    "start_time": "2021-11-08T12:33:19.127Z"
   },
   {
    "duration": 674,
    "start_time": "2021-11-08T12:33:19.129Z"
   },
   {
    "duration": 672,
    "start_time": "2021-11-08T12:33:19.132Z"
   },
   {
    "duration": 671,
    "start_time": "2021-11-08T12:33:19.134Z"
   },
   {
    "duration": 670,
    "start_time": "2021-11-08T12:33:19.136Z"
   },
   {
    "duration": 669,
    "start_time": "2021-11-08T12:33:19.138Z"
   },
   {
    "duration": 668,
    "start_time": "2021-11-08T12:33:19.140Z"
   },
   {
    "duration": 667,
    "start_time": "2021-11-08T12:33:19.142Z"
   },
   {
    "duration": 243,
    "start_time": "2021-11-08T12:34:07.177Z"
   },
   {
    "duration": 69,
    "start_time": "2021-11-08T12:34:22.433Z"
   },
   {
    "duration": 67,
    "start_time": "2021-11-08T12:34:53.747Z"
   },
   {
    "duration": 68,
    "start_time": "2021-11-08T12:35:14.273Z"
   },
   {
    "duration": 65,
    "start_time": "2021-11-08T12:36:07.442Z"
   },
   {
    "duration": 17,
    "start_time": "2021-11-08T12:36:22.034Z"
   },
   {
    "duration": 23,
    "start_time": "2021-11-08T12:36:47.747Z"
   },
   {
    "duration": 19,
    "start_time": "2021-11-08T12:37:06.795Z"
   },
   {
    "duration": 17,
    "start_time": "2021-11-08T13:30:48.193Z"
   },
   {
    "duration": 20,
    "start_time": "2021-11-08T13:30:51.474Z"
   },
   {
    "duration": 56,
    "start_time": "2021-11-08T13:30:54.546Z"
   },
   {
    "duration": 67,
    "start_time": "2021-11-08T13:30:57.729Z"
   },
   {
    "duration": 53,
    "start_time": "2021-11-08T13:31:03.498Z"
   },
   {
    "duration": 5,
    "start_time": "2021-11-08T13:31:16.210Z"
   },
   {
    "duration": 3,
    "start_time": "2021-11-08T13:31:20.066Z"
   },
   {
    "duration": 11,
    "start_time": "2021-11-08T13:31:22.763Z"
   },
   {
    "duration": 7,
    "start_time": "2021-11-08T13:31:26.034Z"
   },
   {
    "duration": 32,
    "start_time": "2021-11-08T13:37:10.903Z"
   },
   {
    "duration": 31,
    "start_time": "2021-11-08T13:38:17.112Z"
   },
   {
    "duration": 80,
    "start_time": "2021-11-08T13:59:31.203Z"
   },
   {
    "duration": 4,
    "start_time": "2021-11-08T13:59:54.371Z"
   },
   {
    "duration": 255,
    "start_time": "2021-11-08T14:02:30.101Z"
   },
   {
    "duration": 488,
    "start_time": "2021-11-08T14:04:38.727Z"
   },
   {
    "duration": 4,
    "start_time": "2021-11-08T14:05:39.094Z"
   },
   {
    "duration": 517,
    "start_time": "2021-11-08T14:05:43.343Z"
   },
   {
    "duration": 3,
    "start_time": "2021-11-08T14:06:54.658Z"
   },
   {
    "duration": 506,
    "start_time": "2021-11-08T14:06:58.384Z"
   },
   {
    "duration": 483,
    "start_time": "2021-11-08T14:07:02.848Z"
   },
   {
    "duration": 3,
    "start_time": "2021-11-08T14:08:03.314Z"
   },
   {
    "duration": 4,
    "start_time": "2021-11-08T14:09:20.723Z"
   },
   {
    "duration": 663,
    "start_time": "2021-11-08T14:09:23.475Z"
   },
   {
    "duration": 235,
    "start_time": "2021-11-08T14:09:47.909Z"
   },
   {
    "duration": 3,
    "start_time": "2021-11-08T14:10:59.717Z"
   },
   {
    "duration": 514,
    "start_time": "2021-11-08T14:11:02.932Z"
   },
   {
    "duration": 90,
    "start_time": "2021-11-08T14:14:21.328Z"
   },
   {
    "duration": 80,
    "start_time": "2021-11-08T14:14:27.760Z"
   },
   {
    "duration": 3,
    "start_time": "2021-11-08T14:14:50.416Z"
   },
   {
    "duration": 564,
    "start_time": "2021-11-08T14:15:04.407Z"
   },
   {
    "duration": 3,
    "start_time": "2021-11-08T14:24:47.224Z"
   },
   {
    "duration": 670,
    "start_time": "2021-11-08T14:24:51.008Z"
   },
   {
    "duration": 3,
    "start_time": "2021-11-08T14:28:43.773Z"
   },
   {
    "duration": 537,
    "start_time": "2021-11-08T14:28:46.924Z"
   },
   {
    "duration": 477,
    "start_time": "2021-11-08T14:30:11.821Z"
   },
   {
    "duration": 21,
    "start_time": "2021-11-08T14:32:30.936Z"
   },
   {
    "duration": 276,
    "start_time": "2021-11-08T14:39:53.885Z"
   },
   {
    "duration": 907,
    "start_time": "2021-11-08T14:41:06.868Z"
   },
   {
    "duration": 21,
    "start_time": "2021-11-08T14:41:10.149Z"
   },
   {
    "duration": 6617,
    "start_time": "2021-11-08T14:41:29.813Z"
   },
   {
    "duration": 6134,
    "start_time": "2021-11-08T14:41:36.582Z"
   },
   {
    "duration": 6035,
    "start_time": "2021-11-08T14:41:53.727Z"
   },
   {
    "duration": 427,
    "start_time": "2021-11-08T14:42:59.048Z"
   },
   {
    "duration": 6081,
    "start_time": "2021-11-08T14:47:46.684Z"
   },
   {
    "duration": 22,
    "start_time": "2021-11-08T14:49:02.429Z"
   },
   {
    "duration": 322,
    "start_time": "2021-11-08T16:52:27.145Z"
   },
   {
    "duration": 274,
    "start_time": "2021-11-08T16:52:34.906Z"
   },
   {
    "duration": 276,
    "start_time": "2021-11-08T16:52:40.613Z"
   },
   {
    "duration": 1290,
    "start_time": "2021-11-08T16:52:44.420Z"
   },
   {
    "duration": 186,
    "start_time": "2021-11-08T16:52:45.713Z"
   },
   {
    "duration": 34,
    "start_time": "2021-11-08T16:52:45.903Z"
   },
   {
    "duration": 33,
    "start_time": "2021-11-08T16:52:45.940Z"
   },
   {
    "duration": 5,
    "start_time": "2021-11-08T16:52:45.975Z"
   },
   {
    "duration": 61,
    "start_time": "2021-11-08T16:52:45.983Z"
   },
   {
    "duration": 8,
    "start_time": "2021-11-08T16:52:46.047Z"
   },
   {
    "duration": 31,
    "start_time": "2021-11-08T16:52:46.059Z"
   },
   {
    "duration": 6978,
    "start_time": "2021-11-08T16:52:46.093Z"
   },
   {
    "duration": -1128,
    "start_time": "2021-11-08T16:52:54.202Z"
   },
   {
    "duration": -1137,
    "start_time": "2021-11-08T16:52:54.213Z"
   },
   {
    "duration": -1149,
    "start_time": "2021-11-08T16:52:54.226Z"
   },
   {
    "duration": -1160,
    "start_time": "2021-11-08T16:52:54.239Z"
   },
   {
    "duration": -1172,
    "start_time": "2021-11-08T16:52:54.252Z"
   },
   {
    "duration": -1190,
    "start_time": "2021-11-08T16:52:54.272Z"
   },
   {
    "duration": -1203,
    "start_time": "2021-11-08T16:52:54.286Z"
   },
   {
    "duration": -1270,
    "start_time": "2021-11-08T16:52:54.354Z"
   },
   {
    "duration": -1301,
    "start_time": "2021-11-08T16:52:54.387Z"
   },
   {
    "duration": -1315,
    "start_time": "2021-11-08T16:52:54.402Z"
   },
   {
    "duration": -1332,
    "start_time": "2021-11-08T16:52:54.420Z"
   },
   {
    "duration": -1345,
    "start_time": "2021-11-08T16:52:54.435Z"
   },
   {
    "duration": -1359,
    "start_time": "2021-11-08T16:52:54.450Z"
   },
   {
    "duration": -1374,
    "start_time": "2021-11-08T16:52:54.467Z"
   },
   {
    "duration": -1384,
    "start_time": "2021-11-08T16:52:54.479Z"
   },
   {
    "duration": -1390,
    "start_time": "2021-11-08T16:52:54.486Z"
   },
   {
    "duration": -1393,
    "start_time": "2021-11-08T16:52:54.490Z"
   },
   {
    "duration": -1396,
    "start_time": "2021-11-08T16:52:54.495Z"
   },
   {
    "duration": -1399,
    "start_time": "2021-11-08T16:52:54.500Z"
   },
   {
    "duration": -1402,
    "start_time": "2021-11-08T16:52:54.505Z"
   },
   {
    "duration": -1406,
    "start_time": "2021-11-08T16:52:54.510Z"
   },
   {
    "duration": -1409,
    "start_time": "2021-11-08T16:52:54.515Z"
   },
   {
    "duration": -1412,
    "start_time": "2021-11-08T16:52:54.519Z"
   },
   {
    "duration": -1416,
    "start_time": "2021-11-08T16:52:54.525Z"
   },
   {
    "duration": -1420,
    "start_time": "2021-11-08T16:52:54.531Z"
   },
   {
    "duration": -1429,
    "start_time": "2021-11-08T16:52:54.542Z"
   },
   {
    "duration": -1419,
    "start_time": "2021-11-08T16:52:54.548Z"
   },
   {
    "duration": -1423,
    "start_time": "2021-11-08T16:52:54.554Z"
   },
   {
    "duration": -1427,
    "start_time": "2021-11-08T16:52:54.560Z"
   },
   {
    "duration": -1433,
    "start_time": "2021-11-08T16:52:54.568Z"
   },
   {
    "duration": 278,
    "start_time": "2021-11-08T16:53:05.281Z"
   },
   {
    "duration": 6918,
    "start_time": "2021-11-08T16:53:41.366Z"
   },
   {
    "duration": 28,
    "start_time": "2021-11-08T16:54:16.242Z"
   },
   {
    "duration": 24,
    "start_time": "2021-11-08T16:54:47.339Z"
   },
   {
    "duration": 4,
    "start_time": "2021-11-08T16:54:51.768Z"
   },
   {
    "duration": 219,
    "start_time": "2021-11-08T16:54:51.776Z"
   },
   {
    "duration": 44,
    "start_time": "2021-11-08T16:54:51.999Z"
   },
   {
    "duration": 37,
    "start_time": "2021-11-08T16:54:52.047Z"
   },
   {
    "duration": 41,
    "start_time": "2021-11-08T16:54:52.088Z"
   },
   {
    "duration": 33,
    "start_time": "2021-11-08T16:54:52.133Z"
   },
   {
    "duration": 6,
    "start_time": "2021-11-08T16:54:52.169Z"
   },
   {
    "duration": 71,
    "start_time": "2021-11-08T16:54:52.181Z"
   },
   {
    "duration": 23,
    "start_time": "2021-11-08T16:54:52.255Z"
   },
   {
    "duration": 56,
    "start_time": "2021-11-08T16:54:52.280Z"
   },
   {
    "duration": 97,
    "start_time": "2021-11-08T16:54:52.338Z"
   },
   {
    "duration": 102,
    "start_time": "2021-11-08T16:54:52.438Z"
   },
   {
    "duration": 86,
    "start_time": "2021-11-08T16:54:52.543Z"
   },
   {
    "duration": 9,
    "start_time": "2021-11-08T16:54:52.631Z"
   },
   {
    "duration": 5,
    "start_time": "2021-11-08T16:54:52.642Z"
   },
   {
    "duration": 15,
    "start_time": "2021-11-08T16:54:52.649Z"
   },
   {
    "duration": 9,
    "start_time": "2021-11-08T16:54:52.666Z"
   },
   {
    "duration": 4,
    "start_time": "2021-11-08T16:54:52.678Z"
   },
   {
    "duration": 42,
    "start_time": "2021-11-08T16:54:52.730Z"
   },
   {
    "duration": 63,
    "start_time": "2021-11-08T16:54:52.775Z"
   },
   {
    "duration": 4,
    "start_time": "2021-11-08T16:54:52.841Z"
   },
   {
    "duration": 1089,
    "start_time": "2021-11-08T16:54:52.848Z"
   },
   {
    "duration": -841,
    "start_time": "2021-11-08T16:54:54.781Z"
   },
   {
    "duration": -851,
    "start_time": "2021-11-08T16:54:54.792Z"
   },
   {
    "duration": -862,
    "start_time": "2021-11-08T16:54:54.805Z"
   },
   {
    "duration": -871,
    "start_time": "2021-11-08T16:54:54.815Z"
   },
   {
    "duration": -878,
    "start_time": "2021-11-08T16:54:54.824Z"
   },
   {
    "duration": -887,
    "start_time": "2021-11-08T16:54:54.834Z"
   },
   {
    "duration": -896,
    "start_time": "2021-11-08T16:54:54.844Z"
   },
   {
    "duration": -922,
    "start_time": "2021-11-08T16:54:54.872Z"
   },
   {
    "duration": -935,
    "start_time": "2021-11-08T16:54:54.886Z"
   },
   {
    "duration": -948,
    "start_time": "2021-11-08T16:54:54.901Z"
   },
   {
    "duration": -959,
    "start_time": "2021-11-08T16:54:54.913Z"
   },
   {
    "duration": -964,
    "start_time": "2021-11-08T16:54:54.920Z"
   },
   {
    "duration": -971,
    "start_time": "2021-11-08T16:54:54.928Z"
   },
   {
    "duration": -976,
    "start_time": "2021-11-08T16:54:54.935Z"
   },
   {
    "duration": -981,
    "start_time": "2021-11-08T16:54:54.941Z"
   },
   {
    "duration": -987,
    "start_time": "2021-11-08T16:54:54.948Z"
   },
   {
    "duration": -992,
    "start_time": "2021-11-08T16:54:54.955Z"
   },
   {
    "duration": 5,
    "start_time": "2021-11-08T16:56:33.497Z"
   },
   {
    "duration": 33,
    "start_time": "2021-11-08T16:56:40.498Z"
   },
   {
    "duration": 5,
    "start_time": "2021-11-08T16:57:23.902Z"
   },
   {
    "duration": 22,
    "start_time": "2021-11-08T16:57:26.657Z"
   },
   {
    "duration": 34,
    "start_time": "2021-11-08T16:59:43.195Z"
   },
   {
    "duration": 4,
    "start_time": "2021-11-08T16:59:46.532Z"
   },
   {
    "duration": 243,
    "start_time": "2021-11-08T16:59:46.539Z"
   },
   {
    "duration": 46,
    "start_time": "2021-11-08T16:59:46.785Z"
   },
   {
    "duration": 41,
    "start_time": "2021-11-08T16:59:46.834Z"
   },
   {
    "duration": 52,
    "start_time": "2021-11-08T16:59:46.878Z"
   },
   {
    "duration": 49,
    "start_time": "2021-11-08T16:59:46.932Z"
   },
   {
    "duration": 19,
    "start_time": "2021-11-08T16:59:46.985Z"
   },
   {
    "duration": 55,
    "start_time": "2021-11-08T16:59:47.007Z"
   },
   {
    "duration": 34,
    "start_time": "2021-11-08T16:59:47.065Z"
   },
   {
    "duration": 51,
    "start_time": "2021-11-08T16:59:47.102Z"
   },
   {
    "duration": 108,
    "start_time": "2021-11-08T16:59:47.156Z"
   },
   {
    "duration": 115,
    "start_time": "2021-11-08T16:59:47.266Z"
   },
   {
    "duration": 98,
    "start_time": "2021-11-08T16:59:47.384Z"
   },
   {
    "duration": 15,
    "start_time": "2021-11-08T16:59:47.485Z"
   },
   {
    "duration": 29,
    "start_time": "2021-11-08T16:59:47.503Z"
   },
   {
    "duration": 37,
    "start_time": "2021-11-08T16:59:47.535Z"
   },
   {
    "duration": 18,
    "start_time": "2021-11-08T16:59:47.575Z"
   },
   {
    "duration": 28,
    "start_time": "2021-11-08T16:59:47.596Z"
   },
   {
    "duration": 71,
    "start_time": "2021-11-08T16:59:47.629Z"
   },
   {
    "duration": 47,
    "start_time": "2021-11-08T16:59:47.704Z"
   },
   {
    "duration": 5,
    "start_time": "2021-11-08T16:59:47.754Z"
   },
   {
    "duration": 29,
    "start_time": "2021-11-08T16:59:47.762Z"
   },
   {
    "duration": 45,
    "start_time": "2021-11-08T16:59:47.793Z"
   },
   {
    "duration": 29,
    "start_time": "2021-11-08T16:59:47.841Z"
   },
   {
    "duration": 58,
    "start_time": "2021-11-08T16:59:47.873Z"
   },
   {
    "duration": 36,
    "start_time": "2021-11-08T16:59:47.935Z"
   },
   {
    "duration": 23,
    "start_time": "2021-11-08T16:59:47.973Z"
   },
   {
    "duration": 4,
    "start_time": "2021-11-08T16:59:48.030Z"
   },
   {
    "duration": 7,
    "start_time": "2021-11-08T16:59:48.036Z"
   },
   {
    "duration": 5,
    "start_time": "2021-11-08T16:59:48.046Z"
   },
   {
    "duration": 15,
    "start_time": "2021-11-08T16:59:48.053Z"
   },
   {
    "duration": 21,
    "start_time": "2021-11-08T16:59:48.070Z"
   },
   {
    "duration": 9,
    "start_time": "2021-11-08T16:59:48.094Z"
   },
   {
    "duration": 18,
    "start_time": "2021-11-08T16:59:48.107Z"
   },
   {
    "duration": 5,
    "start_time": "2021-11-08T16:59:48.128Z"
   },
   {
    "duration": 8,
    "start_time": "2021-11-08T16:59:48.136Z"
   },
   {
    "duration": 5,
    "start_time": "2021-11-08T16:59:48.147Z"
   },
   {
    "duration": 6,
    "start_time": "2021-11-08T16:59:48.155Z"
   },
   {
    "duration": 5,
    "start_time": "2021-11-08T16:59:48.163Z"
   },
   {
    "duration": 259,
    "start_time": "2021-11-08T17:03:27.296Z"
   },
   {
    "duration": 264,
    "start_time": "2021-11-08T17:03:39.714Z"
   },
   {
    "duration": 93,
    "start_time": "2021-11-08T17:07:44.344Z"
   },
   {
    "duration": 103,
    "start_time": "2021-11-08T17:07:48.917Z"
   },
   {
    "duration": 284,
    "start_time": "2021-11-08T17:07:55.308Z"
   },
   {
    "duration": 274,
    "start_time": "2021-11-08T17:08:09.861Z"
   },
   {
    "duration": 13,
    "start_time": "2021-11-08T17:08:37.626Z"
   },
   {
    "duration": 16,
    "start_time": "2021-11-08T17:10:56.020Z"
   },
   {
    "duration": 24,
    "start_time": "2021-11-08T17:11:16.165Z"
   },
   {
    "duration": 26,
    "start_time": "2021-11-08T17:11:41.912Z"
   },
   {
    "duration": 17,
    "start_time": "2021-11-08T17:11:50.421Z"
   },
   {
    "duration": 626,
    "start_time": "2021-11-09T08:02:22.564Z"
   },
   {
    "duration": 149,
    "start_time": "2021-11-09T08:02:23.192Z"
   },
   {
    "duration": 17,
    "start_time": "2021-11-09T08:02:23.343Z"
   },
   {
    "duration": 41,
    "start_time": "2021-11-09T08:02:23.362Z"
   },
   {
    "duration": 8,
    "start_time": "2021-11-09T08:02:23.405Z"
   },
   {
    "duration": 33,
    "start_time": "2021-11-09T08:02:23.415Z"
   },
   {
    "duration": 3,
    "start_time": "2021-11-09T08:02:23.449Z"
   },
   {
    "duration": 32,
    "start_time": "2021-11-09T08:02:23.455Z"
   },
   {
    "duration": 28,
    "start_time": "2021-11-09T08:02:23.489Z"
   },
   {
    "duration": 25,
    "start_time": "2021-11-09T08:02:23.519Z"
   },
   {
    "duration": 64,
    "start_time": "2021-11-09T08:02:23.545Z"
   },
   {
    "duration": 74,
    "start_time": "2021-11-09T08:02:23.611Z"
   },
   {
    "duration": 64,
    "start_time": "2021-11-09T08:02:23.687Z"
   },
   {
    "duration": 6,
    "start_time": "2021-11-09T08:02:23.753Z"
   },
   {
    "duration": 12,
    "start_time": "2021-11-09T08:02:23.761Z"
   },
   {
    "duration": 18,
    "start_time": "2021-11-09T08:02:23.775Z"
   },
   {
    "duration": 24,
    "start_time": "2021-11-09T08:02:23.795Z"
   },
   {
    "duration": 21,
    "start_time": "2021-11-09T08:02:23.820Z"
   },
   {
    "duration": 55,
    "start_time": "2021-11-09T08:02:23.843Z"
   },
   {
    "duration": 33,
    "start_time": "2021-11-09T08:02:23.899Z"
   },
   {
    "duration": 4,
    "start_time": "2021-11-09T08:02:23.934Z"
   },
   {
    "duration": 37,
    "start_time": "2021-11-09T08:02:23.939Z"
   },
   {
    "duration": 16,
    "start_time": "2021-11-09T08:02:23.982Z"
   },
   {
    "duration": 34,
    "start_time": "2021-11-09T08:02:24.001Z"
   },
   {
    "duration": 50,
    "start_time": "2021-11-09T08:02:24.037Z"
   },
   {
    "duration": 30,
    "start_time": "2021-11-09T08:02:24.089Z"
   },
   {
    "duration": 25,
    "start_time": "2021-11-09T08:02:24.121Z"
   },
   {
    "duration": 10,
    "start_time": "2021-11-09T08:02:24.148Z"
   },
   {
    "duration": 19,
    "start_time": "2021-11-09T08:02:24.160Z"
   },
   {
    "duration": 30,
    "start_time": "2021-11-09T08:02:24.181Z"
   },
   {
    "duration": 6,
    "start_time": "2021-11-09T08:02:24.213Z"
   },
   {
    "duration": 25,
    "start_time": "2021-11-09T08:02:24.221Z"
   },
   {
    "duration": 15,
    "start_time": "2021-11-09T08:02:24.248Z"
   },
   {
    "duration": 30,
    "start_time": "2021-11-09T08:02:24.265Z"
   },
   {
    "duration": 13,
    "start_time": "2021-11-09T08:02:24.297Z"
   },
   {
    "duration": 21,
    "start_time": "2021-11-09T08:02:24.312Z"
   },
   {
    "duration": 17,
    "start_time": "2021-11-09T08:02:24.335Z"
   },
   {
    "duration": 20,
    "start_time": "2021-11-09T08:02:24.354Z"
   },
   {
    "duration": 12,
    "start_time": "2021-11-09T08:02:24.376Z"
   },
   {
    "duration": 4,
    "start_time": "2021-11-09T11:09:00.450Z"
   },
   {
    "duration": 5,
    "start_time": "2021-11-09T11:50:35.376Z"
   },
   {
    "duration": 1062,
    "start_time": "2021-11-09T11:50:37.943Z"
   },
   {
    "duration": 19,
    "start_time": "2021-11-09T12:13:57.340Z"
   },
   {
    "duration": 744,
    "start_time": "2021-11-09T12:14:38.750Z"
   },
   {
    "duration": 4,
    "start_time": "2021-11-09T12:15:55.220Z"
   },
   {
    "duration": 4,
    "start_time": "2021-11-09T12:18:08.257Z"
   },
   {
    "duration": 24,
    "start_time": "2021-11-09T12:18:10.936Z"
   },
   {
    "duration": 18,
    "start_time": "2021-11-09T12:35:47.559Z"
   },
   {
    "duration": 25,
    "start_time": "2021-11-09T12:35:50.759Z"
   },
   {
    "duration": 20,
    "start_time": "2021-11-09T12:35:53.926Z"
   },
   {
    "duration": 125,
    "start_time": "2021-11-09T12:40:03.780Z"
   },
   {
    "duration": 31,
    "start_time": "2021-11-09T12:40:27.468Z"
   },
   {
    "duration": 8,
    "start_time": "2021-11-09T12:42:16.579Z"
   },
   {
    "duration": 2139,
    "start_time": "2021-11-09T12:43:41.996Z"
   },
   {
    "duration": 23,
    "start_time": "2021-11-09T12:43:57.036Z"
   },
   {
    "duration": 9,
    "start_time": "2021-11-09T12:44:00.253Z"
   },
   {
    "duration": 503,
    "start_time": "2021-11-09T12:55:58.527Z"
   },
   {
    "duration": 11,
    "start_time": "2021-11-09T12:56:05.743Z"
   },
   {
    "duration": 31,
    "start_time": "2021-11-09T12:56:19.983Z"
   },
   {
    "duration": 11,
    "start_time": "2021-11-09T12:56:29.212Z"
   },
   {
    "duration": 11,
    "start_time": "2021-11-09T12:56:35.294Z"
   },
   {
    "duration": 4,
    "start_time": "2021-11-09T12:57:14.537Z"
   },
   {
    "duration": 6,
    "start_time": "2021-11-09T12:57:31.969Z"
   },
   {
    "duration": 781,
    "start_time": "2021-11-09T12:57:34.695Z"
   },
   {
    "duration": 5,
    "start_time": "2021-11-09T12:57:48.072Z"
   },
   {
    "duration": 25,
    "start_time": "2021-11-09T12:57:52.951Z"
   },
   {
    "duration": 4,
    "start_time": "2021-11-09T12:58:27.449Z"
   },
   {
    "duration": 775,
    "start_time": "2021-11-09T12:58:31.331Z"
   },
   {
    "duration": 4,
    "start_time": "2021-11-09T12:58:46.682Z"
   },
   {
    "duration": 24,
    "start_time": "2021-11-09T12:58:48.640Z"
   },
   {
    "duration": 442,
    "start_time": "2021-11-09T12:59:05.249Z"
   },
   {
    "duration": 30,
    "start_time": "2021-11-09T12:59:14.078Z"
   },
   {
    "duration": 3,
    "start_time": "2021-11-09T13:18:23.280Z"
   },
   {
    "duration": 156,
    "start_time": "2021-11-09T13:18:23.286Z"
   },
   {
    "duration": 11,
    "start_time": "2021-11-09T13:18:23.444Z"
   },
   {
    "duration": 36,
    "start_time": "2021-11-09T13:18:23.458Z"
   },
   {
    "duration": 5,
    "start_time": "2021-11-09T13:18:23.506Z"
   },
   {
    "duration": 36,
    "start_time": "2021-11-09T13:18:23.513Z"
   },
   {
    "duration": 13,
    "start_time": "2021-11-09T13:18:23.552Z"
   },
   {
    "duration": 46,
    "start_time": "2021-11-09T13:18:23.568Z"
   },
   {
    "duration": 22,
    "start_time": "2021-11-09T13:18:23.616Z"
   },
   {
    "duration": 33,
    "start_time": "2021-11-09T13:18:23.640Z"
   },
   {
    "duration": 66,
    "start_time": "2021-11-09T13:18:23.675Z"
   },
   {
    "duration": 84,
    "start_time": "2021-11-09T13:18:23.744Z"
   },
   {
    "duration": 60,
    "start_time": "2021-11-09T13:18:23.830Z"
   },
   {
    "duration": 17,
    "start_time": "2021-11-09T13:18:23.892Z"
   },
   {
    "duration": 14,
    "start_time": "2021-11-09T13:18:23.911Z"
   },
   {
    "duration": 14,
    "start_time": "2021-11-09T13:18:23.926Z"
   },
   {
    "duration": 6,
    "start_time": "2021-11-09T13:18:23.942Z"
   },
   {
    "duration": 7,
    "start_time": "2021-11-09T13:18:23.950Z"
   },
   {
    "duration": 18,
    "start_time": "2021-11-09T13:18:23.960Z"
   },
   {
    "duration": 26,
    "start_time": "2021-11-09T13:18:23.980Z"
   },
   {
    "duration": 4,
    "start_time": "2021-11-09T13:18:25.437Z"
   },
   {
    "duration": 42,
    "start_time": "2021-11-09T13:18:25.443Z"
   },
   {
    "duration": 32,
    "start_time": "2021-11-09T13:18:25.488Z"
   },
   {
    "duration": 18,
    "start_time": "2021-11-09T13:18:25.522Z"
   },
   {
    "duration": 15,
    "start_time": "2021-11-09T13:18:25.542Z"
   },
   {
    "duration": 18,
    "start_time": "2021-11-09T13:18:25.559Z"
   },
   {
    "duration": 36,
    "start_time": "2021-11-09T13:18:25.579Z"
   },
   {
    "duration": 10,
    "start_time": "2021-11-09T13:18:25.617Z"
   },
   {
    "duration": 26,
    "start_time": "2021-11-09T13:18:25.630Z"
   },
   {
    "duration": 13,
    "start_time": "2021-11-09T13:18:25.658Z"
   },
   {
    "duration": 34,
    "start_time": "2021-11-09T13:18:25.673Z"
   },
   {
    "duration": 25,
    "start_time": "2021-11-09T13:18:25.709Z"
   },
   {
    "duration": 19,
    "start_time": "2021-11-09T13:18:25.736Z"
   },
   {
    "duration": 51,
    "start_time": "2021-11-09T13:18:25.756Z"
   },
   {
    "duration": 19,
    "start_time": "2021-11-09T13:18:25.809Z"
   },
   {
    "duration": 34,
    "start_time": "2021-11-09T13:18:25.830Z"
   },
   {
    "duration": 8,
    "start_time": "2021-11-09T13:18:25.866Z"
   },
   {
    "duration": 49,
    "start_time": "2021-11-09T13:18:25.876Z"
   },
   {
    "duration": 8,
    "start_time": "2021-11-09T13:18:25.927Z"
   },
   {
    "duration": 907,
    "start_time": "2021-11-09T14:43:13.853Z"
   },
   {
    "duration": 291,
    "start_time": "2021-11-09T14:43:14.762Z"
   },
   {
    "duration": 16,
    "start_time": "2021-11-09T14:43:15.055Z"
   },
   {
    "duration": 84,
    "start_time": "2021-11-09T14:43:15.073Z"
   },
   {
    "duration": 6,
    "start_time": "2021-11-09T14:43:15.159Z"
   },
   {
    "duration": 82,
    "start_time": "2021-11-09T14:43:15.167Z"
   },
   {
    "duration": 3,
    "start_time": "2021-11-09T14:43:15.251Z"
   },
   {
    "duration": 26,
    "start_time": "2021-11-09T14:43:15.256Z"
   },
   {
    "duration": 76,
    "start_time": "2021-11-09T14:43:15.284Z"
   },
   {
    "duration": 99,
    "start_time": "2021-11-09T14:43:15.362Z"
   },
   {
    "duration": 189,
    "start_time": "2021-11-09T14:43:15.463Z"
   },
   {
    "duration": 198,
    "start_time": "2021-11-09T14:43:15.654Z"
   },
   {
    "duration": 108,
    "start_time": "2021-11-09T14:43:15.854Z"
   },
   {
    "duration": 7,
    "start_time": "2021-11-09T14:43:15.963Z"
   },
   {
    "duration": 4,
    "start_time": "2021-11-09T14:43:15.971Z"
   },
   {
    "duration": 75,
    "start_time": "2021-11-09T14:43:15.976Z"
   },
   {
    "duration": 7,
    "start_time": "2021-11-09T14:43:16.053Z"
   },
   {
    "duration": 17,
    "start_time": "2021-11-09T14:43:16.061Z"
   },
   {
    "duration": 69,
    "start_time": "2021-11-09T14:43:16.080Z"
   },
   {
    "duration": 10,
    "start_time": "2021-11-09T14:43:16.151Z"
   },
   {
    "duration": 4,
    "start_time": "2021-11-09T14:43:16.163Z"
   },
   {
    "duration": 90,
    "start_time": "2021-11-09T14:43:16.169Z"
   },
   {
    "duration": 18,
    "start_time": "2021-11-09T14:43:16.261Z"
   },
   {
    "duration": 74,
    "start_time": "2021-11-09T14:43:16.281Z"
   },
   {
    "duration": 22,
    "start_time": "2021-11-09T14:43:16.356Z"
   },
   {
    "duration": 71,
    "start_time": "2021-11-09T14:43:16.382Z"
   },
   {
    "duration": 16,
    "start_time": "2021-11-09T14:43:16.455Z"
   },
   {
    "duration": 75,
    "start_time": "2021-11-09T14:43:16.473Z"
   },
   {
    "duration": 23,
    "start_time": "2021-11-09T14:43:16.550Z"
   },
   {
    "duration": 70,
    "start_time": "2021-11-09T14:43:16.574Z"
   },
   {
    "duration": 5,
    "start_time": "2021-11-09T14:43:16.646Z"
   },
   {
    "duration": 93,
    "start_time": "2021-11-09T14:43:16.652Z"
   },
   {
    "duration": 19,
    "start_time": "2021-11-09T14:43:16.748Z"
   },
   {
    "duration": 84,
    "start_time": "2021-11-09T14:43:16.768Z"
   },
   {
    "duration": 24,
    "start_time": "2021-11-09T14:43:16.854Z"
   },
   {
    "duration": 99,
    "start_time": "2021-11-09T14:43:16.880Z"
   },
   {
    "duration": 69,
    "start_time": "2021-11-09T14:43:16.981Z"
   },
   {
    "duration": 26,
    "start_time": "2021-11-09T14:43:17.053Z"
   },
   {
    "duration": 64,
    "start_time": "2021-11-09T14:43:17.080Z"
   },
   {
    "duration": 13,
    "start_time": "2021-11-09T14:49:09.314Z"
   },
   {
    "duration": 24,
    "start_time": "2021-11-09T14:49:56.068Z"
   },
   {
    "duration": 4,
    "start_time": "2021-11-09T17:00:42.319Z"
   },
   {
    "duration": 778,
    "start_time": "2021-11-09T17:00:49.232Z"
   },
   {
    "duration": 594,
    "start_time": "2021-11-09T17:01:02.717Z"
   },
   {
    "duration": 191,
    "start_time": "2021-11-09T17:01:03.313Z"
   },
   {
    "duration": 23,
    "start_time": "2021-11-09T17:01:03.507Z"
   },
   {
    "duration": 36,
    "start_time": "2021-11-09T17:01:03.532Z"
   },
   {
    "duration": 8,
    "start_time": "2021-11-09T17:01:03.570Z"
   },
   {
    "duration": 33,
    "start_time": "2021-11-09T17:01:03.580Z"
   },
   {
    "duration": 26,
    "start_time": "2021-11-09T17:01:03.616Z"
   },
   {
    "duration": 43,
    "start_time": "2021-11-09T17:01:03.644Z"
   },
   {
    "duration": 20,
    "start_time": "2021-11-09T17:01:03.690Z"
   },
   {
    "duration": 31,
    "start_time": "2021-11-09T17:01:03.712Z"
   },
   {
    "duration": 69,
    "start_time": "2021-11-09T17:01:03.745Z"
   },
   {
    "duration": 85,
    "start_time": "2021-11-09T17:01:03.816Z"
   },
   {
    "duration": 64,
    "start_time": "2021-11-09T17:01:03.903Z"
   },
   {
    "duration": 7,
    "start_time": "2021-11-09T17:01:03.969Z"
   },
   {
    "duration": 26,
    "start_time": "2021-11-09T17:01:03.977Z"
   },
   {
    "duration": 33,
    "start_time": "2021-11-09T17:01:04.005Z"
   },
   {
    "duration": 7,
    "start_time": "2021-11-09T17:01:04.040Z"
   },
   {
    "duration": 13,
    "start_time": "2021-11-09T17:01:04.049Z"
   },
   {
    "duration": 39,
    "start_time": "2021-11-09T17:01:04.064Z"
   },
   {
    "duration": 29,
    "start_time": "2021-11-09T17:01:04.104Z"
   },
   {
    "duration": 26,
    "start_time": "2021-11-09T17:01:04.135Z"
   },
   {
    "duration": 60,
    "start_time": "2021-11-09T17:01:04.163Z"
   },
   {
    "duration": 16,
    "start_time": "2021-11-09T17:01:04.226Z"
   },
   {
    "duration": 35,
    "start_time": "2021-11-09T17:01:04.244Z"
   },
   {
    "duration": 19,
    "start_time": "2021-11-09T17:01:04.281Z"
   },
   {
    "duration": 27,
    "start_time": "2021-11-09T17:01:04.302Z"
   },
   {
    "duration": 24,
    "start_time": "2021-11-09T17:01:04.331Z"
   },
   {
    "duration": 13,
    "start_time": "2021-11-09T17:01:04.357Z"
   },
   {
    "duration": 35,
    "start_time": "2021-11-09T17:01:04.371Z"
   },
   {
    "duration": 10,
    "start_time": "2021-11-09T17:01:04.408Z"
   },
   {
    "duration": 19,
    "start_time": "2021-11-09T17:01:04.419Z"
   },
   {
    "duration": 49,
    "start_time": "2021-11-09T17:01:04.440Z"
   },
   {
    "duration": 18,
    "start_time": "2021-11-09T17:01:04.491Z"
   },
   {
    "duration": 37,
    "start_time": "2021-11-09T17:01:04.510Z"
   },
   {
    "duration": 26,
    "start_time": "2021-11-09T17:01:04.549Z"
   },
   {
    "duration": 36,
    "start_time": "2021-11-09T17:01:04.576Z"
   },
   {
    "duration": 9,
    "start_time": "2021-11-09T17:01:04.613Z"
   },
   {
    "duration": 44,
    "start_time": "2021-11-09T17:01:04.623Z"
   },
   {
    "duration": 8,
    "start_time": "2021-11-09T17:01:04.669Z"
   },
   {
    "duration": 4,
    "start_time": "2021-11-09T17:34:04.131Z"
   },
   {
    "duration": 502,
    "start_time": "2021-11-09T17:34:23.717Z"
   },
   {
    "duration": 5,
    "start_time": "2021-11-09T17:34:42.065Z"
   },
   {
    "duration": 3,
    "start_time": "2021-11-09T17:34:44.135Z"
   },
   {
    "duration": 29,
    "start_time": "2021-11-09T17:34:46.998Z"
   },
   {
    "duration": 13,
    "start_time": "2021-11-09T17:35:02.364Z"
   },
   {
    "duration": 19,
    "start_time": "2021-11-09T17:35:53.274Z"
   },
   {
    "duration": 14,
    "start_time": "2021-11-09T17:35:58.511Z"
   },
   {
    "duration": 83,
    "start_time": "2021-11-09T17:37:58.175Z"
   },
   {
    "duration": 274,
    "start_time": "2021-11-09T17:41:12.197Z"
   },
   {
    "duration": 11,
    "start_time": "2021-11-09T17:41:22.026Z"
   },
   {
    "duration": 11,
    "start_time": "2021-11-09T17:42:12.737Z"
   },
   {
    "duration": 6,
    "start_time": "2021-11-09T17:42:19.751Z"
   },
   {
    "duration": 5,
    "start_time": "2021-11-09T17:42:30.997Z"
   },
   {
    "duration": 9,
    "start_time": "2021-11-09T17:43:02.107Z"
   },
   {
    "duration": 9,
    "start_time": "2021-11-09T17:43:16.639Z"
   },
   {
    "duration": 5,
    "start_time": "2021-11-09T17:43:20.756Z"
   },
   {
    "duration": 10,
    "start_time": "2021-11-09T17:43:44.248Z"
   },
   {
    "duration": 5,
    "start_time": "2021-11-09T17:43:47.323Z"
   },
   {
    "duration": 596,
    "start_time": "2021-11-09T20:18:50.878Z"
   },
   {
    "duration": 140,
    "start_time": "2021-11-09T20:18:51.476Z"
   },
   {
    "duration": 25,
    "start_time": "2021-11-09T20:18:51.620Z"
   },
   {
    "duration": 28,
    "start_time": "2021-11-09T20:18:51.648Z"
   },
   {
    "duration": 11,
    "start_time": "2021-11-09T20:18:51.678Z"
   },
   {
    "duration": 36,
    "start_time": "2021-11-09T20:18:51.691Z"
   },
   {
    "duration": 17,
    "start_time": "2021-11-09T20:18:51.730Z"
   },
   {
    "duration": 29,
    "start_time": "2021-11-09T20:18:51.749Z"
   },
   {
    "duration": 22,
    "start_time": "2021-11-09T20:18:51.779Z"
   },
   {
    "duration": 3,
    "start_time": "2021-11-09T20:18:51.802Z"
   },
   {
    "duration": 32,
    "start_time": "2021-11-09T20:18:51.806Z"
   },
   {
    "duration": 59,
    "start_time": "2021-11-09T20:18:51.840Z"
   },
   {
    "duration": 73,
    "start_time": "2021-11-09T20:18:51.901Z"
   },
   {
    "duration": 51,
    "start_time": "2021-11-09T20:18:51.975Z"
   },
   {
    "duration": 18,
    "start_time": "2021-11-09T20:18:52.028Z"
   },
   {
    "duration": 3,
    "start_time": "2021-11-09T20:18:52.048Z"
   },
   {
    "duration": 11,
    "start_time": "2021-11-09T20:18:52.053Z"
   },
   {
    "duration": 7,
    "start_time": "2021-11-09T20:18:52.065Z"
   },
   {
    "duration": 3,
    "start_time": "2021-11-09T20:18:52.073Z"
   },
   {
    "duration": 12,
    "start_time": "2021-11-09T20:18:52.078Z"
   },
   {
    "duration": 11,
    "start_time": "2021-11-09T20:18:52.092Z"
   },
   {
    "duration": 39,
    "start_time": "2021-11-09T20:18:52.106Z"
   },
   {
    "duration": 23,
    "start_time": "2021-11-09T20:18:52.147Z"
   },
   {
    "duration": 14,
    "start_time": "2021-11-09T20:18:52.171Z"
   },
   {
    "duration": 21,
    "start_time": "2021-11-09T20:18:52.187Z"
   },
   {
    "duration": 14,
    "start_time": "2021-11-09T20:18:52.209Z"
   },
   {
    "duration": 28,
    "start_time": "2021-11-09T20:18:52.225Z"
   },
   {
    "duration": 12,
    "start_time": "2021-11-09T20:18:52.255Z"
   },
   {
    "duration": 8,
    "start_time": "2021-11-09T20:18:52.269Z"
   },
   {
    "duration": 21,
    "start_time": "2021-11-09T20:18:52.279Z"
   },
   {
    "duration": 8,
    "start_time": "2021-11-09T20:18:52.302Z"
   },
   {
    "duration": 36,
    "start_time": "2021-11-09T20:18:52.311Z"
   },
   {
    "duration": 26,
    "start_time": "2021-11-09T20:18:52.349Z"
   },
   {
    "duration": 11,
    "start_time": "2021-11-09T20:18:52.377Z"
   },
   {
    "duration": 16,
    "start_time": "2021-11-09T20:18:52.390Z"
   },
   {
    "duration": 12,
    "start_time": "2021-11-09T20:18:52.407Z"
   },
   {
    "duration": 30,
    "start_time": "2021-11-09T20:18:52.421Z"
   },
   {
    "duration": 4,
    "start_time": "2021-11-09T20:18:52.453Z"
   },
   {
    "duration": 8,
    "start_time": "2021-11-09T20:18:52.459Z"
   },
   {
    "duration": 5,
    "start_time": "2021-11-09T20:18:52.468Z"
   },
   {
    "duration": 437,
    "start_time": "2021-11-10T10:04:12.812Z"
   },
   {
    "duration": 808,
    "start_time": "2021-11-10T10:04:39.900Z"
   },
   {
    "duration": 180,
    "start_time": "2021-11-10T10:04:40.710Z"
   },
   {
    "duration": 24,
    "start_time": "2021-11-10T10:04:40.893Z"
   },
   {
    "duration": 35,
    "start_time": "2021-11-10T10:04:40.919Z"
   },
   {
    "duration": 5,
    "start_time": "2021-11-10T10:04:40.956Z"
   },
   {
    "duration": 27,
    "start_time": "2021-11-10T10:04:40.963Z"
   },
   {
    "duration": 4,
    "start_time": "2021-11-10T10:04:40.993Z"
   },
   {
    "duration": 29,
    "start_time": "2021-11-10T10:04:41.000Z"
   },
   {
    "duration": 30,
    "start_time": "2021-11-10T10:04:41.033Z"
   },
   {
    "duration": 3,
    "start_time": "2021-11-10T10:04:41.066Z"
   },
   {
    "duration": 32,
    "start_time": "2021-11-10T10:04:41.073Z"
   },
   {
    "duration": 123,
    "start_time": "2021-11-10T10:04:41.108Z"
   },
   {
    "duration": 100,
    "start_time": "2021-11-10T10:04:41.234Z"
   },
   {
    "duration": 71,
    "start_time": "2021-11-10T10:04:41.337Z"
   },
   {
    "duration": 7,
    "start_time": "2021-11-10T10:04:41.410Z"
   },
   {
    "duration": 6,
    "start_time": "2021-11-10T10:04:41.419Z"
   },
   {
    "duration": 16,
    "start_time": "2021-11-10T10:04:41.427Z"
   },
   {
    "duration": 16,
    "start_time": "2021-11-10T10:04:41.446Z"
   },
   {
    "duration": 2,
    "start_time": "2021-11-10T10:04:41.464Z"
   },
   {
    "duration": 17,
    "start_time": "2021-11-10T10:04:41.468Z"
   },
   {
    "duration": 12,
    "start_time": "2021-11-10T10:04:41.487Z"
   },
   {
    "duration": 4,
    "start_time": "2021-11-10T10:04:41.501Z"
   },
   {
    "duration": 21,
    "start_time": "2021-11-10T10:04:41.509Z"
   },
   {
    "duration": 42,
    "start_time": "2021-11-10T10:04:41.533Z"
   },
   {
    "duration": 17,
    "start_time": "2021-11-10T10:04:41.577Z"
   },
   {
    "duration": 71,
    "start_time": "2021-11-10T10:04:41.596Z"
   },
   {
    "duration": 21,
    "start_time": "2021-11-10T10:04:41.669Z"
   },
   {
    "duration": 16,
    "start_time": "2021-11-10T10:04:41.693Z"
   },
   {
    "duration": 12,
    "start_time": "2021-11-10T10:04:41.712Z"
   },
   {
    "duration": 48,
    "start_time": "2021-11-10T10:04:41.727Z"
   },
   {
    "duration": 13,
    "start_time": "2021-11-10T10:04:41.904Z"
   },
   {
    "duration": 5,
    "start_time": "2021-11-10T10:04:41.920Z"
   },
   {
    "duration": 36,
    "start_time": "2021-11-10T10:04:41.928Z"
   },
   {
    "duration": 17,
    "start_time": "2021-11-10T10:04:41.966Z"
   },
   {
    "duration": 80,
    "start_time": "2021-11-10T10:04:41.985Z"
   },
   {
    "duration": 16,
    "start_time": "2021-11-10T10:04:42.068Z"
   },
   {
    "duration": 14,
    "start_time": "2021-11-10T10:04:42.086Z"
   },
   {
    "duration": 58,
    "start_time": "2021-11-10T10:04:42.104Z"
   },
   {
    "duration": 10,
    "start_time": "2021-11-10T10:04:42.164Z"
   },
   {
    "duration": 6,
    "start_time": "2021-11-10T10:04:42.176Z"
   },
   {
    "duration": 23,
    "start_time": "2021-11-10T10:05:38.287Z"
   },
   {
    "duration": 27,
    "start_time": "2021-11-10T10:05:44.574Z"
   },
   {
    "duration": 139,
    "start_time": "2021-11-10T10:06:47.847Z"
   }
  ],
  "colab": {
   "collapsed_sections": [
    "E0vqbgi9ay0H",
    "VUC88oWjTJw2"
   ],
   "name": "yandex_music_project_2021.2.ipynb",
   "provenance": []
  },
  "kernelspec": {
   "display_name": "Python 3 (ipykernel)",
   "language": "python",
   "name": "python3"
  },
  "language_info": {
   "codemirror_mode": {
    "name": "ipython",
    "version": 3
   },
   "file_extension": ".py",
   "mimetype": "text/x-python",
   "name": "python",
   "nbconvert_exporter": "python",
   "pygments_lexer": "ipython3",
   "version": "3.9.7"
  },
  "toc": {
   "base_numbering": 1,
   "nav_menu": {},
   "number_sections": true,
   "sideBar": true,
   "skip_h1_title": true,
   "title_cell": "Table of Contents",
   "title_sidebar": "Contents",
   "toc_cell": false,
   "toc_position": {
    "height": "calc(100% - 180px)",
    "left": "10px",
    "top": "150px",
    "width": "165px"
   },
   "toc_section_display": true,
   "toc_window_display": true
  }
 },
 "nbformat": 4,
 "nbformat_minor": 1
}
