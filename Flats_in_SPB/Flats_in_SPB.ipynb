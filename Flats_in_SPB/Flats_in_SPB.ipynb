{
 "cells": [
  {
   "cell_type": "markdown",
   "metadata": {
    "toc": true
   },
   "source": [
    "<h1>Содержание<span class=\"tocSkip\"></span></h1>\n",
    "<div class=\"toc\"><ul class=\"toc-item\"><li><span><a href=\"#Загрузка-и-обзор-данных.\" data-toc-modified-id=\"Загрузка-и-обзор-данных.-1\"><span class=\"toc-item-num\">1&nbsp;&nbsp;</span>Загрузка и обзор данных.</a></span><ul class=\"toc-item\"><li><span><a href=\"#Вывод\" data-toc-modified-id=\"Вывод-1.1\"><span class=\"toc-item-num\">1.1&nbsp;&nbsp;</span>Вывод</a></span></li></ul></li><li><span><a href=\"#Предобработка-данных\" data-toc-modified-id=\"Предобработка-данных-2\"><span class=\"toc-item-num\">2&nbsp;&nbsp;</span>Предобработка данных</a></span></li><li><span><a href=\"#Расчёты-и-добавление-результатов-в-таблицу\" data-toc-modified-id=\"Расчёты-и-добавление-результатов-в-таблицу-3\"><span class=\"toc-item-num\">3&nbsp;&nbsp;</span>Расчёты и добавление результатов в таблицу</a></span></li><li><span><a href=\"#Исследовательский-анализ-данных\" data-toc-modified-id=\"Исследовательский-анализ-данных-4\"><span class=\"toc-item-num\">4&nbsp;&nbsp;</span>Исследовательский анализ данных</a></span><ul class=\"toc-item\"><li><span><a href=\"#Площадь,-цена,-число-комнат,-высота-потолков\" data-toc-modified-id=\"Площадь,-цена,-число-комнат,-высота-потолков-4.1\"><span class=\"toc-item-num\">4.1&nbsp;&nbsp;</span>Площадь, цена, число комнат, высота потолков</a></span></li><li><span><a href=\"#Время-продажи-квартиры\" data-toc-modified-id=\"Время-продажи-квартиры-4.2\"><span class=\"toc-item-num\">4.2&nbsp;&nbsp;</span>Время продажи квартиры</a></span></li><li><span><a href=\"#Зависимость-стоимости-квартиры-от-различных-факторов\" data-toc-modified-id=\"Зависимость-стоимости-квартиры-от-различных-факторов-4.3\"><span class=\"toc-item-num\">4.3&nbsp;&nbsp;</span>Зависимость стоимости квартиры от различных факторов</a></span></li><li><span><a href=\"#10-населённых-пунктов\" data-toc-modified-id=\"10-населённых-пунктов-4.4\"><span class=\"toc-item-num\">4.4&nbsp;&nbsp;</span>10 населённых пунктов</a></span></li><li><span><a href=\"#Квартиры-в-Санкт-Петербурге\" data-toc-modified-id=\"Квартиры-в-Санкт-Петербурге-4.5\"><span class=\"toc-item-num\">4.5&nbsp;&nbsp;</span>Квартиры в Санкт-Петербурге</a></span></li><li><span><a href=\"#Квартиры-в-центре\" data-toc-modified-id=\"Квартиры-в-центре-4.6\"><span class=\"toc-item-num\">4.6&nbsp;&nbsp;</span>Квартиры в центре</a></span></li></ul></li><li><span><a href=\"#Общий-вывод\" data-toc-modified-id=\"Общий-вывод-5\"><span class=\"toc-item-num\">5&nbsp;&nbsp;</span>Общий вывод</a></span></li></ul></div>"
   ]
  },
  {
   "cell_type": "markdown",
   "metadata": {},
   "source": [
    "## Загрузка и обзор данных."
   ]
  },
  {
   "cell_type": "markdown",
   "metadata": {},
   "source": [
    "Подключение библиотек"
   ]
  },
  {
   "cell_type": "code",
   "execution_count": 1,
   "metadata": {},
   "outputs": [],
   "source": [
    "import pandas as pd\n",
    "import matplotlib.pyplot as plt"
   ]
  },
  {
   "cell_type": "markdown",
   "metadata": {},
   "source": [
    "Функция для обзора и отображания информации о данных"
   ]
  },
  {
   "cell_type": "code",
   "execution_count": 2,
   "metadata": {},
   "outputs": [],
   "source": [
    "def table_info (df):\n",
    "    display(df.sample(10)) #10 случайных строк\n",
    "    print('---------------')\n",
    "    df.info() #инфо по столбцам\n",
    "    print('---------------')\n",
    "    print('Дубликатов:', df.duplicated().sum()) #кол-во дубликатов\n",
    "    print('---------------')\n",
    "    print('Пропущенных значений', df.isna().sum()) #кол-во пропущенных значений"
   ]
  },
  {
   "cell_type": "markdown",
   "metadata": {},
   "source": [
    "Функция для разделения квартир на категории в соответсвии с этажем расположения. "
   ]
  },
  {
   "cell_type": "code",
   "execution_count": 3,
   "metadata": {},
   "outputs": [],
   "source": [
    "def floor_grouper(data):\n",
    "    if data['floor'] == 1:\n",
    "        return 'первый'\n",
    "    elif (data['floors_total'] == data['floor']):\n",
    "        return 'последний'\n",
    "    else:\n",
    "        return 'другой'"
   ]
  },
  {
   "cell_type": "markdown",
   "metadata": {},
   "source": [
    "Функция для отображения распределения в столбцах."
   ]
  },
  {
   "cell_type": "code",
   "execution_count": 4,
   "metadata": {},
   "outputs": [],
   "source": [
    "def distribution (df):\n",
    "    print(df.describe())\n",
    "    print(df.hist(bins=100))"
   ]
  },
  {
   "cell_type": "markdown",
   "metadata": {},
   "source": [
    "Рассмотрим данные.\n",
    "Пропуски в стобцах:ceiling_height(высота потолков), floors_total(всего этажей в доме), is_apartment(апартаменты),kitchen_area(площадь кухни), balcony(балкон), locality_name(населенный пункт), airports_nearest(ближ.аэропорт), cityCenters_nearest(растояние до центра), parks_around3000(число парков в радиусе 3км), ponds_around3000(число водоем в радиусе 3км), ponds_nearest(до ближ.водоема),days_exposition(сколько дней об-ние было актуально)"
   ]
  },
  {
   "cell_type": "code",
   "execution_count": 5,
   "metadata": {
    "scrolled": false
   },
   "outputs": [
    {
     "data": {
      "text/html": [
       "<div>\n",
       "<style scoped>\n",
       "    .dataframe tbody tr th:only-of-type {\n",
       "        vertical-align: middle;\n",
       "    }\n",
       "\n",
       "    .dataframe tbody tr th {\n",
       "        vertical-align: top;\n",
       "    }\n",
       "\n",
       "    .dataframe thead th {\n",
       "        text-align: right;\n",
       "    }\n",
       "</style>\n",
       "<table border=\"1\" class=\"dataframe\">\n",
       "  <thead>\n",
       "    <tr style=\"text-align: right;\">\n",
       "      <th></th>\n",
       "      <th>total_images</th>\n",
       "      <th>last_price</th>\n",
       "      <th>total_area</th>\n",
       "      <th>first_day_exposition</th>\n",
       "      <th>rooms</th>\n",
       "      <th>ceiling_height</th>\n",
       "      <th>floors_total</th>\n",
       "      <th>living_area</th>\n",
       "      <th>floor</th>\n",
       "      <th>is_apartment</th>\n",
       "      <th>...</th>\n",
       "      <th>kitchen_area</th>\n",
       "      <th>balcony</th>\n",
       "      <th>locality_name</th>\n",
       "      <th>airports_nearest</th>\n",
       "      <th>cityCenters_nearest</th>\n",
       "      <th>parks_around3000</th>\n",
       "      <th>parks_nearest</th>\n",
       "      <th>ponds_around3000</th>\n",
       "      <th>ponds_nearest</th>\n",
       "      <th>days_exposition</th>\n",
       "    </tr>\n",
       "  </thead>\n",
       "  <tbody>\n",
       "    <tr>\n",
       "      <th>12760</th>\n",
       "      <td>0</td>\n",
       "      <td>3350000.0</td>\n",
       "      <td>51.00</td>\n",
       "      <td>2015-01-22T00:00:00</td>\n",
       "      <td>2</td>\n",
       "      <td>2.50</td>\n",
       "      <td>12.0</td>\n",
       "      <td>30.0</td>\n",
       "      <td>10</td>\n",
       "      <td>NaN</td>\n",
       "      <td>...</td>\n",
       "      <td>NaN</td>\n",
       "      <td>2.0</td>\n",
       "      <td>Коммунар</td>\n",
       "      <td>NaN</td>\n",
       "      <td>NaN</td>\n",
       "      <td>NaN</td>\n",
       "      <td>NaN</td>\n",
       "      <td>NaN</td>\n",
       "      <td>NaN</td>\n",
       "      <td>521.0</td>\n",
       "    </tr>\n",
       "    <tr>\n",
       "      <th>15929</th>\n",
       "      <td>6</td>\n",
       "      <td>2940000.0</td>\n",
       "      <td>33.09</td>\n",
       "      <td>2016-08-24T00:00:00</td>\n",
       "      <td>1</td>\n",
       "      <td>NaN</td>\n",
       "      <td>25.0</td>\n",
       "      <td>NaN</td>\n",
       "      <td>18</td>\n",
       "      <td>NaN</td>\n",
       "      <td>...</td>\n",
       "      <td>8.0</td>\n",
       "      <td>0.0</td>\n",
       "      <td>деревня Кудрово</td>\n",
       "      <td>NaN</td>\n",
       "      <td>NaN</td>\n",
       "      <td>NaN</td>\n",
       "      <td>NaN</td>\n",
       "      <td>NaN</td>\n",
       "      <td>NaN</td>\n",
       "      <td>311.0</td>\n",
       "    </tr>\n",
       "    <tr>\n",
       "      <th>10559</th>\n",
       "      <td>8</td>\n",
       "      <td>5865000.0</td>\n",
       "      <td>42.00</td>\n",
       "      <td>2016-06-09T00:00:00</td>\n",
       "      <td>1</td>\n",
       "      <td>NaN</td>\n",
       "      <td>11.0</td>\n",
       "      <td>12.0</td>\n",
       "      <td>9</td>\n",
       "      <td>NaN</td>\n",
       "      <td>...</td>\n",
       "      <td>17.0</td>\n",
       "      <td>2.0</td>\n",
       "      <td>Санкт-Петербург</td>\n",
       "      <td>24151.0</td>\n",
       "      <td>5777.0</td>\n",
       "      <td>1.0</td>\n",
       "      <td>1272.0</td>\n",
       "      <td>2.0</td>\n",
       "      <td>407.0</td>\n",
       "      <td>593.0</td>\n",
       "    </tr>\n",
       "    <tr>\n",
       "      <th>1441</th>\n",
       "      <td>19</td>\n",
       "      <td>8500000.0</td>\n",
       "      <td>76.70</td>\n",
       "      <td>2018-07-11T00:00:00</td>\n",
       "      <td>3</td>\n",
       "      <td>2.60</td>\n",
       "      <td>14.0</td>\n",
       "      <td>NaN</td>\n",
       "      <td>7</td>\n",
       "      <td>NaN</td>\n",
       "      <td>...</td>\n",
       "      <td>NaN</td>\n",
       "      <td>NaN</td>\n",
       "      <td>Санкт-Петербург</td>\n",
       "      <td>45076.0</td>\n",
       "      <td>17799.0</td>\n",
       "      <td>0.0</td>\n",
       "      <td>NaN</td>\n",
       "      <td>0.0</td>\n",
       "      <td>NaN</td>\n",
       "      <td>18.0</td>\n",
       "    </tr>\n",
       "    <tr>\n",
       "      <th>7799</th>\n",
       "      <td>6</td>\n",
       "      <td>14000000.0</td>\n",
       "      <td>170.00</td>\n",
       "      <td>2018-10-24T00:00:00</td>\n",
       "      <td>5</td>\n",
       "      <td>2.95</td>\n",
       "      <td>3.0</td>\n",
       "      <td>120.0</td>\n",
       "      <td>3</td>\n",
       "      <td>False</td>\n",
       "      <td>...</td>\n",
       "      <td>30.0</td>\n",
       "      <td>1.0</td>\n",
       "      <td>деревня Новое Девяткино</td>\n",
       "      <td>NaN</td>\n",
       "      <td>NaN</td>\n",
       "      <td>NaN</td>\n",
       "      <td>NaN</td>\n",
       "      <td>NaN</td>\n",
       "      <td>NaN</td>\n",
       "      <td>85.0</td>\n",
       "    </tr>\n",
       "    <tr>\n",
       "      <th>6633</th>\n",
       "      <td>17</td>\n",
       "      <td>5210000.0</td>\n",
       "      <td>59.00</td>\n",
       "      <td>2017-02-08T00:00:00</td>\n",
       "      <td>3</td>\n",
       "      <td>2.60</td>\n",
       "      <td>5.0</td>\n",
       "      <td>40.0</td>\n",
       "      <td>5</td>\n",
       "      <td>NaN</td>\n",
       "      <td>...</td>\n",
       "      <td>5.0</td>\n",
       "      <td>1.0</td>\n",
       "      <td>Санкт-Петербург</td>\n",
       "      <td>40065.0</td>\n",
       "      <td>9324.0</td>\n",
       "      <td>1.0</td>\n",
       "      <td>440.0</td>\n",
       "      <td>0.0</td>\n",
       "      <td>NaN</td>\n",
       "      <td>215.0</td>\n",
       "    </tr>\n",
       "    <tr>\n",
       "      <th>19127</th>\n",
       "      <td>9</td>\n",
       "      <td>4000000.0</td>\n",
       "      <td>57.00</td>\n",
       "      <td>2017-11-09T00:00:00</td>\n",
       "      <td>2</td>\n",
       "      <td>3.20</td>\n",
       "      <td>4.0</td>\n",
       "      <td>27.0</td>\n",
       "      <td>1</td>\n",
       "      <td>NaN</td>\n",
       "      <td>...</td>\n",
       "      <td>20.0</td>\n",
       "      <td>1.0</td>\n",
       "      <td>Отрадное</td>\n",
       "      <td>NaN</td>\n",
       "      <td>NaN</td>\n",
       "      <td>NaN</td>\n",
       "      <td>NaN</td>\n",
       "      <td>NaN</td>\n",
       "      <td>NaN</td>\n",
       "      <td>137.0</td>\n",
       "    </tr>\n",
       "    <tr>\n",
       "      <th>17532</th>\n",
       "      <td>9</td>\n",
       "      <td>4590000.0</td>\n",
       "      <td>73.20</td>\n",
       "      <td>2018-10-08T00:00:00</td>\n",
       "      <td>4</td>\n",
       "      <td>NaN</td>\n",
       "      <td>9.0</td>\n",
       "      <td>48.2</td>\n",
       "      <td>4</td>\n",
       "      <td>NaN</td>\n",
       "      <td>...</td>\n",
       "      <td>6.2</td>\n",
       "      <td>1.0</td>\n",
       "      <td>Колпино</td>\n",
       "      <td>25374.0</td>\n",
       "      <td>31160.0</td>\n",
       "      <td>1.0</td>\n",
       "      <td>180.0</td>\n",
       "      <td>0.0</td>\n",
       "      <td>NaN</td>\n",
       "      <td>74.0</td>\n",
       "    </tr>\n",
       "    <tr>\n",
       "      <th>11395</th>\n",
       "      <td>20</td>\n",
       "      <td>6295000.0</td>\n",
       "      <td>57.20</td>\n",
       "      <td>2019-01-17T00:00:00</td>\n",
       "      <td>2</td>\n",
       "      <td>2.60</td>\n",
       "      <td>10.0</td>\n",
       "      <td>40.5</td>\n",
       "      <td>10</td>\n",
       "      <td>NaN</td>\n",
       "      <td>...</td>\n",
       "      <td>15.5</td>\n",
       "      <td>4.0</td>\n",
       "      <td>Санкт-Петербург</td>\n",
       "      <td>29727.0</td>\n",
       "      <td>13949.0</td>\n",
       "      <td>0.0</td>\n",
       "      <td>NaN</td>\n",
       "      <td>0.0</td>\n",
       "      <td>NaN</td>\n",
       "      <td>97.0</td>\n",
       "    </tr>\n",
       "    <tr>\n",
       "      <th>22117</th>\n",
       "      <td>7</td>\n",
       "      <td>7907820.0</td>\n",
       "      <td>68.00</td>\n",
       "      <td>2017-04-20T00:00:00</td>\n",
       "      <td>2</td>\n",
       "      <td>NaN</td>\n",
       "      <td>11.0</td>\n",
       "      <td>32.0</td>\n",
       "      <td>3</td>\n",
       "      <td>NaN</td>\n",
       "      <td>...</td>\n",
       "      <td>16.0</td>\n",
       "      <td>0.0</td>\n",
       "      <td>Санкт-Петербург</td>\n",
       "      <td>23363.0</td>\n",
       "      <td>5853.0</td>\n",
       "      <td>0.0</td>\n",
       "      <td>NaN</td>\n",
       "      <td>2.0</td>\n",
       "      <td>557.0</td>\n",
       "      <td>188.0</td>\n",
       "    </tr>\n",
       "  </tbody>\n",
       "</table>\n",
       "<p>10 rows × 22 columns</p>\n",
       "</div>"
      ],
      "text/plain": [
       "       total_images  last_price  total_area first_day_exposition  rooms  \\\n",
       "12760             0   3350000.0       51.00  2015-01-22T00:00:00      2   \n",
       "15929             6   2940000.0       33.09  2016-08-24T00:00:00      1   \n",
       "10559             8   5865000.0       42.00  2016-06-09T00:00:00      1   \n",
       "1441             19   8500000.0       76.70  2018-07-11T00:00:00      3   \n",
       "7799              6  14000000.0      170.00  2018-10-24T00:00:00      5   \n",
       "6633             17   5210000.0       59.00  2017-02-08T00:00:00      3   \n",
       "19127             9   4000000.0       57.00  2017-11-09T00:00:00      2   \n",
       "17532             9   4590000.0       73.20  2018-10-08T00:00:00      4   \n",
       "11395            20   6295000.0       57.20  2019-01-17T00:00:00      2   \n",
       "22117             7   7907820.0       68.00  2017-04-20T00:00:00      2   \n",
       "\n",
       "       ceiling_height  floors_total  living_area  floor is_apartment  ...  \\\n",
       "12760            2.50          12.0         30.0     10          NaN  ...   \n",
       "15929             NaN          25.0          NaN     18          NaN  ...   \n",
       "10559             NaN          11.0         12.0      9          NaN  ...   \n",
       "1441             2.60          14.0          NaN      7          NaN  ...   \n",
       "7799             2.95           3.0        120.0      3        False  ...   \n",
       "6633             2.60           5.0         40.0      5          NaN  ...   \n",
       "19127            3.20           4.0         27.0      1          NaN  ...   \n",
       "17532             NaN           9.0         48.2      4          NaN  ...   \n",
       "11395            2.60          10.0         40.5     10          NaN  ...   \n",
       "22117             NaN          11.0         32.0      3          NaN  ...   \n",
       "\n",
       "       kitchen_area  balcony            locality_name  airports_nearest  \\\n",
       "12760           NaN      2.0                 Коммунар               NaN   \n",
       "15929           8.0      0.0          деревня Кудрово               NaN   \n",
       "10559          17.0      2.0          Санкт-Петербург           24151.0   \n",
       "1441            NaN      NaN          Санкт-Петербург           45076.0   \n",
       "7799           30.0      1.0  деревня Новое Девяткино               NaN   \n",
       "6633            5.0      1.0          Санкт-Петербург           40065.0   \n",
       "19127          20.0      1.0                 Отрадное               NaN   \n",
       "17532           6.2      1.0                  Колпино           25374.0   \n",
       "11395          15.5      4.0          Санкт-Петербург           29727.0   \n",
       "22117          16.0      0.0          Санкт-Петербург           23363.0   \n",
       "\n",
       "      cityCenters_nearest  parks_around3000  parks_nearest  ponds_around3000  \\\n",
       "12760                 NaN               NaN            NaN               NaN   \n",
       "15929                 NaN               NaN            NaN               NaN   \n",
       "10559              5777.0               1.0         1272.0               2.0   \n",
       "1441              17799.0               0.0            NaN               0.0   \n",
       "7799                  NaN               NaN            NaN               NaN   \n",
       "6633               9324.0               1.0          440.0               0.0   \n",
       "19127                 NaN               NaN            NaN               NaN   \n",
       "17532             31160.0               1.0          180.0               0.0   \n",
       "11395             13949.0               0.0            NaN               0.0   \n",
       "22117              5853.0               0.0            NaN               2.0   \n",
       "\n",
       "       ponds_nearest  days_exposition  \n",
       "12760            NaN            521.0  \n",
       "15929            NaN            311.0  \n",
       "10559          407.0            593.0  \n",
       "1441             NaN             18.0  \n",
       "7799             NaN             85.0  \n",
       "6633             NaN            215.0  \n",
       "19127            NaN            137.0  \n",
       "17532            NaN             74.0  \n",
       "11395            NaN             97.0  \n",
       "22117          557.0            188.0  \n",
       "\n",
       "[10 rows x 22 columns]"
      ]
     },
     "metadata": {},
     "output_type": "display_data"
    },
    {
     "name": "stdout",
     "output_type": "stream",
     "text": [
      "---------------\n",
      "<class 'pandas.core.frame.DataFrame'>\n",
      "RangeIndex: 23699 entries, 0 to 23698\n",
      "Data columns (total 22 columns):\n",
      " #   Column                Non-Null Count  Dtype  \n",
      "---  ------                --------------  -----  \n",
      " 0   total_images          23699 non-null  int64  \n",
      " 1   last_price            23699 non-null  float64\n",
      " 2   total_area            23699 non-null  float64\n",
      " 3   first_day_exposition  23699 non-null  object \n",
      " 4   rooms                 23699 non-null  int64  \n",
      " 5   ceiling_height        14504 non-null  float64\n",
      " 6   floors_total          23613 non-null  float64\n",
      " 7   living_area           21796 non-null  float64\n",
      " 8   floor                 23699 non-null  int64  \n",
      " 9   is_apartment          2775 non-null   object \n",
      " 10  studio                23699 non-null  bool   \n",
      " 11  open_plan             23699 non-null  bool   \n",
      " 12  kitchen_area          21421 non-null  float64\n",
      " 13  balcony               12180 non-null  float64\n",
      " 14  locality_name         23650 non-null  object \n",
      " 15  airports_nearest      18157 non-null  float64\n",
      " 16  cityCenters_nearest   18180 non-null  float64\n",
      " 17  parks_around3000      18181 non-null  float64\n",
      " 18  parks_nearest         8079 non-null   float64\n",
      " 19  ponds_around3000      18181 non-null  float64\n",
      " 20  ponds_nearest         9110 non-null   float64\n",
      " 21  days_exposition       20518 non-null  float64\n",
      "dtypes: bool(2), float64(14), int64(3), object(3)\n",
      "memory usage: 3.7+ MB\n",
      "---------------\n",
      "Дубликатов: 0\n",
      "---------------\n",
      "Пропущенных значений total_images                0\n",
      "last_price                  0\n",
      "total_area                  0\n",
      "first_day_exposition        0\n",
      "rooms                       0\n",
      "ceiling_height           9195\n",
      "floors_total               86\n",
      "living_area              1903\n",
      "floor                       0\n",
      "is_apartment            20924\n",
      "studio                      0\n",
      "open_plan                   0\n",
      "kitchen_area             2278\n",
      "balcony                 11519\n",
      "locality_name              49\n",
      "airports_nearest         5542\n",
      "cityCenters_nearest      5519\n",
      "parks_around3000         5518\n",
      "parks_nearest           15620\n",
      "ponds_around3000         5518\n",
      "ponds_nearest           14589\n",
      "days_exposition          3181\n",
      "dtype: int64\n"
     ]
    }
   ],
   "source": [
    "data = pd.read_csv('flats_SPB.csv', sep='\\t') \n",
    "table_info(data)"
   ]
  },
  {
   "cell_type": "markdown",
   "metadata": {},
   "source": [
    "### Вывод\n",
    "- нужно перевести значения в \"last_price\", \"floors_total\" из float64 в int64;\n",
    "- пропуски в столбцах: \"ponds_nearest\", \"ponds_around3000\", \"parks_nearest\", \"parks_around3000\", \"balcony\" заменю на 0;\n",
    "- дату в \"first_day_exposition\" переведу в формат datetime и выделю два столбца: с месяцем и днем размещения по одтельности и днем недели;\n",
    "- этажи выделю в категории \"первый\", \"последний\" и \"другой\"."
   ]
  },
  {
   "cell_type": "markdown",
   "metadata": {},
   "source": [
    "## Предобработка данных"
   ]
  },
  {
   "cell_type": "markdown",
   "metadata": {},
   "source": [
    "Переведем \"last_price\" из float64 в int64."
   ]
  },
  {
   "cell_type": "code",
   "execution_count": 6,
   "metadata": {
    "scrolled": true
   },
   "outputs": [
    {
     "data": {
      "text/html": [
       "<div>\n",
       "<style scoped>\n",
       "    .dataframe tbody tr th:only-of-type {\n",
       "        vertical-align: middle;\n",
       "    }\n",
       "\n",
       "    .dataframe tbody tr th {\n",
       "        vertical-align: top;\n",
       "    }\n",
       "\n",
       "    .dataframe thead th {\n",
       "        text-align: right;\n",
       "    }\n",
       "</style>\n",
       "<table border=\"1\" class=\"dataframe\">\n",
       "  <thead>\n",
       "    <tr style=\"text-align: right;\">\n",
       "      <th></th>\n",
       "      <th>total_images</th>\n",
       "      <th>last_price</th>\n",
       "      <th>total_area</th>\n",
       "      <th>first_day_exposition</th>\n",
       "      <th>rooms</th>\n",
       "      <th>ceiling_height</th>\n",
       "      <th>floors_total</th>\n",
       "      <th>living_area</th>\n",
       "      <th>floor</th>\n",
       "      <th>is_apartment</th>\n",
       "      <th>...</th>\n",
       "      <th>kitchen_area</th>\n",
       "      <th>balcony</th>\n",
       "      <th>locality_name</th>\n",
       "      <th>airports_nearest</th>\n",
       "      <th>cityCenters_nearest</th>\n",
       "      <th>parks_around3000</th>\n",
       "      <th>parks_nearest</th>\n",
       "      <th>ponds_around3000</th>\n",
       "      <th>ponds_nearest</th>\n",
       "      <th>days_exposition</th>\n",
       "    </tr>\n",
       "  </thead>\n",
       "  <tbody>\n",
       "    <tr>\n",
       "      <th>0</th>\n",
       "      <td>20</td>\n",
       "      <td>13000000</td>\n",
       "      <td>108.0</td>\n",
       "      <td>2019-03-07T00:00:00</td>\n",
       "      <td>3</td>\n",
       "      <td>2.70</td>\n",
       "      <td>16.0</td>\n",
       "      <td>51.0</td>\n",
       "      <td>8</td>\n",
       "      <td>NaN</td>\n",
       "      <td>...</td>\n",
       "      <td>25.0</td>\n",
       "      <td>NaN</td>\n",
       "      <td>Санкт-Петербург</td>\n",
       "      <td>18863.0</td>\n",
       "      <td>16028.0</td>\n",
       "      <td>1.0</td>\n",
       "      <td>482.0</td>\n",
       "      <td>2.0</td>\n",
       "      <td>755.0</td>\n",
       "      <td>NaN</td>\n",
       "    </tr>\n",
       "    <tr>\n",
       "      <th>1</th>\n",
       "      <td>7</td>\n",
       "      <td>3350000</td>\n",
       "      <td>40.4</td>\n",
       "      <td>2018-12-04T00:00:00</td>\n",
       "      <td>1</td>\n",
       "      <td>NaN</td>\n",
       "      <td>11.0</td>\n",
       "      <td>18.6</td>\n",
       "      <td>1</td>\n",
       "      <td>NaN</td>\n",
       "      <td>...</td>\n",
       "      <td>11.0</td>\n",
       "      <td>2.0</td>\n",
       "      <td>посёлок Шушары</td>\n",
       "      <td>12817.0</td>\n",
       "      <td>18603.0</td>\n",
       "      <td>0.0</td>\n",
       "      <td>NaN</td>\n",
       "      <td>0.0</td>\n",
       "      <td>NaN</td>\n",
       "      <td>81.0</td>\n",
       "    </tr>\n",
       "    <tr>\n",
       "      <th>2</th>\n",
       "      <td>10</td>\n",
       "      <td>5196000</td>\n",
       "      <td>56.0</td>\n",
       "      <td>2015-08-20T00:00:00</td>\n",
       "      <td>2</td>\n",
       "      <td>NaN</td>\n",
       "      <td>5.0</td>\n",
       "      <td>34.3</td>\n",
       "      <td>4</td>\n",
       "      <td>NaN</td>\n",
       "      <td>...</td>\n",
       "      <td>8.3</td>\n",
       "      <td>0.0</td>\n",
       "      <td>Санкт-Петербург</td>\n",
       "      <td>21741.0</td>\n",
       "      <td>13933.0</td>\n",
       "      <td>1.0</td>\n",
       "      <td>90.0</td>\n",
       "      <td>2.0</td>\n",
       "      <td>574.0</td>\n",
       "      <td>558.0</td>\n",
       "    </tr>\n",
       "    <tr>\n",
       "      <th>3</th>\n",
       "      <td>0</td>\n",
       "      <td>64900000</td>\n",
       "      <td>159.0</td>\n",
       "      <td>2015-07-24T00:00:00</td>\n",
       "      <td>3</td>\n",
       "      <td>NaN</td>\n",
       "      <td>14.0</td>\n",
       "      <td>NaN</td>\n",
       "      <td>9</td>\n",
       "      <td>NaN</td>\n",
       "      <td>...</td>\n",
       "      <td>NaN</td>\n",
       "      <td>0.0</td>\n",
       "      <td>Санкт-Петербург</td>\n",
       "      <td>28098.0</td>\n",
       "      <td>6800.0</td>\n",
       "      <td>2.0</td>\n",
       "      <td>84.0</td>\n",
       "      <td>3.0</td>\n",
       "      <td>234.0</td>\n",
       "      <td>424.0</td>\n",
       "    </tr>\n",
       "    <tr>\n",
       "      <th>4</th>\n",
       "      <td>2</td>\n",
       "      <td>10000000</td>\n",
       "      <td>100.0</td>\n",
       "      <td>2018-06-19T00:00:00</td>\n",
       "      <td>2</td>\n",
       "      <td>3.03</td>\n",
       "      <td>14.0</td>\n",
       "      <td>32.0</td>\n",
       "      <td>13</td>\n",
       "      <td>NaN</td>\n",
       "      <td>...</td>\n",
       "      <td>41.0</td>\n",
       "      <td>NaN</td>\n",
       "      <td>Санкт-Петербург</td>\n",
       "      <td>31856.0</td>\n",
       "      <td>8098.0</td>\n",
       "      <td>2.0</td>\n",
       "      <td>112.0</td>\n",
       "      <td>1.0</td>\n",
       "      <td>48.0</td>\n",
       "      <td>121.0</td>\n",
       "    </tr>\n",
       "  </tbody>\n",
       "</table>\n",
       "<p>5 rows × 22 columns</p>\n",
       "</div>"
      ],
      "text/plain": [
       "   total_images  last_price  total_area first_day_exposition  rooms  \\\n",
       "0            20    13000000       108.0  2019-03-07T00:00:00      3   \n",
       "1             7     3350000        40.4  2018-12-04T00:00:00      1   \n",
       "2            10     5196000        56.0  2015-08-20T00:00:00      2   \n",
       "3             0    64900000       159.0  2015-07-24T00:00:00      3   \n",
       "4             2    10000000       100.0  2018-06-19T00:00:00      2   \n",
       "\n",
       "   ceiling_height  floors_total  living_area  floor is_apartment  ...  \\\n",
       "0            2.70          16.0         51.0      8          NaN  ...   \n",
       "1             NaN          11.0         18.6      1          NaN  ...   \n",
       "2             NaN           5.0         34.3      4          NaN  ...   \n",
       "3             NaN          14.0          NaN      9          NaN  ...   \n",
       "4            3.03          14.0         32.0     13          NaN  ...   \n",
       "\n",
       "   kitchen_area  balcony    locality_name  airports_nearest  \\\n",
       "0          25.0      NaN  Санкт-Петербург           18863.0   \n",
       "1          11.0      2.0   посёлок Шушары           12817.0   \n",
       "2           8.3      0.0  Санкт-Петербург           21741.0   \n",
       "3           NaN      0.0  Санкт-Петербург           28098.0   \n",
       "4          41.0      NaN  Санкт-Петербург           31856.0   \n",
       "\n",
       "  cityCenters_nearest  parks_around3000  parks_nearest  ponds_around3000  \\\n",
       "0             16028.0               1.0          482.0               2.0   \n",
       "1             18603.0               0.0            NaN               0.0   \n",
       "2             13933.0               1.0           90.0               2.0   \n",
       "3              6800.0               2.0           84.0               3.0   \n",
       "4              8098.0               2.0          112.0               1.0   \n",
       "\n",
       "   ponds_nearest  days_exposition  \n",
       "0          755.0              NaN  \n",
       "1            NaN             81.0  \n",
       "2          574.0            558.0  \n",
       "3          234.0            424.0  \n",
       "4           48.0            121.0  \n",
       "\n",
       "[5 rows x 22 columns]"
      ]
     },
     "metadata": {},
     "output_type": "display_data"
    }
   ],
   "source": [
    "data['last_price'] = data['last_price'].astype('int')\n",
    "display(data.head())"
   ]
  },
  {
   "cell_type": "markdown",
   "metadata": {},
   "source": [
    "Сделаем значения в столбце \"floors_total\" целыми числами. А пропуски заменим на 0."
   ]
  },
  {
   "cell_type": "code",
   "execution_count": 7,
   "metadata": {
    "scrolled": true
   },
   "outputs": [
    {
     "data": {
      "text/html": [
       "<div>\n",
       "<style scoped>\n",
       "    .dataframe tbody tr th:only-of-type {\n",
       "        vertical-align: middle;\n",
       "    }\n",
       "\n",
       "    .dataframe tbody tr th {\n",
       "        vertical-align: top;\n",
       "    }\n",
       "\n",
       "    .dataframe thead th {\n",
       "        text-align: right;\n",
       "    }\n",
       "</style>\n",
       "<table border=\"1\" class=\"dataframe\">\n",
       "  <thead>\n",
       "    <tr style=\"text-align: right;\">\n",
       "      <th></th>\n",
       "      <th>total_images</th>\n",
       "      <th>last_price</th>\n",
       "      <th>total_area</th>\n",
       "      <th>first_day_exposition</th>\n",
       "      <th>rooms</th>\n",
       "      <th>ceiling_height</th>\n",
       "      <th>floors_total</th>\n",
       "      <th>living_area</th>\n",
       "      <th>floor</th>\n",
       "      <th>is_apartment</th>\n",
       "      <th>...</th>\n",
       "      <th>kitchen_area</th>\n",
       "      <th>balcony</th>\n",
       "      <th>locality_name</th>\n",
       "      <th>airports_nearest</th>\n",
       "      <th>cityCenters_nearest</th>\n",
       "      <th>parks_around3000</th>\n",
       "      <th>parks_nearest</th>\n",
       "      <th>ponds_around3000</th>\n",
       "      <th>ponds_nearest</th>\n",
       "      <th>days_exposition</th>\n",
       "    </tr>\n",
       "  </thead>\n",
       "  <tbody>\n",
       "    <tr>\n",
       "      <th>0</th>\n",
       "      <td>20</td>\n",
       "      <td>13000000</td>\n",
       "      <td>108.0</td>\n",
       "      <td>2019-03-07T00:00:00</td>\n",
       "      <td>3</td>\n",
       "      <td>2.70</td>\n",
       "      <td>16</td>\n",
       "      <td>51.0</td>\n",
       "      <td>8</td>\n",
       "      <td>NaN</td>\n",
       "      <td>...</td>\n",
       "      <td>25.0</td>\n",
       "      <td>NaN</td>\n",
       "      <td>Санкт-Петербург</td>\n",
       "      <td>18863.0</td>\n",
       "      <td>16028.0</td>\n",
       "      <td>1.0</td>\n",
       "      <td>482.0</td>\n",
       "      <td>2.0</td>\n",
       "      <td>755.0</td>\n",
       "      <td>NaN</td>\n",
       "    </tr>\n",
       "    <tr>\n",
       "      <th>1</th>\n",
       "      <td>7</td>\n",
       "      <td>3350000</td>\n",
       "      <td>40.4</td>\n",
       "      <td>2018-12-04T00:00:00</td>\n",
       "      <td>1</td>\n",
       "      <td>NaN</td>\n",
       "      <td>11</td>\n",
       "      <td>18.6</td>\n",
       "      <td>1</td>\n",
       "      <td>NaN</td>\n",
       "      <td>...</td>\n",
       "      <td>11.0</td>\n",
       "      <td>2.0</td>\n",
       "      <td>посёлок Шушары</td>\n",
       "      <td>12817.0</td>\n",
       "      <td>18603.0</td>\n",
       "      <td>0.0</td>\n",
       "      <td>NaN</td>\n",
       "      <td>0.0</td>\n",
       "      <td>NaN</td>\n",
       "      <td>81.0</td>\n",
       "    </tr>\n",
       "    <tr>\n",
       "      <th>2</th>\n",
       "      <td>10</td>\n",
       "      <td>5196000</td>\n",
       "      <td>56.0</td>\n",
       "      <td>2015-08-20T00:00:00</td>\n",
       "      <td>2</td>\n",
       "      <td>NaN</td>\n",
       "      <td>5</td>\n",
       "      <td>34.3</td>\n",
       "      <td>4</td>\n",
       "      <td>NaN</td>\n",
       "      <td>...</td>\n",
       "      <td>8.3</td>\n",
       "      <td>0.0</td>\n",
       "      <td>Санкт-Петербург</td>\n",
       "      <td>21741.0</td>\n",
       "      <td>13933.0</td>\n",
       "      <td>1.0</td>\n",
       "      <td>90.0</td>\n",
       "      <td>2.0</td>\n",
       "      <td>574.0</td>\n",
       "      <td>558.0</td>\n",
       "    </tr>\n",
       "    <tr>\n",
       "      <th>3</th>\n",
       "      <td>0</td>\n",
       "      <td>64900000</td>\n",
       "      <td>159.0</td>\n",
       "      <td>2015-07-24T00:00:00</td>\n",
       "      <td>3</td>\n",
       "      <td>NaN</td>\n",
       "      <td>14</td>\n",
       "      <td>NaN</td>\n",
       "      <td>9</td>\n",
       "      <td>NaN</td>\n",
       "      <td>...</td>\n",
       "      <td>NaN</td>\n",
       "      <td>0.0</td>\n",
       "      <td>Санкт-Петербург</td>\n",
       "      <td>28098.0</td>\n",
       "      <td>6800.0</td>\n",
       "      <td>2.0</td>\n",
       "      <td>84.0</td>\n",
       "      <td>3.0</td>\n",
       "      <td>234.0</td>\n",
       "      <td>424.0</td>\n",
       "    </tr>\n",
       "    <tr>\n",
       "      <th>4</th>\n",
       "      <td>2</td>\n",
       "      <td>10000000</td>\n",
       "      <td>100.0</td>\n",
       "      <td>2018-06-19T00:00:00</td>\n",
       "      <td>2</td>\n",
       "      <td>3.03</td>\n",
       "      <td>14</td>\n",
       "      <td>32.0</td>\n",
       "      <td>13</td>\n",
       "      <td>NaN</td>\n",
       "      <td>...</td>\n",
       "      <td>41.0</td>\n",
       "      <td>NaN</td>\n",
       "      <td>Санкт-Петербург</td>\n",
       "      <td>31856.0</td>\n",
       "      <td>8098.0</td>\n",
       "      <td>2.0</td>\n",
       "      <td>112.0</td>\n",
       "      <td>1.0</td>\n",
       "      <td>48.0</td>\n",
       "      <td>121.0</td>\n",
       "    </tr>\n",
       "  </tbody>\n",
       "</table>\n",
       "<p>5 rows × 22 columns</p>\n",
       "</div>"
      ],
      "text/plain": [
       "   total_images  last_price  total_area first_day_exposition  rooms  \\\n",
       "0            20    13000000       108.0  2019-03-07T00:00:00      3   \n",
       "1             7     3350000        40.4  2018-12-04T00:00:00      1   \n",
       "2            10     5196000        56.0  2015-08-20T00:00:00      2   \n",
       "3             0    64900000       159.0  2015-07-24T00:00:00      3   \n",
       "4             2    10000000       100.0  2018-06-19T00:00:00      2   \n",
       "\n",
       "   ceiling_height  floors_total  living_area  floor is_apartment  ...  \\\n",
       "0            2.70            16         51.0      8          NaN  ...   \n",
       "1             NaN            11         18.6      1          NaN  ...   \n",
       "2             NaN             5         34.3      4          NaN  ...   \n",
       "3             NaN            14          NaN      9          NaN  ...   \n",
       "4            3.03            14         32.0     13          NaN  ...   \n",
       "\n",
       "   kitchen_area  balcony    locality_name  airports_nearest  \\\n",
       "0          25.0      NaN  Санкт-Петербург           18863.0   \n",
       "1          11.0      2.0   посёлок Шушары           12817.0   \n",
       "2           8.3      0.0  Санкт-Петербург           21741.0   \n",
       "3           NaN      0.0  Санкт-Петербург           28098.0   \n",
       "4          41.0      NaN  Санкт-Петербург           31856.0   \n",
       "\n",
       "  cityCenters_nearest  parks_around3000  parks_nearest  ponds_around3000  \\\n",
       "0             16028.0               1.0          482.0               2.0   \n",
       "1             18603.0               0.0            NaN               0.0   \n",
       "2             13933.0               1.0           90.0               2.0   \n",
       "3              6800.0               2.0           84.0               3.0   \n",
       "4              8098.0               2.0          112.0               1.0   \n",
       "\n",
       "   ponds_nearest  days_exposition  \n",
       "0          755.0              NaN  \n",
       "1            NaN             81.0  \n",
       "2          574.0            558.0  \n",
       "3          234.0            424.0  \n",
       "4           48.0            121.0  \n",
       "\n",
       "[5 rows x 22 columns]"
      ]
     },
     "metadata": {},
     "output_type": "display_data"
    }
   ],
   "source": [
    "try:\n",
    "    data['floors_total'] = data['floors_total'].astype('int')\n",
    "except:\n",
    "    data['floors_total'] = data['floors_total'].fillna(0)\n",
    "finally:\n",
    "    data['floors_total'] = data['floors_total'].astype('int')\n",
    "  \n",
    "display(data.head())"
   ]
  },
  {
   "cell_type": "markdown",
   "metadata": {},
   "source": [
    "Посмотрим сколько 0 в стобце получилось."
   ]
  },
  {
   "cell_type": "code",
   "execution_count": 8,
   "metadata": {
    "scrolled": true
   },
   "outputs": [
    {
     "name": "stdout",
     "output_type": "stream",
     "text": [
      "86\n"
     ]
    }
   ],
   "source": [
    "zero_count = 0\n",
    "for i in data['floors_total']:\n",
    "    if i == 0:\n",
    "        zero_count += 1\n",
    "\n",
    "print(zero_count)"
   ]
  },
  {
   "cell_type": "markdown",
   "metadata": {},
   "source": [
    "Заменим пропуски в столбцах: \"ponds_nearest\", \"ponds_around3000\", \"parks_nearest\", \"parks_around3000\", \"balcony\"  на 0. Скорее всего пропуски означают, что рядом с этими объектами нет парков, водоемов и балконов."
   ]
  },
  {
   "cell_type": "code",
   "execution_count": 9,
   "metadata": {
    "scrolled": false
   },
   "outputs": [
    {
     "name": "stdout",
     "output_type": "stream",
     "text": [
      "<class 'pandas.core.frame.DataFrame'>\n",
      "RangeIndex: 23699 entries, 0 to 23698\n",
      "Data columns (total 22 columns):\n",
      " #   Column                Non-Null Count  Dtype  \n",
      "---  ------                --------------  -----  \n",
      " 0   total_images          23699 non-null  int64  \n",
      " 1   last_price            23699 non-null  int64  \n",
      " 2   total_area            23699 non-null  float64\n",
      " 3   first_day_exposition  23699 non-null  object \n",
      " 4   rooms                 23699 non-null  int64  \n",
      " 5   ceiling_height        14504 non-null  float64\n",
      " 6   floors_total          23699 non-null  int64  \n",
      " 7   living_area           21796 non-null  float64\n",
      " 8   floor                 23699 non-null  int64  \n",
      " 9   is_apartment          2775 non-null   object \n",
      " 10  studio                23699 non-null  bool   \n",
      " 11  open_plan             23699 non-null  bool   \n",
      " 12  kitchen_area          21421 non-null  float64\n",
      " 13  balcony               23699 non-null  int64  \n",
      " 14  locality_name         23650 non-null  object \n",
      " 15  airports_nearest      18157 non-null  float64\n",
      " 16  cityCenters_nearest   18180 non-null  float64\n",
      " 17  parks_around3000      23699 non-null  float64\n",
      " 18  parks_nearest         23699 non-null  float64\n",
      " 19  ponds_around3000      23699 non-null  float64\n",
      " 20  ponds_nearest         23699 non-null  float64\n",
      " 21  days_exposition       20518 non-null  float64\n",
      "dtypes: bool(2), float64(11), int64(6), object(3)\n",
      "memory usage: 3.7+ MB\n"
     ]
    }
   ],
   "source": [
    "data['balcony'] = data['balcony'].fillna(0).astype('int')\n",
    "data['ponds_nearest'] = data['ponds_nearest'].fillna(0)\n",
    "data['ponds_around3000'] = data['ponds_around3000'].fillna(0)\n",
    "data['parks_nearest'] = data['parks_nearest'].fillna(0)\n",
    "data['parks_around3000'] = data['parks_around3000'].fillna(0)\n",
    "data.info()"
   ]
  },
  {
   "cell_type": "markdown",
   "metadata": {},
   "source": [
    "Переведем дату в нужный формат и уберем время выставления объявления."
   ]
  },
  {
   "cell_type": "code",
   "execution_count": 10,
   "metadata": {
    "scrolled": false
   },
   "outputs": [
    {
     "data": {
      "text/html": [
       "<div>\n",
       "<style scoped>\n",
       "    .dataframe tbody tr th:only-of-type {\n",
       "        vertical-align: middle;\n",
       "    }\n",
       "\n",
       "    .dataframe tbody tr th {\n",
       "        vertical-align: top;\n",
       "    }\n",
       "\n",
       "    .dataframe thead th {\n",
       "        text-align: right;\n",
       "    }\n",
       "</style>\n",
       "<table border=\"1\" class=\"dataframe\">\n",
       "  <thead>\n",
       "    <tr style=\"text-align: right;\">\n",
       "      <th></th>\n",
       "      <th>total_images</th>\n",
       "      <th>last_price</th>\n",
       "      <th>total_area</th>\n",
       "      <th>first_day_exposition</th>\n",
       "      <th>rooms</th>\n",
       "      <th>ceiling_height</th>\n",
       "      <th>floors_total</th>\n",
       "      <th>living_area</th>\n",
       "      <th>floor</th>\n",
       "      <th>is_apartment</th>\n",
       "      <th>...</th>\n",
       "      <th>kitchen_area</th>\n",
       "      <th>balcony</th>\n",
       "      <th>locality_name</th>\n",
       "      <th>airports_nearest</th>\n",
       "      <th>cityCenters_nearest</th>\n",
       "      <th>parks_around3000</th>\n",
       "      <th>parks_nearest</th>\n",
       "      <th>ponds_around3000</th>\n",
       "      <th>ponds_nearest</th>\n",
       "      <th>days_exposition</th>\n",
       "    </tr>\n",
       "  </thead>\n",
       "  <tbody>\n",
       "    <tr>\n",
       "      <th>0</th>\n",
       "      <td>20</td>\n",
       "      <td>13000000</td>\n",
       "      <td>108.0</td>\n",
       "      <td>2019-03-07</td>\n",
       "      <td>3</td>\n",
       "      <td>2.70</td>\n",
       "      <td>16</td>\n",
       "      <td>51.0</td>\n",
       "      <td>8</td>\n",
       "      <td>NaN</td>\n",
       "      <td>...</td>\n",
       "      <td>25.0</td>\n",
       "      <td>0</td>\n",
       "      <td>Санкт-Петербург</td>\n",
       "      <td>18863.0</td>\n",
       "      <td>16028.0</td>\n",
       "      <td>1.0</td>\n",
       "      <td>482.0</td>\n",
       "      <td>2.0</td>\n",
       "      <td>755.0</td>\n",
       "      <td>NaN</td>\n",
       "    </tr>\n",
       "    <tr>\n",
       "      <th>1</th>\n",
       "      <td>7</td>\n",
       "      <td>3350000</td>\n",
       "      <td>40.4</td>\n",
       "      <td>2018-12-04</td>\n",
       "      <td>1</td>\n",
       "      <td>NaN</td>\n",
       "      <td>11</td>\n",
       "      <td>18.6</td>\n",
       "      <td>1</td>\n",
       "      <td>NaN</td>\n",
       "      <td>...</td>\n",
       "      <td>11.0</td>\n",
       "      <td>2</td>\n",
       "      <td>посёлок Шушары</td>\n",
       "      <td>12817.0</td>\n",
       "      <td>18603.0</td>\n",
       "      <td>0.0</td>\n",
       "      <td>0.0</td>\n",
       "      <td>0.0</td>\n",
       "      <td>0.0</td>\n",
       "      <td>81.0</td>\n",
       "    </tr>\n",
       "    <tr>\n",
       "      <th>2</th>\n",
       "      <td>10</td>\n",
       "      <td>5196000</td>\n",
       "      <td>56.0</td>\n",
       "      <td>2015-08-20</td>\n",
       "      <td>2</td>\n",
       "      <td>NaN</td>\n",
       "      <td>5</td>\n",
       "      <td>34.3</td>\n",
       "      <td>4</td>\n",
       "      <td>NaN</td>\n",
       "      <td>...</td>\n",
       "      <td>8.3</td>\n",
       "      <td>0</td>\n",
       "      <td>Санкт-Петербург</td>\n",
       "      <td>21741.0</td>\n",
       "      <td>13933.0</td>\n",
       "      <td>1.0</td>\n",
       "      <td>90.0</td>\n",
       "      <td>2.0</td>\n",
       "      <td>574.0</td>\n",
       "      <td>558.0</td>\n",
       "    </tr>\n",
       "    <tr>\n",
       "      <th>3</th>\n",
       "      <td>0</td>\n",
       "      <td>64900000</td>\n",
       "      <td>159.0</td>\n",
       "      <td>2015-07-24</td>\n",
       "      <td>3</td>\n",
       "      <td>NaN</td>\n",
       "      <td>14</td>\n",
       "      <td>NaN</td>\n",
       "      <td>9</td>\n",
       "      <td>NaN</td>\n",
       "      <td>...</td>\n",
       "      <td>NaN</td>\n",
       "      <td>0</td>\n",
       "      <td>Санкт-Петербург</td>\n",
       "      <td>28098.0</td>\n",
       "      <td>6800.0</td>\n",
       "      <td>2.0</td>\n",
       "      <td>84.0</td>\n",
       "      <td>3.0</td>\n",
       "      <td>234.0</td>\n",
       "      <td>424.0</td>\n",
       "    </tr>\n",
       "    <tr>\n",
       "      <th>4</th>\n",
       "      <td>2</td>\n",
       "      <td>10000000</td>\n",
       "      <td>100.0</td>\n",
       "      <td>2018-06-19</td>\n",
       "      <td>2</td>\n",
       "      <td>3.03</td>\n",
       "      <td>14</td>\n",
       "      <td>32.0</td>\n",
       "      <td>13</td>\n",
       "      <td>NaN</td>\n",
       "      <td>...</td>\n",
       "      <td>41.0</td>\n",
       "      <td>0</td>\n",
       "      <td>Санкт-Петербург</td>\n",
       "      <td>31856.0</td>\n",
       "      <td>8098.0</td>\n",
       "      <td>2.0</td>\n",
       "      <td>112.0</td>\n",
       "      <td>1.0</td>\n",
       "      <td>48.0</td>\n",
       "      <td>121.0</td>\n",
       "    </tr>\n",
       "  </tbody>\n",
       "</table>\n",
       "<p>5 rows × 22 columns</p>\n",
       "</div>"
      ],
      "text/plain": [
       "   total_images  last_price  total_area first_day_exposition  rooms  \\\n",
       "0            20    13000000       108.0           2019-03-07      3   \n",
       "1             7     3350000        40.4           2018-12-04      1   \n",
       "2            10     5196000        56.0           2015-08-20      2   \n",
       "3             0    64900000       159.0           2015-07-24      3   \n",
       "4             2    10000000       100.0           2018-06-19      2   \n",
       "\n",
       "   ceiling_height  floors_total  living_area  floor is_apartment  ...  \\\n",
       "0            2.70            16         51.0      8          NaN  ...   \n",
       "1             NaN            11         18.6      1          NaN  ...   \n",
       "2             NaN             5         34.3      4          NaN  ...   \n",
       "3             NaN            14          NaN      9          NaN  ...   \n",
       "4            3.03            14         32.0     13          NaN  ...   \n",
       "\n",
       "   kitchen_area  balcony    locality_name  airports_nearest  \\\n",
       "0          25.0        0  Санкт-Петербург           18863.0   \n",
       "1          11.0        2   посёлок Шушары           12817.0   \n",
       "2           8.3        0  Санкт-Петербург           21741.0   \n",
       "3           NaN        0  Санкт-Петербург           28098.0   \n",
       "4          41.0        0  Санкт-Петербург           31856.0   \n",
       "\n",
       "  cityCenters_nearest  parks_around3000  parks_nearest  ponds_around3000  \\\n",
       "0             16028.0               1.0          482.0               2.0   \n",
       "1             18603.0               0.0            0.0               0.0   \n",
       "2             13933.0               1.0           90.0               2.0   \n",
       "3              6800.0               2.0           84.0               3.0   \n",
       "4              8098.0               2.0          112.0               1.0   \n",
       "\n",
       "   ponds_nearest  days_exposition  \n",
       "0          755.0              NaN  \n",
       "1            0.0             81.0  \n",
       "2          574.0            558.0  \n",
       "3          234.0            424.0  \n",
       "4           48.0            121.0  \n",
       "\n",
       "[5 rows x 22 columns]"
      ]
     },
     "metadata": {},
     "output_type": "display_data"
    }
   ],
   "source": [
    "data['first_day_exposition'] = pd.to_datetime(data['first_day_exposition'], format='%Y-%m-%d')\n",
    "display(data.head())"
   ]
  },
  {
   "cell_type": "markdown",
   "metadata": {},
   "source": [
    "Заменим пропуски в \"ceiling_height\" медианой."
   ]
  },
  {
   "cell_type": "code",
   "execution_count": 11,
   "metadata": {
    "scrolled": true
   },
   "outputs": [
    {
     "data": {
      "text/plain": [
       "0.0"
      ]
     },
     "execution_count": 11,
     "metadata": {},
     "output_type": "execute_result"
    }
   ],
   "source": [
    "m = data['ceiling_height'].median()\n",
    "data['ceiling_height'] = data['ceiling_height'].fillna(m)\n",
    "data['ceiling_height'].isna().mean()"
   ]
  },
  {
   "cell_type": "code",
   "execution_count": 12,
   "metadata": {
    "scrolled": true
   },
   "outputs": [
    {
     "data": {
      "text/html": [
       "<div>\n",
       "<style scoped>\n",
       "    .dataframe tbody tr th:only-of-type {\n",
       "        vertical-align: middle;\n",
       "    }\n",
       "\n",
       "    .dataframe tbody tr th {\n",
       "        vertical-align: top;\n",
       "    }\n",
       "\n",
       "    .dataframe thead th {\n",
       "        text-align: right;\n",
       "    }\n",
       "</style>\n",
       "<table border=\"1\" class=\"dataframe\">\n",
       "  <thead>\n",
       "    <tr style=\"text-align: right;\">\n",
       "      <th></th>\n",
       "      <th>is_apartment</th>\n",
       "      <th>studio</th>\n",
       "      <th>open_plan</th>\n",
       "    </tr>\n",
       "  </thead>\n",
       "  <tbody>\n",
       "    <tr>\n",
       "      <th>0</th>\n",
       "      <td>NaN</td>\n",
       "      <td>False</td>\n",
       "      <td>False</td>\n",
       "    </tr>\n",
       "    <tr>\n",
       "      <th>1</th>\n",
       "      <td>NaN</td>\n",
       "      <td>False</td>\n",
       "      <td>False</td>\n",
       "    </tr>\n",
       "    <tr>\n",
       "      <th>2</th>\n",
       "      <td>NaN</td>\n",
       "      <td>False</td>\n",
       "      <td>False</td>\n",
       "    </tr>\n",
       "    <tr>\n",
       "      <th>3</th>\n",
       "      <td>NaN</td>\n",
       "      <td>False</td>\n",
       "      <td>False</td>\n",
       "    </tr>\n",
       "    <tr>\n",
       "      <th>4</th>\n",
       "      <td>NaN</td>\n",
       "      <td>False</td>\n",
       "      <td>False</td>\n",
       "    </tr>\n",
       "  </tbody>\n",
       "</table>\n",
       "</div>"
      ],
      "text/plain": [
       "  is_apartment  studio  open_plan\n",
       "0          NaN   False      False\n",
       "1          NaN   False      False\n",
       "2          NaN   False      False\n",
       "3          NaN   False      False\n",
       "4          NaN   False      False"
      ]
     },
     "metadata": {},
     "output_type": "display_data"
    }
   ],
   "source": [
    "flat_kind = data[['is_apartment','studio','open_plan']]\n",
    "display(flat_kind.head())"
   ]
  },
  {
   "cell_type": "markdown",
   "metadata": {},
   "source": [
    "Заменим пропуски в \"is_apartment\" на \"False\", т.к. столбцы с другими видами планировки имею False в аналогичных строках с пропусками в этом столбце "
   ]
  },
  {
   "cell_type": "code",
   "execution_count": 13,
   "metadata": {
    "scrolled": false
   },
   "outputs": [
    {
     "data": {
      "text/plain": [
       "0.0"
      ]
     },
     "execution_count": 13,
     "metadata": {},
     "output_type": "execute_result"
    }
   ],
   "source": [
    "data['is_apartment'] = data['is_apartment'].fillna('False')\n",
    "data['is_apartment'].isna().mean()"
   ]
  },
  {
   "cell_type": "markdown",
   "metadata": {},
   "source": [
    "После всех замен проверим неявные дубликаты."
   ]
  },
  {
   "cell_type": "code",
   "execution_count": 14,
   "metadata": {
    "scrolled": true
   },
   "outputs": [
    {
     "name": "stdout",
     "output_type": "stream",
     "text": [
      "0\n"
     ]
    }
   ],
   "source": [
    "print(data.duplicated().sum())"
   ]
  },
  {
   "cell_type": "markdown",
   "metadata": {},
   "source": [
    "## Расчёты и добавление результатов в таблицу"
   ]
  },
  {
   "cell_type": "markdown",
   "metadata": {},
   "source": [
    "Для изучения зависимости стоимости квартир от дня выставления на продажу дабавим столбец `week_day` с днями недели соответствующими дате создания объявления."
   ]
  },
  {
   "cell_type": "code",
   "execution_count": 15,
   "metadata": {
    "scrolled": false
   },
   "outputs": [
    {
     "data": {
      "text/html": [
       "<div>\n",
       "<style scoped>\n",
       "    .dataframe tbody tr th:only-of-type {\n",
       "        vertical-align: middle;\n",
       "    }\n",
       "\n",
       "    .dataframe tbody tr th {\n",
       "        vertical-align: top;\n",
       "    }\n",
       "\n",
       "    .dataframe thead th {\n",
       "        text-align: right;\n",
       "    }\n",
       "</style>\n",
       "<table border=\"1\" class=\"dataframe\">\n",
       "  <thead>\n",
       "    <tr style=\"text-align: right;\">\n",
       "      <th></th>\n",
       "      <th>total_images</th>\n",
       "      <th>last_price</th>\n",
       "      <th>total_area</th>\n",
       "      <th>first_day_exposition</th>\n",
       "      <th>rooms</th>\n",
       "      <th>ceiling_height</th>\n",
       "      <th>floors_total</th>\n",
       "      <th>living_area</th>\n",
       "      <th>floor</th>\n",
       "      <th>is_apartment</th>\n",
       "      <th>...</th>\n",
       "      <th>balcony</th>\n",
       "      <th>locality_name</th>\n",
       "      <th>airports_nearest</th>\n",
       "      <th>cityCenters_nearest</th>\n",
       "      <th>parks_around3000</th>\n",
       "      <th>parks_nearest</th>\n",
       "      <th>ponds_around3000</th>\n",
       "      <th>ponds_nearest</th>\n",
       "      <th>days_exposition</th>\n",
       "      <th>week_day</th>\n",
       "    </tr>\n",
       "  </thead>\n",
       "  <tbody>\n",
       "    <tr>\n",
       "      <th>0</th>\n",
       "      <td>20</td>\n",
       "      <td>13000000</td>\n",
       "      <td>108.0</td>\n",
       "      <td>2019-03-07</td>\n",
       "      <td>3</td>\n",
       "      <td>2.70</td>\n",
       "      <td>16</td>\n",
       "      <td>51.0</td>\n",
       "      <td>8</td>\n",
       "      <td>False</td>\n",
       "      <td>...</td>\n",
       "      <td>0</td>\n",
       "      <td>Санкт-Петербург</td>\n",
       "      <td>18863.0</td>\n",
       "      <td>16028.0</td>\n",
       "      <td>1.0</td>\n",
       "      <td>482.0</td>\n",
       "      <td>2.0</td>\n",
       "      <td>755.0</td>\n",
       "      <td>NaN</td>\n",
       "      <td>Thursday</td>\n",
       "    </tr>\n",
       "    <tr>\n",
       "      <th>1</th>\n",
       "      <td>7</td>\n",
       "      <td>3350000</td>\n",
       "      <td>40.4</td>\n",
       "      <td>2018-12-04</td>\n",
       "      <td>1</td>\n",
       "      <td>2.65</td>\n",
       "      <td>11</td>\n",
       "      <td>18.6</td>\n",
       "      <td>1</td>\n",
       "      <td>False</td>\n",
       "      <td>...</td>\n",
       "      <td>2</td>\n",
       "      <td>посёлок Шушары</td>\n",
       "      <td>12817.0</td>\n",
       "      <td>18603.0</td>\n",
       "      <td>0.0</td>\n",
       "      <td>0.0</td>\n",
       "      <td>0.0</td>\n",
       "      <td>0.0</td>\n",
       "      <td>81.0</td>\n",
       "      <td>Tuesday</td>\n",
       "    </tr>\n",
       "    <tr>\n",
       "      <th>2</th>\n",
       "      <td>10</td>\n",
       "      <td>5196000</td>\n",
       "      <td>56.0</td>\n",
       "      <td>2015-08-20</td>\n",
       "      <td>2</td>\n",
       "      <td>2.65</td>\n",
       "      <td>5</td>\n",
       "      <td>34.3</td>\n",
       "      <td>4</td>\n",
       "      <td>False</td>\n",
       "      <td>...</td>\n",
       "      <td>0</td>\n",
       "      <td>Санкт-Петербург</td>\n",
       "      <td>21741.0</td>\n",
       "      <td>13933.0</td>\n",
       "      <td>1.0</td>\n",
       "      <td>90.0</td>\n",
       "      <td>2.0</td>\n",
       "      <td>574.0</td>\n",
       "      <td>558.0</td>\n",
       "      <td>Thursday</td>\n",
       "    </tr>\n",
       "    <tr>\n",
       "      <th>3</th>\n",
       "      <td>0</td>\n",
       "      <td>64900000</td>\n",
       "      <td>159.0</td>\n",
       "      <td>2015-07-24</td>\n",
       "      <td>3</td>\n",
       "      <td>2.65</td>\n",
       "      <td>14</td>\n",
       "      <td>NaN</td>\n",
       "      <td>9</td>\n",
       "      <td>False</td>\n",
       "      <td>...</td>\n",
       "      <td>0</td>\n",
       "      <td>Санкт-Петербург</td>\n",
       "      <td>28098.0</td>\n",
       "      <td>6800.0</td>\n",
       "      <td>2.0</td>\n",
       "      <td>84.0</td>\n",
       "      <td>3.0</td>\n",
       "      <td>234.0</td>\n",
       "      <td>424.0</td>\n",
       "      <td>Friday</td>\n",
       "    </tr>\n",
       "    <tr>\n",
       "      <th>4</th>\n",
       "      <td>2</td>\n",
       "      <td>10000000</td>\n",
       "      <td>100.0</td>\n",
       "      <td>2018-06-19</td>\n",
       "      <td>2</td>\n",
       "      <td>3.03</td>\n",
       "      <td>14</td>\n",
       "      <td>32.0</td>\n",
       "      <td>13</td>\n",
       "      <td>False</td>\n",
       "      <td>...</td>\n",
       "      <td>0</td>\n",
       "      <td>Санкт-Петербург</td>\n",
       "      <td>31856.0</td>\n",
       "      <td>8098.0</td>\n",
       "      <td>2.0</td>\n",
       "      <td>112.0</td>\n",
       "      <td>1.0</td>\n",
       "      <td>48.0</td>\n",
       "      <td>121.0</td>\n",
       "      <td>Tuesday</td>\n",
       "    </tr>\n",
       "  </tbody>\n",
       "</table>\n",
       "<p>5 rows × 23 columns</p>\n",
       "</div>"
      ],
      "text/plain": [
       "   total_images  last_price  total_area first_day_exposition  rooms  \\\n",
       "0            20    13000000       108.0           2019-03-07      3   \n",
       "1             7     3350000        40.4           2018-12-04      1   \n",
       "2            10     5196000        56.0           2015-08-20      2   \n",
       "3             0    64900000       159.0           2015-07-24      3   \n",
       "4             2    10000000       100.0           2018-06-19      2   \n",
       "\n",
       "   ceiling_height  floors_total  living_area  floor is_apartment  ...  \\\n",
       "0            2.70            16         51.0      8        False  ...   \n",
       "1            2.65            11         18.6      1        False  ...   \n",
       "2            2.65             5         34.3      4        False  ...   \n",
       "3            2.65            14          NaN      9        False  ...   \n",
       "4            3.03            14         32.0     13        False  ...   \n",
       "\n",
       "   balcony    locality_name  airports_nearest  cityCenters_nearest  \\\n",
       "0        0  Санкт-Петербург           18863.0              16028.0   \n",
       "1        2   посёлок Шушары           12817.0              18603.0   \n",
       "2        0  Санкт-Петербург           21741.0              13933.0   \n",
       "3        0  Санкт-Петербург           28098.0               6800.0   \n",
       "4        0  Санкт-Петербург           31856.0               8098.0   \n",
       "\n",
       "  parks_around3000  parks_nearest  ponds_around3000  ponds_nearest  \\\n",
       "0              1.0          482.0               2.0          755.0   \n",
       "1              0.0            0.0               0.0            0.0   \n",
       "2              1.0           90.0               2.0          574.0   \n",
       "3              2.0           84.0               3.0          234.0   \n",
       "4              2.0          112.0               1.0           48.0   \n",
       "\n",
       "   days_exposition  week_day  \n",
       "0              NaN  Thursday  \n",
       "1             81.0   Tuesday  \n",
       "2            558.0  Thursday  \n",
       "3            424.0    Friday  \n",
       "4            121.0   Tuesday  \n",
       "\n",
       "[5 rows x 23 columns]"
      ]
     },
     "metadata": {},
     "output_type": "display_data"
    }
   ],
   "source": [
    "data['week_day'] = data['first_day_exposition'].dt.day_name() \n",
    "display(data.head())"
   ]
  },
  {
   "cell_type": "markdown",
   "metadata": {},
   "source": [
    "Добавим категории к квартирам по расположению на этажах."
   ]
  },
  {
   "cell_type": "code",
   "execution_count": 16,
   "metadata": {},
   "outputs": [],
   "source": [
    "data['floor_group'] = data.apply(floor_grouper, axis = 1)"
   ]
  },
  {
   "cell_type": "markdown",
   "metadata": {},
   "source": [
    "Добвляем столбец цены квадратного метра для каждой квартиры в формате целого числа."
   ]
  },
  {
   "cell_type": "code",
   "execution_count": 17,
   "metadata": {
    "scrolled": true
   },
   "outputs": [
    {
     "data": {
      "text/html": [
       "<div>\n",
       "<style scoped>\n",
       "    .dataframe tbody tr th:only-of-type {\n",
       "        vertical-align: middle;\n",
       "    }\n",
       "\n",
       "    .dataframe tbody tr th {\n",
       "        vertical-align: top;\n",
       "    }\n",
       "\n",
       "    .dataframe thead th {\n",
       "        text-align: right;\n",
       "    }\n",
       "</style>\n",
       "<table border=\"1\" class=\"dataframe\">\n",
       "  <thead>\n",
       "    <tr style=\"text-align: right;\">\n",
       "      <th></th>\n",
       "      <th>total_images</th>\n",
       "      <th>last_price</th>\n",
       "      <th>total_area</th>\n",
       "      <th>first_day_exposition</th>\n",
       "      <th>rooms</th>\n",
       "      <th>ceiling_height</th>\n",
       "      <th>floors_total</th>\n",
       "      <th>living_area</th>\n",
       "      <th>floor</th>\n",
       "      <th>is_apartment</th>\n",
       "      <th>...</th>\n",
       "      <th>airports_nearest</th>\n",
       "      <th>cityCenters_nearest</th>\n",
       "      <th>parks_around3000</th>\n",
       "      <th>parks_nearest</th>\n",
       "      <th>ponds_around3000</th>\n",
       "      <th>ponds_nearest</th>\n",
       "      <th>days_exposition</th>\n",
       "      <th>week_day</th>\n",
       "      <th>floor_group</th>\n",
       "      <th>metre_price</th>\n",
       "    </tr>\n",
       "  </thead>\n",
       "  <tbody>\n",
       "    <tr>\n",
       "      <th>0</th>\n",
       "      <td>20</td>\n",
       "      <td>13000000</td>\n",
       "      <td>108.0</td>\n",
       "      <td>2019-03-07</td>\n",
       "      <td>3</td>\n",
       "      <td>2.70</td>\n",
       "      <td>16</td>\n",
       "      <td>51.0</td>\n",
       "      <td>8</td>\n",
       "      <td>False</td>\n",
       "      <td>...</td>\n",
       "      <td>18863.0</td>\n",
       "      <td>16028.0</td>\n",
       "      <td>1.0</td>\n",
       "      <td>482.0</td>\n",
       "      <td>2.0</td>\n",
       "      <td>755.0</td>\n",
       "      <td>NaN</td>\n",
       "      <td>Thursday</td>\n",
       "      <td>другой</td>\n",
       "      <td>120370</td>\n",
       "    </tr>\n",
       "    <tr>\n",
       "      <th>1</th>\n",
       "      <td>7</td>\n",
       "      <td>3350000</td>\n",
       "      <td>40.4</td>\n",
       "      <td>2018-12-04</td>\n",
       "      <td>1</td>\n",
       "      <td>2.65</td>\n",
       "      <td>11</td>\n",
       "      <td>18.6</td>\n",
       "      <td>1</td>\n",
       "      <td>False</td>\n",
       "      <td>...</td>\n",
       "      <td>12817.0</td>\n",
       "      <td>18603.0</td>\n",
       "      <td>0.0</td>\n",
       "      <td>0.0</td>\n",
       "      <td>0.0</td>\n",
       "      <td>0.0</td>\n",
       "      <td>81.0</td>\n",
       "      <td>Tuesday</td>\n",
       "      <td>первый</td>\n",
       "      <td>82920</td>\n",
       "    </tr>\n",
       "    <tr>\n",
       "      <th>2</th>\n",
       "      <td>10</td>\n",
       "      <td>5196000</td>\n",
       "      <td>56.0</td>\n",
       "      <td>2015-08-20</td>\n",
       "      <td>2</td>\n",
       "      <td>2.65</td>\n",
       "      <td>5</td>\n",
       "      <td>34.3</td>\n",
       "      <td>4</td>\n",
       "      <td>False</td>\n",
       "      <td>...</td>\n",
       "      <td>21741.0</td>\n",
       "      <td>13933.0</td>\n",
       "      <td>1.0</td>\n",
       "      <td>90.0</td>\n",
       "      <td>2.0</td>\n",
       "      <td>574.0</td>\n",
       "      <td>558.0</td>\n",
       "      <td>Thursday</td>\n",
       "      <td>другой</td>\n",
       "      <td>92785</td>\n",
       "    </tr>\n",
       "    <tr>\n",
       "      <th>3</th>\n",
       "      <td>0</td>\n",
       "      <td>64900000</td>\n",
       "      <td>159.0</td>\n",
       "      <td>2015-07-24</td>\n",
       "      <td>3</td>\n",
       "      <td>2.65</td>\n",
       "      <td>14</td>\n",
       "      <td>NaN</td>\n",
       "      <td>9</td>\n",
       "      <td>False</td>\n",
       "      <td>...</td>\n",
       "      <td>28098.0</td>\n",
       "      <td>6800.0</td>\n",
       "      <td>2.0</td>\n",
       "      <td>84.0</td>\n",
       "      <td>3.0</td>\n",
       "      <td>234.0</td>\n",
       "      <td>424.0</td>\n",
       "      <td>Friday</td>\n",
       "      <td>другой</td>\n",
       "      <td>408176</td>\n",
       "    </tr>\n",
       "    <tr>\n",
       "      <th>4</th>\n",
       "      <td>2</td>\n",
       "      <td>10000000</td>\n",
       "      <td>100.0</td>\n",
       "      <td>2018-06-19</td>\n",
       "      <td>2</td>\n",
       "      <td>3.03</td>\n",
       "      <td>14</td>\n",
       "      <td>32.0</td>\n",
       "      <td>13</td>\n",
       "      <td>False</td>\n",
       "      <td>...</td>\n",
       "      <td>31856.0</td>\n",
       "      <td>8098.0</td>\n",
       "      <td>2.0</td>\n",
       "      <td>112.0</td>\n",
       "      <td>1.0</td>\n",
       "      <td>48.0</td>\n",
       "      <td>121.0</td>\n",
       "      <td>Tuesday</td>\n",
       "      <td>другой</td>\n",
       "      <td>100000</td>\n",
       "    </tr>\n",
       "  </tbody>\n",
       "</table>\n",
       "<p>5 rows × 25 columns</p>\n",
       "</div>"
      ],
      "text/plain": [
       "   total_images  last_price  total_area first_day_exposition  rooms  \\\n",
       "0            20    13000000       108.0           2019-03-07      3   \n",
       "1             7     3350000        40.4           2018-12-04      1   \n",
       "2            10     5196000        56.0           2015-08-20      2   \n",
       "3             0    64900000       159.0           2015-07-24      3   \n",
       "4             2    10000000       100.0           2018-06-19      2   \n",
       "\n",
       "   ceiling_height  floors_total  living_area  floor is_apartment  ...  \\\n",
       "0            2.70            16         51.0      8        False  ...   \n",
       "1            2.65            11         18.6      1        False  ...   \n",
       "2            2.65             5         34.3      4        False  ...   \n",
       "3            2.65            14          NaN      9        False  ...   \n",
       "4            3.03            14         32.0     13        False  ...   \n",
       "\n",
       "   airports_nearest  cityCenters_nearest  parks_around3000  parks_nearest  \\\n",
       "0           18863.0              16028.0               1.0          482.0   \n",
       "1           12817.0              18603.0               0.0            0.0   \n",
       "2           21741.0              13933.0               1.0           90.0   \n",
       "3           28098.0               6800.0               2.0           84.0   \n",
       "4           31856.0               8098.0               2.0          112.0   \n",
       "\n",
       "  ponds_around3000  ponds_nearest  days_exposition  week_day  floor_group  \\\n",
       "0              2.0          755.0              NaN  Thursday       другой   \n",
       "1              0.0            0.0             81.0   Tuesday       первый   \n",
       "2              2.0          574.0            558.0  Thursday       другой   \n",
       "3              3.0          234.0            424.0    Friday       другой   \n",
       "4              1.0           48.0            121.0   Tuesday       другой   \n",
       "\n",
       "   metre_price  \n",
       "0       120370  \n",
       "1        82920  \n",
       "2        92785  \n",
       "3       408176  \n",
       "4       100000  \n",
       "\n",
       "[5 rows x 25 columns]"
      ]
     },
     "metadata": {},
     "output_type": "display_data"
    }
   ],
   "source": [
    "data['metre_price'] = (data['last_price'] / data['total_area']).astype('int') \n",
    "display(data.head())"
   ]
  },
  {
   "cell_type": "markdown",
   "metadata": {},
   "source": [
    "Добавляем соотношение площади кухни к общей площади квартиры."
   ]
  },
  {
   "cell_type": "code",
   "execution_count": 18,
   "metadata": {
    "scrolled": false
   },
   "outputs": [
    {
     "data": {
      "text/html": [
       "<div>\n",
       "<style scoped>\n",
       "    .dataframe tbody tr th:only-of-type {\n",
       "        vertical-align: middle;\n",
       "    }\n",
       "\n",
       "    .dataframe tbody tr th {\n",
       "        vertical-align: top;\n",
       "    }\n",
       "\n",
       "    .dataframe thead th {\n",
       "        text-align: right;\n",
       "    }\n",
       "</style>\n",
       "<table border=\"1\" class=\"dataframe\">\n",
       "  <thead>\n",
       "    <tr style=\"text-align: right;\">\n",
       "      <th></th>\n",
       "      <th>total_images</th>\n",
       "      <th>last_price</th>\n",
       "      <th>total_area</th>\n",
       "      <th>first_day_exposition</th>\n",
       "      <th>rooms</th>\n",
       "      <th>ceiling_height</th>\n",
       "      <th>floors_total</th>\n",
       "      <th>living_area</th>\n",
       "      <th>floor</th>\n",
       "      <th>is_apartment</th>\n",
       "      <th>...</th>\n",
       "      <th>cityCenters_nearest</th>\n",
       "      <th>parks_around3000</th>\n",
       "      <th>parks_nearest</th>\n",
       "      <th>ponds_around3000</th>\n",
       "      <th>ponds_nearest</th>\n",
       "      <th>days_exposition</th>\n",
       "      <th>week_day</th>\n",
       "      <th>floor_group</th>\n",
       "      <th>metre_price</th>\n",
       "      <th>kitchen_ratio</th>\n",
       "    </tr>\n",
       "  </thead>\n",
       "  <tbody>\n",
       "    <tr>\n",
       "      <th>0</th>\n",
       "      <td>20</td>\n",
       "      <td>13000000</td>\n",
       "      <td>108.0</td>\n",
       "      <td>2019-03-07</td>\n",
       "      <td>3</td>\n",
       "      <td>2.70</td>\n",
       "      <td>16</td>\n",
       "      <td>51.0</td>\n",
       "      <td>8</td>\n",
       "      <td>False</td>\n",
       "      <td>...</td>\n",
       "      <td>16028.0</td>\n",
       "      <td>1.0</td>\n",
       "      <td>482.0</td>\n",
       "      <td>2.0</td>\n",
       "      <td>755.0</td>\n",
       "      <td>NaN</td>\n",
       "      <td>Thursday</td>\n",
       "      <td>другой</td>\n",
       "      <td>120370</td>\n",
       "      <td>23.0</td>\n",
       "    </tr>\n",
       "    <tr>\n",
       "      <th>1</th>\n",
       "      <td>7</td>\n",
       "      <td>3350000</td>\n",
       "      <td>40.4</td>\n",
       "      <td>2018-12-04</td>\n",
       "      <td>1</td>\n",
       "      <td>2.65</td>\n",
       "      <td>11</td>\n",
       "      <td>18.6</td>\n",
       "      <td>1</td>\n",
       "      <td>False</td>\n",
       "      <td>...</td>\n",
       "      <td>18603.0</td>\n",
       "      <td>0.0</td>\n",
       "      <td>0.0</td>\n",
       "      <td>0.0</td>\n",
       "      <td>0.0</td>\n",
       "      <td>81.0</td>\n",
       "      <td>Tuesday</td>\n",
       "      <td>первый</td>\n",
       "      <td>82920</td>\n",
       "      <td>27.0</td>\n",
       "    </tr>\n",
       "    <tr>\n",
       "      <th>2</th>\n",
       "      <td>10</td>\n",
       "      <td>5196000</td>\n",
       "      <td>56.0</td>\n",
       "      <td>2015-08-20</td>\n",
       "      <td>2</td>\n",
       "      <td>2.65</td>\n",
       "      <td>5</td>\n",
       "      <td>34.3</td>\n",
       "      <td>4</td>\n",
       "      <td>False</td>\n",
       "      <td>...</td>\n",
       "      <td>13933.0</td>\n",
       "      <td>1.0</td>\n",
       "      <td>90.0</td>\n",
       "      <td>2.0</td>\n",
       "      <td>574.0</td>\n",
       "      <td>558.0</td>\n",
       "      <td>Thursday</td>\n",
       "      <td>другой</td>\n",
       "      <td>92785</td>\n",
       "      <td>15.0</td>\n",
       "    </tr>\n",
       "    <tr>\n",
       "      <th>3</th>\n",
       "      <td>0</td>\n",
       "      <td>64900000</td>\n",
       "      <td>159.0</td>\n",
       "      <td>2015-07-24</td>\n",
       "      <td>3</td>\n",
       "      <td>2.65</td>\n",
       "      <td>14</td>\n",
       "      <td>NaN</td>\n",
       "      <td>9</td>\n",
       "      <td>False</td>\n",
       "      <td>...</td>\n",
       "      <td>6800.0</td>\n",
       "      <td>2.0</td>\n",
       "      <td>84.0</td>\n",
       "      <td>3.0</td>\n",
       "      <td>234.0</td>\n",
       "      <td>424.0</td>\n",
       "      <td>Friday</td>\n",
       "      <td>другой</td>\n",
       "      <td>408176</td>\n",
       "      <td>NaN</td>\n",
       "    </tr>\n",
       "    <tr>\n",
       "      <th>4</th>\n",
       "      <td>2</td>\n",
       "      <td>10000000</td>\n",
       "      <td>100.0</td>\n",
       "      <td>2018-06-19</td>\n",
       "      <td>2</td>\n",
       "      <td>3.03</td>\n",
       "      <td>14</td>\n",
       "      <td>32.0</td>\n",
       "      <td>13</td>\n",
       "      <td>False</td>\n",
       "      <td>...</td>\n",
       "      <td>8098.0</td>\n",
       "      <td>2.0</td>\n",
       "      <td>112.0</td>\n",
       "      <td>1.0</td>\n",
       "      <td>48.0</td>\n",
       "      <td>121.0</td>\n",
       "      <td>Tuesday</td>\n",
       "      <td>другой</td>\n",
       "      <td>100000</td>\n",
       "      <td>41.0</td>\n",
       "    </tr>\n",
       "  </tbody>\n",
       "</table>\n",
       "<p>5 rows × 26 columns</p>\n",
       "</div>"
      ],
      "text/plain": [
       "   total_images  last_price  total_area first_day_exposition  rooms  \\\n",
       "0            20    13000000       108.0           2019-03-07      3   \n",
       "1             7     3350000        40.4           2018-12-04      1   \n",
       "2            10     5196000        56.0           2015-08-20      2   \n",
       "3             0    64900000       159.0           2015-07-24      3   \n",
       "4             2    10000000       100.0           2018-06-19      2   \n",
       "\n",
       "   ceiling_height  floors_total  living_area  floor is_apartment  ...  \\\n",
       "0            2.70            16         51.0      8        False  ...   \n",
       "1            2.65            11         18.6      1        False  ...   \n",
       "2            2.65             5         34.3      4        False  ...   \n",
       "3            2.65            14          NaN      9        False  ...   \n",
       "4            3.03            14         32.0     13        False  ...   \n",
       "\n",
       "   cityCenters_nearest  parks_around3000  parks_nearest  ponds_around3000  \\\n",
       "0              16028.0               1.0          482.0               2.0   \n",
       "1              18603.0               0.0            0.0               0.0   \n",
       "2              13933.0               1.0           90.0               2.0   \n",
       "3               6800.0               2.0           84.0               3.0   \n",
       "4               8098.0               2.0          112.0               1.0   \n",
       "\n",
       "  ponds_nearest  days_exposition  week_day  floor_group  metre_price  \\\n",
       "0         755.0              NaN  Thursday       другой       120370   \n",
       "1           0.0             81.0   Tuesday       первый        82920   \n",
       "2         574.0            558.0  Thursday       другой        92785   \n",
       "3         234.0            424.0    Friday       другой       408176   \n",
       "4          48.0            121.0   Tuesday       другой       100000   \n",
       "\n",
       "   kitchen_ratio  \n",
       "0           23.0  \n",
       "1           27.0  \n",
       "2           15.0  \n",
       "3            NaN  \n",
       "4           41.0  \n",
       "\n",
       "[5 rows x 26 columns]"
      ]
     },
     "metadata": {},
     "output_type": "display_data"
    }
   ],
   "source": [
    "data['kitchen_ratio'] = ((data['kitchen_area'] / data['total_area']) * 100).round()\n",
    "display(data.head())"
   ]
  },
  {
   "cell_type": "markdown",
   "metadata": {},
   "source": [
    "Добавляем соотношение жилой площади  к общей площади квартиры"
   ]
  },
  {
   "cell_type": "code",
   "execution_count": 19,
   "metadata": {},
   "outputs": [
    {
     "data": {
      "text/html": [
       "<div>\n",
       "<style scoped>\n",
       "    .dataframe tbody tr th:only-of-type {\n",
       "        vertical-align: middle;\n",
       "    }\n",
       "\n",
       "    .dataframe tbody tr th {\n",
       "        vertical-align: top;\n",
       "    }\n",
       "\n",
       "    .dataframe thead th {\n",
       "        text-align: right;\n",
       "    }\n",
       "</style>\n",
       "<table border=\"1\" class=\"dataframe\">\n",
       "  <thead>\n",
       "    <tr style=\"text-align: right;\">\n",
       "      <th></th>\n",
       "      <th>total_images</th>\n",
       "      <th>last_price</th>\n",
       "      <th>total_area</th>\n",
       "      <th>first_day_exposition</th>\n",
       "      <th>rooms</th>\n",
       "      <th>ceiling_height</th>\n",
       "      <th>floors_total</th>\n",
       "      <th>living_area</th>\n",
       "      <th>floor</th>\n",
       "      <th>is_apartment</th>\n",
       "      <th>...</th>\n",
       "      <th>parks_around3000</th>\n",
       "      <th>parks_nearest</th>\n",
       "      <th>ponds_around3000</th>\n",
       "      <th>ponds_nearest</th>\n",
       "      <th>days_exposition</th>\n",
       "      <th>week_day</th>\n",
       "      <th>floor_group</th>\n",
       "      <th>metre_price</th>\n",
       "      <th>kitchen_ratio</th>\n",
       "      <th>living_area_ratio</th>\n",
       "    </tr>\n",
       "  </thead>\n",
       "  <tbody>\n",
       "    <tr>\n",
       "      <th>0</th>\n",
       "      <td>20</td>\n",
       "      <td>13000000</td>\n",
       "      <td>108.0</td>\n",
       "      <td>2019-03-07</td>\n",
       "      <td>3</td>\n",
       "      <td>2.70</td>\n",
       "      <td>16</td>\n",
       "      <td>51.0</td>\n",
       "      <td>8</td>\n",
       "      <td>False</td>\n",
       "      <td>...</td>\n",
       "      <td>1.0</td>\n",
       "      <td>482.0</td>\n",
       "      <td>2.0</td>\n",
       "      <td>755.0</td>\n",
       "      <td>NaN</td>\n",
       "      <td>Thursday</td>\n",
       "      <td>другой</td>\n",
       "      <td>120370</td>\n",
       "      <td>23.0</td>\n",
       "      <td>47.0</td>\n",
       "    </tr>\n",
       "    <tr>\n",
       "      <th>1</th>\n",
       "      <td>7</td>\n",
       "      <td>3350000</td>\n",
       "      <td>40.4</td>\n",
       "      <td>2018-12-04</td>\n",
       "      <td>1</td>\n",
       "      <td>2.65</td>\n",
       "      <td>11</td>\n",
       "      <td>18.6</td>\n",
       "      <td>1</td>\n",
       "      <td>False</td>\n",
       "      <td>...</td>\n",
       "      <td>0.0</td>\n",
       "      <td>0.0</td>\n",
       "      <td>0.0</td>\n",
       "      <td>0.0</td>\n",
       "      <td>81.0</td>\n",
       "      <td>Tuesday</td>\n",
       "      <td>первый</td>\n",
       "      <td>82920</td>\n",
       "      <td>27.0</td>\n",
       "      <td>46.0</td>\n",
       "    </tr>\n",
       "    <tr>\n",
       "      <th>2</th>\n",
       "      <td>10</td>\n",
       "      <td>5196000</td>\n",
       "      <td>56.0</td>\n",
       "      <td>2015-08-20</td>\n",
       "      <td>2</td>\n",
       "      <td>2.65</td>\n",
       "      <td>5</td>\n",
       "      <td>34.3</td>\n",
       "      <td>4</td>\n",
       "      <td>False</td>\n",
       "      <td>...</td>\n",
       "      <td>1.0</td>\n",
       "      <td>90.0</td>\n",
       "      <td>2.0</td>\n",
       "      <td>574.0</td>\n",
       "      <td>558.0</td>\n",
       "      <td>Thursday</td>\n",
       "      <td>другой</td>\n",
       "      <td>92785</td>\n",
       "      <td>15.0</td>\n",
       "      <td>61.0</td>\n",
       "    </tr>\n",
       "    <tr>\n",
       "      <th>3</th>\n",
       "      <td>0</td>\n",
       "      <td>64900000</td>\n",
       "      <td>159.0</td>\n",
       "      <td>2015-07-24</td>\n",
       "      <td>3</td>\n",
       "      <td>2.65</td>\n",
       "      <td>14</td>\n",
       "      <td>NaN</td>\n",
       "      <td>9</td>\n",
       "      <td>False</td>\n",
       "      <td>...</td>\n",
       "      <td>2.0</td>\n",
       "      <td>84.0</td>\n",
       "      <td>3.0</td>\n",
       "      <td>234.0</td>\n",
       "      <td>424.0</td>\n",
       "      <td>Friday</td>\n",
       "      <td>другой</td>\n",
       "      <td>408176</td>\n",
       "      <td>NaN</td>\n",
       "      <td>NaN</td>\n",
       "    </tr>\n",
       "    <tr>\n",
       "      <th>4</th>\n",
       "      <td>2</td>\n",
       "      <td>10000000</td>\n",
       "      <td>100.0</td>\n",
       "      <td>2018-06-19</td>\n",
       "      <td>2</td>\n",
       "      <td>3.03</td>\n",
       "      <td>14</td>\n",
       "      <td>32.0</td>\n",
       "      <td>13</td>\n",
       "      <td>False</td>\n",
       "      <td>...</td>\n",
       "      <td>2.0</td>\n",
       "      <td>112.0</td>\n",
       "      <td>1.0</td>\n",
       "      <td>48.0</td>\n",
       "      <td>121.0</td>\n",
       "      <td>Tuesday</td>\n",
       "      <td>другой</td>\n",
       "      <td>100000</td>\n",
       "      <td>41.0</td>\n",
       "      <td>32.0</td>\n",
       "    </tr>\n",
       "  </tbody>\n",
       "</table>\n",
       "<p>5 rows × 27 columns</p>\n",
       "</div>"
      ],
      "text/plain": [
       "   total_images  last_price  total_area first_day_exposition  rooms  \\\n",
       "0            20    13000000       108.0           2019-03-07      3   \n",
       "1             7     3350000        40.4           2018-12-04      1   \n",
       "2            10     5196000        56.0           2015-08-20      2   \n",
       "3             0    64900000       159.0           2015-07-24      3   \n",
       "4             2    10000000       100.0           2018-06-19      2   \n",
       "\n",
       "   ceiling_height  floors_total  living_area  floor is_apartment  ...  \\\n",
       "0            2.70            16         51.0      8        False  ...   \n",
       "1            2.65            11         18.6      1        False  ...   \n",
       "2            2.65             5         34.3      4        False  ...   \n",
       "3            2.65            14          NaN      9        False  ...   \n",
       "4            3.03            14         32.0     13        False  ...   \n",
       "\n",
       "   parks_around3000  parks_nearest  ponds_around3000  ponds_nearest  \\\n",
       "0               1.0          482.0               2.0          755.0   \n",
       "1               0.0            0.0               0.0            0.0   \n",
       "2               1.0           90.0               2.0          574.0   \n",
       "3               2.0           84.0               3.0          234.0   \n",
       "4               2.0          112.0               1.0           48.0   \n",
       "\n",
       "  days_exposition  week_day  floor_group  metre_price  kitchen_ratio  \\\n",
       "0             NaN  Thursday       другой       120370           23.0   \n",
       "1            81.0   Tuesday       первый        82920           27.0   \n",
       "2           558.0  Thursday       другой        92785           15.0   \n",
       "3           424.0    Friday       другой       408176            NaN   \n",
       "4           121.0   Tuesday       другой       100000           41.0   \n",
       "\n",
       "   living_area_ratio  \n",
       "0               47.0  \n",
       "1               46.0  \n",
       "2               61.0  \n",
       "3                NaN  \n",
       "4               32.0  \n",
       "\n",
       "[5 rows x 27 columns]"
      ]
     },
     "metadata": {},
     "output_type": "display_data"
    }
   ],
   "source": [
    "data['living_area_ratio'] = ((data['living_area'] / data['total_area']) * 100).round()\n",
    "display(data.head())"
   ]
  },
  {
   "cell_type": "markdown",
   "metadata": {},
   "source": [
    "## Исследовательский анализ данных"
   ]
  },
  {
   "cell_type": "markdown",
   "metadata": {},
   "source": [
    "### Площадь, цена, число комнат, высота потолков"
   ]
  },
  {
   "cell_type": "markdown",
   "metadata": {},
   "source": [
    "Рассмотрим распределение площадей недвижимости. Самая большая площадь жилья 900 кв. метров, самая маленькая 12 кв. м. Основная масса квартир имеют площадь от 30 до 100 кв. метров."
   ]
  },
  {
   "cell_type": "code",
   "execution_count": 20,
   "metadata": {
    "scrolled": true
   },
   "outputs": [
    {
     "name": "stdout",
     "output_type": "stream",
     "text": [
      "count    23699.000000\n",
      "mean        60.348651\n",
      "std         35.654083\n",
      "min         12.000000\n",
      "25%         40.000000\n",
      "50%         52.000000\n",
      "75%         69.900000\n",
      "max        900.000000\n",
      "Name: total_area, dtype: float64\n",
      "AxesSubplot(0.125,0.125;0.775x0.755)\n"
     ]
    },
    {
     "data": {
      "image/png": "[encoded data removed]",
      "text/plain": [
       "<Figure size 432x288 with 1 Axes>"
      ]
     },
     "metadata": {
      "needs_background": "light"
     },
     "output_type": "display_data"
    }
   ],
   "source": [
    "distribution(data['total_area'])"
   ]
  },
  {
   "cell_type": "code",
   "execution_count": 21,
   "metadata": {},
   "outputs": [
    {
     "data": {
      "image/png": "[encoded data removed]",
      "text/plain": [
       "<Figure size 432x288 with 1 Axes>"
      ]
     },
     "metadata": {
      "needs_background": "light"
     },
     "output_type": "display_data"
    }
   ],
   "source": [
    "data['total_area'].hist(bins=100, range=(20,150));"
   ]
  },
  {
   "cell_type": "markdown",
   "metadata": {},
   "source": [
    "Рассмотрим количесво комнат. Минимальное количество комнат 0 - студии, максимальное 19. Большинство квартир имею 1 - 3 комнат."
   ]
  },
  {
   "cell_type": "code",
   "execution_count": 22,
   "metadata": {
    "scrolled": false
   },
   "outputs": [
    {
     "name": "stdout",
     "output_type": "stream",
     "text": [
      "count    23699.000000\n",
      "mean         2.070636\n",
      "std          1.078405\n",
      "min          0.000000\n",
      "25%          1.000000\n",
      "50%          2.000000\n",
      "75%          3.000000\n",
      "max         19.000000\n",
      "Name: rooms, dtype: float64\n",
      "AxesSubplot(0.125,0.125;0.775x0.755)\n"
     ]
    },
    {
     "data": {
      "image/png": "[encoded data removed]",
      "text/plain": [
       "<Figure size 432x288 with 1 Axes>"
      ]
     },
     "metadata": {
      "needs_background": "light"
     },
     "output_type": "display_data"
    }
   ],
   "source": [
    "distribution(data['rooms'])"
   ]
  },
  {
   "cell_type": "markdown",
   "metadata": {},
   "source": [
    "Изучим высоту потолков. Минимальное значение 1 метр, максимальное 100. Основная масса жилья имеет высоту от 2,5 до 3 м."
   ]
  },
  {
   "cell_type": "code",
   "execution_count": 23,
   "metadata": {
    "scrolled": true
   },
   "outputs": [
    {
     "name": "stdout",
     "output_type": "stream",
     "text": [
      "count    23699.000000\n",
      "mean         2.724358\n",
      "std          0.988298\n",
      "min          1.000000\n",
      "25%          2.600000\n",
      "50%          2.650000\n",
      "75%          2.700000\n",
      "max        100.000000\n",
      "Name: ceiling_height, dtype: float64\n",
      "AxesSubplot(0.125,0.125;0.775x0.755)\n"
     ]
    },
    {
     "data": {
      "image/png": "[encoded data removed]",
      "text/plain": [
       "<Figure size 432x288 with 1 Axes>"
      ]
     },
     "metadata": {
      "needs_background": "light"
     },
     "output_type": "display_data"
    }
   ],
   "source": [
    "distribution(data['ceiling_height'])"
   ]
  },
  {
   "cell_type": "code",
   "execution_count": 24,
   "metadata": {},
   "outputs": [
    {
     "data": {
      "image/png": "[encoded data removed]",
      "text/plain": [
       "<Figure size 432x288 with 1 Axes>"
      ]
     },
     "metadata": {
      "needs_background": "light"
     },
     "output_type": "display_data"
    }
   ],
   "source": [
    "data['ceiling_height'].hist(bins=100, range=(1,4));"
   ]
  },
  {
   "cell_type": "markdown",
   "metadata": {},
   "source": [
    "Общая стоимость жилья. Для более удобного построения графика уберем несколько нулей поделив цену на 1000. Получаем минимальную цену жилья 12000, а максимальную 763 млн. руб. Цены на недвижимость в основном находятся в диапозоне 3,4 млн. - 8 млн. руб."
   ]
  },
  {
   "cell_type": "code",
   "execution_count": 25,
   "metadata": {
    "scrolled": true
   },
   "outputs": [
    {
     "name": "stdout",
     "output_type": "stream",
     "text": [
      "          last_price\n",
      "count   23699.000000\n",
      "mean     6541.548772\n",
      "std     10887.013268\n",
      "min        12.190000\n",
      "25%      3400.000000\n",
      "50%      4650.000000\n",
      "75%      6800.000000\n",
      "max    763000.000000\n",
      "[[<AxesSubplot:title={'center':'last_price'}>]]\n"
     ]
    },
    {
     "data": {
      "image/png": "[encoded data removed]",
      "text/plain": [
       "<Figure size 432x288 with 1 Axes>"
      ]
     },
     "metadata": {
      "needs_background": "light"
     },
     "output_type": "display_data"
    }
   ],
   "source": [
    "distribution(data[['last_price']] / 1000)"
   ]
  },
  {
   "cell_type": "code",
   "execution_count": 26,
   "metadata": {},
   "outputs": [
    {
     "data": {
      "image/png": "[encoded data removed]",
      "text/plain": [
       "<Figure size 432x288 with 1 Axes>"
      ]
     },
     "metadata": {
      "needs_background": "light"
     },
     "output_type": "display_data"
    }
   ],
   "source": [
    "(data[['last_price']] / 1000).hist(bins=100, range=(12,15000));"
   ]
  },
  {
   "cell_type": "markdown",
   "metadata": {},
   "source": [
    "Вывод.\n",
    "\n",
    "Большинство квартир находит в диапозонах:\n",
    "- по площади: от 30 до 100 кв. метров;\n",
    "- по количеству комнат: от 1 до 3;\n",
    "- по высоте потолков: 2,5 до 3 метров;\n",
    "- по ценам: 3,4 млн. - 8 миллионов рублей."
   ]
  },
  {
   "cell_type": "markdown",
   "metadata": {},
   "source": [
    "### Время продажи квартиры"
   ]
  },
  {
   "cell_type": "markdown",
   "metadata": {},
   "source": [
    "Изучим время которое нужно для продажи недвижимости. Самый быстрый период продажи - 1 день, самый продолжительный 1580 дней (4 с лишним года). В основном недвижимость продается за первые 200 дней. При ближайшем рассмотрении видны некоторое количество пиков продаж (7, 10, 45, 60, 90) - возможно сказывается повторное выставление объявлений и поднятие в списке объектов на продажу."
   ]
  },
  {
   "cell_type": "code",
   "execution_count": 27,
   "metadata": {
    "scrolled": false
   },
   "outputs": [
    {
     "name": "stdout",
     "output_type": "stream",
     "text": [
      "count    20518.000000\n",
      "mean       180.888634\n",
      "std        219.727988\n",
      "min          1.000000\n",
      "25%         45.000000\n",
      "50%         95.000000\n",
      "75%        232.000000\n",
      "max       1580.000000\n",
      "Name: days_exposition, dtype: float64\n",
      "AxesSubplot(0.125,0.125;0.775x0.755)\n"
     ]
    },
    {
     "data": {
      "image/png": "[encoded data removed]",
      "text/plain": [
       "<Figure size 432x288 with 1 Axes>"
      ]
     },
     "metadata": {
      "needs_background": "light"
     },
     "output_type": "display_data"
    }
   ],
   "source": [
    "distribution(data['days_exposition'])"
   ]
  },
  {
   "cell_type": "code",
   "execution_count": 28,
   "metadata": {},
   "outputs": [
    {
     "data": {
      "image/png": "[encoded data removed]",
      "text/plain": [
       "<Figure size 432x288 with 1 Axes>"
      ]
     },
     "metadata": {
      "needs_background": "light"
     },
     "output_type": "display_data"
    }
   ],
   "source": [
    "data['days_exposition'].hist(bins=100,range=(0,200));"
   ]
  },
  {
   "cell_type": "code",
   "execution_count": 29,
   "metadata": {
    "scrolled": true
   },
   "outputs": [
    {
     "data": {
      "image/png": "[encoded data removed]",
      "text/plain": [
       "<Figure size 432x288 with 1 Axes>"
      ]
     },
     "metadata": {
      "needs_background": "light"
     },
     "output_type": "display_data"
    }
   ],
   "source": [
    "data['days_exposition'].hist(bins=100,range=(0,100));"
   ]
  },
  {
   "cell_type": "markdown",
   "metadata": {},
   "source": [
    "При рассмотрении зависимости продаж в первые 50 дней и цен, можно заметить, что нет взаимосвязи, т.е. низкая цена не осбо влияет на скорость покупки."
   ]
  },
  {
   "cell_type": "code",
   "execution_count": 30,
   "metadata": {
    "scrolled": true
   },
   "outputs": [
    {
     "data": {
      "image/png": "[encoded data removed]",
      "text/plain": [
       "<Figure size 720x216 with 1 Axes>"
      ]
     },
     "metadata": {
      "needs_background": "light"
     },
     "output_type": "display_data"
    }
   ],
   "source": [
    "data.plot(x='days_exposition', y='last_price', ylim =(0,8000000), xlim = (0,50), kind='scatter', grid=True, figsize=(10, 3));"
   ]
  },
  {
   "cell_type": "markdown",
   "metadata": {},
   "source": [
    "Вывод: Продажа на протяжении первых 200 дней нормальное явление, дольше 900 дней - редкое. Продажи за первые 50 дней существования объявления кажутся быстрым, но все же они присутствуют во всех ценовых категориях.   "
   ]
  },
  {
   "cell_type": "markdown",
   "metadata": {},
   "source": [
    "### Зависимость стоимости квартиры от различных факторов "
   ]
  },
  {
   "cell_type": "markdown",
   "metadata": {
    "scrolled": true
   },
   "source": [
    "Выделим в отдельную таблицу квартиры отфильтрованные по параметрам: \n",
    "* пплощадь от 30 до 100 квадратных метров;\n",
    "* количество комнат от 0 до 5;\n",
    "* высота потолков 2,5 до 3,5 метров;"
   ]
  },
  {
   "cell_type": "code",
   "execution_count": 31,
   "metadata": {},
   "outputs": [
    {
     "name": "stdout",
     "output_type": "stream",
     "text": [
      "Index(['total_images', 'last_price', 'total_area', 'first_day_exposition',\n",
      "       'rooms', 'ceiling_height', 'floors_total', 'living_area', 'floor',\n",
      "       'is_apartment', 'studio', 'open_plan', 'kitchen_area', 'balcony',\n",
      "       'locality_name', 'airports_nearest', 'cityCenters_nearest',\n",
      "       'parks_around3000', 'parks_nearest', 'ponds_around3000',\n",
      "       'ponds_nearest', 'days_exposition', 'week_day', 'floor_group',\n",
      "       'metre_price', 'kitchen_ratio', 'living_area_ratio'],\n",
      "      dtype='object')\n",
      "20928\n"
     ]
    }
   ],
   "source": [
    "data_two = data.query('30 <= total_area <= 100 & rooms <= 5 & (2.5 <= ceiling_height <= 3.5)')\n",
    "print(data_two.columns)\n",
    "print(len(data_two))"
   ]
  },
  {
   "cell_type": "markdown",
   "metadata": {},
   "source": [
    "Добавляем в таблицу два столбца с годом и месяцем выставления на продажу."
   ]
  },
  {
   "cell_type": "code",
   "execution_count": 32,
   "metadata": {
    "scrolled": true
   },
   "outputs": [
    {
     "name": "stderr",
     "output_type": "stream",
     "text": [
      "/tmp/ipykernel_13048/2857782666.py:1: SettingWithCopyWarning: \n",
      "A value is trying to be set on a copy of a slice from a DataFrame.\n",
      "Try using .loc[row_indexer,col_indexer] = value instead\n",
      "\n",
      "See the caveats in the documentation: https://pandas.pydata.org/pandas-docs/stable/user_guide/indexing.html#returning-a-view-versus-a-copy\n",
      "  data_two['month'] = data['first_day_exposition'].dt.month #месяц создания объявления\n",
      "/tmp/ipykernel_13048/2857782666.py:2: SettingWithCopyWarning: \n",
      "A value is trying to be set on a copy of a slice from a DataFrame.\n",
      "Try using .loc[row_indexer,col_indexer] = value instead\n",
      "\n",
      "See the caveats in the documentation: https://pandas.pydata.org/pandas-docs/stable/user_guide/indexing.html#returning-a-view-versus-a-copy\n",
      "  data_two['year'] = data['first_day_exposition'].dt.year #год выставления на продажу\n"
     ]
    },
    {
     "data": {
      "text/html": [
       "<div>\n",
       "<style scoped>\n",
       "    .dataframe tbody tr th:only-of-type {\n",
       "        vertical-align: middle;\n",
       "    }\n",
       "\n",
       "    .dataframe tbody tr th {\n",
       "        vertical-align: top;\n",
       "    }\n",
       "\n",
       "    .dataframe thead th {\n",
       "        text-align: right;\n",
       "    }\n",
       "</style>\n",
       "<table border=\"1\" class=\"dataframe\">\n",
       "  <thead>\n",
       "    <tr style=\"text-align: right;\">\n",
       "      <th></th>\n",
       "      <th>total_images</th>\n",
       "      <th>last_price</th>\n",
       "      <th>total_area</th>\n",
       "      <th>first_day_exposition</th>\n",
       "      <th>rooms</th>\n",
       "      <th>ceiling_height</th>\n",
       "      <th>floors_total</th>\n",
       "      <th>living_area</th>\n",
       "      <th>floor</th>\n",
       "      <th>is_apartment</th>\n",
       "      <th>...</th>\n",
       "      <th>ponds_around3000</th>\n",
       "      <th>ponds_nearest</th>\n",
       "      <th>days_exposition</th>\n",
       "      <th>week_day</th>\n",
       "      <th>floor_group</th>\n",
       "      <th>metre_price</th>\n",
       "      <th>kitchen_ratio</th>\n",
       "      <th>living_area_ratio</th>\n",
       "      <th>month</th>\n",
       "      <th>year</th>\n",
       "    </tr>\n",
       "  </thead>\n",
       "  <tbody>\n",
       "    <tr>\n",
       "      <th>1</th>\n",
       "      <td>7</td>\n",
       "      <td>3350000</td>\n",
       "      <td>40.4</td>\n",
       "      <td>2018-12-04</td>\n",
       "      <td>1</td>\n",
       "      <td>2.65</td>\n",
       "      <td>11</td>\n",
       "      <td>18.6</td>\n",
       "      <td>1</td>\n",
       "      <td>False</td>\n",
       "      <td>...</td>\n",
       "      <td>0.0</td>\n",
       "      <td>0.0</td>\n",
       "      <td>81.0</td>\n",
       "      <td>Tuesday</td>\n",
       "      <td>первый</td>\n",
       "      <td>82920</td>\n",
       "      <td>27.0</td>\n",
       "      <td>46.0</td>\n",
       "      <td>12</td>\n",
       "      <td>2018</td>\n",
       "    </tr>\n",
       "    <tr>\n",
       "      <th>2</th>\n",
       "      <td>10</td>\n",
       "      <td>5196000</td>\n",
       "      <td>56.0</td>\n",
       "      <td>2015-08-20</td>\n",
       "      <td>2</td>\n",
       "      <td>2.65</td>\n",
       "      <td>5</td>\n",
       "      <td>34.3</td>\n",
       "      <td>4</td>\n",
       "      <td>False</td>\n",
       "      <td>...</td>\n",
       "      <td>2.0</td>\n",
       "      <td>574.0</td>\n",
       "      <td>558.0</td>\n",
       "      <td>Thursday</td>\n",
       "      <td>другой</td>\n",
       "      <td>92785</td>\n",
       "      <td>15.0</td>\n",
       "      <td>61.0</td>\n",
       "      <td>8</td>\n",
       "      <td>2015</td>\n",
       "    </tr>\n",
       "    <tr>\n",
       "      <th>4</th>\n",
       "      <td>2</td>\n",
       "      <td>10000000</td>\n",
       "      <td>100.0</td>\n",
       "      <td>2018-06-19</td>\n",
       "      <td>2</td>\n",
       "      <td>3.03</td>\n",
       "      <td>14</td>\n",
       "      <td>32.0</td>\n",
       "      <td>13</td>\n",
       "      <td>False</td>\n",
       "      <td>...</td>\n",
       "      <td>1.0</td>\n",
       "      <td>48.0</td>\n",
       "      <td>121.0</td>\n",
       "      <td>Tuesday</td>\n",
       "      <td>другой</td>\n",
       "      <td>100000</td>\n",
       "      <td>41.0</td>\n",
       "      <td>32.0</td>\n",
       "      <td>6</td>\n",
       "      <td>2018</td>\n",
       "    </tr>\n",
       "    <tr>\n",
       "      <th>5</th>\n",
       "      <td>10</td>\n",
       "      <td>2890000</td>\n",
       "      <td>30.4</td>\n",
       "      <td>2018-09-10</td>\n",
       "      <td>1</td>\n",
       "      <td>2.65</td>\n",
       "      <td>12</td>\n",
       "      <td>14.4</td>\n",
       "      <td>5</td>\n",
       "      <td>False</td>\n",
       "      <td>...</td>\n",
       "      <td>0.0</td>\n",
       "      <td>0.0</td>\n",
       "      <td>55.0</td>\n",
       "      <td>Monday</td>\n",
       "      <td>другой</td>\n",
       "      <td>95065</td>\n",
       "      <td>30.0</td>\n",
       "      <td>47.0</td>\n",
       "      <td>9</td>\n",
       "      <td>2018</td>\n",
       "    </tr>\n",
       "    <tr>\n",
       "      <th>6</th>\n",
       "      <td>6</td>\n",
       "      <td>3700000</td>\n",
       "      <td>37.3</td>\n",
       "      <td>2017-11-02</td>\n",
       "      <td>1</td>\n",
       "      <td>2.65</td>\n",
       "      <td>26</td>\n",
       "      <td>10.6</td>\n",
       "      <td>6</td>\n",
       "      <td>False</td>\n",
       "      <td>...</td>\n",
       "      <td>0.0</td>\n",
       "      <td>0.0</td>\n",
       "      <td>155.0</td>\n",
       "      <td>Thursday</td>\n",
       "      <td>другой</td>\n",
       "      <td>99195</td>\n",
       "      <td>39.0</td>\n",
       "      <td>28.0</td>\n",
       "      <td>11</td>\n",
       "      <td>2017</td>\n",
       "    </tr>\n",
       "  </tbody>\n",
       "</table>\n",
       "<p>5 rows × 29 columns</p>\n",
       "</div>"
      ],
      "text/plain": [
       "   total_images  last_price  total_area first_day_exposition  rooms  \\\n",
       "1             7     3350000        40.4           2018-12-04      1   \n",
       "2            10     5196000        56.0           2015-08-20      2   \n",
       "4             2    10000000       100.0           2018-06-19      2   \n",
       "5            10     2890000        30.4           2018-09-10      1   \n",
       "6             6     3700000        37.3           2017-11-02      1   \n",
       "\n",
       "   ceiling_height  floors_total  living_area  floor is_apartment  ...  \\\n",
       "1            2.65            11         18.6      1        False  ...   \n",
       "2            2.65             5         34.3      4        False  ...   \n",
       "4            3.03            14         32.0     13        False  ...   \n",
       "5            2.65            12         14.4      5        False  ...   \n",
       "6            2.65            26         10.6      6        False  ...   \n",
       "\n",
       "   ponds_around3000  ponds_nearest  days_exposition  week_day floor_group  \\\n",
       "1               0.0            0.0             81.0   Tuesday      первый   \n",
       "2               2.0          574.0            558.0  Thursday      другой   \n",
       "4               1.0           48.0            121.0   Tuesday      другой   \n",
       "5               0.0            0.0             55.0    Monday      другой   \n",
       "6               0.0            0.0            155.0  Thursday      другой   \n",
       "\n",
       "   metre_price  kitchen_ratio  living_area_ratio  month  year  \n",
       "1        82920           27.0               46.0     12  2018  \n",
       "2        92785           15.0               61.0      8  2015  \n",
       "4       100000           41.0               32.0      6  2018  \n",
       "5        95065           30.0               47.0      9  2018  \n",
       "6        99195           39.0               28.0     11  2017  \n",
       "\n",
       "[5 rows x 29 columns]"
      ]
     },
     "metadata": {},
     "output_type": "display_data"
    }
   ],
   "source": [
    "data_two['month'] = data['first_day_exposition'].dt.month #месяц создания объявления\n",
    "data_two['year'] = data['first_day_exposition'].dt.year #год выставления на продажу\n",
    "display(data_two.head())\n",
    "\n",
    "import warnings\n",
    "warnings.simplefilter(\"ignore\")"
   ]
  },
  {
   "cell_type": "markdown",
   "metadata": {},
   "source": [
    "Рассмтрим зависимость цены и размера квартиры при помощи графика рассеивания и коэффициента корреляции. Можем судить о том, что есть зависимость средней величины. "
   ]
  },
  {
   "cell_type": "code",
   "execution_count": 33,
   "metadata": {
    "scrolled": false
   },
   "outputs": [
    {
     "data": {
      "image/png": "[encoded data removed]",
      "text/plain": [
       "<Figure size 432x288 with 1 Axes>"
      ]
     },
     "metadata": {
      "needs_background": "light"
     },
     "output_type": "display_data"
    }
   ],
   "source": [
    "(\n",
    "    data_two.pivot_table(index='total_area', values='last_price', aggfunc='median')\n",
    "    .reset_index()\n",
    "    .sort_values(by='last_price')\n",
    "    .plot(x='total_area', y='last_price', kind='scatter', grid=True)\n",
    ");"
   ]
  },
  {
   "cell_type": "code",
   "execution_count": 34,
   "metadata": {
    "scrolled": true
   },
   "outputs": [
    {
     "name": "stdout",
     "output_type": "stream",
     "text": [
      "0.6484237484754041\n"
     ]
    }
   ],
   "source": [
    "print(data_two['total_area'].corr(data_two['last_price']))"
   ]
  },
  {
   "cell_type": "markdown",
   "metadata": {},
   "source": [
    "Изучим зависимость цены и этажа квартиры. Стоимость квартир на первом этаже ниже остальных, а жил.площадь расположенная на других этажах (не 1 и не на последнем) дороже всех. Коэффициент корреляции указывет на слабую положительную зависимость между признаками объектов."
   ]
  },
  {
   "cell_type": "code",
   "execution_count": 35,
   "metadata": {
    "scrolled": true
   },
   "outputs": [
    {
     "data": {
      "image/png": "[encoded data removed]",
      "text/plain": [
       "<Figure size 432x288 with 1 Axes>"
      ]
     },
     "metadata": {
      "needs_background": "light"
     },
     "output_type": "display_data"
    }
   ],
   "source": [
    "data_two.groupby('floor_group')['last_price'].median().plot(kind='bar', grid=True);"
   ]
  },
  {
   "cell_type": "code",
   "execution_count": 36,
   "metadata": {
    "scrolled": false
   },
   "outputs": [
    {
     "name": "stdout",
     "output_type": "stream",
     "text": [
      "0.11332916963097814\n"
     ]
    }
   ],
   "source": [
    "print(data_two['floor'].corr(data_two['last_price']))"
   ]
  },
  {
   "cell_type": "markdown",
   "metadata": {},
   "source": [
    "Проанализируем зависимость цен и растояния до центра города. Присутвует небольшая обратная зависимость между признаками: чем объект ближе к центру, тем выше стоимость."
   ]
  },
  {
   "cell_type": "code",
   "execution_count": 37,
   "metadata": {
    "scrolled": true
   },
   "outputs": [
    {
     "data": {
      "image/png": "[encoded data removed]",
      "text/plain": [
       "<Figure size 432x360 with 1 Axes>"
      ]
     },
     "metadata": {
      "needs_background": "light"
     },
     "output_type": "display_data"
    }
   ],
   "source": [
    "(\n",
    "    data_two.pivot_table(index='cityCenters_nearest', values='last_price', aggfunc='median')\n",
    "    .reset_index()\n",
    "    .plot(x='cityCenters_nearest', y='last_price', kind='scatter',figsize=(6, 5), alpha=0.3, grid=True)\n",
    ");"
   ]
  },
  {
   "cell_type": "code",
   "execution_count": 38,
   "metadata": {
    "scrolled": true
   },
   "outputs": [
    {
     "name": "stdout",
     "output_type": "stream",
     "text": [
      "-0.33589493572011436\n"
     ]
    }
   ],
   "source": [
    "print(data_two['last_price'].corr(data_two['cityCenters_nearest']))"
   ]
  },
  {
   "cell_type": "markdown",
   "metadata": {},
   "source": [
    "Значительной зависимости цены от дня недели в который выставили предложение о продажи нет, уровень цен примерно одинаков во все дни недели."
   ]
  },
  {
   "cell_type": "code",
   "execution_count": 39,
   "metadata": {
    "scrolled": true
   },
   "outputs": [
    {
     "data": {
      "image/png": "[encoded data removed]",
      "text/plain": [
       "<Figure size 432x360 with 1 Axes>"
      ]
     },
     "metadata": {
      "needs_background": "light"
     },
     "output_type": "display_data"
    }
   ],
   "source": [
    "(\n",
    "    data_two.pivot_table(index='week_day', values='last_price', aggfunc='median')\n",
    "    .reset_index()\n",
    "    .plot(x='week_day', y='last_price', kind='bar',figsize=(6, 5), grid=True)\n",
    ");"
   ]
  },
  {
   "cell_type": "markdown",
   "metadata": {},
   "source": [
    "Заметны небольшие колебания цен в разные месяцы начала продаж - в апреле цены выше, в июне самые низкие. Коеффициент корреляции очень низкий. Зависимости практически нет."
   ]
  },
  {
   "cell_type": "code",
   "execution_count": 40,
   "metadata": {
    "scrolled": true
   },
   "outputs": [
    {
     "data": {
      "image/png": "[encoded data removed]",
      "text/plain": [
       "<Figure size 432x360 with 1 Axes>"
      ]
     },
     "metadata": {
      "needs_background": "light"
     },
     "output_type": "display_data"
    }
   ],
   "source": [
    "(\n",
    "    data_two.pivot_table(index='month', values='last_price', aggfunc='median')\n",
    "    .reset_index()\n",
    "    .plot(x='month', y='last_price', kind='bar',figsize=(6, 5), grid=True)\n",
    ");"
   ]
  },
  {
   "cell_type": "code",
   "execution_count": 41,
   "metadata": {},
   "outputs": [
    {
     "name": "stdout",
     "output_type": "stream",
     "text": [
      "-0.002071514990930028\n"
     ]
    }
   ],
   "source": [
    "print(data_two['last_price'].corr(data_two['month']))"
   ]
  },
  {
   "cell_type": "markdown",
   "metadata": {},
   "source": [
    "Цены на квартиры в 2014 очевидно выше, чем в другие года. До 2016 года наблюдается спад, после 2017 рост цен. Коеффициент корреляции очень низкий. "
   ]
  },
  {
   "cell_type": "code",
   "execution_count": 42,
   "metadata": {
    "scrolled": false
   },
   "outputs": [
    {
     "data": {
      "image/png": "[encoded data removed]",
      "text/plain": [
       "<Figure size 432x360 with 1 Axes>"
      ]
     },
     "metadata": {
      "needs_background": "light"
     },
     "output_type": "display_data"
    }
   ],
   "source": [
    "(\n",
    "    data_two.pivot_table(index='year', values='last_price', aggfunc='median')\n",
    "    .reset_index()\n",
    "    .plot(x='year', y='last_price', kind='line',figsize=(6, 5), grid=True)\n",
    ");"
   ]
  },
  {
   "cell_type": "code",
   "execution_count": 43,
   "metadata": {
    "scrolled": true
   },
   "outputs": [
    {
     "name": "stdout",
     "output_type": "stream",
     "text": [
      "0.008193469997475077\n"
     ]
    }
   ],
   "source": [
    "print(data_two['last_price'].corr(data_two['year']))"
   ]
  },
  {
   "cell_type": "markdown",
   "metadata": {},
   "source": [
    "Самая низкая цена на студии и однокомнатные квартиры, самая высокая на квартиры с 4 комнатами. Коэффициент корреляции показывает слабую зависимость этих двух параметров."
   ]
  },
  {
   "cell_type": "code",
   "execution_count": 44,
   "metadata": {
    "scrolled": true
   },
   "outputs": [
    {
     "data": {
      "image/png": "[encoded data removed]",
      "text/plain": [
       "<Figure size 432x360 with 1 Axes>"
      ]
     },
     "metadata": {
      "needs_background": "light"
     },
     "output_type": "display_data"
    }
   ],
   "source": [
    "(\n",
    "    data_two.pivot_table(index='rooms', values='last_price', aggfunc='median')\n",
    "    .reset_index()\n",
    "    .plot(x='rooms', y='last_price', kind='line',figsize=(6, 5), grid=True)\n",
    ");"
   ]
  },
  {
   "cell_type": "code",
   "execution_count": 45,
   "metadata": {},
   "outputs": [
    {
     "name": "stdout",
     "output_type": "stream",
     "text": [
      "0.3428355941853621\n"
     ]
    }
   ],
   "source": [
    "print(data_two['rooms'].corr(data_two['last_price']))"
   ]
  },
  {
   "cell_type": "code",
   "execution_count": 46,
   "metadata": {
    "scrolled": false
   },
   "outputs": [
    {
     "data": {
      "text/html": [
       "<div>\n",
       "<style scoped>\n",
       "    .dataframe tbody tr th:only-of-type {\n",
       "        vertical-align: middle;\n",
       "    }\n",
       "\n",
       "    .dataframe tbody tr th {\n",
       "        vertical-align: top;\n",
       "    }\n",
       "\n",
       "    .dataframe thead th {\n",
       "        text-align: right;\n",
       "    }\n",
       "</style>\n",
       "<table border=\"1\" class=\"dataframe\">\n",
       "  <thead>\n",
       "    <tr style=\"text-align: right;\">\n",
       "      <th></th>\n",
       "      <th>last_price</th>\n",
       "      <th>rooms</th>\n",
       "      <th>year</th>\n",
       "      <th>month</th>\n",
       "      <th>cityCenters_nearest</th>\n",
       "      <th>floor</th>\n",
       "      <th>total_area</th>\n",
       "    </tr>\n",
       "  </thead>\n",
       "  <tbody>\n",
       "    <tr>\n",
       "      <th>last_price</th>\n",
       "      <td>1.000000</td>\n",
       "      <td>0.342836</td>\n",
       "      <td>0.008193</td>\n",
       "      <td>-0.002072</td>\n",
       "      <td>-0.335895</td>\n",
       "      <td>0.113329</td>\n",
       "      <td>0.648424</td>\n",
       "    </tr>\n",
       "    <tr>\n",
       "      <th>rooms</th>\n",
       "      <td>0.342836</td>\n",
       "      <td>1.000000</td>\n",
       "      <td>-0.022041</td>\n",
       "      <td>-0.002410</td>\n",
       "      <td>-0.080000</td>\n",
       "      <td>-0.168883</td>\n",
       "      <td>0.778328</td>\n",
       "    </tr>\n",
       "    <tr>\n",
       "      <th>year</th>\n",
       "      <td>0.008193</td>\n",
       "      <td>-0.022041</td>\n",
       "      <td>1.000000</td>\n",
       "      <td>-0.271690</td>\n",
       "      <td>0.015982</td>\n",
       "      <td>0.004644</td>\n",
       "      <td>-0.046082</td>\n",
       "    </tr>\n",
       "    <tr>\n",
       "      <th>month</th>\n",
       "      <td>-0.002072</td>\n",
       "      <td>-0.002410</td>\n",
       "      <td>-0.271690</td>\n",
       "      <td>1.000000</td>\n",
       "      <td>-0.011542</td>\n",
       "      <td>0.017827</td>\n",
       "      <td>0.002818</td>\n",
       "    </tr>\n",
       "    <tr>\n",
       "      <th>cityCenters_nearest</th>\n",
       "      <td>-0.335895</td>\n",
       "      <td>-0.080000</td>\n",
       "      <td>0.015982</td>\n",
       "      <td>-0.011542</td>\n",
       "      <td>1.000000</td>\n",
       "      <td>-0.011570</td>\n",
       "      <td>-0.155787</td>\n",
       "    </tr>\n",
       "    <tr>\n",
       "      <th>floor</th>\n",
       "      <td>0.113329</td>\n",
       "      <td>-0.168883</td>\n",
       "      <td>0.004644</td>\n",
       "      <td>0.017827</td>\n",
       "      <td>-0.011570</td>\n",
       "      <td>1.000000</td>\n",
       "      <td>-0.010588</td>\n",
       "    </tr>\n",
       "    <tr>\n",
       "      <th>total_area</th>\n",
       "      <td>0.648424</td>\n",
       "      <td>0.778328</td>\n",
       "      <td>-0.046082</td>\n",
       "      <td>0.002818</td>\n",
       "      <td>-0.155787</td>\n",
       "      <td>-0.010588</td>\n",
       "      <td>1.000000</td>\n",
       "    </tr>\n",
       "  </tbody>\n",
       "</table>\n",
       "</div>"
      ],
      "text/plain": [
       "                     last_price     rooms      year     month  \\\n",
       "last_price             1.000000  0.342836  0.008193 -0.002072   \n",
       "rooms                  0.342836  1.000000 -0.022041 -0.002410   \n",
       "year                   0.008193 -0.022041  1.000000 -0.271690   \n",
       "month                 -0.002072 -0.002410 -0.271690  1.000000   \n",
       "cityCenters_nearest   -0.335895 -0.080000  0.015982 -0.011542   \n",
       "floor                  0.113329 -0.168883  0.004644  0.017827   \n",
       "total_area             0.648424  0.778328 -0.046082  0.002818   \n",
       "\n",
       "                     cityCenters_nearest     floor  total_area  \n",
       "last_price                     -0.335895  0.113329    0.648424  \n",
       "rooms                          -0.080000 -0.168883    0.778328  \n",
       "year                            0.015982  0.004644   -0.046082  \n",
       "month                          -0.011542  0.017827    0.002818  \n",
       "cityCenters_nearest             1.000000 -0.011570   -0.155787  \n",
       "floor                          -0.011570  1.000000   -0.010588  \n",
       "total_area                     -0.155787 -0.010588    1.000000  "
      ]
     },
     "execution_count": 46,
     "metadata": {},
     "output_type": "execute_result"
    }
   ],
   "source": [
    "data_two[['last_price', 'rooms', 'year', 'month', 'week_day', \n",
    "                  'cityCenters_nearest', 'floor', 'total_area']].corr()"
   ]
  },
  {
   "cell_type": "markdown",
   "metadata": {},
   "source": [
    "Выводы:\n",
    "\n",
    "Самое сильное влияние на цену жилого помещения оказывает - площадь квартиры. Меньше меняет цену - близость к центру города, количество комнат, этаж расположения. Период выставления объявления о продаже практически никак не влияет на стоимость квартиры."
   ]
  },
  {
   "cell_type": "markdown",
   "metadata": {},
   "source": [
    "### 10 населённых пунктов"
   ]
  },
  {
   "cell_type": "markdown",
   "metadata": {},
   "source": [
    "Выделим 10 населенных пунктов с самым большим количеством объявлений."
   ]
  },
  {
   "cell_type": "code",
   "execution_count": 47,
   "metadata": {
    "scrolled": true
   },
   "outputs": [
    {
     "data": {
      "text/html": [
       "<div>\n",
       "<style scoped>\n",
       "    .dataframe tbody tr th:only-of-type {\n",
       "        vertical-align: middle;\n",
       "    }\n",
       "\n",
       "    .dataframe tbody tr th {\n",
       "        vertical-align: top;\n",
       "    }\n",
       "\n",
       "    .dataframe thead th {\n",
       "        text-align: right;\n",
       "    }\n",
       "</style>\n",
       "<table border=\"1\" class=\"dataframe\">\n",
       "  <thead>\n",
       "    <tr style=\"text-align: right;\">\n",
       "      <th></th>\n",
       "      <th>locality_name</th>\n",
       "      <th>count</th>\n",
       "      <th>mean</th>\n",
       "    </tr>\n",
       "  </thead>\n",
       "  <tbody>\n",
       "    <tr>\n",
       "      <th>0</th>\n",
       "      <td>Санкт-Петербург</td>\n",
       "      <td>13496.0</td>\n",
       "      <td>6078903</td>\n",
       "    </tr>\n",
       "    <tr>\n",
       "      <th>1</th>\n",
       "      <td>посёлок Мурино</td>\n",
       "      <td>454.0</td>\n",
       "      <td>3863844</td>\n",
       "    </tr>\n",
       "    <tr>\n",
       "      <th>2</th>\n",
       "      <td>посёлок Шушары</td>\n",
       "      <td>414.0</td>\n",
       "      <td>4070891</td>\n",
       "    </tr>\n",
       "    <tr>\n",
       "      <th>3</th>\n",
       "      <td>Всеволожск</td>\n",
       "      <td>380.0</td>\n",
       "      <td>3783116</td>\n",
       "    </tr>\n",
       "    <tr>\n",
       "      <th>4</th>\n",
       "      <td>Пушкин</td>\n",
       "      <td>327.0</td>\n",
       "      <td>5435144</td>\n",
       "    </tr>\n",
       "    <tr>\n",
       "      <th>5</th>\n",
       "      <td>Колпино</td>\n",
       "      <td>325.0</td>\n",
       "      <td>3831733</td>\n",
       "    </tr>\n",
       "    <tr>\n",
       "      <th>6</th>\n",
       "      <td>посёлок Парголово</td>\n",
       "      <td>317.0</td>\n",
       "      <td>4502383</td>\n",
       "    </tr>\n",
       "    <tr>\n",
       "      <th>7</th>\n",
       "      <td>Гатчина</td>\n",
       "      <td>297.0</td>\n",
       "      <td>3430001</td>\n",
       "    </tr>\n",
       "    <tr>\n",
       "      <th>8</th>\n",
       "      <td>деревня Кудрово</td>\n",
       "      <td>266.0</td>\n",
       "      <td>4387188</td>\n",
       "    </tr>\n",
       "    <tr>\n",
       "      <th>9</th>\n",
       "      <td>Выборг</td>\n",
       "      <td>206.0</td>\n",
       "      <td>3043908</td>\n",
       "    </tr>\n",
       "  </tbody>\n",
       "</table>\n",
       "</div>"
      ],
      "text/plain": [
       "       locality_name    count     mean\n",
       "0    Санкт-Петербург  13496.0  6078903\n",
       "1     посёлок Мурино    454.0  3863844\n",
       "2     посёлок Шушары    414.0  4070891\n",
       "3         Всеволожск    380.0  3783116\n",
       "4             Пушкин    327.0  5435144\n",
       "5            Колпино    325.0  3831733\n",
       "6  посёлок Парголово    317.0  4502383\n",
       "7            Гатчина    297.0  3430001\n",
       "8    деревня Кудрово    266.0  4387188\n",
       "9             Выборг    206.0  3043908"
      ]
     },
     "metadata": {},
     "output_type": "display_data"
    }
   ],
   "source": [
    "data_settlements = (\n",
    "    data_two.pivot_table(index='locality_name', values='last_price', aggfunc=('count', 'mean'))\n",
    "    .sort_values(by='count', ascending= False)\n",
    "    .reset_index()\n",
    "    .iloc[0:10]\n",
    ")\n",
    "data_settlements['mean'] = data_settlements['mean'].round().astype('int')\n",
    "display(data_settlements)"
   ]
  },
  {
   "cell_type": "markdown",
   "metadata": {},
   "source": [
    "Самая дорогая недвижимость в населенных пунктах Санкт-Петербург и Пушкин, а самая дешевая в Гатчине и Выборге."
   ]
  },
  {
   "cell_type": "code",
   "execution_count": 48,
   "metadata": {
    "scrolled": false
   },
   "outputs": [
    {
     "data": {
      "image/png": "[encoded data removed]",
      "text/plain": [
       "<Figure size 432x288 with 1 Axes>"
      ]
     },
     "metadata": {
      "needs_background": "light"
     },
     "output_type": "display_data"
    }
   ],
   "source": [
    "(\n",
    "    data_settlements.sort_values(by='mean', ascending= False)\n",
    "    .plot(x='locality_name', y='mean', kind='bar')\n",
    ");"
   ]
  },
  {
   "cell_type": "markdown",
   "metadata": {},
   "source": [
    "Вывод:\n",
    "Самая дорогая недвижимость в населенных пунктах Санкт-Петербург и Пушкин, самая дешевая в Гатчине и Выборге  "
   ]
  },
  {
   "cell_type": "markdown",
   "metadata": {},
   "source": [
    "### Квартиры в Санкт-Петербурге"
   ]
  },
  {
   "cell_type": "markdown",
   "metadata": {},
   "source": [
    "Изучим предложения о продаже недвижимости в Санкт-Петербурге и найдем значение для критерия \"центр города\", который понадобится для продолжения исследования."
   ]
  },
  {
   "cell_type": "code",
   "execution_count": 49,
   "metadata": {
    "scrolled": false
   },
   "outputs": [
    {
     "data": {
      "text/html": [
       "<div>\n",
       "<style scoped>\n",
       "    .dataframe tbody tr th:only-of-type {\n",
       "        vertical-align: middle;\n",
       "    }\n",
       "\n",
       "    .dataframe tbody tr th {\n",
       "        vertical-align: top;\n",
       "    }\n",
       "\n",
       "    .dataframe thead th {\n",
       "        text-align: right;\n",
       "    }\n",
       "</style>\n",
       "<table border=\"1\" class=\"dataframe\">\n",
       "  <thead>\n",
       "    <tr style=\"text-align: right;\">\n",
       "      <th></th>\n",
       "      <th>total_images</th>\n",
       "      <th>last_price</th>\n",
       "      <th>total_area</th>\n",
       "      <th>first_day_exposition</th>\n",
       "      <th>rooms</th>\n",
       "      <th>ceiling_height</th>\n",
       "      <th>floors_total</th>\n",
       "      <th>living_area</th>\n",
       "      <th>floor</th>\n",
       "      <th>is_apartment</th>\n",
       "      <th>...</th>\n",
       "      <th>ponds_around3000</th>\n",
       "      <th>ponds_nearest</th>\n",
       "      <th>days_exposition</th>\n",
       "      <th>week_day</th>\n",
       "      <th>floor_group</th>\n",
       "      <th>metre_price</th>\n",
       "      <th>kitchen_ratio</th>\n",
       "      <th>living_area_ratio</th>\n",
       "      <th>month</th>\n",
       "      <th>year</th>\n",
       "    </tr>\n",
       "  </thead>\n",
       "  <tbody>\n",
       "    <tr>\n",
       "      <th>2</th>\n",
       "      <td>10</td>\n",
       "      <td>5196000</td>\n",
       "      <td>56.0</td>\n",
       "      <td>2015-08-20</td>\n",
       "      <td>2</td>\n",
       "      <td>2.65</td>\n",
       "      <td>5</td>\n",
       "      <td>34.3</td>\n",
       "      <td>4</td>\n",
       "      <td>False</td>\n",
       "      <td>...</td>\n",
       "      <td>2.0</td>\n",
       "      <td>574.0</td>\n",
       "      <td>558.0</td>\n",
       "      <td>Thursday</td>\n",
       "      <td>другой</td>\n",
       "      <td>92785</td>\n",
       "      <td>15.0</td>\n",
       "      <td>61.0</td>\n",
       "      <td>8</td>\n",
       "      <td>2015</td>\n",
       "    </tr>\n",
       "    <tr>\n",
       "      <th>4</th>\n",
       "      <td>2</td>\n",
       "      <td>10000000</td>\n",
       "      <td>100.0</td>\n",
       "      <td>2018-06-19</td>\n",
       "      <td>2</td>\n",
       "      <td>3.03</td>\n",
       "      <td>14</td>\n",
       "      <td>32.0</td>\n",
       "      <td>13</td>\n",
       "      <td>False</td>\n",
       "      <td>...</td>\n",
       "      <td>1.0</td>\n",
       "      <td>48.0</td>\n",
       "      <td>121.0</td>\n",
       "      <td>Tuesday</td>\n",
       "      <td>другой</td>\n",
       "      <td>100000</td>\n",
       "      <td>41.0</td>\n",
       "      <td>32.0</td>\n",
       "      <td>6</td>\n",
       "      <td>2018</td>\n",
       "    </tr>\n",
       "    <tr>\n",
       "      <th>7</th>\n",
       "      <td>5</td>\n",
       "      <td>7915000</td>\n",
       "      <td>71.6</td>\n",
       "      <td>2019-04-18</td>\n",
       "      <td>2</td>\n",
       "      <td>2.65</td>\n",
       "      <td>24</td>\n",
       "      <td>NaN</td>\n",
       "      <td>22</td>\n",
       "      <td>False</td>\n",
       "      <td>...</td>\n",
       "      <td>0.0</td>\n",
       "      <td>0.0</td>\n",
       "      <td>NaN</td>\n",
       "      <td>Thursday</td>\n",
       "      <td>другой</td>\n",
       "      <td>110544</td>\n",
       "      <td>26.0</td>\n",
       "      <td>NaN</td>\n",
       "      <td>4</td>\n",
       "      <td>2019</td>\n",
       "    </tr>\n",
       "    <tr>\n",
       "      <th>9</th>\n",
       "      <td>18</td>\n",
       "      <td>5400000</td>\n",
       "      <td>61.0</td>\n",
       "      <td>2017-02-26</td>\n",
       "      <td>3</td>\n",
       "      <td>2.50</td>\n",
       "      <td>9</td>\n",
       "      <td>43.6</td>\n",
       "      <td>7</td>\n",
       "      <td>False</td>\n",
       "      <td>...</td>\n",
       "      <td>0.0</td>\n",
       "      <td>0.0</td>\n",
       "      <td>289.0</td>\n",
       "      <td>Sunday</td>\n",
       "      <td>другой</td>\n",
       "      <td>88524</td>\n",
       "      <td>11.0</td>\n",
       "      <td>71.0</td>\n",
       "      <td>2</td>\n",
       "      <td>2017</td>\n",
       "    </tr>\n",
       "    <tr>\n",
       "      <th>10</th>\n",
       "      <td>5</td>\n",
       "      <td>5050000</td>\n",
       "      <td>39.6</td>\n",
       "      <td>2017-11-16</td>\n",
       "      <td>1</td>\n",
       "      <td>2.67</td>\n",
       "      <td>12</td>\n",
       "      <td>20.3</td>\n",
       "      <td>3</td>\n",
       "      <td>False</td>\n",
       "      <td>...</td>\n",
       "      <td>2.0</td>\n",
       "      <td>553.0</td>\n",
       "      <td>137.0</td>\n",
       "      <td>Thursday</td>\n",
       "      <td>другой</td>\n",
       "      <td>127525</td>\n",
       "      <td>21.0</td>\n",
       "      <td>51.0</td>\n",
       "      <td>11</td>\n",
       "      <td>2017</td>\n",
       "    </tr>\n",
       "  </tbody>\n",
       "</table>\n",
       "<p>5 rows × 29 columns</p>\n",
       "</div>"
      ],
      "text/plain": [
       "    total_images  last_price  total_area first_day_exposition  rooms  \\\n",
       "2             10     5196000        56.0           2015-08-20      2   \n",
       "4              2    10000000       100.0           2018-06-19      2   \n",
       "7              5     7915000        71.6           2019-04-18      2   \n",
       "9             18     5400000        61.0           2017-02-26      3   \n",
       "10             5     5050000        39.6           2017-11-16      1   \n",
       "\n",
       "    ceiling_height  floors_total  living_area  floor is_apartment  ...  \\\n",
       "2             2.65             5         34.3      4        False  ...   \n",
       "4             3.03            14         32.0     13        False  ...   \n",
       "7             2.65            24          NaN     22        False  ...   \n",
       "9             2.50             9         43.6      7        False  ...   \n",
       "10            2.67            12         20.3      3        False  ...   \n",
       "\n",
       "    ponds_around3000  ponds_nearest  days_exposition  week_day floor_group  \\\n",
       "2                2.0          574.0            558.0  Thursday      другой   \n",
       "4                1.0           48.0            121.0   Tuesday      другой   \n",
       "7                0.0            0.0              NaN  Thursday      другой   \n",
       "9                0.0            0.0            289.0    Sunday      другой   \n",
       "10               2.0          553.0            137.0  Thursday      другой   \n",
       "\n",
       "    metre_price  kitchen_ratio  living_area_ratio  month  year  \n",
       "2         92785           15.0               61.0      8  2015  \n",
       "4        100000           41.0               32.0      6  2018  \n",
       "7        110544           26.0                NaN      4  2019  \n",
       "9         88524           11.0               71.0      2  2017  \n",
       "10       127525           21.0               51.0     11  2017  \n",
       "\n",
       "[5 rows x 29 columns]"
      ]
     },
     "metadata": {},
     "output_type": "display_data"
    }
   ],
   "source": [
    "spb_flats = data_two.query('\"Санкт-Петербург\" in locality_name')\n",
    "display(spb_flats.head())"
   ]
  },
  {
   "cell_type": "markdown",
   "metadata": {},
   "source": [
    "Пропущенные значения удаляем. "
   ]
  },
  {
   "cell_type": "code",
   "execution_count": 50,
   "metadata": {
    "scrolled": true
   },
   "outputs": [
    {
     "name": "stdout",
     "output_type": "stream",
     "text": [
      "44\n"
     ]
    },
    {
     "data": {
      "text/html": [
       "<div>\n",
       "<style scoped>\n",
       "    .dataframe tbody tr th:only-of-type {\n",
       "        vertical-align: middle;\n",
       "    }\n",
       "\n",
       "    .dataframe tbody tr th {\n",
       "        vertical-align: top;\n",
       "    }\n",
       "\n",
       "    .dataframe thead th {\n",
       "        text-align: right;\n",
       "    }\n",
       "</style>\n",
       "<table border=\"1\" class=\"dataframe\">\n",
       "  <thead>\n",
       "    <tr style=\"text-align: right;\">\n",
       "      <th></th>\n",
       "      <th>total_images</th>\n",
       "      <th>last_price</th>\n",
       "      <th>total_area</th>\n",
       "      <th>first_day_exposition</th>\n",
       "      <th>rooms</th>\n",
       "      <th>ceiling_height</th>\n",
       "      <th>floors_total</th>\n",
       "      <th>living_area</th>\n",
       "      <th>floor</th>\n",
       "      <th>is_apartment</th>\n",
       "      <th>...</th>\n",
       "      <th>ponds_around3000</th>\n",
       "      <th>ponds_nearest</th>\n",
       "      <th>days_exposition</th>\n",
       "      <th>week_day</th>\n",
       "      <th>floor_group</th>\n",
       "      <th>metre_price</th>\n",
       "      <th>kitchen_ratio</th>\n",
       "      <th>living_area_ratio</th>\n",
       "      <th>month</th>\n",
       "      <th>year</th>\n",
       "    </tr>\n",
       "  </thead>\n",
       "  <tbody>\n",
       "    <tr>\n",
       "      <th>2</th>\n",
       "      <td>10</td>\n",
       "      <td>5196000</td>\n",
       "      <td>56.0</td>\n",
       "      <td>2015-08-20</td>\n",
       "      <td>2</td>\n",
       "      <td>2.65</td>\n",
       "      <td>5</td>\n",
       "      <td>34.3</td>\n",
       "      <td>4</td>\n",
       "      <td>False</td>\n",
       "      <td>...</td>\n",
       "      <td>2.0</td>\n",
       "      <td>574.0</td>\n",
       "      <td>558.0</td>\n",
       "      <td>Thursday</td>\n",
       "      <td>другой</td>\n",
       "      <td>92785</td>\n",
       "      <td>15.0</td>\n",
       "      <td>61.0</td>\n",
       "      <td>8</td>\n",
       "      <td>2015</td>\n",
       "    </tr>\n",
       "    <tr>\n",
       "      <th>4</th>\n",
       "      <td>2</td>\n",
       "      <td>10000000</td>\n",
       "      <td>100.0</td>\n",
       "      <td>2018-06-19</td>\n",
       "      <td>2</td>\n",
       "      <td>3.03</td>\n",
       "      <td>14</td>\n",
       "      <td>32.0</td>\n",
       "      <td>13</td>\n",
       "      <td>False</td>\n",
       "      <td>...</td>\n",
       "      <td>1.0</td>\n",
       "      <td>48.0</td>\n",
       "      <td>121.0</td>\n",
       "      <td>Tuesday</td>\n",
       "      <td>другой</td>\n",
       "      <td>100000</td>\n",
       "      <td>41.0</td>\n",
       "      <td>32.0</td>\n",
       "      <td>6</td>\n",
       "      <td>2018</td>\n",
       "    </tr>\n",
       "    <tr>\n",
       "      <th>9</th>\n",
       "      <td>18</td>\n",
       "      <td>5400000</td>\n",
       "      <td>61.0</td>\n",
       "      <td>2017-02-26</td>\n",
       "      <td>3</td>\n",
       "      <td>2.50</td>\n",
       "      <td>9</td>\n",
       "      <td>43.6</td>\n",
       "      <td>7</td>\n",
       "      <td>False</td>\n",
       "      <td>...</td>\n",
       "      <td>0.0</td>\n",
       "      <td>0.0</td>\n",
       "      <td>289.0</td>\n",
       "      <td>Sunday</td>\n",
       "      <td>другой</td>\n",
       "      <td>88524</td>\n",
       "      <td>11.0</td>\n",
       "      <td>71.0</td>\n",
       "      <td>2</td>\n",
       "      <td>2017</td>\n",
       "    </tr>\n",
       "    <tr>\n",
       "      <th>10</th>\n",
       "      <td>5</td>\n",
       "      <td>5050000</td>\n",
       "      <td>39.6</td>\n",
       "      <td>2017-11-16</td>\n",
       "      <td>1</td>\n",
       "      <td>2.67</td>\n",
       "      <td>12</td>\n",
       "      <td>20.3</td>\n",
       "      <td>3</td>\n",
       "      <td>False</td>\n",
       "      <td>...</td>\n",
       "      <td>2.0</td>\n",
       "      <td>553.0</td>\n",
       "      <td>137.0</td>\n",
       "      <td>Thursday</td>\n",
       "      <td>другой</td>\n",
       "      <td>127525</td>\n",
       "      <td>21.0</td>\n",
       "      <td>51.0</td>\n",
       "      <td>11</td>\n",
       "      <td>2017</td>\n",
       "    </tr>\n",
       "    <tr>\n",
       "      <th>15</th>\n",
       "      <td>16</td>\n",
       "      <td>4650000</td>\n",
       "      <td>39.0</td>\n",
       "      <td>2017-11-18</td>\n",
       "      <td>1</td>\n",
       "      <td>2.65</td>\n",
       "      <td>14</td>\n",
       "      <td>20.5</td>\n",
       "      <td>5</td>\n",
       "      <td>False</td>\n",
       "      <td>...</td>\n",
       "      <td>1.0</td>\n",
       "      <td>296.0</td>\n",
       "      <td>19.0</td>\n",
       "      <td>Saturday</td>\n",
       "      <td>другой</td>\n",
       "      <td>119230</td>\n",
       "      <td>19.0</td>\n",
       "      <td>53.0</td>\n",
       "      <td>11</td>\n",
       "      <td>2017</td>\n",
       "    </tr>\n",
       "    <tr>\n",
       "      <th>...</th>\n",
       "      <td>...</td>\n",
       "      <td>...</td>\n",
       "      <td>...</td>\n",
       "      <td>...</td>\n",
       "      <td>...</td>\n",
       "      <td>...</td>\n",
       "      <td>...</td>\n",
       "      <td>...</td>\n",
       "      <td>...</td>\n",
       "      <td>...</td>\n",
       "      <td>...</td>\n",
       "      <td>...</td>\n",
       "      <td>...</td>\n",
       "      <td>...</td>\n",
       "      <td>...</td>\n",
       "      <td>...</td>\n",
       "      <td>...</td>\n",
       "      <td>...</td>\n",
       "      <td>...</td>\n",
       "      <td>...</td>\n",
       "      <td>...</td>\n",
       "    </tr>\n",
       "    <tr>\n",
       "      <th>23686</th>\n",
       "      <td>8</td>\n",
       "      <td>3300000</td>\n",
       "      <td>31.0</td>\n",
       "      <td>2017-04-29</td>\n",
       "      <td>1</td>\n",
       "      <td>2.55</td>\n",
       "      <td>9</td>\n",
       "      <td>18.0</td>\n",
       "      <td>6</td>\n",
       "      <td>False</td>\n",
       "      <td>...</td>\n",
       "      <td>1.0</td>\n",
       "      <td>317.0</td>\n",
       "      <td>193.0</td>\n",
       "      <td>Saturday</td>\n",
       "      <td>другой</td>\n",
       "      <td>106451</td>\n",
       "      <td>21.0</td>\n",
       "      <td>58.0</td>\n",
       "      <td>4</td>\n",
       "      <td>2017</td>\n",
       "    </tr>\n",
       "    <tr>\n",
       "      <th>23687</th>\n",
       "      <td>6</td>\n",
       "      <td>3200000</td>\n",
       "      <td>39.0</td>\n",
       "      <td>2017-12-16</td>\n",
       "      <td>1</td>\n",
       "      <td>2.65</td>\n",
       "      <td>9</td>\n",
       "      <td>20.0</td>\n",
       "      <td>6</td>\n",
       "      <td>False</td>\n",
       "      <td>...</td>\n",
       "      <td>0.0</td>\n",
       "      <td>0.0</td>\n",
       "      <td>38.0</td>\n",
       "      <td>Saturday</td>\n",
       "      <td>другой</td>\n",
       "      <td>82051</td>\n",
       "      <td>28.0</td>\n",
       "      <td>51.0</td>\n",
       "      <td>12</td>\n",
       "      <td>2017</td>\n",
       "    </tr>\n",
       "    <tr>\n",
       "      <th>23689</th>\n",
       "      <td>13</td>\n",
       "      <td>3550000</td>\n",
       "      <td>35.3</td>\n",
       "      <td>2018-02-28</td>\n",
       "      <td>1</td>\n",
       "      <td>2.86</td>\n",
       "      <td>15</td>\n",
       "      <td>16.3</td>\n",
       "      <td>4</td>\n",
       "      <td>False</td>\n",
       "      <td>...</td>\n",
       "      <td>2.0</td>\n",
       "      <td>652.0</td>\n",
       "      <td>29.0</td>\n",
       "      <td>Wednesday</td>\n",
       "      <td>другой</td>\n",
       "      <td>100566</td>\n",
       "      <td>26.0</td>\n",
       "      <td>46.0</td>\n",
       "      <td>2</td>\n",
       "      <td>2018</td>\n",
       "    </tr>\n",
       "    <tr>\n",
       "      <th>23690</th>\n",
       "      <td>3</td>\n",
       "      <td>5500000</td>\n",
       "      <td>52.0</td>\n",
       "      <td>2018-07-19</td>\n",
       "      <td>2</td>\n",
       "      <td>2.65</td>\n",
       "      <td>5</td>\n",
       "      <td>31.0</td>\n",
       "      <td>2</td>\n",
       "      <td>False</td>\n",
       "      <td>...</td>\n",
       "      <td>0.0</td>\n",
       "      <td>0.0</td>\n",
       "      <td>15.0</td>\n",
       "      <td>Thursday</td>\n",
       "      <td>другой</td>\n",
       "      <td>105769</td>\n",
       "      <td>12.0</td>\n",
       "      <td>60.0</td>\n",
       "      <td>7</td>\n",
       "      <td>2018</td>\n",
       "    </tr>\n",
       "    <tr>\n",
       "      <th>23691</th>\n",
       "      <td>11</td>\n",
       "      <td>9470000</td>\n",
       "      <td>72.9</td>\n",
       "      <td>2016-10-13</td>\n",
       "      <td>2</td>\n",
       "      <td>2.75</td>\n",
       "      <td>25</td>\n",
       "      <td>40.3</td>\n",
       "      <td>7</td>\n",
       "      <td>False</td>\n",
       "      <td>...</td>\n",
       "      <td>1.0</td>\n",
       "      <td>806.0</td>\n",
       "      <td>519.0</td>\n",
       "      <td>Thursday</td>\n",
       "      <td>другой</td>\n",
       "      <td>129903</td>\n",
       "      <td>15.0</td>\n",
       "      <td>55.0</td>\n",
       "      <td>10</td>\n",
       "      <td>2016</td>\n",
       "    </tr>\n",
       "  </tbody>\n",
       "</table>\n",
       "<p>10742 rows × 29 columns</p>\n",
       "</div>"
      ],
      "text/plain": [
       "       total_images  last_price  total_area first_day_exposition  rooms  \\\n",
       "2                10     5196000        56.0           2015-08-20      2   \n",
       "4                 2    10000000       100.0           2018-06-19      2   \n",
       "9                18     5400000        61.0           2017-02-26      3   \n",
       "10                5     5050000        39.6           2017-11-16      1   \n",
       "15               16     4650000        39.0           2017-11-18      1   \n",
       "...             ...         ...         ...                  ...    ...   \n",
       "23686             8     3300000        31.0           2017-04-29      1   \n",
       "23687             6     3200000        39.0           2017-12-16      1   \n",
       "23689            13     3550000        35.3           2018-02-28      1   \n",
       "23690             3     5500000        52.0           2018-07-19      2   \n",
       "23691            11     9470000        72.9           2016-10-13      2   \n",
       "\n",
       "       ceiling_height  floors_total  living_area  floor is_apartment  ...  \\\n",
       "2                2.65             5         34.3      4        False  ...   \n",
       "4                3.03            14         32.0     13        False  ...   \n",
       "9                2.50             9         43.6      7        False  ...   \n",
       "10               2.67            12         20.3      3        False  ...   \n",
       "15               2.65            14         20.5      5        False  ...   \n",
       "...               ...           ...          ...    ...          ...  ...   \n",
       "23686            2.55             9         18.0      6        False  ...   \n",
       "23687            2.65             9         20.0      6        False  ...   \n",
       "23689            2.86            15         16.3      4        False  ...   \n",
       "23690            2.65             5         31.0      2        False  ...   \n",
       "23691            2.75            25         40.3      7        False  ...   \n",
       "\n",
       "       ponds_around3000  ponds_nearest  days_exposition   week_day  \\\n",
       "2                   2.0          574.0            558.0   Thursday   \n",
       "4                   1.0           48.0            121.0    Tuesday   \n",
       "9                   0.0            0.0            289.0     Sunday   \n",
       "10                  2.0          553.0            137.0   Thursday   \n",
       "15                  1.0          296.0             19.0   Saturday   \n",
       "...                 ...            ...              ...        ...   \n",
       "23686               1.0          317.0            193.0   Saturday   \n",
       "23687               0.0            0.0             38.0   Saturday   \n",
       "23689               2.0          652.0             29.0  Wednesday   \n",
       "23690               0.0            0.0             15.0   Thursday   \n",
       "23691               1.0          806.0            519.0   Thursday   \n",
       "\n",
       "      floor_group  metre_price  kitchen_ratio  living_area_ratio  month  year  \n",
       "2          другой        92785           15.0               61.0      8  2015  \n",
       "4          другой       100000           41.0               32.0      6  2018  \n",
       "9          другой        88524           11.0               71.0      2  2017  \n",
       "10         другой       127525           21.0               51.0     11  2017  \n",
       "15         другой       119230           19.0               53.0     11  2017  \n",
       "...           ...          ...            ...                ...    ...   ...  \n",
       "23686      другой       106451           21.0               58.0      4  2017  \n",
       "23687      другой        82051           28.0               51.0     12  2017  \n",
       "23689      другой       100566           26.0               46.0      2  2018  \n",
       "23690      другой       105769           12.0               60.0      7  2018  \n",
       "23691      другой       129903           15.0               55.0     10  2016  \n",
       "\n",
       "[10742 rows x 29 columns]"
      ]
     },
     "execution_count": 50,
     "metadata": {},
     "output_type": "execute_result"
    }
   ],
   "source": [
    "print(len(spb_flats[spb_flats['cityCenters_nearest'].isna()]))\n",
    "spb_flats.dropna(axis=0,inplace=False)"
   ]
  },
  {
   "cell_type": "markdown",
   "metadata": {},
   "source": [
    "Переведем растояние до центра в километры."
   ]
  },
  {
   "cell_type": "code",
   "execution_count": 51,
   "metadata": {
    "scrolled": false
   },
   "outputs": [
    {
     "data": {
      "text/html": [
       "<div>\n",
       "<style scoped>\n",
       "    .dataframe tbody tr th:only-of-type {\n",
       "        vertical-align: middle;\n",
       "    }\n",
       "\n",
       "    .dataframe tbody tr th {\n",
       "        vertical-align: top;\n",
       "    }\n",
       "\n",
       "    .dataframe thead th {\n",
       "        text-align: right;\n",
       "    }\n",
       "</style>\n",
       "<table border=\"1\" class=\"dataframe\">\n",
       "  <thead>\n",
       "    <tr style=\"text-align: right;\">\n",
       "      <th></th>\n",
       "      <th>total_images</th>\n",
       "      <th>last_price</th>\n",
       "      <th>total_area</th>\n",
       "      <th>first_day_exposition</th>\n",
       "      <th>rooms</th>\n",
       "      <th>ceiling_height</th>\n",
       "      <th>floors_total</th>\n",
       "      <th>living_area</th>\n",
       "      <th>floor</th>\n",
       "      <th>is_apartment</th>\n",
       "      <th>...</th>\n",
       "      <th>ponds_around3000</th>\n",
       "      <th>ponds_nearest</th>\n",
       "      <th>days_exposition</th>\n",
       "      <th>week_day</th>\n",
       "      <th>floor_group</th>\n",
       "      <th>metre_price</th>\n",
       "      <th>kitchen_ratio</th>\n",
       "      <th>living_area_ratio</th>\n",
       "      <th>month</th>\n",
       "      <th>year</th>\n",
       "    </tr>\n",
       "  </thead>\n",
       "  <tbody>\n",
       "    <tr>\n",
       "      <th>2</th>\n",
       "      <td>10</td>\n",
       "      <td>5196000</td>\n",
       "      <td>56.0</td>\n",
       "      <td>2015-08-20</td>\n",
       "      <td>2</td>\n",
       "      <td>2.65</td>\n",
       "      <td>5</td>\n",
       "      <td>34.3</td>\n",
       "      <td>4</td>\n",
       "      <td>False</td>\n",
       "      <td>...</td>\n",
       "      <td>2.0</td>\n",
       "      <td>574.0</td>\n",
       "      <td>558.0</td>\n",
       "      <td>Thursday</td>\n",
       "      <td>другой</td>\n",
       "      <td>92785</td>\n",
       "      <td>15.0</td>\n",
       "      <td>61.0</td>\n",
       "      <td>8</td>\n",
       "      <td>2015</td>\n",
       "    </tr>\n",
       "    <tr>\n",
       "      <th>4</th>\n",
       "      <td>2</td>\n",
       "      <td>10000000</td>\n",
       "      <td>100.0</td>\n",
       "      <td>2018-06-19</td>\n",
       "      <td>2</td>\n",
       "      <td>3.03</td>\n",
       "      <td>14</td>\n",
       "      <td>32.0</td>\n",
       "      <td>13</td>\n",
       "      <td>False</td>\n",
       "      <td>...</td>\n",
       "      <td>1.0</td>\n",
       "      <td>48.0</td>\n",
       "      <td>121.0</td>\n",
       "      <td>Tuesday</td>\n",
       "      <td>другой</td>\n",
       "      <td>100000</td>\n",
       "      <td>41.0</td>\n",
       "      <td>32.0</td>\n",
       "      <td>6</td>\n",
       "      <td>2018</td>\n",
       "    </tr>\n",
       "    <tr>\n",
       "      <th>7</th>\n",
       "      <td>5</td>\n",
       "      <td>7915000</td>\n",
       "      <td>71.6</td>\n",
       "      <td>2019-04-18</td>\n",
       "      <td>2</td>\n",
       "      <td>2.65</td>\n",
       "      <td>24</td>\n",
       "      <td>NaN</td>\n",
       "      <td>22</td>\n",
       "      <td>False</td>\n",
       "      <td>...</td>\n",
       "      <td>0.0</td>\n",
       "      <td>0.0</td>\n",
       "      <td>NaN</td>\n",
       "      <td>Thursday</td>\n",
       "      <td>другой</td>\n",
       "      <td>110544</td>\n",
       "      <td>26.0</td>\n",
       "      <td>NaN</td>\n",
       "      <td>4</td>\n",
       "      <td>2019</td>\n",
       "    </tr>\n",
       "    <tr>\n",
       "      <th>9</th>\n",
       "      <td>18</td>\n",
       "      <td>5400000</td>\n",
       "      <td>61.0</td>\n",
       "      <td>2017-02-26</td>\n",
       "      <td>3</td>\n",
       "      <td>2.50</td>\n",
       "      <td>9</td>\n",
       "      <td>43.6</td>\n",
       "      <td>7</td>\n",
       "      <td>False</td>\n",
       "      <td>...</td>\n",
       "      <td>0.0</td>\n",
       "      <td>0.0</td>\n",
       "      <td>289.0</td>\n",
       "      <td>Sunday</td>\n",
       "      <td>другой</td>\n",
       "      <td>88524</td>\n",
       "      <td>11.0</td>\n",
       "      <td>71.0</td>\n",
       "      <td>2</td>\n",
       "      <td>2017</td>\n",
       "    </tr>\n",
       "    <tr>\n",
       "      <th>10</th>\n",
       "      <td>5</td>\n",
       "      <td>5050000</td>\n",
       "      <td>39.6</td>\n",
       "      <td>2017-11-16</td>\n",
       "      <td>1</td>\n",
       "      <td>2.67</td>\n",
       "      <td>12</td>\n",
       "      <td>20.3</td>\n",
       "      <td>3</td>\n",
       "      <td>False</td>\n",
       "      <td>...</td>\n",
       "      <td>2.0</td>\n",
       "      <td>553.0</td>\n",
       "      <td>137.0</td>\n",
       "      <td>Thursday</td>\n",
       "      <td>другой</td>\n",
       "      <td>127525</td>\n",
       "      <td>21.0</td>\n",
       "      <td>51.0</td>\n",
       "      <td>11</td>\n",
       "      <td>2017</td>\n",
       "    </tr>\n",
       "  </tbody>\n",
       "</table>\n",
       "<p>5 rows × 29 columns</p>\n",
       "</div>"
      ],
      "text/plain": [
       "    total_images  last_price  total_area first_day_exposition  rooms  \\\n",
       "2             10     5196000        56.0           2015-08-20      2   \n",
       "4              2    10000000       100.0           2018-06-19      2   \n",
       "7              5     7915000        71.6           2019-04-18      2   \n",
       "9             18     5400000        61.0           2017-02-26      3   \n",
       "10             5     5050000        39.6           2017-11-16      1   \n",
       "\n",
       "    ceiling_height  floors_total  living_area  floor is_apartment  ...  \\\n",
       "2             2.65             5         34.3      4        False  ...   \n",
       "4             3.03            14         32.0     13        False  ...   \n",
       "7             2.65            24          NaN     22        False  ...   \n",
       "9             2.50             9         43.6      7        False  ...   \n",
       "10            2.67            12         20.3      3        False  ...   \n",
       "\n",
       "    ponds_around3000  ponds_nearest  days_exposition  week_day floor_group  \\\n",
       "2                2.0          574.0            558.0  Thursday      другой   \n",
       "4                1.0           48.0            121.0   Tuesday      другой   \n",
       "7                0.0            0.0              NaN  Thursday      другой   \n",
       "9                0.0            0.0            289.0    Sunday      другой   \n",
       "10               2.0          553.0            137.0  Thursday      другой   \n",
       "\n",
       "    metre_price  kitchen_ratio  living_area_ratio  month  year  \n",
       "2         92785           15.0               61.0      8  2015  \n",
       "4        100000           41.0               32.0      6  2018  \n",
       "7        110544           26.0                NaN      4  2019  \n",
       "9         88524           11.0               71.0      2  2017  \n",
       "10       127525           21.0               51.0     11  2017  \n",
       "\n",
       "[5 rows x 29 columns]"
      ]
     },
     "metadata": {},
     "output_type": "display_data"
    }
   ],
   "source": [
    "spb_flats['cityCenters_nearest'] = (spb_flats['cityCenters_nearest'] / 1000).round()\n",
    "display(spb_flats.head())"
   ]
  },
  {
   "cell_type": "markdown",
   "metadata": {},
   "source": [
    "Сгруппируем по удаленности от центра и расчитаем стреднюю цену. Из этих данных построи график зависимости цены и удаленности от центра. После 8 киломентров цена практически стабильно падает. Радиус в 8 километров можно считать центром города."
   ]
  },
  {
   "cell_type": "code",
   "execution_count": 52,
   "metadata": {
    "scrolled": true
   },
   "outputs": [
    {
     "data": {
      "image/png": "[encoded data removed]",
      "text/plain": [
       "<Figure size 432x288 with 1 Axes>"
      ]
     },
     "metadata": {
      "needs_background": "light"
     },
     "output_type": "display_data"
    }
   ],
   "source": [
    "(\n",
    "    spb_flats.groupby('cityCenters_nearest')['metre_price'].mean()\n",
    "    .plot(x='cityCenters_nearest', y='last_price', kind='line', grid=True)\n",
    ");\n"
   ]
  },
  {
   "cell_type": "markdown",
   "metadata": {},
   "source": [
    "Вывод:\n",
    "В центр города входит зона с радиусом в 8 киллометра. "
   ]
  },
  {
   "cell_type": "markdown",
   "metadata": {},
   "source": [
    "### Квартиры в центре"
   ]
  },
  {
   "cell_type": "markdown",
   "metadata": {},
   "source": [
    "Выделяем квартиры в центре города."
   ]
  },
  {
   "cell_type": "code",
   "execution_count": 53,
   "metadata": {
    "scrolled": true
   },
   "outputs": [],
   "source": [
    "center_spb_flats = spb_flats.query('cityCenters_nearest <= 7')"
   ]
  },
  {
   "cell_type": "markdown",
   "metadata": {},
   "source": [
    "Самые дорогие квартиры с 5 комнатами. 3х и 4х комнатрные стоят примерно одинакова. Студии и однокомнатные квартиры близки по стоимости."
   ]
  },
  {
   "cell_type": "code",
   "execution_count": 54,
   "metadata": {
    "scrolled": false
   },
   "outputs": [
    {
     "data": {
      "image/png": "[encoded data removed]",
      "text/plain": [
       "<Figure size 432x360 with 1 Axes>"
      ]
     },
     "metadata": {
      "needs_background": "light"
     },
     "output_type": "display_data"
    }
   ],
   "source": [
    "(\n",
    "    center_spb_flats.pivot_table(index='rooms', values='last_price', aggfunc='median')\n",
    "    .reset_index()\n",
    "    .plot(x='rooms', y='last_price', kind='bar',figsize=(6, 5), grid=True)\n",
    ");"
   ]
  },
  {
   "cell_type": "markdown",
   "metadata": {},
   "source": [
    "У студий и однокомнатных квартир самая высокая стоимость за квадратный метр."
   ]
  },
  {
   "cell_type": "code",
   "execution_count": 55,
   "metadata": {},
   "outputs": [
    {
     "data": {
      "image/png": "[encoded data removed]",
      "text/plain": [
       "<Figure size 432x360 with 1 Axes>"
      ]
     },
     "metadata": {
      "needs_background": "light"
     },
     "output_type": "display_data"
    }
   ],
   "source": [
    "(\n",
    "    center_spb_flats.pivot_table(index='rooms', values='metre_price', aggfunc='median')\n",
    "    .reset_index()\n",
    "    .plot(x='rooms', y='metre_price', kind='bar',figsize=(6, 5), grid=True)\n",
    ");"
   ]
  },
  {
   "cell_type": "markdown",
   "metadata": {},
   "source": [
    "Коэффициент корреляции указывает на слабую зависимость стоимости за квартиру от числа комнат в квартире."
   ]
  },
  {
   "cell_type": "code",
   "execution_count": 56,
   "metadata": {
    "scrolled": true
   },
   "outputs": [
    {
     "name": "stdout",
     "output_type": "stream",
     "text": [
      "0.19440681107976485\n"
     ]
    }
   ],
   "source": [
    "print(center_spb_flats['rooms'].corr(center_spb_flats['last_price']))"
   ]
  },
  {
   "cell_type": "markdown",
   "metadata": {},
   "source": [
    "Стоимость квартир на первом этаже ниже остальных."
   ]
  },
  {
   "cell_type": "code",
   "execution_count": 57,
   "metadata": {
    "scrolled": true
   },
   "outputs": [
    {
     "data": {
      "image/png": "[encoded data removed]",
      "text/plain": [
       "<Figure size 432x288 with 1 Axes>"
      ]
     },
     "metadata": {
      "needs_background": "light"
     },
     "output_type": "display_data"
    }
   ],
   "source": [
    "center_spb_flats.groupby('floor_group')['last_price'].median().plot(kind='bar', grid=True); "
   ]
  },
  {
   "cell_type": "markdown",
   "metadata": {},
   "source": [
    "Низкая зависимость цены и этажа квартиры."
   ]
  },
  {
   "cell_type": "code",
   "execution_count": 58,
   "metadata": {
    "scrolled": true
   },
   "outputs": [
    {
     "name": "stdout",
     "output_type": "stream",
     "text": [
      "0.1063052364958524\n"
     ]
    }
   ],
   "source": [
    "print(center_spb_flats['floor'].corr(center_spb_flats['last_price']))"
   ]
  },
  {
   "cell_type": "markdown",
   "metadata": {},
   "source": [
    "По графику и значению коэффициента корреляции можем сделать вывод, чо чем ближе к центру города, тем выше стоимость квартиры. "
   ]
  },
  {
   "cell_type": "code",
   "execution_count": 59,
   "metadata": {},
   "outputs": [
    {
     "data": {
      "image/png": "[encoded data removed]",
      "text/plain": [
       "<Figure size 432x360 with 1 Axes>"
      ]
     },
     "metadata": {
      "needs_background": "light"
     },
     "output_type": "display_data"
    }
   ],
   "source": [
    "(\n",
    "    center_spb_flats.pivot_table(index='cityCenters_nearest', values='last_price', aggfunc='median')\n",
    "    .reset_index()\n",
    "    .plot(x='cityCenters_nearest', y='last_price', kind='line',figsize=(6, 5), grid=True)\n",
    ");"
   ]
  },
  {
   "cell_type": "code",
   "execution_count": 60,
   "metadata": {
    "scrolled": true
   },
   "outputs": [
    {
     "name": "stdout",
     "output_type": "stream",
     "text": [
      "-0.11429065470412368\n"
     ]
    }
   ],
   "source": [
    "print(center_spb_flats['last_price'].corr(center_spb_flats['cityCenters_nearest']))"
   ]
  },
  {
   "cell_type": "markdown",
   "metadata": {},
   "source": [
    "Цены во все месяцы примерно одинаковые. Можно выделить месяцы в которые значения цен были ниже: май, июль, декабрь. Зависимость цены и месяца продажи очень слабая."
   ]
  },
  {
   "cell_type": "code",
   "execution_count": 61,
   "metadata": {},
   "outputs": [
    {
     "data": {
      "image/png": "[encoded data removed]",
      "text/plain": [
       "<Figure size 432x360 with 1 Axes>"
      ]
     },
     "metadata": {
      "needs_background": "light"
     },
     "output_type": "display_data"
    }
   ],
   "source": [
    "(\n",
    "    center_spb_flats.pivot_table(index='month', values='last_price', aggfunc='median')\n",
    "    .reset_index()\n",
    "    .plot(x='month', y='last_price', kind='bar',figsize=(6, 5), grid=True)\n",
    ");"
   ]
  },
  {
   "cell_type": "code",
   "execution_count": 62,
   "metadata": {
    "scrolled": true
   },
   "outputs": [
    {
     "name": "stdout",
     "output_type": "stream",
     "text": [
      "-0.022949529325229933\n"
     ]
    }
   ],
   "source": [
    "print(center_spb_flats['last_price'].corr(center_spb_flats['month']))"
   ]
  },
  {
   "cell_type": "markdown",
   "metadata": {},
   "source": [
    "В 2015 году цены сильно упали, но после 2017 года наблюдается рост. Коэффициент корреляции указывает на слабую зависимость двух показателей."
   ]
  },
  {
   "cell_type": "code",
   "execution_count": 63,
   "metadata": {
    "scrolled": true
   },
   "outputs": [
    {
     "data": {
      "image/png": "[encoded data removed]",
      "text/plain": [
       "<Figure size 432x360 with 1 Axes>"
      ]
     },
     "metadata": {
      "needs_background": "light"
     },
     "output_type": "display_data"
    }
   ],
   "source": [
    "(\n",
    "    center_spb_flats.pivot_table(index='year', values='last_price', aggfunc='median')\n",
    "    .reset_index()\n",
    "    .plot(x='year', y='last_price', kind='line',figsize=(6, 5), grid=True)\n",
    ");"
   ]
  },
  {
   "cell_type": "code",
   "execution_count": 64,
   "metadata": {},
   "outputs": [
    {
     "name": "stdout",
     "output_type": "stream",
     "text": [
      "0.03281240813930292\n"
     ]
    }
   ],
   "source": [
    "print(center_spb_flats['last_price'].corr(center_spb_flats['year']))"
   ]
  },
  {
   "cell_type": "markdown",
   "metadata": {},
   "source": [
    "На графике и на значении коэффициента корреляции мы можем наблюдать зависимость средней величины между стоимостью недвижимости и площадью. Чем больше площадь квартиры, тем выше её стоимость."
   ]
  },
  {
   "cell_type": "code",
   "execution_count": 65,
   "metadata": {},
   "outputs": [
    {
     "data": {
      "image/png": "[encoded data removed]",
      "text/plain": [
       "<Figure size 432x360 with 1 Axes>"
      ]
     },
     "metadata": {
      "needs_background": "light"
     },
     "output_type": "display_data"
    }
   ],
   "source": [
    "(\n",
    "    center_spb_flats.pivot_table(index='total_area', values='last_price', aggfunc='median')\n",
    "    .reset_index()\n",
    "    .plot(x='total_area', y='last_price', kind='scatter',figsize=(6, 5), grid=True)\n",
    ");"
   ]
  },
  {
   "cell_type": "code",
   "execution_count": 66,
   "metadata": {
    "scrolled": false
   },
   "outputs": [
    {
     "name": "stdout",
     "output_type": "stream",
     "text": [
      "0.5234644321669993\n"
     ]
    }
   ],
   "source": [
    "print(center_spb_flats['last_price'].corr(center_spb_flats['total_area']))"
   ]
  },
  {
   "cell_type": "code",
   "execution_count": 67,
   "metadata": {},
   "outputs": [
    {
     "data": {
      "text/html": [
       "<div>\n",
       "<style scoped>\n",
       "    .dataframe tbody tr th:only-of-type {\n",
       "        vertical-align: middle;\n",
       "    }\n",
       "\n",
       "    .dataframe tbody tr th {\n",
       "        vertical-align: top;\n",
       "    }\n",
       "\n",
       "    .dataframe thead th {\n",
       "        text-align: right;\n",
       "    }\n",
       "</style>\n",
       "<table border=\"1\" class=\"dataframe\">\n",
       "  <thead>\n",
       "    <tr style=\"text-align: right;\">\n",
       "      <th></th>\n",
       "      <th>last_price</th>\n",
       "      <th>rooms</th>\n",
       "      <th>year</th>\n",
       "      <th>month</th>\n",
       "      <th>cityCenters_nearest</th>\n",
       "      <th>floor</th>\n",
       "      <th>total_area</th>\n",
       "    </tr>\n",
       "  </thead>\n",
       "  <tbody>\n",
       "    <tr>\n",
       "      <th>last_price</th>\n",
       "      <td>1.000000</td>\n",
       "      <td>0.194407</td>\n",
       "      <td>0.032812</td>\n",
       "      <td>-0.022950</td>\n",
       "      <td>-0.114291</td>\n",
       "      <td>0.106305</td>\n",
       "      <td>0.523464</td>\n",
       "    </tr>\n",
       "    <tr>\n",
       "      <th>rooms</th>\n",
       "      <td>0.194407</td>\n",
       "      <td>1.000000</td>\n",
       "      <td>-0.020796</td>\n",
       "      <td>0.018549</td>\n",
       "      <td>-0.172270</td>\n",
       "      <td>-0.127814</td>\n",
       "      <td>0.726449</td>\n",
       "    </tr>\n",
       "    <tr>\n",
       "      <th>year</th>\n",
       "      <td>0.032812</td>\n",
       "      <td>-0.020796</td>\n",
       "      <td>1.000000</td>\n",
       "      <td>-0.254139</td>\n",
       "      <td>0.048778</td>\n",
       "      <td>-0.012433</td>\n",
       "      <td>-0.045216</td>\n",
       "    </tr>\n",
       "    <tr>\n",
       "      <th>month</th>\n",
       "      <td>-0.022950</td>\n",
       "      <td>0.018549</td>\n",
       "      <td>-0.254139</td>\n",
       "      <td>1.000000</td>\n",
       "      <td>-0.014067</td>\n",
       "      <td>0.000426</td>\n",
       "      <td>-0.004719</td>\n",
       "    </tr>\n",
       "    <tr>\n",
       "      <th>cityCenters_nearest</th>\n",
       "      <td>-0.114291</td>\n",
       "      <td>-0.172270</td>\n",
       "      <td>0.048778</td>\n",
       "      <td>-0.014067</td>\n",
       "      <td>1.000000</td>\n",
       "      <td>0.234403</td>\n",
       "      <td>-0.154590</td>\n",
       "    </tr>\n",
       "    <tr>\n",
       "      <th>floor</th>\n",
       "      <td>0.106305</td>\n",
       "      <td>-0.127814</td>\n",
       "      <td>-0.012433</td>\n",
       "      <td>0.000426</td>\n",
       "      <td>0.234403</td>\n",
       "      <td>1.000000</td>\n",
       "      <td>-0.012116</td>\n",
       "    </tr>\n",
       "    <tr>\n",
       "      <th>total_area</th>\n",
       "      <td>0.523464</td>\n",
       "      <td>0.726449</td>\n",
       "      <td>-0.045216</td>\n",
       "      <td>-0.004719</td>\n",
       "      <td>-0.154590</td>\n",
       "      <td>-0.012116</td>\n",
       "      <td>1.000000</td>\n",
       "    </tr>\n",
       "  </tbody>\n",
       "</table>\n",
       "</div>"
      ],
      "text/plain": [
       "                     last_price     rooms      year     month  \\\n",
       "last_price             1.000000  0.194407  0.032812 -0.022950   \n",
       "rooms                  0.194407  1.000000 -0.020796  0.018549   \n",
       "year                   0.032812 -0.020796  1.000000 -0.254139   \n",
       "month                 -0.022950  0.018549 -0.254139  1.000000   \n",
       "cityCenters_nearest   -0.114291 -0.172270  0.048778 -0.014067   \n",
       "floor                  0.106305 -0.127814 -0.012433  0.000426   \n",
       "total_area             0.523464  0.726449 -0.045216 -0.004719   \n",
       "\n",
       "                     cityCenters_nearest     floor  total_area  \n",
       "last_price                     -0.114291  0.106305    0.523464  \n",
       "rooms                          -0.172270 -0.127814    0.726449  \n",
       "year                            0.048778 -0.012433   -0.045216  \n",
       "month                          -0.014067  0.000426   -0.004719  \n",
       "cityCenters_nearest             1.000000  0.234403   -0.154590  \n",
       "floor                           0.234403  1.000000   -0.012116  \n",
       "total_area                     -0.154590 -0.012116    1.000000  "
      ]
     },
     "execution_count": 67,
     "metadata": {},
     "output_type": "execute_result"
    }
   ],
   "source": [
    "center_spb_flats[['last_price', 'rooms', 'year', 'month', 'week_day', \n",
    "                  'cityCenters_nearest', 'floor', 'total_area']].corr()"
   ]
  },
  {
   "cell_type": "markdown",
   "metadata": {},
   "source": [
    "Вывод:\n",
    "Квартины в центре города дороже всех остальных. В центре нет студий. Больше всего на стоимость помещения влияет площадь квартиры, меньшее влиянее оказывают такие факторы как: количество комнат,близость к центру города, этаж. Время выставления помещения на продаже влияния практически не оказывает."
   ]
  },
  {
   "cell_type": "markdown",
   "metadata": {},
   "source": [
    "## Общий вывод\n",
    "Самыми значительными факторами для формирования цены для квартир оказались:\n",
    "* общая площадь квартиры;\n",
    "* близость к центру города;\n",
    "* количество комнат;\n",
    "* этаж.\n",
    "День недели, месяц, год создания объявления на стоимость не влияют. \n",
    " \n",
    "В среднем на продажу квартиры уходило около 200 дней. В редких случиях больше 900 дней.\n",
    "Квартины в центре города дороже всех остальных. В центре нет студий. Самая высокая стоимость квадратного метра у студий и однокомнатных квартир."
   ]
  }
 ],
 "metadata": {
  "ExecuteTimeLog": [
   {
    "duration": 776,
    "start_time": "2021-12-18T13:42:45.526Z"
   },
   {
    "duration": 93,
    "start_time": "2021-12-18T13:44:43.354Z"
   },
   {
    "duration": 11,
    "start_time": "2021-12-18T13:46:06.315Z"
   },
   {
    "duration": 77,
    "start_time": "2021-12-18T13:47:44.215Z"
   },
   {
    "duration": 80,
    "start_time": "2021-12-18T13:51:54.535Z"
   },
   {
    "duration": 77,
    "start_time": "2021-12-18T13:52:04.829Z"
   },
   {
    "duration": 103,
    "start_time": "2021-12-18T13:54:15.321Z"
   },
   {
    "duration": 1566,
    "start_time": "2021-12-18T13:55:59.029Z"
   },
   {
    "duration": 5839,
    "start_time": "2021-12-18T13:56:04.489Z"
   },
   {
    "duration": 102,
    "start_time": "2021-12-18T13:56:39.406Z"
   },
   {
    "duration": 98,
    "start_time": "2021-12-18T13:56:56.120Z"
   },
   {
    "duration": 128,
    "start_time": "2021-12-18T13:57:36.878Z"
   },
   {
    "duration": 96,
    "start_time": "2021-12-18T13:57:47.749Z"
   },
   {
    "duration": 222,
    "start_time": "2021-12-18T13:58:52.924Z"
   },
   {
    "duration": 81,
    "start_time": "2021-12-18T13:59:00.466Z"
   },
   {
    "duration": 173,
    "start_time": "2021-12-18T13:59:10.085Z"
   },
   {
    "duration": 107,
    "start_time": "2021-12-18T13:59:20.125Z"
   },
   {
    "duration": 138,
    "start_time": "2021-12-18T13:59:27.174Z"
   },
   {
    "duration": 16,
    "start_time": "2021-12-18T13:59:32.794Z"
   },
   {
    "duration": 316,
    "start_time": "2021-12-19T11:19:01.198Z"
   },
   {
    "duration": 617,
    "start_time": "2021-12-19T11:19:06.998Z"
   },
   {
    "duration": 713,
    "start_time": "2021-12-19T11:19:14.264Z"
   },
   {
    "duration": 92,
    "start_time": "2021-12-19T11:19:23.839Z"
   },
   {
    "duration": 33,
    "start_time": "2021-12-19T11:19:23.933Z"
   },
   {
    "duration": 15,
    "start_time": "2021-12-19T11:19:23.968Z"
   },
   {
    "duration": 800,
    "start_time": "2021-12-20T07:30:33.787Z"
   },
   {
    "duration": 904,
    "start_time": "2021-12-20T07:30:44.901Z"
   },
   {
    "duration": 37,
    "start_time": "2021-12-20T07:30:45.808Z"
   },
   {
    "duration": 31,
    "start_time": "2021-12-20T07:30:45.848Z"
   },
   {
    "duration": 20,
    "start_time": "2021-12-20T07:30:45.882Z"
   },
   {
    "duration": 38,
    "start_time": "2021-12-20T07:32:22.868Z"
   },
   {
    "duration": 322,
    "start_time": "2021-12-20T07:53:25.054Z"
   },
   {
    "duration": 267,
    "start_time": "2021-12-20T07:56:46.657Z"
   },
   {
    "duration": 54,
    "start_time": "2021-12-20T07:56:58.441Z"
   },
   {
    "duration": 41,
    "start_time": "2021-12-20T07:58:23.339Z"
   },
   {
    "duration": 7,
    "start_time": "2021-12-20T08:49:17.567Z"
   },
   {
    "duration": 8,
    "start_time": "2021-12-20T08:49:26.516Z"
   },
   {
    "duration": 116,
    "start_time": "2021-12-20T08:53:07.469Z"
   },
   {
    "duration": 35,
    "start_time": "2021-12-20T08:53:07.588Z"
   },
   {
    "duration": 18,
    "start_time": "2021-12-20T08:53:07.627Z"
   },
   {
    "duration": 43,
    "start_time": "2021-12-20T08:53:07.668Z"
   },
   {
    "duration": 20,
    "start_time": "2021-12-20T08:53:07.713Z"
   },
   {
    "duration": 4,
    "start_time": "2021-12-20T08:53:07.768Z"
   },
   {
    "duration": 681,
    "start_time": "2021-12-20T09:01:26.337Z"
   },
   {
    "duration": 69,
    "start_time": "2021-12-20T09:02:57.634Z"
   },
   {
    "duration": 626,
    "start_time": "2021-12-20T09:03:50.579Z"
   },
   {
    "duration": 44,
    "start_time": "2021-12-20T09:04:47.156Z"
   },
   {
    "duration": 118,
    "start_time": "2021-12-20T09:05:00.901Z"
   },
   {
    "duration": 50,
    "start_time": "2021-12-20T09:05:01.021Z"
   },
   {
    "duration": 16,
    "start_time": "2021-12-20T09:05:01.075Z"
   },
   {
    "duration": 76,
    "start_time": "2021-12-20T09:05:01.094Z"
   },
   {
    "duration": 625,
    "start_time": "2021-12-20T09:05:01.173Z"
   },
   {
    "duration": 410,
    "start_time": "2021-12-20T09:05:01.391Z"
   },
   {
    "duration": 409,
    "start_time": "2021-12-20T09:05:01.393Z"
   },
   {
    "duration": 4,
    "start_time": "2021-12-20T09:05:27.860Z"
   },
   {
    "duration": 16,
    "start_time": "2021-12-20T09:05:47.397Z"
   },
   {
    "duration": 130,
    "start_time": "2021-12-20T09:07:39.079Z"
   },
   {
    "duration": 38,
    "start_time": "2021-12-20T09:07:39.211Z"
   },
   {
    "duration": 32,
    "start_time": "2021-12-20T09:07:39.252Z"
   },
   {
    "duration": 47,
    "start_time": "2021-12-20T09:07:39.287Z"
   },
   {
    "duration": 3,
    "start_time": "2021-12-20T09:07:39.337Z"
   },
   {
    "duration": 42,
    "start_time": "2021-12-20T09:07:39.342Z"
   },
   {
    "duration": 4,
    "start_time": "2021-12-20T09:07:39.386Z"
   },
   {
    "duration": 10,
    "start_time": "2021-12-20T09:56:34.480Z"
   },
   {
    "duration": 13,
    "start_time": "2021-12-20T09:56:48.497Z"
   },
   {
    "duration": 16,
    "start_time": "2021-12-20T09:56:54.752Z"
   },
   {
    "duration": 11,
    "start_time": "2021-12-20T09:58:56.325Z"
   },
   {
    "duration": 20,
    "start_time": "2021-12-20T09:59:14.210Z"
   },
   {
    "duration": 20,
    "start_time": "2021-12-20T09:59:45.427Z"
   },
   {
    "duration": 13,
    "start_time": "2021-12-20T10:00:01.731Z"
   },
   {
    "duration": 258,
    "start_time": "2021-12-20T10:03:58.486Z"
   },
   {
    "duration": 7,
    "start_time": "2021-12-20T10:04:14.103Z"
   },
   {
    "duration": 6,
    "start_time": "2021-12-20T10:06:17.192Z"
   },
   {
    "duration": 7,
    "start_time": "2021-12-20T10:06:48.034Z"
   },
   {
    "duration": 10,
    "start_time": "2021-12-20T10:10:47.654Z"
   },
   {
    "duration": 7,
    "start_time": "2021-12-20T10:11:07.565Z"
   },
   {
    "duration": 47,
    "start_time": "2021-12-20T10:14:04.248Z"
   },
   {
    "duration": 126,
    "start_time": "2021-12-20T10:15:16.435Z"
   },
   {
    "duration": 43,
    "start_time": "2021-12-20T10:15:16.568Z"
   },
   {
    "duration": 24,
    "start_time": "2021-12-20T10:15:16.616Z"
   },
   {
    "duration": 45,
    "start_time": "2021-12-20T10:15:16.668Z"
   },
   {
    "duration": 17,
    "start_time": "2021-12-20T10:15:16.715Z"
   },
   {
    "duration": 33,
    "start_time": "2021-12-20T10:15:16.735Z"
   },
   {
    "duration": 4,
    "start_time": "2021-12-20T10:15:16.771Z"
   },
   {
    "duration": 16,
    "start_time": "2021-12-20T10:15:49.482Z"
   },
   {
    "duration": 365,
    "start_time": "2021-12-20T10:39:05.590Z"
   },
   {
    "duration": 172,
    "start_time": "2021-12-20T10:39:22.406Z"
   },
   {
    "duration": 23,
    "start_time": "2021-12-20T10:39:32.166Z"
   },
   {
    "duration": 118,
    "start_time": "2021-12-20T10:40:09.481Z"
   },
   {
    "duration": 36,
    "start_time": "2021-12-20T10:40:09.602Z"
   },
   {
    "duration": 36,
    "start_time": "2021-12-20T10:40:09.641Z"
   },
   {
    "duration": 50,
    "start_time": "2021-12-20T10:40:09.680Z"
   },
   {
    "duration": 39,
    "start_time": "2021-12-20T10:40:09.732Z"
   },
   {
    "duration": 14,
    "start_time": "2021-12-20T10:40:09.774Z"
   },
   {
    "duration": 189,
    "start_time": "2021-12-20T10:40:09.791Z"
   },
   {
    "duration": 527,
    "start_time": "2021-12-20T10:45:20.778Z"
   },
   {
    "duration": 790,
    "start_time": "2021-12-20T10:45:39.499Z"
   },
   {
    "duration": 546,
    "start_time": "2021-12-20T10:45:56.348Z"
   },
   {
    "duration": 457,
    "start_time": "2021-12-20T10:46:15.675Z"
   },
   {
    "duration": 476,
    "start_time": "2021-12-20T10:50:25.624Z"
   },
   {
    "duration": 542,
    "start_time": "2021-12-20T10:51:06.040Z"
   },
   {
    "duration": 515,
    "start_time": "2021-12-20T10:51:19.072Z"
   },
   {
    "duration": 485,
    "start_time": "2021-12-20T10:51:36.617Z"
   },
   {
    "duration": 117,
    "start_time": "2021-12-20T11:03:14.021Z"
   },
   {
    "duration": 58,
    "start_time": "2021-12-20T11:03:14.142Z"
   },
   {
    "duration": 19,
    "start_time": "2021-12-20T11:03:14.205Z"
   },
   {
    "duration": 79,
    "start_time": "2021-12-20T11:03:14.227Z"
   },
   {
    "duration": 20,
    "start_time": "2021-12-20T11:03:14.309Z"
   },
   {
    "duration": 46,
    "start_time": "2021-12-20T11:03:14.333Z"
   },
   {
    "duration": 193,
    "start_time": "2021-12-20T11:03:14.381Z"
   },
   {
    "duration": 406,
    "start_time": "2021-12-20T11:04:11.467Z"
   },
   {
    "duration": 286,
    "start_time": "2021-12-20T11:04:36.556Z"
   },
   {
    "duration": 49,
    "start_time": "2021-12-20T11:05:00.700Z"
   },
   {
    "duration": 56,
    "start_time": "2021-12-20T11:05:16.348Z"
   },
   {
    "duration": 50,
    "start_time": "2021-12-20T11:05:55.716Z"
   },
   {
    "duration": 113,
    "start_time": "2021-12-20T11:07:28.393Z"
   },
   {
    "duration": 38,
    "start_time": "2021-12-20T11:07:28.509Z"
   },
   {
    "duration": 31,
    "start_time": "2021-12-20T11:07:28.550Z"
   },
   {
    "duration": 44,
    "start_time": "2021-12-20T11:07:28.583Z"
   },
   {
    "duration": 76,
    "start_time": "2021-12-20T11:07:28.630Z"
   },
   {
    "duration": 22,
    "start_time": "2021-12-20T11:07:28.709Z"
   },
   {
    "duration": 45,
    "start_time": "2021-12-20T11:07:28.734Z"
   },
   {
    "duration": 210,
    "start_time": "2021-12-20T11:07:28.783Z"
   },
   {
    "duration": 119,
    "start_time": "2021-12-20T12:23:26.947Z"
   },
   {
    "duration": 37,
    "start_time": "2021-12-20T12:23:27.069Z"
   },
   {
    "duration": 16,
    "start_time": "2021-12-20T12:23:27.109Z"
   },
   {
    "duration": 50,
    "start_time": "2021-12-20T12:23:27.128Z"
   },
   {
    "duration": 21,
    "start_time": "2021-12-20T12:23:27.180Z"
   },
   {
    "duration": 66,
    "start_time": "2021-12-20T12:23:27.203Z"
   },
   {
    "duration": 50,
    "start_time": "2021-12-20T12:23:27.271Z"
   },
   {
    "duration": 8,
    "start_time": "2021-12-20T12:25:36.850Z"
   },
   {
    "duration": 1286,
    "start_time": "2021-12-20T12:55:38.276Z"
   },
   {
    "duration": 1264,
    "start_time": "2021-12-20T12:55:52.947Z"
   },
   {
    "duration": 283,
    "start_time": "2021-12-20T12:59:01.368Z"
   },
   {
    "duration": 555,
    "start_time": "2021-12-20T13:09:56.070Z"
   },
   {
    "duration": 9,
    "start_time": "2021-12-20T13:10:25.752Z"
   },
   {
    "duration": 41,
    "start_time": "2021-12-20T13:10:48.528Z"
   },
   {
    "duration": 62,
    "start_time": "2021-12-20T13:11:09.192Z"
   },
   {
    "duration": 66,
    "start_time": "2021-12-20T14:02:17.454Z"
   },
   {
    "duration": 62,
    "start_time": "2021-12-20T14:03:59.823Z"
   },
   {
    "duration": 129,
    "start_time": "2021-12-20T14:05:22.352Z"
   },
   {
    "duration": 682,
    "start_time": "2021-12-20T14:06:07.518Z"
   },
   {
    "duration": 678,
    "start_time": "2021-12-20T14:06:07.524Z"
   },
   {
    "duration": 676,
    "start_time": "2021-12-20T14:06:07.528Z"
   },
   {
    "duration": 674,
    "start_time": "2021-12-20T14:06:07.531Z"
   },
   {
    "duration": 673,
    "start_time": "2021-12-20T14:06:07.534Z"
   },
   {
    "duration": 673,
    "start_time": "2021-12-20T14:06:07.536Z"
   },
   {
    "duration": 667,
    "start_time": "2021-12-20T14:06:07.544Z"
   },
   {
    "duration": 665,
    "start_time": "2021-12-20T14:06:07.547Z"
   },
   {
    "duration": 664,
    "start_time": "2021-12-20T14:06:07.550Z"
   },
   {
    "duration": 117,
    "start_time": "2021-12-20T14:06:34.066Z"
   },
   {
    "duration": 602,
    "start_time": "2021-12-20T14:06:34.185Z"
   },
   {
    "duration": 569,
    "start_time": "2021-12-20T14:06:34.791Z"
   },
   {
    "duration": 489,
    "start_time": "2021-12-20T14:06:35.363Z"
   },
   {
    "duration": 690,
    "start_time": "2021-12-20T14:06:53.503Z"
   },
   {
    "duration": 683,
    "start_time": "2021-12-20T14:06:53.511Z"
   },
   {
    "duration": 683,
    "start_time": "2021-12-20T14:06:53.513Z"
   },
   {
    "duration": 682,
    "start_time": "2021-12-20T14:06:53.515Z"
   },
   {
    "duration": 683,
    "start_time": "2021-12-20T14:06:53.516Z"
   },
   {
    "duration": 120,
    "start_time": "2021-12-20T14:08:49.386Z"
   },
   {
    "duration": 40,
    "start_time": "2021-12-20T14:09:28.475Z"
   },
   {
    "duration": 39,
    "start_time": "2021-12-20T14:13:52.542Z"
   },
   {
    "duration": 37,
    "start_time": "2021-12-20T14:15:10.759Z"
   },
   {
    "duration": 113,
    "start_time": "2021-12-20T14:16:06.845Z"
   },
   {
    "duration": 282,
    "start_time": "2021-12-20T14:16:06.961Z"
   },
   {
    "duration": 202,
    "start_time": "2021-12-20T14:16:07.246Z"
   },
   {
    "duration": 334,
    "start_time": "2021-12-20T14:16:07.451Z"
   },
   {
    "duration": 156,
    "start_time": "2021-12-20T14:16:07.788Z"
   },
   {
    "duration": 139,
    "start_time": "2021-12-20T14:16:07.948Z"
   },
   {
    "duration": 353,
    "start_time": "2021-12-20T14:16:08.091Z"
   },
   {
    "duration": 202,
    "start_time": "2021-12-20T14:16:08.447Z"
   },
   {
    "duration": 2038,
    "start_time": "2021-12-20T14:16:08.651Z"
   },
   {
    "duration": 1260,
    "start_time": "2021-12-20T14:16:54.496Z"
   },
   {
    "duration": 1071,
    "start_time": "2021-12-20T14:17:17.626Z"
   },
   {
    "duration": 11,
    "start_time": "2021-12-20T14:19:28.266Z"
   },
   {
    "duration": 35,
    "start_time": "2021-12-20T14:20:35.563Z"
   },
   {
    "duration": 58,
    "start_time": "2021-12-20T14:20:56.739Z"
   },
   {
    "duration": 39,
    "start_time": "2021-12-20T14:28:15.034Z"
   },
   {
    "duration": 957,
    "start_time": "2021-12-21T07:41:54.946Z"
   },
   {
    "duration": 38,
    "start_time": "2021-12-21T07:41:55.906Z"
   },
   {
    "duration": 31,
    "start_time": "2021-12-21T07:41:55.946Z"
   },
   {
    "duration": 38,
    "start_time": "2021-12-21T07:41:55.980Z"
   },
   {
    "duration": 82,
    "start_time": "2021-12-21T07:41:56.021Z"
   },
   {
    "duration": 11,
    "start_time": "2021-12-21T07:41:56.107Z"
   },
   {
    "duration": 56,
    "start_time": "2021-12-21T07:41:56.122Z"
   },
   {
    "duration": 44,
    "start_time": "2021-12-21T07:41:56.182Z"
   },
   {
    "duration": 66,
    "start_time": "2021-12-21T07:41:56.229Z"
   },
   {
    "duration": 51,
    "start_time": "2021-12-21T07:41:56.298Z"
   },
   {
    "duration": 1130,
    "start_time": "2021-12-21T07:41:56.351Z"
   },
   {
    "duration": 51,
    "start_time": "2021-12-21T07:53:43.318Z"
   },
   {
    "duration": 406,
    "start_time": "2021-12-21T07:55:15.407Z"
   },
   {
    "duration": 42,
    "start_time": "2021-12-21T07:55:23.543Z"
   },
   {
    "duration": 39,
    "start_time": "2021-12-21T07:55:36.248Z"
   },
   {
    "duration": 284,
    "start_time": "2021-12-21T07:56:12.465Z"
   },
   {
    "duration": 272,
    "start_time": "2021-12-21T07:56:33.009Z"
   },
   {
    "duration": 366,
    "start_time": "2021-12-21T07:57:13.703Z"
   },
   {
    "duration": 41,
    "start_time": "2021-12-21T07:57:50.498Z"
   },
   {
    "duration": 44,
    "start_time": "2021-12-21T07:58:26.675Z"
   },
   {
    "duration": 7,
    "start_time": "2021-12-21T09:12:17.409Z"
   },
   {
    "duration": 19,
    "start_time": "2021-12-21T09:20:41.833Z"
   },
   {
    "duration": 8,
    "start_time": "2021-12-21T09:23:49.468Z"
   },
   {
    "duration": 33,
    "start_time": "2021-12-21T09:24:11.469Z"
   },
   {
    "duration": 50,
    "start_time": "2021-12-21T09:24:27.197Z"
   },
   {
    "duration": 294,
    "start_time": "2021-12-21T09:26:09.062Z"
   },
   {
    "duration": 40,
    "start_time": "2021-12-21T09:26:46.207Z"
   },
   {
    "duration": 317,
    "start_time": "2021-12-21T09:27:36.023Z"
   },
   {
    "duration": 308,
    "start_time": "2021-12-21T09:27:40.056Z"
   },
   {
    "duration": 13286,
    "start_time": "2021-12-21T09:28:59.433Z"
   },
   {
    "duration": 312,
    "start_time": "2021-12-21T09:29:12.722Z"
   },
   {
    "duration": 38,
    "start_time": "2021-12-21T09:30:43.116Z"
   },
   {
    "duration": 22,
    "start_time": "2021-12-21T09:30:50.915Z"
   },
   {
    "duration": 49,
    "start_time": "2021-12-21T09:32:47.236Z"
   },
   {
    "duration": 47,
    "start_time": "2021-12-21T09:33:09.310Z"
   },
   {
    "duration": 48,
    "start_time": "2021-12-21T09:34:17.958Z"
   },
   {
    "duration": 38,
    "start_time": "2021-12-21T09:34:36.711Z"
   },
   {
    "duration": 367,
    "start_time": "2021-12-21T09:36:48.584Z"
   },
   {
    "duration": 339,
    "start_time": "2021-12-21T09:37:02.624Z"
   },
   {
    "duration": 4,
    "start_time": "2021-12-21T09:47:40.041Z"
   },
   {
    "duration": 42,
    "start_time": "2021-12-21T09:48:59.635Z"
   },
   {
    "duration": 39,
    "start_time": "2021-12-21T09:49:21.002Z"
   },
   {
    "duration": 42,
    "start_time": "2021-12-21T09:49:33.667Z"
   },
   {
    "duration": 413,
    "start_time": "2021-12-21T09:49:56.155Z"
   },
   {
    "duration": 38,
    "start_time": "2021-12-21T09:50:03.323Z"
   },
   {
    "duration": 9,
    "start_time": "2021-12-21T09:52:03.061Z"
   },
   {
    "duration": 54,
    "start_time": "2021-12-21T09:52:13.773Z"
   },
   {
    "duration": 163,
    "start_time": "2021-12-21T10:10:37.943Z"
   },
   {
    "duration": 40,
    "start_time": "2021-12-21T10:10:38.114Z"
   },
   {
    "duration": 44,
    "start_time": "2021-12-21T10:10:38.157Z"
   },
   {
    "duration": 48,
    "start_time": "2021-12-21T10:10:38.208Z"
   },
   {
    "duration": 73,
    "start_time": "2021-12-21T10:10:38.259Z"
   },
   {
    "duration": 10,
    "start_time": "2021-12-21T10:10:38.335Z"
   },
   {
    "duration": 51,
    "start_time": "2021-12-21T10:10:38.347Z"
   },
   {
    "duration": 81,
    "start_time": "2021-12-21T10:10:38.405Z"
   },
   {
    "duration": 50,
    "start_time": "2021-12-21T10:10:38.489Z"
   },
   {
    "duration": 82,
    "start_time": "2021-12-21T10:10:38.542Z"
   },
   {
    "duration": 1320,
    "start_time": "2021-12-21T10:10:38.627Z"
   },
   {
    "duration": 73,
    "start_time": "2021-12-21T10:10:39.950Z"
   },
   {
    "duration": 32,
    "start_time": "2021-12-21T10:10:40.027Z"
   },
   {
    "duration": 69,
    "start_time": "2021-12-21T10:10:40.061Z"
   },
   {
    "duration": 56,
    "start_time": "2021-12-21T10:10:40.133Z"
   },
   {
    "duration": 58,
    "start_time": "2021-12-21T10:10:40.198Z"
   },
   {
    "duration": 16,
    "start_time": "2021-12-21T10:15:15.008Z"
   },
   {
    "duration": 852,
    "start_time": "2021-12-21T10:19:40.405Z"
   },
   {
    "duration": 346,
    "start_time": "2021-12-21T10:20:02.061Z"
   },
   {
    "duration": 387,
    "start_time": "2021-12-21T10:20:38.853Z"
   },
   {
    "duration": 374,
    "start_time": "2021-12-21T10:21:07.134Z"
   },
   {
    "duration": 351,
    "start_time": "2021-12-21T10:21:15.261Z"
   },
   {
    "duration": 36,
    "start_time": "2021-12-21T10:24:03.880Z"
   },
   {
    "duration": 22,
    "start_time": "2021-12-21T10:24:22.568Z"
   },
   {
    "duration": 22,
    "start_time": "2021-12-21T10:24:43.569Z"
   },
   {
    "duration": 29,
    "start_time": "2021-12-21T10:24:56.369Z"
   },
   {
    "duration": 284,
    "start_time": "2021-12-21T10:25:26.913Z"
   },
   {
    "duration": 28,
    "start_time": "2021-12-21T10:25:46.937Z"
   },
   {
    "duration": 48,
    "start_time": "2021-12-21T10:25:53.970Z"
   },
   {
    "duration": 64,
    "start_time": "2021-12-21T10:27:16.364Z"
   },
   {
    "duration": 14,
    "start_time": "2021-12-21T10:28:38.389Z"
   },
   {
    "duration": 365,
    "start_time": "2021-12-21T10:29:53.253Z"
   },
   {
    "duration": 341,
    "start_time": "2021-12-21T10:30:47.350Z"
   },
   {
    "duration": 337,
    "start_time": "2021-12-21T10:30:57.166Z"
   },
   {
    "duration": 358,
    "start_time": "2021-12-21T10:31:33.391Z"
   },
   {
    "duration": 17,
    "start_time": "2021-12-21T10:32:25.176Z"
   },
   {
    "duration": 315,
    "start_time": "2021-12-21T10:33:29.932Z"
   },
   {
    "duration": 301,
    "start_time": "2021-12-21T10:33:44.552Z"
   },
   {
    "duration": 312,
    "start_time": "2021-12-21T10:33:59.369Z"
   },
   {
    "duration": 448,
    "start_time": "2021-12-21T10:34:20.505Z"
   },
   {
    "duration": 702,
    "start_time": "2021-12-21T10:35:22.925Z"
   },
   {
    "duration": 51,
    "start_time": "2021-12-21T10:35:23.630Z"
   },
   {
    "duration": 38,
    "start_time": "2021-12-21T10:35:23.696Z"
   },
   {
    "duration": 46,
    "start_time": "2021-12-21T10:35:23.737Z"
   },
   {
    "duration": 48,
    "start_time": "2021-12-21T10:35:23.786Z"
   },
   {
    "duration": 44,
    "start_time": "2021-12-21T10:35:23.837Z"
   },
   {
    "duration": 30,
    "start_time": "2021-12-21T10:35:23.883Z"
   },
   {
    "duration": 78,
    "start_time": "2021-12-21T10:35:23.917Z"
   },
   {
    "duration": 37,
    "start_time": "2021-12-21T10:35:23.999Z"
   },
   {
    "duration": 72,
    "start_time": "2021-12-21T10:35:24.039Z"
   },
   {
    "duration": 1126,
    "start_time": "2021-12-21T10:35:24.114Z"
   },
   {
    "duration": 58,
    "start_time": "2021-12-21T10:35:25.243Z"
   },
   {
    "duration": 20,
    "start_time": "2021-12-21T10:35:25.303Z"
   },
   {
    "duration": 60,
    "start_time": "2021-12-21T10:35:25.325Z"
   },
   {
    "duration": 12,
    "start_time": "2021-12-21T10:35:25.388Z"
   },
   {
    "duration": 43,
    "start_time": "2021-12-21T10:35:25.403Z"
   },
   {
    "duration": 26,
    "start_time": "2021-12-21T10:35:25.448Z"
   },
   {
    "duration": 384,
    "start_time": "2021-12-21T10:35:25.477Z"
   },
   {
    "duration": 60,
    "start_time": "2021-12-21T10:35:25.863Z"
   },
   {
    "duration": 11,
    "start_time": "2021-12-21T10:35:25.925Z"
   },
   {
    "duration": 340,
    "start_time": "2021-12-21T10:35:25.939Z"
   },
   {
    "duration": 19,
    "start_time": "2021-12-21T10:35:26.283Z"
   },
   {
    "duration": 366,
    "start_time": "2021-12-21T10:35:26.309Z"
   },
   {
    "duration": 317,
    "start_time": "2021-12-21T10:36:08.813Z"
   },
   {
    "duration": 388,
    "start_time": "2021-12-21T10:36:22.492Z"
   },
   {
    "duration": 337,
    "start_time": "2021-12-21T10:37:14.620Z"
   },
   {
    "duration": 360,
    "start_time": "2021-12-21T10:37:25.260Z"
   },
   {
    "duration": 73,
    "start_time": "2021-12-21T10:37:46.772Z"
   },
   {
    "duration": 18,
    "start_time": "2021-12-21T10:38:35.660Z"
   },
   {
    "duration": 324,
    "start_time": "2021-12-21T10:39:12.910Z"
   },
   {
    "duration": 311,
    "start_time": "2021-12-21T10:40:06.542Z"
   },
   {
    "duration": 7,
    "start_time": "2021-12-21T10:40:57.678Z"
   },
   {
    "duration": 345,
    "start_time": "2021-12-21T10:41:19.231Z"
   },
   {
    "duration": 464,
    "start_time": "2021-12-21T10:41:44.303Z"
   },
   {
    "duration": 7637,
    "start_time": "2021-12-21T11:14:00.425Z"
   },
   {
    "duration": 155,
    "start_time": "2021-12-21T11:14:10.341Z"
   },
   {
    "duration": 37,
    "start_time": "2021-12-21T11:14:10.499Z"
   },
   {
    "duration": 47,
    "start_time": "2021-12-21T11:14:10.540Z"
   },
   {
    "duration": 48,
    "start_time": "2021-12-21T11:14:10.590Z"
   },
   {
    "duration": 77,
    "start_time": "2021-12-21T11:14:10.640Z"
   },
   {
    "duration": 11,
    "start_time": "2021-12-21T11:14:10.719Z"
   },
   {
    "duration": 65,
    "start_time": "2021-12-21T11:14:10.733Z"
   },
   {
    "duration": 64,
    "start_time": "2021-12-21T11:14:10.803Z"
   },
   {
    "duration": 43,
    "start_time": "2021-12-21T11:14:10.877Z"
   },
   {
    "duration": 87,
    "start_time": "2021-12-21T11:14:10.923Z"
   },
   {
    "duration": 1207,
    "start_time": "2021-12-21T11:14:11.013Z"
   },
   {
    "duration": 65,
    "start_time": "2021-12-21T11:14:12.222Z"
   },
   {
    "duration": 21,
    "start_time": "2021-12-21T11:14:12.289Z"
   },
   {
    "duration": 65,
    "start_time": "2021-12-21T11:14:12.312Z"
   },
   {
    "duration": 49,
    "start_time": "2021-12-21T11:14:12.380Z"
   },
   {
    "duration": 11,
    "start_time": "2021-12-21T11:14:12.431Z"
   },
   {
    "duration": 387,
    "start_time": "2021-12-21T11:14:12.445Z"
   },
   {
    "duration": 92,
    "start_time": "2021-12-21T11:14:12.835Z"
   },
   {
    "duration": 11,
    "start_time": "2021-12-21T11:14:12.930Z"
   },
   {
    "duration": 497,
    "start_time": "2021-12-21T11:14:12.944Z"
   },
   {
    "duration": 29,
    "start_time": "2021-12-21T11:14:13.444Z"
   },
   {
    "duration": 518,
    "start_time": "2021-12-21T11:14:13.476Z"
   },
   {
    "duration": 8,
    "start_time": "2021-12-21T11:14:14.000Z"
   },
   {
    "duration": 7192,
    "start_time": "2021-12-21T11:14:14.011Z"
   },
   {
    "duration": 305,
    "start_time": "2021-12-21T11:14:52.116Z"
   },
   {
    "duration": 1164,
    "start_time": "2021-12-21T11:15:06.164Z"
   },
   {
    "duration": 16,
    "start_time": "2021-12-21T11:15:50.605Z"
   },
   {
    "duration": 346,
    "start_time": "2021-12-21T11:16:13.765Z"
   },
   {
    "duration": 338,
    "start_time": "2021-12-21T11:16:28.612Z"
   },
   {
    "duration": 88,
    "start_time": "2021-12-21T11:17:05.134Z"
   },
   {
    "duration": 21,
    "start_time": "2021-12-21T11:17:09.005Z"
   },
   {
    "duration": 12,
    "start_time": "2021-12-21T11:19:14.631Z"
   },
   {
    "duration": 133,
    "start_time": "2021-12-21T12:02:49.685Z"
   },
   {
    "duration": 351,
    "start_time": "2021-12-21T12:02:59.556Z"
   },
   {
    "duration": 334,
    "start_time": "2021-12-21T12:03:33.743Z"
   },
   {
    "duration": 705,
    "start_time": "2021-12-21T12:19:29.250Z"
   },
   {
    "duration": 347,
    "start_time": "2021-12-21T12:19:33.683Z"
   },
   {
    "duration": 412,
    "start_time": "2021-12-21T12:20:19.819Z"
   },
   {
    "duration": 340,
    "start_time": "2021-12-21T12:20:35.331Z"
   },
   {
    "duration": 6,
    "start_time": "2021-12-21T12:25:49.432Z"
   },
   {
    "duration": 13,
    "start_time": "2021-12-21T12:29:27.339Z"
   },
   {
    "duration": 312,
    "start_time": "2021-12-21T12:30:08.123Z"
   },
   {
    "duration": 93,
    "start_time": "2021-12-21T12:30:51.683Z"
   },
   {
    "duration": 1058,
    "start_time": "2021-12-21T12:30:59.955Z"
   },
   {
    "duration": 438,
    "start_time": "2021-12-21T12:31:26.532Z"
   },
   {
    "duration": 313,
    "start_time": "2021-12-21T12:31:37.767Z"
   },
   {
    "duration": 300,
    "start_time": "2021-12-21T12:31:46.228Z"
   },
   {
    "duration": 40,
    "start_time": "2021-12-21T12:35:07.447Z"
   },
   {
    "duration": 6,
    "start_time": "2021-12-21T12:41:20.300Z"
   },
   {
    "duration": 270,
    "start_time": "2021-12-21T12:41:26.456Z"
   },
   {
    "duration": 49,
    "start_time": "2021-12-21T12:41:26.729Z"
   },
   {
    "duration": 18,
    "start_time": "2021-12-21T12:41:26.783Z"
   },
   {
    "duration": 7,
    "start_time": "2021-12-21T12:41:26.804Z"
   },
   {
    "duration": 85,
    "start_time": "2021-12-21T12:41:26.814Z"
   },
   {
    "duration": 72,
    "start_time": "2021-12-21T12:41:26.902Z"
   },
   {
    "duration": 15,
    "start_time": "2021-12-21T12:41:26.976Z"
   },
   {
    "duration": 30,
    "start_time": "2021-12-21T12:41:26.996Z"
   },
   {
    "duration": 73,
    "start_time": "2021-12-21T12:41:27.031Z"
   },
   {
    "duration": 61,
    "start_time": "2021-12-21T12:41:27.107Z"
   },
   {
    "duration": 51,
    "start_time": "2021-12-21T12:41:27.171Z"
   },
   {
    "duration": 1005,
    "start_time": "2021-12-21T12:41:27.225Z"
   },
   {
    "duration": 56,
    "start_time": "2021-12-21T12:41:28.232Z"
   },
   {
    "duration": 21,
    "start_time": "2021-12-21T12:41:28.291Z"
   },
   {
    "duration": 66,
    "start_time": "2021-12-21T12:41:28.315Z"
   },
   {
    "duration": 38,
    "start_time": "2021-12-21T12:41:28.384Z"
   },
   {
    "duration": 44,
    "start_time": "2021-12-21T12:41:28.425Z"
   },
   {
    "duration": 475,
    "start_time": "2021-12-21T12:41:28.473Z"
   },
   {
    "duration": 65,
    "start_time": "2021-12-21T12:41:28.951Z"
   },
   {
    "duration": 11,
    "start_time": "2021-12-21T12:41:29.019Z"
   },
   {
    "duration": 540,
    "start_time": "2021-12-21T12:41:29.032Z"
   },
   {
    "duration": 13,
    "start_time": "2021-12-21T12:41:29.575Z"
   },
   {
    "duration": 660,
    "start_time": "2021-12-21T12:41:29.595Z"
   },
   {
    "duration": 19,
    "start_time": "2021-12-21T12:41:30.259Z"
   },
   {
    "duration": 386,
    "start_time": "2021-12-21T12:41:30.281Z"
   },
   {
    "duration": 26,
    "start_time": "2021-12-21T12:41:30.669Z"
   },
   {
    "duration": 12,
    "start_time": "2021-12-21T12:41:30.697Z"
   },
   {
    "duration": 383,
    "start_time": "2021-12-21T12:41:30.712Z"
   },
   {
    "duration": 39,
    "start_time": "2021-12-21T12:45:22.728Z"
   },
   {
    "duration": 16,
    "start_time": "2021-12-21T12:45:34.223Z"
   },
   {
    "duration": 13,
    "start_time": "2021-12-21T12:46:00.193Z"
   },
   {
    "duration": 26,
    "start_time": "2021-12-21T12:47:42.066Z"
   },
   {
    "duration": 21,
    "start_time": "2021-12-21T12:48:09.953Z"
   },
   {
    "duration": 22,
    "start_time": "2021-12-21T12:49:07.827Z"
   },
   {
    "duration": 17,
    "start_time": "2021-12-21T12:53:45.015Z"
   },
   {
    "duration": 99,
    "start_time": "2021-12-21T12:53:59.510Z"
   },
   {
    "duration": 14,
    "start_time": "2021-12-21T12:54:09.879Z"
   },
   {
    "duration": 106,
    "start_time": "2021-12-21T12:54:33.759Z"
   },
   {
    "duration": 89,
    "start_time": "2021-12-21T12:54:39.943Z"
   },
   {
    "duration": 111,
    "start_time": "2021-12-21T12:54:44.038Z"
   },
   {
    "duration": 13,
    "start_time": "2021-12-21T12:54:54.831Z"
   },
   {
    "duration": 11,
    "start_time": "2021-12-21T12:55:14.240Z"
   },
   {
    "duration": 334,
    "start_time": "2021-12-21T12:58:22.659Z"
   },
   {
    "duration": 325,
    "start_time": "2021-12-21T12:58:45.306Z"
   },
   {
    "duration": 440,
    "start_time": "2021-12-21T12:59:22.172Z"
   },
   {
    "duration": 357,
    "start_time": "2021-12-21T13:00:34.470Z"
   },
   {
    "duration": 321,
    "start_time": "2021-12-21T13:00:56.612Z"
   },
   {
    "duration": 10,
    "start_time": "2021-12-21T13:02:24.686Z"
   },
   {
    "duration": 51,
    "start_time": "2021-12-21T13:03:17.465Z"
   },
   {
    "duration": 47,
    "start_time": "2021-12-21T13:05:09.032Z"
   },
   {
    "duration": 374,
    "start_time": "2021-12-21T13:08:40.762Z"
   },
   {
    "duration": 446,
    "start_time": "2021-12-21T13:08:51.114Z"
   },
   {
    "duration": 336,
    "start_time": "2021-12-21T13:08:58.027Z"
   },
   {
    "duration": 1956,
    "start_time": "2021-12-21T13:10:45.684Z"
   },
   {
    "duration": 2227,
    "start_time": "2021-12-21T13:11:16.630Z"
   },
   {
    "duration": 9,
    "start_time": "2021-12-21T13:11:32.022Z"
   },
   {
    "duration": 10,
    "start_time": "2021-12-21T13:14:12.287Z"
   },
   {
    "duration": 10,
    "start_time": "2021-12-21T13:23:25.886Z"
   },
   {
    "duration": 17,
    "start_time": "2021-12-21T13:35:53.313Z"
   },
   {
    "duration": 389,
    "start_time": "2021-12-21T13:37:00.115Z"
   },
   {
    "duration": 25,
    "start_time": "2021-12-21T13:37:16.666Z"
   },
   {
    "duration": 359,
    "start_time": "2021-12-21T13:37:18.794Z"
   },
   {
    "duration": 310,
    "start_time": "2021-12-21T13:43:10.031Z"
   },
   {
    "duration": 91,
    "start_time": "2021-12-21T13:43:50.000Z"
   },
   {
    "duration": 359,
    "start_time": "2021-12-21T13:44:00.103Z"
   },
   {
    "duration": 84,
    "start_time": "2021-12-21T13:46:12.897Z"
   },
   {
    "duration": 9,
    "start_time": "2021-12-21T13:46:19.041Z"
   },
   {
    "duration": 23,
    "start_time": "2021-12-21T13:48:08.498Z"
   },
   {
    "duration": 320,
    "start_time": "2021-12-21T13:50:25.957Z"
   },
   {
    "duration": 6,
    "start_time": "2021-12-21T13:51:26.854Z"
   },
   {
    "duration": 153,
    "start_time": "2021-12-21T13:52:29.738Z"
   },
   {
    "duration": 38,
    "start_time": "2021-12-21T13:52:29.894Z"
   },
   {
    "duration": 46,
    "start_time": "2021-12-21T13:52:29.935Z"
   },
   {
    "duration": 37,
    "start_time": "2021-12-21T13:52:29.984Z"
   },
   {
    "duration": 75,
    "start_time": "2021-12-21T13:52:30.025Z"
   },
   {
    "duration": 15,
    "start_time": "2021-12-21T13:52:30.103Z"
   },
   {
    "duration": 49,
    "start_time": "2021-12-21T13:52:30.121Z"
   },
   {
    "duration": 52,
    "start_time": "2021-12-21T13:52:30.175Z"
   },
   {
    "duration": 68,
    "start_time": "2021-12-21T13:52:30.230Z"
   },
   {
    "duration": 75,
    "start_time": "2021-12-21T13:52:30.302Z"
   },
   {
    "duration": 1071,
    "start_time": "2021-12-21T13:52:30.379Z"
   },
   {
    "duration": 52,
    "start_time": "2021-12-21T13:52:31.453Z"
   },
   {
    "duration": 24,
    "start_time": "2021-12-21T13:52:31.509Z"
   },
   {
    "duration": 52,
    "start_time": "2021-12-21T13:52:31.569Z"
   },
   {
    "duration": 70,
    "start_time": "2021-12-21T13:52:31.625Z"
   },
   {
    "duration": 30,
    "start_time": "2021-12-21T13:52:31.697Z"
   },
   {
    "duration": 356,
    "start_time": "2021-12-21T13:52:31.729Z"
   },
   {
    "duration": 46,
    "start_time": "2021-12-21T13:52:32.088Z"
   },
   {
    "duration": 40,
    "start_time": "2021-12-21T13:52:32.138Z"
   },
   {
    "duration": 26,
    "start_time": "2021-12-21T13:52:32.182Z"
   },
   {
    "duration": 10,
    "start_time": "2021-12-21T13:52:32.210Z"
   },
   {
    "duration": 43,
    "start_time": "2021-12-21T13:52:32.224Z"
   },
   {
    "duration": 394,
    "start_time": "2021-12-21T13:52:32.275Z"
   },
   {
    "duration": 17,
    "start_time": "2021-12-21T13:52:32.673Z"
   },
   {
    "duration": 21,
    "start_time": "2021-12-21T13:52:32.693Z"
   },
   {
    "duration": 451,
    "start_time": "2021-12-21T13:52:32.717Z"
   },
   {
    "duration": 22,
    "start_time": "2021-12-21T13:52:33.176Z"
   },
   {
    "duration": 392,
    "start_time": "2021-12-21T13:52:33.201Z"
   },
   {
    "duration": 441,
    "start_time": "2021-12-21T13:52:33.596Z"
   },
   {
    "duration": 8,
    "start_time": "2021-12-21T13:52:34.040Z"
   },
   {
    "duration": 34,
    "start_time": "2021-12-21T13:52:34.051Z"
   },
   {
    "duration": 351,
    "start_time": "2021-12-21T13:52:34.089Z"
   },
   {
    "duration": 187,
    "start_time": "2021-12-21T13:53:24.157Z"
   },
   {
    "duration": 57,
    "start_time": "2021-12-21T13:53:24.348Z"
   },
   {
    "duration": 16,
    "start_time": "2021-12-21T13:53:24.409Z"
   },
   {
    "duration": 70,
    "start_time": "2021-12-21T13:53:24.428Z"
   },
   {
    "duration": 68,
    "start_time": "2021-12-21T13:53:24.501Z"
   },
   {
    "duration": 11,
    "start_time": "2021-12-21T13:53:24.572Z"
   },
   {
    "duration": 29,
    "start_time": "2021-12-21T13:53:24.586Z"
   },
   {
    "duration": 78,
    "start_time": "2021-12-21T13:53:24.620Z"
   },
   {
    "duration": 37,
    "start_time": "2021-12-21T13:53:24.701Z"
   },
   {
    "duration": 74,
    "start_time": "2021-12-21T13:53:24.769Z"
   },
   {
    "duration": 1293,
    "start_time": "2021-12-21T13:53:24.846Z"
   },
   {
    "duration": 53,
    "start_time": "2021-12-21T13:53:26.143Z"
   },
   {
    "duration": 20,
    "start_time": "2021-12-21T13:53:26.199Z"
   },
   {
    "duration": 72,
    "start_time": "2021-12-21T13:53:26.222Z"
   },
   {
    "duration": 72,
    "start_time": "2021-12-21T13:53:26.297Z"
   },
   {
    "duration": 16,
    "start_time": "2021-12-21T13:53:26.372Z"
   },
   {
    "duration": 776,
    "start_time": "2021-12-21T13:53:26.391Z"
   },
   {
    "duration": 41,
    "start_time": "2021-12-21T13:53:27.170Z"
   },
   {
    "duration": 63,
    "start_time": "2021-12-21T13:53:27.213Z"
   },
   {
    "duration": 29,
    "start_time": "2021-12-21T13:53:27.279Z"
   },
   {
    "duration": 59,
    "start_time": "2021-12-21T13:53:27.311Z"
   },
   {
    "duration": 12,
    "start_time": "2021-12-21T13:53:27.372Z"
   },
   {
    "duration": 373,
    "start_time": "2021-12-21T13:53:27.389Z"
   },
   {
    "duration": 16,
    "start_time": "2021-12-21T13:53:27.765Z"
   },
   {
    "duration": 15,
    "start_time": "2021-12-21T13:53:27.783Z"
   },
   {
    "duration": 367,
    "start_time": "2021-12-21T13:53:27.801Z"
   },
   {
    "duration": 12,
    "start_time": "2021-12-21T13:53:28.171Z"
   },
   {
    "duration": 419,
    "start_time": "2021-12-21T13:53:28.186Z"
   },
   {
    "duration": 370,
    "start_time": "2021-12-21T13:53:28.608Z"
   },
   {
    "duration": 7,
    "start_time": "2021-12-21T13:53:28.981Z"
   },
   {
    "duration": 14,
    "start_time": "2021-12-21T13:53:28.991Z"
   },
   {
    "duration": 324,
    "start_time": "2021-12-21T13:53:29.007Z"
   },
   {
    "duration": 1416,
    "start_time": "2021-12-21T13:53:55.767Z"
   },
   {
    "duration": 915,
    "start_time": "2021-12-21T13:54:18.236Z"
   },
   {
    "duration": 43,
    "start_time": "2021-12-21T13:54:19.154Z"
   },
   {
    "duration": 43,
    "start_time": "2021-12-21T13:54:19.201Z"
   },
   {
    "duration": 69,
    "start_time": "2021-12-21T13:54:19.248Z"
   },
   {
    "duration": 74,
    "start_time": "2021-12-21T13:54:19.320Z"
   },
   {
    "duration": 15,
    "start_time": "2021-12-21T13:54:19.397Z"
   },
   {
    "duration": 54,
    "start_time": "2021-12-21T13:54:19.416Z"
   },
   {
    "duration": 65,
    "start_time": "2021-12-21T13:54:19.474Z"
   },
   {
    "duration": 58,
    "start_time": "2021-12-21T13:54:19.543Z"
   },
   {
    "duration": 380,
    "start_time": "2021-12-21T13:54:19.605Z"
   },
   {
    "duration": 1107,
    "start_time": "2021-12-21T13:54:18.883Z"
   },
   {
    "duration": 1106,
    "start_time": "2021-12-21T13:54:18.886Z"
   },
   {
    "duration": 1106,
    "start_time": "2021-12-21T13:54:18.888Z"
   },
   {
    "duration": 1107,
    "start_time": "2021-12-21T13:54:18.889Z"
   },
   {
    "duration": 1107,
    "start_time": "2021-12-21T13:54:18.891Z"
   },
   {
    "duration": 1107,
    "start_time": "2021-12-21T13:54:18.893Z"
   },
   {
    "duration": 1102,
    "start_time": "2021-12-21T13:54:18.900Z"
   },
   {
    "duration": 1100,
    "start_time": "2021-12-21T13:54:18.903Z"
   },
   {
    "duration": 1099,
    "start_time": "2021-12-21T13:54:18.906Z"
   },
   {
    "duration": 1099,
    "start_time": "2021-12-21T13:54:18.907Z"
   },
   {
    "duration": 1099,
    "start_time": "2021-12-21T13:54:18.909Z"
   },
   {
    "duration": 1099,
    "start_time": "2021-12-21T13:54:18.910Z"
   },
   {
    "duration": 1093,
    "start_time": "2021-12-21T13:54:18.918Z"
   },
   {
    "duration": 1092,
    "start_time": "2021-12-21T13:54:18.920Z"
   },
   {
    "duration": 1092,
    "start_time": "2021-12-21T13:54:18.922Z"
   },
   {
    "duration": 1091,
    "start_time": "2021-12-21T13:54:18.924Z"
   },
   {
    "duration": 1073,
    "start_time": "2021-12-21T13:54:18.943Z"
   },
   {
    "duration": 1072,
    "start_time": "2021-12-21T13:54:18.946Z"
   },
   {
    "duration": 1071,
    "start_time": "2021-12-21T13:54:18.948Z"
   },
   {
    "duration": 1070,
    "start_time": "2021-12-21T13:54:18.951Z"
   },
   {
    "duration": 1065,
    "start_time": "2021-12-21T13:54:18.958Z"
   },
   {
    "duration": 1064,
    "start_time": "2021-12-21T13:54:18.960Z"
   },
   {
    "duration": 281,
    "start_time": "2021-12-21T13:54:59.792Z"
   },
   {
    "duration": 47,
    "start_time": "2021-12-21T13:56:36.097Z"
   },
   {
    "duration": 410,
    "start_time": "2021-12-21T13:56:56.322Z"
   },
   {
    "duration": 52,
    "start_time": "2021-12-21T13:57:04.568Z"
   },
   {
    "duration": 59,
    "start_time": "2021-12-21T13:59:00.947Z"
   },
   {
    "duration": 59,
    "start_time": "2021-12-21T13:59:14.491Z"
   },
   {
    "duration": 188,
    "start_time": "2021-12-21T13:59:28.606Z"
   },
   {
    "duration": 42,
    "start_time": "2021-12-21T13:59:28.797Z"
   },
   {
    "duration": 45,
    "start_time": "2021-12-21T13:59:28.844Z"
   },
   {
    "duration": 76,
    "start_time": "2021-12-21T13:59:28.892Z"
   },
   {
    "duration": 56,
    "start_time": "2021-12-21T13:59:28.971Z"
   },
   {
    "duration": 37,
    "start_time": "2021-12-21T13:59:29.030Z"
   },
   {
    "duration": 37,
    "start_time": "2021-12-21T13:59:29.071Z"
   },
   {
    "duration": 78,
    "start_time": "2021-12-21T13:59:29.113Z"
   },
   {
    "duration": 45,
    "start_time": "2021-12-21T13:59:29.194Z"
   },
   {
    "duration": 65,
    "start_time": "2021-12-21T13:59:38.360Z"
   },
   {
    "duration": 978,
    "start_time": "2021-12-21T13:59:38.429Z"
   },
   {
    "duration": 69,
    "start_time": "2021-12-21T13:59:39.410Z"
   },
   {
    "duration": 32,
    "start_time": "2021-12-21T13:59:39.482Z"
   },
   {
    "duration": 80,
    "start_time": "2021-12-21T13:59:39.518Z"
   },
   {
    "duration": 50,
    "start_time": "2021-12-21T13:59:39.600Z"
   },
   {
    "duration": 14,
    "start_time": "2021-12-21T13:59:39.669Z"
   },
   {
    "duration": 1485,
    "start_time": "2021-12-21T13:59:39.686Z"
   },
   {
    "duration": 56,
    "start_time": "2021-12-21T13:59:41.176Z"
   },
   {
    "duration": 34,
    "start_time": "2021-12-21T13:59:41.237Z"
   },
   {
    "duration": 28,
    "start_time": "2021-12-21T13:59:41.275Z"
   },
   {
    "duration": 13,
    "start_time": "2021-12-21T13:59:41.306Z"
   },
   {
    "duration": 5,
    "start_time": "2021-12-21T13:59:41.322Z"
   },
   {
    "duration": 841,
    "start_time": "2021-12-21T13:59:41.330Z"
   },
   {
    "duration": 16,
    "start_time": "2021-12-21T13:59:42.174Z"
   },
   {
    "duration": 76,
    "start_time": "2021-12-21T13:59:42.194Z"
   },
   {
    "duration": 750,
    "start_time": "2021-12-21T13:59:42.273Z"
   },
   {
    "duration": 14,
    "start_time": "2021-12-21T13:59:43.027Z"
   },
   {
    "duration": 413,
    "start_time": "2021-12-21T13:59:43.044Z"
   },
   {
    "duration": 452,
    "start_time": "2021-12-21T13:59:43.460Z"
   },
   {
    "duration": 8,
    "start_time": "2021-12-21T13:59:43.915Z"
   },
   {
    "duration": 17,
    "start_time": "2021-12-21T13:59:43.926Z"
   },
   {
    "duration": 395,
    "start_time": "2021-12-21T13:59:43.967Z"
   },
   {
    "duration": 11,
    "start_time": "2021-12-21T14:00:32.796Z"
   },
   {
    "duration": 348,
    "start_time": "2021-12-21T14:00:35.781Z"
   },
   {
    "duration": 17,
    "start_time": "2021-12-21T14:04:43.000Z"
   },
   {
    "duration": 292,
    "start_time": "2021-12-21T14:06:26.696Z"
   },
   {
    "duration": 36,
    "start_time": "2021-12-21T14:06:48.977Z"
   },
   {
    "duration": 5,
    "start_time": "2021-12-21T14:07:11.025Z"
   },
   {
    "duration": 14,
    "start_time": "2021-12-21T14:07:15.834Z"
   },
   {
    "duration": 29,
    "start_time": "2021-12-21T14:07:20.161Z"
   },
   {
    "duration": 161,
    "start_time": "2021-12-21T14:07:35.408Z"
   },
   {
    "duration": 130,
    "start_time": "2021-12-21T14:07:35.572Z"
   },
   {
    "duration": 28,
    "start_time": "2021-12-21T14:07:35.706Z"
   },
   {
    "duration": 73,
    "start_time": "2021-12-21T14:07:35.738Z"
   },
   {
    "duration": 68,
    "start_time": "2021-12-21T14:07:35.814Z"
   },
   {
    "duration": 13,
    "start_time": "2021-12-21T14:07:35.885Z"
   },
   {
    "duration": 66,
    "start_time": "2021-12-21T14:07:35.902Z"
   },
   {
    "duration": 57,
    "start_time": "2021-12-21T14:07:35.971Z"
   },
   {
    "duration": 58,
    "start_time": "2021-12-21T14:07:36.034Z"
   },
   {
    "duration": 80,
    "start_time": "2021-12-21T14:07:36.095Z"
   },
   {
    "duration": 782,
    "start_time": "2021-12-21T14:07:36.178Z"
   },
   {
    "duration": 45,
    "start_time": "2021-12-21T14:07:36.963Z"
   },
   {
    "duration": 56,
    "start_time": "2021-12-21T14:07:37.011Z"
   },
   {
    "duration": 44,
    "start_time": "2021-12-21T14:07:37.070Z"
   },
   {
    "duration": 70,
    "start_time": "2021-12-21T14:07:37.119Z"
   },
   {
    "duration": 13,
    "start_time": "2021-12-21T14:07:37.194Z"
   },
   {
    "duration": 370,
    "start_time": "2021-12-21T14:07:37.210Z"
   },
   {
    "duration": 50,
    "start_time": "2021-12-21T14:07:37.583Z"
   },
   {
    "duration": 33,
    "start_time": "2021-12-21T14:07:37.636Z"
   },
   {
    "duration": 22,
    "start_time": "2021-12-21T14:07:37.672Z"
   },
   {
    "duration": 12,
    "start_time": "2021-12-21T14:07:37.698Z"
   },
   {
    "duration": 7,
    "start_time": "2021-12-21T14:07:37.713Z"
   },
   {
    "duration": 402,
    "start_time": "2021-12-21T14:07:37.724Z"
   },
   {
    "duration": 13,
    "start_time": "2021-12-21T14:07:38.129Z"
   },
   {
    "duration": 35,
    "start_time": "2021-12-21T14:07:38.145Z"
   },
   {
    "duration": 409,
    "start_time": "2021-12-21T14:07:38.183Z"
   },
   {
    "duration": 15,
    "start_time": "2021-12-21T14:07:38.599Z"
   },
   {
    "duration": 399,
    "start_time": "2021-12-21T14:07:38.617Z"
   },
   {
    "duration": 379,
    "start_time": "2021-12-21T14:07:39.019Z"
   },
   {
    "duration": 4,
    "start_time": "2021-12-21T14:07:39.401Z"
   },
   {
    "duration": 20,
    "start_time": "2021-12-21T14:07:39.408Z"
   },
   {
    "duration": 71,
    "start_time": "2021-12-21T14:07:39.432Z"
   },
   {
    "duration": 25,
    "start_time": "2021-12-21T14:08:05.514Z"
   },
   {
    "duration": 10,
    "start_time": "2021-12-21T14:08:36.291Z"
   },
   {
    "duration": 29,
    "start_time": "2021-12-21T14:08:46.363Z"
   },
   {
    "duration": 26,
    "start_time": "2021-12-21T14:09:46.693Z"
   },
   {
    "duration": 162,
    "start_time": "2021-12-21T14:09:52.819Z"
   },
   {
    "duration": 52,
    "start_time": "2021-12-21T14:09:52.984Z"
   },
   {
    "duration": 52,
    "start_time": "2021-12-21T14:09:53.040Z"
   },
   {
    "duration": 75,
    "start_time": "2021-12-21T14:09:53.095Z"
   },
   {
    "duration": 52,
    "start_time": "2021-12-21T14:09:53.179Z"
   },
   {
    "duration": 38,
    "start_time": "2021-12-21T14:09:53.235Z"
   },
   {
    "duration": 51,
    "start_time": "2021-12-21T14:09:53.276Z"
   },
   {
    "duration": 75,
    "start_time": "2021-12-21T14:09:53.330Z"
   },
   {
    "duration": 46,
    "start_time": "2021-12-21T14:09:53.412Z"
   },
   {
    "duration": 83,
    "start_time": "2021-12-21T14:09:53.466Z"
   },
   {
    "duration": 903,
    "start_time": "2021-12-21T14:09:53.553Z"
   },
   {
    "duration": 53,
    "start_time": "2021-12-21T14:09:54.459Z"
   },
   {
    "duration": 54,
    "start_time": "2021-12-21T14:09:54.516Z"
   },
   {
    "duration": 51,
    "start_time": "2021-12-21T14:09:54.575Z"
   },
   {
    "duration": 71,
    "start_time": "2021-12-21T14:09:54.629Z"
   },
   {
    "duration": 13,
    "start_time": "2021-12-21T14:09:54.704Z"
   },
   {
    "duration": 866,
    "start_time": "2021-12-21T14:09:54.719Z"
   },
   {
    "duration": 123,
    "start_time": "2021-12-21T14:09:55.588Z"
   },
   {
    "duration": 71,
    "start_time": "2021-12-21T14:09:55.715Z"
   },
   {
    "duration": 84,
    "start_time": "2021-12-21T14:09:55.791Z"
   },
   {
    "duration": 12,
    "start_time": "2021-12-21T14:09:55.878Z"
   },
   {
    "duration": 6,
    "start_time": "2021-12-21T14:09:55.894Z"
   },
   {
    "duration": 477,
    "start_time": "2021-12-21T14:09:55.904Z"
   },
   {
    "duration": 15,
    "start_time": "2021-12-21T14:09:56.384Z"
   },
   {
    "duration": 10,
    "start_time": "2021-12-21T14:09:56.402Z"
   },
   {
    "duration": 421,
    "start_time": "2021-12-21T14:09:56.415Z"
   },
   {
    "duration": 26,
    "start_time": "2021-12-21T14:09:56.843Z"
   },
   {
    "duration": 419,
    "start_time": "2021-12-21T14:09:56.872Z"
   },
   {
    "duration": 423,
    "start_time": "2021-12-21T14:09:57.294Z"
   },
   {
    "duration": 3,
    "start_time": "2021-12-21T14:09:57.721Z"
   },
   {
    "duration": 21,
    "start_time": "2021-12-21T14:09:57.727Z"
   },
   {
    "duration": 49,
    "start_time": "2021-12-21T14:09:57.751Z"
   },
   {
    "duration": 226,
    "start_time": "2021-12-22T09:11:16.217Z"
   },
   {
    "duration": 691,
    "start_time": "2021-12-22T09:11:20.614Z"
   },
   {
    "duration": 24,
    "start_time": "2021-12-22T09:11:21.307Z"
   },
   {
    "duration": 14,
    "start_time": "2021-12-22T09:11:21.334Z"
   },
   {
    "duration": 51,
    "start_time": "2021-12-22T09:11:21.350Z"
   },
   {
    "duration": 29,
    "start_time": "2021-12-22T09:11:21.403Z"
   },
   {
    "duration": 6,
    "start_time": "2021-12-22T09:11:21.433Z"
   },
   {
    "duration": 16,
    "start_time": "2021-12-22T09:11:21.441Z"
   },
   {
    "duration": 54,
    "start_time": "2021-12-22T09:11:21.460Z"
   },
   {
    "duration": 24,
    "start_time": "2021-12-22T09:11:21.516Z"
   },
   {
    "duration": 50,
    "start_time": "2021-12-22T09:11:21.542Z"
   },
   {
    "duration": 568,
    "start_time": "2021-12-22T09:11:21.594Z"
   },
   {
    "duration": 32,
    "start_time": "2021-12-22T09:11:22.163Z"
   },
   {
    "duration": 13,
    "start_time": "2021-12-22T09:11:22.197Z"
   },
   {
    "duration": 26,
    "start_time": "2021-12-22T09:11:22.211Z"
   },
   {
    "duration": 25,
    "start_time": "2021-12-22T09:11:22.239Z"
   },
   {
    "duration": 26,
    "start_time": "2021-12-22T09:11:22.266Z"
   },
   {
    "duration": 338,
    "start_time": "2021-12-22T09:11:22.294Z"
   },
   {
    "duration": 34,
    "start_time": "2021-12-22T09:11:22.634Z"
   },
   {
    "duration": 39,
    "start_time": "2021-12-22T09:11:22.670Z"
   },
   {
    "duration": 15,
    "start_time": "2021-12-22T09:11:22.711Z"
   },
   {
    "duration": 5,
    "start_time": "2021-12-22T09:11:22.728Z"
   },
   {
    "duration": 5,
    "start_time": "2021-12-22T09:11:22.735Z"
   },
   {
    "duration": 212,
    "start_time": "2021-12-22T09:11:22.743Z"
   },
   {
    "duration": 9,
    "start_time": "2021-12-22T09:11:22.957Z"
   },
   {
    "duration": 6,
    "start_time": "2021-12-22T09:11:22.968Z"
   },
   {
    "duration": 225,
    "start_time": "2021-12-22T09:11:22.975Z"
   },
   {
    "duration": 9,
    "start_time": "2021-12-22T09:11:23.201Z"
   },
   {
    "duration": 223,
    "start_time": "2021-12-22T09:11:23.211Z"
   },
   {
    "duration": 227,
    "start_time": "2021-12-22T09:11:23.435Z"
   },
   {
    "duration": 2,
    "start_time": "2021-12-22T09:11:23.664Z"
   },
   {
    "duration": 24,
    "start_time": "2021-12-22T09:11:23.668Z"
   },
   {
    "duration": 207,
    "start_time": "2021-12-22T09:11:23.694Z"
   },
   {
    "duration": 176,
    "start_time": "2021-12-22T09:12:13.201Z"
   },
   {
    "duration": 203,
    "start_time": "2021-12-22T09:12:20.168Z"
   },
   {
    "duration": 175,
    "start_time": "2021-12-22T09:12:28.841Z"
   },
   {
    "duration": 203,
    "start_time": "2021-12-22T09:12:36.904Z"
   },
   {
    "duration": 225,
    "start_time": "2021-12-22T09:14:28.164Z"
   },
   {
    "duration": 253,
    "start_time": "2021-12-22T09:14:40.475Z"
   },
   {
    "duration": 190,
    "start_time": "2021-12-22T09:14:57.618Z"
   },
   {
    "duration": 197,
    "start_time": "2021-12-22T09:15:53.820Z"
   },
   {
    "duration": 191,
    "start_time": "2021-12-22T09:17:42.836Z"
   },
   {
    "duration": 198,
    "start_time": "2021-12-22T09:17:53.687Z"
   },
   {
    "duration": 202,
    "start_time": "2021-12-22T09:18:27.149Z"
   },
   {
    "duration": 206,
    "start_time": "2021-12-22T09:18:47.014Z"
   },
   {
    "duration": 220,
    "start_time": "2021-12-22T09:19:27.038Z"
   },
   {
    "duration": 214,
    "start_time": "2021-12-22T09:19:33.758Z"
   },
   {
    "duration": 222,
    "start_time": "2021-12-22T09:28:31.407Z"
   },
   {
    "duration": 209,
    "start_time": "2021-12-22T09:28:36.399Z"
   },
   {
    "duration": 273,
    "start_time": "2021-12-22T09:28:38.336Z"
   },
   {
    "duration": 178,
    "start_time": "2021-12-22T09:28:38.851Z"
   },
   {
    "duration": 214,
    "start_time": "2021-12-22T09:28:39.031Z"
   },
   {
    "duration": 212,
    "start_time": "2021-12-22T09:28:57.943Z"
   },
   {
    "duration": 218,
    "start_time": "2021-12-22T09:29:36.305Z"
   },
   {
    "duration": 212,
    "start_time": "2021-12-22T09:29:41.248Z"
   },
   {
    "duration": 188,
    "start_time": "2021-12-22T09:32:30.859Z"
   },
   {
    "duration": 211,
    "start_time": "2021-12-22T09:32:44.042Z"
   },
   {
    "duration": 210,
    "start_time": "2021-12-22T09:38:01.799Z"
   },
   {
    "duration": 213,
    "start_time": "2021-12-22T09:38:17.151Z"
   },
   {
    "duration": 317,
    "start_time": "2021-12-22T09:43:10.076Z"
   },
   {
    "duration": 299,
    "start_time": "2021-12-22T09:43:32.900Z"
   },
   {
    "duration": 203,
    "start_time": "2021-12-22T09:44:19.124Z"
   },
   {
    "duration": 267,
    "start_time": "2021-12-22T09:44:33.069Z"
   },
   {
    "duration": 527,
    "start_time": "2021-12-22T09:45:09.797Z"
   },
   {
    "duration": 502,
    "start_time": "2021-12-22T09:45:29.582Z"
   },
   {
    "duration": 497,
    "start_time": "2021-12-22T09:47:07.415Z"
   },
   {
    "duration": 495,
    "start_time": "2021-12-22T09:47:24.727Z"
   },
   {
    "duration": 534,
    "start_time": "2021-12-22T09:47:30.024Z"
   },
   {
    "duration": 79,
    "start_time": "2021-12-22T09:48:04.815Z"
   },
   {
    "duration": 67,
    "start_time": "2021-12-22T09:50:31.610Z"
   },
   {
    "duration": 551,
    "start_time": "2021-12-22T09:50:37.826Z"
   },
   {
    "duration": 535,
    "start_time": "2021-12-22T09:51:07.570Z"
   },
   {
    "duration": 496,
    "start_time": "2021-12-22T09:51:21.285Z"
   },
   {
    "duration": 473,
    "start_time": "2021-12-22T09:52:36.676Z"
   },
   {
    "duration": 484,
    "start_time": "2021-12-22T09:53:06.460Z"
   },
   {
    "duration": 186,
    "start_time": "2021-12-22T09:58:44.719Z"
   },
   {
    "duration": 195,
    "start_time": "2021-12-22T09:59:25.591Z"
   },
   {
    "duration": 202,
    "start_time": "2021-12-22T10:08:56.200Z"
   },
   {
    "duration": 62,
    "start_time": "2021-12-22T10:09:11.567Z"
   },
   {
    "duration": 188,
    "start_time": "2021-12-22T10:09:16.030Z"
   },
   {
    "duration": 211,
    "start_time": "2021-12-22T10:09:36.510Z"
   },
   {
    "duration": 306,
    "start_time": "2021-12-22T10:09:53.807Z"
   },
   {
    "duration": 200,
    "start_time": "2021-12-22T10:14:11.834Z"
   },
   {
    "duration": 205,
    "start_time": "2021-12-22T10:14:25.258Z"
   },
   {
    "duration": 203,
    "start_time": "2021-12-22T10:16:25.588Z"
   },
   {
    "duration": 179,
    "start_time": "2021-12-22T10:16:36.996Z"
   },
   {
    "duration": 473,
    "start_time": "2021-12-22T10:16:42.860Z"
   },
   {
    "duration": 202,
    "start_time": "2021-12-22T10:16:47.437Z"
   },
   {
    "duration": 14,
    "start_time": "2021-12-22T10:45:44.492Z"
   },
   {
    "duration": 12,
    "start_time": "2021-12-22T10:48:37.991Z"
   },
   {
    "duration": 47,
    "start_time": "2021-12-22T10:48:58.472Z"
   },
   {
    "duration": 11,
    "start_time": "2021-12-22T11:23:42.888Z"
   },
   {
    "duration": 32,
    "start_time": "2021-12-22T11:26:31.079Z"
   },
   {
    "duration": 12,
    "start_time": "2021-12-22T11:27:05.896Z"
   },
   {
    "duration": 429,
    "start_time": "2021-12-22T11:30:17.978Z"
   },
   {
    "duration": 420,
    "start_time": "2021-12-22T11:30:51.018Z"
   },
   {
    "duration": 488,
    "start_time": "2021-12-22T11:31:24.882Z"
   },
   {
    "duration": 457,
    "start_time": "2021-12-22T11:32:23.044Z"
   },
   {
    "duration": 516,
    "start_time": "2021-12-22T12:15:00.622Z"
   },
   {
    "duration": 242,
    "start_time": "2021-12-22T12:15:11.758Z"
   },
   {
    "duration": 502,
    "start_time": "2021-12-22T12:16:39.312Z"
   },
   {
    "duration": 416,
    "start_time": "2021-12-22T12:18:48.226Z"
   },
   {
    "duration": 433,
    "start_time": "2021-12-22T12:18:53.768Z"
   },
   {
    "duration": 206,
    "start_time": "2021-12-22T12:19:31.025Z"
   },
   {
    "duration": 8,
    "start_time": "2021-12-22T13:20:31.292Z"
   },
   {
    "duration": 437,
    "start_time": "2021-12-22T13:21:22.781Z"
   },
   {
    "duration": 9,
    "start_time": "2021-12-22T13:21:38.312Z"
   },
   {
    "duration": 271,
    "start_time": "2021-12-22T13:22:11.830Z"
   },
   {
    "duration": 183,
    "start_time": "2021-12-22T13:22:41.935Z"
   },
   {
    "duration": 184,
    "start_time": "2021-12-22T13:24:17.433Z"
   },
   {
    "duration": 204,
    "start_time": "2021-12-22T13:24:24.208Z"
   },
   {
    "duration": 161,
    "start_time": "2021-12-22T13:27:46.103Z"
   },
   {
    "duration": 8,
    "start_time": "2021-12-22T13:27:46.267Z"
   },
   {
    "duration": 9,
    "start_time": "2021-12-22T13:29:14.142Z"
   },
   {
    "duration": 16,
    "start_time": "2021-12-22T13:34:10.368Z"
   },
   {
    "duration": 4776,
    "start_time": "2021-12-22T13:34:47.064Z"
   },
   {
    "duration": 203,
    "start_time": "2021-12-22T13:35:06.409Z"
   },
   {
    "duration": 17,
    "start_time": "2021-12-22T13:36:07.051Z"
   },
   {
    "duration": 19,
    "start_time": "2021-12-22T13:36:52.826Z"
   },
   {
    "duration": 4945,
    "start_time": "2021-12-22T13:37:18.363Z"
   },
   {
    "duration": 306,
    "start_time": "2021-12-22T13:38:03.747Z"
   },
   {
    "duration": 330,
    "start_time": "2021-12-22T13:38:41.396Z"
   },
   {
    "duration": 364,
    "start_time": "2021-12-22T13:41:39.462Z"
   },
   {
    "duration": 710,
    "start_time": "2021-12-23T11:30:47.030Z"
   },
   {
    "duration": 23,
    "start_time": "2021-12-23T11:30:47.742Z"
   },
   {
    "duration": 13,
    "start_time": "2021-12-23T11:30:47.767Z"
   },
   {
    "duration": 40,
    "start_time": "2021-12-23T11:30:47.781Z"
   },
   {
    "duration": 25,
    "start_time": "2021-12-23T11:30:47.822Z"
   },
   {
    "duration": 6,
    "start_time": "2021-12-23T11:30:47.849Z"
   },
   {
    "duration": 18,
    "start_time": "2021-12-23T11:30:47.857Z"
   },
   {
    "duration": 54,
    "start_time": "2021-12-23T11:30:47.878Z"
   },
   {
    "duration": 37,
    "start_time": "2021-12-23T11:30:47.935Z"
   },
   {
    "duration": 67,
    "start_time": "2021-12-23T11:30:47.975Z"
   },
   {
    "duration": 612,
    "start_time": "2021-12-23T11:30:48.044Z"
   },
   {
    "duration": 26,
    "start_time": "2021-12-23T11:30:48.657Z"
   },
   {
    "duration": 27,
    "start_time": "2021-12-23T11:30:48.685Z"
   },
   {
    "duration": 22,
    "start_time": "2021-12-23T11:30:48.714Z"
   },
   {
    "duration": 25,
    "start_time": "2021-12-23T11:30:48.738Z"
   },
   {
    "duration": 8,
    "start_time": "2021-12-23T11:30:48.765Z"
   },
   {
    "duration": 309,
    "start_time": "2021-12-23T11:30:48.775Z"
   },
   {
    "duration": 195,
    "start_time": "2021-12-23T11:30:49.086Z"
   },
   {
    "duration": 30,
    "start_time": "2021-12-23T11:30:49.283Z"
   },
   {
    "duration": 7,
    "start_time": "2021-12-23T11:30:49.315Z"
   },
   {
    "duration": 19,
    "start_time": "2021-12-23T11:30:49.324Z"
   },
   {
    "duration": 6,
    "start_time": "2021-12-23T11:30:49.345Z"
   },
   {
    "duration": 215,
    "start_time": "2021-12-23T11:30:49.354Z"
   },
   {
    "duration": 9,
    "start_time": "2021-12-23T11:30:49.571Z"
   },
   {
    "duration": 7,
    "start_time": "2021-12-23T11:30:49.581Z"
   },
   {
    "duration": 231,
    "start_time": "2021-12-23T11:30:49.589Z"
   },
   {
    "duration": 8,
    "start_time": "2021-12-23T11:30:49.822Z"
   },
   {
    "duration": 219,
    "start_time": "2021-12-23T11:30:49.831Z"
   },
   {
    "duration": 211,
    "start_time": "2021-12-23T11:30:50.052Z"
   },
   {
    "duration": 8,
    "start_time": "2021-12-23T11:30:50.265Z"
   },
   {
    "duration": 211,
    "start_time": "2021-12-23T11:30:50.275Z"
   },
   {
    "duration": 221,
    "start_time": "2021-12-23T11:30:50.487Z"
   },
   {
    "duration": 226,
    "start_time": "2021-12-23T11:30:50.710Z"
   },
   {
    "duration": 718,
    "start_time": "2021-12-23T11:30:50.939Z"
   },
   {
    "duration": 11,
    "start_time": "2021-12-23T11:30:51.659Z"
   },
   {
    "duration": 345,
    "start_time": "2021-12-23T11:30:51.672Z"
   },
   {
    "duration": 201,
    "start_time": "2021-12-23T11:30:52.019Z"
   },
   {
    "duration": 405,
    "start_time": "2021-12-23T11:30:52.222Z"
   },
   {
    "duration": 8910,
    "start_time": "2021-12-23T11:40:10.074Z"
   },
   {
    "duration": 369,
    "start_time": "2021-12-23T11:40:34.569Z"
   },
   {
    "duration": 18,
    "start_time": "2021-12-23T11:42:28.769Z"
   },
   {
    "duration": 523,
    "start_time": "2021-12-23T11:45:10.272Z"
   },
   {
    "duration": 65834,
    "start_time": "2021-12-23T11:48:42.054Z"
   },
   {
    "duration": 352,
    "start_time": "2021-12-23T11:50:25.592Z"
   },
   {
    "duration": 491,
    "start_time": "2021-12-23T11:53:22.233Z"
   },
   {
    "duration": 468,
    "start_time": "2021-12-23T11:53:42.843Z"
   },
   {
    "duration": 387,
    "start_time": "2021-12-23T11:54:51.355Z"
   },
   {
    "duration": 380,
    "start_time": "2021-12-23T11:55:04.363Z"
   },
   {
    "duration": 471,
    "start_time": "2021-12-23T11:55:13.851Z"
   },
   {
    "duration": 392,
    "start_time": "2021-12-23T11:55:20.717Z"
   },
   {
    "duration": 272,
    "start_time": "2021-12-23T11:55:55.156Z"
   },
   {
    "duration": 283,
    "start_time": "2021-12-23T11:57:01.749Z"
   },
   {
    "duration": 360,
    "start_time": "2021-12-23T11:57:50.632Z"
   },
   {
    "duration": 337,
    "start_time": "2021-12-23T11:57:56.046Z"
   },
   {
    "duration": 356,
    "start_time": "2021-12-23T11:58:18.006Z"
   },
   {
    "duration": 356,
    "start_time": "2021-12-23T11:58:29.502Z"
   },
   {
    "duration": 370,
    "start_time": "2021-12-23T11:58:38.886Z"
   },
   {
    "duration": 360,
    "start_time": "2021-12-23T11:58:43.334Z"
   },
   {
    "duration": 200,
    "start_time": "2021-12-23T12:00:53.984Z"
   },
   {
    "duration": 200,
    "start_time": "2021-12-23T12:02:07.329Z"
   },
   {
    "duration": 206,
    "start_time": "2021-12-23T12:02:13.313Z"
   },
   {
    "duration": 27,
    "start_time": "2021-12-23T12:03:34.570Z"
   },
   {
    "duration": 24,
    "start_time": "2021-12-23T12:03:55.691Z"
   },
   {
    "duration": 24,
    "start_time": "2021-12-23T12:08:12.534Z"
   },
   {
    "duration": 23,
    "start_time": "2021-12-23T12:08:15.606Z"
   },
   {
    "duration": 22,
    "start_time": "2021-12-23T12:08:20.630Z"
   },
   {
    "duration": 200,
    "start_time": "2021-12-23T12:16:59.343Z"
   },
   {
    "duration": 361,
    "start_time": "2021-12-23T12:17:27.374Z"
   },
   {
    "duration": 19,
    "start_time": "2021-12-23T12:20:10.784Z"
   },
   {
    "duration": 381,
    "start_time": "2021-12-23T12:32:22.378Z"
   },
   {
    "duration": 5,
    "start_time": "2021-12-23T12:33:46.891Z"
   },
   {
    "duration": 4,
    "start_time": "2021-12-23T12:33:53.555Z"
   },
   {
    "duration": 340,
    "start_time": "2021-12-23T12:34:10.139Z"
   },
   {
    "duration": 408,
    "start_time": "2021-12-23T12:34:32.788Z"
   },
   {
    "duration": 11,
    "start_time": "2021-12-23T12:37:29.759Z"
   },
   {
    "duration": 11,
    "start_time": "2021-12-23T12:40:03.169Z"
   },
   {
    "duration": 11,
    "start_time": "2021-12-23T12:40:10.024Z"
   },
   {
    "duration": 321,
    "start_time": "2021-12-23T12:40:58.497Z"
   },
   {
    "duration": 220,
    "start_time": "2021-12-23T12:41:17.442Z"
   },
   {
    "duration": 207,
    "start_time": "2021-12-23T12:41:48.226Z"
   },
   {
    "duration": 208,
    "start_time": "2021-12-23T12:42:21.354Z"
   },
   {
    "duration": 207,
    "start_time": "2021-12-23T12:42:29.539Z"
   },
   {
    "duration": 172,
    "start_time": "2021-12-23T12:47:49.567Z"
   },
   {
    "duration": 127,
    "start_time": "2021-12-23T12:52:00.131Z"
   },
   {
    "duration": 189,
    "start_time": "2021-12-23T12:52:04.634Z"
   },
   {
    "duration": 171,
    "start_time": "2021-12-23T12:52:15.803Z"
   },
   {
    "duration": 211,
    "start_time": "2021-12-23T12:53:39.704Z"
   },
   {
    "duration": 193,
    "start_time": "2021-12-23T12:56:51.750Z"
   },
   {
    "duration": 146,
    "start_time": "2021-12-23T12:57:23.033Z"
   },
   {
    "duration": 342,
    "start_time": "2021-12-23T13:21:14.643Z"
   },
   {
    "duration": 1017,
    "start_time": "2021-12-23T13:21:37.499Z"
   },
   {
    "duration": 110,
    "start_time": "2021-12-23T13:26:41.559Z"
   },
   {
    "duration": 111,
    "start_time": "2021-12-23T13:26:55.030Z"
   },
   {
    "duration": 152,
    "start_time": "2021-12-23T13:27:01.670Z"
   },
   {
    "duration": 23,
    "start_time": "2021-12-23T13:27:20.431Z"
   },
   {
    "duration": 23,
    "start_time": "2021-12-23T13:29:10.872Z"
   },
   {
    "duration": 23,
    "start_time": "2021-12-23T13:29:37.139Z"
   },
   {
    "duration": 25,
    "start_time": "2021-12-23T13:30:00.913Z"
   },
   {
    "duration": 389,
    "start_time": "2021-12-23T13:31:37.531Z"
   },
   {
    "duration": 22,
    "start_time": "2021-12-23T13:31:53.363Z"
   },
   {
    "duration": 23,
    "start_time": "2021-12-23T13:32:06.171Z"
   },
   {
    "duration": 26,
    "start_time": "2021-12-23T13:34:09.725Z"
   },
   {
    "duration": 26,
    "start_time": "2021-12-23T13:35:32.455Z"
   },
   {
    "duration": 27,
    "start_time": "2021-12-23T13:36:00.175Z"
   },
   {
    "duration": 387,
    "start_time": "2021-12-23T13:36:21.014Z"
   },
   {
    "duration": 236,
    "start_time": "2021-12-23T13:36:47.959Z"
   },
   {
    "duration": 257,
    "start_time": "2021-12-23T13:37:37.809Z"
   },
   {
    "duration": 209,
    "start_time": "2021-12-23T13:37:46.463Z"
   },
   {
    "duration": 401,
    "start_time": "2021-12-23T13:43:49.877Z"
   },
   {
    "duration": 47,
    "start_time": "2021-12-23T13:44:03.358Z"
   },
   {
    "duration": 16,
    "start_time": "2021-12-23T13:48:35.963Z"
   },
   {
    "duration": 336,
    "start_time": "2021-12-23T13:49:38.905Z"
   },
   {
    "duration": 358,
    "start_time": "2021-12-23T13:49:43.954Z"
   },
   {
    "duration": 14,
    "start_time": "2021-12-23T13:50:18.946Z"
   },
   {
    "duration": 19,
    "start_time": "2021-12-23T13:53:51.245Z"
   },
   {
    "duration": 345,
    "start_time": "2021-12-23T13:55:27.542Z"
   },
   {
    "duration": 19,
    "start_time": "2021-12-23T13:55:37.310Z"
   },
   {
    "duration": 402,
    "start_time": "2021-12-23T13:57:08.888Z"
   },
   {
    "duration": 5,
    "start_time": "2021-12-23T13:57:14.088Z"
   },
   {
    "duration": 4,
    "start_time": "2021-12-23T13:58:06.929Z"
   },
   {
    "duration": 5,
    "start_time": "2021-12-23T13:58:17.649Z"
   },
   {
    "duration": 4,
    "start_time": "2021-12-23T13:59:08.722Z"
   },
   {
    "duration": 9,
    "start_time": "2021-12-23T14:01:43.604Z"
   },
   {
    "duration": 18,
    "start_time": "2021-12-23T14:02:31.828Z"
   },
   {
    "duration": 4,
    "start_time": "2021-12-23T14:04:34.335Z"
   },
   {
    "duration": 11,
    "start_time": "2021-12-23T14:04:47.926Z"
   },
   {
    "duration": 11,
    "start_time": "2021-12-23T14:05:02.550Z"
   },
   {
    "duration": 4,
    "start_time": "2021-12-23T14:05:23.910Z"
   },
   {
    "duration": 12,
    "start_time": "2021-12-23T14:05:30.103Z"
   },
   {
    "duration": 15,
    "start_time": "2021-12-23T14:05:38.823Z"
   },
   {
    "duration": 18,
    "start_time": "2021-12-23T14:05:48.344Z"
   },
   {
    "duration": 13,
    "start_time": "2021-12-23T14:05:59.744Z"
   },
   {
    "duration": 10,
    "start_time": "2021-12-23T14:06:02.759Z"
   },
   {
    "duration": 112,
    "start_time": "2021-12-23T14:06:06.640Z"
   },
   {
    "duration": 151,
    "start_time": "2021-12-23T14:06:21.000Z"
   },
   {
    "duration": 11,
    "start_time": "2021-12-23T14:06:30.776Z"
   },
   {
    "duration": 169,
    "start_time": "2021-12-23T14:09:18.115Z"
   },
   {
    "duration": 364,
    "start_time": "2021-12-23T14:10:20.211Z"
   },
   {
    "duration": 124,
    "start_time": "2021-12-23T14:11:23.597Z"
   },
   {
    "duration": 366,
    "start_time": "2021-12-23T14:11:29.971Z"
   },
   {
    "duration": 10658,
    "start_time": "2021-12-23T14:13:18.678Z"
   },
   {
    "duration": 889,
    "start_time": "2021-12-24T14:05:16.057Z"
   },
   {
    "duration": 36,
    "start_time": "2021-12-24T14:05:16.949Z"
   },
   {
    "duration": 40,
    "start_time": "2021-12-24T14:05:16.988Z"
   },
   {
    "duration": 43,
    "start_time": "2021-12-24T14:05:17.032Z"
   },
   {
    "duration": 94,
    "start_time": "2021-12-24T14:05:17.079Z"
   },
   {
    "duration": 10,
    "start_time": "2021-12-24T14:05:17.176Z"
   },
   {
    "duration": 39,
    "start_time": "2021-12-24T14:05:17.188Z"
   },
   {
    "duration": 46,
    "start_time": "2021-12-24T14:05:17.232Z"
   },
   {
    "duration": 70,
    "start_time": "2021-12-24T14:05:17.281Z"
   },
   {
    "duration": 92,
    "start_time": "2021-12-24T14:05:17.354Z"
   },
   {
    "duration": 1254,
    "start_time": "2021-12-24T14:05:17.449Z"
   },
   {
    "duration": 64,
    "start_time": "2021-12-24T14:05:18.705Z"
   },
   {
    "duration": 18,
    "start_time": "2021-12-24T14:05:18.772Z"
   },
   {
    "duration": 65,
    "start_time": "2021-12-24T14:05:18.793Z"
   },
   {
    "duration": 77,
    "start_time": "2021-12-24T14:05:18.861Z"
   },
   {
    "duration": 15,
    "start_time": "2021-12-24T14:05:18.941Z"
   },
   {
    "duration": 546,
    "start_time": "2021-12-24T14:05:18.959Z"
   },
   {
    "duration": 524,
    "start_time": "2021-12-24T14:05:19.508Z"
   },
   {
    "duration": 63,
    "start_time": "2021-12-24T14:05:20.035Z"
   },
   {
    "duration": 16,
    "start_time": "2021-12-24T14:05:20.119Z"
   },
   {
    "duration": 21,
    "start_time": "2021-12-24T14:05:20.141Z"
   },
   {
    "duration": 12,
    "start_time": "2021-12-24T14:05:20.164Z"
   },
   {
    "duration": 355,
    "start_time": "2021-12-24T14:05:20.220Z"
   },
   {
    "duration": 14,
    "start_time": "2021-12-24T14:05:20.579Z"
   },
   {
    "duration": 29,
    "start_time": "2021-12-24T14:05:20.596Z"
   },
   {
    "duration": 530,
    "start_time": "2021-12-24T14:05:20.628Z"
   },
   {
    "duration": 15,
    "start_time": "2021-12-24T14:05:21.161Z"
   },
   {
    "duration": 549,
    "start_time": "2021-12-24T14:05:21.179Z"
   },
   {
    "duration": 536,
    "start_time": "2021-12-24T14:05:21.731Z"
   },
   {
    "duration": 13,
    "start_time": "2021-12-24T14:05:22.270Z"
   },
   {
    "duration": 394,
    "start_time": "2021-12-24T14:05:22.286Z"
   },
   {
    "duration": 505,
    "start_time": "2021-12-24T14:05:22.683Z"
   },
   {
    "duration": 537,
    "start_time": "2021-12-24T14:05:23.191Z"
   },
   {
    "duration": 1095,
    "start_time": "2021-12-24T14:05:23.733Z"
   },
   {
    "duration": 21,
    "start_time": "2021-12-24T14:05:24.834Z"
   },
   {
    "duration": 16,
    "start_time": "2021-12-24T14:05:24.858Z"
   },
   {
    "duration": 654,
    "start_time": "2021-12-24T14:05:24.876Z"
   },
   {
    "duration": 692,
    "start_time": "2021-12-24T14:05:25.534Z"
   },
   {
    "duration": 671,
    "start_time": "2021-12-24T14:05:26.229Z"
   },
   {
    "duration": 381,
    "start_time": "2021-12-24T14:05:26.903Z"
   },
   {
    "duration": 387,
    "start_time": "2021-12-24T14:05:27.287Z"
   },
   {
    "duration": 340,
    "start_time": "2021-12-24T14:05:27.677Z"
   },
   {
    "duration": 42,
    "start_time": "2021-12-24T14:05:28.021Z"
   },
   {
    "duration": 379,
    "start_time": "2021-12-24T14:05:28.066Z"
   },
   {
    "duration": 28,
    "start_time": "2021-12-24T14:05:28.448Z"
   },
   {
    "duration": 39,
    "start_time": "2021-12-24T14:05:28.478Z"
   },
   {
    "duration": 8,
    "start_time": "2021-12-24T14:05:28.520Z"
   },
   {
    "duration": 7,
    "start_time": "2021-12-24T14:06:00.115Z"
   },
   {
    "duration": 6761,
    "start_time": "2021-12-24T14:06:07.211Z"
   },
   {
    "duration": 7332,
    "start_time": "2021-12-24T14:06:43.109Z"
   },
   {
    "duration": 314,
    "start_time": "2021-12-24T14:07:45.494Z"
   },
   {
    "duration": 28,
    "start_time": "2021-12-24T14:08:19.910Z"
   },
   {
    "duration": 13,
    "start_time": "2021-12-24T14:08:49.432Z"
   },
   {
    "duration": 881,
    "start_time": "2021-12-24T14:09:09.467Z"
   },
   {
    "duration": 35,
    "start_time": "2021-12-24T14:09:10.351Z"
   },
   {
    "duration": 38,
    "start_time": "2021-12-24T14:09:10.390Z"
   },
   {
    "duration": 37,
    "start_time": "2021-12-24T14:09:10.432Z"
   },
   {
    "duration": 70,
    "start_time": "2021-12-24T14:09:10.472Z"
   },
   {
    "duration": 9,
    "start_time": "2021-12-24T14:09:10.545Z"
   },
   {
    "duration": 21,
    "start_time": "2021-12-24T14:09:10.556Z"
   },
   {
    "duration": 77,
    "start_time": "2021-12-24T14:09:10.582Z"
   },
   {
    "duration": 36,
    "start_time": "2021-12-24T14:09:10.662Z"
   },
   {
    "duration": 54,
    "start_time": "2021-12-24T14:09:10.719Z"
   },
   {
    "duration": 1174,
    "start_time": "2021-12-24T14:09:10.776Z"
   },
   {
    "duration": 42,
    "start_time": "2021-12-24T14:09:11.952Z"
   },
   {
    "duration": 41,
    "start_time": "2021-12-24T14:09:11.997Z"
   },
   {
    "duration": 41,
    "start_time": "2021-12-24T14:09:12.041Z"
   },
   {
    "duration": 76,
    "start_time": "2021-12-24T14:09:12.084Z"
   },
   {
    "duration": 13,
    "start_time": "2021-12-24T14:09:12.163Z"
   },
   {
    "duration": 512,
    "start_time": "2021-12-24T14:09:12.179Z"
   },
   {
    "duration": 360,
    "start_time": "2021-12-24T14:09:12.694Z"
   },
   {
    "duration": 40,
    "start_time": "2021-12-24T14:09:13.057Z"
   },
   {
    "duration": 18,
    "start_time": "2021-12-24T14:09:13.119Z"
   },
   {
    "duration": 37,
    "start_time": "2021-12-24T14:09:13.141Z"
   },
   {
    "duration": 37,
    "start_time": "2021-12-24T14:09:13.181Z"
   },
   {
    "duration": 343,
    "start_time": "2021-12-24T14:09:13.224Z"
   },
   {
    "duration": 12,
    "start_time": "2021-12-24T14:09:13.570Z"
   },
   {
    "duration": 9,
    "start_time": "2021-12-24T14:09:13.584Z"
   },
   {
    "duration": 359,
    "start_time": "2021-12-24T14:09:13.617Z"
   },
   {
    "duration": 11,
    "start_time": "2021-12-24T14:09:13.978Z"
   },
   {
    "duration": 394,
    "start_time": "2021-12-24T14:09:13.991Z"
   },
   {
    "duration": 363,
    "start_time": "2021-12-24T14:09:14.388Z"
   },
   {
    "duration": 13,
    "start_time": "2021-12-24T14:09:14.754Z"
   },
   {
    "duration": 381,
    "start_time": "2021-12-24T14:09:14.769Z"
   },
   {
    "duration": 398,
    "start_time": "2021-12-24T14:09:15.153Z"
   },
   {
    "duration": 568,
    "start_time": "2021-12-24T14:09:15.554Z"
   },
   {
    "duration": 747,
    "start_time": "2021-12-24T14:09:16.127Z"
   },
   {
    "duration": 20,
    "start_time": "2021-12-24T14:09:16.877Z"
   },
   {
    "duration": 22,
    "start_time": "2021-12-24T14:09:16.920Z"
   },
   {
    "duration": 514,
    "start_time": "2021-12-24T14:09:16.945Z"
   },
   {
    "duration": 320,
    "start_time": "2021-12-24T14:09:17.462Z"
   },
   {
    "duration": 554,
    "start_time": "2021-12-24T14:09:17.785Z"
   },
   {
    "duration": 379,
    "start_time": "2021-12-24T14:09:18.343Z"
   },
   {
    "duration": 368,
    "start_time": "2021-12-24T14:09:18.725Z"
   },
   {
    "duration": 350,
    "start_time": "2021-12-24T14:09:19.096Z"
   },
   {
    "duration": 36,
    "start_time": "2021-12-24T14:09:19.448Z"
   },
   {
    "duration": 507,
    "start_time": "2021-12-24T14:09:19.486Z"
   },
   {
    "duration": 54,
    "start_time": "2021-12-24T14:09:19.996Z"
   },
   {
    "duration": 15,
    "start_time": "2021-12-24T14:09:20.053Z"
   },
   {
    "duration": 17,
    "start_time": "2021-12-24T14:09:20.071Z"
   },
   {
    "duration": 21,
    "start_time": "2021-12-24T14:09:38.040Z"
   },
   {
    "duration": 365,
    "start_time": "2021-12-24T14:10:40.696Z"
   },
   {
    "duration": 23,
    "start_time": "2021-12-24T14:10:50.583Z"
   },
   {
    "duration": 93,
    "start_time": "2021-12-24T14:11:00.973Z"
   },
   {
    "duration": 25,
    "start_time": "2021-12-24T14:11:10.009Z"
   },
   {
    "duration": 14,
    "start_time": "2021-12-24T14:12:59.337Z"
   },
   {
    "duration": 21,
    "start_time": "2021-12-24T14:13:09.122Z"
   },
   {
    "duration": 11,
    "start_time": "2021-12-24T14:14:40.755Z"
   },
   {
    "duration": 14,
    "start_time": "2021-12-24T14:15:11.099Z"
   },
   {
    "duration": 26,
    "start_time": "2021-12-24T14:15:24.459Z"
   },
   {
    "duration": 10,
    "start_time": "2021-12-24T14:15:27.796Z"
   },
   {
    "duration": 16,
    "start_time": "2021-12-24T14:15:30.196Z"
   },
   {
    "duration": 11,
    "start_time": "2021-12-24T14:15:42.772Z"
   },
   {
    "duration": 86,
    "start_time": "2021-12-24T14:19:11.791Z"
   },
   {
    "duration": 14,
    "start_time": "2021-12-24T14:19:21.694Z"
   },
   {
    "duration": 25,
    "start_time": "2021-12-24T14:19:31.185Z"
   },
   {
    "duration": 17,
    "start_time": "2021-12-24T14:19:34.319Z"
   },
   {
    "duration": 19,
    "start_time": "2021-12-24T14:19:36.390Z"
   },
   {
    "duration": 10,
    "start_time": "2021-12-24T14:19:58.743Z"
   },
   {
    "duration": 9,
    "start_time": "2021-12-24T14:20:41.359Z"
   },
   {
    "duration": 133,
    "start_time": "2021-12-24T14:20:55.744Z"
   },
   {
    "duration": 49,
    "start_time": "2021-12-24T14:20:55.879Z"
   },
   {
    "duration": 37,
    "start_time": "2021-12-24T14:20:55.932Z"
   },
   {
    "duration": 48,
    "start_time": "2021-12-24T14:20:55.973Z"
   },
   {
    "duration": 43,
    "start_time": "2021-12-24T14:20:56.024Z"
   },
   {
    "duration": 10,
    "start_time": "2021-12-24T14:20:56.069Z"
   },
   {
    "duration": 61,
    "start_time": "2021-12-24T14:20:56.081Z"
   },
   {
    "duration": 44,
    "start_time": "2021-12-24T14:20:56.144Z"
   },
   {
    "duration": 66,
    "start_time": "2021-12-24T14:20:56.192Z"
   },
   {
    "duration": 79,
    "start_time": "2021-12-24T14:20:56.263Z"
   },
   {
    "duration": 1576,
    "start_time": "2021-12-24T14:20:56.346Z"
   },
   {
    "duration": 37,
    "start_time": "2021-12-24T14:20:57.927Z"
   },
   {
    "duration": 21,
    "start_time": "2021-12-24T14:20:57.967Z"
   },
   {
    "duration": 67,
    "start_time": "2021-12-24T14:20:57.991Z"
   },
   {
    "duration": 67,
    "start_time": "2021-12-24T14:20:58.060Z"
   },
   {
    "duration": 14,
    "start_time": "2021-12-24T14:20:58.133Z"
   },
   {
    "duration": 338,
    "start_time": "2021-12-24T14:20:58.149Z"
   },
   {
    "duration": 357,
    "start_time": "2021-12-24T14:20:58.490Z"
   },
   {
    "duration": 41,
    "start_time": "2021-12-24T14:20:58.850Z"
   },
   {
    "duration": 39,
    "start_time": "2021-12-24T14:20:58.894Z"
   },
   {
    "duration": 24,
    "start_time": "2021-12-24T14:20:58.936Z"
   },
   {
    "duration": 8,
    "start_time": "2021-12-24T14:20:58.962Z"
   },
   {
    "duration": 434,
    "start_time": "2021-12-24T14:20:58.973Z"
   },
   {
    "duration": 21,
    "start_time": "2021-12-24T14:20:59.410Z"
   },
   {
    "duration": 11,
    "start_time": "2021-12-24T14:20:59.434Z"
   },
   {
    "duration": 362,
    "start_time": "2021-12-24T14:20:59.447Z"
   },
   {
    "duration": 15,
    "start_time": "2021-12-24T14:20:59.821Z"
   },
   {
    "duration": 366,
    "start_time": "2021-12-24T14:20:59.839Z"
   },
   {
    "duration": 373,
    "start_time": "2021-12-24T14:21:00.208Z"
   },
   {
    "duration": 12,
    "start_time": "2021-12-24T14:21:00.584Z"
   },
   {
    "duration": 382,
    "start_time": "2021-12-24T14:21:00.598Z"
   },
   {
    "duration": 384,
    "start_time": "2021-12-24T14:21:00.982Z"
   },
   {
    "duration": 384,
    "start_time": "2021-12-24T14:21:01.368Z"
   },
   {
    "duration": 1020,
    "start_time": "2021-12-24T14:21:01.755Z"
   },
   {
    "duration": 20,
    "start_time": "2021-12-24T14:21:02.778Z"
   },
   {
    "duration": 24,
    "start_time": "2021-12-24T14:21:02.817Z"
   },
   {
    "duration": 458,
    "start_time": "2021-12-24T14:21:02.843Z"
   },
   {
    "duration": 267,
    "start_time": "2021-12-24T14:21:03.304Z"
   },
   {
    "duration": 580,
    "start_time": "2021-12-24T14:21:03.573Z"
   },
   {
    "duration": 364,
    "start_time": "2021-12-24T14:21:04.157Z"
   },
   {
    "duration": 493,
    "start_time": "2021-12-24T14:21:04.525Z"
   },
   {
    "duration": 336,
    "start_time": "2021-12-24T14:21:05.021Z"
   },
   {
    "duration": 35,
    "start_time": "2021-12-24T14:21:05.360Z"
   },
   {
    "duration": 367,
    "start_time": "2021-12-24T14:21:05.418Z"
   },
   {
    "duration": 48,
    "start_time": "2021-12-24T14:21:05.787Z"
   },
   {
    "duration": 11,
    "start_time": "2021-12-24T14:21:05.838Z"
   },
   {
    "duration": 10,
    "start_time": "2021-12-24T14:21:05.852Z"
   },
   {
    "duration": 7,
    "start_time": "2021-12-24T14:21:49.585Z"
   },
   {
    "duration": 8,
    "start_time": "2021-12-24T14:22:01.578Z"
   },
   {
    "duration": 14,
    "start_time": "2021-12-24T14:22:07.922Z"
   },
   {
    "duration": 11,
    "start_time": "2021-12-24T14:22:29.360Z"
   },
   {
    "duration": 8,
    "start_time": "2021-12-24T14:25:12.188Z"
   },
   {
    "duration": 112,
    "start_time": "2021-12-24T14:29:39.216Z"
   },
   {
    "duration": 11,
    "start_time": "2021-12-24T14:29:43.256Z"
   },
   {
    "duration": 15,
    "start_time": "2021-12-24T14:30:15.632Z"
   },
   {
    "duration": 16,
    "start_time": "2021-12-24T14:30:26.992Z"
   },
   {
    "duration": 14,
    "start_time": "2021-12-24T14:31:16.265Z"
   },
   {
    "duration": 28,
    "start_time": "2021-12-24T14:31:27.945Z"
   },
   {
    "duration": 10,
    "start_time": "2021-12-24T14:31:31.304Z"
   },
   {
    "duration": 15,
    "start_time": "2021-12-24T14:31:33.753Z"
   },
   {
    "duration": 16,
    "start_time": "2021-12-24T14:31:42.650Z"
   },
   {
    "duration": 24,
    "start_time": "2021-12-24T14:33:18.743Z"
   },
   {
    "duration": 10,
    "start_time": "2021-12-24T14:33:18.770Z"
   },
   {
    "duration": 16,
    "start_time": "2021-12-24T14:33:18.783Z"
   },
   {
    "duration": 27,
    "start_time": "2021-12-24T14:33:18.802Z"
   },
   {
    "duration": 18,
    "start_time": "2021-12-24T14:33:54.084Z"
   },
   {
    "duration": 11,
    "start_time": "2021-12-24T14:34:20.606Z"
   },
   {
    "duration": 16,
    "start_time": "2021-12-24T14:34:37.756Z"
   },
   {
    "duration": 309,
    "start_time": "2021-12-24T14:35:28.197Z"
   },
   {
    "duration": 378,
    "start_time": "2021-12-24T14:35:57.949Z"
   },
   {
    "duration": 295,
    "start_time": "2021-12-24T14:38:37.631Z"
   },
   {
    "duration": 437,
    "start_time": "2021-12-24T14:41:15.033Z"
   },
   {
    "duration": 414,
    "start_time": "2021-12-24T14:43:43.492Z"
   },
   {
    "duration": 308,
    "start_time": "2021-12-24T14:46:32.238Z"
   },
   {
    "duration": 293,
    "start_time": "2021-12-24T14:50:40.730Z"
   },
   {
    "duration": 12,
    "start_time": "2021-12-24T14:51:01.195Z"
   },
   {
    "duration": 15,
    "start_time": "2021-12-24T14:51:42.682Z"
   },
   {
    "duration": 318,
    "start_time": "2021-12-24T14:52:19.612Z"
   },
   {
    "duration": 12,
    "start_time": "2021-12-24T14:52:42.107Z"
   },
   {
    "duration": 27,
    "start_time": "2021-12-24T14:52:50.808Z"
   },
   {
    "duration": 9,
    "start_time": "2021-12-24T14:52:50.838Z"
   },
   {
    "duration": 16,
    "start_time": "2021-12-24T14:52:50.851Z"
   },
   {
    "duration": 341,
    "start_time": "2021-12-24T14:52:50.870Z"
   },
   {
    "duration": 513,
    "start_time": "2021-12-24T14:52:51.216Z"
   },
   {
    "duration": 14,
    "start_time": "2021-12-24T14:52:51.732Z"
   },
   {
    "duration": 336,
    "start_time": "2021-12-24T14:53:43.246Z"
   },
   {
    "duration": 27,
    "start_time": "2021-12-24T14:54:12.175Z"
   },
   {
    "duration": 28,
    "start_time": "2021-12-24T14:54:19.909Z"
   },
   {
    "duration": 64,
    "start_time": "2021-12-24T14:54:32.693Z"
   },
   {
    "duration": 94,
    "start_time": "2021-12-24T14:54:45.453Z"
   },
   {
    "duration": 1129,
    "start_time": "2021-12-25T14:13:06.878Z"
   },
   {
    "duration": 34,
    "start_time": "2021-12-25T14:13:08.009Z"
   },
   {
    "duration": 23,
    "start_time": "2021-12-25T14:13:08.046Z"
   },
   {
    "duration": 35,
    "start_time": "2021-12-25T14:13:08.072Z"
   },
   {
    "duration": 68,
    "start_time": "2021-12-25T14:13:08.110Z"
   },
   {
    "duration": 10,
    "start_time": "2021-12-25T14:13:08.181Z"
   },
   {
    "duration": 22,
    "start_time": "2021-12-25T14:13:08.193Z"
   },
   {
    "duration": 71,
    "start_time": "2021-12-25T14:13:08.219Z"
   },
   {
    "duration": 37,
    "start_time": "2021-12-25T14:13:08.295Z"
   },
   {
    "duration": 77,
    "start_time": "2021-12-25T14:13:08.334Z"
   },
   {
    "duration": 975,
    "start_time": "2021-12-25T14:13:08.413Z"
   },
   {
    "duration": 40,
    "start_time": "2021-12-25T14:13:09.391Z"
   },
   {
    "duration": 40,
    "start_time": "2021-12-25T14:13:09.434Z"
   },
   {
    "duration": 39,
    "start_time": "2021-12-25T14:13:09.477Z"
   },
   {
    "duration": 61,
    "start_time": "2021-12-25T14:13:09.519Z"
   },
   {
    "duration": 14,
    "start_time": "2021-12-25T14:13:09.582Z"
   },
   {
    "duration": 466,
    "start_time": "2021-12-25T14:13:09.598Z"
   },
   {
    "duration": 332,
    "start_time": "2021-12-25T14:13:10.067Z"
   },
   {
    "duration": 59,
    "start_time": "2021-12-25T14:13:10.403Z"
   },
   {
    "duration": 11,
    "start_time": "2021-12-25T14:13:10.465Z"
   },
   {
    "duration": 21,
    "start_time": "2021-12-25T14:13:10.479Z"
   },
   {
    "duration": 9,
    "start_time": "2021-12-25T14:13:10.503Z"
   },
   {
    "duration": 350,
    "start_time": "2021-12-25T14:13:10.517Z"
   },
   {
    "duration": 12,
    "start_time": "2021-12-25T14:13:10.871Z"
   },
   {
    "duration": 8,
    "start_time": "2021-12-25T14:13:10.886Z"
   },
   {
    "duration": 342,
    "start_time": "2021-12-25T14:13:10.896Z"
   },
   {
    "duration": 24,
    "start_time": "2021-12-25T14:13:11.240Z"
   },
   {
    "duration": 542,
    "start_time": "2021-12-25T14:13:11.267Z"
   },
   {
    "duration": 554,
    "start_time": "2021-12-25T14:13:11.812Z"
   },
   {
    "duration": 16,
    "start_time": "2021-12-25T14:13:12.369Z"
   },
   {
    "duration": 548,
    "start_time": "2021-12-25T14:13:12.388Z"
   },
   {
    "duration": 572,
    "start_time": "2021-12-25T14:13:12.939Z"
   },
   {
    "duration": 559,
    "start_time": "2021-12-25T14:13:13.514Z"
   },
   {
    "duration": 1116,
    "start_time": "2021-12-25T14:13:14.076Z"
   },
   {
    "duration": 21,
    "start_time": "2021-12-25T14:13:15.195Z"
   },
   {
    "duration": 44,
    "start_time": "2021-12-25T14:13:15.220Z"
   },
   {
    "duration": 517,
    "start_time": "2021-12-25T14:13:15.268Z"
   },
   {
    "duration": 314,
    "start_time": "2021-12-25T14:13:15.788Z"
   },
   {
    "duration": 572,
    "start_time": "2021-12-25T14:13:16.104Z"
   },
   {
    "duration": 361,
    "start_time": "2021-12-25T14:13:16.679Z"
   },
   {
    "duration": 358,
    "start_time": "2021-12-25T14:13:17.042Z"
   },
   {
    "duration": 306,
    "start_time": "2021-12-25T14:13:17.402Z"
   },
   {
    "duration": 53,
    "start_time": "2021-12-25T14:13:17.711Z"
   },
   {
    "duration": 326,
    "start_time": "2021-12-25T14:13:17.767Z"
   },
   {
    "duration": 32,
    "start_time": "2021-12-25T14:13:18.096Z"
   },
   {
    "duration": 37,
    "start_time": "2021-12-25T14:13:18.130Z"
   },
   {
    "duration": 493,
    "start_time": "2021-12-25T14:13:18.169Z"
   },
   {
    "duration": -60,
    "start_time": "2021-12-25T14:13:18.725Z"
   },
   {
    "duration": -64,
    "start_time": "2021-12-25T14:13:18.731Z"
   },
   {
    "duration": 11,
    "start_time": "2021-12-25T14:14:41.045Z"
   },
   {
    "duration": 366,
    "start_time": "2021-12-25T14:14:43.107Z"
   },
   {
    "duration": 12,
    "start_time": "2021-12-25T14:14:55.616Z"
   },
   {
    "duration": 15,
    "start_time": "2021-12-25T14:15:17.120Z"
   },
   {
    "duration": 12,
    "start_time": "2021-12-25T14:15:37.339Z"
   },
   {
    "duration": 15,
    "start_time": "2021-12-25T14:15:39.633Z"
   },
   {
    "duration": 305,
    "start_time": "2021-12-25T14:15:43.766Z"
   },
   {
    "duration": 28,
    "start_time": "2021-12-25T14:15:49.105Z"
   },
   {
    "duration": 56,
    "start_time": "2021-12-25T14:16:25.375Z"
   },
   {
    "duration": 25,
    "start_time": "2021-12-25T14:16:40.836Z"
   },
   {
    "duration": 177,
    "start_time": "2021-12-25T14:18:43.517Z"
   },
   {
    "duration": 66,
    "start_time": "2021-12-25T14:18:43.697Z"
   },
   {
    "duration": 21,
    "start_time": "2021-12-25T14:18:43.766Z"
   },
   {
    "duration": 42,
    "start_time": "2021-12-25T14:18:43.790Z"
   },
   {
    "duration": 44,
    "start_time": "2021-12-25T14:18:43.862Z"
   },
   {
    "duration": 9,
    "start_time": "2021-12-25T14:18:43.909Z"
   },
   {
    "duration": 53,
    "start_time": "2021-12-25T14:18:43.921Z"
   },
   {
    "duration": 41,
    "start_time": "2021-12-25T14:18:43.978Z"
   },
   {
    "duration": 57,
    "start_time": "2021-12-25T14:18:44.022Z"
   },
   {
    "duration": 52,
    "start_time": "2021-12-25T14:18:44.081Z"
   },
   {
    "duration": 998,
    "start_time": "2021-12-25T14:18:44.135Z"
   },
   {
    "duration": 47,
    "start_time": "2021-12-25T14:18:45.136Z"
   },
   {
    "duration": 19,
    "start_time": "2021-12-25T14:18:45.186Z"
   },
   {
    "duration": 62,
    "start_time": "2021-12-25T14:18:45.207Z"
   },
   {
    "duration": 35,
    "start_time": "2021-12-25T14:18:45.271Z"
   },
   {
    "duration": 12,
    "start_time": "2021-12-25T14:18:45.308Z"
   },
   {
    "duration": 362,
    "start_time": "2021-12-25T14:18:45.323Z"
   },
   {
    "duration": 447,
    "start_time": "2021-12-25T14:18:45.688Z"
   },
   {
    "duration": 51,
    "start_time": "2021-12-25T14:18:46.138Z"
   },
   {
    "duration": 10,
    "start_time": "2021-12-25T14:18:46.191Z"
   },
   {
    "duration": 22,
    "start_time": "2021-12-25T14:18:46.203Z"
   },
   {
    "duration": 36,
    "start_time": "2021-12-25T14:18:46.227Z"
   },
   {
    "duration": 345,
    "start_time": "2021-12-25T14:18:46.269Z"
   },
   {
    "duration": 13,
    "start_time": "2021-12-25T14:18:46.616Z"
   },
   {
    "duration": 8,
    "start_time": "2021-12-25T14:18:46.631Z"
   },
   {
    "duration": 378,
    "start_time": "2021-12-25T14:18:46.642Z"
   },
   {
    "duration": 12,
    "start_time": "2021-12-25T14:18:47.023Z"
   },
   {
    "duration": 361,
    "start_time": "2021-12-25T14:18:47.037Z"
   },
   {
    "duration": 349,
    "start_time": "2021-12-25T14:18:47.401Z"
   },
   {
    "duration": 19,
    "start_time": "2021-12-25T14:18:47.752Z"
   },
   {
    "duration": 344,
    "start_time": "2021-12-25T14:18:47.773Z"
   },
   {
    "duration": 359,
    "start_time": "2021-12-25T14:18:48.120Z"
   },
   {
    "duration": 358,
    "start_time": "2021-12-25T14:18:48.482Z"
   },
   {
    "duration": 730,
    "start_time": "2021-12-25T14:18:48.843Z"
   },
   {
    "duration": 15,
    "start_time": "2021-12-25T14:18:49.576Z"
   },
   {
    "duration": 22,
    "start_time": "2021-12-25T14:18:49.593Z"
   },
   {
    "duration": 467,
    "start_time": "2021-12-25T14:18:49.617Z"
   },
   {
    "duration": 246,
    "start_time": "2021-12-25T14:18:50.087Z"
   },
   {
    "duration": 542,
    "start_time": "2021-12-25T14:18:50.336Z"
   },
   {
    "duration": 428,
    "start_time": "2021-12-25T14:18:50.880Z"
   },
   {
    "duration": 400,
    "start_time": "2021-12-25T14:18:51.311Z"
   },
   {
    "duration": 348,
    "start_time": "2021-12-25T14:18:51.714Z"
   },
   {
    "duration": 42,
    "start_time": "2021-12-25T14:18:52.065Z"
   },
   {
    "duration": 385,
    "start_time": "2021-12-25T14:18:52.110Z"
   },
   {
    "duration": 80,
    "start_time": "2021-12-25T14:18:52.497Z"
   },
   {
    "duration": 582,
    "start_time": "2021-12-25T14:18:52.579Z"
   },
   {
    "duration": -99,
    "start_time": "2021-12-25T14:18:53.263Z"
   },
   {
    "duration": -100,
    "start_time": "2021-12-25T14:18:53.266Z"
   },
   {
    "duration": -103,
    "start_time": "2021-12-25T14:18:53.270Z"
   },
   {
    "duration": 299,
    "start_time": "2021-12-25T14:20:23.186Z"
   },
   {
    "duration": 10,
    "start_time": "2021-12-25T14:20:50.438Z"
   },
   {
    "duration": 13,
    "start_time": "2021-12-25T14:21:07.122Z"
   },
   {
    "duration": 63,
    "start_time": "2021-12-25T14:21:35.891Z"
   },
   {
    "duration": 100,
    "start_time": "2021-12-25T14:21:46.235Z"
   },
   {
    "duration": 14,
    "start_time": "2021-12-25T14:21:54.153Z"
   },
   {
    "duration": 21,
    "start_time": "2021-12-25T14:22:04.679Z"
   },
   {
    "duration": 39,
    "start_time": "2021-12-25T14:22:04.702Z"
   },
   {
    "duration": 438,
    "start_time": "2021-12-25T14:22:04.744Z"
   },
   {
    "duration": 451,
    "start_time": "2021-12-25T14:22:05.185Z"
   },
   {
    "duration": 377,
    "start_time": "2021-12-25T14:25:26.373Z"
   },
   {
    "duration": 311,
    "start_time": "2021-12-25T14:26:06.401Z"
   },
   {
    "duration": 61,
    "start_time": "2021-12-25T14:26:42.891Z"
   },
   {
    "duration": 6,
    "start_time": "2021-12-25T14:32:34.630Z"
   },
   {
    "duration": 95,
    "start_time": "2021-12-25T14:33:52.871Z"
   },
   {
    "duration": 3468,
    "start_time": "2021-12-25T14:33:57.873Z"
   },
   {
    "duration": 3774,
    "start_time": "2021-12-25T14:34:18.254Z"
   },
   {
    "duration": 3552,
    "start_time": "2021-12-25T14:34:34.233Z"
   },
   {
    "duration": 3740,
    "start_time": "2021-12-25T14:34:58.807Z"
   },
   {
    "duration": 764,
    "start_time": "2021-12-25T14:38:40.328Z"
   },
   {
    "duration": 386,
    "start_time": "2021-12-25T14:38:56.445Z"
   },
   {
    "duration": 320,
    "start_time": "2021-12-25T14:39:03.549Z"
   },
   {
    "duration": 101,
    "start_time": "2021-12-25T14:47:05.667Z"
   },
   {
    "duration": 32,
    "start_time": "2021-12-25T14:48:41.427Z"
   },
   {
    "duration": 308,
    "start_time": "2021-12-25T14:49:03.869Z"
   },
   {
    "duration": 329,
    "start_time": "2021-12-25T14:49:22.589Z"
   },
   {
    "duration": 32,
    "start_time": "2021-12-25T14:49:28.948Z"
   },
   {
    "duration": 21,
    "start_time": "2021-12-25T14:50:22.278Z"
   },
   {
    "duration": 662,
    "start_time": "2021-12-25T14:50:54.362Z"
   },
   {
    "duration": 1567,
    "start_time": "2021-12-25T14:51:45.726Z"
   },
   {
    "duration": 458,
    "start_time": "2021-12-25T15:28:26.066Z"
   },
   {
    "duration": 467,
    "start_time": "2021-12-25T15:29:13.721Z"
   },
   {
    "duration": 464,
    "start_time": "2021-12-25T15:29:31.744Z"
   },
   {
    "duration": 6,
    "start_time": "2021-12-25T15:33:47.826Z"
   },
   {
    "duration": 1032,
    "start_time": "2021-12-25T15:36:21.287Z"
   },
   {
    "duration": 6,
    "start_time": "2021-12-25T15:36:38.045Z"
   },
   {
    "duration": 6,
    "start_time": "2021-12-25T15:37:39.348Z"
   },
   {
    "duration": 6,
    "start_time": "2021-12-25T15:38:06.118Z"
   },
   {
    "duration": 1103,
    "start_time": "2021-12-25T15:38:39.289Z"
   },
   {
    "duration": 6,
    "start_time": "2021-12-25T15:39:12.946Z"
   },
   {
    "duration": 6,
    "start_time": "2021-12-25T15:39:40.054Z"
   },
   {
    "duration": 14479,
    "start_time": "2021-12-25T15:40:34.572Z"
   },
   {
    "duration": 287,
    "start_time": "2021-12-25T15:40:51.945Z"
   },
   {
    "duration": 424,
    "start_time": "2021-12-25T15:41:51.729Z"
   },
   {
    "duration": 592,
    "start_time": "2021-12-25T15:42:06.656Z"
   },
   {
    "duration": 6,
    "start_time": "2021-12-25T15:42:31.534Z"
   },
   {
    "duration": 308,
    "start_time": "2021-12-25T15:42:44.711Z"
   },
   {
    "duration": 456,
    "start_time": "2021-12-25T15:42:55.819Z"
   },
   {
    "duration": 312,
    "start_time": "2021-12-25T15:43:15.492Z"
   },
   {
    "duration": 307,
    "start_time": "2021-12-25T15:49:54.929Z"
   },
   {
    "duration": 316,
    "start_time": "2021-12-25T15:50:02.555Z"
   },
   {
    "duration": 6,
    "start_time": "2021-12-25T15:50:42.691Z"
   },
   {
    "duration": 479,
    "start_time": "2021-12-25T16:14:35.880Z"
   },
   {
    "duration": 306,
    "start_time": "2021-12-25T16:14:53.727Z"
   },
   {
    "duration": 518,
    "start_time": "2021-12-25T16:15:53.478Z"
   },
   {
    "duration": 314,
    "start_time": "2021-12-25T16:16:15.826Z"
   },
   {
    "duration": 316,
    "start_time": "2021-12-25T16:16:45.211Z"
   },
   {
    "duration": 336,
    "start_time": "2021-12-25T16:16:53.939Z"
   },
   {
    "duration": 8538,
    "start_time": "2021-12-25T16:18:11.742Z"
   },
   {
    "duration": 306,
    "start_time": "2021-12-25T16:18:42.350Z"
   },
   {
    "duration": 308,
    "start_time": "2021-12-25T16:19:08.043Z"
   },
   {
    "duration": 120,
    "start_time": "2021-12-25T16:19:42.915Z"
   },
   {
    "duration": 38,
    "start_time": "2021-12-25T16:19:43.038Z"
   },
   {
    "duration": 18,
    "start_time": "2021-12-25T16:19:43.079Z"
   },
   {
    "duration": 69,
    "start_time": "2021-12-25T16:19:43.102Z"
   },
   {
    "duration": 39,
    "start_time": "2021-12-25T16:19:43.173Z"
   },
   {
    "duration": 10,
    "start_time": "2021-12-25T16:19:43.215Z"
   },
   {
    "duration": 21,
    "start_time": "2021-12-25T16:19:43.262Z"
   },
   {
    "duration": 41,
    "start_time": "2021-12-25T16:19:43.285Z"
   },
   {
    "duration": 59,
    "start_time": "2021-12-25T16:19:43.329Z"
   },
   {
    "duration": 86,
    "start_time": "2021-12-25T16:19:43.391Z"
   },
   {
    "duration": 993,
    "start_time": "2021-12-25T16:19:43.479Z"
   },
   {
    "duration": 39,
    "start_time": "2021-12-25T16:19:44.476Z"
   },
   {
    "duration": 66,
    "start_time": "2021-12-25T16:19:44.517Z"
   },
   {
    "duration": 36,
    "start_time": "2021-12-25T16:19:44.586Z"
   },
   {
    "duration": 11,
    "start_time": "2021-12-25T16:19:44.625Z"
   },
   {
    "duration": 321,
    "start_time": "2021-12-25T16:19:44.663Z"
   },
   {
    "duration": 343,
    "start_time": "2021-12-25T16:19:44.986Z"
   },
   {
    "duration": 10,
    "start_time": "2021-12-25T16:19:45.332Z"
   },
   {
    "duration": 43,
    "start_time": "2021-12-25T16:19:45.345Z"
   },
   {
    "duration": 8,
    "start_time": "2021-12-25T16:19:45.390Z"
   },
   {
    "duration": 322,
    "start_time": "2021-12-25T16:19:45.400Z"
   },
   {
    "duration": 12,
    "start_time": "2021-12-25T16:19:45.724Z"
   },
   {
    "duration": 28,
    "start_time": "2021-12-25T16:19:45.738Z"
   },
   {
    "duration": 335,
    "start_time": "2021-12-25T16:19:45.768Z"
   },
   {
    "duration": 13,
    "start_time": "2021-12-25T16:19:46.106Z"
   },
   {
    "duration": 360,
    "start_time": "2021-12-25T16:19:46.122Z"
   },
   {
    "duration": 341,
    "start_time": "2021-12-25T16:19:46.485Z"
   },
   {
    "duration": 11,
    "start_time": "2021-12-25T16:19:46.829Z"
   },
   {
    "duration": 456,
    "start_time": "2021-12-25T16:19:46.842Z"
   },
   {
    "duration": 367,
    "start_time": "2021-12-25T16:19:47.305Z"
   },
   {
    "duration": 358,
    "start_time": "2021-12-25T16:19:47.675Z"
   },
   {
    "duration": 738,
    "start_time": "2021-12-25T16:19:48.035Z"
   },
   {
    "duration": 15,
    "start_time": "2021-12-25T16:19:48.776Z"
   },
   {
    "duration": 14,
    "start_time": "2021-12-25T16:19:48.794Z"
   },
   {
    "duration": 479,
    "start_time": "2021-12-25T16:19:48.810Z"
   },
   {
    "duration": 6,
    "start_time": "2021-12-25T16:19:49.291Z"
   },
   {
    "duration": 271,
    "start_time": "2021-12-25T16:19:49.300Z"
   },
   {
    "duration": 6,
    "start_time": "2021-12-25T16:19:49.573Z"
   },
   {
    "duration": 525,
    "start_time": "2021-12-25T16:19:49.581Z"
   },
   {
    "duration": 6,
    "start_time": "2021-12-25T16:19:50.109Z"
   },
   {
    "duration": 339,
    "start_time": "2021-12-25T16:19:50.117Z"
   },
   {
    "duration": 358,
    "start_time": "2021-12-25T16:19:50.458Z"
   },
   {
    "duration": 5,
    "start_time": "2021-12-25T16:19:50.819Z"
   },
   {
    "duration": 348,
    "start_time": "2021-12-25T16:19:50.827Z"
   },
   {
    "duration": 7,
    "start_time": "2021-12-25T16:19:51.178Z"
   },
   {
    "duration": 336,
    "start_time": "2021-12-25T16:19:51.187Z"
   },
   {
    "duration": 7,
    "start_time": "2021-12-25T16:19:51.526Z"
   },
   {
    "duration": 60,
    "start_time": "2021-12-25T16:19:51.536Z"
   },
   {
    "duration": 347,
    "start_time": "2021-12-25T16:19:51.599Z"
   },
   {
    "duration": 50,
    "start_time": "2021-12-25T16:19:51.948Z"
   },
   {
    "duration": 306,
    "start_time": "2021-12-25T16:19:52.000Z"
   },
   {
    "duration": -62,
    "start_time": "2021-12-25T16:19:52.371Z"
   },
   {
    "duration": -67,
    "start_time": "2021-12-25T16:19:52.378Z"
   },
   {
    "duration": -71,
    "start_time": "2021-12-25T16:19:52.384Z"
   },
   {
    "duration": 321,
    "start_time": "2021-12-25T16:20:02.052Z"
   },
   {
    "duration": 298,
    "start_time": "2021-12-25T16:20:22.635Z"
   },
   {
    "duration": 318,
    "start_time": "2021-12-25T16:21:11.233Z"
   },
   {
    "duration": 319,
    "start_time": "2021-12-25T16:23:12.301Z"
   },
   {
    "duration": 26,
    "start_time": "2021-12-25T16:23:53.315Z"
   },
   {
    "duration": 21,
    "start_time": "2021-12-25T16:24:06.275Z"
   },
   {
    "duration": 42,
    "start_time": "2021-12-25T16:25:10.538Z"
   },
   {
    "duration": 62,
    "start_time": "2021-12-25T16:25:24.790Z"
   },
   {
    "duration": 319,
    "start_time": "2021-12-25T16:25:35.488Z"
   },
   {
    "duration": 67,
    "start_time": "2021-12-25T16:25:45.855Z"
   },
   {
    "duration": 309,
    "start_time": "2021-12-25T16:25:51.220Z"
   },
   {
    "duration": 40,
    "start_time": "2021-12-25T16:25:59.228Z"
   },
   {
    "duration": 65,
    "start_time": "2021-12-25T16:25:59.271Z"
   },
   {
    "duration": 526,
    "start_time": "2021-12-25T16:25:59.340Z"
   },
   {
    "duration": -145,
    "start_time": "2021-12-25T16:26:00.013Z"
   },
   {
    "duration": -149,
    "start_time": "2021-12-25T16:26:00.019Z"
   },
   {
    "duration": 38,
    "start_time": "2021-12-25T16:26:26.103Z"
   },
   {
    "duration": 405,
    "start_time": "2021-12-25T16:26:39.320Z"
   },
   {
    "duration": 42,
    "start_time": "2021-12-25T16:27:17.347Z"
   },
   {
    "duration": 72,
    "start_time": "2021-12-25T16:27:17.392Z"
   },
   {
    "duration": 36,
    "start_time": "2021-12-25T16:27:17.467Z"
   },
   {
    "duration": 339,
    "start_time": "2021-12-25T16:27:17.506Z"
   },
   {
    "duration": 17,
    "start_time": "2021-12-25T16:27:17.847Z"
   },
   {
    "duration": 8,
    "start_time": "2021-12-25T16:28:36.074Z"
   },
   {
    "duration": 319,
    "start_time": "2021-12-25T16:29:41.583Z"
   },
   {
    "duration": 311,
    "start_time": "2021-12-25T16:30:09.517Z"
   },
   {
    "duration": 299,
    "start_time": "2021-12-25T16:30:38.556Z"
   },
   {
    "duration": 304,
    "start_time": "2021-12-25T16:31:30.243Z"
   },
   {
    "duration": 389,
    "start_time": "2021-12-25T16:31:38.246Z"
   },
   {
    "duration": 310,
    "start_time": "2021-12-25T16:31:45.801Z"
   },
   {
    "duration": 305,
    "start_time": "2021-12-25T16:32:03.426Z"
   },
   {
    "duration": 300,
    "start_time": "2021-12-25T16:32:24.240Z"
   },
   {
    "duration": 565,
    "start_time": "2021-12-25T16:35:29.458Z"
   },
   {
    "duration": 102,
    "start_time": "2021-12-25T16:35:54.824Z"
   },
   {
    "duration": 277,
    "start_time": "2021-12-25T16:35:58.713Z"
   },
   {
    "duration": 287,
    "start_time": "2021-12-25T16:36:03.508Z"
   },
   {
    "duration": 6,
    "start_time": "2021-12-25T16:37:10.076Z"
   },
   {
    "duration": 472,
    "start_time": "2021-12-25T16:39:18.597Z"
   },
   {
    "duration": 307,
    "start_time": "2021-12-25T16:39:31.045Z"
   },
   {
    "duration": 241,
    "start_time": "2021-12-25T16:40:06.876Z"
   },
   {
    "duration": 244,
    "start_time": "2021-12-25T16:40:19.642Z"
   },
   {
    "duration": 245,
    "start_time": "2021-12-25T16:40:29.968Z"
   },
   {
    "duration": 452,
    "start_time": "2021-12-25T16:42:14.638Z"
   },
   {
    "duration": 480,
    "start_time": "2021-12-25T16:42:29.237Z"
   },
   {
    "duration": 342,
    "start_time": "2021-12-25T16:42:37.876Z"
   },
   {
    "duration": 334,
    "start_time": "2021-12-25T16:42:48.308Z"
   },
   {
    "duration": 339,
    "start_time": "2021-12-25T16:42:56.539Z"
   },
   {
    "duration": 6,
    "start_time": "2021-12-25T16:43:53.634Z"
   },
   {
    "duration": 363,
    "start_time": "2021-12-25T16:45:42.697Z"
   },
   {
    "duration": 354,
    "start_time": "2021-12-25T16:45:48.226Z"
   },
   {
    "duration": 344,
    "start_time": "2021-12-25T16:45:53.496Z"
   },
   {
    "duration": 309,
    "start_time": "2021-12-25T16:46:52.391Z"
   },
   {
    "duration": 104,
    "start_time": "2021-12-25T16:47:31.326Z"
   },
   {
    "duration": 98,
    "start_time": "2021-12-25T16:47:50.615Z"
   },
   {
    "duration": 5,
    "start_time": "2021-12-25T16:48:10.858Z"
   },
   {
    "duration": 610,
    "start_time": "2021-12-25T16:49:27.841Z"
   },
   {
    "duration": 362,
    "start_time": "2021-12-25T16:49:56.918Z"
   },
   {
    "duration": 320,
    "start_time": "2021-12-25T16:50:06.816Z"
   },
   {
    "duration": 359,
    "start_time": "2021-12-25T16:50:16.310Z"
   },
   {
    "duration": 7,
    "start_time": "2021-12-25T16:51:02.882Z"
   },
   {
    "duration": 330,
    "start_time": "2021-12-25T16:54:01.702Z"
   },
   {
    "duration": 345,
    "start_time": "2021-12-25T16:54:11.859Z"
   },
   {
    "duration": 344,
    "start_time": "2021-12-25T16:54:19.687Z"
   },
   {
    "duration": 6,
    "start_time": "2021-12-25T16:55:23.435Z"
   },
   {
    "duration": 406,
    "start_time": "2021-12-25T16:56:39.766Z"
   },
   {
    "duration": 8105,
    "start_time": "2021-12-25T16:57:55.105Z"
   },
   {
    "duration": 440,
    "start_time": "2021-12-25T16:58:07.845Z"
   },
   {
    "duration": 479,
    "start_time": "2021-12-25T16:58:35.241Z"
   },
   {
    "duration": 486,
    "start_time": "2021-12-25T16:58:40.420Z"
   },
   {
    "duration": 510,
    "start_time": "2021-12-25T16:58:47.746Z"
   },
   {
    "duration": 477,
    "start_time": "2021-12-25T16:58:55.642Z"
   },
   {
    "duration": 497,
    "start_time": "2021-12-25T16:59:06.028Z"
   },
   {
    "duration": 469,
    "start_time": "2021-12-25T16:59:40.284Z"
   },
   {
    "duration": 563,
    "start_time": "2021-12-25T17:00:18.990Z"
   },
   {
    "duration": 5,
    "start_time": "2021-12-25T17:02:01.764Z"
   },
   {
    "duration": 331,
    "start_time": "2021-12-25T17:21:54.225Z"
   },
   {
    "duration": 358,
    "start_time": "2021-12-25T17:22:08.887Z"
   },
   {
    "duration": 194,
    "start_time": "2021-12-25T17:26:40.723Z"
   },
   {
    "duration": 64,
    "start_time": "2021-12-25T17:26:40.921Z"
   },
   {
    "duration": 19,
    "start_time": "2021-12-25T17:26:40.990Z"
   },
   {
    "duration": 80,
    "start_time": "2021-12-25T17:26:41.012Z"
   },
   {
    "duration": 40,
    "start_time": "2021-12-25T17:26:41.095Z"
   },
   {
    "duration": 34,
    "start_time": "2021-12-25T17:26:41.137Z"
   },
   {
    "duration": 25,
    "start_time": "2021-12-25T17:26:41.174Z"
   },
   {
    "duration": 92,
    "start_time": "2021-12-25T17:26:41.204Z"
   },
   {
    "duration": 38,
    "start_time": "2021-12-25T17:26:41.300Z"
   },
   {
    "duration": 51,
    "start_time": "2021-12-25T17:26:41.362Z"
   },
   {
    "duration": 965,
    "start_time": "2021-12-25T17:26:41.416Z"
   },
   {
    "duration": 36,
    "start_time": "2021-12-25T17:26:42.384Z"
   },
   {
    "duration": 61,
    "start_time": "2021-12-25T17:26:42.423Z"
   },
   {
    "duration": 37,
    "start_time": "2021-12-25T17:26:42.487Z"
   },
   {
    "duration": 11,
    "start_time": "2021-12-25T17:26:42.526Z"
   },
   {
    "duration": 315,
    "start_time": "2021-12-25T17:26:42.563Z"
   },
   {
    "duration": 335,
    "start_time": "2021-12-25T17:26:42.881Z"
   },
   {
    "duration": 12,
    "start_time": "2021-12-25T17:26:43.218Z"
   },
   {
    "duration": 54,
    "start_time": "2021-12-25T17:26:43.232Z"
   },
   {
    "duration": 8,
    "start_time": "2021-12-25T17:26:43.289Z"
   },
   {
    "duration": 358,
    "start_time": "2021-12-25T17:26:43.300Z"
   },
   {
    "duration": 14,
    "start_time": "2021-12-25T17:26:43.662Z"
   },
   {
    "duration": 10,
    "start_time": "2021-12-25T17:26:43.684Z"
   },
   {
    "duration": 404,
    "start_time": "2021-12-25T17:26:43.699Z"
   },
   {
    "duration": 11,
    "start_time": "2021-12-25T17:26:44.106Z"
   },
   {
    "duration": 366,
    "start_time": "2021-12-25T17:26:44.120Z"
   },
   {
    "duration": 358,
    "start_time": "2021-12-25T17:26:44.489Z"
   },
   {
    "duration": 22,
    "start_time": "2021-12-25T17:26:44.850Z"
   },
   {
    "duration": 358,
    "start_time": "2021-12-25T17:26:44.874Z"
   },
   {
    "duration": 457,
    "start_time": "2021-12-25T17:26:45.234Z"
   },
   {
    "duration": 510,
    "start_time": "2021-12-25T17:26:45.694Z"
   },
   {
    "duration": 734,
    "start_time": "2021-12-25T17:26:46.207Z"
   },
   {
    "duration": 30,
    "start_time": "2021-12-25T17:26:46.943Z"
   },
   {
    "duration": 15,
    "start_time": "2021-12-25T17:26:46.976Z"
   },
   {
    "duration": 516,
    "start_time": "2021-12-25T17:26:46.993Z"
   },
   {
    "duration": 5,
    "start_time": "2021-12-25T17:26:47.512Z"
   },
   {
    "duration": 264,
    "start_time": "2021-12-25T17:26:47.519Z"
   },
   {
    "duration": 6,
    "start_time": "2021-12-25T17:26:47.786Z"
   },
   {
    "duration": 584,
    "start_time": "2021-12-25T17:26:47.794Z"
   },
   {
    "duration": 7,
    "start_time": "2021-12-25T17:26:48.380Z"
   },
   {
    "duration": 352,
    "start_time": "2021-12-25T17:26:48.389Z"
   },
   {
    "duration": 401,
    "start_time": "2021-12-25T17:26:48.744Z"
   },
   {
    "duration": 6,
    "start_time": "2021-12-25T17:26:49.147Z"
   },
   {
    "duration": 359,
    "start_time": "2021-12-25T17:26:49.164Z"
   },
   {
    "duration": 6,
    "start_time": "2021-12-25T17:26:49.526Z"
   },
   {
    "duration": 331,
    "start_time": "2021-12-25T17:26:49.535Z"
   },
   {
    "duration": 6,
    "start_time": "2021-12-25T17:26:49.869Z"
   },
   {
    "duration": 86,
    "start_time": "2021-12-25T17:26:49.879Z"
   },
   {
    "duration": 538,
    "start_time": "2021-12-25T17:26:49.968Z"
   },
   {
    "duration": 129,
    "start_time": "2021-12-25T17:26:50.509Z"
   },
   {
    "duration": 127,
    "start_time": "2021-12-25T17:26:50.651Z"
   },
   {
    "duration": 78,
    "start_time": "2021-12-25T17:26:50.793Z"
   },
   {
    "duration": 410,
    "start_time": "2021-12-25T17:26:50.875Z"
   },
   {
    "duration": 13,
    "start_time": "2021-12-25T17:26:51.288Z"
   },
   {
    "duration": 323,
    "start_time": "2021-12-25T17:26:51.304Z"
   },
   {
    "duration": 7,
    "start_time": "2021-12-25T17:26:51.630Z"
   },
   {
    "duration": 274,
    "start_time": "2021-12-25T17:26:51.640Z"
   },
   {
    "duration": 6,
    "start_time": "2021-12-25T17:26:51.918Z"
   },
   {
    "duration": 357,
    "start_time": "2021-12-25T17:26:51.927Z"
   },
   {
    "duration": 7,
    "start_time": "2021-12-25T17:26:52.287Z"
   },
   {
    "duration": 551,
    "start_time": "2021-12-25T17:26:52.297Z"
   },
   {
    "duration": 6,
    "start_time": "2021-12-25T17:26:52.850Z"
   },
   {
    "duration": 342,
    "start_time": "2021-12-25T17:26:52.863Z"
   },
   {
    "duration": 5,
    "start_time": "2021-12-25T17:26:53.209Z"
   },
   {
    "duration": 489,
    "start_time": "2021-12-25T17:26:53.217Z"
   },
   {
    "duration": 6,
    "start_time": "2021-12-25T17:26:53.709Z"
   },
   {
    "duration": 698,
    "start_time": "2021-12-26T16:24:29.312Z"
   },
   {
    "duration": 25,
    "start_time": "2021-12-26T16:24:30.013Z"
   },
   {
    "duration": 21,
    "start_time": "2021-12-26T16:24:30.041Z"
   },
   {
    "duration": 47,
    "start_time": "2021-12-26T16:24:30.065Z"
   },
   {
    "duration": 26,
    "start_time": "2021-12-26T16:24:30.114Z"
   },
   {
    "duration": 7,
    "start_time": "2021-12-26T16:24:30.142Z"
   },
   {
    "duration": 25,
    "start_time": "2021-12-26T16:24:30.151Z"
   },
   {
    "duration": 51,
    "start_time": "2021-12-26T16:24:30.193Z"
   },
   {
    "duration": 24,
    "start_time": "2021-12-26T16:24:30.246Z"
   },
   {
    "duration": 53,
    "start_time": "2021-12-26T16:24:30.272Z"
   },
   {
    "duration": 651,
    "start_time": "2021-12-26T16:24:30.327Z"
   },
   {
    "duration": 34,
    "start_time": "2021-12-26T16:24:30.980Z"
   },
   {
    "duration": 26,
    "start_time": "2021-12-26T16:24:31.015Z"
   },
   {
    "duration": 23,
    "start_time": "2021-12-26T16:24:31.043Z"
   },
   {
    "duration": 33,
    "start_time": "2021-12-26T16:24:31.068Z"
   },
   {
    "duration": 365,
    "start_time": "2021-12-26T16:24:31.104Z"
   },
   {
    "duration": 247,
    "start_time": "2021-12-26T16:24:31.471Z"
   },
   {
    "duration": 9,
    "start_time": "2021-12-26T16:24:31.720Z"
   },
   {
    "duration": 21,
    "start_time": "2021-12-26T16:24:31.731Z"
   },
   {
    "duration": 5,
    "start_time": "2021-12-26T16:24:31.754Z"
   },
   {
    "duration": 261,
    "start_time": "2021-12-26T16:24:31.760Z"
   },
   {
    "duration": 8,
    "start_time": "2021-12-26T16:24:32.023Z"
   },
   {
    "duration": 5,
    "start_time": "2021-12-26T16:24:32.036Z"
   },
   {
    "duration": 244,
    "start_time": "2021-12-26T16:24:32.044Z"
   },
   {
    "duration": 14,
    "start_time": "2021-12-26T16:24:32.292Z"
   },
   {
    "duration": 255,
    "start_time": "2021-12-26T16:24:32.309Z"
   },
   {
    "duration": 260,
    "start_time": "2021-12-26T16:24:32.566Z"
   },
   {
    "duration": 10,
    "start_time": "2021-12-26T16:24:32.828Z"
   },
   {
    "duration": 244,
    "start_time": "2021-12-26T16:24:32.839Z"
   },
   {
    "duration": 250,
    "start_time": "2021-12-26T16:24:33.086Z"
   },
   {
    "duration": 253,
    "start_time": "2021-12-26T16:24:33.338Z"
   },
   {
    "duration": 510,
    "start_time": "2021-12-26T16:24:33.593Z"
   },
   {
    "duration": 12,
    "start_time": "2021-12-26T16:24:34.106Z"
   },
   {
    "duration": 11,
    "start_time": "2021-12-26T16:24:34.120Z"
   },
   {
    "duration": 390,
    "start_time": "2021-12-26T16:24:34.133Z"
   },
   {
    "duration": 4,
    "start_time": "2021-12-26T16:24:34.525Z"
   },
   {
    "duration": 234,
    "start_time": "2021-12-26T16:24:34.531Z"
   },
   {
    "duration": 5,
    "start_time": "2021-12-26T16:24:34.766Z"
   },
   {
    "duration": 421,
    "start_time": "2021-12-26T16:24:34.772Z"
   },
   {
    "duration": 9,
    "start_time": "2021-12-26T16:24:35.195Z"
   },
   {
    "duration": 248,
    "start_time": "2021-12-26T16:24:35.206Z"
   },
   {
    "duration": 256,
    "start_time": "2021-12-26T16:24:35.456Z"
   },
   {
    "duration": 4,
    "start_time": "2021-12-26T16:24:35.714Z"
   },
   {
    "duration": 244,
    "start_time": "2021-12-26T16:24:35.720Z"
   },
   {
    "duration": 4,
    "start_time": "2021-12-26T16:24:35.965Z"
   },
   {
    "duration": 228,
    "start_time": "2021-12-26T16:24:35.971Z"
   },
   {
    "duration": 6,
    "start_time": "2021-12-26T16:24:36.202Z"
   },
   {
    "duration": 24,
    "start_time": "2021-12-26T16:24:36.212Z"
   },
   {
    "duration": 251,
    "start_time": "2021-12-26T16:24:36.238Z"
   },
   {
    "duration": 35,
    "start_time": "2021-12-26T16:24:36.491Z"
   },
   {
    "duration": 259,
    "start_time": "2021-12-26T16:24:36.528Z"
   },
   {
    "duration": -129,
    "start_time": "2021-12-26T16:24:36.918Z"
   },
   {
    "duration": -130,
    "start_time": "2021-12-26T16:24:36.920Z"
   },
   {
    "duration": -130,
    "start_time": "2021-12-26T16:24:36.921Z"
   },
   {
    "duration": -131,
    "start_time": "2021-12-26T16:24:36.923Z"
   },
   {
    "duration": -132,
    "start_time": "2021-12-26T16:24:36.925Z"
   },
   {
    "duration": -133,
    "start_time": "2021-12-26T16:24:36.928Z"
   },
   {
    "duration": -133,
    "start_time": "2021-12-26T16:24:36.929Z"
   },
   {
    "duration": -133,
    "start_time": "2021-12-26T16:24:36.930Z"
   },
   {
    "duration": -135,
    "start_time": "2021-12-26T16:24:36.935Z"
   },
   {
    "duration": -137,
    "start_time": "2021-12-26T16:24:36.938Z"
   },
   {
    "duration": -139,
    "start_time": "2021-12-26T16:24:36.941Z"
   },
   {
    "duration": -140,
    "start_time": "2021-12-26T16:24:36.943Z"
   },
   {
    "duration": -139,
    "start_time": "2021-12-26T16:24:36.944Z"
   },
   {
    "duration": -140,
    "start_time": "2021-12-26T16:24:36.946Z"
   },
   {
    "duration": -139,
    "start_time": "2021-12-26T16:24:36.947Z"
   },
   {
    "duration": 40,
    "start_time": "2021-12-26T16:43:35.591Z"
   },
   {
    "duration": 5,
    "start_time": "2021-12-26T16:43:52.849Z"
   },
   {
    "duration": 24,
    "start_time": "2021-12-26T16:44:06.636Z"
   },
   {
    "duration": 8,
    "start_time": "2021-12-26T16:44:23.254Z"
   },
   {
    "duration": 8,
    "start_time": "2021-12-26T16:44:27.771Z"
   },
   {
    "duration": 9,
    "start_time": "2021-12-26T16:44:33.254Z"
   },
   {
    "duration": 9,
    "start_time": "2021-12-26T16:45:03.871Z"
   },
   {
    "duration": 8,
    "start_time": "2021-12-26T16:45:28.862Z"
   },
   {
    "duration": 8,
    "start_time": "2021-12-26T16:45:33.448Z"
   },
   {
    "duration": 26,
    "start_time": "2021-12-26T16:47:21.362Z"
   },
   {
    "duration": 184,
    "start_time": "2021-12-26T16:47:26.036Z"
   },
   {
    "duration": 194,
    "start_time": "2021-12-26T16:49:34.671Z"
   },
   {
    "duration": 190,
    "start_time": "2021-12-26T16:49:39.726Z"
   },
   {
    "duration": 180,
    "start_time": "2021-12-26T16:49:50.083Z"
   },
   {
    "duration": 172,
    "start_time": "2021-12-26T16:50:18.453Z"
   },
   {
    "duration": 6,
    "start_time": "2021-12-26T16:51:35.277Z"
   },
   {
    "duration": 243,
    "start_time": "2021-12-26T16:51:35.874Z"
   },
   {
    "duration": 4,
    "start_time": "2021-12-26T16:52:05.328Z"
   },
   {
    "duration": 149,
    "start_time": "2021-12-26T16:52:05.754Z"
   },
   {
    "duration": 5,
    "start_time": "2021-12-26T16:52:06.241Z"
   },
   {
    "duration": 211,
    "start_time": "2021-12-26T16:52:07.137Z"
   },
   {
    "duration": 4,
    "start_time": "2021-12-26T16:52:07.722Z"
   },
   {
    "duration": 223,
    "start_time": "2021-12-26T16:52:08.305Z"
   },
   {
    "duration": 4,
    "start_time": "2021-12-26T16:52:08.530Z"
   },
   {
    "duration": 199,
    "start_time": "2021-12-26T16:52:08.757Z"
   },
   {
    "duration": 4,
    "start_time": "2021-12-26T16:52:09.175Z"
   },
   {
    "duration": 288,
    "start_time": "2021-12-26T16:52:09.740Z"
   },
   {
    "duration": 4,
    "start_time": "2021-12-26T16:53:21.753Z"
   },
   {
    "duration": 387,
    "start_time": "2021-12-27T07:51:02.260Z"
   },
   {
    "duration": 833,
    "start_time": "2021-12-27T07:52:23.133Z"
   },
   {
    "duration": 32,
    "start_time": "2021-12-27T07:52:23.970Z"
   },
   {
    "duration": 32,
    "start_time": "2021-12-27T07:52:24.006Z"
   },
   {
    "duration": 119,
    "start_time": "2021-12-27T07:52:24.041Z"
   },
   {
    "duration": 15,
    "start_time": "2021-12-27T07:52:35.766Z"
   },
   {
    "duration": 8,
    "start_time": "2021-12-27T07:55:18.208Z"
   },
   {
    "duration": 38,
    "start_time": "2021-12-27T07:57:41.043Z"
   },
   {
    "duration": 59,
    "start_time": "2021-12-27T07:57:43.494Z"
   },
   {
    "duration": 9,
    "start_time": "2021-12-27T07:57:45.995Z"
   },
   {
    "duration": 26,
    "start_time": "2021-12-27T07:57:49.556Z"
   },
   {
    "duration": 40,
    "start_time": "2021-12-27T08:01:27.392Z"
   },
   {
    "duration": 35,
    "start_time": "2021-12-27T08:01:31.838Z"
   },
   {
    "duration": 6,
    "start_time": "2021-12-27T08:03:50.423Z"
   },
   {
    "duration": 8,
    "start_time": "2021-12-27T08:04:44.297Z"
   },
   {
    "duration": 9,
    "start_time": "2021-12-27T08:04:58.321Z"
   },
   {
    "duration": 34,
    "start_time": "2021-12-27T08:06:22.554Z"
   },
   {
    "duration": 14,
    "start_time": "2021-12-27T08:07:31.867Z"
   },
   {
    "duration": 8,
    "start_time": "2021-12-27T08:07:47.091Z"
   },
   {
    "duration": 14,
    "start_time": "2021-12-27T08:11:30.981Z"
   },
   {
    "duration": 15,
    "start_time": "2021-12-27T08:11:39.629Z"
   },
   {
    "duration": 16,
    "start_time": "2021-12-27T08:12:02.015Z"
   },
   {
    "duration": 11,
    "start_time": "2021-12-27T09:28:37.878Z"
   },
   {
    "duration": 12,
    "start_time": "2021-12-27T09:31:04.641Z"
   },
   {
    "duration": 13,
    "start_time": "2021-12-27T09:31:13.663Z"
   },
   {
    "duration": 118,
    "start_time": "2021-12-27T09:35:31.620Z"
   },
   {
    "duration": 35,
    "start_time": "2021-12-27T09:35:31.740Z"
   },
   {
    "duration": 22,
    "start_time": "2021-12-27T09:35:31.777Z"
   },
   {
    "duration": 144,
    "start_time": "2021-12-27T09:35:31.802Z"
   },
   {
    "duration": 12,
    "start_time": "2021-12-27T09:35:31.948Z"
   },
   {
    "duration": 69,
    "start_time": "2021-12-27T09:35:31.962Z"
   },
   {
    "duration": 38,
    "start_time": "2021-12-27T09:35:32.035Z"
   },
   {
    "duration": 10,
    "start_time": "2021-12-27T09:35:32.076Z"
   },
   {
    "duration": 48,
    "start_time": "2021-12-27T09:35:32.088Z"
   },
   {
    "duration": 64,
    "start_time": "2021-12-27T09:35:32.139Z"
   },
   {
    "duration": 51,
    "start_time": "2021-12-27T09:35:32.205Z"
   },
   {
    "duration": 9,
    "start_time": "2021-12-27T09:35:32.258Z"
   },
   {
    "duration": 27,
    "start_time": "2021-12-27T09:35:32.270Z"
   },
   {
    "duration": 36,
    "start_time": "2021-12-27T09:35:32.299Z"
   },
   {
    "duration": 62,
    "start_time": "2021-12-27T09:35:32.337Z"
   },
   {
    "duration": 1002,
    "start_time": "2021-12-27T09:35:32.402Z"
   },
   {
    "duration": 46,
    "start_time": "2021-12-27T09:35:33.407Z"
   },
   {
    "duration": 40,
    "start_time": "2021-12-27T09:35:33.457Z"
   },
   {
    "duration": 60,
    "start_time": "2021-12-27T09:35:33.500Z"
   },
   {
    "duration": 11,
    "start_time": "2021-12-27T09:35:33.562Z"
   },
   {
    "duration": 480,
    "start_time": "2021-12-27T09:35:33.576Z"
   },
   {
    "duration": 327,
    "start_time": "2021-12-27T09:35:34.059Z"
   },
   {
    "duration": 10,
    "start_time": "2021-12-27T09:35:34.389Z"
   },
   {
    "duration": 53,
    "start_time": "2021-12-27T09:35:34.401Z"
   },
   {
    "duration": 8,
    "start_time": "2021-12-27T09:35:34.457Z"
   },
   {
    "duration": 348,
    "start_time": "2021-12-27T09:35:34.468Z"
   },
   {
    "duration": 11,
    "start_time": "2021-12-27T09:35:34.823Z"
   },
   {
    "duration": 348,
    "start_time": "2021-12-27T09:35:34.837Z"
   },
   {
    "duration": 11,
    "start_time": "2021-12-27T09:35:35.188Z"
   },
   {
    "duration": 362,
    "start_time": "2021-12-27T09:35:35.202Z"
   },
   {
    "duration": 344,
    "start_time": "2021-12-27T09:35:35.566Z"
   },
   {
    "duration": -11,
    "start_time": "2021-12-27T09:37:45.359Z"
   },
   {
    "duration": 8468,
    "start_time": "2021-12-27T09:38:11.533Z"
   },
   {
    "duration": 5746,
    "start_time": "2021-12-27T09:38:45.382Z"
   },
   {
    "duration": 7252,
    "start_time": "2021-12-27T09:40:04.737Z"
   },
   {
    "duration": 285,
    "start_time": "2021-12-27T09:41:47.083Z"
   },
   {
    "duration": 3043,
    "start_time": "2021-12-27T09:44:26.443Z"
   },
   {
    "duration": 102,
    "start_time": "2021-12-27T09:45:24.179Z"
   },
   {
    "duration": 4050,
    "start_time": "2021-12-27T09:45:34.580Z"
   },
   {
    "duration": 417,
    "start_time": "2021-12-27T09:46:24.141Z"
   },
   {
    "duration": 12,
    "start_time": "2021-12-27T09:48:57.662Z"
   },
   {
    "duration": 319,
    "start_time": "2021-12-27T09:49:01.454Z"
   },
   {
    "duration": 479,
    "start_time": "2021-12-27T09:49:02.766Z"
   },
   {
    "duration": 333,
    "start_time": "2021-12-27T09:49:05.262Z"
   },
   {
    "duration": 673,
    "start_time": "2021-12-27T09:49:08.471Z"
   },
   {
    "duration": 19,
    "start_time": "2021-12-27T09:49:13.855Z"
   },
   {
    "duration": 106,
    "start_time": "2021-12-27T09:50:38.071Z"
   },
   {
    "duration": 118,
    "start_time": "2021-12-27T09:51:03.112Z"
   },
   {
    "duration": 123,
    "start_time": "2021-12-27T09:51:18.632Z"
   },
   {
    "duration": 19,
    "start_time": "2021-12-27T09:51:25.297Z"
   },
   {
    "duration": 14,
    "start_time": "2021-12-27T09:51:33.040Z"
   },
   {
    "duration": 429,
    "start_time": "2021-12-27T09:51:55.408Z"
   },
   {
    "duration": 6,
    "start_time": "2021-12-27T09:51:58.369Z"
   },
   {
    "duration": 223,
    "start_time": "2021-12-27T09:52:04.913Z"
   },
   {
    "duration": 6,
    "start_time": "2021-12-27T09:52:06.569Z"
   },
   {
    "duration": 548,
    "start_time": "2021-12-27T09:52:10.281Z"
   },
   {
    "duration": 6,
    "start_time": "2021-12-27T09:52:21.657Z"
   },
   {
    "duration": 297,
    "start_time": "2021-12-27T09:52:24.338Z"
   },
   {
    "duration": 351,
    "start_time": "2021-12-27T09:52:28.225Z"
   },
   {
    "duration": 6,
    "start_time": "2021-12-27T09:52:31.545Z"
   },
   {
    "duration": 310,
    "start_time": "2021-12-27T09:52:33.802Z"
   },
   {
    "duration": 6,
    "start_time": "2021-12-27T09:52:36.442Z"
   },
   {
    "duration": 294,
    "start_time": "2021-12-27T09:52:40.690Z"
   },
   {
    "duration": 8,
    "start_time": "2021-12-27T09:52:43.689Z"
   },
   {
    "duration": 39,
    "start_time": "2021-12-27T09:53:04.538Z"
   },
   {
    "duration": 305,
    "start_time": "2021-12-27T09:53:11.570Z"
   },
   {
    "duration": 395,
    "start_time": "2021-12-27T09:53:19.198Z"
   },
   {
    "duration": 43,
    "start_time": "2021-12-27T10:07:12.934Z"
   },
   {
    "duration": 368,
    "start_time": "2021-12-27T10:07:24.406Z"
   },
   {
    "duration": 70,
    "start_time": "2021-12-27T10:07:35.246Z"
   },
   {
    "duration": 35,
    "start_time": "2021-12-27T10:08:34.591Z"
   },
   {
    "duration": 281,
    "start_time": "2021-12-27T10:08:56.791Z"
   },
   {
    "duration": 311,
    "start_time": "2021-12-27T10:09:17.713Z"
   },
   {
    "duration": 273,
    "start_time": "2021-12-27T10:09:37.104Z"
   },
   {
    "duration": 284,
    "start_time": "2021-12-27T10:09:49.552Z"
   },
   {
    "duration": 114,
    "start_time": "2021-12-27T10:10:10.384Z"
   },
   {
    "duration": 44,
    "start_time": "2021-12-27T10:10:10.501Z"
   },
   {
    "duration": 16,
    "start_time": "2021-12-27T10:10:10.547Z"
   },
   {
    "duration": 133,
    "start_time": "2021-12-27T10:10:10.565Z"
   },
   {
    "duration": 23,
    "start_time": "2021-12-27T10:10:10.701Z"
   },
   {
    "duration": 35,
    "start_time": "2021-12-27T10:10:10.727Z"
   },
   {
    "duration": 66,
    "start_time": "2021-12-27T10:10:10.764Z"
   },
   {
    "duration": 10,
    "start_time": "2021-12-27T10:10:10.833Z"
   },
   {
    "duration": 21,
    "start_time": "2021-12-27T10:10:10.845Z"
   },
   {
    "duration": 73,
    "start_time": "2021-12-27T10:10:10.868Z"
   },
   {
    "duration": 36,
    "start_time": "2021-12-27T10:10:10.943Z"
   },
   {
    "duration": 9,
    "start_time": "2021-12-27T10:10:10.981Z"
   },
   {
    "duration": 40,
    "start_time": "2021-12-27T10:10:10.992Z"
   },
   {
    "duration": 10,
    "start_time": "2021-12-27T10:10:11.035Z"
   },
   {
    "duration": 79,
    "start_time": "2021-12-27T10:10:11.047Z"
   },
   {
    "duration": 945,
    "start_time": "2021-12-27T10:10:11.129Z"
   },
   {
    "duration": 50,
    "start_time": "2021-12-27T10:10:12.077Z"
   },
   {
    "duration": 37,
    "start_time": "2021-12-27T10:10:12.129Z"
   },
   {
    "duration": 66,
    "start_time": "2021-12-27T10:10:12.169Z"
   },
   {
    "duration": 12,
    "start_time": "2021-12-27T10:10:12.237Z"
   },
   {
    "duration": 320,
    "start_time": "2021-12-27T10:10:12.251Z"
   },
   {
    "duration": 345,
    "start_time": "2021-12-27T10:10:12.574Z"
   },
   {
    "duration": 15,
    "start_time": "2021-12-27T10:10:12.930Z"
   },
   {
    "duration": 34,
    "start_time": "2021-12-27T10:10:12.949Z"
   },
   {
    "duration": 40,
    "start_time": "2021-12-27T10:10:12.986Z"
   },
   {
    "duration": 357,
    "start_time": "2021-12-27T10:10:13.029Z"
   },
   {
    "duration": 11,
    "start_time": "2021-12-27T10:10:13.389Z"
   },
   {
    "duration": 427,
    "start_time": "2021-12-27T10:10:13.402Z"
   },
   {
    "duration": 13,
    "start_time": "2021-12-27T10:10:13.832Z"
   },
   {
    "duration": 352,
    "start_time": "2021-12-27T10:10:13.848Z"
   },
   {
    "duration": 328,
    "start_time": "2021-12-27T10:10:14.202Z"
   },
   {
    "duration": 3731,
    "start_time": "2021-12-27T10:10:14.533Z"
   },
   {
    "duration": 388,
    "start_time": "2021-12-27T10:10:18.267Z"
   },
   {
    "duration": 14,
    "start_time": "2021-12-27T10:10:18.658Z"
   },
   {
    "duration": 352,
    "start_time": "2021-12-27T10:10:18.675Z"
   },
   {
    "duration": 341,
    "start_time": "2021-12-27T10:10:19.030Z"
   },
   {
    "duration": 338,
    "start_time": "2021-12-27T10:10:19.374Z"
   },
   {
    "duration": 728,
    "start_time": "2021-12-27T10:10:19.715Z"
   },
   {
    "duration": 19,
    "start_time": "2021-12-27T10:10:20.445Z"
   },
   {
    "duration": 14,
    "start_time": "2021-12-27T10:10:20.467Z"
   },
   {
    "duration": 483,
    "start_time": "2021-12-27T10:10:20.483Z"
   },
   {
    "duration": 6,
    "start_time": "2021-12-27T10:10:20.968Z"
   },
   {
    "duration": 284,
    "start_time": "2021-12-27T10:10:20.976Z"
   },
   {
    "duration": 6,
    "start_time": "2021-12-27T10:10:21.263Z"
   },
   {
    "duration": 558,
    "start_time": "2021-12-27T10:10:21.271Z"
   },
   {
    "duration": 6,
    "start_time": "2021-12-27T10:10:21.831Z"
   },
   {
    "duration": 498,
    "start_time": "2021-12-27T10:10:21.839Z"
   },
   {
    "duration": 345,
    "start_time": "2021-12-27T10:10:22.339Z"
   },
   {
    "duration": 5,
    "start_time": "2021-12-27T10:10:22.687Z"
   },
   {
    "duration": 334,
    "start_time": "2021-12-27T10:10:22.694Z"
   },
   {
    "duration": 6,
    "start_time": "2021-12-27T10:10:23.031Z"
   },
   {
    "duration": 341,
    "start_time": "2021-12-27T10:10:23.039Z"
   },
   {
    "duration": 7,
    "start_time": "2021-12-27T10:10:23.382Z"
   },
   {
    "duration": 63,
    "start_time": "2021-12-27T10:10:23.392Z"
   },
   {
    "duration": 353,
    "start_time": "2021-12-27T10:10:23.458Z"
   },
   {
    "duration": 48,
    "start_time": "2021-12-27T10:10:23.813Z"
   },
   {
    "duration": 95,
    "start_time": "2021-12-27T10:10:23.864Z"
   },
   {
    "duration": 35,
    "start_time": "2021-12-27T10:10:23.962Z"
   },
   {
    "duration": 289,
    "start_time": "2021-12-27T10:10:36.208Z"
   },
   {
    "duration": 295,
    "start_time": "2021-12-27T10:10:56.017Z"
   },
   {
    "duration": 284,
    "start_time": "2021-12-27T10:13:00.475Z"
   },
   {
    "duration": 9,
    "start_time": "2021-12-27T10:17:28.926Z"
   },
   {
    "duration": 282,
    "start_time": "2021-12-27T10:17:31.158Z"
   },
   {
    "duration": 6,
    "start_time": "2021-12-27T10:17:35.991Z"
   },
   {
    "duration": 239,
    "start_time": "2021-12-27T10:17:38.207Z"
   },
   {
    "duration": 7,
    "start_time": "2021-12-27T10:17:40.967Z"
   },
   {
    "duration": 337,
    "start_time": "2021-12-27T10:17:44.222Z"
   },
   {
    "duration": 6,
    "start_time": "2021-12-27T10:17:47.062Z"
   },
   {
    "duration": 358,
    "start_time": "2021-12-27T10:17:47.814Z"
   },
   {
    "duration": 6,
    "start_time": "2021-12-27T10:17:50.302Z"
   },
   {
    "duration": 297,
    "start_time": "2021-12-27T10:17:50.958Z"
   },
   {
    "duration": 7,
    "start_time": "2021-12-27T10:17:54.502Z"
   },
   {
    "duration": 560,
    "start_time": "2021-12-27T10:17:56.191Z"
   },
   {
    "duration": 7,
    "start_time": "2021-12-27T10:18:00.087Z"
   },
   {
    "duration": 343,
    "start_time": "2021-12-27T10:57:18.119Z"
   },
   {
    "duration": 334,
    "start_time": "2021-12-27T10:57:59.837Z"
   },
   {
    "duration": 317,
    "start_time": "2021-12-27T11:11:49.403Z"
   },
   {
    "duration": 384,
    "start_time": "2021-12-27T11:12:03.305Z"
   },
   {
    "duration": 25,
    "start_time": "2021-12-27T11:21:55.365Z"
   },
   {
    "duration": 31,
    "start_time": "2021-12-27T11:22:58.222Z"
   },
   {
    "duration": 323,
    "start_time": "2021-12-27T11:24:19.337Z"
   },
   {
    "duration": 263,
    "start_time": "2021-12-27T11:24:26.521Z"
   },
   {
    "duration": 429,
    "start_time": "2021-12-27T11:26:42.897Z"
   },
   {
    "duration": 262,
    "start_time": "2021-12-27T11:27:05.513Z"
   },
   {
    "duration": 261,
    "start_time": "2021-12-27T11:27:26.554Z"
   },
   {
    "duration": 128,
    "start_time": "2021-12-27T11:31:47.956Z"
   },
   {
    "duration": 51,
    "start_time": "2021-12-27T11:31:48.087Z"
   },
   {
    "duration": 20,
    "start_time": "2021-12-27T11:31:48.142Z"
   },
   {
    "duration": 159,
    "start_time": "2021-12-27T11:31:48.166Z"
   },
   {
    "duration": 15,
    "start_time": "2021-12-27T11:31:48.327Z"
   },
   {
    "duration": 78,
    "start_time": "2021-12-27T11:31:48.345Z"
   },
   {
    "duration": 62,
    "start_time": "2021-12-27T11:31:48.427Z"
   },
   {
    "duration": 32,
    "start_time": "2021-12-27T11:31:48.493Z"
   },
   {
    "duration": 30,
    "start_time": "2021-12-27T11:31:48.528Z"
   },
   {
    "duration": 89,
    "start_time": "2021-12-27T11:31:48.560Z"
   },
   {
    "duration": 48,
    "start_time": "2021-12-27T11:31:48.652Z"
   },
   {
    "duration": 11,
    "start_time": "2021-12-27T11:31:48.723Z"
   },
   {
    "duration": 19,
    "start_time": "2021-12-27T11:31:48.737Z"
   },
   {
    "duration": 24,
    "start_time": "2021-12-27T11:31:48.759Z"
   },
   {
    "duration": 80,
    "start_time": "2021-12-27T11:31:48.785Z"
   },
   {
    "duration": 1613,
    "start_time": "2021-12-27T11:31:48.868Z"
   },
   {
    "duration": 53,
    "start_time": "2021-12-27T11:31:50.484Z"
   },
   {
    "duration": 40,
    "start_time": "2021-12-27T11:31:50.539Z"
   },
   {
    "duration": 66,
    "start_time": "2021-12-27T11:31:50.582Z"
   },
   {
    "duration": 14,
    "start_time": "2021-12-27T11:31:50.651Z"
   },
   {
    "duration": 348,
    "start_time": "2021-12-27T11:31:50.667Z"
   },
   {
    "duration": 352,
    "start_time": "2021-12-27T11:31:51.018Z"
   },
   {
    "duration": 12,
    "start_time": "2021-12-27T11:31:51.376Z"
   },
   {
    "duration": 52,
    "start_time": "2021-12-27T11:31:51.392Z"
   },
   {
    "duration": 10,
    "start_time": "2021-12-27T11:31:51.446Z"
   },
   {
    "duration": 325,
    "start_time": "2021-12-27T11:31:51.459Z"
   },
   {
    "duration": 14,
    "start_time": "2021-12-27T11:31:51.787Z"
   },
   {
    "duration": 361,
    "start_time": "2021-12-27T11:31:51.804Z"
   },
   {
    "duration": 12,
    "start_time": "2021-12-27T11:31:52.167Z"
   },
   {
    "duration": 363,
    "start_time": "2021-12-27T11:31:52.182Z"
   },
   {
    "duration": 346,
    "start_time": "2021-12-27T11:31:52.548Z"
   },
   {
    "duration": 3906,
    "start_time": "2021-12-27T11:31:52.897Z"
   },
   {
    "duration": 435,
    "start_time": "2021-12-27T11:31:56.805Z"
   },
   {
    "duration": 13,
    "start_time": "2021-12-27T11:31:57.242Z"
   },
   {
    "duration": 368,
    "start_time": "2021-12-27T11:31:57.257Z"
   },
   {
    "duration": 619,
    "start_time": "2021-12-27T11:31:57.628Z"
   },
   {
    "duration": 420,
    "start_time": "2021-12-27T11:31:58.251Z"
   },
   {
    "duration": 781,
    "start_time": "2021-12-27T11:31:58.674Z"
   },
   {
    "duration": 24,
    "start_time": "2021-12-27T11:31:59.458Z"
   },
   {
    "duration": 42,
    "start_time": "2021-12-27T11:31:59.485Z"
   },
   {
    "duration": 453,
    "start_time": "2021-12-27T11:31:59.530Z"
   },
   {
    "duration": 8,
    "start_time": "2021-12-27T11:31:59.986Z"
   },
   {
    "duration": 272,
    "start_time": "2021-12-27T11:31:59.997Z"
   },
   {
    "duration": 8,
    "start_time": "2021-12-27T11:32:00.272Z"
   },
   {
    "duration": 765,
    "start_time": "2021-12-27T11:32:00.283Z"
   },
   {
    "duration": 8,
    "start_time": "2021-12-27T11:32:01.051Z"
   },
   {
    "duration": 354,
    "start_time": "2021-12-27T11:32:01.062Z"
   },
   {
    "duration": 378,
    "start_time": "2021-12-27T11:32:01.419Z"
   },
   {
    "duration": 5,
    "start_time": "2021-12-27T11:32:01.800Z"
   },
   {
    "duration": 336,
    "start_time": "2021-12-27T11:32:01.824Z"
   },
   {
    "duration": 6,
    "start_time": "2021-12-27T11:32:02.163Z"
   },
   {
    "duration": 333,
    "start_time": "2021-12-27T11:32:02.171Z"
   },
   {
    "duration": 17,
    "start_time": "2021-12-27T11:32:02.507Z"
   },
   {
    "duration": 362,
    "start_time": "2021-12-27T11:32:02.527Z"
   },
   {
    "duration": 63,
    "start_time": "2021-12-27T11:32:02.892Z"
   },
   {
    "duration": 405,
    "start_time": "2021-12-27T11:32:02.958Z"
   },
   {
    "duration": 75,
    "start_time": "2021-12-27T11:32:03.365Z"
   },
   {
    "duration": 82,
    "start_time": "2021-12-27T11:32:03.443Z"
   },
   {
    "duration": 38,
    "start_time": "2021-12-27T11:32:03.528Z"
   },
   {
    "duration": 323,
    "start_time": "2021-12-27T11:32:03.569Z"
   },
   {
    "duration": 28,
    "start_time": "2021-12-27T11:32:03.895Z"
   },
   {
    "duration": 311,
    "start_time": "2021-12-27T11:32:03.926Z"
   },
   {
    "duration": 5,
    "start_time": "2021-12-27T11:32:04.239Z"
   },
   {
    "duration": 250,
    "start_time": "2021-12-27T11:32:04.247Z"
   },
   {
    "duration": 6,
    "start_time": "2021-12-27T11:32:04.499Z"
   },
   {
    "duration": 346,
    "start_time": "2021-12-27T11:32:04.523Z"
   },
   {
    "duration": 6,
    "start_time": "2021-12-27T11:32:04.872Z"
   },
   {
    "duration": 419,
    "start_time": "2021-12-27T11:32:04.889Z"
   },
   {
    "duration": 14,
    "start_time": "2021-12-27T11:32:05.312Z"
   },
   {
    "duration": 337,
    "start_time": "2021-12-27T11:32:05.329Z"
   },
   {
    "duration": 5,
    "start_time": "2021-12-27T11:32:05.669Z"
   },
   {
    "duration": 474,
    "start_time": "2021-12-27T11:32:05.677Z"
   },
   {
    "duration": 7,
    "start_time": "2021-12-27T11:32:06.154Z"
   },
   {
    "duration": 328,
    "start_time": "2021-12-27T11:35:09.753Z"
   },
   {
    "duration": 135,
    "start_time": "2021-12-27T11:35:58.272Z"
   },
   {
    "duration": 569,
    "start_time": "2021-12-27T11:36:05.808Z"
   },
   {
    "duration": 148,
    "start_time": "2021-12-27T11:36:55.542Z"
   },
   {
    "duration": 46,
    "start_time": "2021-12-27T11:36:55.692Z"
   },
   {
    "duration": 46,
    "start_time": "2021-12-27T11:36:55.741Z"
   },
   {
    "duration": 127,
    "start_time": "2021-12-27T11:36:55.790Z"
   },
   {
    "duration": 16,
    "start_time": "2021-12-27T11:36:55.925Z"
   },
   {
    "duration": 53,
    "start_time": "2021-12-27T11:36:55.944Z"
   },
   {
    "duration": 57,
    "start_time": "2021-12-27T11:36:56.000Z"
   },
   {
    "duration": 9,
    "start_time": "2021-12-27T11:36:56.061Z"
   },
   {
    "duration": 23,
    "start_time": "2021-12-27T11:36:56.073Z"
   },
   {
    "duration": 56,
    "start_time": "2021-12-27T11:36:56.129Z"
   },
   {
    "duration": 66,
    "start_time": "2021-12-27T11:36:56.187Z"
   },
   {
    "duration": 8,
    "start_time": "2021-12-27T11:36:56.256Z"
   },
   {
    "duration": 21,
    "start_time": "2021-12-27T11:36:56.266Z"
   },
   {
    "duration": 48,
    "start_time": "2021-12-27T11:36:56.289Z"
   },
   {
    "duration": 63,
    "start_time": "2021-12-27T11:36:56.340Z"
   },
   {
    "duration": 1530,
    "start_time": "2021-12-27T11:36:56.405Z"
   },
   {
    "duration": 43,
    "start_time": "2021-12-27T11:36:57.939Z"
   },
   {
    "duration": 63,
    "start_time": "2021-12-27T11:36:57.984Z"
   },
   {
    "duration": 41,
    "start_time": "2021-12-27T11:36:58.050Z"
   },
   {
    "duration": 28,
    "start_time": "2021-12-27T11:36:58.094Z"
   },
   {
    "duration": 434,
    "start_time": "2021-12-27T11:36:58.128Z"
   },
   {
    "duration": 335,
    "start_time": "2021-12-27T11:36:58.568Z"
   },
   {
    "duration": 39,
    "start_time": "2021-12-27T11:36:58.909Z"
   },
   {
    "duration": 42,
    "start_time": "2021-12-27T11:36:58.956Z"
   },
   {
    "duration": 7,
    "start_time": "2021-12-27T11:36:59.001Z"
   },
   {
    "duration": 340,
    "start_time": "2021-12-27T11:36:59.010Z"
   },
   {
    "duration": 15,
    "start_time": "2021-12-27T11:36:59.353Z"
   },
   {
    "duration": 368,
    "start_time": "2021-12-27T11:36:59.371Z"
   },
   {
    "duration": 16,
    "start_time": "2021-12-27T11:36:59.742Z"
   },
   {
    "duration": 367,
    "start_time": "2021-12-27T11:36:59.761Z"
   },
   {
    "duration": 361,
    "start_time": "2021-12-27T11:37:00.131Z"
   },
   {
    "duration": 4992,
    "start_time": "2021-12-27T11:37:00.494Z"
   },
   {
    "duration": 445,
    "start_time": "2021-12-27T11:37:05.489Z"
   },
   {
    "duration": 23,
    "start_time": "2021-12-27T11:37:05.937Z"
   },
   {
    "duration": 372,
    "start_time": "2021-12-27T11:37:05.962Z"
   },
   {
    "duration": 357,
    "start_time": "2021-12-27T11:37:06.336Z"
   },
   {
    "duration": 371,
    "start_time": "2021-12-27T11:37:06.696Z"
   },
   {
    "duration": 727,
    "start_time": "2021-12-27T11:37:07.070Z"
   },
   {
    "duration": 33,
    "start_time": "2021-12-27T11:37:07.800Z"
   },
   {
    "duration": 23,
    "start_time": "2021-12-27T11:37:07.837Z"
   },
   {
    "duration": 97,
    "start_time": "2021-12-27T11:37:07.864Z"
   },
   {
    "duration": 62,
    "start_time": "2021-12-27T11:37:07.902Z"
   },
   {
    "duration": 60,
    "start_time": "2021-12-27T11:37:07.906Z"
   },
   {
    "duration": 58,
    "start_time": "2021-12-27T11:37:07.909Z"
   },
   {
    "duration": 57,
    "start_time": "2021-12-27T11:37:07.912Z"
   },
   {
    "duration": 56,
    "start_time": "2021-12-27T11:37:07.915Z"
   },
   {
    "duration": 55,
    "start_time": "2021-12-27T11:37:07.918Z"
   },
   {
    "duration": 53,
    "start_time": "2021-12-27T11:37:07.921Z"
   },
   {
    "duration": 53,
    "start_time": "2021-12-27T11:37:07.923Z"
   },
   {
    "duration": 51,
    "start_time": "2021-12-27T11:37:07.926Z"
   },
   {
    "duration": 50,
    "start_time": "2021-12-27T11:37:07.929Z"
   },
   {
    "duration": 50,
    "start_time": "2021-12-27T11:37:07.931Z"
   },
   {
    "duration": 44,
    "start_time": "2021-12-27T11:37:07.938Z"
   },
   {
    "duration": 43,
    "start_time": "2021-12-27T11:37:07.941Z"
   },
   {
    "duration": 42,
    "start_time": "2021-12-27T11:37:07.943Z"
   },
   {
    "duration": 40,
    "start_time": "2021-12-27T11:37:07.947Z"
   },
   {
    "duration": 32,
    "start_time": "2021-12-27T11:37:07.956Z"
   },
   {
    "duration": 30,
    "start_time": "2021-12-27T11:37:07.960Z"
   },
   {
    "duration": 28,
    "start_time": "2021-12-27T11:37:07.964Z"
   },
   {
    "duration": 26,
    "start_time": "2021-12-27T11:37:07.967Z"
   },
   {
    "duration": 25,
    "start_time": "2021-12-27T11:37:07.970Z"
   },
   {
    "duration": 23,
    "start_time": "2021-12-27T11:37:07.973Z"
   },
   {
    "duration": 21,
    "start_time": "2021-12-27T11:37:07.976Z"
   },
   {
    "duration": 21,
    "start_time": "2021-12-27T11:37:07.978Z"
   },
   {
    "duration": 19,
    "start_time": "2021-12-27T11:37:07.981Z"
   },
   {
    "duration": 45,
    "start_time": "2021-12-27T11:37:07.984Z"
   },
   {
    "duration": 45,
    "start_time": "2021-12-27T11:37:07.986Z"
   },
   {
    "duration": 43,
    "start_time": "2021-12-27T11:37:07.989Z"
   },
   {
    "duration": 43,
    "start_time": "2021-12-27T11:37:07.991Z"
   },
   {
    "duration": 41,
    "start_time": "2021-12-27T11:37:07.994Z"
   },
   {
    "duration": 41,
    "start_time": "2021-12-27T11:37:07.996Z"
   },
   {
    "duration": 40,
    "start_time": "2021-12-27T11:37:07.999Z"
   },
   {
    "duration": 39,
    "start_time": "2021-12-27T11:37:08.001Z"
   },
   {
    "duration": 447,
    "start_time": "2021-12-27T11:40:19.755Z"
   },
   {
    "duration": 471,
    "start_time": "2021-12-27T11:40:24.714Z"
   },
   {
    "duration": 6,
    "start_time": "2021-12-27T11:40:25.188Z"
   },
   {
    "duration": 268,
    "start_time": "2021-12-27T11:40:25.197Z"
   },
   {
    "duration": 7,
    "start_time": "2021-12-27T11:40:25.469Z"
   },
   {
    "duration": 623,
    "start_time": "2021-12-27T11:40:25.478Z"
   },
   {
    "duration": 26,
    "start_time": "2021-12-27T11:40:26.105Z"
   },
   {
    "duration": 711,
    "start_time": "2021-12-27T11:40:26.134Z"
   },
   {
    "duration": 634,
    "start_time": "2021-12-27T11:40:26.851Z"
   },
   {
    "duration": 7,
    "start_time": "2021-12-27T11:40:27.489Z"
   },
   {
    "duration": 504,
    "start_time": "2021-12-27T11:40:27.499Z"
   },
   {
    "duration": 17,
    "start_time": "2021-12-27T11:40:28.006Z"
   },
   {
    "duration": 358,
    "start_time": "2021-12-27T11:40:28.025Z"
   },
   {
    "duration": 11,
    "start_time": "2021-12-27T11:40:28.386Z"
   },
   {
    "duration": 953,
    "start_time": "2021-12-27T11:40:28.399Z"
   },
   {
    "duration": 73,
    "start_time": "2021-12-27T11:40:29.355Z"
   },
   {
    "duration": 697,
    "start_time": "2021-12-27T11:40:29.430Z"
   },
   {
    "duration": 97,
    "start_time": "2021-12-27T11:40:30.130Z"
   },
   {
    "duration": 96,
    "start_time": "2021-12-27T11:40:30.237Z"
   },
   {
    "duration": 38,
    "start_time": "2021-12-27T11:40:30.337Z"
   },
   {
    "duration": 319,
    "start_time": "2021-12-27T11:40:30.377Z"
   },
   {
    "duration": 9,
    "start_time": "2021-12-27T11:40:30.699Z"
   },
   {
    "duration": 301,
    "start_time": "2021-12-27T11:40:30.725Z"
   },
   {
    "duration": 7,
    "start_time": "2021-12-27T11:40:31.031Z"
   },
   {
    "duration": 252,
    "start_time": "2021-12-27T11:40:31.041Z"
   },
   {
    "duration": 5,
    "start_time": "2021-12-27T11:40:31.296Z"
   },
   {
    "duration": 351,
    "start_time": "2021-12-27T11:40:31.304Z"
   },
   {
    "duration": 6,
    "start_time": "2021-12-27T11:40:31.657Z"
   },
   {
    "duration": 367,
    "start_time": "2021-12-27T11:40:31.666Z"
   },
   {
    "duration": 7,
    "start_time": "2021-12-27T11:40:32.036Z"
   },
   {
    "duration": 345,
    "start_time": "2021-12-27T11:40:32.045Z"
   },
   {
    "duration": 9,
    "start_time": "2021-12-27T11:40:32.393Z"
   },
   {
    "duration": 452,
    "start_time": "2021-12-27T11:40:32.405Z"
   },
   {
    "duration": 6,
    "start_time": "2021-12-27T11:40:32.860Z"
   },
   {
    "duration": 36,
    "start_time": "2021-12-27T11:42:00.902Z"
   },
   {
    "duration": 317,
    "start_time": "2021-12-27T11:42:03.909Z"
   },
   {
    "duration": 9,
    "start_time": "2021-12-27T11:44:15.805Z"
   },
   {
    "duration": 439,
    "start_time": "2021-12-27T11:44:15.818Z"
   },
   {
    "duration": 7,
    "start_time": "2021-12-27T11:44:16.262Z"
   },
   {
    "duration": 282,
    "start_time": "2021-12-27T11:44:16.272Z"
   },
   {
    "duration": 7,
    "start_time": "2021-12-27T11:44:16.557Z"
   },
   {
    "duration": 435,
    "start_time": "2021-12-27T11:44:16.567Z"
   },
   {
    "duration": 6,
    "start_time": "2021-12-27T11:44:17.005Z"
   },
   {
    "duration": 401,
    "start_time": "2021-12-27T11:44:17.025Z"
   },
   {
    "duration": 22,
    "start_time": "2021-12-27T11:44:17.433Z"
   },
   {
    "duration": 355,
    "start_time": "2021-12-27T11:44:17.457Z"
   },
   {
    "duration": 20,
    "start_time": "2021-12-27T11:44:17.814Z"
   },
   {
    "duration": 528,
    "start_time": "2021-12-27T11:44:17.836Z"
   },
   {
    "duration": 8,
    "start_time": "2021-12-27T11:44:18.367Z"
   },
   {
    "duration": 322,
    "start_time": "2021-12-27T11:44:29.583Z"
   },
   {
    "duration": 148,
    "start_time": "2021-12-27T11:45:30.687Z"
   },
   {
    "duration": 40,
    "start_time": "2021-12-27T11:45:30.838Z"
   },
   {
    "duration": 44,
    "start_time": "2021-12-27T11:45:30.881Z"
   },
   {
    "duration": 127,
    "start_time": "2021-12-27T11:45:30.938Z"
   },
   {
    "duration": 12,
    "start_time": "2021-12-27T11:45:31.067Z"
   },
   {
    "duration": 77,
    "start_time": "2021-12-27T11:45:31.082Z"
   },
   {
    "duration": 46,
    "start_time": "2021-12-27T11:45:31.162Z"
   },
   {
    "duration": 17,
    "start_time": "2021-12-27T11:45:31.231Z"
   },
   {
    "duration": 50,
    "start_time": "2021-12-27T11:45:31.254Z"
   },
   {
    "duration": 54,
    "start_time": "2021-12-27T11:45:31.307Z"
   },
   {
    "duration": 56,
    "start_time": "2021-12-27T11:45:31.364Z"
   },
   {
    "duration": 16,
    "start_time": "2021-12-27T11:45:31.423Z"
   },
   {
    "duration": 32,
    "start_time": "2021-12-27T11:45:31.441Z"
   },
   {
    "duration": 11,
    "start_time": "2021-12-27T11:45:31.476Z"
   },
   {
    "duration": 67,
    "start_time": "2021-12-27T11:45:31.490Z"
   },
   {
    "duration": 1675,
    "start_time": "2021-12-27T11:45:31.559Z"
   },
   {
    "duration": 56,
    "start_time": "2021-12-27T11:45:33.237Z"
   },
   {
    "duration": 77,
    "start_time": "2021-12-27T11:45:33.297Z"
   },
   {
    "duration": 77,
    "start_time": "2021-12-27T11:45:33.377Z"
   },
   {
    "duration": 11,
    "start_time": "2021-12-27T11:45:33.457Z"
   },
   {
    "duration": 329,
    "start_time": "2021-12-27T11:45:33.470Z"
   },
   {
    "duration": 360,
    "start_time": "2021-12-27T11:45:33.802Z"
   },
   {
    "duration": 12,
    "start_time": "2021-12-27T11:45:34.170Z"
   },
   {
    "duration": 75,
    "start_time": "2021-12-27T11:45:34.187Z"
   },
   {
    "duration": 42,
    "start_time": "2021-12-27T11:45:34.264Z"
   },
   {
    "duration": 389,
    "start_time": "2021-12-27T11:45:34.309Z"
   },
   {
    "duration": 12,
    "start_time": "2021-12-27T11:45:34.700Z"
   },
   {
    "duration": 791,
    "start_time": "2021-12-27T11:45:34.729Z"
   },
   {
    "duration": 12,
    "start_time": "2021-12-27T11:45:35.523Z"
   },
   {
    "duration": 490,
    "start_time": "2021-12-27T11:45:35.537Z"
   },
   {
    "duration": 816,
    "start_time": "2021-12-27T11:45:36.034Z"
   },
   {
    "duration": 5125,
    "start_time": "2021-12-27T11:45:36.854Z"
   },
   {
    "duration": 469,
    "start_time": "2021-12-27T11:45:41.983Z"
   },
   {
    "duration": 14,
    "start_time": "2021-12-27T11:45:42.460Z"
   },
   {
    "duration": 514,
    "start_time": "2021-12-27T11:45:42.476Z"
   },
   {
    "duration": 508,
    "start_time": "2021-12-27T11:45:42.993Z"
   },
   {
    "duration": 392,
    "start_time": "2021-12-27T11:45:43.504Z"
   },
   {
    "duration": 794,
    "start_time": "2021-12-27T11:45:43.898Z"
   },
   {
    "duration": 41,
    "start_time": "2021-12-27T11:45:44.696Z"
   },
   {
    "duration": 23,
    "start_time": "2021-12-27T11:45:44.740Z"
   },
   {
    "duration": 496,
    "start_time": "2021-12-27T11:45:44.767Z"
   },
   {
    "duration": 7,
    "start_time": "2021-12-27T11:45:45.266Z"
   },
   {
    "duration": 295,
    "start_time": "2021-12-27T11:45:45.276Z"
   },
   {
    "duration": 8,
    "start_time": "2021-12-27T11:45:45.575Z"
   },
   {
    "duration": 607,
    "start_time": "2021-12-27T11:45:45.586Z"
   },
   {
    "duration": 7,
    "start_time": "2021-12-27T11:45:46.196Z"
   },
   {
    "duration": 408,
    "start_time": "2021-12-27T11:45:46.205Z"
   },
   {
    "duration": 399,
    "start_time": "2021-12-27T11:45:46.615Z"
   },
   {
    "duration": 11,
    "start_time": "2021-12-27T11:45:47.024Z"
   },
   {
    "duration": 357,
    "start_time": "2021-12-27T11:45:47.039Z"
   },
   {
    "duration": 6,
    "start_time": "2021-12-27T11:45:47.399Z"
   },
   {
    "duration": 363,
    "start_time": "2021-12-27T11:45:47.408Z"
   },
   {
    "duration": 6,
    "start_time": "2021-12-27T11:45:47.774Z"
   },
   {
    "duration": 278,
    "start_time": "2021-12-27T11:45:47.782Z"
   },
   {
    "duration": 46,
    "start_time": "2021-12-27T11:45:48.064Z"
   },
   {
    "duration": 375,
    "start_time": "2021-12-27T11:45:48.124Z"
   },
   {
    "duration": 69,
    "start_time": "2021-12-27T11:45:48.502Z"
   },
   {
    "duration": 119,
    "start_time": "2021-12-27T11:45:48.574Z"
   },
   {
    "duration": 68,
    "start_time": "2021-12-27T11:45:48.697Z"
   },
   {
    "duration": 342,
    "start_time": "2021-12-27T11:45:48.769Z"
   },
   {
    "duration": 18,
    "start_time": "2021-12-27T11:45:49.114Z"
   },
   {
    "duration": 501,
    "start_time": "2021-12-27T11:45:49.135Z"
   },
   {
    "duration": 6,
    "start_time": "2021-12-27T11:45:49.638Z"
   },
   {
    "duration": 268,
    "start_time": "2021-12-27T11:45:49.647Z"
   },
   {
    "duration": 8,
    "start_time": "2021-12-27T11:45:49.918Z"
   },
   {
    "duration": 492,
    "start_time": "2021-12-27T11:45:49.931Z"
   },
   {
    "duration": 8,
    "start_time": "2021-12-27T11:45:50.427Z"
   },
   {
    "duration": 493,
    "start_time": "2021-12-27T11:45:50.447Z"
   },
   {
    "duration": 10,
    "start_time": "2021-12-27T11:45:50.943Z"
   },
   {
    "duration": 362,
    "start_time": "2021-12-27T11:45:50.955Z"
   },
   {
    "duration": 6,
    "start_time": "2021-12-27T11:45:51.323Z"
   },
   {
    "duration": 468,
    "start_time": "2021-12-27T11:45:51.331Z"
   },
   {
    "duration": 5,
    "start_time": "2021-12-27T11:45:51.802Z"
   },
   {
    "duration": 102,
    "start_time": "2021-12-27T11:52:01.239Z"
   },
   {
    "duration": 625,
    "start_time": "2021-12-27T18:17:36.032Z"
   },
   {
    "duration": 23,
    "start_time": "2021-12-27T18:17:36.659Z"
   },
   {
    "duration": 18,
    "start_time": "2021-12-27T18:17:36.684Z"
   },
   {
    "duration": 90,
    "start_time": "2021-12-27T18:17:36.704Z"
   },
   {
    "duration": 9,
    "start_time": "2021-12-27T18:17:36.796Z"
   },
   {
    "duration": 23,
    "start_time": "2021-12-27T18:17:36.806Z"
   },
   {
    "duration": 24,
    "start_time": "2021-12-27T18:17:36.830Z"
   },
   {
    "duration": 35,
    "start_time": "2021-12-27T18:17:36.857Z"
   },
   {
    "duration": 15,
    "start_time": "2021-12-27T18:17:36.895Z"
   },
   {
    "duration": 27,
    "start_time": "2021-12-27T18:17:36.912Z"
   },
   {
    "duration": 23,
    "start_time": "2021-12-27T18:17:36.941Z"
   },
   {
    "duration": 30,
    "start_time": "2021-12-27T18:17:36.966Z"
   },
   {
    "duration": 8,
    "start_time": "2021-12-27T18:17:36.998Z"
   },
   {
    "duration": 9,
    "start_time": "2021-12-27T18:17:37.008Z"
   },
   {
    "duration": 32,
    "start_time": "2021-12-27T18:17:37.019Z"
   },
   {
    "duration": 590,
    "start_time": "2021-12-27T18:17:37.052Z"
   },
   {
    "duration": 25,
    "start_time": "2021-12-27T18:17:37.644Z"
   },
   {
    "duration": 40,
    "start_time": "2021-12-27T18:17:37.671Z"
   },
   {
    "duration": 25,
    "start_time": "2021-12-27T18:17:37.713Z"
   },
   {
    "duration": 9,
    "start_time": "2021-12-27T18:17:37.739Z"
   },
   {
    "duration": 318,
    "start_time": "2021-12-27T18:17:37.749Z"
   },
   {
    "duration": 210,
    "start_time": "2021-12-27T18:17:38.069Z"
   },
   {
    "duration": 8,
    "start_time": "2021-12-27T18:17:38.291Z"
   },
   {
    "duration": 22,
    "start_time": "2021-12-27T18:17:38.301Z"
   },
   {
    "duration": 5,
    "start_time": "2021-12-27T18:17:38.325Z"
   },
   {
    "duration": 207,
    "start_time": "2021-12-27T18:17:38.331Z"
   },
   {
    "duration": 8,
    "start_time": "2021-12-27T18:17:38.540Z"
   },
   {
    "duration": 215,
    "start_time": "2021-12-27T18:17:38.550Z"
   },
   {
    "duration": 7,
    "start_time": "2021-12-27T18:17:38.767Z"
   },
   {
    "duration": 217,
    "start_time": "2021-12-27T18:17:38.776Z"
   },
   {
    "duration": 217,
    "start_time": "2021-12-27T18:17:38.994Z"
   },
   {
    "duration": 2368,
    "start_time": "2021-12-27T18:17:39.213Z"
   },
   {
    "duration": 257,
    "start_time": "2021-12-27T18:17:41.583Z"
   },
   {
    "duration": 8,
    "start_time": "2021-12-27T18:17:41.842Z"
   },
   {
    "duration": 212,
    "start_time": "2021-12-27T18:17:41.851Z"
   },
   {
    "duration": 216,
    "start_time": "2021-12-27T18:17:42.065Z"
   },
   {
    "duration": 220,
    "start_time": "2021-12-27T18:17:42.283Z"
   },
   {
    "duration": 481,
    "start_time": "2021-12-27T18:17:42.504Z"
   },
   {
    "duration": 13,
    "start_time": "2021-12-27T18:17:42.986Z"
   },
   {
    "duration": 12,
    "start_time": "2021-12-27T18:17:43.001Z"
   },
   {
    "duration": 487,
    "start_time": "2021-12-27T18:17:43.015Z"
   },
   {
    "duration": 5,
    "start_time": "2021-12-27T18:17:43.503Z"
   },
   {
    "duration": 159,
    "start_time": "2021-12-27T18:17:43.509Z"
   },
   {
    "duration": 4,
    "start_time": "2021-12-27T18:17:43.669Z"
   },
   {
    "duration": 465,
    "start_time": "2021-12-27T18:17:43.675Z"
   },
   {
    "duration": 10,
    "start_time": "2021-12-27T18:17:44.148Z"
   },
   {
    "duration": 247,
    "start_time": "2021-12-27T18:17:44.163Z"
   },
   {
    "duration": 219,
    "start_time": "2021-12-27T18:17:44.412Z"
   },
   {
    "duration": 4,
    "start_time": "2021-12-27T18:17:44.633Z"
   },
   {
    "duration": 213,
    "start_time": "2021-12-27T18:17:44.639Z"
   },
   {
    "duration": 5,
    "start_time": "2021-12-27T18:17:44.854Z"
   },
   {
    "duration": 206,
    "start_time": "2021-12-27T18:17:44.860Z"
   },
   {
    "duration": 4,
    "start_time": "2021-12-27T18:17:45.068Z"
   },
   {
    "duration": 163,
    "start_time": "2021-12-27T18:17:45.074Z"
   },
   {
    "duration": 24,
    "start_time": "2021-12-27T18:17:45.239Z"
   },
   {
    "duration": 228,
    "start_time": "2021-12-27T18:17:45.265Z"
   },
   {
    "duration": 28,
    "start_time": "2021-12-27T18:17:45.495Z"
   },
   {
    "duration": 52,
    "start_time": "2021-12-27T18:17:45.524Z"
   },
   {
    "duration": 34,
    "start_time": "2021-12-27T18:17:45.578Z"
   },
   {
    "duration": 197,
    "start_time": "2021-12-27T18:17:45.614Z"
   },
   {
    "duration": 6,
    "start_time": "2021-12-27T18:17:45.813Z"
   },
   {
    "duration": 197,
    "start_time": "2021-12-27T18:17:45.821Z"
   },
   {
    "duration": 5,
    "start_time": "2021-12-27T18:17:46.021Z"
   },
   {
    "duration": 218,
    "start_time": "2021-12-27T18:17:46.027Z"
   },
   {
    "duration": 4,
    "start_time": "2021-12-27T18:17:46.248Z"
   },
   {
    "duration": 219,
    "start_time": "2021-12-27T18:17:46.254Z"
   },
   {
    "duration": 5,
    "start_time": "2021-12-27T18:17:46.475Z"
   },
   {
    "duration": 228,
    "start_time": "2021-12-27T18:17:46.495Z"
   },
   {
    "duration": 5,
    "start_time": "2021-12-27T18:17:46.726Z"
   },
   {
    "duration": 212,
    "start_time": "2021-12-27T18:17:46.733Z"
   },
   {
    "duration": 5,
    "start_time": "2021-12-27T18:17:46.947Z"
   },
   {
    "duration": 367,
    "start_time": "2021-12-27T18:17:46.954Z"
   },
   {
    "duration": 5,
    "start_time": "2021-12-27T18:17:47.323Z"
   },
   {
    "duration": 319,
    "start_time": "2021-12-27T18:45:47.471Z"
   },
   {
    "duration": 637,
    "start_time": "2021-12-27T18:46:02.637Z"
   },
   {
    "duration": 22,
    "start_time": "2021-12-27T18:46:03.275Z"
   },
   {
    "duration": 15,
    "start_time": "2021-12-27T18:46:03.299Z"
   },
   {
    "duration": 86,
    "start_time": "2021-12-27T18:46:03.316Z"
   },
   {
    "duration": 9,
    "start_time": "2021-12-27T18:46:03.403Z"
   },
   {
    "duration": 24,
    "start_time": "2021-12-27T18:46:03.413Z"
   },
   {
    "duration": 25,
    "start_time": "2021-12-27T18:46:03.439Z"
   },
   {
    "duration": 6,
    "start_time": "2021-12-27T18:46:03.492Z"
   },
   {
    "duration": 19,
    "start_time": "2021-12-27T18:46:03.500Z"
   },
   {
    "duration": 27,
    "start_time": "2021-12-27T18:46:03.521Z"
   },
   {
    "duration": 49,
    "start_time": "2021-12-27T18:46:03.549Z"
   },
   {
    "duration": 7,
    "start_time": "2021-12-27T18:46:03.600Z"
   },
   {
    "duration": 8,
    "start_time": "2021-12-27T18:46:03.608Z"
   },
   {
    "duration": 8,
    "start_time": "2021-12-27T18:46:03.618Z"
   },
   {
    "duration": 29,
    "start_time": "2021-12-27T18:46:03.628Z"
   },
   {
    "duration": 637,
    "start_time": "2021-12-27T18:46:03.658Z"
   },
   {
    "duration": 30,
    "start_time": "2021-12-27T18:46:04.296Z"
   },
   {
    "duration": 23,
    "start_time": "2021-12-27T18:46:04.328Z"
   },
   {
    "duration": 49,
    "start_time": "2021-12-27T18:46:04.353Z"
   },
   {
    "duration": 8,
    "start_time": "2021-12-27T18:46:04.404Z"
   },
   {
    "duration": 324,
    "start_time": "2021-12-27T18:46:04.414Z"
   },
   {
    "duration": 237,
    "start_time": "2021-12-27T18:46:04.740Z"
   },
   {
    "duration": 13,
    "start_time": "2021-12-27T18:46:04.981Z"
   },
   {
    "duration": 26,
    "start_time": "2021-12-27T18:46:04.997Z"
   },
   {
    "duration": 6,
    "start_time": "2021-12-27T18:46:05.025Z"
   },
   {
    "duration": 199,
    "start_time": "2021-12-27T18:46:05.033Z"
   },
   {
    "duration": 8,
    "start_time": "2021-12-27T18:46:05.234Z"
   },
   {
    "duration": 206,
    "start_time": "2021-12-27T18:46:05.244Z"
   },
   {
    "duration": 8,
    "start_time": "2021-12-27T18:46:05.451Z"
   },
   {
    "duration": 220,
    "start_time": "2021-12-27T18:46:05.461Z"
   },
   {
    "duration": 220,
    "start_time": "2021-12-27T18:46:05.683Z"
   },
   {
    "duration": 254,
    "start_time": "2021-12-27T18:46:05.905Z"
   },
   {
    "duration": 2624,
    "start_time": "2021-12-27T18:46:06.160Z"
   },
   {
    "duration": 251,
    "start_time": "2021-12-27T18:46:08.786Z"
   },
   {
    "duration": 8,
    "start_time": "2021-12-27T18:46:09.039Z"
   },
   {
    "duration": 220,
    "start_time": "2021-12-27T18:46:09.049Z"
   },
   {
    "duration": 223,
    "start_time": "2021-12-27T18:46:09.271Z"
   },
   {
    "duration": 220,
    "start_time": "2021-12-27T18:46:09.495Z"
   },
   {
    "duration": 629,
    "start_time": "2021-12-27T18:46:09.716Z"
   },
   {
    "duration": 12,
    "start_time": "2021-12-27T18:46:10.347Z"
   },
   {
    "duration": 11,
    "start_time": "2021-12-27T18:46:10.361Z"
   },
   {
    "duration": 341,
    "start_time": "2021-12-27T18:46:10.392Z"
   },
   {
    "duration": 5,
    "start_time": "2021-12-27T18:46:10.735Z"
   },
   {
    "duration": 165,
    "start_time": "2021-12-27T18:46:10.741Z"
   },
   {
    "duration": 5,
    "start_time": "2021-12-27T18:46:10.908Z"
   },
   {
    "duration": 383,
    "start_time": "2021-12-27T18:46:10.915Z"
   },
   {
    "duration": 4,
    "start_time": "2021-12-27T18:46:11.300Z"
   },
   {
    "duration": 213,
    "start_time": "2021-12-27T18:46:11.306Z"
   },
   {
    "duration": 227,
    "start_time": "2021-12-27T18:46:11.521Z"
   },
   {
    "duration": 4,
    "start_time": "2021-12-27T18:46:11.750Z"
   },
   {
    "duration": 211,
    "start_time": "2021-12-27T18:46:11.755Z"
   },
   {
    "duration": 4,
    "start_time": "2021-12-27T18:46:11.968Z"
   },
   {
    "duration": 202,
    "start_time": "2021-12-27T18:46:11.973Z"
   },
   {
    "duration": 4,
    "start_time": "2021-12-27T18:46:12.177Z"
   },
   {
    "duration": 150,
    "start_time": "2021-12-27T18:46:12.199Z"
   },
   {
    "duration": 25,
    "start_time": "2021-12-27T18:46:12.351Z"
   },
   {
    "duration": 222,
    "start_time": "2021-12-27T18:46:12.378Z"
   },
   {
    "duration": 28,
    "start_time": "2021-12-27T18:46:12.602Z"
   },
   {
    "duration": 63,
    "start_time": "2021-12-27T18:46:12.632Z"
   },
   {
    "duration": 24,
    "start_time": "2021-12-27T18:46:12.697Z"
   },
   {
    "duration": 204,
    "start_time": "2021-12-27T18:46:12.723Z"
   },
   {
    "duration": 7,
    "start_time": "2021-12-27T18:46:12.928Z"
   },
   {
    "duration": 262,
    "start_time": "2021-12-27T18:46:12.937Z"
   },
   {
    "duration": 5,
    "start_time": "2021-12-27T18:46:13.200Z"
   },
   {
    "duration": 151,
    "start_time": "2021-12-27T18:46:13.206Z"
   },
   {
    "duration": 4,
    "start_time": "2021-12-27T18:46:13.359Z"
   },
   {
    "duration": 214,
    "start_time": "2021-12-27T18:46:13.364Z"
   },
   {
    "duration": 4,
    "start_time": "2021-12-27T18:46:13.591Z"
   },
   {
    "duration": 227,
    "start_time": "2021-12-27T18:46:13.597Z"
   },
   {
    "duration": 4,
    "start_time": "2021-12-27T18:46:13.826Z"
   },
   {
    "duration": 211,
    "start_time": "2021-12-27T18:46:13.832Z"
   },
   {
    "duration": 4,
    "start_time": "2021-12-27T18:46:14.045Z"
   },
   {
    "duration": 397,
    "start_time": "2021-12-27T18:46:14.051Z"
   },
   {
    "duration": 6,
    "start_time": "2021-12-27T18:46:14.450Z"
   },
   {
    "duration": 257,
    "start_time": "2021-12-27T18:47:12.809Z"
   },
   {
    "duration": 457,
    "start_time": "2021-12-27T18:47:22.150Z"
   },
   {
    "duration": 187,
    "start_time": "2021-12-27T18:48:32.484Z"
   },
   {
    "duration": 233,
    "start_time": "2021-12-27T18:48:42.385Z"
   },
   {
    "duration": 176,
    "start_time": "2021-12-27T18:52:24.533Z"
   },
   {
    "duration": 660,
    "start_time": "2021-12-27T18:52:41.294Z"
   },
   {
    "duration": 22,
    "start_time": "2021-12-27T18:52:41.956Z"
   },
   {
    "duration": 10,
    "start_time": "2021-12-27T18:52:41.992Z"
   },
   {
    "duration": 84,
    "start_time": "2021-12-27T18:52:42.003Z"
   },
   {
    "duration": 8,
    "start_time": "2021-12-27T18:52:42.091Z"
   },
   {
    "duration": 34,
    "start_time": "2021-12-27T18:52:42.101Z"
   },
   {
    "duration": 25,
    "start_time": "2021-12-27T18:52:42.138Z"
   },
   {
    "duration": 6,
    "start_time": "2021-12-27T18:52:42.165Z"
   },
   {
    "duration": 31,
    "start_time": "2021-12-27T18:52:42.173Z"
   },
   {
    "duration": 39,
    "start_time": "2021-12-27T18:52:42.206Z"
   },
   {
    "duration": 24,
    "start_time": "2021-12-27T18:52:42.247Z"
   },
   {
    "duration": 20,
    "start_time": "2021-12-27T18:52:42.272Z"
   },
   {
    "duration": 7,
    "start_time": "2021-12-27T18:52:42.293Z"
   },
   {
    "duration": 20,
    "start_time": "2021-12-27T18:52:42.302Z"
   },
   {
    "duration": 39,
    "start_time": "2021-12-27T18:52:42.323Z"
   },
   {
    "duration": 560,
    "start_time": "2021-12-27T18:52:42.363Z"
   },
   {
    "duration": 24,
    "start_time": "2021-12-27T18:52:42.925Z"
   },
   {
    "duration": 23,
    "start_time": "2021-12-27T18:52:42.950Z"
   },
   {
    "duration": 38,
    "start_time": "2021-12-27T18:52:42.974Z"
   },
   {
    "duration": 12,
    "start_time": "2021-12-27T18:52:43.013Z"
   },
   {
    "duration": 307,
    "start_time": "2021-12-27T18:52:43.026Z"
   },
   {
    "duration": 216,
    "start_time": "2021-12-27T18:52:43.338Z"
   },
   {
    "duration": 7,
    "start_time": "2021-12-27T18:52:43.557Z"
   },
   {
    "duration": 33,
    "start_time": "2021-12-27T18:52:43.566Z"
   },
   {
    "duration": 6,
    "start_time": "2021-12-27T18:52:43.601Z"
   },
   {
    "duration": 203,
    "start_time": "2021-12-27T18:52:43.608Z"
   },
   {
    "duration": 9,
    "start_time": "2021-12-27T18:52:43.813Z"
   },
   {
    "duration": 212,
    "start_time": "2021-12-27T18:52:43.823Z"
   },
   {
    "duration": 8,
    "start_time": "2021-12-27T18:52:44.036Z"
   },
   {
    "duration": 221,
    "start_time": "2021-12-27T18:52:44.046Z"
   },
   {
    "duration": 210,
    "start_time": "2021-12-27T18:52:44.269Z"
   },
   {
    "duration": 384,
    "start_time": "2021-12-27T18:52:44.481Z"
   },
   {
    "duration": -518,
    "start_time": "2021-12-27T18:52:45.385Z"
   },
   {
    "duration": -520,
    "start_time": "2021-12-27T18:52:45.388Z"
   },
   {
    "duration": -521,
    "start_time": "2021-12-27T18:52:45.390Z"
   },
   {
    "duration": -522,
    "start_time": "2021-12-27T18:52:45.392Z"
   },
   {
    "duration": -523,
    "start_time": "2021-12-27T18:52:45.394Z"
   },
   {
    "duration": -525,
    "start_time": "2021-12-27T18:52:45.397Z"
   },
   {
    "duration": -527,
    "start_time": "2021-12-27T18:52:45.399Z"
   },
   {
    "duration": -529,
    "start_time": "2021-12-27T18:52:45.402Z"
   },
   {
    "duration": -534,
    "start_time": "2021-12-27T18:52:45.408Z"
   },
   {
    "duration": -537,
    "start_time": "2021-12-27T18:52:45.412Z"
   },
   {
    "duration": -538,
    "start_time": "2021-12-27T18:52:45.414Z"
   },
   {
    "duration": -539,
    "start_time": "2021-12-27T18:52:45.416Z"
   },
   {
    "duration": -528,
    "start_time": "2021-12-27T18:52:45.419Z"
   },
   {
    "duration": -529,
    "start_time": "2021-12-27T18:52:45.421Z"
   },
   {
    "duration": -531,
    "start_time": "2021-12-27T18:52:45.424Z"
   },
   {
    "duration": -532,
    "start_time": "2021-12-27T18:52:45.426Z"
   },
   {
    "duration": -534,
    "start_time": "2021-12-27T18:52:45.429Z"
   },
   {
    "duration": -534,
    "start_time": "2021-12-27T18:52:45.431Z"
   },
   {
    "duration": -536,
    "start_time": "2021-12-27T18:52:45.434Z"
   },
   {
    "duration": -537,
    "start_time": "2021-12-27T18:52:45.436Z"
   },
   {
    "duration": -543,
    "start_time": "2021-12-27T18:52:45.443Z"
   },
   {
    "duration": -544,
    "start_time": "2021-12-27T18:52:45.445Z"
   },
   {
    "duration": -546,
    "start_time": "2021-12-27T18:52:45.448Z"
   },
   {
    "duration": -547,
    "start_time": "2021-12-27T18:52:45.450Z"
   },
   {
    "duration": -548,
    "start_time": "2021-12-27T18:52:45.452Z"
   },
   {
    "duration": -550,
    "start_time": "2021-12-27T18:52:45.455Z"
   },
   {
    "duration": -551,
    "start_time": "2021-12-27T18:52:45.457Z"
   },
   {
    "duration": -552,
    "start_time": "2021-12-27T18:52:45.459Z"
   },
   {
    "duration": -554,
    "start_time": "2021-12-27T18:52:45.462Z"
   },
   {
    "duration": -555,
    "start_time": "2021-12-27T18:52:45.464Z"
   },
   {
    "duration": -556,
    "start_time": "2021-12-27T18:52:45.466Z"
   },
   {
    "duration": -558,
    "start_time": "2021-12-27T18:52:45.469Z"
   },
   {
    "duration": -558,
    "start_time": "2021-12-27T18:52:45.471Z"
   },
   {
    "duration": -560,
    "start_time": "2021-12-27T18:52:45.474Z"
   },
   {
    "duration": -561,
    "start_time": "2021-12-27T18:52:45.476Z"
   },
   {
    "duration": -562,
    "start_time": "2021-12-27T18:52:45.478Z"
   },
   {
    "duration": -563,
    "start_time": "2021-12-27T18:52:45.480Z"
   },
   {
    "duration": -564,
    "start_time": "2021-12-27T18:52:45.482Z"
   },
   {
    "duration": -565,
    "start_time": "2021-12-27T18:52:45.484Z"
   },
   {
    "duration": -566,
    "start_time": "2021-12-27T18:52:45.486Z"
   },
   {
    "duration": -567,
    "start_time": "2021-12-27T18:52:45.488Z"
   },
   {
    "duration": -573,
    "start_time": "2021-12-27T18:52:45.495Z"
   },
   {
    "duration": 1416,
    "start_time": "2021-12-27T18:52:53.445Z"
   },
   {
    "duration": 631,
    "start_time": "2021-12-27T18:53:47.128Z"
   },
   {
    "duration": 30,
    "start_time": "2021-12-27T18:53:47.761Z"
   },
   {
    "duration": 10,
    "start_time": "2021-12-27T18:53:47.793Z"
   },
   {
    "duration": 68,
    "start_time": "2021-12-27T18:53:47.805Z"
   },
   {
    "duration": 23,
    "start_time": "2021-12-27T18:53:47.875Z"
   },
   {
    "duration": 22,
    "start_time": "2021-12-27T18:53:47.899Z"
   },
   {
    "duration": 23,
    "start_time": "2021-12-27T18:53:47.923Z"
   },
   {
    "duration": 6,
    "start_time": "2021-12-27T18:53:47.947Z"
   },
   {
    "duration": 44,
    "start_time": "2021-12-27T18:53:47.955Z"
   },
   {
    "duration": 29,
    "start_time": "2021-12-27T18:53:48.001Z"
   },
   {
    "duration": 25,
    "start_time": "2021-12-27T18:53:48.032Z"
   },
   {
    "duration": 7,
    "start_time": "2021-12-27T18:53:48.058Z"
   },
   {
    "duration": 31,
    "start_time": "2021-12-27T18:53:48.066Z"
   },
   {
    "duration": 9,
    "start_time": "2021-12-27T18:53:48.098Z"
   },
   {
    "duration": 30,
    "start_time": "2021-12-27T18:53:48.109Z"
   },
   {
    "duration": 682,
    "start_time": "2021-12-27T18:53:48.141Z"
   },
   {
    "duration": 25,
    "start_time": "2021-12-27T18:53:48.824Z"
   },
   {
    "duration": 23,
    "start_time": "2021-12-27T18:53:48.851Z"
   },
   {
    "duration": 37,
    "start_time": "2021-12-27T18:53:48.876Z"
   },
   {
    "duration": 7,
    "start_time": "2021-12-27T18:53:48.915Z"
   },
   {
    "duration": 325,
    "start_time": "2021-12-27T18:53:48.924Z"
   },
   {
    "duration": 220,
    "start_time": "2021-12-27T18:53:49.251Z"
   },
   {
    "duration": 8,
    "start_time": "2021-12-27T18:53:49.473Z"
   },
   {
    "duration": 23,
    "start_time": "2021-12-27T18:53:49.491Z"
   },
   {
    "duration": 6,
    "start_time": "2021-12-27T18:53:49.515Z"
   },
   {
    "duration": 206,
    "start_time": "2021-12-27T18:53:49.522Z"
   },
   {
    "duration": 8,
    "start_time": "2021-12-27T18:53:49.732Z"
   },
   {
    "duration": 224,
    "start_time": "2021-12-27T18:53:49.743Z"
   },
   {
    "duration": 8,
    "start_time": "2021-12-27T18:53:49.969Z"
   },
   {
    "duration": 234,
    "start_time": "2021-12-27T18:53:49.979Z"
   },
   {
    "duration": 217,
    "start_time": "2021-12-27T18:53:50.215Z"
   },
   {
    "duration": 1500,
    "start_time": "2021-12-27T18:53:50.433Z"
   },
   {
    "duration": 2404,
    "start_time": "2021-12-27T18:53:51.935Z"
   },
   {
    "duration": 251,
    "start_time": "2021-12-27T18:53:54.340Z"
   },
   {
    "duration": 8,
    "start_time": "2021-12-27T18:53:54.592Z"
   },
   {
    "duration": 216,
    "start_time": "2021-12-27T18:53:54.602Z"
   },
   {
    "duration": 225,
    "start_time": "2021-12-27T18:53:54.820Z"
   },
   {
    "duration": 224,
    "start_time": "2021-12-27T18:53:55.047Z"
   },
   {
    "duration": 490,
    "start_time": "2021-12-27T18:53:55.272Z"
   },
   {
    "duration": 26,
    "start_time": "2021-12-27T18:53:55.765Z"
   },
   {
    "duration": 12,
    "start_time": "2021-12-27T18:53:55.794Z"
   },
   {
    "duration": 323,
    "start_time": "2021-12-27T18:53:55.809Z"
   },
   {
    "duration": 4,
    "start_time": "2021-12-27T18:53:56.134Z"
   },
   {
    "duration": 157,
    "start_time": "2021-12-27T18:53:56.140Z"
   },
   {
    "duration": 5,
    "start_time": "2021-12-27T18:53:56.299Z"
   },
   {
    "duration": 383,
    "start_time": "2021-12-27T18:53:56.305Z"
   },
   {
    "duration": 4,
    "start_time": "2021-12-27T18:53:56.689Z"
   },
   {
    "duration": 334,
    "start_time": "2021-12-27T18:53:56.695Z"
   },
   {
    "duration": 219,
    "start_time": "2021-12-27T18:53:57.031Z"
   },
   {
    "duration": 4,
    "start_time": "2021-12-27T18:53:57.252Z"
   },
   {
    "duration": 207,
    "start_time": "2021-12-27T18:53:57.257Z"
   },
   {
    "duration": 4,
    "start_time": "2021-12-27T18:53:57.466Z"
   },
   {
    "duration": 202,
    "start_time": "2021-12-27T18:53:57.471Z"
   },
   {
    "duration": 4,
    "start_time": "2021-12-27T18:53:57.675Z"
   },
   {
    "duration": 147,
    "start_time": "2021-12-27T18:53:57.691Z"
   },
   {
    "duration": 23,
    "start_time": "2021-12-27T18:53:57.839Z"
   },
   {
    "duration": 220,
    "start_time": "2021-12-27T18:53:57.863Z"
   },
   {
    "duration": 37,
    "start_time": "2021-12-27T18:53:58.085Z"
   },
   {
    "duration": 45,
    "start_time": "2021-12-27T18:53:58.123Z"
   },
   {
    "duration": 42,
    "start_time": "2021-12-27T18:53:58.171Z"
   },
   {
    "duration": 196,
    "start_time": "2021-12-27T18:53:58.215Z"
   },
   {
    "duration": 8,
    "start_time": "2021-12-27T18:53:58.413Z"
   },
   {
    "duration": 201,
    "start_time": "2021-12-27T18:53:58.423Z"
   },
   {
    "duration": 4,
    "start_time": "2021-12-27T18:53:58.627Z"
   },
   {
    "duration": 152,
    "start_time": "2021-12-27T18:53:58.634Z"
   },
   {
    "duration": 5,
    "start_time": "2021-12-27T18:53:58.788Z"
   },
   {
    "duration": 215,
    "start_time": "2021-12-27T18:53:58.795Z"
   },
   {
    "duration": 5,
    "start_time": "2021-12-27T18:53:59.012Z"
   },
   {
    "duration": 227,
    "start_time": "2021-12-27T18:53:59.019Z"
   },
   {
    "duration": 5,
    "start_time": "2021-12-27T18:53:59.249Z"
   },
   {
    "duration": 274,
    "start_time": "2021-12-27T18:53:59.256Z"
   },
   {
    "duration": 5,
    "start_time": "2021-12-27T18:53:59.532Z"
   },
   {
    "duration": 316,
    "start_time": "2021-12-27T18:53:59.539Z"
   },
   {
    "duration": 4,
    "start_time": "2021-12-27T18:53:59.857Z"
   },
   {
    "duration": 691,
    "start_time": "2021-12-27T18:57:19.264Z"
   },
   {
    "duration": 21,
    "start_time": "2021-12-27T18:57:19.957Z"
   },
   {
    "duration": 20,
    "start_time": "2021-12-27T18:57:19.980Z"
   },
   {
    "duration": 72,
    "start_time": "2021-12-27T18:57:20.002Z"
   },
   {
    "duration": 9,
    "start_time": "2021-12-27T18:57:20.092Z"
   },
   {
    "duration": 23,
    "start_time": "2021-12-27T18:57:20.102Z"
   },
   {
    "duration": 38,
    "start_time": "2021-12-27T18:57:20.126Z"
   },
   {
    "duration": 26,
    "start_time": "2021-12-27T18:57:20.167Z"
   },
   {
    "duration": 23,
    "start_time": "2021-12-27T18:57:20.195Z"
   },
   {
    "duration": 28,
    "start_time": "2021-12-27T18:57:20.219Z"
   },
   {
    "duration": 63,
    "start_time": "2021-12-27T18:57:20.249Z"
   },
   {
    "duration": 7,
    "start_time": "2021-12-27T18:57:20.314Z"
   },
   {
    "duration": 8,
    "start_time": "2021-12-27T18:57:20.322Z"
   },
   {
    "duration": 8,
    "start_time": "2021-12-27T18:57:20.332Z"
   },
   {
    "duration": 64,
    "start_time": "2021-12-27T18:57:20.342Z"
   },
   {
    "duration": 589,
    "start_time": "2021-12-27T18:57:20.409Z"
   },
   {
    "duration": 25,
    "start_time": "2021-12-27T18:57:21.000Z"
   },
   {
    "duration": 25,
    "start_time": "2021-12-27T18:57:21.028Z"
   },
   {
    "duration": 51,
    "start_time": "2021-12-27T18:57:21.055Z"
   },
   {
    "duration": 9,
    "start_time": "2021-12-27T18:57:21.108Z"
   },
   {
    "duration": 327,
    "start_time": "2021-12-27T18:57:21.119Z"
   },
   {
    "duration": 215,
    "start_time": "2021-12-27T18:57:21.448Z"
   },
   {
    "duration": 9,
    "start_time": "2021-12-27T18:57:21.668Z"
   },
   {
    "duration": 23,
    "start_time": "2021-12-27T18:57:21.694Z"
   },
   {
    "duration": 6,
    "start_time": "2021-12-27T18:57:21.719Z"
   },
   {
    "duration": 216,
    "start_time": "2021-12-27T18:57:21.726Z"
   },
   {
    "duration": 9,
    "start_time": "2021-12-27T18:57:21.944Z"
   },
   {
    "duration": 221,
    "start_time": "2021-12-27T18:57:21.954Z"
   },
   {
    "duration": 16,
    "start_time": "2021-12-27T18:57:22.176Z"
   },
   {
    "duration": 222,
    "start_time": "2021-12-27T18:57:22.194Z"
   },
   {
    "duration": 222,
    "start_time": "2021-12-27T18:57:22.417Z"
   },
   {
    "duration": 1491,
    "start_time": "2021-12-27T18:57:22.640Z"
   },
   {
    "duration": 2418,
    "start_time": "2021-12-27T18:57:24.132Z"
   },
   {
    "duration": 261,
    "start_time": "2021-12-27T18:57:26.552Z"
   },
   {
    "duration": 10,
    "start_time": "2021-12-27T18:57:26.815Z"
   },
   {
    "duration": 218,
    "start_time": "2021-12-27T18:57:26.827Z"
   },
   {
    "duration": 223,
    "start_time": "2021-12-27T18:57:27.047Z"
   },
   {
    "duration": 221,
    "start_time": "2021-12-27T18:57:27.272Z"
   },
   {
    "duration": 513,
    "start_time": "2021-12-27T18:57:27.495Z"
   },
   {
    "duration": 16,
    "start_time": "2021-12-27T18:57:28.010Z"
   },
   {
    "duration": 12,
    "start_time": "2021-12-27T18:57:28.028Z"
   },
   {
    "duration": 391,
    "start_time": "2021-12-27T18:57:28.042Z"
   },
   {
    "duration": 4,
    "start_time": "2021-12-27T18:57:28.435Z"
   },
   {
    "duration": 157,
    "start_time": "2021-12-27T18:57:28.441Z"
   },
   {
    "duration": 4,
    "start_time": "2021-12-27T18:57:28.600Z"
   },
   {
    "duration": 379,
    "start_time": "2021-12-27T18:57:28.605Z"
   },
   {
    "duration": 7,
    "start_time": "2021-12-27T18:57:28.986Z"
   },
   {
    "duration": 358,
    "start_time": "2021-12-27T18:57:28.994Z"
   },
   {
    "duration": 226,
    "start_time": "2021-12-27T18:57:29.353Z"
   },
   {
    "duration": 4,
    "start_time": "2021-12-27T18:57:29.580Z"
   },
   {
    "duration": 202,
    "start_time": "2021-12-27T18:57:29.591Z"
   },
   {
    "duration": 5,
    "start_time": "2021-12-27T18:57:29.795Z"
   },
   {
    "duration": 209,
    "start_time": "2021-12-27T18:57:29.801Z"
   },
   {
    "duration": 4,
    "start_time": "2021-12-27T18:57:30.013Z"
   },
   {
    "duration": 172,
    "start_time": "2021-12-27T18:57:30.019Z"
   },
   {
    "duration": 25,
    "start_time": "2021-12-27T18:57:30.192Z"
   },
   {
    "duration": 235,
    "start_time": "2021-12-27T18:57:30.219Z"
   },
   {
    "duration": 39,
    "start_time": "2021-12-27T18:57:30.457Z"
   },
   {
    "duration": 68,
    "start_time": "2021-12-27T18:57:30.498Z"
   },
   {
    "duration": 24,
    "start_time": "2021-12-27T18:57:30.568Z"
   },
   {
    "duration": 194,
    "start_time": "2021-12-27T18:57:30.594Z"
   },
   {
    "duration": 7,
    "start_time": "2021-12-27T18:57:30.791Z"
   },
   {
    "duration": 199,
    "start_time": "2021-12-27T18:57:30.799Z"
   },
   {
    "duration": 4,
    "start_time": "2021-12-27T18:57:30.999Z"
   },
   {
    "duration": 162,
    "start_time": "2021-12-27T18:57:31.005Z"
   },
   {
    "duration": 5,
    "start_time": "2021-12-27T18:57:31.169Z"
   },
   {
    "duration": 234,
    "start_time": "2021-12-27T18:57:31.176Z"
   },
   {
    "duration": 4,
    "start_time": "2021-12-27T18:57:31.416Z"
   },
   {
    "duration": 241,
    "start_time": "2021-12-27T18:57:31.422Z"
   },
   {
    "duration": 5,
    "start_time": "2021-12-27T18:57:31.665Z"
   },
   {
    "duration": 284,
    "start_time": "2021-12-27T18:57:31.672Z"
   },
   {
    "duration": 5,
    "start_time": "2021-12-27T18:57:31.958Z"
   },
   {
    "duration": 356,
    "start_time": "2021-12-27T18:57:31.965Z"
   },
   {
    "duration": 4,
    "start_time": "2021-12-27T18:57:32.323Z"
   },
   {
    "duration": 240,
    "start_time": "2021-12-27T18:59:56.281Z"
   },
   {
    "duration": 206,
    "start_time": "2021-12-27T19:00:09.742Z"
   },
   {
    "duration": 16,
    "start_time": "2021-12-27T19:00:19.273Z"
   },
   {
    "duration": 13,
    "start_time": "2021-12-27T19:00:33.824Z"
   },
   {
    "duration": 11980,
    "start_time": "2021-12-27T19:01:52.685Z"
   },
   {
    "duration": 14,
    "start_time": "2021-12-27T19:02:22.747Z"
   },
   {
    "duration": 12457,
    "start_time": "2021-12-27T19:02:42.778Z"
   },
   {
    "duration": 187,
    "start_time": "2021-12-27T19:04:06.055Z"
   },
   {
    "duration": 188,
    "start_time": "2021-12-27T19:04:15.017Z"
   },
   {
    "duration": 188,
    "start_time": "2021-12-27T19:05:15.765Z"
   },
   {
    "duration": 196,
    "start_time": "2021-12-27T19:05:52.345Z"
   },
   {
    "duration": 635,
    "start_time": "2021-12-27T19:05:59.147Z"
   },
   {
    "duration": 22,
    "start_time": "2021-12-27T19:05:59.784Z"
   },
   {
    "duration": 19,
    "start_time": "2021-12-27T19:05:59.808Z"
   },
   {
    "duration": 81,
    "start_time": "2021-12-27T19:05:59.829Z"
   },
   {
    "duration": 8,
    "start_time": "2021-12-27T19:05:59.912Z"
   },
   {
    "duration": 26,
    "start_time": "2021-12-27T19:05:59.922Z"
   },
   {
    "duration": 46,
    "start_time": "2021-12-27T19:05:59.950Z"
   },
   {
    "duration": 7,
    "start_time": "2021-12-27T19:05:59.999Z"
   },
   {
    "duration": 27,
    "start_time": "2021-12-27T19:06:00.009Z"
   },
   {
    "duration": 30,
    "start_time": "2021-12-27T19:06:00.038Z"
   },
   {
    "duration": 46,
    "start_time": "2021-12-27T19:06:00.071Z"
   },
   {
    "duration": 8,
    "start_time": "2021-12-27T19:06:00.119Z"
   },
   {
    "duration": 16,
    "start_time": "2021-12-27T19:06:00.128Z"
   },
   {
    "duration": 12,
    "start_time": "2021-12-27T19:06:00.146Z"
   },
   {
    "duration": 60,
    "start_time": "2021-12-27T19:06:00.160Z"
   },
   {
    "duration": 572,
    "start_time": "2021-12-27T19:06:00.222Z"
   },
   {
    "duration": 25,
    "start_time": "2021-12-27T19:06:00.796Z"
   },
   {
    "duration": 26,
    "start_time": "2021-12-27T19:06:00.822Z"
   },
   {
    "duration": 52,
    "start_time": "2021-12-27T19:06:00.849Z"
   },
   {
    "duration": 9,
    "start_time": "2021-12-27T19:06:00.903Z"
   },
   {
    "duration": 327,
    "start_time": "2021-12-27T19:06:00.913Z"
   },
   {
    "duration": 252,
    "start_time": "2021-12-27T19:06:01.242Z"
   },
   {
    "duration": 10,
    "start_time": "2021-12-27T19:06:01.500Z"
   },
   {
    "duration": 39,
    "start_time": "2021-12-27T19:06:01.513Z"
   },
   {
    "duration": 25,
    "start_time": "2021-12-27T19:06:01.554Z"
   },
   {
    "duration": 222,
    "start_time": "2021-12-27T19:06:01.581Z"
   },
   {
    "duration": 9,
    "start_time": "2021-12-27T19:06:01.804Z"
   },
   {
    "duration": 214,
    "start_time": "2021-12-27T19:06:01.815Z"
   },
   {
    "duration": 8,
    "start_time": "2021-12-27T19:06:02.031Z"
   },
   {
    "duration": 231,
    "start_time": "2021-12-27T19:06:02.041Z"
   },
   {
    "duration": 219,
    "start_time": "2021-12-27T19:06:02.274Z"
   },
   {
    "duration": 1474,
    "start_time": "2021-12-27T19:06:02.495Z"
   },
   {
    "duration": 2829,
    "start_time": "2021-12-27T19:06:03.971Z"
   },
   {
    "duration": 269,
    "start_time": "2021-12-27T19:06:06.802Z"
   },
   {
    "duration": 8,
    "start_time": "2021-12-27T19:06:07.073Z"
   },
   {
    "duration": 210,
    "start_time": "2021-12-27T19:06:07.091Z"
   },
   {
    "duration": 224,
    "start_time": "2021-12-27T19:06:07.303Z"
   },
   {
    "duration": 223,
    "start_time": "2021-12-27T19:06:07.528Z"
   },
   {
    "duration": 504,
    "start_time": "2021-12-27T19:06:07.753Z"
   },
   {
    "duration": 12,
    "start_time": "2021-12-27T19:06:08.259Z"
   },
   {
    "duration": 27,
    "start_time": "2021-12-27T19:06:08.273Z"
   },
   {
    "duration": 361,
    "start_time": "2021-12-27T19:06:08.302Z"
   },
   {
    "duration": 5,
    "start_time": "2021-12-27T19:06:08.666Z"
   },
   {
    "duration": 172,
    "start_time": "2021-12-27T19:06:08.673Z"
   },
   {
    "duration": 5,
    "start_time": "2021-12-27T19:06:08.846Z"
   },
   {
    "duration": 457,
    "start_time": "2021-12-27T19:06:08.852Z"
   },
   {
    "duration": 5,
    "start_time": "2021-12-27T19:06:09.312Z"
   },
   {
    "duration": 440,
    "start_time": "2021-12-27T19:06:09.320Z"
   },
   {
    "duration": 247,
    "start_time": "2021-12-27T19:06:09.762Z"
   },
   {
    "duration": 5,
    "start_time": "2021-12-27T19:06:10.011Z"
   },
   {
    "duration": 238,
    "start_time": "2021-12-27T19:06:10.018Z"
   },
   {
    "duration": 5,
    "start_time": "2021-12-27T19:06:10.258Z"
   },
   {
    "duration": 211,
    "start_time": "2021-12-27T19:06:10.265Z"
   },
   {
    "duration": 4,
    "start_time": "2021-12-27T19:06:10.478Z"
   },
   {
    "duration": 165,
    "start_time": "2021-12-27T19:06:10.484Z"
   },
   {
    "duration": 12,
    "start_time": "2021-12-27T19:06:10.651Z"
   },
   {
    "duration": 12813,
    "start_time": "2021-12-27T19:06:10.664Z"
   },
   {
    "duration": 35,
    "start_time": "2021-12-27T19:06:23.479Z"
   },
   {
    "duration": 219,
    "start_time": "2021-12-27T19:06:23.515Z"
   },
   {
    "duration": 29,
    "start_time": "2021-12-27T19:06:23.736Z"
   },
   {
    "duration": 60,
    "start_time": "2021-12-27T19:06:23.767Z"
   },
   {
    "duration": 23,
    "start_time": "2021-12-27T19:06:23.829Z"
   },
   {
    "duration": 205,
    "start_time": "2021-12-27T19:06:23.853Z"
   },
   {
    "duration": 197,
    "start_time": "2021-12-27T19:06:24.059Z"
   },
   {
    "duration": 8,
    "start_time": "2021-12-27T19:06:24.258Z"
   },
   {
    "duration": 197,
    "start_time": "2021-12-27T19:06:24.267Z"
   },
   {
    "duration": 4,
    "start_time": "2021-12-27T19:06:24.466Z"
   },
   {
    "duration": 145,
    "start_time": "2021-12-27T19:06:24.491Z"
   },
   {
    "duration": 3,
    "start_time": "2021-12-27T19:06:24.638Z"
   },
   {
    "duration": 212,
    "start_time": "2021-12-27T19:06:24.643Z"
   },
   {
    "duration": 4,
    "start_time": "2021-12-27T19:06:24.856Z"
   },
   {
    "duration": 232,
    "start_time": "2021-12-27T19:06:24.862Z"
   },
   {
    "duration": 5,
    "start_time": "2021-12-27T19:06:25.095Z"
   },
   {
    "duration": 212,
    "start_time": "2021-12-27T19:06:25.101Z"
   },
   {
    "duration": 4,
    "start_time": "2021-12-27T19:06:25.315Z"
   },
   {
    "duration": 317,
    "start_time": "2021-12-27T19:06:25.320Z"
   },
   {
    "duration": 4,
    "start_time": "2021-12-27T19:06:25.639Z"
   },
   {
    "duration": 316,
    "start_time": "2021-12-27T19:10:17.811Z"
   },
   {
    "duration": 178,
    "start_time": "2021-12-27T19:12:38.877Z"
   },
   {
    "duration": 201,
    "start_time": "2021-12-27T19:13:15.396Z"
   },
   {
    "duration": 4554,
    "start_time": "2021-12-27T19:13:33.190Z"
   },
   {
    "duration": 363,
    "start_time": "2021-12-27T19:13:38.413Z"
   },
   {
    "duration": 189,
    "start_time": "2021-12-27T19:14:10.720Z"
   },
   {
    "duration": 184,
    "start_time": "2021-12-27T19:14:14.610Z"
   },
   {
    "duration": 182,
    "start_time": "2021-12-27T19:14:17.548Z"
   },
   {
    "duration": 184,
    "start_time": "2021-12-27T19:14:22.103Z"
   },
   {
    "duration": 193,
    "start_time": "2021-12-27T19:14:24.911Z"
   },
   {
    "duration": 195,
    "start_time": "2021-12-27T19:14:33.779Z"
   },
   {
    "duration": 203,
    "start_time": "2021-12-27T19:15:10.922Z"
   },
   {
    "duration": 206,
    "start_time": "2021-12-27T19:15:40.828Z"
   },
   {
    "duration": 184,
    "start_time": "2021-12-27T19:16:22.610Z"
   },
   {
    "duration": 191,
    "start_time": "2021-12-27T19:16:33.352Z"
   },
   {
    "duration": 212,
    "start_time": "2021-12-27T19:16:37.050Z"
   },
   {
    "duration": 206,
    "start_time": "2021-12-27T19:17:39.709Z"
   },
   {
    "duration": 197,
    "start_time": "2021-12-27T19:17:53.698Z"
   },
   {
    "duration": 199,
    "start_time": "2021-12-27T19:18:42.877Z"
   },
   {
    "duration": 198,
    "start_time": "2021-12-27T19:19:03.331Z"
   },
   {
    "duration": 322,
    "start_time": "2021-12-27T19:19:15.694Z"
   },
   {
    "duration": 196,
    "start_time": "2021-12-27T19:19:38.530Z"
   },
   {
    "duration": 203,
    "start_time": "2021-12-27T19:19:47.918Z"
   },
   {
    "duration": 210,
    "start_time": "2021-12-27T19:19:57.981Z"
   },
   {
    "duration": 208,
    "start_time": "2021-12-27T19:52:59.712Z"
   },
   {
    "duration": 204,
    "start_time": "2021-12-27T19:53:17.412Z"
   },
   {
    "duration": 244,
    "start_time": "2021-12-27T19:57:31.319Z"
   },
   {
    "duration": 224,
    "start_time": "2021-12-27T20:01:20.096Z"
   },
   {
    "duration": 204,
    "start_time": "2021-12-27T20:01:31.000Z"
   },
   {
    "duration": 212,
    "start_time": "2021-12-27T20:02:14.602Z"
   },
   {
    "duration": 193,
    "start_time": "2021-12-27T20:02:24.908Z"
   },
   {
    "duration": 193,
    "start_time": "2021-12-27T20:02:52.231Z"
   },
   {
    "duration": 188,
    "start_time": "2021-12-27T20:02:57.373Z"
   },
   {
    "duration": 206,
    "start_time": "2021-12-27T20:03:03.679Z"
   },
   {
    "duration": 208,
    "start_time": "2021-12-27T20:03:15.587Z"
   },
   {
    "duration": 212,
    "start_time": "2021-12-27T20:03:28.488Z"
   },
   {
    "duration": 363,
    "start_time": "2021-12-27T20:03:41.039Z"
   },
   {
    "duration": 311,
    "start_time": "2021-12-27T20:04:03.467Z"
   },
   {
    "duration": 184,
    "start_time": "2021-12-27T20:05:06.101Z"
   },
   {
    "duration": 21,
    "start_time": "2021-12-27T20:05:10.105Z"
   },
   {
    "duration": 191,
    "start_time": "2021-12-27T20:06:14.238Z"
   },
   {
    "duration": 219,
    "start_time": "2021-12-27T20:06:24.862Z"
   },
   {
    "duration": 223,
    "start_time": "2021-12-27T20:06:33.697Z"
   },
   {
    "duration": 216,
    "start_time": "2021-12-27T20:06:37.656Z"
   },
   {
    "duration": 224,
    "start_time": "2021-12-27T20:06:41.200Z"
   },
   {
    "duration": 398,
    "start_time": "2021-12-27T20:06:53.388Z"
   },
   {
    "duration": 386,
    "start_time": "2021-12-27T20:06:57.121Z"
   },
   {
    "duration": 4342,
    "start_time": "2021-12-27T20:07:07.443Z"
   },
   {
    "duration": 402,
    "start_time": "2021-12-27T20:07:19.535Z"
   },
   {
    "duration": 262,
    "start_time": "2021-12-27T20:07:55.320Z"
   },
   {
    "duration": 264,
    "start_time": "2021-12-27T20:08:07.801Z"
   },
   {
    "duration": 270,
    "start_time": "2021-12-27T20:08:11.169Z"
   },
   {
    "duration": 330,
    "start_time": "2021-12-27T20:08:23.161Z"
   },
   {
    "duration": 157,
    "start_time": "2021-12-27T20:09:12.059Z"
   },
   {
    "duration": 167,
    "start_time": "2021-12-27T20:09:21.409Z"
   },
   {
    "duration": 162,
    "start_time": "2021-12-27T20:09:35.122Z"
   },
   {
    "duration": 161,
    "start_time": "2021-12-27T20:09:45.026Z"
   },
   {
    "duration": 159,
    "start_time": "2021-12-27T20:09:54.059Z"
   },
   {
    "duration": 284,
    "start_time": "2021-12-27T20:10:02.684Z"
   },
   {
    "duration": 653,
    "start_time": "2021-12-27T20:11:03.221Z"
   },
   {
    "duration": 26,
    "start_time": "2021-12-27T20:11:03.875Z"
   },
   {
    "duration": 21,
    "start_time": "2021-12-27T20:11:03.903Z"
   },
   {
    "duration": 81,
    "start_time": "2021-12-27T20:11:03.926Z"
   },
   {
    "duration": 8,
    "start_time": "2021-12-27T20:11:04.009Z"
   },
   {
    "duration": 26,
    "start_time": "2021-12-27T20:11:04.019Z"
   },
   {
    "duration": 46,
    "start_time": "2021-12-27T20:11:04.047Z"
   },
   {
    "duration": 6,
    "start_time": "2021-12-27T20:11:04.095Z"
   },
   {
    "duration": 22,
    "start_time": "2021-12-27T20:11:04.103Z"
   },
   {
    "duration": 29,
    "start_time": "2021-12-27T20:11:04.127Z"
   },
   {
    "duration": 45,
    "start_time": "2021-12-27T20:11:04.158Z"
   },
   {
    "duration": 7,
    "start_time": "2021-12-27T20:11:04.205Z"
   },
   {
    "duration": 11,
    "start_time": "2021-12-27T20:11:04.213Z"
   },
   {
    "duration": 11,
    "start_time": "2021-12-27T20:11:04.226Z"
   },
   {
    "duration": 52,
    "start_time": "2021-12-27T20:11:04.239Z"
   },
   {
    "duration": 569,
    "start_time": "2021-12-27T20:11:04.293Z"
   },
   {
    "duration": 28,
    "start_time": "2021-12-27T20:11:04.864Z"
   },
   {
    "duration": 24,
    "start_time": "2021-12-27T20:11:04.894Z"
   },
   {
    "duration": 25,
    "start_time": "2021-12-27T20:11:04.919Z"
   },
   {
    "duration": 10,
    "start_time": "2021-12-27T20:11:04.946Z"
   },
   {
    "duration": 333,
    "start_time": "2021-12-27T20:11:04.958Z"
   },
   {
    "duration": 207,
    "start_time": "2021-12-27T20:11:05.292Z"
   },
   {
    "duration": 9,
    "start_time": "2021-12-27T20:11:05.502Z"
   },
   {
    "duration": 24,
    "start_time": "2021-12-27T20:11:05.513Z"
   },
   {
    "duration": 6,
    "start_time": "2021-12-27T20:11:05.538Z"
   },
   {
    "duration": 213,
    "start_time": "2021-12-27T20:11:05.546Z"
   },
   {
    "duration": 8,
    "start_time": "2021-12-27T20:11:05.761Z"
   },
   {
    "duration": 211,
    "start_time": "2021-12-27T20:11:05.771Z"
   },
   {
    "duration": 14,
    "start_time": "2021-12-27T20:11:05.984Z"
   },
   {
    "duration": 218,
    "start_time": "2021-12-27T20:11:05.999Z"
   },
   {
    "duration": 215,
    "start_time": "2021-12-27T20:11:06.219Z"
   },
   {
    "duration": 1473,
    "start_time": "2021-12-27T20:11:06.436Z"
   },
   {
    "duration": 2407,
    "start_time": "2021-12-27T20:11:07.910Z"
   },
   {
    "duration": 258,
    "start_time": "2021-12-27T20:11:10.318Z"
   },
   {
    "duration": 17,
    "start_time": "2021-12-27T20:11:10.577Z"
   },
   {
    "duration": 211,
    "start_time": "2021-12-27T20:11:10.595Z"
   },
   {
    "duration": 213,
    "start_time": "2021-12-27T20:11:10.808Z"
   },
   {
    "duration": 213,
    "start_time": "2021-12-27T20:11:11.023Z"
   },
   {
    "duration": 505,
    "start_time": "2021-12-27T20:11:11.238Z"
   },
   {
    "duration": 13,
    "start_time": "2021-12-27T20:11:11.744Z"
   },
   {
    "duration": 12,
    "start_time": "2021-12-27T20:11:11.758Z"
   },
   {
    "duration": 339,
    "start_time": "2021-12-27T20:11:11.791Z"
   },
   {
    "duration": 5,
    "start_time": "2021-12-27T20:11:12.131Z"
   },
   {
    "duration": 160,
    "start_time": "2021-12-27T20:11:12.138Z"
   },
   {
    "duration": 4,
    "start_time": "2021-12-27T20:11:12.300Z"
   },
   {
    "duration": 381,
    "start_time": "2021-12-27T20:11:12.305Z"
   },
   {
    "duration": 4,
    "start_time": "2021-12-27T20:11:12.691Z"
   },
   {
    "duration": 343,
    "start_time": "2021-12-27T20:11:12.697Z"
   },
   {
    "duration": 223,
    "start_time": "2021-12-27T20:11:13.042Z"
   },
   {
    "duration": 5,
    "start_time": "2021-12-27T20:11:13.267Z"
   },
   {
    "duration": 211,
    "start_time": "2021-12-27T20:11:13.274Z"
   },
   {
    "duration": 6,
    "start_time": "2021-12-27T20:11:13.487Z"
   },
   {
    "duration": 204,
    "start_time": "2021-12-27T20:11:13.495Z"
   },
   {
    "duration": 4,
    "start_time": "2021-12-27T20:11:13.701Z"
   },
   {
    "duration": 161,
    "start_time": "2021-12-27T20:11:13.707Z"
   },
   {
    "duration": 23,
    "start_time": "2021-12-27T20:11:13.870Z"
   },
   {
    "duration": 12068,
    "start_time": "2021-12-27T20:11:13.894Z"
   },
   {
    "duration": 37,
    "start_time": "2021-12-27T20:11:25.964Z"
   },
   {
    "duration": 212,
    "start_time": "2021-12-27T20:11:26.002Z"
   },
   {
    "duration": 28,
    "start_time": "2021-12-27T20:11:26.215Z"
   },
   {
    "duration": 64,
    "start_time": "2021-12-27T20:11:26.245Z"
   },
   {
    "duration": 21,
    "start_time": "2021-12-27T20:11:26.311Z"
   },
   {
    "duration": 191,
    "start_time": "2021-12-27T20:11:26.334Z"
   },
   {
    "duration": 185,
    "start_time": "2021-12-27T20:11:26.527Z"
   },
   {
    "duration": 7,
    "start_time": "2021-12-27T20:11:26.714Z"
   },
   {
    "duration": 216,
    "start_time": "2021-12-27T20:11:26.723Z"
   },
   {
    "duration": 5,
    "start_time": "2021-12-27T20:11:26.940Z"
   },
   {
    "duration": 167,
    "start_time": "2021-12-27T20:11:26.949Z"
   },
   {
    "duration": 5,
    "start_time": "2021-12-27T20:11:27.118Z"
   },
   {
    "duration": 221,
    "start_time": "2021-12-27T20:11:27.125Z"
   },
   {
    "duration": 4,
    "start_time": "2021-12-27T20:11:27.348Z"
   },
   {
    "duration": 242,
    "start_time": "2021-12-27T20:11:27.353Z"
   },
   {
    "duration": 4,
    "start_time": "2021-12-27T20:11:27.597Z"
   },
   {
    "duration": 219,
    "start_time": "2021-12-27T20:11:27.603Z"
   },
   {
    "duration": 4,
    "start_time": "2021-12-27T20:11:27.824Z"
   },
   {
    "duration": 324,
    "start_time": "2021-12-27T20:11:27.830Z"
   },
   {
    "duration": 5,
    "start_time": "2021-12-27T20:11:28.155Z"
   },
   {
    "duration": 280,
    "start_time": "2021-12-27T20:11:28.161Z"
   },
   {
    "duration": 49,
    "start_time": "2021-12-27T20:11:28.443Z"
   }
  ],
  "kernelspec": {
   "display_name": "Python 3 (ipykernel)",
   "language": "python",
   "name": "python3"
  },
  "language_info": {
   "codemirror_mode": {
    "name": "ipython",
    "version": 3
   },
   "file_extension": ".py",
   "mimetype": "text/x-python",
   "name": "python",
   "nbconvert_exporter": "python",
   "pygments_lexer": "ipython3",
   "version": "3.9.7"
  },
  "toc": {
   "base_numbering": 1,
   "nav_menu": {},
   "number_sections": true,
   "sideBar": true,
   "skip_h1_title": true,
   "title_cell": "Содержание",
   "title_sidebar": "Contents",
   "toc_cell": true,
   "toc_position": {
    "height": "calc(100% - 180px)",
    "left": "10px",
    "top": "150px",
    "width": "165px"
   },
   "toc_section_display": true,
   "toc_window_display": true
  }
 },
 "nbformat": 4,
 "nbformat_minor": 2
}
